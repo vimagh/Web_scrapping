{
 "cells": [
  {
   "cell_type": "code",
   "execution_count": 3,
   "id": "af18f75e",
   "metadata": {},
   "outputs": [
    {
     "data": {
      "text/html": [
       "        <script type=\"text/javascript\">\n",
       "        window.PlotlyConfig = {MathJaxConfig: 'local'};\n",
       "        if (window.MathJax) {MathJax.Hub.Config({SVG: {font: \"STIX-Web\"}});}\n",
       "        if (typeof require !== 'undefined') {\n",
       "        require.undef(\"plotly\");\n",
       "        requirejs.config({\n",
       "            paths: {\n",
       "                'plotly': ['https://cdn.plot.ly/plotly-2.9.0.min']\n",
       "            }\n",
       "        });\n",
       "        require(['plotly'], function(Plotly) {\n",
       "            window._Plotly = Plotly;\n",
       "        });\n",
       "        }\n",
       "        </script>\n",
       "        "
      ]
     },
     "metadata": {},
     "output_type": "display_data"
    }
   ],
   "source": [
    "import requests as r\n",
    "from bs4 import BeautifulSoup\n",
    "import pandas as pd\n",
    "import plotly.express as px\n",
    "import plotly.offline as po\n",
    "po.init_notebook_mode(connected = True)"
   ]
  },
  {
   "cell_type": "code",
   "execution_count": 5,
   "id": "4b3172f8",
   "metadata": {},
   "outputs": [],
   "source": [
    "# URL links\n",
    "url_link = ['https://www.goodfirms.co/directory/cms/top-website-development-companies', \n",
    "            'https://www.goodfirms.co/directory/cms/top-website-development-companies?page=2', \n",
    "            'https://www.goodfirms.co/directory/cms/top-website-development-companies?page=3']\n",
    "# Acess web\n",
    "access = [r.get(url) for url in url_link]"
   ]
  },
  {
   "cell_type": "code",
   "execution_count": 6,
   "id": "ee21c639",
   "metadata": {},
   "outputs": [
    {
     "data": {
      "text/plain": [
       "<Response [200]>"
      ]
     },
     "execution_count": 6,
     "metadata": {},
     "output_type": "execute_result"
    }
   ],
   "source": [
    "access[0]"
   ]
  },
  {
   "cell_type": "code",
   "execution_count": 9,
   "id": "5ddca001",
   "metadata": {},
   "outputs": [],
   "source": [
    "# Saving webpage to PC\n",
    "# you can manually save webpage with ctrl S on the webpage\n",
    "for page in access:\n",
    "    index = access.index(page)+1\n",
    "    with open(f'page{index}.html', mode = 'wb') as file:\n",
    "        file.write(page.content)"
   ]
  },
  {
   "cell_type": "code",
   "execution_count": 41,
   "id": "26a3e136",
   "metadata": {},
   "outputs": [
    {
     "data": {
      "text/html": [
       "<!DOCTYPE html>\n",
       "<html lang=\"en\" dir=\"ltr\">\n",
       "<head>\n",
       "<script type=\"text/javascript\">\n",
       "            var curl = window.location.host;\n",
       "            if(curl == 'goodfirms.info' || curl == 'www.goodfirms.info')\n",
       "            {\n",
       "                window.location.replace('http://staticsitetemp.s3-website-us-east-1.amazonaws.com/');\n",
       "            }\n",
       "        </script>\n",
       "<meta http-equiv=\"Content-Type\" content=\"text/html; charset=utf-8\" />\n",
       "<meta http-equiv=\"X-UA-Compatible\" content=\"IE=edge\">\n",
       "<meta name=\"viewport\" content=\"width=device-width, initial-scale=1.0\">\n",
       "<meta http-equiv=\"x-dns-prefetch-control\" content=\"on\">\n",
       "<meta name=\"keywords\" content=\"web development, web development companies, top web development company, top web developers, website development, web developer\"> <meta name=\"google-site-verification\" content=\"JgcnRyITkSpI2nybSFAS9fsfuXKjPRgV3OwH3bOc8Lc\" />\n",
       "\n",
       "<link rel=\"shortcut icon\" href=\"/img/favicon.ico\">\n",
       "<title>Top Web Development Companies - Reviews 2023 | GoodFirms</title>\n",
       "<meta name=\"description\" content=\"Discover the list of top web development companies with reviews. Hire the top web developers that fit your custom website development services needs.\" /><link href=\"https://www.goodfirms.co/directory/cms/top-website-development-companies\" rel=\"canonical\" /> <style>\n",
       "html{font-family:-apple-system,BlinkMacSystemFont,\"Segoe UI\",Roboto,Helvetica,Arial,sans-serif,\"Apple Color Emoji\",\"Segoe UI Emoji\",\"Segoe UI Symbol\";-webkit-text-size-adjust:100%;-ms-text-size-adjust:100%;font-size:16px;-webkit-tap-highlight-color:transparent}body{font-size:16px;color:#333;line-height:1.5;background:#fff;color:#333;margin:0;font-family:-apple-system,BlinkMacSystemFont,\"Segoe UI\",Roboto,Helvetica,Arial,sans-serif,\"Apple Color Emoji\",\"Segoe UI Emoji\",\"Segoe UI Symbol\"}a{background-color:transparent}a:active,a:hover{outline:0}b{font-weight:700}img{border:0}svg:not(:root){overflow:hidden}label{font-size:14px;color:#727c96;display:block}input::-moz-focus-inner{padding:0;border:0}.theme-bg{background:#f5f5f5}@media print{*,:after,:before{color:#000!important;text-shadow:none!important;background:0 0!important;-webkit-box-shadow:none!important;box-shadow:none!important}a,a:visited{text-decoration:underline}a[href]:after{content:\" (\" attr(href) \")\"}a[href^=\"javascript:\"]:after{content:\"\"}img{page-break-inside:avoid;max-width:100%!important}.navbar{display:none}}*{-webkit-box-sizing:border-box;-moz-box-sizing:border-box;box-sizing:border-box}:after,:before{-webkit-box-sizing:border-box;-moz-box-sizing:border-box;box-sizing:border-box}input{font-family:inherit;font-size:inherit;line-height:inherit;margin:0;outline:0;color:inherit}input[type=checkbox],input[type=radio]{margin:4px 0 0 0;line-height:normal}a{color:#3a7af3;text-decoration:none}a:focus,a:hover{color:#3a7af3;text-decoration:none}a:focus{outline:5px auto -webkit-focus-ring-color;outline-offset:-2px}img{vertical-align:middle}.lhnormal{line-height:normal}.col-md-1,.col-md-10,.col-md-11,.col-md-12,.col-md-2,.col-md-3,.col-md-4,.col-md-5,.col-md-6,.col-md-7,.col-md-8,.col-md-9,.col-sm-1,.col-sm-10,.col-sm-11,.col-sm-12,.col-sm-2,.col-sm-3,.col-sm-4,.col-sm-5,.col-sm-6,.col-sm-7,.col-sm-8,.col-sm-9,.col-xs-1,.col-xs-10,.col-xs-11,.col-xs-12,.col-xs-2,.col-xs-3,.col-xs-4,.col-xs-5,.col-xs-6,.col-xs-7,.col-xs-8,.col-xs-9{position:relative;min-height:1px;padding-right:15px;padding-left:15px}.col-xs-1,.col-xs-10,.col-xs-11,.col-xs-12,.col-xs-2,.col-xs-3,.col-xs-4,.col-xs-5,.col-xs-6,.col-xs-7,.col-xs-8,.col-xs-9{float:left}.col-xs-12{width:100%}.col-xs-11{width:91.66666667%}.col-xs-10{width:83.33333333%}.col-xs-9{width:75%}.col-xs-8{width:66.66666667%}.col-xs-7{width:58.33333333%}.col-xs-6{width:50%}.col-xs-5{width:41.66666667%}.col-xs-4{width:33.33333333%}.col-xs-3{width:25%}.col-xs-2{width:16.66666667%}.col-xs-1{width:8.33333333%}@media (min-width:1280px){.allmenu.full-radious{width:247px!important}.allmenu.onlyresearch.full-radious{width:873px!important}.allmenu,.extra-sub-menu-ul{display:none}.navbar-inverse .navbar-nav li.navbar-nav-li.active .allmenu{background:#fff;box-shadow:0 22px 34px 0 rgba(0,0,0,.05);display:block;z-index:10;position:absolute;left:-200px!important;top:86px;width:1400px;height:618px;overflow:hidden}.navbar-inverse .navbar-nav li.navbar-nav-li.active .allmenu.onlyresearch{width:1200px;overflow:hidden;left:-357px!important;height:618px}.navbar-inverse .navbar-nav li.navbar-nav-li.active .allmenu.extramenuall{width:300px;overflow:hidden;left:0!important;height:178px}.navbar-inverse .navbar-nav li.navbar-nav-li.active .extra-sub-menu-ul{display:block;position:absolute;left:0;width:300px;z-index:10}.navbar-inverse .navbar-nav>.active>a .caret{filter:invert(44%) sepia(30%) saturate(7162%) hue-rotate(207deg) brightness(98%) contrast(95%)}.navbar-inverse .navbar-nav li.navbar-nav-li .allmenu.onlyresearch ul.left-submenu{display:flex;flex-wrap:wrap}ul.left-submenu li.hovered .mega-sub-menu{display:block;border-left:1px solid #dce2ee;background:#fafafa}}@media (min-width:1200px){.container{width:1170px}}@media (min-width:992px){.col-md-1,.col-md-10,.col-md-11,.col-md-12,.col-md-2,.col-md-3,.col-md-4,.col-md-5,.col-md-6,.col-md-7,.col-md-8,.col-md-9{float:left}.col-md-12{width:100%}.col-md-11{width:91.66666667%}.col-md-10{width:83.33333333%}.col-md-9{width:75%}.col-md-8{width:66.66666667%}.col-md-7{width:58.33333333%}.col-md-6{width:50%}.col-md-5{width:41.66666667%}.col-md-4{width:33.33333333%}.col-md-3{width:25%}.col-md-2{width:16.66666667%}.col-md-1{width:8.33333333%}.col-md-offset-12{margin-left:100%}.col-md-offset-11{margin-left:91.66666667%}.col-md-offset-10{margin-left:83.33333333%}.col-md-offset-9{margin-left:75%}.col-md-offset-8{margin-left:66.66666667%}.col-md-offset-7{margin-left:58.33333333%}.col-md-offset-6{margin-left:50%}.col-md-offset-5{margin-left:41.66666667%}.col-md-offset-4{margin-left:33.33333333%}.col-md-offset-3{margin-left:25%}.col-md-offset-2{margin-left:16.66666667%}.col-md-offset-1{margin-left:8.33333333%}.col-md-offset-0{margin-left:0}.container{width:970px}}@media (min-width:768px){.col-sm-1,.col-sm-10,.col-sm-11,.col-sm-12,.col-sm-2,.col-sm-3,.col-sm-4,.col-sm-5,.col-sm-6,.col-sm-7,.col-sm-8,.col-sm-9{float:left}.col-sm-12{width:100%}.col-sm-11{width:91.66666667%}.col-sm-10{width:83.33333333%}.col-sm-9{width:75%}.col-sm-8{width:66.66666667%}.col-sm-7{width:58.33333333%}.col-sm-6{width:50%}.col-sm-5{width:41.66666667%}.col-sm-4{width:33.33333333%}.col-sm-3{width:25%}.col-sm-2{width:16.66666667%}.col-sm-1{width:8.33333333%}.container{width:750px}.navbar{border-radius:4px}.navbar-header{float:left}.navbar-toggle{display:none}.navbar-nav{float:left;margin:0}.navbar-nav>li{float:left}.navbar-nav>li>a{padding-top:15px;padding-bottom:15px}}.form-control{display:block;width:100%;height:34px;padding:6px 12px;font-size:14px;line-height:1.42857;color:#555;background-color:#fff;background-image:none;border:1px solid #e2e2e2;border-radius:5px;transition:border-color .15s ease-in-out 0s,box-shadow .15s ease-in-out 0s}.form-group{margin-bottom:15px}input.form-control,select.form-control{width:100%;max-width:370px;display:inline-block}.form-control:focus{border-color:#66afe9;outline:0}.whitebg{background-color:#fff!important}label.err,label.error{font-size:14px;color:#d6010e!important;margin-bottom:0;margin-top:2px;padding:0;text-align:left;display:inline-block;width:auto!important}.img-responsive{display:block;max-width:100%;height:auto}.select2-container--default .select2-selection--single{border-radius:4px!important;border:1px solid #e2e2e2!important;height:34px!important;padding:2px 12px!important;color:#666}.select2-container .select2-selection--single .select2-selection__rendered{display:block;padding-left:0;padding-right:20px;overflow:hidden;text-overflow:ellipsis;white-space:nowrap;line-height:30px}h1{font-size:36px}h2{font-size:30px}h3{font-size:24px}.container:after,.container:before,.nav:after,.nav:before{display:table;content:\" \"}.container:after,.nav:after{clear:both}h1,h2,h3,h4{font-weight:700;margin:0;padding:0;line-height:1.1}.blackc,a.blackc:focus,a.blackc:hover{color:#181818}p{margin:0 0 10px}.text-center{text-align:center}ul{margin-top:0;margin-bottom:10px}ul ul{margin-bottom:0}.container{padding-right:15px;padding-left:15px;margin-right:auto;margin-left:auto}.row{margin-right:-15px;margin-left:-15px}input[type=search]{-webkit-box-sizing:border-box;-moz-box-sizing:border-box;box-sizing:border-box}input[type=search]{-webkit-appearance:none}.caret{display:inline-block;width:0;height:0;margin-left:2px;vertical-align:middle;border-top:4px dashed;border-right:4px solid transparent;border-left:4px solid transparent}.open>a{outline:0}.nav{padding-left:0;margin-bottom:0;list-style:none}.nav>li{position:relative;display:block}.nav>li>a{position:relative;display:block;padding:10px 15px}.nav>li>a:focus,.nav>li>a:hover{text-decoration:none;background-color:#eee}.nav .open>a,.nav .open>a:focus,.nav .open>a:hover{background-color:#eee;border-color:#3a7af3}.navbar{position:relative;min-height:50px;margin-bottom:20px;border:1px solid transparent}.navbar-toggle{position:relative;float:right;padding:9px 10px;margin-top:8px;margin-right:15px;margin-bottom:8px;background-color:transparent;background-image:none;border:1px solid transparent;border-radius:4px}.navbar-toggle:focus{outline:0}.navbar-toggle .icon-bar{display:block;width:22px;height:2px;border-radius:1px}.navbar-toggle .icon-bar+.icon-bar{margin-top:4px}.navbar-nav{margin:7.5px -15px}.navbar-nav>li>a{padding-top:10px;padding-bottom:10px;line-height:20px}.navbar-inverse{background-color:#222;border-color:#080808}.navbar-inverse .navbar-nav>li>a{color:#9d9d9d}.navbar-inverse .navbar-nav>li>a:focus,.navbar-inverse .navbar-nav>li>a:hover{color:#fff;background-color:transparent}.navbar-inverse .navbar-toggle{border-color:#333}.navbar-inverse .navbar-toggle:focus,.navbar-inverse .navbar-toggle:hover{background-color:#333}.navbar-inverse .navbar-toggle .icon-bar{background-color:#fff}.container:after,.container:before,.nav:after,.nav:before,.navbar-header:after,.navbar-header:before,.navbar:after,.navbar:before,.row:after,.row:before{display:table;content:\" \"}.container:after,.nav:after,.navbar-header:after,.navbar:after,.row:after{clear:both}.pull-right{float:right!important}.pull-left{float:left!important}.hide{display:none!important}.pointer{cursor:pointer}.text-center{text-align:center}.overflow,body.slide-active{overflow:hidden}.ohidden{overflow:hidden!important}ul{list-style:none}.clear{clear:both}b,strong{font-weight:700}.container{max-width:1430px;width:100%}.container-bg{background:#f5f5f5!important}.whitebg{background-color:#fff!important}.border{border-radius:8px;box-shadow:0 1px 2px rgba(0,0,0,.2)}.border-bottom{border-bottom:1px solid #e2e2e2}.border-right{border-right:1px solid #e2e2e2}.border-top{border-top:1px solid #e2e2e2}.no-padding{padding:0}.no-margin{margin:0}.padding-right{padding-right:20px}.margin-top{margin-top:20px}.padding-bottom{padding-bottom:20px}.margin-bottom{margin-bottom:20px}.padding{padding:20px}.padding-left-none{padding-left:0}.padding-right-none{padding-right:0}.padding-top-15{padding-top:15px}.padding-bottom-15{padding-bottom:15px}.padding-top{padding-top:20px}.padding-left{padding-left:20px}.margin-right-10{margin-right:10px}.font10{font-size:10px}.font14{font-size:14px}.font16{font-size:16px}.font18{font-size:18px}.blue-btn-45,.ghost-btn,.green-btn-45{background:#3a7af3;border-radius:4px;color:#fff;height:45px;line-height:45px;padding:0 20px;border:1px solid #3a7af3;text-transform:uppercase;display:inline-block}.blue-btn-45:focus,.blue-btn-45:hover,.register-btn:hover,a.ghost-btn:focus,a.ghost-btn:hover,a.green-btn-45:focus,a.green-btn-45:hover,a.green-btn:focus,a.green-btn:hover,a.micro-green-btn:focus,a.micro-green-btn:hover,a.small-green-btn:focus,a.small-green-btn:hover,button.green-btn:focus,button.green-btn:hover,button.small-green-btn:hover,button.submit-btn:hover,input.small-green-btn:hover,input[type=submit].green-btn-45:focus,input[type=submit].green-btn-45:hover{color:#fff;text-decoration:none;background:#2d66d2}a,a:focus{text-decoration:none;outline:0!important}.weight500,.weight600{font-weight:600}.weight700{font-weight:700}.theme-link{color:#fff!important}.relative{position:relative}.theme-btn{background:#3a7af3;padding:3px 25px;text-decoration:none;color:#fff;font-size:14px;border-radius:4px;display:inline-block;border:1px solid #3a7af3;font-weight:600}.theme-btn:focus,.theme-btn:hover{background:#2d66d2;color:#fff;text-decoration:none}#footer{background:#fff;padding-top:60px}.footer-info,.section-footer{padding:0}.footer-info,.section-footer{padding:0}.footer-info{height:58px;line-height:58px;margin:20px 0 0 0}.footer-info-sec{border-top:1px solid #dce2ee}.list-title{color:#333;font-size:20px;display:block;padding-bottom:20px;font-weight:700;line-height:28px}.text-left{text-align:left!important}.text-justify{text-align:justify}.font20{font-size:20px}.uppercase{text-transform:uppercase!important}.footer-info a,.footer-lists li a{color:#757982;line-height:36px;margin:0 2px;text-decoration:none;-webkit-transition:all .25s ease;transition:all .25s ease;font-weight:500}.footer-lists li a:focus,.footer-lists li a:hover{color:#333}.footer-lists{width:250px}.section-footer-container{display:flex}.goodfirms_address{width:355px;margin-right:130px}.goodfirms_logo{padding-bottom:40px}.goodfirms_country{color:#000;height:20px;line-height:18px;overflow:hidden;margin-bottom:10px;font-weight:500;font-size:18px}.goodfirms_country svg{float:left;margin-right:15px}.goodfirms_office_address{color:#757982;font-weight:500;margin-bottom:15px;line-height:24px}.company_address{padding-bottom:30px;border-right:1px solid #dce2ee}.section-footer-container ul{margin:0}.footer-lists .theme-link{color:#3a7af3!important;-webkit-transition:all .25s ease;transition:all .25s ease}.footer-lists .theme-link:focus,.footer-lists .theme-link:hover{color:#2d63c8!important}.footer-lists a.theme-link::after{background:url(\"/img/new-slices.png\") -37px -9px no-repeat;display:inline-block;height:12px;width:16px;content:\"\";position:relative;top:2px;left:10px}.footer-info ul{height:35px;margin-top:11px;margin-bottom:0}.footer-info ul li{height:35px;line-height:35px}.footer-info ul li a{height:35px;display:inline-block;color:#757982}.footer-menu{display:flex;margin-right:0;width:calc(100% - 465px);justify-content:space-around}.footer-social{position:relative;left:0;top:0}.footer-social li a{margin:0 10px 0 0}.search-container{width:100%;max-width:846px;margin:0 auto}.source-logo.home-header{display:none}#site_header{min-height:84px;border-bottom:1px solid #dce2ee;background:#fff;position:fixed;top:0;z-index:1000;width:100%}#site_header+#content{padding-top:85px}.menu-container{background:0 0;padding:0;margin:0;border:none}#header{float:left;margin-left:60px}.header-right{float:right;height:85px;position:relative}.header-right.open{width:calc(100% - 186px)}.source-logo{width:141px;height:21px;display:block;margin-top:32px}a.source-logo img{vertical-align:top}.navbar-header{float:left}#header ul.navbar-nav{float:left;margin:0;letter-spacing:0}.menu-section{padding:0}.navbar-inverse .navbar-nav>li>a{position:relative;color:#333!important;line-height:36px;padding:0 15px;text-decoration:none;height:38px;display:block;font-size:16px;margin:24px 0 23px 0;font-weight:600}#site_header .navbar-inverse .navbar-nav>li.active>a,#site_header .navbar-inverse .navbar-nav>li>a:hover{background-color:#f3f3f3;border-radius:8px}#header ul.navbar-nav li.userli{display:none}.navbar-inverse .navbar-nav>li:hover a,.navbar-inverse .navbar-nav>li>a:hover{opacity:1}.navbar-nav>li{float:left;position:relative;padding:0 5px}.triangle{width:0;height:0;border-left:4px solid transparent;border-right:4px solid transparent;border-top:6px solid #333;border-radius:2px;margin-left:15px;position:relative;top:-1px;font-size:0}.navbar-inverse .navbar-nav>li.active .triangle{border-bottom:6px solid #333;border-top:none;top:-8px}.caret{height:9px;width:14px;display:inline-block;border:none}.caret{background:url(https://assets.goodfirms.co/images/svg-icons.svg) 0 0 no-repeat;margin-left:6px}.navbar-nav-li a .caret{margin-left:6px}.pagination{display:inline-block;padding-left:0;margin:0;border-radius:4px}.pagination>li{display:inline}.pagination>li>a,.pagination>li>span{position:relative;float:left;margin-left:-1px;text-decoration:none;background-color:#fff;border:1px solid #ddd;height:36px;width:36px;line-height:36px;padding:0;font-size:15px;color:#333}.pagination>li:first-child>span,.pagination>li:last-child>a{border-radius:0}.pagination>li>a:focus,.pagination>li>a:hover,.pagination>li>span:focus,.pagination>li>span:hover{z-index:2;color:#23527c;background-color:#eee;border-color:#ddd}.pagination>.active>span,.pagination>.active>span:focus,.pagination>.active>span:hover{z-index:3;background:rgba(3,38,175,.1);color:#3a7af3;border-color:#ddd}.pagination-block{padding:20px 0 5px 0;text-align:center}.pagination>li>a[rel=first],.pagination>li>a[rel=last],.pagination>li>a[rel=next],.pagination>li>a[rel=prev]{color:transparent;font-size:0}.pagination>li>a[rel=next]::before{background:url(https://www.goodfirms.co/img/new-slices.png) -76px -35px no-repeat;content:\"\";height:11px;width:8px;display:inline-block;position:relative;top:5px;left:2px}.pagination>li>a[rel=last]::before{background:url(https://www.goodfirms.co/img/new-slices.png) -53px -33px no-repeat;content:\"\";height:13px;width:13px;display:inline-block;position:relative;top:5px;left:1px}.pagination>li>a[rel=first]::before{background:url(https://www.goodfirms.co/img/new-slices.png) -29px -33px no-repeat;content:\"\";height:13px;width:13px;display:inline-block;position:relative;top:5px;left:0}.pagination>li>a[rel=prev]::before{background:url(https://www.goodfirms.co/img/new-slices.png) -7px -35px no-repeat;content:\"\";height:11px;width:8px;display:inline-block;position:relative;top:5px;left:-1px}.register-btn,.submit-form-right .submit-btn{background-color:#3a7af3;border-radius:3px;font-size:14px;font-style:normal;margin:0;display:block;color:#fff;width:100%;border:1px solid #3a7af3;padding:0;height:42px;line-height:42px;text-align:center;cursor:pointer;outline:0}.show{display:block!important}.img-border{border:1px solid #e2e2e2}#category-menu.left-submenu{padding:8px 0}.menu-browse-all{position:absolute;bottom:0;left:0;height:62px;display:flex;justify-content:center;align-items:center;right:0;border-top:1px solid #dce2ee;color:#697895}.menu-browse-all .alink{font-weight:600;margin-left:20px}.menu-browse-all .alink svg{float:right;margin-top:2px;transition:.5s}.menu-browse-all .alink:hover svg{transform:translate(5px,0);transition:.5s}.navbar-inverse .navbar-nav li.navbar-nav-li:hover ul.left-submenu{display:block;z-index:10}.left-submenu{position:absolute;left:0;padding:0}ul.left-submenu>li{width:368px;font-size:16px;padding:6px 0}.extra-sub-menu-ul li{font-size:16px;padding:6px 0}.extra-sub-menu-ul a{color:#333;line-height:42px;display:block;font-weight:600;display:block;text-decoration:none;cursor:pointer;margin:0 18px;padding:0 13px}.extra-sub-menu-ul{padding:8px 0!important}.extra-sub-menu-ul li a:hover{color:#333}ul.extra-sub-menu-ul>li,ul.left-submenu>li.vcategory-menu{overflow:hidden}ul.left-submenu>li.vcategory-menu a.vcategory-menu-title{color:#333;line-height:42px;display:block;font-weight:600}ul.left-submenu>li.vcategory-menu ul li a:focus,ul.left-submenu>li.vcategory-menu ul li a:hover{background:#ebebeb;border-radius:5px}ul.left-submenu>li.vcategory-menu a.vcategory-menu-title{width:320px;margin:0 18px;float:left;padding-left:13px}ul.left-submenu>li.vcategory-menu a{color:#0c0c0c;line-height:38px;display:block;padding:0 11px}ul.left-submenu .mega-sub-menu{background:#fff;display:none;min-height:100%;padding:20px 0 0 40px;top:0;z-index:10;position:absolute;width:1032px;right:-1032px}.option-bg{position:absolute;top:0;right:0;left:17px;height:40px;transition:.2s ease all;z-index:1;display:none;width:320px}.extramenuall .option-bg{width:264px}.allmenu.onlyresearch .option-bg{width:363.95px}.allmenu:hover .option-bg,.extramenuall:hover .option-bg{display:block;z-index:3;background:#ffc600;border-radius:5px}.specappcat{padding-right:0;padding-left:6px}ul.left-submenu .mega-sub-menu .section-entity{padding:0 0 0 6px}.width20per{width:calc(20% - 6px);padding-left:6px;float:left}.section-entity.col-md-3{width:calc(25% - 6px)}.section-entity.col-md-4{width:calc(33% - 6px)}.mega-sub-menu li{line-height:30px;padding:4px 0}.mega-sub-menu li.section-entity-li{padding:7px 0}.tab-content-list-title{color:#aeaeae;text-transform:uppercase;font-weight:600;font-size:14px}.tab-content-list-title{padding-left:9px}.mega-sub-menu ul{padding:0}ul.left-submenu li a.link{color:#3a7af3!important}.allmenu.onlyresearch ul.left-submenu>li{width:33.33%;float:left}.allmenu.onlyresearch{padding:8px 0}.allmenu.onlyresearch li.vcategory-menu a.vcategory-menu-title{width:calc(100% - 36px);float:none}.extra-sub-menu-ul li a svg,a.vcategory-menu-title svg{position:relative;top:5px;margin-right:15px}ul.left-submenu a:focus,ul.left-submenu a:hover{text-decoration:none}.mega-sub-menu ul{padding:0}ul.left-submenu li.hovered a{text-decoration:none}.mega-sub-menu li:hover{background:rgba(0,0,0,0)!important}.search-cross-dark{display:inline-block;margin:3px 0 0 5px;cursor:pointer}.search-cross-dark{height:16px;width:16px;float:right;position:relative;top:10px}.search-cross-dark:after,.search-cross-dark:before{position:absolute;left:0;content:\" \";height:12px;width:2px;background-color:#757982}.search-cross-dark:before{transform:rotate(45deg)}.search-cross-dark:after{transform:rotate(-45deg)}.global-search-input{float:left;margin:22px 0 0 0;position:relative;border-radius:21px;height:42px;line-height:42px;background:#f6f7f8;width:288px}#site_header.search_open .global-search-input{width:calc(100% - 254px);max-width:1165px}#site_header.search_open .user_in .global-search-input{width:calc(100% - 67px)}@-webkit-keyframes spin{0%{-webkit-transform:rotate(0);transform:rotate(0)}100%{-webkit-transform:rotate(360deg);transform:rotate(360deg)}}@keyframes spin{0%{-webkit-transform:rotate(0);transform:rotate(0)}100%{-webkit-transform:rotate(360deg);transform:rotate(360deg)}}.global-search-input .right-heder-search-input{border:none;background:0 0;padding:0 5px 0 45px;color:#333;float:left;outline:0;height:42px;line-height:42px;font-size:14px;background:#f6f7f8 url(https://goodfirms-prod.s3.amazonaws.com/categories/header_icon_search.svg) no-repeat 15px center;display:inline-block;width:100%;font-weight:500;border-radius:21px}.global-search-input .right-heder-search-input.searching{background:#f6f7f8}.signin-signup-process{float:right;margin:30px 0 0 40px;width:214px;overflow:hidden}.signin-signup-process a{font-weight:600;color:#333;text-decoration:none}.signin-signup-process a:hover{color:#3a7af3}.user_in .signin-signup-process{margin-top:29px;width:auto}.head_sign_in{float:left}.head_sign_up{float:right}.global-search-input ::-webkit-input-placeholder{color:#333!important}.global-search-input ::-moz-placeholder{color:#333!important}.global-search-input ::-ms-placeholder{color:#333!important}.global-search-input ::placeholder{color:#333!important}#site_header.search_open .right-heder-search-input{width:calc(100% - 50px)}.noProfilePhotoSearch{text-align:center;font-size:20px;color:#fff;font-weight:600;line-height:30px!important;margin-right:5px;display:inline-block;width:28px;height:28px}.radius50{border-radius:50%!important}.search-list{max-height:calc(100vh - 98px);overflow:auto}.empty-result-section{font-size:18px;text-align:center;color:#757982;padding:50px 0}.no-result-text{margin-top:30px;margin-bottom:15px;color:#000;font-weight:600}input.right-heder-search-input::-webkit-input-placeholder{color:#7b7c82;opacity:.6}input.right-heder-search-input:-moz-placeholder{color:#7b7c82;opacity:.6}input.right-heder-search-input::-moz-placeholder{color:#7b7c82;opacity:.6}input.right-heder-search-input:-ms-input-placeholder{color:#7b7c82;opacity:.6}.navbar-toggle{display:none}.custom-top-navbar{position:relative}.auto-height{height:auto!important}.search-list{background:#fff;position:absolute;z-index:10;top:65px;left:0;width:100%;box-shadow:0 7px 14px 0 rgba(0,0,0,.15);border-radius:8px}.search-result-label{display:block;color:#6f747b;height:42px;line-height:50px;padding:0 0 0 20px;font-size:14px}.result-entity{line-height:44px}.result-entity a{display:block;padding:0 20px;overflow:hidden;text-decoration:none;color:#181818;font-size:15px}.result-container{border-bottom:1px solid #dce2ee}.result-entity a:focus,.result-entity a:hover{color:#181818}.result-entity a img{max-height:28px;max-width:28px;width:100%;border:1px solid #dce2ee;margin-right:10px}.result-entity .enity-tilte em{font-style:normal;font-weight:700}.result-entity:hover{background:#e9f1fe}.search_spin{padding:0!important;position:absolute;color:transparent;height:17px;width:10px;display:inline-block;top:13px;right:auto;left:24px;float:right}.global-search-input .search-cross-dark{right:10px;top:13px}.search_spin::before{content:\"\";width:0;height:0;border-radius:50%;right:0;top:50%;position:absolute;border:2px solid #3a7af3;border-right:2px solid transparent;animation:rotate360 .5s infinite linear,exist .1s forwards ease}.search_spin::after{content:\"\";position:absolute;right:0;top:50%;width:0;height:0;box-shadow:0 0 0 1px darken(#6a27d0,10%);position:absolute;border-radius:50%;animation:rotate360 .5s infinite linear,exist .1s forwards ease}.labelc{color:#757982}.green-btn,.micro-green-btn,.small-green-btn{background:#3a7af3;border-radius:3px;color:#fff;display:inline-block;height:40px;line-height:40px;padding:0 18px;text-transform:uppercase;font-size:12px;border:1px solid #3a7af3;cursor:pointer}.small-green-btn{height:32px;line-height:30px}.micro-green-btn{height:24px;line-height:24px;padding:0 10px}.blue-btn-45:focus,.blue-btn-45:hover,.register-btn:hover,a.ghost-btn:focus,a.ghost-btn:hover,a.green-btn-45:focus,a.green-btn-45:hover,a.green-btn:focus,a.green-btn:hover,a.micro-green-btn:focus,a.micro-green-btn:hover,a.small-green-btn:focus,a.small-green-btn:hover,button.green-btn:focus,button.green-btn:hover,button.small-green-btn:hover,button.submit-btn:hover,input.small-green-btn:hover,input[type=submit].green-btn-45:focus,input[type=submit].green-btn-45:hover{color:#fff;text-decoration:none;background:#2d66d2}.modal{position:fixed;top:0;right:0;bottom:0;left:0;z-index:1053;display:none;overflow:hidden;-webkit-overflow-scrolling:touch;outline:0}.modal.fade .modal-dialog{-webkit-transition:-webkit-transform .3s ease-out;-o-transition:-o-transform .3s ease-out;transition:transform .3s ease-out;-webkit-transform:translate(0,-25%);-ms-transform:translate(0,-25%);-o-transform:translate(0,-25%);transform:translate(0,-25%)}.modal.in .modal-dialog{-webkit-transform:translate(0,0);-ms-transform:translate(0,0);-o-transform:translate(0,0);transform:translate(0,0)}.modal-open .modal{overflow-x:hidden;overflow-y:auto}.modal-dialog{position:relative;width:auto;margin:auto}.modal-content{border-radius:8px!important;position:relative;background-color:#fff;-webkit-background-clip:padding-box;background-clip:padding-box;border:1px solid #999;border:1px solid rgba(0,0,0,.2);border-radius:6px;outline:0;-webkit-box-shadow:0 3px 9px rgba(0,0,0,.5);box-shadow:0 3px 9px rgba(0,0,0,.5)}.modal-header{padding:15px;border-bottom:1px solid #e5e5e5}.modal-header .close{margin-top:-2px}.modal-title{margin:0;line-height:1.42857143}.modal-body{position:relative;padding:0}.modal.in{display:flex!important}.modal-header:after,.modal-header:before{display:table;content:\" \"}.modal-header:after{clear:both}.modal-backdrop-transparent{background-color:transparent;bottom:0;left:0;position:fixed;right:0;top:0;z-index:1052}.modal-backdrop{position:fixed;top:0;right:0;bottom:0;left:0;z-index:1052;background-color:rgba(0,0,0,.75)}.backdrop-transparent{position:fixed;top:0;right:0;bottom:0;left:0;z-index:100;background-color:rgba(0,0,0,.25)}.modalfooter{height:50px;line-height:50px;font-size:14px}.notify-alert{padding:15px;border-radius:4px;position:fixed;top:0;right:0;float:right;z-index:999999;display:block!important;left:0;text-align:center;width:50%;margin:0 auto}.alert-red{color:#fff;background-color:#da4453}.alert-green{color:#fff;background-color:#37bc9b}.alert-blue{color:#fff;background-color:#4a89dc}.alert-dark-blue{color:#fff;background-color:#0e4d7d}.alert-yellow{color:#fff;background-color:#f6bb42}.alert-orange{color:#fff;background-color:#e9573f}button[disabled],html input[disabled]{pointer-events:none}.tooltip{position:absolute;z-index:1070;display:block;font-family:\"Helvetica Neue\",Helvetica,Arial,sans-serif;font-size:12px;font-style:normal;font-weight:400;line-height:1.42857143;text-align:left;text-align:start;text-decoration:none;text-shadow:none;text-transform:none;letter-spacing:normal;word-break:normal;word-spacing:normal;word-break: break-word;white-space:normal;opacity:0;line-break:auto}.tooltip.in{opacity:.9}.tooltip.top{padding:5px 0;margin-top:-3px}.tooltip.right{padding:0 5px;margin-left:3px}.tooltip.bottom{padding:5px 0;margin-top:3px}.tooltip.left{padding:0 5px;margin-left:-3px}.tooltip-inner{max-width:200px;padding:3px 8px;color:#fff;text-align:center;background-color:#000;border-radius:4px}.tooltip-arrow{position:absolute;width:0;height:0;border-color:transparent;border-style:solid}.tooltip.top .tooltip-arrow{bottom:0;left:50%;margin-left:-5px;border-width:5px 5px 0;border-top-color:#000}.tooltip.top-left .tooltip-arrow{right:5px;bottom:0;margin-bottom:-5px;border-width:5px 5px 0;border-top-color:#000}.tooltip.top-right .tooltip-arrow{bottom:0;left:5px;margin-bottom:-5px;border-width:5px 5px 0;border-top-color:#000}.tooltip.right .tooltip-arrow{top:50%;left:0;margin-top:-5px;border-width:5px 5px 5px 0;border-right-color:#000}.tooltip.left .tooltip-arrow{top:50%;right:0;margin-top:-5px;border-width:5px 0 5px 5px;border-left-color:#000}.tooltip.bottom .tooltip-arrow{top:0;left:50%;margin-left:-5px;border-width:0 5px 5px;border-bottom-color:#000}.tooltip.bottom-left .tooltip-arrow{top:0;right:5px;margin-top:-5px;border-width:0 5px 5px;border-bottom-color:#000}.tooltip.bottom-right .tooltip-arrow{top:0;left:5px;margin-top:-5px;border-width:0 5px 5px;border-bottom-color:#000}#container{display:block!important}@keyframes rotate360{100%{transform:rotate(360deg)}}@keyframes exist{100%{width:15px;height:15px;margin:-8px 5px 0 0}}@media (min-width:1201px) and (max-width:1439px){.container{padding:0 30px}}@media (min-width:1280px) and (max-width:1439px){.option-bg{width:272px}.allmenu.onlyresearch .option-bg{width:363.95px}.extramenuall .option-bg{width:264px}.navbar-inverse .navbar-nav li.navbar-nav-li.active .allmenu{width:1340px}ul.left-submenu .mega-sub-menu{width:1020px;right:-1020px}ul.left-submenu>li{width:320px}ul.left-submenu>li.vcategory-menu a.vcategory-menu-title{width:272px}}@media (min-width:1360px) and (max-width:1399px){.navbar-inverse .navbar-nav li.navbar-nav-li.active .allmenu{width:1305px;height:488px}ul.left-submenu .mega-sub-menu{width:985px;right:-985px}ul.left-submenu>li{padding:3px 0;font-size:15px}.menu-browse-all{height:48px;font-size:15px}ul.left-submenu>li.vcategory-menu a{line-height:30px}ul.left-submenu>li.vcategory-menu a.vcategory-menu-title{line-height:36px}.mega-sub-menu li.section-entity-li{padding:4px 0 5px 0}.navbar-inverse .navbar-nav li.navbar-nav-li.active .allmenu.onlyresearch{height:482px}.option-bg{height:36px}.extramenuall .option-bg{height:42px}}@media (min-width:1280px) and (max-width:1359px){.navbar-inverse .navbar-nav li.navbar-nav-li.active .allmenu{width:1220px}ul.left-submenu .mega-sub-menu{width:900px;right:-900px}ul.left-submenu .mega-sub-menu .section-entity{padding:0}ul.left-submenu>li li{font-size:15px}}@media (min-width:1280px) and (max-width:1387px){.navbar-inverse .navbar-nav li.navbar-nav-li.active .allmenu.onlyresearch{left:-322px!important}#header ul li .servicemenu,#header ul li .softwaremenu{color:transparent;font-size:0}#header ul li .servicemenu::before,#header ul li .softwaremenu::before{color:#333;display:inline-block;font-size:16px}#header ul li .servicemenu::before{content:\"Services\"}#header ul li .softwaremenu::before{content:\"Software\"}}@media (max-width:1279px){.allmenu:hover .option-bg{display:none}#site_header.search_open .global-search-input{width:calc(100% - 414px)}.allmenu.onlyresearch{padding:0}.navbar-toggle{display:block}.bar1,.bar2,.bar3{transition:.4s}#slide-nav .navbar-toggle{cursor:pointer;position:relative;line-height:0;float:right;width:16px;height:21px;margin:36px 15px 0 0;padding:0;border:0;background:0 0}#slide-nav .navbar-toggle>.icon-bar{width:100%;display:block;height:2px;margin:0;border-radius:1px;background-color:#3a7af3}#slide-nav .navbar-toggle.slide-active{margin-top:32px}.bar2{margin:4px 0!important}.slide-active .bar1{margin:0 0 0 2px!important;width:20px!important;-webkit-transform:rotate(-45deg) translate(-9px,6px);transform:rotate(-45deg) translate(-9px,6px)}.slide-active .bar2{opacity:0;margin:0!important}.slide-active .bar3{margin:18px 0 0 0!important;width:20px!important;-webkit-transform:rotate(45deg) translate(-8px,-8px);transform:rotate(45deg) translate(-8px,-8px)}.source-logo{float:right}.width20per{width:auto;float:none}.section-entity.col-md-3,.section-entity.col-md-4{width:100%}.navbar-toggle{display:block}.navbar-inverse .navbar-nav li.navbar-nav-li .allmenu ul.left-submenu,.navbar-inverse .navbar-nav li.navbar-nav-li .menu-browse-all,.navbar-inverse .navbar-nav li.navbar-nav-li ul.extra-sub-menu-ul{display:none}ul.extra-sub-menu-ul,ul.left-submenu{border:none;box-shadow:none;position:relative;width:100%;left:0!important;top:0!important;height:auto;padding:0!important;display:none}ul.extra-sub-menu-ul li,ul.extra-sub-menu-ul li:hover,ul.left-submenu li.hovered,ul.left-submenu li:hover,ul.left-submenu>li{background:0 0}.allmenu.onlyresearch{left:0!important}.navbar-nav>li{float:none;padding:0}ul.extra-sub-menu-ul li,ul.left-submenu li.vcategory-menu{background:0 0!important;width:100%!important;padding:0}.allmenu.onlyresearch{width:100%}.allmenu.onlyresearch ul.left-submenu>li{float:none}.navbar-inverse .navbar-nav>li>a{font-size:16px}ul.left-submenu li.vcategory-menu:hover{width:inherit;text-decoration:none}ul.left-submenu>li.vcategory-menu a{font-size:14px}ul.extra-sub-menu-ul>li a{font-size:14px;padding:0 0 0 17px;border-bottom:1px solid #dce2ee}ul.left-submenu li.vcategory-menu a.vcategory-menu-title{color:#292e31;width:calc(100% - 52px);height:60px;line-height:60px;padding:0 0 0 17px;border-bottom:1px solid #dce2ee}.allmenu.onlyresearch li.vcategory-menu a.vcategory-menu-title{width:100%}.vcategory-inner-arrow{height:60px;width:50px;float:left;display:inline-block;cursor:pointer;border-bottom:1px solid #dce2ee;text-align:center;margin-top:1px}.vcategory-inner-arrow .right-caret{background:linear-gradient(#333,#333),linear-gradient(#333,#333);background-position:center;background-size:50% 2px,2px 50%;background-repeat:no-repeat;border:none;height:20px;width:20px;display:inline-block;margin-top:22px;margin-right:10px}li.vcategory-menu.open .vcategory-inner-arrow .right-caret{background-size:50% 2px,0 50%}.tab-content-list-title{display:block;cursor:pointer}.tab-content-list-title::after{content:\"\";float:right;position:relative;top:0;right:20px;background:linear-gradient(#333,#333),linear-gradient(#333,#333);background-position:center;background-size:50% 2px,2px 50%;background-repeat:no-repeat;border:none;height:20px;width:20px;display:inline-block;margin-top:22px;margin-right:1px}.section-entity-li.open .tab-content-list-title::after{background-size:50% 2px,0 50%}ul.left-submenu li.vcategory-menu a.vcategory-menu-title:hover{color:#0e4d7d}ul.left-submenu li .mega-sub-menu,ul.left-submenu li.hovered .mega-sub-menu{position:relative;display:none;left:0!important;width:100%!important;background:#fff;box-shadow:none;padding:0;clear:both}ul.left-submenu li .mega-sub-menu .row{margin:0}.navbar-nav-li a .triangle{background:linear-gradient(#333,#333),linear-gradient(#333,#333);background-position:center;background-size:50% 2px,2px 50%;background-repeat:no-repeat;float:right;border:none;height:20px;width:20px;display:inline-block;margin-top:22px;margin-right:6px}.navbar-nav-li a.open .triangle{background-size:50% 2px,0 50%}.menu-browse-all{border-top:none;border-bottom:1px solid #dce2ee;position:static;padding-left:20px;text-align:center}.menu-browse-all .alink svg{float:none;position:relative;top:7px}#slide-nav.navbar-inverse .navbar-nav li.navbar-nav-li a.navbar-nav-li-a.open{background:#f1f1f1!important;color:#333!important}.section-entity{padding:0!important}ul.left-submenu li .mega-sub-menu ul li{display:none;height:60px;line-height:60px;padding:0 0 0 65px;border-bottom:1px solid #dce2ee}ul.left-submenu li .mega-sub-menu ul li{display:block}ul.left-submenu li .mega-sub-menu ul li.section-entity-li{display:block;background:#f9f9f9!important;padding:0 0 0 50px;height:60px;line-height:60px;border-bottom:1px solid #d4dff0}#slide-nav.navbar-inverse .navbar-nav li.hovered a.vcategory-menu-title{background:#ffbe2d!important}#slide-nav.navbar-inverse .navbar-nav li.hovered .vcategory-inner-arrow{background:#ffbe2d;margin:0;height:61px;width:52px}.vcategory-inner-arrow{margin:0;height:61px;width:52px}.vcategory-inner-arrow .right-caret{margin-top:22px}.navbar-inverse .navbar-nav>li:hover>a,.navbar-inverse .navbar-nav>li>a:active,.navbar-inverse .navbar-nav>li>a:hover{background:0 0!important}#header.slide-active{overflow-y:scroll!important}#slide-nav.navbar-inverse .navbar-nav li a,#slide-nav.navbar-inverse .navbar-nav ul,#slide-nav.navbar-inverse .navbar-nav>li>a:hover{background:0 0!important;color:#333!important;text-decoration:none!important}#slide-nav.navbar-inverse .navbar-nav li a,#slide-nav.navbar-inverse .navbar-nav>li>a:hover{line-height:60px;height:auto;margin:0;border-radius:0!important}#slide-nav .navbar-header{position:relative}#slide-nav #header{left:0;width:calc(100% + 60px);min-width:0;position:absolute;overflow:hidden;padding-left:0;z-index:3;top:86px;margin:0 -30px;height:0}#slide-nav #header .navbar-nav{min-width:0;width:100%;margin:0}#slide-nav{border-top:0}#slide-nav.navbar-inverse #header{background:#fff}a.blue-border-bottom{border-bottom:1px solid #242d3b1a!important}.navbar-nav-li a .caret{margin-left:10px}}@media (max-width:1200px){.navbar-inverse .navbar-nav>li>a{padding:0 20px}.signin-signup-process{margin-left:20px}#slide-nav #header .navbar-nav{padding:0 15px}}@media (max-width:1024px){#hubspot-messages-iframe-container{display:none!important;visibility:hidden}.tab-content-list-title{color:#181818;font-size:14px}.header-right.open{width:100%}#site_header.search_open .global-search-input{width:100%}#site_header+#content{padding-top:86px}#footer{padding-top:40px}.goodfirms_address{width:290px;margin-right:80px}.footer-menu{width:calc(100% - 370px)}}@media (max-width:900px){.goodfirms_address{width:260px;margin-right:40px}.footer-menu{width:calc(100% - 300px)}}@media (min-width:768px) and (max-width:959px){html{font-size:15px}.breadcrumb-header-title{padding:0 0 15px}}@media (max-width:844px){.goodfirms_address{width:230px;margin-right:30px}.footer-menu{width:calc(100% - 260px)}.footer-lists{width:auto}}@media (max-width:768px){a.source-logo{background:url(https://assets.goodfirms.co/images/tiny-b-logo.svg) 0 0 no-repeat;height:16px;width:16px;display:block;float:left;margin-top:35px}.source-logo svg{display:none}}@media (max-width:767px){.footer-info-sec{display:flex;flex-direction:column}.footer-social{position:relative;order:2;padding-top:5px}.search-list{max-height:calc(100vh - 90px)}#header ul.navbar-nav li.userli{display:block}html{font-size:13px}.breadcrumb-header-title{padding:0 0 15px;font-size:24px}#footer{padding-top:2.53rem}.searched .source-logo{display:none}.footer-info{text-align:center!important}.footer-info-sec ul,.footer-lists ul{padding:0;margin:0}.footer-social li{text-align:center}.footer-info-sec{padding:15px 0 18px 0}.head_sign_up{display:none}#slide-nav .navbar-header{width:auto}.global-search-input .right-heder-search-input{width:22px;background-color:transparent;color:transparent;padding-left:30px;font-size:0;cursor:pointer}.global-search-input{line-height:normal;width:auto;background:0 0;height:auto;margin-left:0;margin-top:16px}#site_header.search_open .global-search-input{line-height:normal;padding:0;margin-left:0;margin-right:0;background:#f6f7f8}#site_header.search_open .global-search-input .right-heder-search-input{font-size:14px;color:#333;padding-left:45px;cursor:auto}#site_header.search_open .user_in .global-search-input{width:100%}.signin-signup-process{width:auto;margin-left:20px;margin-top:25px}.user_in .signin-signup-process{margin-left:20px;margin-top:24px}.goodfirms_logo{display:none}.footer-menu,.section-footer-container{flex-direction:column;width:100%}.company_address{border-right:0;padding-bottom:15px}.footer-lists{border-top:1px solid #dce2ee;padding-top:15px;padding-bottom:15px}.footer-social li{text-align:left}#site_header{min-height:75px}#slide-nav #header{top:76px}.navbar{min-height:75px}.header-right,.menu-container{height:75px}#slide-nav .navbar-toggle{margin-top:31px}a.source-logo{margin-top:30px}#site_header+#content{padding-top:76px}#slide-nav .navbar-toggle.slide-active{margin-top:27px}.list-title{font-size:18px}}@media (max-width:669px){.breadcrumb-header-title{padding-top:15px;padding-bottom:5px}}@media (max-width:480px){#footer{padding-top:30px}.border{border-radius:0;box-shadow:none}.padding{padding:15px}.breadcrumb-header-title{padding:10px 0;font-size:18px;font-weight:600;line-height:24px!important}body{font-size:14px;line-height:21px}.pagination-block{padding:5px 0 0 0}.signin-signup-process{margin-left:10px}.section-breadcrumb.blog-breadcrumb{display:none}.faq-answer ul.esectioncenter-points li{background-position:0 6px}}\n",
       "</style>\n",
       "<style type=\"text/css\">\n",
       "      .imageslayout {overflow: hidden;display: flex;margin: 30px 0 40px 0;flex-direction: row;justify-content: center;}.orcontainer {flex-direction: row;display: flex;-webkit-box-align: center;align-items: center;margin: 0 10px;padding: 0;height: 50px;justify-content: center;color: #757982;font-size: 16px;}.imageContainer a.ln-bg {height: 54px;line-height: 34px;text-decoration: none;color: #fff;padding: 10px 5px;margin-top: 10px;font-weight: 600;font-size: 18px;max-width: 321px;width: 100%;text-align: left;border-radius: 50px;background-color: #0077b5;display: inline-block;}.imageContainer {width: 100% }.imageContainer .social-bar {border-right: 1px solid #0094cc;border-right-color: rgb(0, 148, 204);height: 35px;display: flex;padding: 0 12px;margin: 0px 15px 0 0;float: left;align-items: center;}.signupForm {padding: 20px 30px 10px 30px;}.fade {opacity: 0;-webkit-transition: opacity .15s linear;-o-transition: opacity .15s linear;transition: opacity .15s linear;}.fade.in {opacity: 1;display: flex!important;}.fade.in.active {display: block !important }.close {float: right;font-size: 21px;font-weight: 700;line-height: 1;color: #000;text-shadow: 0 1px 0 #fff;opacity: .2;}.close:focus, .close:hover {color: #000;text-decoration: none;cursor: pointer;opacity: .5;}button.close {-webkit-appearance: none;padding: 0;cursor: pointer;background: 0 0;border: 0;}.myModalLogin .modal-dialog {width: 100%;max-width: 430px;}.myModalLogin .modal-body {color: #2e2739;}.signupForm input.remember {float: left;margin-right: 5px;}.signupForm label[for=remember] {color: #333;margin: 0;font-size: 12px;}.myModalLogin label {font-size: 14px;}.forgotpos {position: absolute;right: 0;top: -2px;font-size: 13px;}.signupForm .form-group {margin-bottom: 15px;}.signupForm .forgotpos {top: 0;}@media (min-width:768px) {.modal-content {-webkit-box-shadow: 0 5px 15px rgba(0, 0, 0, .5);box-shadow: 0 5px 15px rgba(0, 0, 0, .5);}}@media (max-width:480px) {.signupForm {padding: 20px 10px 10px 10px !important;}}\n",
       "    </style>\n",
       "<link rel=\"stylesheet\" type=\"text/css\" href=\"/css/listing.css\" /> <meta name=\"theme-color\" content=\"#4385f4\" /><meta name=\"referrer\" content=\"always\" /><link rel='shortlink' href='https://www.goodfirms.co/' /><meta name=\"google-site-verification\" content=\"aui_FkeHhAVB0KLeztk5m8PrItoysFkbueKS-EfPpeM\" /><link rel=\"preconnect\" href=\"https://assets.goodfirms.co\"><link rel=\"preconnect\" href=\"https://www.googletagmanager.com\"><link rel=\"preconnect\" href=\"https://www.google-analytics.com\"><link rel=\"preconnect\" href=\"https://cdnjs.cloudflare.com\"><link rel=\"preconnect\" href=\"https://static.cloudflareinsights.com\">\n",
       "<meta property=\"og:url\" content=\"https://www.goodfirms.co/directory/cms/top-website-development-companies\" /><meta property=\"og:locale\" content=\"en_US\" /><meta property=\"og:type\" content=\"website\" /><meta property=\"og:title\" content=\"Top Web Development Companies - Reviews 2023 | GoodFirms\" /><meta property=\"og:description\" content=\"Discover the list of top web development companies with reviews. Hire the top web developers that fit your custom website development services needs.\" /><meta property=\"og:image\" content=\"//assets.goodfirms.co/directory/top-website-development-companies_1503986389.png\" /><meta property=\"og:image:width\" content=\"183\" /><meta property=\"og:image:height\" content=\"146\" /><meta property=\"fb:app_id\" content=\"208589359595574\" />\n",
       "<script type=\"text/javascript\" data-cfasync=\"false\" src=\"/js/basic.js\"></script>\n",
       "<script data-cfasync=\"false\" async src=\"https://www.googletagmanager.com/gtag/js?id=G-Y4LXXPPS4N\"></script>\n",
       "<script type=\"text/javascript\">var ask_by_company = '';</script>\n",
       "<script data-cfasync=\"false\" type=\"text/javascript\">\n",
       "                    window.dataLayer = window.dataLayer || [];\n",
       "                    function gtag() {\n",
       "                        dataLayer.push(arguments)\n",
       "                    }\n",
       "                    ;\n",
       "                    gtag('js', new Date());\n",
       "                    gtag('config', 'UA-66721889-1');\n",
       "                    gtag('config', 'G-Y4LXXPPS4N');\n",
       "                </script>\n",
       "<script async src=\"https://cdnjs.cloudflare.com/ajax/libs/twitter-bootstrap/3.4.1/js/bootstrap.min.js\"></script>\n",
       "</head>\n",
       "<body itemscope itemtype=\"https://schema.org/WebPage\">\n",
       "<div id=\"container\">\n",
       "<div id=\"logo_notification\"></div>\n",
       "<div id=\"search_content\" style=\"display: none;\">\n",
       "<div class=\"container\"><div class=\"section-breadcrumb overflow whitebg\"><div class=\"col-xs-12 no-padding\"><div class=\"breadcrumb-link\"><a href=\"/\">Home</a></div><div class=\"breadcrumb-header-title\">Searched Term : <span class=\"search-query\"></span></div></div></div><div class=\"container-bg overflow padding\"><div class=\"search-container\"><div id=\"category-hits\"></div><div id=\"hits\"></div></div><div class=\"pagination-block\"><ul id=\"pagination\" class=\"pagination\"></ul></div></div></div><style>.mh90{min-height:85px !important}.mh90 label[for='security_code']{line-height:18px}.mh100{min-height:100px !important}.mh100 textarea{height:75px}.goodfirm_support{z-index:100}.search-container .csmallimage .directory-page .company-dynamic-width {margin-right:223px}.search-container .chatwithcompany{right:20px;right: 20px;top: 80px;position:absolute}.reviewer-image a{line-height: 98px;color: #fff;font-size: 30px;}#review-main .reviewer-image a .profile-image{height:50px;width:50px;line-height:46px}#review-main .reviewer-image a .profile-image img{max-height: 50px;max-width: 50px;vertical-align: initial;}#review-main .reviewer-image a{text-decoration:none;}.c_d_review_img  .profile-image{color:#fff;text-align:center;border-radius:22px}.c_d_review_img  .profile-image.weight600{height: 45px;width: 45px;}.c_d_review_img  .profile-image img{vertical-align: initial;}.gf-research .research-static-page{padding:0px 0 25px 0}.gf-research .research-left{border-radius: 8px;box-shadow: 0 1px 2px rgba(0,0,0,.2);background:#fff;padding:20px 25px 25px 25px;}.gf-research .research-left .researchwidth{width:100%;max-width:700px;margin:0 auto;float:none;}.gf-research .research-left .sections-main-title h2{padding:20px 0 0 0}.companyinfo_mhide{min-height:94px}#container{display:block !important;}\n",
       "@media (max-width:991px) {.filter-service-lists .sub-head-sort,.filter-softwares .sub-head-sort {float: left;width: 100%;}.directory-content{clear:both;}}\n",
       "@media (max-width:720px) {.gf-research .research-left .sections-main-title h2 {padding: 10px 0 0 0;}}\n",
       "@media (max-width:480px) {.gf-research .research-static-page h2, .gf-research .research-static-page h3{padding-bottom:5px}.gf-research .research-left .sections-main-title h2 {font-size:16px}.m-4-0{margin:0 0 4px 0}}\n",
       ".tab-categories svg,#footer,.mega-sub-menu{content-visibility: auto}\n",
       "</style>\n",
       "<style type=\"text/css\">.show_full_desc {clear:both}\n",
       "\t\t.container-LO1 .section-breadcrumb{border-bottom:none;padding-bottom:0px;margin-bottom: 0px;}\n",
       "\t\t.special_software_cat{clear: both;line-height: 20px;padding-top: 5px;}\n",
       "\t\t.blog-list-desc p a{width:82px;overflow: hidden;display: inline-block;text-overflow: clip;white-space: nowrap;line-height: 17px;position: relative;top: 5px;}\n",
       "\t\t@media (max-width:1150px) {\n",
       "\t\t    .special_software_cat{padding-top:3px}\n",
       "\t\t}\n",
       "\t\t@media (min-width:670px) and (max-width:718px) {\n",
       "\t\t    .container-LO1 .nav-tabs > li:last-child a{margin-right:0}\n",
       "\t\t   .container-LO1 .nav-tabs > li > a{padding:16px 15px}\n",
       "\t\t}\n",
       "\t\t\n",
       "\t\t@media (max-width:480px) {\n",
       "\t\t    .blog-list-desc p a{width:75px}\n",
       "\t\t}\n",
       "\t\t</style>\n",
       "</div>\n",
       "<style type=\"text/css\">\n",
       ".page_description .text-justify{text-align:left;}\n",
       ".allmenu.onlyresearch .option-bg{left: 416.95px;}\n",
       ".inter_ans ol li,.inter_ans ul li {position: relative;padding: 10px 0 5px 10px;}\n",
       ".inter_ans ul li::before {background: url(\"/img/allslice.png\") -436px -106px no-repeat;height: 14px;width: 10px;position: absolute;left: -15px;top: 18px;content: \"\"}\n",
       ".inter_ans ul li::before {top: 16px}\n",
       ".inter_ans{letter-spacing: .5px}\n",
       "</style>\n",
       "<div id=\"site_header\" class=\" \">\n",
       "<div class=\"container\">\n",
       "<div class=\"menu-section\">\n",
       "<div class=\"navbar navbar-inverse menu-container  \" id=\"slide-nav\">\n",
       "<div class=\"navbar-header \">\n",
       "<div class=\"pull-left custom-top-navbar\">\n",
       "<a href=\"javascript:;\" class=\"navbar-toggle\" title=\"GoodFirms navigation menu\">\n",
       "<span class=\"icon-bar bar1\"></span>\n",
       "<span class=\"icon-bar bar2\"></span>\n",
       "<span class=\"icon-bar bar3\"></span>\n",
       "</a>\n",
       "</div>\n",
       "<a href=\"/\" class=\"source-logo home-header\" title=\"GoodFirms\">\n",
       "<svg xmlns=\"http://www.w3.org/2000/svg\" width=\"141\" height=\"21\"><path d=\"M8.633 7.385s-1.166-.116-1.166.923v4.615h7.7v1.385s.023.692-.7.692h-7v6h8.4s5.086-.785 5.133-6V7.385H8.633zM20.766 0H5.6C.116 1.292 0 5.792 0 5.792V21h5.834V7.154C5.834 5.977 7 5.77 7 5.77h13.767V0h-.001zm20.022 16.648l-.905.588c-.748.463-1.461.82-2.122 1.105-.957.392-1.81.588-2.575.588-2.627 0-4.802-.802-6.56-2.424S26 12.852 26 10.393c0-2.37.783-4.42 2.366-6.167s3.497-2.602 5.759-2.602c.94 0 1.948.16 2.992.5 1.357.427 2.453 1.069 3.323 1.906l-1.514 1.675c-.643-.623-1.478-1.087-2.453-1.372-.73-.214-1.53-.32-2.418-.32-1.583 0-2.923.64-3.984 1.906-1.061 1.283-1.6 2.798-1.6 4.58 0 1.765.608 3.208 1.826 4.367s2.766 1.746 4.645 1.746c.783 0 1.584-.25 2.401-.73l1.044-.785v-3.653h-5.08l.73-2.281h6.751v7.485zm15.345-4.456c0 1.764-.626 3.297-1.879 4.58s-2.801 1.943-4.645 1.943c-1.705 0-3.201-.642-4.489-1.907s-1.914-2.798-1.914-4.598c0-1.782.61-3.315 1.827-4.634a5.84 5.84 0 0 1 4.471-1.96c1.949 0 3.532.624 4.767 1.889 1.236 1.23 1.862 2.798 1.862 4.687zm-2.384.036c0-1.194-.4-2.21-1.2-3.03-.8-.838-1.792-1.248-2.975-1.248-1.113 0-2.053.428-2.836 1.284s-1.166 1.835-1.166 2.94c0 1.159.4 2.139 1.183 2.959a3.9 3.9 0 0 0 2.94 1.247c1.097 0 2.036-.41 2.837-1.23a4 4 0 0 0 1.218-2.922h-.001zm17.52-.036c0 1.764-.626 3.297-1.879 4.58s-2.801 1.943-4.645 1.943c-1.705 0-3.201-.642-4.489-1.907a6.19 6.19 0 0 1-1.914-4.598c0-1.782.61-3.315 1.827-4.634a5.84 5.84 0 0 1 4.471-1.96c1.949 0 3.532.624 4.767 1.889 1.236 1.23 1.862 2.798 1.862 4.687zm-2.384.036c0-1.194-.4-2.21-1.2-3.03-.8-.838-1.792-1.248-2.975-1.248-1.113 0-2.053.428-2.836 1.284s-1.166 1.835-1.166 2.94c0 1.159.4 2.139 1.184 2.959s1.757 1.247 2.94 1.247c1.096 0 2.035-.41 2.836-1.23a4 4 0 0 0 1.218-2.922h-.001zm16.39 6.13l-2.192.339v-2.121l-.47.534c-.414.388-.883.712-1.392.963-.747.345-1.56.521-2.383.517a5.73 5.73 0 0 1-4.35-1.89c-1.183-1.266-1.774-2.762-1.774-4.508 0-1.8.591-3.35 1.757-4.634s2.592-1.925 4.297-1.925c.975 0 1.827.16 2.54.481a4.31 4.31 0 0 1 1.305.91l.366.498v-5.56l2.33-.339-.034 16.735zm-2.053-6.006c0-1.247-.418-2.299-1.27-3.154-.852-.874-1.81-1.301-2.905-1.301-1.218 0-2.192.41-2.94 1.23-.697.783-1.062 1.746-1.062 2.869 0 1.265.365 2.316 1.096 3.136s1.653 1.23 2.784 1.23c1.113 0 2.088-.374 2.958-1.14.887-.785 1.34-1.747 1.34-2.87h-.001zM97.575 4.28h-6.524v4.437h5.062v2.281h-5.062v7.343l-2.54.374V1.98h8.559l.505 2.3zm5.237-1.302l-1.566 1.978-1.496-1.978 1.583-1.96 1.479 1.96zm-.47 15.38l-2.331.321V6.293l2.331-.356v12.422-.001zm10.526-12.546l-1.096 2.53c-.144-.022-.289-.034-.435-.035-.226 0-.452.018-.679.053s-.47.125-.73.25c-.487.214-.905.677-1.27 1.372a5.55 5.55 0 0 0-.61 2.549v5.81l-2.33.374V6.293l2.157-.392v2.584l.852-1.354c.4-.464.87-.802 1.392-.999.278-.106.783-.196 1.548-.267l1.201-.053zm17.362 12.546l-2.331.339v-8.501c0-.785-.174-1.355-.522-1.711s-.87-.535-1.549-.535c-.817 0-1.444.339-1.861 1.016-.279.463-.435.962-.435 1.461v7.913l-2.331.428v-8.519c0-.748-.174-1.319-.505-1.71-.348-.393-.8-.589-1.392-.589h-.226c-.818 0-1.41.339-1.775 1.034-.278.517-.417 1.176-.417 1.978v7.378l-2.418.428V6.293l2.174-.374v1.586c.244-.375.487-.678.714-.891a3.08 3.08 0 0 1 2.174-.874c.922 0 1.6.143 2.07.446.4.25.783.748 1.166 1.461.8-1.265 1.931-1.907 3.428-1.907 1.426 0 2.488.446 3.183 1.355.575.748.853 1.853.853 3.297v7.966zm10.65-3.76c0 1.14-.4 2.085-1.2 2.816-.8.748-1.81 1.105-3.028 1.105a4.89 4.89 0 0 1-2.488-.642c-.748-.427-1.304-.909-1.67-1.479l1.636-1.461c.121.178.226.32.33.427.61.624 1.34.945 2.192.945.592 0 1.062-.16 1.392-.463.348-.303.505-.731.505-1.284 0-.623-.4-1.051-1.2-1.283l-2.558-.802c-.731-.374-1.253-.766-1.584-1.212-.365-.517-.556-1.194-.556-2.067a3.47 3.47 0 0 1 1.183-2.673c.783-.713 1.722-1.052 2.8-1.052.819 0 1.584.178 2.28.553s1.2.766 1.496 1.23l-1.392 1.514a5.11 5.11 0 0 0-.678-.57c-.557-.392-1.096-.588-1.6-.588-.488 0-.888.107-1.201.32-.366.268-.557.66-.557 1.177 0 .499.174.873.54 1.105.313.196.974.41 2.018.641 1.043.25 1.844.678 2.418 1.284.644.641.922 1.443.922 2.459z\" fill=\"#fff\" /></svg>\n",
       "</a>\n",
       "<a href=\"/\" class=\"source-logo\" title=\"GoodFirms\">\n",
       "<svg xmlns=\"http://www.w3.org/2000/svg\" width=\"141\" height=\"21\"><path d=\"M8.633 7.385s-1.166-.116-1.166.923v4.615h7.7v1.385s.023.692-.7.692h-7v6h8.4s5.086-.785 5.133-6V7.385H8.633zM20.766 0H5.6C.116 1.292 0 5.792 0 5.792V21h5.834V7.154C5.834 5.977 7 5.77 7 5.77h13.767V0h-.001zm20.022 16.648l-.905.588c-.748.463-1.461.82-2.122 1.105-.957.392-1.81.588-2.575.588-2.627 0-4.802-.802-6.56-2.424S26 12.852 26 10.393c0-2.37.783-4.42 2.366-6.167s3.497-2.602 5.759-2.602c.94 0 1.948.16 2.992.5 1.357.427 2.453 1.069 3.323 1.906l-1.514 1.675c-.643-.623-1.478-1.087-2.453-1.372-.73-.214-1.53-.32-2.418-.32-1.583 0-2.923.64-3.984 1.906-1.061 1.283-1.6 2.798-1.6 4.58 0 1.765.608 3.208 1.826 4.367s2.766 1.746 4.645 1.746c.783 0 1.584-.25 2.401-.73l1.044-.785v-3.653h-5.08l.73-2.281h6.751v7.485zm15.345-4.456c0 1.764-.626 3.297-1.879 4.58s-2.801 1.943-4.645 1.943c-1.705 0-3.201-.642-4.489-1.907s-1.914-2.798-1.914-4.598c0-1.782.61-3.315 1.827-4.634a5.84 5.84 0 0 1 4.471-1.96c1.949 0 3.532.624 4.767 1.889 1.236 1.23 1.862 2.798 1.862 4.687zm-2.384.036c0-1.194-.4-2.21-1.2-3.03-.8-.838-1.792-1.248-2.975-1.248-1.113 0-2.053.428-2.836 1.284s-1.166 1.835-1.166 2.94c0 1.159.4 2.139 1.183 2.959a3.9 3.9 0 0 0 2.94 1.247c1.097 0 2.036-.41 2.837-1.23a4 4 0 0 0 1.218-2.922h-.001zm17.52-.036c0 1.764-.626 3.297-1.879 4.58s-2.801 1.943-4.645 1.943c-1.705 0-3.201-.642-4.489-1.907a6.19 6.19 0 0 1-1.914-4.598c0-1.782.61-3.315 1.827-4.634a5.84 5.84 0 0 1 4.471-1.96c1.949 0 3.532.624 4.767 1.889 1.236 1.23 1.862 2.798 1.862 4.687zm-2.384.036c0-1.194-.4-2.21-1.2-3.03-.8-.838-1.792-1.248-2.975-1.248-1.113 0-2.053.428-2.836 1.284s-1.166 1.835-1.166 2.94c0 1.159.4 2.139 1.184 2.959s1.757 1.247 2.94 1.247c1.096 0 2.035-.41 2.836-1.23a4 4 0 0 0 1.218-2.922h-.001zm16.39 6.13l-2.192.339v-2.121l-.47.534c-.414.388-.883.712-1.392.963-.747.345-1.56.521-2.383.517a5.73 5.73 0 0 1-4.35-1.89c-1.183-1.266-1.774-2.762-1.774-4.508 0-1.8.591-3.35 1.757-4.634s2.592-1.925 4.297-1.925c.975 0 1.827.16 2.54.481a4.31 4.31 0 0 1 1.305.91l.366.498v-5.56l2.33-.339-.034 16.735zm-2.053-6.006c0-1.247-.418-2.299-1.27-3.154-.852-.874-1.81-1.301-2.905-1.301-1.218 0-2.192.41-2.94 1.23-.697.783-1.062 1.746-1.062 2.869 0 1.265.365 2.316 1.096 3.136s1.653 1.23 2.784 1.23c1.113 0 2.088-.374 2.958-1.14.887-.785 1.34-1.747 1.34-2.87h-.001zM97.575 4.28h-6.524v4.437h5.062v2.281h-5.062v7.343l-2.54.374V1.98h8.559l.505 2.3zm5.237-1.302l-1.566 1.978-1.496-1.978 1.583-1.96 1.479 1.96zm-.47 15.38l-2.331.321V6.293l2.331-.356v12.422-.001zm10.526-12.546l-1.096 2.53c-.144-.022-.289-.034-.435-.035-.226 0-.452.018-.679.053s-.47.125-.73.25c-.487.214-.905.677-1.27 1.372a5.55 5.55 0 0 0-.61 2.549v5.81l-2.33.374V6.293l2.157-.392v2.584l.852-1.354c.4-.464.87-.802 1.392-.999.278-.106.783-.196 1.548-.267l1.201-.053zm17.362 12.546l-2.331.339v-8.501c0-.785-.174-1.355-.522-1.711s-.87-.535-1.549-.535c-.817 0-1.444.339-1.861 1.016-.279.463-.435.962-.435 1.461v7.913l-2.331.428v-8.519c0-.748-.174-1.319-.505-1.71-.348-.393-.8-.589-1.392-.589h-.226c-.818 0-1.41.339-1.775 1.034-.278.517-.417 1.176-.417 1.978v7.378l-2.418.428V6.293l2.174-.374v1.586c.244-.375.487-.678.714-.891a3.08 3.08 0 0 1 2.174-.874c.922 0 1.6.143 2.07.446.4.25.783.748 1.166 1.461.8-1.265 1.931-1.907 3.428-1.907 1.426 0 2.488.446 3.183 1.355.575.748.853 1.853.853 3.297v7.966zm10.65-3.76c0 1.14-.4 2.085-1.2 2.816-.8.748-1.81 1.105-3.028 1.105a4.89 4.89 0 0 1-2.488-.642c-.748-.427-1.304-.909-1.67-1.479l1.636-1.461c.121.178.226.32.33.427.61.624 1.34.945 2.192.945.592 0 1.062-.16 1.392-.463.348-.303.505-.731.505-1.284 0-.623-.4-1.051-1.2-1.283l-2.558-.802c-.731-.374-1.253-.766-1.584-1.212-.365-.517-.556-1.194-.556-2.067a3.47 3.47 0 0 1 1.183-2.673c.783-.713 1.722-1.052 2.8-1.052.819 0 1.584.178 2.28.553s1.2.766 1.496 1.23l-1.392 1.514a5.11 5.11 0 0 0-.678-.57c-.557-.392-1.096-.588-1.6-.588-.488 0-.888.107-1.201.32-.366.268-.557.66-.557 1.177 0 .499.174.873.54 1.105.313.196.974.41 2.018.641 1.043.25 1.844.678 2.418 1.284.644.641.922 1.443.922 2.459z\" fill=\"#3a7af3\" /></svg>\n",
       "</a>\n",
       "</div>\n",
       "<div id=\"header\" class=\"\">\n",
       "<ul class=\"nav navbar-nav \">\n",
       "<li class=\"navbar-nav-li m-active\">\n",
       "<a class=\"navbar-nav-li-a navbar-arrow blue-border-bottom\" href=\"javascript:\">\n",
       "<span class=\"servicemenu\">Find Services</span>\n",
       "<b class=\"triangle\"></b>\n",
       "</a>\n",
       "<div class=\"allmenu\"><div class=\"option-bg\"></div><ul class=\"left-submenu\" id=\"category-menu\"> <li class=\"vcategory-menu hovered\"> <a class=\"vcategory-menu-title\" href=\"/directory/platform/app-development\"><svg xmlns=\"http://www.w3.org/2000/svg\" width=\"24\" height=\"24\"><path d=\"M18.143 0a2.11 2.11 0 0 1 2.11 2.11h0v19.781A2.11 2.11 0 0 1 18.143 24h0H6.109A2.11 2.11 0 0 1 4 21.891h0V2.11A2.11 2.11 0 0 1 6.109 0h0zm.704 18.435H5.406v3.456c0 .387.315.703.703.703h0 12.034c.388 0 .704-.315.704-.703h0v-3.456zm-4.3 1.376c.388 0 .704.315.704.703s-.315.704-.704.704h0-4.84c-.388 0-.704-.315-.704-.704s.315-.703.704-.703h0zm4.3-15.439H5.406v12.657h13.44V4.372zm-.704-2.966H6.109c-.387 0-.703.315-.703.704h0v.856h13.44V2.11c0-.388-.315-.704-.704-.704h0z\" fill=\"#333\" fill-rule=\"evenodd\" /></svg>Mobile App Development</a><span class=\"vcategory-inner-arrow\"><b class=\"right-caret\"></b></span> <div class=\"mega-sub-menu menu600\"> <div class=\"row\"> <div class=\"section-entity width20per specappcat cdata1\"> <ul> <li class=\"section-entity-li\"><span class=\"tab-content-list-title\">Platforms</span></li><li><a href=\"/directory/platform/app-development/iphone\">iPhone</a></li><li><a href=\"/directory/platform/app-development/android\">Android</a></li><li><a href=\"/directory/platform/app-development/ipad\">iPad</a></li><li><a href=\"/directory/platform/app-development/windows\">Windows</a></li><li><a href=\"/directory/platform/app-development/blackberry\">Blackberry</a></li><li><a href=\"/directory/platform/app-development/wearable\">Wearable</a></li><li><a href=\"/directory/platform/app-development/hybrid\">Hybrid</a></li></ul> </div><div class=\"section-entity width20per specappcat cdata1\"> <ul> <li class=\"section-entity-li\"><span class=\"tab-content-list-title\">Countries</span></li><li><a href=\"/directory/country/app-development/in\">India</a></li><li><a href=\"/directory/country/app-development/us\">United States</a></li><li><a href=\"/directory/country/app-development/gb\">United Kingdom</a></li><li><a href=\"/directory/country/app-development/au\">Australia</a></li><li><a href=\"/directory/country/app-development/ca\">Canada</a></li><li><a href=\"/directory/country/app-development/ua\">Ukraine</a></li><li><a href=\"/directory/country/app-development/by\">Belarus</a></li><li><a href=\"/directory/country/app-development/ru\">Russia</a></li><li><a href=\"/directory/country/app-development/ae\">UAE</a></li><li><a href=\"/directory/country/app-development/ee\">Estonia</a></li></ul> </div><div class=\"section-entity width20per specappcat cdata1\"> <ul> <li class=\"section-entity-li\"><span class=\"tab-content-list-title\">States</span></li><li><a href=\"/directory/state/app-development/washington\">Washington</a></li><li><a href=\"/directory/state/app-development/texas\">Texas</a></li><li><a href=\"/directory/state/app-development/ohio\">Ohio</a></li><li><a href=\"/directory/state/app-development/new-york\">New York</a></li><li><a href=\"/directory/state/app-development/illinois\">Illinois</a></li><li><a href=\"/directory/state/app-development/georgia\">Georgia</a></li><li><a href=\"/directory/state/app-development/florida\">Florida</a></li><li><a href=\"/directory/state/app-development/california\">California</a></li><li><a href=\"/directory/state/app-development/new-jersey\">New Jersey</a></li><li><a href=\"/directory/state/app-development/north-carolina\">North Carolina</a></li></ul> </div><div class=\"section-entity width20per specappcat cdata1\"> <ul> <li class=\"section-entity-li\"><span class=\"tab-content-list-title\">Cities</span></li><li><a href=\"/directory/city/app-development/los-angeles\">Los Angeles</a></li><li><a href=\"/directory/city/app-development/san-francisco\">San Francisco</a></li><li><a href=\"/directory/city/app-development/boston\">Boston</a></li><li><a href=\"/directory/city/app-development/atlanta\">Atlanta</a></li><li><a href=\"/directory/city/app-development/chicago\">Chicago</a></li><li><a href=\"/directory/city/app-development/seattle\">Seattle</a></li><li><a href=\"/directory/city/app-development/austin\">Austin</a></li><li><a href=\"/directory/city/app-development/houston\">Houston</a></li><li><a href=\"/directory/city/app-development/melbourne\">Melbourne</a></li><li><a href=\"/directory/city/app-development/sydney\">Sydney</a></li></ul> </div><div class=\"section-entity width20per specappcat cdata1\"> <ul> <li class=\"section-entity-li\"><span class=\"tab-content-list-title\">Industries</span></li><li><a href=\"/app-development/education\">Education</a></li><li><a href=\"/app-development/social\">Social</a></li><li><a href=\"/app-development/financial\">Financial</a></li><li><a href=\"/app-development/startups\">Startups</a></li><li><a href=\"/app-development/enterprise\">Enterprise</a></li><li><a href=\"/app-development/ecommerce\">E-commerce</a></li><li><a href=\"/app-development/business-intelligence\">Business Intelligence</a></li><li><a href=\"/app-development/real-estate\">Real Estate</a></li><li><a href=\"/app-development/healthcare-medical\">Healthcare</a></li><li><a href=\"/app-development/travel-lifestyle\">Travel</a></li></ul> </div></div></div></li><li class=\"vcategory-menu\"> <a class=\"vcategory-menu-title\" href=\"/directory/languages/top-software-development-companies\"><svg xmlns=\"http://www.w3.org/2000/svg\" width=\"24\" height=\"24\"><path d=\"M21.89 1C23.054 1 24 1.947 24 3.11h0v14.063a2.11 2.11 0 0 1-2.11 2.109h0-6.101l.937 2.812h2.305c.389 0 .704.314.704.704s-.314.703-.704.703h0H4.969c-.389 0-.704-.314-.704-.703s.314-.704.704-.704h0 2.305l.937-2.812H2.11A2.11 2.11 0 0 1 0 17.173h0V3.11C0 1.947.946 1 2.11 1h0zm-7.585 18.281h-4.61l-.938 2.812h6.487l-.938-2.812zm8.289-2.812H1.406v.704c0 .387.315.703.704.703h0 19.78c.388 0 .704-.315.704-.703h0v-.704zM21.89 2.406H2.11c-.388 0-.704.315-.704.704h0v11.953h2.859v-2.11c0-.388.314-.703.704-.703h0 1.087c.072-.205.156-.406.25-.602h0l-.769-.769c-.275-.274-.275-.72 0-.995h0l1.989-1.988c.133-.132.311-.206.499-.206s.364.074.496.206h0l.769.769c.196-.095.397-.178.601-.251h0V7.328c0-.388.315-.703.704-.703h0 2.812c.389 0 .704.314.704.703h0v1.087c.204.073.405.156.601.251h0l.769-.769c.133-.132.312-.206.497-.206s.365.074.497.206h0l1.989 1.988c.275.275.275.721 0 .995h0l-.769.769c.094.196.178.397.25.602h0 1.087c.389 0 .704.314.704.703h0v2.11h2.859V3.11c0-.388-.315-.704-.704-.704h0zM12 12.251c-1.163 0-2.11.946-2.11 2.109 0 .241.043.479.121.704h0 3.977c.08-.225.121-.463.121-.704 0-1.163-.947-2.109-2.11-2.109zm.704-4.219h-1.406v.901c0 .321-.217.601-.527.681a4.91 4.91 0 0 0-1.253.521c-.277.164-.628.119-.855-.108h0l-.639-.639-.995.994.639.639c.227.227.272.579.109.855a4.91 4.91 0 0 0-.521 1.253c-.081.311-.361.527-.681.527h0-.902v1.406h2.884c-.047-.23-.072-.466-.072-.704A3.52 3.52 0 0 1 12 10.844a3.52 3.52 0 0 1 3.516 3.515c0 .238-.025.473-.072.704h0 2.884v-1.406h-.902c-.32 0-.6-.216-.681-.527a4.87 4.87 0 0 0-.521-1.253c-.163-.276-.118-.628.109-.854h0l.639-.64-.995-.994-.639.639c-.227.227-.579.272-.855.109-.395-.233-.817-.409-1.253-.523a.7.7 0 0 1-.526-.681h0v-.901zm6.328-4.219c1.163 0 2.11.947 2.11 2.109s-.947 2.11-2.11 2.11-2.11-.947-2.11-2.11.947-2.109 2.11-2.109zm0 1.406c-.387 0-.704.315-.704.703s.316.704.704.704.704-.315.704-.704-.316-.703-.704-.703z\" fill=\"#333\" fill-rule=\"evenodd\" /></svg>Software Development</a><span class=\"vcategory-inner-arrow\"><b class=\"right-caret\"></b></span> <div class=\"mega-sub-menu menu600\"> <div class=\"row\"> <div class=\"section-entity width20per specappcat\"> <ul> <li class=\"section-entity-li\"><span class=\"tab-content-list-title\">Languages</span></li><li><a href=\"/directory/languages/top-software-development-companies/java\">Java</a></li><li><a href=\"/directory/languages/top-software-development-companies/php\">PHP</a></li><li><a href=\"/directory/languages/top-software-development-companies/javascript\">Javascript</a></li><li><a href=\"/directory/languages/top-software-development-companies/angularjs\">AngularJS</a></li><li><a href=\"/directory/languages/top-software-development-companies/c-sharp\">C#</a></li><li><a href=\"/directory/languages/top-software-development-companies/python\">Python</a></li><li><a href=\"/directory/languages/top-software-development-companies/ajax\">Ajax</a></li><li><a href=\"/directory/languages/top-software-development-companies/node-js\">Node.js</a></li><li><a href=\"/directory/languages/top-software-development-companies/reactjs\">ReactJS</a></li><li><a href=\"/directory/languages/top-software-development-companies/golang\">GoLang</a></li></ul> </div><div class=\"section-entity width20per specappcat\"> <ul> <li class=\"section-entity-li\"><span class=\"tab-content-list-title\">Frameworks</span></li><li><a href=\"/directory/frameworks/top-software-development-companies/net\">.NET</a></li><li><a href=\"/directory/frameworks/top-software-development-companies/cakephp\">CakePHP</a></li><li><a href=\"/directory/frameworks/top-software-development-companies/ruby-on-rails\">Ruby on Rails</a></li><li><a href=\"/directory/frameworks/top-software-development-companies/codeigniter\">CodeIgniter</a></li><li><a href=\"/directory/frameworks/top-software-development-companies/laravel\">Laravel</a></li><li><a href=\"/directory/frameworks/top-software-development-companies/zend\">Zend</a></li><li><a href=\"/directory/frameworks/top-software-development-companies/symfony\">Symfony</a></li><li><a href=\"/directory/frameworks/top-software-development-companies/django\">Django</a></li><li><a href=\"/directory/frameworks/top-software-development-companies/yii\">Yii</a></li></ul> </div><div class=\"section-entity width20per specappcat\"> <ul> <li class=\"section-entity-li\"><span class=\"tab-content-list-title\">Countries</span></li><li><a href=\"/directory/country/top-software-development-companies/in\">India</a></li><li><a href=\"/directory/country/top-software-development-companies/us\">United States</a></li><li><a href=\"/directory/country/top-software-development-companies/gb\">United Kingdom</a></li><li><a href=\"/directory/country/top-software-development-companies/ru\">Russia</a></li><li><a href=\"/directory/country/top-software-development-companies/ua\">Ukraine</a></li><li><a href=\"/directory/country/top-software-development-companies/by\">Belarus</a></li><li><a href=\"/directory/country/top-software-development-companies/ca\">Canada</a></li><li><a href=\"/directory/country/top-software-development-companies/au\">Australia</a></li><li><a href=\"/directory/country/top-software-development-companies/ae\">UAE</a></li></ul> </div><div class=\"section-entity width20per specappcat\"> <ul> <li class=\"section-entity-li\"><span class=\"tab-content-list-title\">States</span></li><li><a href=\"/directory/state/top-software-development-companies/washington\">Washington</a></li><li><a href=\"/directory/state/top-software-development-companies/texas\">Texas</a></li><li><a href=\"/directory/state/top-software-development-companies/ohio\">Ohio</a></li><li><a href=\"/directory/state/top-software-development-companies/new-york\">New York</a></li><li><a href=\"/directory/state/top-software-development-companies/illinois\">Illinois</a></li><li><a href=\"/directory/state/top-software-development-companies/georgia\">Georgia</a></li><li><a href=\"/directory/state/top-software-development-companies/california\">California</a></li><li><a href=\"/directory/state/top-software-development-companies/new-jersey\">New Jersey</a></li><li><a href=\"/directory/state/top-software-development-companies/north-carolina\">North Carolina</a></li><li><a href=\"/directory/state/top-software-development-companies/pennsylvania\">Pennsylvania</a></li></ul> </div><div class=\"section-entity width20per specappcat\"> <ul> <li class=\"section-entity-li\"><span class=\"tab-content-list-title\">Cities</span></li><li><a href=\"/directory/city/top-software-development-companies/los-angeles\">Los Angeles</a></li><li><a href=\"/directory/city/top-software-development-companies/san-francisco\">San Francisco</a></li><li><a href=\"/directory/city/top-software-development-companies/atlanta\">Atlanta</a></li><li><a href=\"/directory/city/top-software-development-companies/seattle\">Seattle</a></li><li><a href=\"/directory/city/top-software-development-companies/melbourne\">Melbourne</a></li><li><a href=\"/directory/city/top-software-development-companies/chicago\">Chicago</a></li><li><a href=\"/directory/city/top-software-development-companies/toronto\">Toronto</a></li><li><a href=\"/directory/city/top-software-development-companies/sydney\">Sydney</a></li><li><a href=\"/directory/city/top-software-development-companies/austin\">Austin</a></li><li><a href=\"/directory/city/top-software-development-companies/baltimore\">Baltimore</a></li></ul> </div></div></div></li><li class=\"vcategory-menu\"> <a class=\"vcategory-menu-title\" href=\"/directory/cms/top-website-development-companies\"><svg xmlns=\"http://www.w3.org/2000/svg\" width=\"24\" height=\"24\"><path d=\"M22.646 12.779c-.162 2.273-1.03 4.391-2.506 6.128l-.074.086-.085-.076a12.18 12.18 0 0 0-1.792-1.327l-.072-.043.022-.082c.423-1.461.668-3.042.727-4.698l.003-.106h.107 3.559.119l-.009.118zm-3.602 7.239c-.83.732-1.76 1.327-2.763 1.766l-.39.17.258-.337c.57-.749 1.067-1.645 1.48-2.664l.05-.125.114.074c.438.284.86.605 1.252.951l.094.083-.094.082zm-6.242 2.541l-.141.04v-.147-5.116-.119l.119.009a10.57 10.57 0 0 1 3.634.921l.095.043-.039.097c-.421 1.088-1.625 3.682-3.668 4.272h0zm-.141-6.769v-3.019-.11h.11 4.661.116l-.004.115c-.054 1.413-.251 2.767-.589 4.024l-.033.125-.118-.052a11.88 11.88 0 0 0-4.04-.972l-.104-.007v-.104zm0-4.562V8.209v-.104l.104-.007a11.88 11.88 0 0 0 4.04-.972l.118-.051.033.123c.337 1.257.535 2.612.589 4.024l.004.115h-.116-4.661-.11v-.11zm0-4.564V1.547 1.4l.141.04c2.043.59 3.247 3.184 3.668 4.272l.039.097-.095.043a10.57 10.57 0 0 1-3.634.921l-.119.009v-.118zm3.621-4.449c1.003.44 1.933 1.033 2.763 1.766l.094.082-.094.083a10.8 10.8 0 0 1-1.252.953l-.114.073-.05-.125c-.412-1.019-.91-1.915-1.48-2.663l-.258-.338.39.17zm3.785 2.791l.074.086c1.476 1.736 2.344 3.854 2.506 6.128l.009.118h-.119-3.559-.107l-.003-.106c-.058-1.656-.303-3.236-.727-4.698l-.022-.082.072-.043a12.18 12.18 0 0 0 1.792-1.327l.085-.076zm-8.727-3.46v5.117.118l-.118-.009c-1.267-.09-2.489-.4-3.634-.921l-.096-.043.039-.097c.422-1.088 1.626-3.682 3.668-4.272l.141-.04v.147zm0 6.662v3.019.11h-.11-4.661-.115l.003-.115c.054-1.412.252-2.767.59-4.024l.033-.123.117.051c1.276.558 2.635.885 4.04.972l.104.007v.104zm0 4.562v3.019.104l-.104.007c-1.405.087-2.764.415-4.04.972l-.117.052-.033-.125c-.337-1.257-.536-2.611-.59-4.024l-.003-.115h.115 4.661.11v.11zm0 4.565v5.116.147l-.141-.04c-2.042-.59-3.246-3.184-3.668-4.272l-.039-.097.096-.043a10.56 10.56 0 0 1 3.634-.921l.118-.009v.119zm-3.621 4.447a10.64 10.64 0 0 1-2.764-1.766l-.094-.082.094-.083c.395-.347.816-.667 1.255-.951l.111-.074.051.125c.411 1.019.908 1.915 1.48 2.664l.258.337-.39-.17zm-3.785-2.791l-.073-.086a10.56 10.56 0 0 1-2.507-6.128l-.008-.118h.118 3.56.105l.004.106c.058 1.656.303 3.237.725 4.698l.024.082-.073.043c-.632.383-1.235.829-1.792 1.327l-.085.076zm-2.58-7.773a10.56 10.56 0 0 1 2.507-6.128l.073-.086.085.076c.557.498 1.16.945 1.792 1.327l.073.043-.024.082c-.421 1.461-.666 3.042-.725 4.698l-.004.106h-.105-3.56-.118l.008-.118zm3.601-7.239a10.64 10.64 0 0 1 2.764-1.766l.39-.17-.258.338c-.57.747-1.068 1.644-1.48 2.663l-.051.125-.111-.073a10.92 10.92 0 0 1-1.255-.953l-.094-.083.094-.082zm15.529-.464C18.215 1.249 15.203 0 12.001 0a11.92 11.92 0 0 0-8.484 3.517C1.249 5.784 0 8.797 0 11.999s1.249 6.216 3.517 8.483S8.797 24 12.001 24s6.215-1.249 8.483-3.518S24 15.202 24 11.999s-1.248-6.216-3.517-8.483h0z\" fill=\"#333\" fill-rule=\"evenodd\" /></svg>Web Development</a><span class=\"vcategory-inner-arrow\"><b class=\"right-caret\"></b></span> <div class=\"mega-sub-menu menu600\"> <div class=\"row\"> <div class=\"section-entity col-md-3 specappcat\"> <ul> <li class=\"section-entity-li\"><span class=\"tab-content-list-title\">CMS</span></li><li><a href=\"/directory/cms/top-website-development-companies/wordpress\">Wordpress</a></li><li><a href=\"/directory/cms/top-website-development-companies/drupal\">Drupal</a></li><li><a href=\"/directory/cms/top-website-development-companies/joomla\">Joomla</a></li><li><a href=\"/directory/cms/top-website-development-companies/sitecore\">Sitecore</a></li></ul> </div><div class=\"section-entity col-md-3 specappcat\"> <ul> <li class=\"section-entity-li\"><span class=\"tab-content-list-title\">Countries</span></li><li><a href=\"/directory/country/top-website-development-companies/in\">India</a></li><li><a href=\"/directory/country/top-website-development-companies/us\">United States</a></li><li><a href=\"/directory/country/top-website-development-companies/gb\">United Kingdom</a></li><li><a href=\"/directory/country/top-website-development-companies/ru\">Russia</a></li><li><a href=\"/directory/country/top-website-development-companies/ua\">Ukraine</a></li><li><a href=\"/directory/country/top-website-development-companies/by\">Belarus</a></li><li><a href=\"/directory/country/top-website-development-companies/ca\">Canada</a></li><li><a href=\"/directory/country/top-website-development-companies/au\">Australia</a></li><li><a href=\"/directory/country/top-website-development-companies/ae\">UAE</a></li><li><a href=\"/directory/country/top-website-development-companies/ee\">Estonia</a></li></ul> </div><div class=\"section-entity col-md-3 specappcat\"> <ul> <li class=\"section-entity-li\"><span class=\"tab-content-list-title\">States</span></li><li><a href=\"/directory/state/top-website-development-companies/washington\">Washington</a></li><li><a href=\"/directory/state/top-website-development-companies/texas\">Texas</a></li><li><a href=\"/directory/state/top-website-development-companies/ohio\">Ohio</a></li><li><a href=\"/directory/state/top-website-development-companies/new-york\">New York</a></li><li><a href=\"/directory/state/top-website-development-companies/illinois\">Illinois</a></li><li><a href=\"/directory/state/top-website-development-companies/georgia\">Georgia</a></li><li><a href=\"/directory/state/top-website-development-companies/california\">California</a></li><li><a href=\"/directory/state/top-website-development-companies/new-jersey\">New Jersey</a></li><li><a href=\"/directory/state/top-website-development-companies/north-carolina\">North Carolina</a></li><li><a href=\"/directory/state/top-website-development-companies/pennsylvania\">Pennsylvania</a></li></ul> </div><div class=\"section-entity col-md-3 specappcat\"> <ul> <li class=\"section-entity-li\"><span class=\"tab-content-list-title\">Cities</span></li><li><a href=\"/directory/city/top-website-development-companies/los-angeles\">Los Angeles</a></li><li><a href=\"/directory/city/top-website-development-companies/san-francisco\">San Francisco</a></li><li><a href=\"/directory/city/top-website-development-companies/atlanta\">Atlanta</a></li><li><a href=\"/directory/city/top-website-development-companies/chicago\">Chicago</a></li><li><a href=\"/directory/city/top-website-development-companies/seattle\">Seattle</a></li><li><a href=\"/directory/city/top-website-development-companies/melbourne\">Melbourne</a></li><li><a href=\"/directory/city/top-website-development-companies/toronto\">Toronto</a></li><li><a href=\"/directory/city/top-website-development-companies/sydney\">Sydney</a></li><li><a href=\"/directory/city/top-website-development-companies/austin\">Austin</a></li><li><a href=\"/directory/city/top-website-development-companies/baltimore\">Baltimore</a></li></ul> </div></div></div></li><li class=\"vcategory-menu\"> <a class=\"vcategory-menu-title\" href=\"/ecommerce-development-companies\"><svg xmlns=\"http://www.w3.org/2000/svg\" width=\"24\" height=\"24\"><path d=\"M1.406 6.786V6.62h.165 20.858.165v.166c0 1.528-1.243 2.773-2.773 2.773a2.73 2.73 0 0 1-2.078-.96.7.7 0 0 0-.529-.239c-.169 0-.334.062-.462.174a.75.75 0 0 0-.066.066 2.79 2.79 0 0 1-2.078.929c-.688 0-1.347-.252-1.86-.711l-.216-.216a.72.72 0 0 0-.531-.228.73.73 0 0 0-.502.199l-.031.031c-.525.587-1.282.925-2.074.925-.687 0-1.348-.252-1.86-.711l-.216-.216c-.137-.146-.326-.228-.532-.228a.73.73 0 0 0-.501.199l-.031.031c-.515.604-1.273.954-2.074.954-1.53 0-2.773-1.244-2.773-2.773h0zm.345-1.791L2.909 1.52l.039-.113h.119 2.849.167v.166 3.476.166h-.167-4.009-.23l.074-.219zm5.738.053V1.573v-.166h.165 3.477.165v.166 3.476.166h-.165-3.477-.165v-.166zm5.214 0V1.573v-.166h.166 3.476.165v.166 3.476.166h-.165-3.476-.166v-.166zm5.214 0V1.573v-.166h.166 2.849.121l.038.113 1.159 3.476.073.219h-.23-4.009-.166v-.166zm2.939 5.996v10.515c0 .572-.463 1.034-1.035 1.034h-4.345-.166v-.165-7.82c0-.388-.315-.703-.702-.703H9.393c-.388 0-.703.315-.703.703v7.82.165h-.165-4.346c-.572 0-1.035-.462-1.035-1.034V11.044v-.204l.199.041a4.11 4.11 0 0 0 .831.084 4.15 4.15 0 0 0 2.511-.851l.1-.076.101.074a4.21 4.21 0 0 0 2.509.822 4.21 4.21 0 0 0 2.509-.822l.098-.072.098.072a4.21 4.21 0 0 0 2.51.822 4.21 4.21 0 0 0 2.507-.822l.101-.074.1.076a4.15 4.15 0 0 0 2.511.851 4.11 4.11 0 0 0 .831-.084l.199-.041v.204zm-6.951 4.432v6.952.165h-.167-3.475-.167v-.165-6.952-.165h.167 3.475.167v.165zM1.738 21.559C1.738 22.905 2.833 24 4.179 24H19.82c1.346 0 2.441-1.095 2.441-2.441V10.262v-.083l.067-.07A4.18 4.18 0 0 0 24 6.786v-.869c-.002-.087-.014-.156-.035-.222L22.226.481C22.13.194 21.862 0 21.559 0H2.441c-.304 0-.572.194-.668.481L.035 5.696c-.022.065-.034.134-.035.204v.887c.001 1.302.627 2.545 1.67 3.324l.067.05v.083 11.316z\" fill=\"#333\" fill-rule=\"evenodd\" /></svg>E-commerce Development</a><span class=\"vcategory-inner-arrow\"><b class=\"right-caret\"></b></span> <div class=\"mega-sub-menu menu600\"> <div class=\"row\"> <div class=\"section-entity col-md-3 specappcat\"> <ul> <li class=\"section-entity-li\"><span class=\"tab-content-list-title\">Platforms</span></li><li><a href=\"/ecommerce-development-companies/magento\">Magento</a></li><li><a href=\"/ecommerce-development-companies/shopify\">Shopify</a></li><li><a href=\"/ecommerce-development-companies/bigcommerce\">Bigcommerce</a></li><li><a href=\"/ecommerce-development-companies/woocommerce\">WooCommerce</a></li><li><a href=\"/ecommerce-development-companies/cs-cart\">CS-Cart</a></li><li><a href=\"/ecommerce-development-companies/volusion\">Volusion</a></li><li><a href=\"/ecommerce-development-companies/3dcart\">3dCart</a></li><li><a href=\"/ecommerce-development-companies/opencart\">OpenCart</a></li></ul> </div><div class=\"section-entity col-md-3 specappcat\"> <ul> <li class=\"section-entity-li\"><span class=\"tab-content-list-title\">Countries</span></li><li><a href=\"/ecommerce-development-companies/in\">India</a></li><li><a href=\"/ecommerce-development-companies/us\">United States</a></li><li><a href=\"/ecommerce-development-companies/gb\">United Kingdom</a></li><li><a href=\"/ecommerce-development-companies/ru\">Russia</a></li><li><a href=\"/ecommerce-development-companies/ua\">Ukraine</a></li><li><a href=\"/ecommerce-development-companies/by\">Belarus</a></li><li><a href=\"/ecommerce-development-companies/ca\">Canada</a></li><li><a href=\"/ecommerce-development-companies/au\">Australia</a></li><li><a href=\"/ecommerce-development-companies/ae\">UAE</a></li><li><a href=\"/ecommerce-development-companies/ee\">Estonia</a></li></ul> </div><div class=\"section-entity col-md-3 specappcat\"> <ul> <li class=\"section-entity-li\"><span class=\"tab-content-list-title\">States</span></li><li><a href=\"/ecommerce-development-companies/washington\">Washington</a></li><li><a href=\"/ecommerce-development-companies/texas\">Texas</a></li><li><a href=\"/ecommerce-development-companies/ohio\">Ohio</a></li><li><a href=\"/ecommerce-development-companies/new-york\">New York</a></li><li><a href=\"/ecommerce-development-companies/illinois\">Illinois</a></li><li><a href=\"/ecommerce-development-companies/georgia\">Georgia</a></li><li><a href=\"/ecommerce-development-companies/california\">California</a></li><li><a href=\"/ecommerce-development-companies/new-jersey\">New Jersey</a></li><li><a href=\"/ecommerce-development-companies/north-carolina\">North Carolina</a></li><li><a href=\"/ecommerce-development-companies/pennsylvania\">Pennsylvania</a></li></ul> </div><div class=\"section-entity col-md-3 specappcat\"> <ul> <li class=\"section-entity-li\"><span class=\"tab-content-list-title\">Cities</span></li><li><a href=\"/ecommerce-development-companies/los-angeles\">Los Angeles</a></li><li><a href=\"/ecommerce-development-companies/san-francisco\">San Francisco</a></li><li><a href=\"/ecommerce-development-companies/atlanta\">Atlanta</a></li><li><a href=\"/ecommerce-development-companies/chicago\">Chicago</a></li><li><a href=\"/ecommerce-development-companies/seattle\">Seattle</a></li><li><a href=\"/ecommerce-development-companies/melbourne\">Melbourne</a></li><li><a href=\"/ecommerce-development-companies/toronto\">Toronto</a></li><li><a href=\"/ecommerce-development-companies/sydney\">Sydney</a></li><li><a href=\"/ecommerce-development-companies/austin\">Austin</a></li><li><a href=\"/ecommerce-development-companies/baltimore\">Baltimore</a></li></ul> </div></div></div></li><li class=\"vcategory-menu\"><a class=\"vcategory-menu-title\" href=\"/directory/services/list-blockchain-technology-companies\"><svg xmlns=\"http://www.w3.org/2000/svg\" width=\"24\" height=\"24\"><path d=\"M22.432 21.316a1.12 1.12 0 0 1-1.117 1.117h-3.801a1.12 1.12 0 0 1-1.117-1.117v-3.803a1.12 1.12 0 0 1 1.117-1.116h.855.167v.166 1.734h1.568v-1.734-.166h.166 1.045a1.12 1.12 0 0 1 1.117 1.116v3.803zm-7.604-3.803v.951.166h-.166-5.323-.166v-.166-.951a2.69 2.69 0 0 0-2.685-2.684H5.442h-.167v-.167-5.322-.166h.167 1.045a2.69 2.69 0 0 0 2.685-2.685v-.951-.166h.166 5.323.166v.166.951a2.69 2.69 0 0 0 2.685 2.685h.855.167v.166 5.322.167h-.167-.855a2.69 2.69 0 0 0-2.685 2.684h0zm-7.224.951v.166h-.167-1.734v1.568h1.734.167v.167.95a1.12 1.12 0 0 1-1.117 1.117H2.684a1.12 1.12 0 0 1-1.116-1.117v-3.803a1.12 1.12 0 0 1 1.116-1.116h3.803a1.12 1.12 0 0 1 1.117 1.116v.951zM3.54 7.604h-.856a1.12 1.12 0 0 1-1.116-1.116V2.685a1.12 1.12 0 0 1 1.116-1.116h3.803a1.12 1.12 0 0 1 1.117 1.116v3.803a1.12 1.12 0 0 1-1.117 1.116H5.442h-.167v-.166-1.735H3.706v1.735.166H3.54zm12.856-2.067v-.166h.166 1.735V3.803h-1.735-.166v-.166-.951a1.12 1.12 0 0 1 1.117-1.116h3.801a1.12 1.12 0 0 1 1.117 1.116v3.803a1.12 1.12 0 0 1-1.117 1.116h-3.801a1.12 1.12 0 0 1-1.117-1.116v-.951zM24 17.513a2.69 2.69 0 0 0-2.685-2.684h-1.045-.166v-.167-5.322-.166h.166 1.045A2.69 2.69 0 0 0 24 6.488V2.685A2.69 2.69 0 0 0 21.315 0h-3.801a2.69 2.69 0 0 0-2.685 2.685v.951.166h-.166-5.323-.166v-.166-.951A2.69 2.69 0 0 0 6.487 0H2.684A2.69 2.69 0 0 0 0 2.685v3.803a2.69 2.69 0 0 0 2.684 2.685h.856.166v.166 5.322.167H3.54h-.856A2.69 2.69 0 0 0 0 17.513v3.803a2.69 2.69 0 0 0 2.684 2.685h3.803a2.69 2.69 0 0 0 2.685-2.685v-.95-.167h.166 5.323.166v.167.95a2.69 2.69 0 0 0 2.685 2.685h3.801A2.69 2.69 0 0 0 24 21.316v-3.803z\" fill=\"#333\" fill-rule=\"evenodd\" /></svg>Blockchain Technology</a><span class=\"vcategory-inner-arrow\"><b class=\"right-caret\"></b></span> <div class=\"mega-sub-menu menu600\"> <div class=\"row\"> <div class=\"section-entity width20per \"> <ul> <li class=\"section-entity-li\"><span class=\"tab-content-list-title\">Services</span></li><li><a href=\"/directory/services/list-blockchain-technology-companies/smart-contract-development\">Smart Contract</a></li><li><a href=\"/directory/services/list-blockchain-technology-companies/private-blockchain-development\">Private Blockchain</a></li><li><a href=\"/directory/services/list-blockchain-technology-companies/ico-consulting\">ICO Consulting</a></li><li><a href=\"/directory/services/list-blockchain-technology-companies/cryptocurrency-exchange\">Exchange</a></li><li><a href=\"/directory/services/list-blockchain-technology-companies/cryptocurrency-wallet\">Wallet Development</a></li></ul> </div><div class=\"section-entity width20per \"> <ul> <li class=\"section-entity-li\"><span class=\"tab-content-list-title\">Platforms</span></li><li><a href=\"/directory/platforms/list-blockchain-technology-companies/ethereum\">Ethereum</a></li><li><a href=\"/directory/platforms/list-blockchain-technology-companies/hyperledger\">Hyperledger</a></li></ul> </div><div class=\"section-entity width20per \"> <ul> <li class=\"section-entity-li\"><span class=\"tab-content-list-title\">Countries</span></li><li><a href=\"/directory/country/list-blockchain-technology-companies/india\">India</a></li><li><a href=\"/directory/country/list-blockchain-technology-companies/usa\">United States</a></li><li><a href=\"/directory/country/list-blockchain-technology-companies/uk\">United Kingdom</a></li><li><a href=\"/directory/country/list-blockchain-technology-companies/australia\">Australia</a></li><li><a href=\"/directory/country/list-blockchain-technology-companies/canada\">Canada</a></li><li><a href=\"/directory/country/list-blockchain-technology-companies/ukraine\">Ukraine</a></li><li><a href=\"/directory/country/list-blockchain-technology-companies/belarus\">Belarus</a></li><li><a href=\"/directory/country/list-blockchain-technology-companies/russia\">Russia</a></li><li><a href=\"/directory/country/list-blockchain-technology-companies/uae\">UAE</a></li><li><a href=\"/directory/country/list-blockchain-technology-companies/estonia\">Estonia</a></li></ul> </div><div class=\"section-entity width20per \"> <ul> <li class=\"section-entity-li\"><span class=\"tab-content-list-title\">States</span></li><li><a href=\"/directory/state/list-blockchain-technology-companies/washington\">Washington</a></li><li><a href=\"/directory/state/list-blockchain-technology-companies/texas\">Texas</a></li><li><a href=\"/directory/state/list-blockchain-technology-companies/ohio\">Ohio</a></li><li><a href=\"/directory/state/list-blockchain-technology-companies/new-york\">New York</a></li><li><a href=\"/directory/state/list-blockchain-technology-companies/illinois\">Illinois</a></li><li><a href=\"/directory/state/list-blockchain-technology-companies/georgia\">Georgia</a></li><li><a href=\"/directory/state/list-blockchain-technology-companies/california\">California</a></li><li><a href=\"/directory/state/list-blockchain-technology-companies/new-jersey\">New Jersey</a></li><li><a href=\"/directory/state/list-blockchain-technology-companies/north-carolina\">North Carolina</a></li><li><a href=\"/directory/state/list-blockchain-technology-companies/pennsylvania\">Pennsylvania</a></li></ul> </div><div class=\"section-entity width20per \"> <ul> <li class=\"section-entity-li\"><span class=\"tab-content-list-title\">Cities</span></li><li><a href=\"/directory/city/list-blockchain-technology-companies/los-angeles\">Los Angeles</a></li><li><a href=\"/directory/city/list-blockchain-technology-companies/san-francisco\">San Francisco</a></li><li><a href=\"/directory/city/list-blockchain-technology-companies/atlanta\">Atlanta</a></li><li><a href=\"/directory/city/list-blockchain-technology-companies/chicago\">Chicago</a></li><li><a href=\"/directory/city/list-blockchain-technology-companies/seattle\">Seattle</a></li><li><a href=\"/directory/city/list-blockchain-technology-companies/melbourne\">Melbourne</a></li><li><a href=\"/directory/city/list-blockchain-technology-companies/sydney\">Sydney</a></li><li><a href=\"/directory/city/list-blockchain-technology-companies/toronto\">Toronto</a></li><li><a href=\"/directory/city/list-blockchain-technology-companies/san-jose\">San Jose</a></li><li><a href=\"/directory/city/list-blockchain-technology-companies/kiev\">Kiev</a></li></ul> </div></div></div></li><li class=\"vcategory-menu\"> <a class=\"vcategory-menu-title\" href=\"/directory/marketing-services/top-digital-marketing-companies\"><svg xmlns=\"http://www.w3.org/2000/svg\" width=\"24\" height=\"24\"><path d=\"M5.809 13.019V7.745c0-.576.458-1.045 1.022-1.045h4.284.166v.166 7.031.167h-.166-4.284c-.564 0-1.022-.469-1.022-1.045h0zm3.758 2.637v5.875c0 .575-.459 1.044-1.022 1.044s-1.023-.469-1.023-1.044v-5.875-.166h.166 1.713.166v.166zm-5.14-7.032v3.516.166h-.166c-1.036 0-1.88-.863-1.88-1.923s.844-1.924 1.88-1.924h.166v.166zm8.227 5.314V6.826v-.152l.152-.014c1.917-.178 3.75-.968 5.165-2.224l.275-.244v.369 11.642.369l-.275-.244c-1.415-1.256-3.248-2.046-5.165-2.225l-.152-.014v-.15zm6.973-11.467c0-.575.459-1.044 1.023-1.044s1.023.469 1.023 1.044v15.821c0 .576-.459 1.044-1.023 1.044s-1.023-.468-1.023-1.044V2.471zM6.141 21.53c0 1.361 1.078 2.47 2.404 2.47s2.402-1.108 2.402-2.47v-5.875-.166h.167.856c2.039 0 4.087.852 5.477 2.278l.781.802.039.039.008.053c.176 1.198 1.198 2.101 2.377 2.101 1.325 0 2.404-1.108 2.404-2.471V2.471C23.056 1.109 21.976 0 20.651 0c-1.179 0-2.201.904-2.377 2.101l-.008.054-.039.038-.781.802c-1.39 1.428-3.437 2.279-5.477 2.279h-5.14c-1.014 0-1.924.661-2.265 1.646l-.039.112h-.118-.147C2.464 7.032 1 8.535 1 10.382s1.464 3.35 3.262 3.35h.147.118l.039.112c.241.696.789 1.258 1.465 1.505l.109.039v.117 6.025z\" fill=\"#333\" fill-rule=\"evenodd\" /></svg>Digital Marketing</a><span class=\"vcategory-inner-arrow\"><b class=\"right-caret\"></b></span> <div class=\"mega-sub-menu menu600\"> <div class=\"row\"> <div class=\"section-entity col-md-3 \"> <ul> <li class=\"section-entity-li\"><span class=\"tab-content-list-title\">Services</span></li><li><a href=\"/seo-agencies\">SEO</a></li><li><a href=\"/directory/marketing-services/top-digital-marketing-companies/content-marketing\">Content Marketing</a></li><li><a href=\"/directory/marketing-services/top-digital-marketing-companies/social-media-marketing\">SMM</a></li><li><a href=\"/directory/marketing-services/top-digital-marketing-companies/advertising-ppc\">PPC</a></li><li><a href=\"/directory/marketing-services/top-digital-marketing-companies/mobile-app-marketing\">App Marketing</a></li><li><a href=\"/directory/marketing-services/top-digital-marketing-companies/email-marketing\">Email Marketing</a></li><li><a href=\"/directory/marketing-services/top-digital-marketing-companies/local-seo\">Local SEO</a></li><li><a href=\"/directory/marketing-services/top-digital-marketing-companies/branding\">Branding</a></li><li><a href=\"/directory/marketing-services/top-digital-marketing-companies/market-research\">Market Research</a></li><li><a href=\"/directory/marketing-services/top-digital-marketing-companies/inbound-marketing\">Inbound Marketing</a></li></ul> </div><div class=\"section-entity col-md-3 \"> <ul> <li class=\"section-entity-li\"><span class=\"tab-content-list-title\">Countries</span></li><li><a href=\"/directory/country/top-digital-marketing-companies/in\">India</a></li><li><a href=\"/directory/country/top-digital-marketing-companies/us\">United States</a></li><li><a href=\"/directory/country/top-digital-marketing-companies/gb\">United Kingdom</a></li><li><a href=\"/directory/country/top-digital-marketing-companies/ru\">Russia</a></li><li><a href=\"/directory/country/top-digital-marketing-companies/ua\">Ukraine</a></li><li><a href=\"/directory/country/top-digital-marketing-companies/by\">Belarus</a></li><li><a href=\"/directory/country/top-digital-marketing-companies/ca\">Canada</a></li><li><a href=\"/directory/country/top-digital-marketing-companies/au\">Australia</a></li><li><a href=\"/directory/country/top-digital-marketing-companies/ae\">UAE</a></li><li><a href=\"/directory/country/top-digital-marketing-companies/ee\">Estonia</a></li></ul> </div><div class=\"section-entity col-md-3 \"> <ul> <li class=\"section-entity-li\"><span class=\"tab-content-list-title\">States</span></li><li><a href=\"/directory/state/top-digital-marketing-companies/washington\">Washington</a></li><li><a href=\"/directory/state/top-digital-marketing-companies/texas\">Texas</a></li><li><a href=\"/directory/state/top-digital-marketing-companies/ohio\">Ohio</a></li><li><a href=\"/directory/state/top-digital-marketing-companies/new-york\">New York</a></li><li><a href=\"/directory/state/top-digital-marketing-companies/illinois\">Illinois</a></li><li><a href=\"/directory/state/top-digital-marketing-companies/georgia\">Georgia</a></li><li><a href=\"/directory/state/top-digital-marketing-companies/california\">California</a></li><li><a href=\"/directory/state/top-digital-marketing-companies/new-jersey\">New Jersey</a></li><li><a href=\"/directory/state/top-digital-marketing-companies/north-carolina\">North Carolina</a></li><li><a href=\"/directory/state/top-digital-marketing-companies/pennsylvania\">Pennsylvania</a></li></ul> </div><div class=\"section-entity col-md-3 \"> <ul> <li class=\"section-entity-li\"><span class=\"tab-content-list-title\">Cities</span></li><li><a href=\"/directory/city/top-digital-marketing-companies/los-angeles\">Los Angeles</a></li><li><a href=\"/directory/city/top-digital-marketing-companies/san-francisco\">San Francisco</a></li><li><a href=\"/directory/city/top-digital-marketing-companies/atlanta\">Atlanta</a></li><li><a href=\"/directory/city/top-digital-marketing-companies/chicago\">Chicago</a></li><li><a href=\"/directory/city/top-digital-marketing-companies/seattle\">Seattle</a></li><li><a href=\"/directory/city/top-digital-marketing-companies/melbourne\">Melbourne</a></li><li><a href=\"/directory/city/top-digital-marketing-companies/sydney\">Sydney</a></li><li><a href=\"/directory/city/top-digital-marketing-companies/toronto\">Toronto</a></li><li><a href=\"/directory/city/top-digital-marketing-companies/austin\">Austin</a></li><li><a href=\"/directory/city/top-digital-marketing-companies/dallas\">Dallas</a></li></ul> </div></div></div></li><li class=\"vcategory-menu\"> <a class=\"vcategory-menu-title\" href=\"/seo-agencies\"><svg width=\"24px\" height=\"24px\" viewBox=\"0 0 24 24\" version=\"1.1\" xmlns=\"http://www.w3.org/2000/svg\" xmlns:xlink=\"http://www.w3.org/1999/xlink\"><g id=\"menu-seo\" stroke=\"none\" stroke-width=\"1\" fill=\"none\" fill-rule=\"evenodd\"><path d=\"M1.9512,10.5696 C1.9512,5.8176 5.8176,1.9512 10.5696,1.9512 C15.3216,1.9512 19.1868,5.8176 19.1868,10.5696 C19.1868,15.3216 15.3216,19.188 10.5696,19.188 C5.8176,19.188 1.9512,15.3216 1.9512,10.5696 M23.7144,22.3356 L18.6972,17.3184 C20.2212,15.486 21.138,13.1328 21.138,10.5696 C21.138,4.7424 16.3968,0 10.5696,0 C4.7412,0 1.52766688e-13,4.7424 1.52766688e-13,10.5696 C1.52766688e-13,16.3968 4.7412,21.1392 10.5696,21.1392 C13.1316,21.1392 15.4848,20.2212 17.3184,18.6972 L22.3344,23.7144 C22.5252,23.9052 22.7748,24 23.0244,24 C23.274,24 23.5236,23.9052 23.7144,23.7144 C24.0948,23.334 24.0948,22.716 23.7144,22.3356\" id=\"seo\" fill=\"#333333\"></path></g></svg>SEO Services</a><span class=\"vcategory-inner-arrow\"><b class=\"right-caret\"></b></span> <div class=\"mega-sub-menu menu500\"> <div class=\"row\"> <div class=\"section-entity col-md-4 \"> <ul> <li class=\"section-entity-li\"><span class=\"tab-content-list-title\">Countries</span></li><li><a href=\"/seo-agencies/india\">India</a></li><li><a href=\"/seo-agencies/usa\">United States</a></li><li><a href=\"/seo-agencies/uk\">United Kingdom</a></li><li><a href=\"/seo-agencies/australia\">Australia</a></li><li><a href=\"/seo-agencies/canada\">Canada</a></li><li><a href=\"/seo-agencies/ukraine\">Ukraine</a></li><li><a href=\"/seo-agencies/belarus\">Belarus</a></li><li><a href=\"/seo-agencies/russia\">Russia</a></li><li><a href=\"/seo-agencies/uae\">UAE</a></li><li><a href=\"/seo-agencies/estonia\">Estonia</a></li></ul> </div><div class=\"section-entity col-md-4 \"> <ul> <li class=\"section-entity-li\"><span class=\"tab-content-list-title\">States</span></li><li><a href=\"/seo-agencies/washington\">Washington</a></li><li><a href=\"/seo-agencies/texas\">Texas</a></li><li><a href=\"/seo-agencies/ohio\">Ohio</a></li><li><a href=\"/seo-agencies/new-york\">New York</a></li><li><a href=\"/seo-agencies/illinois\">Illinois</a></li><li><a href=\"/seo-agencies/georgia\">Georgia</a></li><li><a href=\"/seo-agencies/california\">California</a></li><li><a href=\"/seo-agencies/new-jersey\">New Jersey</a></li><li><a href=\"/seo-agencies/north-carolina\">North Carolina</a></li><li><a href=\"/seo-agencies/pennsylvania\">Pennsylvania</a></li></ul> </div><div class=\"section-entity col-md-4 \"> <ul> <li class=\"section-entity-li\"><span class=\"tab-content-list-title\">Cities</span></li><li><a href=\"/seo-agencies/los-angeles\">Los Angeles</a></li><li><a href=\"/seo-agencies/san-francisco\">San Francisco</a></li><li><a href=\"/seo-agencies/atlanta\">Atlanta</a></li><li><a href=\"/seo-agencies/chicago\">Chicago</a></li><li><a href=\"/seo-agencies/seattle\">Seattle</a></li><li><a href=\"/seo-agencies/melbourne\">Melbourne</a></li><li><a href=\"/seo-agencies/sydney\">Sydney</a></li><li><a href=\"/seo-agencies/toronto\">Toronto</a></li><li><a href=\"/seo-agencies/austin\">Austin</a></li><li><a href=\"/seo-agencies/dallas\">Dallas</a></li></ul> </div></div></div></li><li class=\"vcategory-menu\"> <a class=\"vcategory-menu-title\" href=\"/directory/platforms/top-web-design-companies\"><svg xmlns=\"http://www.w3.org/2000/svg\" width=\"24\" height=\"24\"><path d=\"M21.984 1A2.02 2.02 0 0 1 24 3.015h0v15.094a2.02 2.02 0 0 1-2.016 2.017h0-5.838v1.741h1.295c.329 0 .597.267.597.596s-.268.596-.597.596h0H6.559c-.329 0-.597-.267-.597-.596s.268-.596.597-.596h0 1.296v-1.741H2.016A2.02 2.02 0 0 1 0 18.108h0V3.015A2.02 2.02 0 0 1 2.016 1h0zm-7.032 19.126H9.048v1.741h5.904v-1.741zm7.854-3.835H1.193v1.818c0 .455.37.824.823.824h0 19.966c.455 0 .824-.371.824-.825h0V16.29zM9.462 11.088H6.397v4.008h3.064v-4.008zm7.075 2.377h-1.405v1.632h1.405v-1.632zm5.448-11.273H2.016c-.453 0-.823.37-.823.823h0v12.081h4.011v-4.623c.003-.079.02-.155.053-.227h0l1.367-3.045a.47.47 0 0 1 .031-.093h0l.015-.017.011-.012.008-.017.729-1.62c.096-.214.309-.352.547-.352a.6.6 0 0 1 .544.357h0l2.097 4.805c.028.066.045.136.049.206h0l.001.033v4.605h3.281v-2.001l-.021-.029c-.103-.138-.198-.296-.284-.471-.284-.586-.444-1.317-.474-2.174-.07-2.032 2.174-4.822 2.43-5.133a.6.6 0 0 1 .462-.218.58.58 0 0 1 .2.036c.236.084.396.31.396.561 0 .825.44 1.505.905 2.225.473.73.96 1.486.96 2.413 0 1.315-.477 2.27-.762 2.723h0l-.018.028v2.042h5.076V3.015c0-.453-.369-.823-.822-.823h0zm-6.247 4.9l-.112.172c-.599.916-1.307 2.2-1.274 3.115.035 1.016.284 1.586.429 1.836h0l.032.055h1.998l.033-.058c.178-.328.476-1.013.476-1.91 0-.576-.357-1.127-.77-1.766-.256-.393-.518-.801-.726-1.258h0l-.085-.187zm-7.444.845h-.69l-.029.068-.779 1.73-.071.159h2.424l-.069-.158-.755-1.73-.031-.069z\" fill=\"#333\" fill-rule=\"evenodd\" /></svg>Web Designing (UI/UX)</a><span class=\"vcategory-inner-arrow\"><b class=\"right-caret\"></b></span> <div class=\"mega-sub-menu menu600\"> <div class=\"row\"> <div class=\"section-entity col-md-3 \"> <ul> <li class=\"section-entity-li\"><span class=\"tab-content-list-title\">Services</span></li><li><a href=\"/directory/services/top-web-design-companies/user-experience\">User Experience</a></li><li><a href=\"/directory/services/top-web-design-companies/digital\">Digital Design</a></li><li><a href=\"/directory/services/top-web-design-companies/graphic\">Graphic Design</a></li><li><a href=\"/directory/services/top-web-design-companies/logo\">Logo Design</a></li><li><a href=\"/directory/services/top-web-design-companies/product\">Product Design</a></li><li><a href=\"/directory/services/top-web-design-companies/packaging\">Packaging Design</a></li><li><a href=\"/directory/services/top-web-design-companies/print\">Print Design</a></li><li><a href=\"/directory/services/top-web-design-companies/illustration\">Illustration</a></li></ul> </div><div class=\"section-entity col-md-3 \"> <ul> <li class=\"section-entity-li\"><span class=\"tab-content-list-title\">Countries</span></li><li><a href=\"/directory/country/top-web-design-companies/in\">India</a></li><li><a href=\"/directory/country/top-web-design-companies/us\">United States</a></li><li><a href=\"/directory/country/top-web-design-companies/gb\">United Kingdom</a></li><li><a href=\"/directory/country/top-web-design-companies/au\">Australia</a></li><li><a href=\"/directory/country/top-web-design-companies/ca\">Canada</a></li><li><a href=\"/directory/country/top-web-design-companies/ua\">Ukraine</a></li><li><a href=\"/directory/country/top-web-design-companies/by\">Belarus</a></li><li><a href=\"/directory/country/top-web-design-companies/ru\">Russia</a></li><li><a href=\"/directory/country/top-web-design-companies/ae\">UAE</a></li><li><a href=\"/directory/country/top-web-design-companies/ee\">Estonia</a></li></ul> </div><div class=\"section-entity col-md-3 \"> <ul> <li class=\"section-entity-li\"><span class=\"tab-content-list-title\">States</span></li><li><a href=\"/directory/state/top-web-design-companies/washington\">Washington</a></li><li><a href=\"/directory/state/top-web-design-companies/texas\">Texas</a></li><li><a href=\"/directory/state/top-web-design-companies/ohio\">Ohio</a></li><li><a href=\"/directory/state/top-web-design-companies/new-york\">New York</a></li><li><a href=\"/directory/state/top-web-design-companies/illinois\">Illinois</a></li><li><a href=\"/directory/state/top-web-design-companies/georgia\">Georgia</a></li><li><a href=\"/directory/state/top-web-design-companies/california\">California</a></li><li><a href=\"/directory/state/top-web-design-companies/new-jersey\">New Jersey</a></li><li><a href=\"/directory/state/top-web-design-companies/north-carolina\">North Carolina</a></li><li><a href=\"/directory/state/top-web-design-companies/pennsylvania\">Pennsylvania</a></li></ul> </div><div class=\"section-entity col-md-3 \"> <ul> <li class=\"section-entity-li\"><span class=\"tab-content-list-title\">Cities</span></li><li><a href=\"/directory/city/top-web-design-companies/los-angeles\">Los Angeles</a></li><li><a href=\"/directory/city/top-web-design-companies/san-francisco\">San Francisco</a></li><li><a href=\"/directory/city/top-web-design-companies/atlanta\">Atlanta</a></li><li><a href=\"/directory/city/top-web-design-companies/chicago\">Chicago</a></li><li><a href=\"/directory/city/top-web-design-companies/seattle\">Seattle</a></li><li><a href=\"/directory/city/top-web-design-companies/melbourne\">Melbourne</a></li><li><a href=\"/directory/city/top-web-design-companies/sydney\">Sydney</a></li><li><a href=\"/directory/city/top-web-design-companies/toronto\">Toronto</a></li><li><a href=\"/directory/city/top-web-design-companies/akron\">Akron</a></li><li><a href=\"/directory/city/top-web-design-companies/albuquerque\">Albuquerque</a></li></ul> </div></div></div></li><li class=\"vcategory-menu\"> <a class=\"vcategory-menu-title\" href=\"/big-data-analytics\"><svg xmlns=\"http://www.w3.org/2000/svg\" width=\"24\" height=\"24\"><path d=\"M20.036 0C21.67 0 23 1.227 23 2.736h0V6.07c0 .76-.347 1.492-.955 2.01h0l-.143.122.143.122c.607.518.955 1.25.955 2.01h0v3.335c0 .76-.347 1.492-.955 2.01h0l-.143.122.143.123c.607.517.955 1.249.955 2.009h0v3.335C23 22.773 21.67 24 20.036 24h0H3.964C2.33 24 1 22.773 1 21.265h0V17.93c0-.76.347-1.492.955-2.009h0l.143-.123-.143-.122c-.607-.518-.955-1.25-.955-2.01h0v-3.335c0-.76.347-1.492.955-2.01h0l.143-.122-.143-.122C1.347 7.562 1 6.83 1 6.07h0V2.736C1 1.227 2.33 0 3.964 0h0zm0 16.404H3.964c-.912 0-1.655.685-1.655 1.526h0v3.335c0 .842.743 1.527 1.655 1.527h0 16.072c.912 0 1.655-.686 1.655-1.527h0V17.93c0-.842-.743-1.526-1.655-1.526h0zm-14.52 1.641c.411 0 .745.309.745.688h0v1.731c0 .378-.334.687-.745.687s-.744-.309-.744-.687h0v-1.731c0-.379.333-.688.744-.688zm3.104 0c.411 0 .745.309.745.688h0v1.731c0 .378-.334.687-.745.687s-.745-.309-.745-.687h0v-1.731c0-.379.334-.688.745-.688zm3.103 0c.411 0 .745.309.745.688h0v1.731c0 .378-.334.687-.745.687s-.744-.309-.744-.687h0v-1.731c0-.379.333-.688.744-.688zm6.928.865c.411 0 .745.309.745.688s-.334.687-.745.687h0-2.091c-.411 0-.744-.307-.744-.687s.333-.688.744-.688h0zm1.385-10.103H3.964c-.912 0-1.655.685-1.655 1.527h0v3.334c0 .842.743 1.526 1.655 1.526h0 16.072c.912 0 1.655-.685 1.655-1.526h0v-3.334c0-.407-.174-.791-.485-1.079s-.728-.448-1.169-.448h0zm-14.52 1.642c.411 0 .745.307.745.687h0v1.731c0 .378-.334.687-.745.687s-.744-.309-.744-.687h0v-1.731c0-.379.333-.687.744-.687zm3.104 0c.411 0 .745.307.745.687h0v1.731c0 .378-.334.687-.745.687s-.745-.309-.745-.687h0v-1.731c0-.379.334-.687.745-.687zm3.103 0c.411 0 .745.307.745.687h0v1.731c0 .378-.334.687-.745.687s-.744-.309-.744-.687h0v-1.731c0-.379.333-.687.744-.687zm6.928.865c.411 0 .745.307.745.687s-.334.688-.745.688h0-2.091c-.411 0-.744-.309-.744-.688s.333-.687.744-.687h0zm1.385-10.104H3.964c-.912 0-1.655.686-1.655 1.527h0V6.07c0 .842.743 1.526 1.655 1.526h0 16.072c.912 0 1.655-.685 1.655-1.526h0V2.736c0-.842-.743-1.527-1.655-1.527h0zM5.515 2.85c.411 0 .745.307.745.687h0v1.731c0 .378-.334.688-.745.688s-.744-.31-.744-.688h0V3.537c0-.379.333-.687.744-.687zm3.104 0c.411 0 .745.307.745.687h0v1.731c0 .378-.334.688-.745.688s-.745-.31-.745-.688h0V3.537c0-.379.334-.687.745-.687zm3.103 0c.411 0 .745.307.745.687h0v1.731c0 .378-.334.688-.745.688s-.744-.31-.744-.688h0V3.537c0-.379.333-.687.744-.687zm6.928.865c.411 0 .745.307.745.687s-.334.688-.745.688h0-2.091c-.411 0-.744-.309-.744-.688s.333-.687.744-.687h0z\" fill=\"#333\" fill-rule=\"evenodd\" /></svg>Big Data &amp; BI</a><span class=\"vcategory-inner-arrow\"><b class=\"right-caret\"></b></span> <div class=\"mega-sub-menu menu600\"> <div class=\"row\"> <div class=\"section-entity col-md-3 \"> <ul> <li class=\"section-entity-li\"><span class=\"tab-content-list-title\">Services</span></li><li><a href=\"/big-data-analytics/data-visualization\">Data Visualization</a></li><li><a href=\"/big-data-analytics/data-analytics\">Data Analytics</a></li><li><a href=\"/big-data-analytics/data-science\">Data Science</a></li><li><a href=\"/big-data-analytics/predictive-analytics\">Predictive Analytics</a></li><li><a href=\"/big-data-analytics/data-warehousing\">Data Warehousing</a></li><li><a href=\"/big-data-analytics/data-mining\">Data Mining</a></li><li><a href=\"/big-data-analytics/video-analytics\">Video Analytics</a></li><li><a href=\"/big-data-analytics/marketing-analytics\">Marketing Analytics</a></li><li><a href=\"/big-data-analytics/social-media-analytics\">SM Analytics</a></li><li><a href=\"/big-data-analytics/text-analytics\">Text Analytics</a></li></ul> </div><div class=\"section-entity col-md-3 \"> <ul> <li class=\"section-entity-li\"><span class=\"tab-content-list-title\">Countries</span></li><li><a href=\"/big-data-analytics/india\">India</a></li><li><a href=\"/big-data-analytics/uk\">United Kingdom</a></li><li><a href=\"/big-data-analytics/canada\">Canada</a></li><li><a href=\"/big-data-analytics/australia\">Australia</a></li><li><a href=\"/big-data-analytics/germany\">Germany</a></li><li><a href=\"/big-data-analytics/poland\">Poland</a></li><li><a href=\"/big-data-analytics/france\">France</a></li><li><a href=\"/big-data-analytics/usa\">United States</a></li><li><a href=\"/big-data-analytics/hungary\">Hungary</a></li><li><a href=\"/big-data-analytics/lithuania\">Lithuania</a></li></ul> </div><div class=\"section-entity col-md-3 \"> <ul> <li class=\"section-entity-li\"><span class=\"tab-content-list-title\">States</span></li><li><a href=\"/big-data-analytics/florida\">Florida</a></li><li><a href=\"/big-data-analytics/michigan\">Michigan</a></li><li><a href=\"/big-data-analytics/texas\">Texas</a></li><li><a href=\"/big-data-analytics/washington\">Washington</a></li><li><a href=\"/big-data-analytics/ohio\">Ohio</a></li><li><a href=\"/big-data-analytics/new-york\">New York</a></li><li><a href=\"/big-data-analytics/illinois\">Illinois</a></li><li><a href=\"/big-data-analytics/georgia\">Georgia</a></li><li><a href=\"/big-data-analytics/california\">California</a></li><li><a href=\"/big-data-analytics/new-jersey\">New Jersey</a></li></ul> </div><div class=\"section-entity col-md-3 \"> <ul> <li class=\"section-entity-li\"><span class=\"tab-content-list-title\">Cities</span></li><li><a href=\"/big-data-analytics/atlanta\">Atlanta</a></li><li><a href=\"/big-data-analytics/austin\">Austin</a></li><li><a href=\"/big-data-analytics/baltimore\">Baltimore</a></li><li><a href=\"/big-data-analytics/bellevue\">Bellevue</a></li><li><a href=\"/big-data-analytics/boston\">Boston</a></li><li><a href=\"/big-data-analytics/boulder\">Boulder</a></li><li><a href=\"/big-data-analytics/charleston\">Charleston</a></li><li><a href=\"/big-data-analytics/chicago\">Chicago</a></li><li><a href=\"/big-data-analytics/colorado-springs\">Colorado Springs</a></li><li><a href=\"/big-data-analytics/dallas\">Dallas</a></li></ul> </div></div></div></li><li class=\"vcategory-menu\"> <a class=\"vcategory-menu-title\" href=\"/artificial-intelligence\"><svg xmlns=\"http://www.w3.org/2000/svg\" width=\"24\" height=\"24\"><path d=\"M17.926 0c.382 0 .692.311.692.692h0V2.82h.808c.968 0 1.754.787 1.754 1.754h0v.808h2.128c.381 0 .692.31.692.692s-.311.692-.692.692h0-2.128v2.568h2.128c.381 0 .692.31.692.692s-.311.692-.692.692h0-2.128v2.567h2.128c.381 0 .692.311.692.692s-.311.692-.692.692h0-2.128v2.568h2.128c.381 0 .692.31.692.692s-.311.692-.692.692h0-2.128v.808c0 .968-.787 1.753-1.754 1.753h0-.808v2.129a.69.69 0 0 1-.692.691c-.381 0-.692-.31-.692-.691h0V21.18h-2.568v2.129a.69.69 0 0 1-.692.691c-.381 0-.692-.31-.692-.691h0V21.18h-2.567v2.129c0 .381-.311.691-.692.691a.69.69 0 0 1-.692-.691h0V21.18H6.765v2.129a.69.69 0 1 1-1.383 0h0V21.18h-.808c-.968 0-1.753-.785-1.753-1.753h0v-.808H.691a.69.69 0 1 1 0-1.383h0H2.82v-2.568H.691a.69.69 0 0 1 0-1.383h0H2.82v-2.568H.691a.69.69 0 0 1 0-1.382h0H2.82V6.766H.691C.31 6.766 0 6.455 0 6.074a.69.69 0 0 1 .691-.692h0H2.82v-.808c0-.968.785-1.754 1.753-1.754h0 .808V.692c0-.381.31-.692.692-.692s.692.311.692.692h0V2.82h2.568V.692c0-.381.31-.692.692-.692s.692.311.692.692h0V2.82h2.567V.692c0-.381.311-.692.692-.692s.692.311.692.692h0V2.82h2.568V.692c0-.381.311-.692.692-.692zm.82 4.202H5.253c-.579 0-1.052.472-1.052 1.052h0v13.493c0 .579.472 1.052 1.052 1.052h0 13.493c.579 0 1.052-.472 1.052-1.052h0V5.254c0-.579-.472-1.052-1.052-1.052h0zm-4.949 1.379c1.328 0 2.42 1.036 2.487 2.361h0l.005.116.107.044c1.025.423 1.69 1.409 1.69 2.513 0 .453-.115.902-.331 1.297h0l-.048.088.048.087c.216.397.331.845.331 1.299a2.71 2.71 0 0 1-1.689 2.513h0l-.108.045-.005.115c-.068 1.324-1.16 2.361-2.487 2.361-.62 0-1.215-.23-1.675-.65h0L12 17.659l-.123.111c-.459.42-1.055.65-1.676.65a2.49 2.49 0 0 1-2.486-2.361h0l-.007-.115-.107-.045a2.71 2.71 0 0 1-1.689-2.513c0-.454.115-.902.331-1.299h0L6.29 12l-.047-.088a2.71 2.71 0 0 1-.331-1.297c0-1.104.663-2.09 1.69-2.513h0l.106-.044.007-.116c.068-1.324 1.16-2.361 2.486-2.361a2.48 2.48 0 0 1 1.676.649h0l.123.112.123-.112a2.48 2.48 0 0 1 1.675-.649zm0 1.381a1.11 1.11 0 0 0-1.106 1.108h0v7.86a1.11 1.11 0 0 0 1.106 1.108c.483 0 .919-.323 1.059-.784h0l.057-.184-.188-.047a2.71 2.71 0 0 1-1.243-.683h0l1.029-.933a1.32 1.32 0 0 0 .859.313c.734 0 1.333-.599 1.333-1.334l-.005-.127h0l-.024-.251-.23.1c-.285.122-.584.195-.89.216h0v-1.389c.648-.089 1.15-.648 1.15-1.322 0-.463-.247-.899-.645-1.141h0l-.143-.087-.099.137c-.254.352-.588.628-.975.807h0l-.489-1.301c.337-.196.553-.562.553-.959a1.11 1.11 0 0 0-1.108-1.108zm-3.597 0a1.11 1.11 0 0 0-1.107 1.108c0 .397.216.763.553.959h0l-.49 1.301c-.386-.179-.721-.455-.974-.807h0l-.099-.137-.144.087c-.397.242-.645.679-.645 1.141 0 .674.502 1.233 1.151 1.322h0v1.389a2.71 2.71 0 0 1-.89-.216h0l-.23-.1-.025.251-.005.127c0 .735.599 1.334 1.334 1.334.32 0 .617-.11.857-.313h0l1.029.933c-.345.334-.771.567-1.241.683h0l-.188.047.057.184a1.1 1.1 0 0 0 1.058.784 1.11 1.11 0 0 0 1.107-1.108h0v-7.86a1.11 1.11 0 0 0-1.107-1.108z\" fill=\"#333\" fill-rule=\"evenodd\" /></svg>Artificial Intelligence</a><span class=\"vcategory-inner-arrow\"><b class=\"right-caret\"></b></span> <div class=\"mega-sub-menu menu600\"> <div class=\"row\"> <div class=\"section-entity col-md-3 \"> <ul> <li class=\"section-entity-li\"><span class=\"tab-content-list-title\">Services</span></li><li><a href=\"/artificial-intelligence/deep-learning\">Deep Learning</a></li><li><a href=\"/artificial-intelligence/machine-learning\">Machine Learning</a></li></ul> </div><div class=\"section-entity col-md-3 \"> <ul> <li class=\"section-entity-li\"><span class=\"tab-content-list-title\">Countries</span></li><li><a href=\"/artificial-intelligence/india\">India</a></li><li><a href=\"/artificial-intelligence/uk\">United Kingdom</a></li><li><a href=\"/artificial-intelligence/canada\">Canada</a></li><li><a href=\"/artificial-intelligence/australia\">Australia</a></li><li><a href=\"/artificial-intelligence/germany\">Germany</a></li><li><a href=\"/artificial-intelligence/poland\">Poland</a></li><li><a href=\"/artificial-intelligence/usa\">United States</a></li><li><a href=\"/artificial-intelligence/russia\">Russia</a></li><li><a href=\"/artificial-intelligence/ukraine\">Ukraine</a></li><li><a href=\"/artificial-intelligence/austria\">Austria</a></li></ul> </div><div class=\"section-entity col-md-3 \"> <ul> <li class=\"section-entity-li\"><span class=\"tab-content-list-title\">States</span></li><li><a href=\"/artificial-intelligence/florida\">Florida</a></li><li><a href=\"/artificial-intelligence/michigan\">Michigan</a></li><li><a href=\"/artificial-intelligence/texas\">Texas</a></li><li><a href=\"/artificial-intelligence/washington\">Washington</a></li><li><a href=\"/artificial-intelligence/ohio\">Ohio</a></li><li><a href=\"/artificial-intelligence/new-york\">New York</a></li><li><a href=\"/artificial-intelligence/illinois\">Illinois</a></li><li><a href=\"/artificial-intelligence/georgia\">Georgia</a></li><li><a href=\"/artificial-intelligence/california\">California</a></li><li><a href=\"/artificial-intelligence/new-jersey\">New Jersey</a></li></ul> </div><div class=\"section-entity col-md-3 \"> <ul> <li class=\"section-entity-li\"><span class=\"tab-content-list-title\">Cities</span></li><li><a href=\"/artificial-intelligence/atlanta\">Atlanta</a></li><li><a href=\"/artificial-intelligence/austin\">Austin</a></li><li><a href=\"/artificial-intelligence/chicago\">Chicago</a></li><li><a href=\"/artificial-intelligence/dallas\">Dallas</a></li><li><a href=\"/artificial-intelligence/los-angeles\">Los Angeles</a></li><li><a href=\"/artificial-intelligence/san-francisco\">San Francisco</a></li><li><a href=\"/artificial-intelligence/seattle\">Seattle</a></li><li><a href=\"/artificial-intelligence/melbourne\">Melbourne</a></li><li><a href=\"/artificial-intelligence/sydney\">Sydney</a></li><li><a href=\"/artificial-intelligence/toronto\">Toronto</a></li></ul> </div></div></div></li></ul><div class=\"menu-browse-all\">Can’t find what you are looking for? <a href=\"/directories\" class=\"alink\">Browse All Services <svg xmlns=\"http://www.w3.org/2000/svg\" width=\"24\" height=\"24\" preserveAspectRatio=\"xMidYMid meet\"><path d=\"M13.293 7.293a.999.999 0 0 0 0 1.414L15.586 11H8a1 1 0 0 0 0 2h7.586l-2.293 2.293a.999.999 0 1 0 1.414 1.414L19.414 12l-4.707-4.707a.999.999 0 0 0-1.414 0z\" fill=\"#3a7af3\" /></svg></a></div></div>\n",
       "</li>\n",
       "<li class=\"navbar-nav-li \">\n",
       "<a class=\"navbar-nav-li-a blue-border-bottom\" href=\"javascript:\">\n",
       "<span class=\"softwaremenu\">Find Software</span>\n",
       "<span class=\"triangle\"></span>\n",
       "</a>\n",
       "<div class=\"allmenu onlyresearch\"><div class=\"option-bg\"></div><ul class=\"left-submenu auto-height sotwarelinks\"><li class=\"vcategory-menu\"><a class=\"vcategory-menu-title\" href=\"/accounting-software/\"><svg xmlns=\"http://www.w3.org/2000/svg\" width=\"24\" height=\"24\"><path d=\"M20.133 0c1.098 0 1.992.893 1.992 1.992h0v20.017c0 1.098-.894 1.992-1.992 1.992h0H2.99C1.893 24 1 23.106 1 22.008h0V1.992C1 .893 1.893 0 2.99 0h0 17.142zm.111 1.218H3.102c-.384 0-.774.265-.774.774h0V22.12c0 .384.266.773.774.773h0 17.142c.384 0 .774-.265.774-.773h0V1.992c0-.385-.266-.774-.774-.774h0zM7.304 17.253c.383 0 .554.171.554.553h0v2.876c0 .266-.173.554-.554.554h0-2.874c-.268 0-.554-.174-.554-.554h0v-2.876c0-.266.173-.553.554-.553h0 2.874zm5.751 0c.266 0 .553.173.553.554h0v2.874c0 .266-.173.554-.553.554h0-2.876c-.266 0-.554-.173-.554-.554h0v-2.874c0-.266.173-.554.554-.554h0 2.876zm5.641-5.751c.21 0 .405.088.508.23.046.064.092.165.052.288h0l-.006.017v8.533c0 .266-.173.554-.554.554h0-2.876c-.268 0-.554-.173-.554-.554h0v-8.514a.53.53 0 0 1 .554-.554h0 2.876zm-6.304 6.857h-1.658v1.659h1.658v-1.659zm-5.64-.001H5.093v1.659h1.658v-1.659zm11.391-5.64h-1.658v7.299h1.658v-7.299zM7.304 11.502c.381 0 .554.287.554.554h0v2.874c0 .266-.173.554-.554.554h0-2.874c-.268 0-.554-.173-.554-.554h0v-2.874c0-.266.173-.554.554-.554h0 2.874zm5.751 0a.61.61 0 0 1 .553.554h0v2.876c0 .266-.173.553-.553.553h0-2.876c-.266 0-.554-.173-.554-.553h0v-2.876c0-.266.173-.554.554-.554h0 2.876zm-.664 1.218h-1.658v1.658h1.658v-1.658zm-5.64-.001H5.093v1.658h1.658v-1.658zm11.945-9.843c.21 0 .405.088.508.23.046.063.092.165.052.288h0l-.006.017v5.769a.53.53 0 0 1-.554.554h0H4.429c-.266 0-.554-.173-.554-.554h0V3.428c0-.266.173-.553.554-.553h0 14.267zm-.554 1.106H5.093v4.644h13.049V3.982z\" fill=\"#333\" /></svg>Accounting Software</a></li><li class=\"vcategory-menu\"><a class=\"vcategory-menu-title\" href=\"/app-development-software/\"><svg xmlns=\"http://www.w3.org/2000/svg\" width=\"24\" height=\"24\"><path d=\"M18.143 0a2.11 2.11 0 0 1 2.11 2.11h0v19.781A2.11 2.11 0 0 1 18.143 24h0H6.109A2.11 2.11 0 0 1 4 21.891h0V2.11A2.11 2.11 0 0 1 6.109 0h0zm.704 18.435H5.406v3.456c0 .387.315.703.703.703h0 12.034c.388 0 .704-.315.704-.703h0v-3.456zm-4.3 1.376c.388 0 .704.315.704.703s-.315.704-.704.704h0-4.84c-.388 0-.704-.315-.704-.704s.315-.703.704-.703h0zm4.3-15.439H5.406v12.657h13.44V4.372zm-.704-2.966H6.109c-.387 0-.703.315-.703.704h0v.856h13.44V2.11c0-.388-.315-.704-.704-.704h0z\" fill=\"#333\" fill-rule=\"evenodd\" /></svg>App Development Software</a></li><li class=\"vcategory-menu\"><a class=\"vcategory-menu-title\" href=\"/applicant-tracking-software/\"><svg xmlns=\"http://www.w3.org/2000/svg\" width=\"24\" height=\"24\"><path d=\"M20.276 0c1.21 0 2.202.991 2.311 2.202h0v19.486c0 1.321-1.101 2.312-2.311 2.312h0-6.385c-5.394 0-6.606 0-6.826-.11-.072 0-1.655-1.581-4.751-4.743a1.1 1.1 0 0 1-.314-.77h0V2.312C2 .991 3.101 0 4.313 0h0 15.963zm0 1.321H4.313a.95.95 0 0 0-.881.881h0v15.743h4.072c.331 0 .662.22.662.661h0v4.073h11.999c.661 0 .992-.294.992-.881h0V2.202c0-.44-.441-.881-.881-.881h0zM6.735 19.156H4.313l2.422 2.422v-2.422zm9.908-.22c.439 0 .661.33.661.661s-.33.659-.661.659h0-5.065c-.329 0-.659-.33-.659-.659s.22-.661.659-.661h0 5.065zm0-3.964c.439 0 .661.33.661.662s-.33.659-.661.659h0-8.807c-.331 0-.662-.33-.662-.659s.33-.662.662-.662h0 8.807zM13.56 8.697c.22 0 .22 0 .662.22l.659.33c.662.33.992.881.992 1.541h0v1.101c0 .33-.22.661-.662.661-.33 0-.659-.22-.659-.661h0v-1.101c0-.11 0-.22-.11-.22h0l-1.101-.44h-2.422l-1.101.44c-.111 0-.111.11-.111.22v1.101c0 .33-.33.661-.659.661s-.661-.22-.661-.661h0v-1.101c0-.55.33-1.211.99-1.431h0l1.212-.55c.11-.11.11-.11.881-.11h0 2.091zm-1.32-5.835a2.49 2.49 0 0 1 2.532 2.531 2.49 2.49 0 0 1-2.532 2.533 2.49 2.49 0 0 1-2.533-2.533 2.49 2.49 0 0 1 2.533-2.531zm0 1.541c-.55 0-1.101.439-1.101 1.101 0 .55.439 1.101 1.101 1.101s1.101-.55 1.101-1.101-.44-1.101-1.101-1.101z\" fill=\"#333\" /></svg>Applicant Tracking Software</a></li><li class=\"vcategory-menu\"><a class=\"vcategory-menu-title\" href=\"/artificial-intelligence-software/\"><svg xmlns=\"http://www.w3.org/2000/svg\" width=\"24\" height=\"24\"><path d=\"M17.926 0c.382 0 .692.311.692.692h0V2.82h.808c.968 0 1.754.787 1.754 1.754h0v.808h2.128c.381 0 .692.31.692.692s-.311.692-.692.692h0-2.128v2.568h2.128c.381 0 .692.31.692.692s-.311.692-.692.692h0-2.128v2.567h2.128c.381 0 .692.311.692.692s-.311.692-.692.692h0-2.128v2.568h2.128c.381 0 .692.31.692.692s-.311.692-.692.692h0-2.128v.808c0 .968-.787 1.753-1.754 1.753h0-.808v2.129a.69.69 0 0 1-.692.691c-.381 0-.692-.31-.692-.691h0V21.18h-2.568v2.129a.69.69 0 0 1-.692.691c-.381 0-.692-.31-.692-.691h0V21.18h-2.567v2.129c0 .381-.311.691-.692.691a.69.69 0 0 1-.692-.691h0V21.18H6.765v2.129a.69.69 0 1 1-1.383 0h0V21.18h-.808c-.968 0-1.753-.785-1.753-1.753h0v-.808H.691a.69.69 0 1 1 0-1.383h0H2.82v-2.568H.691a.69.69 0 0 1 0-1.383h0H2.82v-2.568H.691a.69.69 0 0 1 0-1.382h0H2.82V6.766H.691C.31 6.766 0 6.455 0 6.074a.69.69 0 0 1 .691-.692h0H2.82v-.808c0-.968.785-1.754 1.753-1.754h0 .808V.692c0-.381.31-.692.692-.692s.692.311.692.692h0V2.82h2.568V.692c0-.381.31-.692.692-.692s.692.311.692.692h0V2.82h2.567V.692c0-.381.311-.692.692-.692s.692.311.692.692h0V2.82h2.568V.692c0-.381.311-.692.692-.692zm.82 4.202H5.253c-.579 0-1.052.472-1.052 1.052h0v13.493c0 .579.472 1.052 1.052 1.052h0 13.493c.579 0 1.052-.472 1.052-1.052h0V5.254c0-.579-.472-1.052-1.052-1.052h0zm-4.949 1.379c1.328 0 2.42 1.036 2.487 2.361h0l.005.116.107.044c1.025.423 1.69 1.409 1.69 2.513 0 .453-.115.902-.331 1.297h0l-.048.088.048.087c.216.397.331.845.331 1.299a2.71 2.71 0 0 1-1.689 2.513h0l-.108.045-.005.115c-.068 1.324-1.16 2.361-2.487 2.361-.62 0-1.215-.23-1.675-.65h0L12 17.659l-.123.111c-.459.42-1.055.65-1.676.65a2.49 2.49 0 0 1-2.486-2.361h0l-.007-.115-.107-.045a2.71 2.71 0 0 1-1.689-2.513c0-.454.115-.902.331-1.299h0L6.29 12l-.047-.088a2.71 2.71 0 0 1-.331-1.297c0-1.104.663-2.09 1.69-2.513h0l.106-.044.007-.116c.068-1.324 1.16-2.361 2.486-2.361a2.48 2.48 0 0 1 1.676.649h0l.123.112.123-.112a2.48 2.48 0 0 1 1.675-.649zm0 1.381a1.11 1.11 0 0 0-1.106 1.108h0v7.86a1.11 1.11 0 0 0 1.106 1.108c.483 0 .919-.323 1.059-.784h0l.057-.184-.188-.047a2.71 2.71 0 0 1-1.243-.683h0l1.029-.933a1.32 1.32 0 0 0 .859.313c.734 0 1.333-.599 1.333-1.334l-.005-.127h0l-.024-.251-.23.1c-.285.122-.584.195-.89.216h0v-1.389c.648-.089 1.15-.648 1.15-1.322 0-.463-.247-.899-.645-1.141h0l-.143-.087-.099.137c-.254.352-.588.628-.975.807h0l-.489-1.301c.337-.196.553-.562.553-.959a1.11 1.11 0 0 0-1.108-1.108zm-3.597 0a1.11 1.11 0 0 0-1.107 1.108c0 .397.216.763.553.959h0l-.49 1.301c-.386-.179-.721-.455-.974-.807h0l-.099-.137-.144.087c-.397.242-.645.679-.645 1.141 0 .674.502 1.233 1.151 1.322h0v1.389a2.71 2.71 0 0 1-.89-.216h0l-.23-.1-.025.251-.005.127c0 .735.599 1.334 1.334 1.334.32 0 .617-.11.857-.313h0l1.029.933c-.345.334-.771.567-1.241.683h0l-.188.047.057.184a1.1 1.1 0 0 0 1.058.784 1.11 1.11 0 0 0 1.107-1.108h0v-7.86a1.11 1.11 0 0 0-1.107-1.108z\" fill=\"#333\" fill-rule=\"evenodd\" /></svg>Artificial Intelligence Software</a></li><li class=\"vcategory-menu\"><a class=\"vcategory-menu-title\" href=\"/billing-invoicing-software/\"><svg xmlns=\"http://www.w3.org/2000/svg\" width=\"24\" height=\"24\"><path d=\"M21.066 0c.796 0 1.444.648 1.444 1.446h0v21.8a.75.75 0 0 1-.451.691c-.096.042-.199.064-.302.064-.19 0-.372-.072-.512-.201h0l-2.419-2.229-.188-.173-.19.17-2.513 2.241a.75.75 0 0 1-.502.192c-.188 0-.366-.07-.505-.194h0l-2.484-2.241-.19-.17-.189.17-2.484 2.241c-.139.125-.319.194-.505.194a.75.75 0 0 1-.502-.192h0l-2.511-2.241-.191-.17-.189.173-2.418 2.229c-.14.129-.321.201-.512.201a.75.75 0 0 1-.302-.064c-.275-.119-.452-.391-.452-.691h0v-21.8C2 .648 2.649 0 3.446 0h0 17.621zm-.064 1.508H3.51v20.015l.473-.437 1.37-1.263c.139-.128.321-.2.511-.2a.75.75 0 0 1 .502.192h0l2.52 2.248.188.169.189-.17 2.488-2.244c.138-.125.318-.194.504-.194a.76.76 0 0 1 .506.194h0l2.487 2.244.188.169.19-.168 2.518-2.248c.139-.124.318-.192.503-.192s.372.072.511.2h0l1.37 1.263.473.437V1.508zm-7.934 3.099v1.028c1.481.191 2.417.921 2.806 2.193h0l-1.449.308c-.248-.734-.7-1.129-1.357-1.186h0v2.493l1.885.614c.324.143.615.422.874.836s.392.899.392 1.457c0 .79-.269 1.448-.808 1.972s-1.319.831-2.343.921h0v1.321h-.964v-1.321c-1.772-.148-2.904-1.005-3.4-2.572h0l1.535-.356c.276 1.004.898 1.545 1.865 1.621h0v-2.822c-1.262-.29-2.083-.658-2.464-1.103s-.572-.977-.572-1.596c0-1.606 1.012-2.53 3.036-2.778h0V4.607h.964zm0 6.592v2.735c.448-.004.822-.136 1.123-.393s.455-.593.455-1.007c0-.694-.525-1.14-1.578-1.335h0zm-.964-4.249c-.415.004-.761.108-1.039.311s-.418.501-.418.896c0 .666.487 1.064 1.458 1.193h0v-2.4z\" fill=\"#333\" /></svg>Billing and Invoicing Software</a></li><li class=\"vcategory-menu\"><a class=\"vcategory-menu-title\" href=\"/business-intelligence-software/\"><svg xmlns=\"http://www.w3.org/2000/svg\" width=\"24\" height=\"24\"><path d=\"M19.178 16.001h0l-1.534-1.535c1.534-1.973 1.973-4.492 1.096-7.013-.33-.767-.767-1.535-1.534-2.192V1.207C17.205.548 16.658 0 16 0H1.205C.548 0 0 .548 0 1.207v21.589C0 23.452.548 24 1.205 24H16c.658 0 1.205-.548 1.205-1.204V15.89l.986.986-.986.987 2.63 2.629c.438.439.877.659 1.534.659a2.16 2.16 0 0 0 1.534-.659c.767-.767.767-2.192 0-2.959l-2.63-2.629-1.096 1.096zm-3.397 4.384v1.972c0 .22-.111.329-.329.329H1.644c-.22 0-.329-.108-.329-.329v-1.972h14.466zm4.273-3.398l1.755 1.644c.329.33.329.767 0 .986a.84.84 0 0 1-.548.22c-.219 0-.329-.111-.548-.22l-1.644-1.644.985-.986zm-13.04-2.41c.11.218.329.329.437.548 1.316 1.314 3.07 1.973 4.823 1.973a9.91 9.91 0 0 0 3.507-.987v2.85H1.315v-1.535l2.411-2.411 1.425 1.425 1.863-1.862zm5.369-9.863c1.426 0 2.85.548 3.836 1.644.987.985 1.644 2.41 1.644 3.836-.108 1.425-.656 2.848-1.644 3.836s-2.41 1.644-3.836 1.644-2.848-.548-3.836-1.644c-.218-.219-.328-.33-.437-.548l1.425-1.426 1.096 1.096 3.068-3.068v1.755h1.424V7.671h-4.163v1.426h1.753l-2.192 2.192-1.096-1.096-2.082 2.081c-.877-2.081-.329-4.384 1.204-5.917.987-.987 2.412-1.644 3.836-1.644zm2.74-3.398a.63.63 0 0 1 .659.659v2.192a7.12 7.12 0 0 0-3.398-.878c-1.862 0-3.615.767-4.821 1.974-1.096 1.096-1.755 2.41-1.973 3.836s0 2.848.658 4.164l-1.096 1.096-1.425-1.425-2.521 2.521V1.974c0-.33.218-.659.658-.659h13.259z\" fill=\"#333\" /></svg>Business Intelligence Software</a></li><li class=\"vcategory-menu\"><a class=\"vcategory-menu-title\" href=\"/crm-software/\"><svg xmlns=\"http://www.w3.org/2000/svg\" width=\"24\" height=\"24\"><path d=\"M22.114 3A1.89 1.89 0 0 1 24 4.887h0v14.446a1.89 1.89 0 0 1-1.886 1.887h0H1.887A1.89 1.89 0 0 1 0 19.334h0V4.887A1.89 1.89 0 0 1 1.887 3h0 20.226zm.479 4.218H6.132v12.596h15.982a.48.48 0 0 0 .479-.481h0V7.218zM4.725 4.407H1.887a.48.48 0 0 0-.479.481h0v14.446a.48.48 0 0 0 .479.481h0 2.838V4.407zm5.966 6.86c.419 0 .763.102 1.032.303s.402.481.402.836c0 .163-.034.275-.103.334s-.182.088-.343.088c-.285 0-.434-.09-.446-.269-.011-.343-.18-.514-.509-.514-.343 0-.514.19-.513.571h0v1.515c0 .381.173.571.52.571.106 0 .194-.017.265-.051a.3.3 0 0 0 .151-.156.94.94 0 0 0 .061-.175 2.09 2.09 0 0 0 .025-.189c.015-.178.163-.268.44-.268.164 0 .281.028.348.088s.103.17.103.333c0 .37-.134.662-.402.875s-.613.32-1.032.32c-.408 0-.738-.109-.992-.325s-.38-.559-.38-1.023h0v-1.515c0-.464.127-.806.38-1.023s.583-.325.992-.325zm3.345 0c.936 0 1.406.408 1.406 1.223 0 .595-.23.982-.692 1.16h0l.698 1.264c.019.027.028.061.028.103 0 .111-.06.215-.18.315s-.247.149-.38.149-.229-.056-.286-.165h0l-.782-1.521h-.378v1.378c0 .087-.044.154-.131.202s-.193.072-.315.072-.227-.024-.315-.072-.131-.115-.131-.202h0v-3.636c0-.072.025-.134.076-.189s.117-.08.198-.08h0 1.184zm4.887 0c.125 0 .232.036.317.108s.129.186.129.337h0v3.458c0 .088-.045.155-.132.203s-.192.071-.313.071-.227-.023-.315-.071-.131-.115-.131-.203h0v-2.143l-.549.937a.32.32 0 0 1-.298.165c-.129 0-.223-.054-.28-.165h0l-.543-.995v2.201c0 .088-.044.155-.132.203s-.192.071-.313.071-.227-.023-.315-.071-.131-.115-.131-.203h0v-3.458c0-.153.043-.264.128-.337a.48.48 0 0 1 .318-.108c.17 0 .301.025.391.078s.189.174.3.368h0l.589 1.029.589-1.029c.111-.194.21-.318.299-.368s.222-.078.393-.078zm-4.888.777h-.566v1.064h.566c.168 0 .295-.042.382-.123s.132-.218.132-.408-.044-.328-.132-.41-.214-.122-.382-.122h0zm8.079-7.638H6.132V5.81h16.462v-.923a.48.48 0 0 0-.479-.481h0z\" fill=\"#333\" /></svg>CRM Software</a></li><li class=\"vcategory-menu\"><a class=\"vcategory-menu-title\" href=\"/data-visualization-software/\"><svg xmlns=\"http://www.w3.org/2000/svg\" width=\"24\" height=\"24\"><path d=\"M15.421 3.273c0-.477.466-.813.916-.67C20.73 3.983 24 8.098 24 13.05 24 19.103 19.102 24 13.05 24c-4.958 0-9.068-3.276-10.447-7.662-.146-.459.202-.917.67-.917h0 4.153a.71.71 0 0 1 .623.369c1.003 1.827 2.918 2.961 5.001 2.961a5.71 5.71 0 0 0 5.701-5.701c0-2.082-1.135-3.998-2.961-5.001-.224-.12-.37-.362-.369-.624h0zM7.03 16.827H4.284c1.381 3.187 4.431 5.479 8.063 5.741h0v-2.446a7.11 7.11 0 0 1-5.317-3.295h0zm15.538-3.074h-2.445a7.12 7.12 0 0 1-6.369 6.369h0v2.445a9.56 9.56 0 0 0 8.814-8.814h0zM13.05 0c.388 0 .703.315.703.703h0V13.05c0 .388-.315.703-.703.703h0H.703c-.388 0-.703-.315-.703-.703C0 5.837 5.838 0 13.05 0zm3.777 4.284V7.03a7.11 7.11 0 0 1 3.295 5.317h0 2.446c-.262-3.634-2.555-6.682-5.741-8.063h0zm-4.48-2.857a11.64 11.64 0 0 0-10.92 10.92h0 10.92z\" fill=\"#333\" /></svg>Data Visualization Software</a></li><li class=\"vcategory-menu\"><a class=\"vcategory-menu-title\" href=\"/digital-signage-software/\"><svg xmlns=\"http://www.w3.org/2000/svg\" width=\"24\" height=\"24\"><path d=\"M23.111.804c.444 0 .778.444.889.889h0v14.222a.76.76 0 0 1-.778.778h0-6v5.222h4.667a.72.72 0 0 1 .667.667c0 .333-.222.667-.667.667h0H2.111a.72.72 0 0 1-.667-.667c0-.333.222-.667.667-.667h0 4.667v-5.222h-6A.76.76 0 0 1 0 15.915h0V1.581A.76.76 0 0 1 .778.804h0 22.333zm-7.444 16H8.222v5.222h7.444v-5.222zm6.778-3.778H1.333v2.333h21.111v-2.333zm0-10.777H1.333v9.332h21.111V2.249zm-2.448 5.428c.327 0 .655.327.655.655s-.219.653-.655.653h0H7.309c-.328 0-.655-.327-.655-.653s.218-.655.655-.655h0 12.687zm-14.433 0c.327 0 .655.327.655.653s-.218.655-.655.655h0H3.6c-.436 0-.655-.327-.655-.655s.218-.653.655-.653h0 1.964zm10.723-3.601c.327 0 .655.328.655.655s-.218.655-.655.655h0H3.6c-.436 0-.655-.327-.655-.655s.218-.655.655-.655h0 12.687zm3.71 0c.327 0 .653.328.653.655s-.218.655-.653.655h0-1.964c-.436 0-.656-.327-.656-.655s.219-.655.656-.655h0 1.964z\" fill=\"#333\" /></svg>Digital Signage Software</a></li><li class=\"vcategory-menu\"><a class=\"vcategory-menu-title\" href=\"/document-management-software/\"><svg xmlns=\"http://www.w3.org/2000/svg\" width=\"24\" height=\"24\"><path d=\"M16.036 1.406v.166 3.476c0 .388.315.703.703.703h3.475.167v.166 15.642c0 .572-.465 1.035-1.036 1.035H5.441c-.571 0-1.035-.463-1.035-1.035V2.441c0-.571.465-1.035 1.035-1.035H15.87h.166zm1.406 2.773V2.8v-.4l.283.283 1.378 1.378.283.283h-.4-1.378-.166v-.166zM3 21.559C3 22.905 4.095 24 5.441 24h13.905c1.346 0 2.441-1.095 2.441-2.441V5.048a.71.71 0 0 0-.207-.499L17.235.205c-.066-.066-.143-.117-.229-.153A.71.71 0 0 0 16.739 0H5.441C4.095 0 3 1.095 3 2.441v19.118z\" fill=\"#333\" /></svg>Document Management Software</a></li><li class=\"vcategory-menu\"><a class=\"vcategory-menu-title\" href=\"/ecommerce-software/\"><svg xmlns=\"http://www.w3.org/2000/svg\" width=\"24\" height=\"24\"><path d=\"M1.406 6.786V6.62h.165 20.858.165v.166c0 1.528-1.243 2.773-2.773 2.773a2.73 2.73 0 0 1-2.078-.96.7.7 0 0 0-.529-.239c-.169 0-.334.062-.462.174a.75.75 0 0 0-.066.066 2.79 2.79 0 0 1-2.078.929c-.688 0-1.347-.252-1.86-.711l-.216-.216a.72.72 0 0 0-.531-.228.73.73 0 0 0-.502.199l-.031.031c-.525.587-1.282.925-2.074.925-.687 0-1.348-.252-1.86-.711l-.216-.216c-.137-.146-.326-.228-.532-.228a.73.73 0 0 0-.501.199l-.031.031c-.515.604-1.273.954-2.074.954-1.53 0-2.773-1.244-2.773-2.773h0zm.345-1.791L2.909 1.52l.039-.113h.119 2.849.167v.166 3.476.166h-.167-4.009-.23l.074-.219zm5.738.053V1.573v-.166h.165 3.477.165v.166 3.476.166h-.165-3.477-.165v-.166zm5.214 0V1.573v-.166h.166 3.476.165v.166 3.476.166h-.165-3.476-.166v-.166zm5.214 0V1.573v-.166h.166 2.849.121l.038.113 1.159 3.476.073.219h-.23-4.009-.166v-.166zm2.939 5.996v10.515c0 .572-.463 1.034-1.035 1.034h-4.345-.166v-.165-7.82c0-.388-.315-.703-.702-.703H9.393c-.388 0-.703.315-.703.703v7.82.165h-.165-4.346c-.572 0-1.035-.462-1.035-1.034V11.044v-.204l.199.041a4.11 4.11 0 0 0 .831.084 4.15 4.15 0 0 0 2.511-.851l.1-.076.101.074a4.21 4.21 0 0 0 2.509.822 4.21 4.21 0 0 0 2.509-.822l.098-.072.098.072a4.21 4.21 0 0 0 2.51.822 4.21 4.21 0 0 0 2.507-.822l.101-.074.1.076a4.15 4.15 0 0 0 2.511.851 4.11 4.11 0 0 0 .831-.084l.199-.041v.204zm-6.951 4.432v6.952.165h-.167-3.475-.167v-.165-6.952-.165h.167 3.475.167v.165zM1.738 21.559C1.738 22.905 2.833 24 4.179 24H19.82c1.346 0 2.441-1.095 2.441-2.441V10.262v-.083l.067-.07A4.18 4.18 0 0 0 24 6.786v-.869c-.002-.087-.014-.156-.035-.222L22.226.481C22.13.194 21.862 0 21.559 0H2.441c-.304 0-.572.194-.668.481L.035 5.696c-.022.065-.034.134-.035.204v.887c.001 1.302.627 2.545 1.67 3.324l.067.05v.083 11.316z\" fill=\"#333\" fill-rule=\"evenodd\" /></svg>E-Commerce Software</a></li><li class=\"vcategory-menu\"><a class=\"vcategory-menu-title\" href=\"/erp-software/\"><svg xmlns=\"http://www.w3.org/2000/svg\" width=\"24\" height=\"24\"><path d=\"M21.917 1A2.16 2.16 0 0 1 24 3.082h0v14.135c0 1.096-.878 2.083-2.083 2.083h0-6.136l.985 2.848h2.302a.63.63 0 0 1 .656.659.63.63 0 0 1-.656.658h0H4.931a.63.63 0 0 1-.656-.658.63.63 0 0 1 .656-.659h0 2.301l.986-2.848H2.083C.987 19.301 0 18.424 0 17.217h0V3.082C0 1.986.877 1 2.083 1h0 19.834zm-7.671 18.301H9.643l-.985 2.848h6.575l-.987-2.848zm8.439-2.74H1.425v.656a.63.63 0 0 0 .659.659h0 19.834a.63.63 0 0 0 .658-.659h0l.111-.656zm-.877-14.137H1.973a.63.63 0 0 0-.656.659h0v12.054h21.258l-.11-12.054a.63.63 0 0 0-.656-.659h0zM18.16 5.712c.372.002.721.015.909.109.218 0 .438.22.658.329.219.219.329.439.329.658.11.219.11.438.11.767 0 .659-.11 1.096-.548 1.425s-.986.438-1.753.438h0-1.096V11.3a.83.83 0 0 1-.22.548c-.108.11-.218.22-.437.22s-.329-.111-.438-.22-.22-.328-.22-.548h0V6.479a.84.84 0 0 1 .22-.548c.219-.11.328-.219.658-.219h0 1.831zm-10.489.109c.22 0 .329 0 .439.11s.108.219.108.329l-.001.066c-.003.088-.021.176-.108.264-.111.108-.219.108-.439.108H4.823v1.535h2.629c.219 0 .329 0 .439.108S8 8.561 8 8.67l-.001.066a.36.36 0 0 1-.108.263c-.111.11-.22.11-.439.11H4.823v1.753H7.78c.219 0 .33.111.438.329.11.11.11.219.11.33v.065c-.004.087-.021.175-.109.262-.108.11-.219.11-.438.11H4.383a.84.84 0 0 1-.548-.219c-.108-.11-.219-.329-.219-.548h0V6.589c0-.22.111-.33.111-.439s.108-.219.218-.219c.111-.11.219-.11.438-.11h0 3.288zm5.369-.11c.181.003.348.018.438.11.22.108.439.219.548.329.111.219.22.328.329.548s.111.438.111.656c0 .439-.219.767-.439 1.096-.328.219-.656.439-1.204.548.219.111.437.33.656.548s.439.548.548.767c.111.329.22.548.439.659a.83.83 0 0 1 .108.437c0 .111-.108.111-.108.22-.111.108-.111.219-.219.219-.11.108-.22.108-.329.108s-.219 0-.329-.108c-.111 0-.111-.111-.219-.219a1.5 1.5 0 0 1-.329-.439h0l-.548-.877c-.111-.219-.33-.548-.438-.656s-.329-.219-.439-.329-.329-.111-.548-.111h-.437v1.973a.84.84 0 0 1-.219.548c-.11.111-.22.219-.439.219s-.329-.108-.437-.219a.83.83 0 0 1-.219-.548h0V6.478c0-.219.108-.437.219-.548a.84.84 0 0 1 .548-.219h0l2.958.001zm4.602.986h-.876v1.863l1.032-.001c.246-.003.428-.018.612-.109.219-.11.328-.218.438-.329s.219-.329.11-.548c0-.219-.11-.437-.22-.658-.218-.11-.548-.219-1.096-.219h0zm-5.648.001h-1.364v1.644h1.096c.329 0 .548-.11.767-.11s.329-.111.548-.111c.11-.108.11-.328.11-.548 0-.108 0-.328-.11-.437 0-.219-.219-.219-.33-.33s-.437-.108-.877-.108h.159z\" fill=\"#333\" /></svg>ERP Software</a></li><li class=\"vcategory-menu\"><a class=\"vcategory-menu-title\" href=\"/hr-software/\"><svg xmlns=\"http://www.w3.org/2000/svg\" width=\"24\" height=\"24\"><path d=\"M8.576 1c.044.014.086.035.131.041a2.96 2.96 0 0 1 2.402 3.609 3.06 3.06 0 0 1-.766 1.389c1.514.908 2.332 2.222 2.367 3.998l2.368.004c.163.002.231-.055.288-.199l1.185-2.976c.185-.465.382-.598.888-.599l4.193.001c.705.001 1.009.451.751 1.1l-.809 2.018-.243.626c.034.012.048.021.061.021l1.711-.002c.661-.033.9.387.898.892l-.008 11.664-.005.257a.7.7 0 0 1-.553.621.67.67 0 0 1-.737-.327c-.068-.132-.1-.295-.105-.446l-.004-1.447h0H1.405l-.001 1.513c-.004.364-.224.633-.563.708-.351.079-.629-.099-.841-.539h0v-12.37c.176-.4.481-.541.913-.527l2.176.005h0 .668c.061-1.768.833-3.101 2.361-3.989l-.093-.12c-1.244-1.419-.912-3.564.72-4.511.341-.199.749-.281 1.128-.417h0 .703zm13.996 10.452H1.42v8.353h21.151v-8.353zm-8.99 1.216l1.847.034c.879.081 1.51.676 1.73 1.541.193.752-.123 1.584-.79 2.084l-.125.098.765.955c.284.361.265.794-.045 1.043-.329.265-.754.203-1.048-.16l-1.046-1.32c-.18-.253-.387-.265-.668-.218v1.077c-.003.478-.284.787-.707.782-.415-.004-.696-.311-.697-.775v-4.354c.001-.503.284-.788.784-.787zm-3.177.006c.31-.043.635.153.74.453a.85.85 0 0 1 .049.275l.001 4.448c-.001.383-.239.668-.574.723-.44.073-.815-.225-.827-.672l-.003-1.287h0v-.268H8.185h0v.468l-.01 1.101c-.026.418-.329.683-.723.669-.38-.013-.649-.295-.671-.701l-.002-.046v-2.201h0l.001-2.201c.001-.093.009-.189.035-.277.087-.298.386-.502.695-.487.324.015.608.249.648.571.032.254.022.513.026.771l.008.841c0 .015.01.027.023.059h0 1.576 0v-1.268l.005-.351a.7.7 0 0 1 .609-.619zm4.935 1.43c-.372-.041-.751-.01-1.127-.01h0v1.202l1.006-.002a.59.59 0 0 0 .58-.532c.032-.317-.147-.623-.459-.658zm5.399-6.43h-2.444c-.553 0-.553-.001-.756.505l-.74 1.858 2.879-.007c.063-.001.155-.091.183-.159l.723-1.8.154-.397h0zm-12.52-.751c-1.927.028-3.111 1.664-3.029 3.097h0 6.09c.096-1.637-1.373-3.122-3.061-3.097zm.009-4.517c-.847.003-1.545.706-1.546 1.553a1.55 1.55 0 0 0 1.544 1.55c.848.004 1.549-.684 1.563-1.536a1.58 1.58 0 0 0-1.561-1.568z\" fill=\"#333\" /></svg>HR Software</a></li><li class=\"vcategory-menu\"><a class=\"vcategory-menu-title\" href=\"/help-desk-software/\"><svg xmlns=\"http://www.w3.org/2000/svg\" width=\"24\" height=\"24\"><path d=\"M24 22.943c0-.847-.504-1.609-1.284-1.94l-5.979-2.544v-1.491c.633-.795 1.033-1.741 1.167-2.757h1.222c1.163 0 2.109-.946 2.109-2.109V9.077c0-1.063-.791-1.945-1.816-2.089C19.269 2.414 16.711 0 12 0S4.731 2.414 4.58 6.989c-1.025.143-1.816 1.025-1.816 2.089v3.024c0 1.163.946 2.109 2.109 2.109h1.222c.134 1.016.534 1.963 1.167 2.757v1.491l-5.979 2.544C.504 21.334 0 22.096 0 22.943v.354c0 .187.074.365.206.497S.517 24 .703 24h22.594c.187 0 .365-.074.497-.206s.206-.311.206-.497v-.354zm-8.668-3.991c.001.017.04 1.723-.968 2.773-.554.576-1.349.868-2.364.868s-1.805-.29-2.358-.862c-1.02-1.055-.975-2.765-.974-2.779a.49.49 0 0 0 .001-.028v-.696c.963.609 2.111.936 3.331.936s2.369-.327 3.331-.936v.696a.49.49 0 0 0 .001.028h0zm1.217-5.821l-1.338.892a2.57 2.57 0 0 1-1.43.433h-1.189c-.388 0-.703.315-.703.703s.315.703.703.703h1.189a3.97 3.97 0 0 0 2.21-.669l.269-.179c-.634 1.637-2.257 2.744-4.261 2.744-2.593 0-4.549-1.854-4.549-4.313v-5.7c.277-1.289.679-2.108 1.163-2.37s1.183.01 1.86.274c.528.205 1.026.399 1.526.399s.997-.196 1.518-.403c.678-.27 1.319-.524 1.794-.276.346.18.839.742 1.237 2.386v5.377zm3.281-4.054v3.024c0 .388-.315.703-.703.703h-1.172v-4.43h1.172c.388 0 .703.315.703.703h0zM7.239 3.129C8.213 1.986 9.815 1.406 12 1.406s3.787.58 4.761 1.722c.767.9 1.187 2.19 1.252 3.839h-.216c-.425-1.508-1.014-2.419-1.835-2.847-1.046-.545-2.109-.123-2.963.216-.376.149-.764.304-.999.304s-.633-.154-1.017-.303c-.884-.344-1.985-.771-3.04-.199-.795.432-1.371 1.36-1.753 2.83h-.203c.065-1.649.485-2.939 1.252-3.839zm-3.07 8.973V9.077c0-.388.315-.703.703-.703h1.172v4.43H4.873c-.388 0-.703-.315-.703-.703zM1.834 22.297l5.509-2.344c.123.763.43 1.801 1.181 2.641H1.499a.7.7 0 0 1 .335-.297h0zm13.642.297c.751-.84 1.058-1.878 1.181-2.641l5.509 2.344a.7.7 0 0 1 .335.297h-7.025z\" fill=\"#333\" /></svg>Help Desk Software</a></li><li class=\"vcategory-menu\"><a class=\"vcategory-menu-title\" href=\"/hospital-management-software/\"><svg xmlns=\"http://www.w3.org/2000/svg\" width=\"24\" height=\"24\"><path d=\"M18.982 1c.327 0 .655.327.655.655h0v3.6h-1.418v1.418h5.018c.327 0 .655.327.655.655h0H24v3.382h-1.418V21.4c0 .327-.327.655-.655.655h0H2.073c-.327 0-.655-.327-.655-.655h0V10.709H0V7.218c0-.327.327-.655.655-.655h0 5.018V5.145H4.255V1.655c0-.327.327-.655.655-.655h0 14.073zm2.073 9.818h-2.836v9.927h2.836v-9.927zM16.8 5.255H6.982v15.491H16.8V5.255zM5.565 10.818H2.727v9.927h2.837v-9.927zm4.144 7.091v1.308H8.291v-1.308h1.418zm2.836 0v1.308h-1.418v-1.308h1.418zm2.837 0v1.308h-1.419v-1.308h1.419zm-5.674-2.836v1.418H8.291v-1.418h1.418zm2.836 0v1.418h-1.418v-1.418h1.418zm2.837 0v1.418h-1.419v-1.418h1.419zm-5.674-2.836v1.418H8.291v-1.418h1.418zm2.836 0v1.418h-1.418v-1.418h1.418zm2.837 0v1.418h-1.419v-1.418h1.419zm-2.838-5.564v1.309h1.418V9.4h-1.418v1.419h-1.418V9.4H9.71V8.092h1.417V6.672h1.418zm9.928 1.31h-4.255V9.4h4.255V7.982zm-16.909 0H1.309V9.4h4.255V7.982zm12.655-5.564H5.564v1.418h12.655V2.418z\" fill=\"#333\" /></svg>Hospital Management Software</a></li><li class=\"vcategory-menu\"><a class=\"vcategory-menu-title\" href=\"/inventory-management-software/\"><svg xmlns=\"http://www.w3.org/2000/svg\" width=\"24\" height=\"24\"><path d=\"M17.655 0a.69.69 0 0 1 .69.691h0v10.618h4.965a.69.69 0 0 1 .69.69h0v11.309a.69.69 0 0 1-.69.691h0H.691C.31 24 0 23.69 0 23.309h0V11.999a.69.69 0 0 1 .691-.69h0 4.963V.691c0-.381.31-.691.691-.691h0 11.309zm4.964 12.691h-9.929v9.927h9.929v-9.927zm-11.31 0H1.382v9.927h9.927v-9.927zm-2.06 6.696c.381 0 .691.31.691.691s-.31.691-.691.691h0-5.656c-.381 0-.691-.31-.691-.691s.31-.691.691-.691h0 5.656zm11.31 0a.69.69 0 1 1 0 1.383h0-5.656c-.38 0-.69-.31-.69-.691s.31-.691.69-.691h0 5.656zM16.964 1.382H7.036v9.927h9.927V1.382zm-2.06 6.696a.69.69 0 1 1 0 1.382h0-5.656a.69.69 0 0 1-.691-.691c0-.38.31-.69.691-.69h0 5.656z\" fill=\"#333\" /></svg>Inventory Management Software</a></li><li class=\"vcategory-menu\"><a class=\"vcategory-menu-title\" href=\"/library-automation-software/\"><svg xmlns=\"http://www.w3.org/2000/svg\" width=\"24\" height=\"24\"><path d=\"M20.221 2.002c.413-.034.765.292.765.703h0v2.79l2.333.003c.38.013.681.325.681.705h0v12.855c0 .371-.288.679-.658.704-2.809.189-7.511.21-11.065 1.726.047-.02-.237.135-.554 0C8.17 19.973 3.466 19.952.658 19.763.288 19.738 0 19.43 0 19.059h0V6.204c0-.4.332-.718.727-.706l2.287.073h0V2.706c0-.412.352-.737.765-.703C6.492 2.229 9.943 3.428 12 5.614c2.057-2.187 5.508-3.385 8.221-3.612zM1.412 6.931v11.464c2.135.12 5.052.221 7.839.846-1.953-1.414-4.049-2.071-5.661-2.373-.334-.063-.576-.354-.576-.694h0V6.984l-1.602-.053h0zm21.176-.034a51.38 51.38 0 0 0-1.602.011h0v9.266c0 .34-.242.631-.576.694-1.612.303-3.708.959-5.661 2.373 2.788-.625 5.708-.726 7.839-.846h0zM19.574 3.5c-2.399.363-5.324 1.525-6.868 3.452h0v12.133c2.253-2.06 4.833-3.032 6.868-3.487h0zm-15.148 0v12.098c2.036.455 4.615 1.427 6.868 3.487h0V6.952C9.75 5.025 6.825 3.863 4.426 3.5h0zm12.606 8.049c.384-.065.749.194.814.578s-.194.749-.578.814c-.73.123-1.589.613-1.924.817s-.767.098-.97-.234-.098-.767.234-.97c.503-.307 1.487-.846 2.424-1.005zm-10.158-.01l.095.01c.938.158 1.921.697 2.424 1.005.333.203.438.638.234.97s-.637.438-.97.234-1.193-.694-1.924-.817c-.384-.065-.643-.429-.578-.814s.429-.644.814-.578zm0-3.989l.095.01c1.006.17 1.948.638 2.495 1.018.32.223.398.663.176.983s-.663.398-.983.176a5.15 5.15 0 0 0-1.923-.785c-.384-.065-.643-.429-.578-.814s.429-.644.814-.578zm10.158.01c.384-.065.749.194.814.578s-.194.749-.578.814a5.15 5.15 0 0 0-1.923.785c-.32.223-.76.144-.983-.176s-.144-.76.176-.983c.547-.381 1.489-.848 2.495-1.018z\" fill=\"#333\" /></svg>Library Automation Software</a></li><li class=\"vcategory-menu\"><a class=\"vcategory-menu-title\" href=\"/live-chat-software/\"><svg xmlns=\"http://www.w3.org/2000/svg\" width=\"24\" height=\"24\"><path d=\"M9.795 0c3.809 0 7.074 2.177 8.707 5.333 5.659 2.939 7.074 10.448 2.939 15.237h0l2.284 2.069c.544.434.219 1.196-.435 1.196h0-9.141c-3.375 0-6.312-1.633-8.163-4.245h0H.652c-.544 0-.871-.761-.434-1.197h0l2.177-2.177C.87 14.476 0 12.19 0 9.795 0 4.462 4.353 0 9.795 0zm9.576 7.51c1.525 6.204-3.265 12.19-9.576 12.19h0-2.069c1.525 1.741 3.809 2.83 6.312 2.83 0 0 7.402 0 7.402-.109h0l-1.416-1.414c-.327-.219-.327-.654 0-.981 3.593-3.592 3.265-9.359-.653-12.516zM9.795 1.306c-4.68 0-8.489 3.809-8.489 8.489 0 2.286.871 4.353 2.503 5.986a.99.99 0 0 1 0 1.088h0l-1.415 1.416h7.182c5.224 0 8.707-4.028 8.707-8.49 0-4.68-3.809-8.489-8.488-8.489zm4.135 10.775c.327 0 .653.327.653.652s-.217.654-.653.654h0-8.38c-.327 0-.653-.328-.653-.654s.219-.652.653-.652h0 8.38zm0-2.83c.327 0 .653.328.653.653s-.217.653-.653.653h0-8.38c-.327 0-.653-.327-.653-.653s.219-.653.653-.653h0 8.38zm0-2.829c.327 0 .653.327.653.652s-.217.654-.653.654h0-8.38c-.327 0-.653-.327-.653-.654s.219-.652.653-.652h0 8.38z\" fill=\"#333\" /></svg>Live Chat Software</a></li><li class=\"vcategory-menu\"><a class=\"vcategory-menu-title\" href=\"/marketing-automation-software/\"><svg xmlns=\"http://www.w3.org/2000/svg\" width=\"24\" height=\"24\"><path d=\"M5.809 13.019V7.745c0-.576.458-1.045 1.022-1.045h4.284.166v.166 7.031.167h-.166-4.284c-.564 0-1.022-.469-1.022-1.045h0zm3.758 2.637v5.875c0 .575-.459 1.044-1.022 1.044s-1.023-.469-1.023-1.044v-5.875-.166h.166 1.713.166v.166zm-5.14-7.032v3.516.166h-.166c-1.036 0-1.88-.863-1.88-1.923s.844-1.924 1.88-1.924h.166v.166zm8.227 5.314V6.826v-.152l.152-.014c1.917-.178 3.75-.968 5.165-2.224l.275-.244v.369 11.642.369l-.275-.244c-1.415-1.256-3.248-2.046-5.165-2.225l-.152-.014v-.15zm6.973-11.467c0-.575.459-1.044 1.023-1.044s1.023.469 1.023 1.044v15.821c0 .576-.459 1.044-1.023 1.044s-1.023-.468-1.023-1.044V2.471zM6.141 21.53c0 1.361 1.078 2.47 2.404 2.47s2.402-1.108 2.402-2.47v-5.875-.166h.167.856c2.039 0 4.087.852 5.477 2.278l.781.802.039.039.008.053c.176 1.198 1.198 2.101 2.377 2.101 1.325 0 2.404-1.108 2.404-2.471V2.471C23.056 1.109 21.976 0 20.651 0c-1.179 0-2.201.904-2.377 2.101l-.008.054-.039.038-.781.802c-1.39 1.428-3.437 2.279-5.477 2.279h-5.14c-1.014 0-1.924.661-2.265 1.646l-.039.112h-.118-.147C2.464 7.032 1 8.535 1 10.382s1.464 3.35 3.262 3.35h.147.118l.039.112c.241.696.789 1.258 1.465 1.505l.109.039v.117 6.025z\" fill=\"#333\" fill-rule=\"evenodd\" /></svg>Marketing Automation Software</a></li><li class=\"vcategory-menu\"><a class=\"vcategory-menu-title\" href=\"/order-management-software/\"><svg xmlns=\"http://www.w3.org/2000/svg\" width=\"24\" height=\"24\"><path d=\"M22.406 6.239v12.21.074l-.069.028-9.188 3.774-.153.063v-.165-12.21-.074l.069-.029 9.187-3.774.154-.062v.165zm-10.014 2.55l-.042.017-.042-.017-3.943-1.621-.242-.1.24-.104 8.522-3.718.043-.019.043.018 4.208 1.728.249.103-.249.103-8.786 3.609zm-.689 1.225v12.21.165l-.153-.063-9.188-3.774-.069-.028v-.074-12.21-.165l.153.062 3.402 1.398.069.028v.074 3.945a.65.65 0 0 0 .647.647.65.65 0 0 0 .647-.647V8.258v-.165l.153.063 4.27 1.753.069.029v.074zm-8.181-5.04l8.786-3.609.042-.017.042.017 2.626 1.08.242.1-.24.104-8.522 3.718-.043.019-.043-.018-2.89-1.187-.25-.103.25-.103zm20.178.071c0-.263-.158-.498-.402-.598L12.596.049A.65.65 0 0 0 12.35 0a.64.64 0 0 0-.246.049L1.402 4.446c-.244.1-.402.335-.402.598v13.912c0 .263.157.499.402.598l10.703 4.397a.64.64 0 0 0 .244.049.65.65 0 0 0 .246-.049l.02-.009 3.974-1.632 6.71-2.757c.243-.1.402-.335.402-.598V5.044z\" fill=\"#333\" /></svg>Order Management Software</a></li><li class=\"vcategory-menu\"><a class=\"vcategory-menu-title\" href=\"/point-of-sale-software/\"><svg xmlns=\"http://www.w3.org/2000/svg\" width=\"24\" height=\"24\"><path d=\"M14.347 0c.545 0 1.091.437 1.091 1.091v1.636h3.6c.653 0 1.091.545 1.199 1.091v19.091c0 .545-.435 1.091-1.091 1.091H4.091C3.545 24 3 23.565 3 22.909V3.818c0-.545.437-1.091 1.091-1.091h3.6V1.091C7.691.545 8.128 0 8.782 0h5.565zM7.691 4.256H4.418v18.327H18.71V4.256h-3.273v1.527h.764v1.418H6.928V5.783h.763V4.256zm8.511 15.818v1.418h-1.747v-1.418h1.747zm-7.636 0v1.418H6.819v-1.418h1.747zm3.818 0v1.418h-1.747v-1.418h1.747zm3.818-2.4v1.418h-1.747v-1.418h1.747zm-7.636 0v1.418H6.819v-1.418h1.747zm3.818 0v1.418h-1.747v-1.418h1.747zm3.818-2.509v1.418h-1.747v-1.418h1.747zm-7.636 0v1.418H6.819v-1.418h1.747zm3.818 0v1.418h-1.747v-1.418h1.747zm4.909-6.764v5.455H5.728V8.401h11.565zm-1.419 1.418H7.146v2.618h8.727V9.819zm-1.854-8.4H9.11v4.364h4.909V1.419z\" fill=\"#333\" /></svg>POS Software</a></li><li class=\"vcategory-menu\"><a class=\"vcategory-menu-title\" href=\"/payroll-software/\"><svg xmlns=\"http://www.w3.org/2000/svg\" width=\"24\" height=\"24\"><path d=\"M12 0a11.9 11.9 0 0 1 5.285 1.224h0l-.662 1.347C15.186 1.862 13.604 1.495 12 1.5a10.5 10.5 0 0 0-10.5 10.5c0 5.8 4.701 10.501 10.5 10.501a10.44 10.44 0 0 0 2.1-.21h0l.3 1.471a12.07 12.07 0 0 1-2.4.24c-6.627 0-12-5.373-12-12.001S5.373 0 12 0zm3.75 12.065l7.812 7.811H18.96l-3.211 4.013V12.065zM3.317 9.642c1.302-4.797 6.246-7.63 11.044-6.328s7.63 6.246 6.327 11.044h0l-1.446-.396c.169-.632.256-1.284.257-1.94a7.49 7.49 0 0 0-7.477-7.5 7.49 7.49 0 0 0-7.501 7.477A7.49 7.49 0 0 0 12 19.5c.69.003 1.376-.093 2.038-.285h0l.424 1.439c-.799.233-1.63.349-2.463.347-.795 0-1.588-.106-2.355-.316-4.796-1.302-7.63-6.246-6.328-11.043zm13.934 6.044v3.927l.988-1.236h1.702l-2.69-2.69zM12.751 6v1.499h1.499V9H12c-.621 0-1.125.503-1.125 1.125S11.379 11.25 12 11.25a2.62 2.62 0 0 1 .75 5.127h0V18H11.25v-1.501H9.751V15H12c.621 0 1.124-.504 1.124-1.125S12.621 12.75 12 12.75a2.62 2.62 0 0 1-2.519-1.877c-.411-1.386.382-2.841 1.768-3.252h0V6h1.501zm10.063.799c1.514 3.151 1.582 6.803.186 10.009h0l-1.376-.599A10.49 10.49 0 0 0 22.5 12a10.4 10.4 0 0 0-1.035-4.55h0l1.348-.651zm-1.75-2.667c.35.403.673.829.965 1.275h0l-1.254.825c-.257-.39-.54-.762-.846-1.114h0l1.135-.986zm-2.392-2.108c.441.297.864.623 1.264.976h0l-.993 1.124a10.54 10.54 0 0 0-1.108-.854h0l.837-1.246z\" fill=\"#333\" /></svg>Payroll Software</a></li><li class=\"vcategory-menu\"><a class=\"vcategory-menu-title\" href=\"/project-management-software/\"><svg xmlns=\"http://www.w3.org/2000/svg\" width=\"24\" height=\"24\"><path d=\"M22.536 6.996H1.464v-4.8a.73.73 0 0 1 .731-.732h8.911l.566 1.695a.73.73 0 0 0 .694.501h9.439a.73.73 0 0 1 .732.732v2.604zm0 14.678a.73.73 0 0 1-.732.731H2.195a.73.73 0 0 1-.731-.731V8.46h21.072v13.214zm-.732-19.478h-8.911L12.328.501A.73.73 0 0 0 11.633 0H2.195C.983 0 0 .983 0 2.196v19.478c0 1.212.983 2.195 2.195 2.195h19.609c1.212 0 2.196-.983 2.196-2.195V4.392c0-1.213-.984-2.196-2.196-2.196h0z\" fill=\"#333\" /></svg>Project Management Software</a></li><li class=\"vcategory-menu\"><a class=\"vcategory-menu-title\" href=\"/reporting-software/\"><svg xmlns=\"http://www.w3.org/2000/svg\" width=\"24\" height=\"24\"><path d=\"M23.206 1c.444 0 .888.333.777.778h0V19.32a4.1 4.1 0 0 1-4.108 4.109h0H3.442C1.554 23.429 0 21.874 0 19.986h0v-5.439a3.46 3.46 0 0 1 3.442-3.443h0 1.888V1.778A.76.76 0 0 1 6.107 1h0 17.099zM5.218 12.769H3.331a1.95 1.95 0 0 0-1.888 1.888h0v5.329a1.95 1.95 0 0 0 1.888 1.888h0 .444c.888-.222 1.554-.998 1.554-1.888h0v-7.105h-.111v-.112zM22.539 2.556H6.995v17.431c0 .555-.222 1.11-.444 1.554h0l-.111.223h13.435c1.332 0 2.554-1.222 2.554-2.554h0V2.776h.111v-.221zm-5.995 12.657c.443 0 .777.444.777.777a.76.76 0 0 1-.777.777h0-6.107c-.444 0-.777-.332-.777-.777a.76.76 0 0 1 .777-.777h0 6.107zm2.331-4.33c.444 0 .777.333.777.776s-.333.777-.777.777h0-8.327a.76.76 0 0 1-.777-.777.76.76 0 0 1 .777-.776h0 8.327zM16.654 6.22c.444 0 .777.332.777.777s-.333.776-.777.776h0-6.107c-.443 0-.888-.333-.777-.776a.76.76 0 0 1 .777-.777h0 6.107z\" fill=\"#333\" /></svg>Reporting Software</a></li><li class=\"vcategory-menu\"><a class=\"vcategory-menu-title\" href=\"/seo-software/\"><svg xmlns=\"http://www.w3.org/2000/svg\" width=\"24\" height=\"24\"><path d=\"M1.951 10.57a8.63 8.63 0 0 1 8.618-8.618 8.63 8.63 0 0 1 8.617 8.618 8.63 8.63 0 0 1-8.617 8.618 8.63 8.63 0 0 1-8.618-8.618m21.763 11.766l-5.017-5.017a10.52 10.52 0 0 0 2.441-6.749C21.138 4.742 16.397 0 10.57 0S0 4.742 0 10.57s4.741 10.57 10.57 10.57c2.562 0 4.915-.918 6.749-2.442l5.016 5.017a.97.97 0 0 0 1.38 0c.38-.38.38-.998 0-1.379\" fill=\"#333\" fill-rule=\"evenodd\" /></svg>SEO Software</a></li><li class=\"vcategory-menu\"><a class=\"vcategory-menu-title\" href=\"/school-management-software/\"><svg xmlns=\"http://www.w3.org/2000/svg\" width=\"24\" height=\"24\"><path d=\"M11.978 0a.59.59 0 0 1 .591.591h0v.883l.066.064 6.269 6.269a.59.59 0 0 1 0 .836.59.59 0 0 1-.418.173.58.58 0 0 1-.418-.173h0l-.239-.238-.38-.379v3.319h5.916a.59.59 0 0 1 .591.591h0v11.471a.59.59 0 0 1-.591.592h0H.591C.266 24 0 23.734 0 23.408h0V11.937a.59.59 0 0 1 .591-.591h0 5.916V8.027l-.379.379-.239.238c-.111.112-.26.173-.418.173s-.307-.061-.418-.173a.59.59 0 0 1 0-.836h0l6.268-6.269.066-.064V.591A.59.59 0 0 1 11.978 0zm10.797 12.528h-5.326v10.29h5.326v-10.29zM11.978 2.554l-.157.158-4.132 4.223v15.882H9.76v-5.916a.59.59 0 0 1 .591-.591h0 3.253a.59.59 0 0 1 .591.591h0v5.916h2.072V6.842l-4.132-4.13-.158-.158zm1.036 14.938h-2.071v5.326h2.071v-5.326zm-6.507-4.964H1.182v10.29h5.324v-10.29zm-1.875 6.892c.107 0 .193.087.193.194h0v.761c0 .108-.087.194-.193.194h0-.762c-.107 0-.193-.087-.193-.194h0v-.761c0-.108.087-.194.193-.194h0 .762zm15.942 0c.107 0 .194.087.194.194h0v.761c0 .108-.088.194-.194.194h0-.762c-.107 0-.193-.087-.193-.194h0v-.761c0-.108.087-.194.193-.194h0 .762zM4.632 15.676c.107 0 .193.087.193.194h0v.761c0 .108-.087.194-.193.194h0-.762c-.107 0-.193-.087-.193-.194h0v-.761c0-.108.087-.194.193-.194h0 .762zm15.942 0c.107 0 .194.087.194.194h0v.761c0 .108-.088.194-.194.194h0-.762c-.107 0-.193-.087-.193-.194h0v-.761c0-.108.087-.194.193-.194h0 .762zm-9.565-2.391c.107 0 .194.087.194.194h0v.761c0 .108-.088.194-.194.194h0-.762c-.107 0-.193-.087-.193-.194h0v-.761c0-.108.087-.194.193-.194h0 .762zm3.189 0c.051 0 .1.021.137.058s.057.084.057.137h0v.761c0 .108-.087.194-.193.194h0-.762c-.108 0-.194-.087-.194-.194h0v-.761c0-.107.087-.194.194-.194h0 .762zm-2.072-6.795c1.187 0 2.152.966 2.152 2.152s-.966 2.152-2.152 2.152-2.152-.966-2.152-2.152.967-2.152 2.152-2.152zm0 1.139c-.559 0-1.013.454-1.013 1.013s.454 1.014 1.013 1.014S13.14 9.2 13.14 8.641s-.456-1.013-1.014-1.013z\" fill=\"#333\" /></svg>School Management Software</a></li><li class=\"vcategory-menu\"><a class=\"vcategory-menu-title\" href=\"/shipping-software/\"><svg xmlns=\"http://www.w3.org/2000/svg\" width=\"24\" height=\"24\"><path d=\"M15.421 4a.74.74 0 0 1 .76.76h0v.652h3.258c.217 0 .543.217.65.434h0l2.282 4.452 1.412 1.846c0 .217.108.326.217.543h0v4.887a.74.74 0 0 1-.76.76h0-2.172a3.03 3.03 0 0 1-5.865 0h0-4.451a3.03 3.03 0 0 1-5.865 0h0-1.954a.74.74 0 0 1-.761-.76.74.74 0 0 1 .761-.76h0 1.846c.434-1.303 1.52-2.172 2.932-2.172a3.03 3.03 0 0 1 2.932 2.282h0 4.56c.327-1.304 1.521-2.282 2.933-2.282a3.03 3.03 0 0 1 2.932 2.282h0 1.412v-3.91l-1.086-1.412H15.53a.74.74 0 0 1-.76-.76h0v-5.32H2.933c-.434 0-.761-.327-.761-.761A.74.74 0 0 1 2.933 4h0 12.488zm2.606 11.945a1.48 1.48 0 0 0-1.52 1.521 1.48 1.48 0 0 0 1.52 1.519 1.48 1.48 0 0 0 1.519-1.519 1.48 1.48 0 0 0-1.519-1.521zm-10.316 0a1.48 1.48 0 0 0-1.52 1.521 1.48 1.48 0 0 0 1.52 1.519 1.48 1.48 0 0 0 1.519-1.519 1.48 1.48 0 0 0-1.519-1.521zM5.43 13.013a.74.74 0 0 1 .76.76.82.82 0 0 1-.76.76h0-3.474a.74.74 0 0 1-.761-.76.74.74 0 0 1 .761-.76h0H5.43zm1.738-3.04a.74.74 0 0 1 .76.76.74.74 0 0 1-.76.76h0H.76a.74.74 0 0 1-.76-.76c0-.326.327-.76.76-.76h0 6.408zm11.728-3.041h-2.715v3.041h4.235l-1.52-3.041zm-10.534.109a.74.74 0 0 1 .761.76.74.74 0 0 1-.761.76h0-6.406a.74.74 0 0 1-.76-.76.74.74 0 0 1 .76-.76h0 6.406z\" fill=\"#333\" /></svg>Shipping Software</a></li><li class=\"vcategory-menu\"><a class=\"vcategory-menu-title\" href=\"/text-editor-software/\"><svg xmlns=\"http://www.w3.org/2000/svg\" width=\"24\" height=\"24\"><path d=\"M3 0v1.5h18V0h3v3h-1.5v18H24v3h-3v-1.5H3V24H0v-3h1.5V3H0V0h3zm18 3H3v18h18V3zm-3 3v4.5h-1.5v-3h-3.75v9H15V18H9v-1.5h2.25v-9H7.5v3H6V6h12z\" fill=\"#333\" /></svg>Text Editor Software</a></li><li class=\"vcategory-menu hovered\"><a class=\"vcategory-menu-title\" href=\"/warehouse-management-software/\"><svg xmlns=\"http://www.w3.org/2000/svg\" width=\"24\" height=\"24\"><path d=\"M1.397 8.881v-.028l.024-.018L11.968 1.57 12 1.548l.031.022 10.548 7.265.023.018v.028 13.418c0 .168-.137.305-.306.305h-3.265-.055v-.055V11.75a.7.7 0 0 0-.699-.699H5.721a.7.7 0 0 0-.698.699v10.798.055h-.056-3.265c-.169 0-.306-.137-.306-.305V8.881zm16.183 3.622v2.009.055h-.055-11.05-.055v-.055-2.009-.055h.055 11.05.055v.055zm0 3.516v2.512.055h-.055-11.05-.055v-.055-2.512-.055h.055 11.05.055v.055zm0 4.019v2.511.055h-.055-11.05-.055v-.055-2.511-.055h.055 11.05.055v.055zM0 8.485v13.813C0 23.236.764 24 1.703 24h4.019 12.557 4.019c.94 0 1.704-.764 1.704-1.701V8.485c0-.23-.114-.445-.302-.576L12.397.124C12.279.043 12.142 0 12 0s-.279.043-.397.124L.302 7.909A.7.7 0 0 0 0 8.485h0z\" fill=\"#333\" /></svg>Warehouse Management Software</a></li><li class=\"vcategory-menu\"><a class=\"vcategory-menu-title\" href=\"/website-builder-software/\"><svg xmlns=\"http://www.w3.org/2000/svg\" width=\"24\" height=\"24\"><path d=\"M22.646 12.779c-.162 2.273-1.03 4.391-2.506 6.128l-.074.086-.085-.076a12.18 12.18 0 0 0-1.792-1.327l-.072-.043.022-.082c.423-1.461.668-3.042.727-4.698l.003-.106h.107 3.559.119l-.009.118zm-3.602 7.239c-.83.732-1.76 1.327-2.763 1.766l-.39.17.258-.337c.57-.749 1.067-1.645 1.48-2.664l.05-.125.114.074c.438.284.86.605 1.252.951l.094.083-.094.082zm-6.242 2.541l-.141.04v-.147-5.116-.119l.119.009a10.57 10.57 0 0 1 3.634.921l.095.043-.039.097c-.421 1.088-1.625 3.682-3.668 4.272h0zm-.141-6.769v-3.019-.11h.11 4.661.116l-.004.115c-.054 1.413-.251 2.767-.589 4.024l-.033.125-.118-.052a11.88 11.88 0 0 0-4.04-.972l-.104-.007v-.104zm0-4.562V8.209v-.104l.104-.007a11.88 11.88 0 0 0 4.04-.972l.118-.051.033.123c.337 1.257.535 2.612.589 4.024l.004.115h-.116-4.661-.11v-.11zm0-4.564V1.547 1.4l.141.04c2.043.59 3.247 3.184 3.668 4.272l.039.097-.095.043a10.57 10.57 0 0 1-3.634.921l-.119.009v-.118zm3.621-4.449c1.003.44 1.933 1.033 2.763 1.766l.094.082-.094.083a10.8 10.8 0 0 1-1.252.953l-.114.073-.05-.125c-.412-1.019-.91-1.915-1.48-2.663l-.258-.338.39.17zm3.785 2.791l.074.086c1.476 1.736 2.344 3.854 2.506 6.128l.009.118h-.119-3.559-.107l-.003-.106c-.058-1.656-.303-3.236-.727-4.698l-.022-.082.072-.043a12.18 12.18 0 0 0 1.792-1.327l.085-.076zm-8.727-3.46v5.117.118l-.118-.009c-1.267-.09-2.489-.4-3.634-.921l-.096-.043.039-.097c.422-1.088 1.626-3.682 3.668-4.272l.141-.04v.147zm0 6.662v3.019.11h-.11-4.661-.115l.003-.115c.054-1.412.252-2.767.59-4.024l.033-.123.117.051c1.276.558 2.635.885 4.04.972l.104.007v.104zm0 4.562v3.019.104l-.104.007c-1.405.087-2.764.415-4.04.972l-.117.052-.033-.125c-.337-1.257-.536-2.611-.59-4.024l-.003-.115h.115 4.661.11v.11zm0 4.565v5.116.147l-.141-.04c-2.042-.59-3.246-3.184-3.668-4.272l-.039-.097.096-.043a10.56 10.56 0 0 1 3.634-.921l.118-.009v.119zm-3.621 4.447a10.64 10.64 0 0 1-2.764-1.766l-.094-.082.094-.083c.395-.347.816-.667 1.255-.951l.111-.074.051.125c.411 1.019.908 1.915 1.48 2.664l.258.337-.39-.17zm-3.785-2.791l-.073-.086a10.56 10.56 0 0 1-2.507-6.128l-.008-.118h.118 3.56.105l.004.106c.058 1.656.303 3.237.725 4.698l.024.082-.073.043c-.632.383-1.235.829-1.792 1.327l-.085.076zm-2.58-7.773a10.56 10.56 0 0 1 2.507-6.128l.073-.086.085.076c.557.498 1.16.945 1.792 1.327l.073.043-.024.082c-.421 1.461-.666 3.042-.725 4.698l-.004.106h-.105-3.56-.118l.008-.118zm3.601-7.239a10.64 10.64 0 0 1 2.764-1.766l.39-.17-.258.338c-.57.747-1.068 1.644-1.48 2.663l-.051.125-.111-.073a10.92 10.92 0 0 1-1.255-.953l-.094-.083.094-.082zm15.529-.464C18.215 1.249 15.203 0 12.001 0a11.92 11.92 0 0 0-8.484 3.517C1.249 5.784 0 8.797 0 11.999s1.249 6.216 3.517 8.483S8.797 24 12.001 24s6.215-1.249 8.483-3.518S24 15.202 24 11.999s-1.248-6.216-3.517-8.483h0z\" fill=\"#333\" fill-rule=\"evenodd\" /></svg>Website Builder Software</a></li></ul><div class=\"menu-browse-all\">Can’t find what you are looking for? <a href=\"/directories/software/\" class=\"alink\">Browse All Software Categories<svg xmlns=\"http://www.w3.org/2000/svg\" width=\"24\" height=\"24\" preserveAspectRatio=\"xMidYMid meet\"><path d=\"M13.293 7.293a.999.999 0 0 0 0 1.414L15.586 11H8a1 1 0 0 0 0 2h7.586l-2.293 2.293a.999.999 0 1 0 1.414 1.414L19.414 12l-4.707-4.707a.999.999 0 0 0-1.414 0z\" fill=\"#3a7af3\" /></svg></a></div></div>\n",
       "</li>\n",
       "<li class=\"navbar-nav-li\">\n",
       "<a class=\"navbar-nav-li-a blue-border-bottom\" href=\"javascript:\">\n",
       "<span>Resources</span>\n",
       "<span class=\"triangle\"></span>\n",
       "</a>\n",
       "<div class=\"allmenu extramenuall\">\n",
       "<div class=\"option-bg \"></div>\n",
       "<ul class=\"extra-sub-menu-ul\">\n",
       "<li>\n",
       "<a href=\"/blog\" alt=\"Blog\"><svg xmlns=\"http://www.w3.org/2000/svg\" width=\"24\" height=\"24\"><path d=\"M21.25 0C22.767 0 24 1.224 24 2.729v18.541C24 22.776 22.767 24 21.25 24H2.75C1.233 24 0 22.776 0 21.271V2.729C0 1.224 1.233 0 2.75 0h18.5zm1.249 4.962h-21L1.5 21.271c0 .684.561 1.241 1.25 1.241h18.5c.689 0 1.25-.557 1.25-1.241l-.001-16.309zM12.25 9.023c.414 0 .75.333.75.744v1.489c0 .411-.336.744-.75.744s-.75-.333-.75-.744v-.744H8.749v6.947l.501.001c.414 0 .75.333.75.744s-.336.744-.75.744h-2.5c-.414 0-.75-.333-.75-.744s.336-.744.75-.744l.499-.001v-6.947H4.5v.744c0 .411-.336.744-.75.744S3 11.667 3 11.256V9.767c0-.411.336-.744.75-.744h8.5zm8 7.94c.414 0 .75.333.75.744s-.336.744-.75.744h-4.5c-.414 0-.75-.333-.75-.744s.336-.744.75-.744h4.5zm0-3.97c.414 0 .75.333.75.744s-.336.744-.75.744h-4.5c-.414 0-.75-.333-.75-.744s.336-.744.75-.744h4.5zm0-3.97c.414 0 .75.333.75.744s-.336.744-.75.744h-4.5c-.414 0-.75-.333-.75-.744s.336-.744.75-.744h4.5zm1-7.534H2.75c-.689 0-1.25.557-1.25 1.241l-.001.743h21l.001-.743c0-.684-.561-1.241-1.25-1.241z\" fill=\"#333\" /></svg>Blog</a>\n",
       "</li>\n",
       "<li>\n",
       "<a href=\"/research\" alt=\"Research\"><svg xmlns=\"http://www.w3.org/2000/svg\" width=\"24\" height=\"24\"><path d=\"M21.25 0C22.767 0 24 1.224 24 2.729v18.541C24 22.776 22.767 24 21.25 24H2.75C1.233 24 0 22.776 0 21.271V2.729C0 1.224 1.233 0 2.75 0h18.5zm1.249 4.962h-21L1.5 21.271c0 .684.561 1.241 1.25 1.241h18.5c.689 0 1.25-.557 1.25-1.241l-.001-16.309zM8 9.2c2.757 0 5 2.243 5 5s-2.243 5-5 5-5-2.243-5-5 2.243-5 5-5zm12.25 8a.75.75 0 1 1 0 1.5h-4.5a.75.75 0 1 1 0-1.5h4.5zM8.749 10.781V14.2c0 .199-.079.39-.22.53l-2.416 2.417A3.48 3.48 0 0 0 8 17.7c1.93 0 3.5-1.57 3.5-3.5 0-1.673-1.18-3.076-2.751-3.419zm-1.501.001C5.678 11.126 4.5 12.528 4.5 14.2a3.48 3.48 0 0 0 .552 1.885l2.197-2.196-.001-3.108zM20.25 13.2a.75.75 0 1 1 0 1.5h-4.5a.75.75 0 1 1 0-1.5h4.5zm0-4a.75.75 0 1 1 0 1.5h-4.5a.75.75 0 1 1 0-1.5h4.5zm1-7.711H2.75c-.689 0-1.25.557-1.25 1.241l-.001.743h21l.001-.743c0-.684-.561-1.241-1.25-1.241z\" fill=\"#333\" /></svg>Research</a>\n",
       "</li>\n",
       "<li>\n",
       "<a href=\"/eresource\" alt=\"eBooks\"><svg xmlns=\"http://www.w3.org/2000/svg\" width=\"24\" height=\"24\"><path d=\"M21.736 0c1.194 0 2.175.908 2.258 2.055l.006.158v19.575c0 1.166-.93 2.126-2.103 2.207l-.161.006H2.264C1.07 24 .089 23.091.006 21.945L0 21.787V2.213C0 1.045.93.087 2.103.006L2.264 0h19.472zM9.578 13.186l-2.92 2.921-.087.075c-.182.134-.41.176-.618.126h.038c-.402 0-.727-.334-.727-.744V1.439l-3.001.001c-.399 0-.73.291-.783.668l-.007.105v19.575a.78.78 0 0 0 .683.765l.107.007h19.472c.399 0 .73-.291.783-.667l.007-.105V2.213c0-.427-.355-.773-.79-.773l-7.848-.001v14.126a.74.74 0 0 1-.558.723l-.098.017a.74.74 0 0 1-.492-.042.73.73 0 0 1-.345-.273l-2.817-2.803zm2.687-11.747H6.888v12.152l2.018-2.003a1 1 0 0 1 1.414.005l1.944 1.957V1.439z\" fill=\"#333\" /></svg>eBooks</a>\n",
       "</li>\n",
       "</ul>\n",
       "</div>\n",
       "</li>\n",
       "<li class=\"userli\">\n",
       "<a class=\"blue-border-bottom\" href=\"/users/overview\">For Businesses</a>\n",
       "</li>\n",
       "</ul>\n",
       "</div>\n",
       "<div class=\"header-right  \">\n",
       "<form class=\"global-search-input \" action=\"/search\" style=\"\" method=\"get\">\n",
       "<input type=\"textbox\" autocomplete=\"off\" placeholder=\"Search\" name=\"query\" svalue=\"\" value=\"\" class=\"right-heder-search-input  \">\n",
       "<span class=\"search-cross-dark hide\"></span>\n",
       "<span class=\"search_spin hide\"></span>\n",
       "<div class=\"search-list hide\">\n",
       "<div class=\"company-result-section\">\n",
       "<div class=\"search-result-label\">Companies</div>\n",
       "<div class=\"result-container\"></div>\n",
       "</div>\n",
       "<div class=\"software-result-section\">\n",
       "<div class=\"search-result-label\">Software</div>\n",
       "<div class=\"result-container\"></div>\n",
       "</div>\n",
       "<div class=\"menu-result-section\">\n",
       "<div class=\"search-result-label\">Categories</div>\n",
       "<div class=\"result-container\"></div>\n",
       "</div>\n",
       "<div class=\"blog-result-section\">\n",
       "<div class=\"search-result-label\">Blogs</div>\n",
       "<div class=\"result-container\"></div>\n",
       "</div>\n",
       "<div class=\"research-result-section\">\n",
       "<div class=\"search-result-label\">Research</div>\n",
       "<div class=\"result-container\"></div>\n",
       "</div>\n",
       "<div class=\"empty-result-section\">\n",
       "<img alt=\"No result found\" src=\"https://assets.goodfirms.co/images/no-search-result.svg\" width=\"115px\" height=\"119px\">\n",
       "<div class=\"no-result-text\">No result found</div>\n",
       "<div>Please try with different keywords</div>\n",
       "</div>\n",
       "</div>\n",
       "</form>\n",
       " <div class=\"signin-signup-process \">\n",
       "<a class=\"head_sign_in\" href=\"/reviewers/signin\">Sign in</a><a class=\"head_sign_up\" href=\"/vendors\">For Businesses</a>\n",
       "</div>\n",
       "</div>\n",
       "</div>\n",
       "</div>\n",
       "</div>\n",
       "<script type=\"text/javascript\">\n",
       "        function fireclosesearch() {\n",
       "            var a = $(\".global-search-input .right-heder-search-input\").val().length;\n",
       "            if (a == 0) {\n",
       "                if($('#site_header').hasClass('search_open'))\n",
       "                    hideSearch()\n",
       "            }\n",
       "        }\n",
       "        function hideSearch() {\n",
       "            $(\".right-heder-search-input\").val();\n",
       "            $(\".right-heder-search-input\").removeClass('open');\n",
       "            $(\".header-right\").removeClass('open');\n",
       "            $(\"#site_header\").removeClass('search_open');\n",
       "            $(\".global-search-input\").removeClass(\"border-dark\");\n",
       "            $(\".search-cross-dark\").addClass(\"hide\");\n",
       "            $(\"ul.navbar-nav\").removeClass(\"hide\");\n",
       "            h_searchListing();\n",
       "            $('.menu-container').removeClass('searched');\n",
       "            checkResults(null);\n",
       "            $('#header').removeClass(\"hide\");\n",
       "            $('.backdrop-transparent').addClass('hide');\n",
       "            if ($(window).width() <= 1024)\n",
       "            {\n",
       "                //$(\".header-right\").removeClass(\"hide\");\n",
       "                $('.navbar-header').removeClass(\"hide\");\n",
       "                $('.signin-signup-process').removeClass(\"hide\");\n",
       "            }\n",
       "        }\n",
       "        function setSearch()\n",
       "        {\n",
       "            if($(\".right-heder-search-input\").attr('svalue'))\n",
       "                $(\".right-heder-search-input\").val($(\".right-heder-search-input\").attr('svalue'));\n",
       "            $(\".global-search-input\").addClass(\"border-dark\");\n",
       "            $(\".header-right\").addClass('open');\n",
       "            $(\".search-cross-dark\").removeClass(\"hide\");\n",
       "            $(\"ul.navbar-nav\").addClass(\"hide\");\n",
       "            $('#header').addClass(\"hide\");\n",
       "            $(\".right-heder-search-input\").addClass('open');\n",
       "            $(\".search-btn-light\").addClass(\"hide\");\n",
       "            $(\"#site_header\").addClass('search_open');\n",
       "            $('.menu-container').addClass('searched');\n",
       "            $(\".global-search-input .right-heder-search-input\").show();\n",
       "            $('.backdrop-transparent').removeClass('hide');\n",
       "            if ($(window).width() <= 1024)\n",
       "            {\n",
       "                //$(\".header-right\").addClass(\"hide\");\n",
       "                $('.navbar-header').addClass(\"hide\");\n",
       "                $('.signin-signup-process').addClass(\"hide\");\n",
       "            }\n",
       "        }\n",
       "        function h_searchListing()\n",
       "        {\n",
       "            $('.search-list .result-container').html('');\n",
       "            $('.search-list').addClass('hide');\n",
       "            $('.search_spin').addClass('hide');\n",
       "            $('.right-heder-search-input').removeClass('searching');\n",
       "        }\n",
       "        function c_Result(content, query)\n",
       "        {\n",
       "            var html = '';\n",
       "            if (content.data.length == 0)\n",
       "            {\n",
       "                $('.company-result-section .result-container').html('');\n",
       "                $('.company-result-section').addClass('hide');\n",
       "            } else\n",
       "            {\n",
       "                var head = '';\n",
       "                $('.search-cross-dark').removeClass('hide');\n",
       "                $('.search_spin').addClass('hide');\n",
       "                $('.right-heder-search-input').removeClass('searching');\n",
       "                $('.search-list').removeClass('hide');\n",
       "                for (var i = 0; i < content.data.length; ++i)\n",
       "                {\n",
       "                    var hit = content.data[i];\n",
       "                    var url = 'href=\"/company/' + $.trim(hit.slug) + '\"';\n",
       "                    var visit_website = 'detail_page';\n",
       "                    var image = hit.company_pic;\n",
       "                    var highlightResult = hit['_highlightResult'];\n",
       "                    var image = '//assets.goodfirms.co/services/small/'+hit.company_pic;\n",
       "                    if (hit.company_pic == 'service.png')\n",
       "                        image = 'https://assets.goodfirms.co/services/service.png';\n",
       "\n",
       "                    html += \"<div class='result-entity'>\";\n",
       "                    html += \"<a class='\" + visit_website + \"' \" + url + \" title='\" + hit.company_name + \"'>\";\n",
       "                    html += \"<img alt='\" + $.trim(hit.company_name).replace(/\\s/g, \"-\") + \"' src='\" + image + \"' onerror='addDefaultSrc(\\\"company\\\",this)'/>\";\n",
       "                    html += \"<span class='enity-tilte'>\" + highlightResult.company_name.value + \"</span>\";\n",
       "                    html += \"</a>\";\n",
       "                    html += \"</div>\";\n",
       "                }\n",
       "                head = 'Companies (' + content.total_records + ')<a class=\"pull-right font14 margin-right-10\" href=\"https://www.goodfirms.co/search/companies?query=' + query + '\">View all</a>';\n",
       "                $('.company-result-section .search-result-label').html(head);\n",
       "                $('.company-result-section').removeClass('hide');\n",
       "                $('.company-result-section .result-container').html(html);\n",
       "            }\n",
       "        }\n",
       "        function s_Result(content, query)\n",
       "        {\n",
       "            var html = '';\n",
       "            if (content.data.length == 0)\n",
       "            {\n",
       "                $('.software-result-section .result-container').html('');\n",
       "                $('.software-result-section').addClass('hide');\n",
       "            } else\n",
       "            {\n",
       "                $('.search-cross-dark').removeClass('hide');\n",
       "                $('.search_spin').addClass('hide');\n",
       "                $('.right-heder-search-input').removeClass('searching');\n",
       "                $('.search-list').removeClass('hide');\n",
       "                for (var i = 0; i < content.data.length; ++i)\n",
       "                {\n",
       "                    var hit = content.data[i];\n",
       "                    var url = 'href=\"/software/' + $.trim(hit.slug) + '\"';\n",
       "                    var visit_website = 'detail_page';\n",
       "                    var image = '//assets.goodfirms.co/software/small/'+hit.logo;\n",
       "                    var highlightResult = hit['_highlightResult'];\n",
       "                    html += \"<div class='result-entity'>\";\n",
       "                    html += \"<a class='\" + visit_website + \"' \" + url + \" title='\" + hit.name + \"'>\";\n",
       "                    html += \"<img alt='\" + $.trim(hit.name).replace(/\\s/g, \"-\") + \"' src='\" + image + \"' onerror='addDefaultSrc(\\\"software\\\",this)' />\";\n",
       "                    html += \"<span class='enity-tilte'>\" + highlightResult.name.value + \"</span>\";\n",
       "                    html += \"</a>\";\n",
       "                    html += \"</div>\";\n",
       "                }\n",
       "                head = 'Software (' + content.total_records + ')<a class=\"pull-right font14 margin-right-10\" href=\"https://www.goodfirms.co/search/software?query=' + query + '\">View all</a>';\n",
       "                $('.software-result-section .search-result-label').html(head);\n",
       "                $('.software-result-section').removeClass('hide');\n",
       "                $('.software-result-section .result-container').html(html);\n",
       "            }\n",
       "        }\n",
       "        function m_Result(content, query)\n",
       "        {\n",
       "            var html = '';\n",
       "            if (content.data.length == 0)\n",
       "            {\n",
       "                $('.menu-result-section .result-container').html('');\n",
       "                $('.menu-result-section').addClass('hide');\n",
       "            } else\n",
       "            {\n",
       "                $('.search-cross-dark').removeClass('hide');\n",
       "                $('.search_spin').addClass('hide');\n",
       "                $('.right-heder-search-input').removeClass('searching');\n",
       "                $('.search-list').removeClass('hide');\n",
       "                for (var i = 0; i < content.data.length; ++i)\n",
       "                {\n",
       "                    var hit = content.data[i];\n",
       "                    var url = 'href=\"' + $.trim(hit.url) + '\"';\n",
       "                    var highlightResult = hit['_highlightResult'];\n",
       "                    html += \"<div class='result-entity'>\";\n",
       "                    html += \"<a \" + url + \" title='\" + hit.full_name + \"'>\";\n",
       "                    html += \"<span class='enity-tilte'>\" + highlightResult.full_name.value + \"</span>\";\n",
       "                    html += \"</a>\";\n",
       "                    html += \"</div>\";\n",
       "                }\n",
       "                head = 'Categories (' + content.total_records + ')<a class=\"pull-right font14 margin-right-10\" href=\"https://www.goodfirms.co/search/categories?query=' + query + '\">View all</a>';\n",
       "                $('.menu-result-section .search-result-label').html(head);\n",
       "                $('.menu-result-section').removeClass('hide');\n",
       "                $('.menu-result-section .result-container').html(html);\n",
       "            }\n",
       "        }\n",
       "        function b_Result(content, query)\n",
       "        {\n",
       "            var html = '';\n",
       "            if (content.data.length == 0)\n",
       "            {\n",
       "                $('.blog-result-section .result-container').html('');\n",
       "                $('.blog-result-section').addClass('hide');\n",
       "                if ($(\".company-result-section\").hasClass(\"hide\") && $(\".software-result-section\").hasClass(\"hide\") && $(\".menu-result-section\").hasClass(\"hide\") && $(\".blog-result-section\").hasClass(\"hide\"))\n",
       "                {\n",
       "                    setTimeout(function () {\n",
       "                        $('.search-cross-dark').removeClass('hide');\n",
       "                        $('.search_spin').addClass('hide');\n",
       "                        $('.right-heder-search-input').removeClass('searching');\n",
       "                    }, 2500);\n",
       "\n",
       "                }\n",
       "            } else\n",
       "            {\n",
       "                $('.search-cross-dark').removeClass('hide');\n",
       "                $('.search_spin').addClass('hide');\n",
       "                $('.right-heder-search-input').removeClass('searching');\n",
       "                $('.search-list').removeClass('hide');\n",
       "                for (var i = 0; i < content.data.length; ++i)\n",
       "                {\n",
       "                    var hit = content.data[i];\n",
       "                    if(hit.software_category_id)\n",
       "                        var url = 'href=\"/' + $.trim(hit.software_category_slug) + '/blog/' + $.trim(hit.slug) + '\"';\n",
       "                    else\n",
       "                        var url = 'href=\"/blog/' + $.trim(hit.slug) + '\"';\n",
       "\n",
       "                    var highlightResult = hit['_highlightResult'];\n",
       "                    html += \"<div class='result-entity'>\";\n",
       "                    html += \"<a \" + url + \" title='\" + hit.title + \"'>\";\n",
       "                    html += \"<span class='enity-tilte'>\" + highlightResult.title.value + \"</span>\";\n",
       "                    html += \"</a>\";\n",
       "                    html += \"</div>\";\n",
       "                }\n",
       "                head = 'Blog (' + content.total_records + ')<a class=\"pull-right font14 margin-right-10\"href=\"https://www.goodfirms.co/search/blog?query=' + query + '\">View all</a>';\n",
       "                $('.blog-result-section .search-result-label').html(head);\n",
       "                $('.blog-result-section').removeClass('hide');\n",
       "                $('.blog-result-section .result-container').html(html);\n",
       "            }\n",
       "        }\n",
       "        function r_Result(content, query)\n",
       "        {\n",
       "            var html = '';\n",
       "            if (content.data.length == 0)\n",
       "            {\n",
       "                $('.research-result-section .result-container').html('');\n",
       "                $('.research-result-section').addClass('hide');\n",
       "                if ($(\".company-result-section\").hasClass(\"hide\") && $(\".software-result-section\").hasClass(\"hide\") && $(\".menu-result-section\").hasClass(\"hide\") && $(\".research-result-section\").hasClass(\"hide\"))\n",
       "                {\n",
       "                    setTimeout(function () {\n",
       "                        $('.search-cross-dark').removeClass('hide');\n",
       "                        $('.search_spin').addClass('hide');\n",
       "                        $('.right-heder-search-input').removeClass('searching');\n",
       "                    }, 2500);\n",
       "\n",
       "                }\n",
       "            } else\n",
       "            {\n",
       "                $('.search-cross-dark').removeClass('hide');\n",
       "                $('.search_spin').addClass('hide');\n",
       "                $('.right-heder-search-input').removeClass('searching');\n",
       "                $('.search-list').removeClass('hide');\n",
       "                for (var i = 0; i < content.data.length; ++i)\n",
       "                {\n",
       "                    var hit = content.data[i];\n",
       "                    var url = 'href=\"/resources/' + $.trim(hit.slug) + '\"';\n",
       "                    var highlightResult = hit['_highlightResult'];\n",
       "                    html += \"<div class='result-entity'>\";\n",
       "                    html += \"<a \" + url + \" title='\" + hit.title + \"'>\";\n",
       "                    html += \"<span class='enity-tilte'>\" + highlightResult.title.value + \"</span>\";\n",
       "                    html += \"</a>\";\n",
       "                    html += \"</div>\";\n",
       "                }\n",
       "                head = 'Research (' + content.total_records + ')<a class=\"pull-right font14 margin-right-10\"href=\"https://www.goodfirms.co/search/research?query=' + query + '\">View all</a>';\n",
       "                $('.research-result-section .search-result-label').html(head);\n",
       "                $('.research-result-section').removeClass('hide');\n",
       "                $('.research-result-section .result-container').html(html);\n",
       "            }\n",
       "        }\n",
       "        \n",
       "        \n",
       "        function addDefaultSrc(type, target)\n",
       "        {\n",
       "            if (type == 'topic')\n",
       "                target.src = 'https://assets.goodfirms.co/react-app-icons/no-topic.png';\n",
       "            if (type == 'profile')\n",
       "                target.src = 'https://assets.goodfirms.co/react-app-icons/default.png';\n",
       "            if (type == 'company')\n",
       "                target.src = 'https://assets.goodfirms.co/react-app-icons/default-company.jpg';\n",
       "            if (type == 'software')\n",
       "                target.src = 'https://assets.goodfirms.co/react-app-icons/default-software.jpg';\n",
       "        }\n",
       "        function getProfileImageColor(slug)\n",
       "        {\n",
       "            var alphabetColor = {'A': '#1B5289', 'B': '#598FC5', 'C': '#776759', 'D': '#6490A2', 'E': '#FF9191', 'F': '#8BD9E1', 'G': '#A292E9', 'H': '#DABABA', 'I': '#DAA854', 'J': '#478267', 'K': '#AAB783', 'L': '#5EC0EF', 'M': '#A7ACB0', 'N': '#E3A490', 'O': '#7387A9', 'P': '#374F83', 'Q': '#8B6767', 'R': '#F15D97', 'S': '#B58D69', 'T': '#AFE4DC', 'U': '#7580FC', 'V': '#BF7CD8', 'W': '#9CC975', 'X': '#F4833D', 'Y': '#F04A3C', 'Z': '#47D3C5', 1: '#E9C0A1', 2: '#305774', 3: '#82C999', 4: '#FE957C', 5: '#F7D36C', 6: '#46AEB4', 7: '#545857', 8: '#052147', 9: '#4F2147', 0: '#902147',\n",
       "            };\n",
       "            return (alphabetColor[slug.charAt(0).toUpperCase()]);\n",
       "        }\n",
       "       \n",
       "        // company callback called on each query\n",
       "        function cCallback(err, content)\n",
       "        {\n",
       "            if (err) {\n",
       "                return;\n",
       "            }\n",
       "            if (content.query != $('.right-heder-search-input').val()) {\n",
       "                return;\n",
       "            }\n",
       "            var html = c_Result(content);\n",
       "        }\n",
       "\n",
       "        // software callback called on each query\n",
       "        function sCallback(err, content)\n",
       "        {\n",
       "            if (err) {\n",
       "                return;\n",
       "            }\n",
       "            if (content.query != $('.right-heder-search-input').val()) {\n",
       "                return;\n",
       "            }\n",
       "            var html = s_Result(content);\n",
       "        }\n",
       "\n",
       "        // menu callback called on each query\n",
       "        function mCallback(err, content)\n",
       "        {\n",
       "            if (err) {\n",
       "                return;\n",
       "            }\n",
       "            if (content.query != $('.right-heder-search-input').val()) {\n",
       "                return;\n",
       "            }\n",
       "            var html = m_Result(content);\n",
       "        }\n",
       "\n",
       "        // blog callback called on each query\n",
       "        function bCallback(err, content)\n",
       "        {\n",
       "            if (err) {\n",
       "                return;\n",
       "            }\n",
       "            if (content.query != $('.right-heder-search-input').val()) {\n",
       "                return;\n",
       "            }\n",
       "            var html = b_Result(content);\n",
       "        }\n",
       "\n",
       "        function checkResults(results)\n",
       "        {\n",
       "            // let body = document.body;\n",
       "            // if (results) {\n",
       "            //     // if ($(window).width() > 480)\n",
       "            //     //     body.style.width = 'calc(100% - 17px)';\n",
       "            //     // else\n",
       "            //     //     body.style.width = '100%';\n",
       "\n",
       "            //    // body.style.position = 'fixed';\n",
       "            //    // body.style.top = '0px';\n",
       "            //    // body.style.overflow = 'hidden';\n",
       "            // } else {\n",
       "            //    // body.style.width = 'unset';\n",
       "            //     //body.style.position = 'unset';\n",
       "            //    // body.style.top = 'unset';\n",
       "            //    // body.style.overflow = 'unset';\n",
       "            // }\n",
       "        }\n",
       "\n",
       "        function removeSheet()\n",
       "        {\n",
       "            $('.backgroundSheetContainer').fadeTo(500, 0, function () {\n",
       "                $('.global.sheetContainer').remove();\n",
       "            });\n",
       "            $('.bottomSheetList').addClass('clsh');\n",
       "            $('body').removeClass('ohidden');\n",
       "        }\n",
       "\n",
       "        function removefilterSheet()\n",
       "        {\n",
       "            $('.backgroundSheetContainer').fadeTo(500, 0, function () {\n",
       "                $('.global.sheetContainer').remove();\n",
       "            });\n",
       "            $('.bottomSheetList').addClass('clsh');\n",
       "            $('.software-features-filter').removeClass('ohidden');\n",
       "        }\n",
       "\n",
       "        function hidesheet()\n",
       "        {\n",
       "            $('.backgroundSheetContainer').fadeTo(500, 0);\n",
       "            $('.bottomSheetList').addClass('clsh');\n",
       "            $('body').removeClass('ohidden');\n",
       "            $('.sheetContainer').css({visibility: \"hidden\"});\n",
       "        }\n",
       "\n",
       "        function showsheet(opendiv = '')\n",
       "        {\n",
       "            $('.backgroundSheetContainer').fadeTo(500, 1);\n",
       "            $('body').addClass('ohidden');\n",
       "            $('.bottomSheetList').removeClass('clsh');\n",
       "            if(opendiv)\n",
       "                $('.sheetContainer.'+opendiv).css({visibility: \"visible\"});\n",
       "            else\n",
       "                $('.sheetContainer').css({visibility: \"visible\"});\n",
       "        }\n",
       "\n",
       "        $(document).ready(function () {\n",
       "            $(document).mouseup(function (e) {\n",
       "                var container = $(\"#header li.navbar-nav-li\");\n",
       "            // if the target of the click isn't the container nor a descendant of the container\n",
       "                if (!container.is(e.target) && container.has(e.target).length === 0)\n",
       "                {\n",
       "                    if(!$('.header-right').hasClass('open'))\n",
       "                    {\n",
       "                        $('.backdrop-transparent').addClass('hide');\n",
       "                    }\n",
       "                    $(\"ul li.navbar-nav-li\").removeClass('active');\n",
       "                    $('#site_header').removeClass('homedrop');\n",
       "                }\n",
       "            });\n",
       "            $(document).on(\"click\", \".navbar-nav-li-a\", function (k) {\n",
       "                $('.option-bg').removeAttr(\"style\");\n",
       "                //debugger;\n",
       "                var browserwidth = 1279;\n",
       "                if(Math.round(window.devicePixelRatio * 100)>100)\n",
       "                    browserwidth = 1260\n",
       "\n",
       "                if ($(window).width() <= browserwidth) {\n",
       "                    $(\".navbar-nav-li-a\").removeClass('open');\n",
       "                    k.preventDefault();\n",
       "                    $div = $(\"ul.left-submenu\",$(this).parents(\"li\"));\n",
       "                    if( $div.length <= 0 ) {\n",
       "                        $div = $(\"ul.extra-sub-menu-ul\", $(this).parents(\"li\"));\n",
       "                    }\n",
       "                    else\n",
       "                    {\n",
       "                        $(\"#header ul.extra-sub-menu-ul\").hide();\n",
       "                    }\n",
       "                    $div.toggle();\n",
       "                    if ($div.is(\":visible\"))\n",
       "                    {\n",
       "                        $(this).addClass('open');\n",
       "                        $(this).parents('.navbar-nav-li').find('.menu-browse-all').show();\n",
       "                    } else\n",
       "                    {\n",
       "                        $('#header ul li.vcategory-menu').removeClass('open');\n",
       "                        $('#header li.vcategory-menu li.section-entity-li').removeClass('open');\n",
       "                        $('#header li.vcategory-menu').show();\n",
       "                        $(\"#header ul .mega-sub-menu\").hide();\n",
       "                        $(this).parents('.navbar-nav-li').find('.menu-browse-all').hide();\n",
       "                     }\n",
       "                    $(\"ul.left-submenu\").not($div).hide();\n",
       "                    return false\n",
       "                }\n",
       "                else\n",
       "                {\n",
       "                    k.preventDefault();\n",
       "                    $div = $(this).parents(\"li\");\n",
       "\n",
       "                    $(\"ul li.navbar-nav-li\").not($div).removeClass('active');\n",
       "                    $(this).parents(\"li\").toggleClass('active');\n",
       "                    if($(this).parents(\"li\").hasClass('active'))\n",
       "                    {\n",
       "                        $('.backdrop-transparent').removeClass('hide');\n",
       "                        $('#site_header').addClass('homedrop');\n",
       "                    }\n",
       "                    else\n",
       "                    {\n",
       "                        $('.backdrop-transparent').addClass('hide');\n",
       "                        $('#site_header').removeClass('homedrop');\n",
       "                    }\n",
       "\n",
       "                }\n",
       "            });\n",
       "\n",
       "            $(document).on(\"click\", \".vcategory-inner-arrow\", function (k) {\n",
       "                if ($(window).width() <= 1279)\n",
       "                {\n",
       "                    k.preventDefault();\n",
       "                    if($(this).parents(\"ul#category-menu\").length > 0)\n",
       "                    {\n",
       "                        $('ul#category-menu li.vcategory-menu').removeClass('open');\n",
       "                        $div = $(this).parents(\"li.vcategory-menu\").find(\".mega-sub-menu\");\n",
       "                        $div.toggle();\n",
       "                        if ($div.is(\":hidden\"))\n",
       "                        {\n",
       "                            $('ul#category-menu li.vcategory-menu').show();\n",
       "                        } else\n",
       "                        {\n",
       "                            $(this).parents(\"li.vcategory-menu\").addClass('open');\n",
       "                            $('ul#category-menu li.vcategory-menu').not($(this).parents(\"li.vcategory-menu\")).hide();\n",
       "                        }\n",
       "                        $(\"ul#category-menu .mega-sub-menu\").not($div).hide();\n",
       "                        $(\"ul#category-menu .mega-sub-menu\").find('ul li').hide();\n",
       "                        $(\"ul#category-menu .mega-sub-menu\").find('ul li.section-entity-li').show();\n",
       "                    }\n",
       "                    else\n",
       "                    {\n",
       "                        $('.course-menu-section ul.left-submenu li.vcategory-menu').removeClass('open');\n",
       "                        $div = $(this).parents(\"li.vcategory-menu\").find(\".mega-sub-menu\");\n",
       "                        $div.toggle();\n",
       "                        if ($div.is(\":hidden\"))\n",
       "                        {\n",
       "                            $('.course-menu-section ul.left-submenu li.vcategory-menu').show();\n",
       "                        } else\n",
       "                        {\n",
       "                            $(this).parents(\"li.vcategory-menu\").addClass('open');\n",
       "                            $('.course-menu-section ul.left-submenu li.vcategory-menu').not($(this).parents(\"li.vcategory-menu\")).hide();\n",
       "                        }\n",
       "                        $(\".course-menu-section ul.left-submenu .mega-sub-menu\").not($div).hide();\n",
       "                        //$(\".course-menu-section ul.left-submenu .mega-sub-menu\").find('ul li').hide();\n",
       "                        $(\".course-menu-section ul.left-submenu .mega-sub-menu\").find('ul li.vcategory-sub-menu').show();\n",
       "                    }\n",
       "                    return false\n",
       "                }\n",
       "            });\n",
       "\n",
       "            $(document).on(\"click\", \".vcategory-sub-sub-arrow\", function (k) {\n",
       "               if ($(window).width() <= 1279)\n",
       "                {\n",
       "                    k.preventDefault();\n",
       "                    $div = $(this).parents(\"li.vcategory-sub-menu\").find(\".mega-sub-sub-menu\");\n",
       "                    $div.toggle();\n",
       "                    if ($div.is(\":hidden\"))\n",
       "                    {\n",
       "                        $(this).parents(\"li.vcategory-sub-menu\").removeClass('open');\n",
       "                        $('.course-menu-section ul.left-submenu li.vcategory-sub-menu').show();\n",
       "                    } else\n",
       "                    {\n",
       "                        $(this).parents(\"li.vcategory-sub-menu\").addClass('open');\n",
       "                        $('.course-menu-section ul.left-submenu li.vcategory-sub-menu').not($(this).parents(\"li.vcategory-sub-menu\")).hide();\n",
       "                    }\n",
       "                    return false\n",
       "                }\n",
       "            });\n",
       "\n",
       "            $(document).on(\"click\", \".tab-content-list-title\", function (k) {\n",
       "                if ($(window).width() <= 1279)\n",
       "                {\n",
       "                    k.preventDefault();\n",
       "                    if($(this).parents(\"ul#category-menu\").length > 0)\n",
       "                    {\n",
       "                        /* Hide all other section entity  */\n",
       "                        $('ul#category-menu li.vcategory-menu li.section-entity-li').removeClass('open');\n",
       "                        $(this).parents('.mega-sub-menu').find('ul li').not($(this).closest('ul').find('li')).hide();\n",
       "                        $(this).parents('.mega-sub-menu').find('ul li.section-entity-li').not($(this).closest('ul').find('li')).show();\n",
       "\n",
       "                        $otherli = $(this).closest('ul').find('li');\n",
       "                        $li = $(this).parent();\n",
       "                        $otherli.not($li).toggle();\n",
       "                        if ($otherli.not($li).is(\":visible\"))\n",
       "                        {\n",
       "                            $(this).parent(\"li\").addClass('open');\n",
       "                        }\n",
       "                    }\n",
       "                    return false\n",
       "                }\n",
       "            });\n",
       "\n",
       "            $(document).on(\"click\", \".company-result-section a.detail_page\", function () {\n",
       "                gtag(\"event\", \"Detail View - Compnay Title\", {\n",
       "                    event_category: \"Search List - Detail\",\n",
       "                    event_label: $(this).attr('title')\n",
       "                })\n",
       "            })\n",
       "            $(document).on(\"click\", \".software-result-section a.detail_page\", function () {\n",
       "                gtag(\"event\", \"Detail View - Software Title\", {\n",
       "                    event_category: \"Search List - Detail\",\n",
       "                    event_label: $(this).attr('title')\n",
       "                })\n",
       "            })\n",
       "\n",
       "            $(\".global-search-input input\").on(\"click\", function (k) {\n",
       "                setSearch();\n",
       "                k.stopPropagation();\n",
       "                return false\n",
       "            });\n",
       "\n",
       "            $(\".search-btn-light\").on(\"click\", function (k) {\n",
       "                setSearch();\n",
       "                $(\".right-heder-search-input\").focus();\n",
       "                k.stopPropagation();\n",
       "                return false\n",
       "            });\n",
       "\n",
       "            $(\".right-heder-search-input\").on(\"focus\", function () {\n",
       "                setSearch();\n",
       "                if ($('.navbar-toggle.slide-active').length)\n",
       "                    $(\"#slide-nav .navbar-toggle\").trigger(\"click\");\n",
       "            });\n",
       "\n",
       "            $(\".right-heder-search-input\").on(\"blur\", function (k) {\n",
       "                fireclosesearch()\n",
       "            });\n",
       "            $(\".search-cross-dark\").on(\"click\", function (k) {\n",
       "                $(\"input.right-heder-search-input\").val(\"\");\n",
       "                hideSearch()\n",
       "            });\n",
       "            $(document).keyup(function (k) {\n",
       "                if (k.keyCode === 27) {\n",
       "                    $(\".right-heder-search-input\").blur()\n",
       "                }\n",
       "            });\n",
       "\n",
       "            var $inputfield = $('.right-heder-search-input');\n",
       "\n",
       "            var chosenp = '';\n",
       "            var ajaxRevReq = 'ToCanajaxRevReq';\n",
       "            $(document).on('keyup', '.right-heder-search-input', function (e) {\n",
       "                var term = $(this).val().trim();\n",
       "                if (e.keyCode == 40) {\n",
       "                    // 38-up, 40-down\n",
       "                    if (chosenp === \"\")\n",
       "                        chosenp = 0;\n",
       "                    else if ((chosenp + 1) < $('.search-list .result-entity').length)\n",
       "                        chosenp++;\n",
       "\n",
       "                    $('.search-list .result-entity').removeClass('active');\n",
       "                    $('.search-list .result-entity:eq(' + chosenp + ')').addClass('active');\n",
       "                    $('.right-heder-search-input').val($('.search-list .result-entity:eq(' + chosenp + ') .enity-tilte').text());\n",
       "\n",
       "                    return false;\n",
       "                } else if (e.keyCode == 38) {\n",
       "                    if (chosenp === \"\")\n",
       "                        chosenp = 0;\n",
       "                    else if (chosenp > 0)\n",
       "                        chosenp--;\n",
       "\n",
       "                    $('.search-list .result-entity').removeClass('active');\n",
       "                    $('.search-list .result-entity:eq(' + chosenp + ')').addClass('active');\n",
       "                    $('.right-heder-search-input').val($('.search-list .result-entity:eq(' + chosenp + ') .enity-tilte').text());\n",
       "\n",
       "                    return false;\n",
       "                } else if (e.keyCode == 27) {\n",
       "                    h_searchListing();\n",
       "                    $(this).val('');\n",
       "\n",
       "                    return false;\n",
       "                } else if (e.keyCode == 13) {\n",
       "                    if ($('.search-list .result-entity').length > 0) {\n",
       "                        if (chosenp.length == 0)\n",
       "                            $(\"form.global-search-input\").unbind().submit();\n",
       "                        else\n",
       "                            $('.search-list .result-entity:eq(' + chosenp + ') a')[0].click();\n",
       "                    } else\n",
       "                        $(\"form.global-search-input\").unbind().submit();\n",
       "\n",
       "                    return false;\n",
       "                } else {\n",
       "                    chosenp = '';\n",
       "                    if (term != '') {\n",
       "                        //$('.search-cross-dark').addClass('hide');\n",
       "                        $('.search_spin').removeClass('hide');\n",
       "                        $('.right-heder-search-input').addClass('searching');\n",
       "\n",
       "                        ajaxRevReq = $.ajax({\n",
       "                            url: '/searches/search_all',\n",
       "                            type: \"POST\",\n",
       "                            data: {query: $inputfield.val()},\n",
       "                            beforeSend: function () {\n",
       "                                if (ajaxRevReq != 'ToCancelPrevReq' && ajaxRevReq.readyState < 3)\n",
       "                                    ajaxRevReq.abort();\n",
       "                            },\n",
       "                            error: function (xhr, ajaxOptions, thrownError) {\n",
       "                                if (thrownError == 'abort' || thrownError == 'undefined')\n",
       "                                    return;\n",
       "\n",
       "                                ajaxRevReq.abort();\n",
       "                            },\n",
       "                            success: function (response) {\n",
       "\n",
       "                                if (term != $('.right-heder-search-input').val().trim())\n",
       "                                    return;\n",
       "\n",
       "                                if (response != 'null' && response != null) {\n",
       "                                    var data = JSON.parse(response);\n",
       "                                    if ((data.companies.total_records == 0) && (data.softwares.total_records == 0) && (data.blog.total_records == 0) && (data.menu.total_records == 0) && (data.research.total_records == 0))\n",
       "                                    {\n",
       "                                        $('.empty-result-section').removeClass('hide');\n",
       "                                        $('.search-cross-dark').removeClass('hide');\n",
       "                                        $('.search_spin').addClass('hide');\n",
       "                                        $('.right-heder-search-input').removeClass('searching');\n",
       "                                        $('.search-list').removeClass('hide');\n",
       "                                        $('.company-result-section').addClass('hide');\n",
       "                                        $('.software-result-section').addClass('hide');\n",
       "                                        $('.menu-result-section').addClass('hide');\n",
       "                                        $('.blog-result-section').addClass('hide');\n",
       "                                        $('.research-result-section').addClass('hide');\n",
       "                                    } else\n",
       "                                    {\n",
       "\n",
       "                                        $('.empty-result-section').addClass('hide');\n",
       "                                        c_Result(data.companies, $inputfield.val());\n",
       "                                        s_Result(data.softwares, $inputfield.val());\n",
       "                                        b_Result(data.blog, $inputfield.val());\n",
       "                                        r_Result(data.research, $inputfield.val());\n",
       "                                        m_Result(data.menu, $inputfield.val());\n",
       "                                    }\n",
       "                                    checkResults(data);\n",
       "                                } else {\n",
       "\n",
       "                                    checkResults(null);\n",
       "                                    $('.search-cross-dark').removeClass('hide');\n",
       "                                    $('.search_spin').addClass('hide');\n",
       "                                    $('.right-heder-search-input').removeClass('searching');\n",
       "                                }\n",
       "                            }\n",
       "                        });\n",
       "                    } else {\n",
       "\n",
       "                        h_searchListing();\n",
       "                        checkResults(null);\n",
       "                    }\n",
       "                }\n",
       "            });\n",
       "\n",
       "            $(document).on('click', '.filtersheetClose', function () {\n",
       "                removefilterSheet();\n",
       "            });\n",
       "\n",
       "            $(document).on('click', '.global .sheetClose', function () {\n",
       "                removeSheet();\n",
       "            });\n",
       "\n",
       "            $(document).on('click', '.sheetClose', function () {\n",
       "                hidesheet();\n",
       "            });\n",
       "\n",
       "            $(document).mouseup(function (e) {\n",
       "                var container = $(\".global .bottomSheetList\");\n",
       "                // if the target of the click isn't the container nor a descendant of the container\n",
       "                if (!container.is(e.target) && container.has(e.target).length === 0)\n",
       "                {\n",
       "                    var parentcontainer = $(\".global .backgroundSheetContainer\");\n",
       "                    if (parentcontainer.is(e.target))\n",
       "                    {\n",
       "                        removeSheet();\n",
       "                        removefilterSheet();\n",
       "                    }\n",
       "                }\n",
       "            });\n",
       "            $(window).resize(function () {\n",
       "                if ($(window).width() > 480)\n",
       "                {\n",
       "                    $('body').removeClass('ohidden');\n",
       "                    hidesheet();\n",
       "                    $('.global.sheetContainer').remove();\n",
       "                }\n",
       "            });\n",
       "        });\n",
       "    </script>\n",
       "<script type=\"text/javascript\">\n",
       "                $(document).ready(function () {\n",
       "                    $(document).click(function () {\n",
       "                        fireclosesearch()\n",
       "                    });\n",
       "                    $(window).resize(function () {\n",
       "                        var search_len = $(\".right-heder-search-input\").val().length;\n",
       "                        if (search_len > 0)\n",
       "                            $('.menu-container').addClass('searched');\n",
       "                    });\n",
       "                });\n",
       "                </script>\n",
       "</div>\n",
       "<div id=\"content\" class=\"container-bg\"> <script type=\"text/javascript\">\n",
       "          var url = \"/reports/session\";\n",
       "          $.ajax({\n",
       "            url: url,\n",
       "            data:{type:'service-listing'},\n",
       "            type: 'POST',\n",
       "            error: function(){\n",
       "              return true;\n",
       "            },\n",
       "            success: function(msg){ \n",
       "              return true;\n",
       "            }\n",
       "        });\n",
       "      </script>\n",
       "\n",
       "<main class=\"container-LO1 container-fluid flex-container\">\n",
       "<meta content=\"2016-05-25\" itemprop=\"datePublished\">\n",
       "<meta content=\"2023-02-01\" itemprop=\"dateModified\">\n",
       "<meta content=\"/directory/cms/top-website-development-companies?page=2\" itemprop=\"url\">\n",
       "<meta content=\"Top Web Development Companies\" itemprop=\"name\">\n",
       "<meta content=\"Are you looking for the best web development company? Web development is the key to managing a successful online presence. But many web development companies claim to provide the best web development services. This makes it incredibly challenging for web development service seekers to find a reliable web developer. Here is a list of top web developers with reviews that provide custom website development services for your projects. GoodFirms discovered leading website development agencies using its proprietary research methodology to help potential web development clients find the best development services. Explore the below list of top web development firms that can deliver excellent website solutions:\n",
       "\" itemprop=\"description\">\n",
       "<section class=\"section-breadcrumb blog-breadcrumb overflow\">\n",
       "<div class=\"container\">\n",
       "<div class=\"breadcrumb-link\">\n",
       "<ul itemscope itemtype=\"https://schema.org/BreadcrumbList\">\n",
       "<li itemprop=\"itemListElement\" itemscope itemtype=\"https://schema.org/ListItem\"><a itemprop=\"item\" itemtype=\"https://schema.org/Thing\" href=\"/\"><span itemprop=\"name\">Home</span></a><meta itemprop=\"position\" content=\"1\" /></li>\n",
       "<li itemprop=\"itemListElement\" itemscope itemtype=\"https://schema.org/ListItem\">\n",
       "<a itemprop=\"item\" itemtype=\"https://schema.org/Thing\" href=\"https://www.goodfirms.co/directory/cms/top-website-development-companies\">\n",
       "<span itemprop=\"name\">\n",
       "Top Website Development Companies </span>\n",
       "</a>\n",
       "<meta itemprop=\"position\" content=\"2\" />\n",
       "</li>\n",
       "<li class=\"last_update\"><div><strong>22139</strong> Companies&nbsp;&nbsp;|&nbsp;&nbsp;Last updated: Feb 1, 2023</div></li>\n",
       "</ul>\n",
       "</div>\n",
       "</div>\n",
       "</section>\n",
       "<div class=\"mainEntity\" itemscope itemtype=\"https://schema.org/ItemList\">\n",
       "<div class=\"page-introduction whitebg device-width\">\n",
       "<div class=\"container\">\n",
       "<div class=\"header-flex-wrapper\">\n",
       "<div class=\"h_text_div\">\n",
       "<h1 class=\"breadcrumb-header-title\" itemprop=\"name\">Top Web Development Companies</h1>\n",
       "<div class=\"page_description minicontent\"><p>Are you looking for the best web development company? Web development is the key to managing a successful online presence. But many web development companies claim to provide the best web development services. This makes it incredibly challenging for web development service seekers to find a reliable web developer. Here is a list of top web developers with reviews that provide custom website development services for your projects. GoodFirms discovered leading website development agencies using its proprietary research methodology to help potential web development clients find the best development services. Explore the below list of top web development firms that can deliver excellent website solutions:</p>\n",
       "</div> <script type=\"text/javascript\">\n",
       "                            if($('.show_full_desc').length == 0)\n",
       "                            {\n",
       "                                $('.page_description').removeClass('minicontent');\n",
       "                            }\n",
       "                        </script>\n",
       "</div>\n",
       "<div class=\"h_img_div\">\n",
       "<img itemprop=\"image\" alt=\"Top Web Development Companies\" height=\"146\" width=\"183\" src=\"//assets.goodfirms.co/directory/top-website-development-companies_1503986389.png\" />\n",
       "</div>\n",
       "</div>\n",
       "</div>\n",
       "</div>\n",
       "<div class=\"clear webpage-container device-width\">\n",
       "<section class=\"page-heading\">\n",
       "<div class=\"container\">\n",
       "<div class=\"listing-tabs\">\n",
       "<a class=\"tab-link\" target=\"_blank\" href=\"/research/cms/top-web-developers\">View Leaders Matrix</a> </div>\n",
       "</div>\n",
       "</section>\n",
       "<meta content=\"22139\" itemprop=\"numberOfItems\" />\n",
       "<div class=\"articlesbody service-lists\">\n",
       "<div class=\"listing-container\">\n",
       "<div class=\"container\">\n",
       "<div class=\"view-page-main relative clear\">\n",
       "<div class=\"filter-wrapper\">\n",
       "<div class=\"filter-header\">\n",
       "<div class=\"filter-sortby-wrapper service-features-filter\">\n",
       "<div class=\"filter-section sort-by-so\">\n",
       "<label class=\"filter-section-title\">Sort By</label>\n",
       "<button type=\"button\" class=\"filter-selection\">Sponsored</button>\n",
       "<ul>\n",
       "<li class=\"sheetItem\"><a data-sort=\"any\" href=\"javascript:;\" class=\"active mob_sort\"><span>Sponsored</span></a></li><li class=\"sheetItem\"><a data-sort=\"1\" href=\"javascript:;\" class=\" mob_sort\"><span>Most Reviews</span></a></li>\n",
       "</ul>\n",
       "</div>\n",
       "<button type=\"button\" class=\"filter-show \"><svg xmlns=\"http://www.w3.org/2000/svg\" width=\"14\" height=\"14\"><path d=\"M13.397 0H.603C.377 0 .17.123.067.318a.58.58 0 0 0 .047.619l4.687 6.442a1.29 1.29 0 0 1 .268.782v5.252c-.001.155.062.305.174.415s.265.172.425.172a.63.63 0 0 0 .236-.046l2.634-.98c.236-.07.393-.288.393-.549V8.161c0-.279.093-.551.263-.775L13.885.937a.58.58 0 0 0 .047-.618C13.83.123 13.623 0 13.397 0z\" fill=\"#3a7af3\" /></svg>Filter</button>\n",
       "<button type=\"button\" class=\"filter-close hide\"><svg xmlns=\"http://www.w3.org/2000/svg\" width=\"16\" height=\"16\"><path d=\"M8 0C3.576 0 0 3.576 0 8s3.576 8 8 8 8-3.576 8-8-3.576-8-8-8zm4 10.872L10.872 12 8 9.128 5.128 12 4 10.872 6.872 8 4 5.128 5.128 4 8 6.872 10.872 4 12 5.128 9.128 8 12 10.872z\" fill=\"#3a7af3\" /></svg>Close</button>\n",
       "</div>\n",
       "</div>\n",
       "</div>\n",
       "<div class=\"filter-service-lists\">\n",
       "<div class=\"list-heading\"><h2 class=\"webh2\">List of Best Web Development Companies & Top Web Developers</h2></div>\n",
       "<div class=\"directory-content company-listing\">\n",
       "<link itemprop=\"itemListOrder\" href=\"https://schema.org/ItemListOrderDescending\" /><ul class=\"service-directory-list\"><li class=\"service-provider\" id=\"creole-studios\"> <div itemprop=\"itemListElement\" itemscope=\"\" itemtype=\"https://schema.org/ListItem\" class=\"service-entity newentitysection\" entity-name=\"Creole Studios\" entity-id=\"1904\">\n",
       "<div class=\"firms-l\">\n",
       "<div class=\"entity-header-wrapper\">\n",
       "<meta itemprop=\"position\" content=\"55\" />\n",
       "<a class=\"company-logo company-image-ling detail_page list-service-profile-visit\" href=\"/company/creole-studios\" target=\"_blank\"><img style=\"height:auto;width:inherit\" content=\"https://goodfirms-prod.s3.amazonaws.com/services/general/1904_587f39ca666a0.png\" src=\"/img/goodfirms-loader-logo.svg\" alt=\"Creole Studios\" class=\"lazy\" lsrc=\"https://goodfirms-prod.s3.amazonaws.com/services/general/1904_587f39ca666a0.png\" width=\"85\" height=\"85\" /></a>\n",
       "<h3><a class=\"c_name_head detail_page list-service-profile-visit\" href=\"/company/creole-studios\" target=\"_blank\"><span itemprop=\"name\">Creole Studios</span></a></h3>\n",
       "<div class=\"profile-star-link\">\n",
       " <a target=\"_blank\" href=\"/company/creole-studios#reviews\" itemprop=\"url\" title=\"Review count of Creole Studios\" class=\"list-service-profile-visit review-container review_url\"><span class=\"star-container\"><span class=\"profile-star\"></span><span class=\"fstar\" style=\"width:96%\"></span></span><span class=\"listinv_review_label\">4.8 (30 Reviews)</span></a>\n",
       "</div>\n",
       "<p class=\"profile-tagline\">Developing Mobile Innovation</p>\n",
       "</div>\n",
       "<div class=\"profile-flex\">\n",
       "<p class=\"profile-short-info\">\n",
       "Creole Studios is a top rated web, mobile and cloud app design and development studio with 35+ workforce serving clients in 20+ countries. Our team is expert in providing mobile apps, web apps and cloud apps in a different of modern technologies. We are bound to provide creative and innovative mobile business strategie ... <a target=\"_blank\" class=\"c_read_more detail_page list-service-profile-visit\" href=\"/company/creole-studios\">learn more about Creole Studios</a> </p>\n",
       "</div>\n",
       "<div class=\"entity-footer-wrapper\">\n",
       "<div class=\"firm-review full-width\">\n",
       "<div class=\"review-conclusion\">\"A Good Team-friendly Mobile Developer\"</div>\n",
       "<div class=\"reviewer-info\">\n",
       "<span class=\"reviewer-name\">Mahammad Gani Shaik, Senior Software Test Engineer / Business Analyst at Aleph-Labs</span>\n",
       "<span class=\"verified-icon\" data-toggle=\"tooltip\" data-original-title=\"Verified\">\n",
       "<svg xmlns=\"http://www.w3.org/2000/svg\" width=\"13\" height=\"15\" xmlns:v=\"https://vecta.io/nano\"><path d=\"M13.28 5.354l-1.661 2.035-.003.205c-.014.137-.016.28-.009.429l-.02.628a3.36 3.36 0 0 1-.101.694c-.168.596-.484 1.143-.903 1.647a7.5 7.5 0 0 1-.612.651l-.174.159-.092.081-.084.071-.131.109-.028.022-.248.191-.136.1-.047.033c-.698.492-1.462.888-2.259 1.236a.36.36 0 0 1-.133.029c-.044-.001-.09-.01-.126-.026-.804-.351-1.568-.747-2.266-1.239l-.047-.033-.135-.1-.248-.191-.028-.022-.131-.109-.084-.071-.092-.081-.171-.155c-.218-.206-.422-.422-.615-.655-.419-.504-.735-1.051-.903-1.647a3.36 3.36 0 0 1-.101-.694l-.02-.628c.008-.149.005-.292-.009-.429V4.107c0-.063.099-.171.166-.183 1.076-.199 2.09-.549 3.057-1.013a13.06 13.06 0 0 0 1.38-.753l.156-.096c.062-.039.117-.062.169-.072l.046-.004a.28.28 0 0 1 .036.003c.062.01.117.034.179.073l.156.096c.446.279.906.53 1.38.753l1.177.496 1.338-1.318c-.655-.189-1.277-.429-1.872-.714l-.347-.179C8.074.866 7.491.476 6.9.103L6.856.073C6.78.018 6.71-.003 6.64 0c-.07-.003-.14.018-.216.072l-.044.031-1.788 1.092-.347.179c-.64.306-1.31.562-2.02.757-.575.156-1.171.255-1.784.293-.369.022-.435.084-.435.447l.005 2.273-.009.163L0 8.229v.027c.006 1.82.798 3.268 2.07 4.49l.119.111.045.042.09.083c.626.568 1.312 1.046 2.043 1.456l.051.028.158.086a15.69 15.69 0 0 0 1.854.846c.038.015.081.025.125.03l.007.001.029.003.025.002h.024.025l.025-.002.029-.003.007-.001c.044-.006.087-.016.125-.03a15.68 15.68 0 0 0 1.854-.846l.159-.087.05-.028a11.12 11.12 0 0 0 2.043-1.456l.09-.083.045-.042.119-.111c1.272-1.221 2.064-2.669 2.07-4.476v-.041l-.001-2.875\" fill=\"#757982\" /><path d=\"M10.151 4.282L13.51.828c.34-.348.527-.35.89-.025l.298.266c.278.261.298.493.063.785l-2.305 2.855-5.319 6.583c-.326.397-.713.386-.998-.049L4.152 8.158 2.923 6.219c-.215-.34-.17-.568.156-.811l.32-.24c.361-.271.561-.255.858.075l2.205 2.45.186.195 3.504-3.606z\" fill=\"#20c321\" /></svg>\n",
       "</span>\n",
       "</div>\n",
       "</div>\n",
       "</div>\n",
       "</div>\n",
       "<div class=\"firms-r\">\n",
       "<a target=\"_blank\" class=\"visit-website linkbtn list-service-website-visit old-btn\" rel=\"nofollow\" href=\"https://www.creolestudios.com/\">Visit website</a>\n",
       "<div class=\"firms-services clearfix\">\n",
       "<div class=\"firm-pricing\">\n",
       "$25 - $49/hr </div>\n",
       "<div class=\"firm-employees\">10 - 49</div>\n",
       "<div class=\"firm-founded\">2014</div>\n",
       "<div class=\"firm-location\">\n",
       "India </div>\n",
       "</div>\n",
       "</div>\n",
       "</div>\n",
       "</li><li class=\"service-provider\" id=\"simbirsoft\"> <div itemprop=\"itemListElement\" itemscope=\"\" itemtype=\"https://schema.org/ListItem\" class=\"service-entity newentitysection\" entity-name=\"SimbirSoft\" entity-id=\"635\">\n",
       "<div class=\"firms-l\">\n",
       "<div class=\"entity-header-wrapper\">\n",
       "<meta itemprop=\"position\" content=\"56\" />\n",
       "<a class=\"company-logo company-image-ling detail_page list-service-profile-visit\" href=\"/company/simbirsoft\" target=\"_blank\"><img style=\"height:auto;width:inherit\" content=\"https://goodfirms-prod.s3.amazonaws.com/services/general/simbirsoft.png\" src=\"/img/goodfirms-loader-logo.svg\" alt=\"SimbirSoft\" class=\"lazy\" lsrc=\"https://goodfirms-prod.s3.amazonaws.com/services/general/simbirsoft.png\" width=\"85\" height=\"85\" /></a>\n",
       "<h3><a class=\"c_name_head detail_page list-service-profile-visit\" href=\"/company/simbirsoft\" target=\"_blank\"><span itemprop=\"name\">SimbirSoft</span></a></h3>\n",
       "<div class=\"profile-star-link\">\n",
       "<a target=\"_blank\" href=\"/company/simbirsoft#reviews\" itemprop=\"url\" title=\"Review count of SimbirSoft\" class=\"list-service-profile-visit review-container review_url\"><span class=\"star-container\"><span class=\"profile-star\"></span><span class=\"fstar\" style=\"width:100%\"></span></span><span class=\"listinv_review_label\">5.0 (33 Reviews)</span></a>\n",
       "</div>\n",
       "<p class=\"profile-tagline\">We create world class software products & services</p>\n",
       "</div>\n",
       "<div class=\"profile-flex\">\n",
       "<p class=\"profile-short-info\">\n",
       "SimbirSoft is a global IT outsourcing service provider. We offer world-class custom software development services and complex technical solutions: high-load products, software for industry, banking and finance, medicine, retail, and many other industries.\n",
       "Since 2001, we&nbsp;have implemented more than 900 projects r ... <a target=\"_blank\" class=\"c_read_more detail_page list-service-profile-visit\" href=\"/company/simbirsoft\">learn more about SimbirSoft</a> </p>\n",
       "</div>\n",
       "<div class=\"entity-footer-wrapper\">\n",
       "<div class=\"firm-review full-width\">\n",
       "<div class=\"review-conclusion\">\"Strong web and mobile-app development team with interest in the result\"</div>\n",
       "<div class=\"reviewer-info\">\n",
       "<span class=\"reviewer-name\">Alexander Boldyrev, Senior Business Analyst at ABSOLUT GROUP</span>\n",
       "<span class=\"verified-icon\" data-toggle=\"tooltip\" data-original-title=\"Verified\">\n",
       "<svg xmlns=\"http://www.w3.org/2000/svg\" width=\"13\" height=\"15\" xmlns:v=\"https://vecta.io/nano\"><path d=\"M13.28 5.354l-1.661 2.035-.003.205c-.014.137-.016.28-.009.429l-.02.628a3.36 3.36 0 0 1-.101.694c-.168.596-.484 1.143-.903 1.647a7.5 7.5 0 0 1-.612.651l-.174.159-.092.081-.084.071-.131.109-.028.022-.248.191-.136.1-.047.033c-.698.492-1.462.888-2.259 1.236a.36.36 0 0 1-.133.029c-.044-.001-.09-.01-.126-.026-.804-.351-1.568-.747-2.266-1.239l-.047-.033-.135-.1-.248-.191-.028-.022-.131-.109-.084-.071-.092-.081-.171-.155c-.218-.206-.422-.422-.615-.655-.419-.504-.735-1.051-.903-1.647a3.36 3.36 0 0 1-.101-.694l-.02-.628c.008-.149.005-.292-.009-.429V4.107c0-.063.099-.171.166-.183 1.076-.199 2.09-.549 3.057-1.013a13.06 13.06 0 0 0 1.38-.753l.156-.096c.062-.039.117-.062.169-.072l.046-.004a.28.28 0 0 1 .036.003c.062.01.117.034.179.073l.156.096c.446.279.906.53 1.38.753l1.177.496 1.338-1.318c-.655-.189-1.277-.429-1.872-.714l-.347-.179C8.074.866 7.491.476 6.9.103L6.856.073C6.78.018 6.71-.003 6.64 0c-.07-.003-.14.018-.216.072l-.044.031-1.788 1.092-.347.179c-.64.306-1.31.562-2.02.757-.575.156-1.171.255-1.784.293-.369.022-.435.084-.435.447l.005 2.273-.009.163L0 8.229v.027c.006 1.82.798 3.268 2.07 4.49l.119.111.045.042.09.083c.626.568 1.312 1.046 2.043 1.456l.051.028.158.086a15.69 15.69 0 0 0 1.854.846c.038.015.081.025.125.03l.007.001.029.003.025.002h.024.025l.025-.002.029-.003.007-.001c.044-.006.087-.016.125-.03a15.68 15.68 0 0 0 1.854-.846l.159-.087.05-.028a11.12 11.12 0 0 0 2.043-1.456l.09-.083.045-.042.119-.111c1.272-1.221 2.064-2.669 2.07-4.476v-.041l-.001-2.875\" fill=\"#757982\" /><path d=\"M10.151 4.282L13.51.828c.34-.348.527-.35.89-.025l.298.266c.278.261.298.493.063.785l-2.305 2.855-5.319 6.583c-.326.397-.713.386-.998-.049L4.152 8.158 2.923 6.219c-.215-.34-.17-.568.156-.811l.32-.24c.361-.271.561-.255.858.075l2.205 2.45.186.195 3.504-3.606z\" fill=\"#20c321\" /></svg>\n",
       "</span>\n",
       "</div>\n",
       "</div>\n",
       "</div>\n",
       "</div>\n",
       "<div class=\"firms-r\">\n",
       "<a target=\"_blank\" class=\"visit-website linkbtn list-service-website-visit old-btn\" rel=\"nofollow\" href=\"https://www.simbirsoft.com/en/\">Visit website</a>\n",
       "<div class=\"firms-services clearfix\">\n",
       "<div class=\"firm-pricing\">\n",
       "$50 - $99/hr </div>\n",
       "<div class=\"firm-employees\">1,000 - 9,999</div>\n",
       "<div class=\"firm-founded\">2001</div>\n",
       "<div class=\"firm-location\">\n",
       "Russia, United States </div>\n",
       "</div>\n",
       "</div>\n",
       "</div>\n",
       "</li><li class=\"service-provider\" id=\"alphonic-network-solutions-pvt-ltd\"> <div itemprop=\"itemListElement\" itemscope=\"\" itemtype=\"https://schema.org/ListItem\" class=\"service-entity newentitysection\" entity-name=\"Alphonic Network Solutions Pvt. Ltd.\" entity-id=\"3138\">\n",
       "<div class=\"firms-l\">\n",
       "<div class=\"entity-header-wrapper\">\n",
       "<meta itemprop=\"position\" content=\"57\" />\n",
       "<a class=\"company-logo company-image-ling detail_page list-service-profile-visit\" href=\"/company/alphonic-network-solutions-pvt-ltd\" target=\"_blank\"><img style=\"height:auto;width:inherit\" content=\"https://goodfirms-prod.s3.amazonaws.com/services/general/alphonic-network-solutions-pvt-ltd.jpg\" src=\"/img/goodfirms-loader-logo.svg\" alt=\"Alphonic Network Solutions Pvt. Ltd.\" class=\"lazy\" lsrc=\"https://goodfirms-prod.s3.amazonaws.com/services/general/alphonic-network-solutions-pvt-ltd.jpg\" width=\"85\" height=\"85\" /></a>\n",
       "<h3><a class=\"c_name_head detail_page list-service-profile-visit\" href=\"/company/alphonic-network-solutions-pvt-ltd\" target=\"_blank\"><span itemprop=\"name\">Alphonic Network Solutions Pvt. Ltd.</span></a></h3>\n",
       "<div class=\"profile-star-link\">\n",
       "<a target=\"_blank\" href=\"/company/alphonic-network-solutions-pvt-ltd#reviews\" itemprop=\"url\" title=\"Review count of Alphonic Network Solutions Pvt. Ltd.\" class=\"list-service-profile-visit review-container review_url\"><span class=\"star-container\"><span class=\"profile-star\"></span><span class=\"fstar\" style=\"width:98%\"></span></span><span class=\"listinv_review_label\">4.9 (21 Reviews)</span></a>\n",
       "</div>\n",
       "<p class=\"profile-tagline\">Mobile Apps and Web Development Company</p>\n",
       "</div>\n",
       "<div class=\"profile-flex\">\n",
       "<p class=\"profile-short-info\">\n",
       "Alphonic Network Solutions is a full-stack Mobile Apps and Web development agency established in 2013. We are in business for the past six years. Operating from Jaipur, India, with a team of 40+ smart and enthusiastic masterminds working together, we have successfully delivered 200+ projects globally. Our products and ... <a target=\"_blank\" class=\"c_read_more detail_page list-service-profile-visit\" href=\"/company/alphonic-network-solutions-pvt-ltd\">learn more about Alphonic Network Solutions Pvt. Ltd.</a> </p>\n",
       "</div>\n",
       "<div class=\"entity-footer-wrapper\">\n",
       "<div class=\"firm-review full-width\">\n",
       "<div class=\"review-conclusion\">\"They are impressive and completely devoted towards our project\"</div>\n",
       " <div class=\"reviewer-info\">\n",
       "<span class=\"reviewer-name\">Liam Karlsson, Product Manager at Mycronic</span>\n",
       "<span class=\"verified-icon\" data-toggle=\"tooltip\" data-original-title=\"Verified\">\n",
       "<svg xmlns=\"http://www.w3.org/2000/svg\" width=\"13\" height=\"15\" xmlns:v=\"https://vecta.io/nano\"><path d=\"M13.28 5.354l-1.661 2.035-.003.205c-.014.137-.016.28-.009.429l-.02.628a3.36 3.36 0 0 1-.101.694c-.168.596-.484 1.143-.903 1.647a7.5 7.5 0 0 1-.612.651l-.174.159-.092.081-.084.071-.131.109-.028.022-.248.191-.136.1-.047.033c-.698.492-1.462.888-2.259 1.236a.36.36 0 0 1-.133.029c-.044-.001-.09-.01-.126-.026-.804-.351-1.568-.747-2.266-1.239l-.047-.033-.135-.1-.248-.191-.028-.022-.131-.109-.084-.071-.092-.081-.171-.155c-.218-.206-.422-.422-.615-.655-.419-.504-.735-1.051-.903-1.647a3.36 3.36 0 0 1-.101-.694l-.02-.628c.008-.149.005-.292-.009-.429V4.107c0-.063.099-.171.166-.183 1.076-.199 2.09-.549 3.057-1.013a13.06 13.06 0 0 0 1.38-.753l.156-.096c.062-.039.117-.062.169-.072l.046-.004a.28.28 0 0 1 .036.003c.062.01.117.034.179.073l.156.096c.446.279.906.53 1.38.753l1.177.496 1.338-1.318c-.655-.189-1.277-.429-1.872-.714l-.347-.179C8.074.866 7.491.476 6.9.103L6.856.073C6.78.018 6.71-.003 6.64 0c-.07-.003-.14.018-.216.072l-.044.031-1.788 1.092-.347.179c-.64.306-1.31.562-2.02.757-.575.156-1.171.255-1.784.293-.369.022-.435.084-.435.447l.005 2.273-.009.163L0 8.229v.027c.006 1.82.798 3.268 2.07 4.49l.119.111.045.042.09.083c.626.568 1.312 1.046 2.043 1.456l.051.028.158.086a15.69 15.69 0 0 0 1.854.846c.038.015.081.025.125.03l.007.001.029.003.025.002h.024.025l.025-.002.029-.003.007-.001c.044-.006.087-.016.125-.03a15.68 15.68 0 0 0 1.854-.846l.159-.087.05-.028a11.12 11.12 0 0 0 2.043-1.456l.09-.083.045-.042.119-.111c1.272-1.221 2.064-2.669 2.07-4.476v-.041l-.001-2.875\" fill=\"#757982\" /><path d=\"M10.151 4.282L13.51.828c.34-.348.527-.35.89-.025l.298.266c.278.261.298.493.063.785l-2.305 2.855-5.319 6.583c-.326.397-.713.386-.998-.049L4.152 8.158 2.923 6.219c-.215-.34-.17-.568.156-.811l.32-.24c.361-.271.561-.255.858.075l2.205 2.45.186.195 3.504-3.606z\" fill=\"#20c321\" /></svg>\n",
       "</span>\n",
       "</div>\n",
       "</div>\n",
       "</div>\n",
       "</div>\n",
       "<div class=\"firms-r\">\n",
       "<a target=\"_blank\" class=\"visit-website linkbtn list-service-website-visit old-btn\" rel=\"nofollow\" href=\"https://www.alphonic.in/?utm_source=goodfirms.co&utm_medium=referral\">Visit website</a>\n",
       "<div class=\"firms-services clearfix\">\n",
       "<div class=\"firm-pricing\">\n",
       "$25 - $49/hr </div>\n",
       "<div class=\"firm-employees\">50 - 249</div>\n",
       "<div class=\"firm-founded\">2013</div>\n",
       "<div class=\"firm-location\">\n",
       "United States </div>\n",
       "</div>\n",
       "</div>\n",
       " </div>\n",
       "</li><li class=\"service-provider\" id=\"axis-web-art-pvt-ltd\"> <div itemprop=\"itemListElement\" itemscope=\"\" itemtype=\"https://schema.org/ListItem\" class=\"service-entity newentitysection\" entity-name=\"Axis Web Art Pvt Ltd\" entity-id=\"12330\">\n",
       "<div class=\"firms-l\">\n",
       "<div class=\"entity-header-wrapper\">\n",
       "<meta itemprop=\"position\" content=\"58\" />\n",
       "<a class=\"company-logo company-image-ling detail_page list-service-profile-visit\" href=\"/company/axis-web-art-pvt-ltd\" target=\"_blank\"><img style=\"height:auto;width:inherit\" content=\"https://goodfirms-prod.s3.amazonaws.com/services/general/14334_5bdbc80ed5ae9.png\" src=\"/img/goodfirms-loader-logo.svg\" alt=\"Axis Web Art Pvt Ltd\" class=\"lazy\" lsrc=\"https://goodfirms-prod.s3.amazonaws.com/services/general/14334_5bdbc80ed5ae9.png\" width=\"85\" height=\"85\" /></a>\n",
       "<h3><a class=\"c_name_head detail_page list-service-profile-visit\" href=\"/company/axis-web-art-pvt-ltd\" target=\"_blank\"><span itemprop=\"name\">Axis Web Art Pvt Ltd</span></a></h3>\n",
       "<div class=\"profile-star-link\">\n",
       "<a target=\"_blank\" href=\"/company/axis-web-art-pvt-ltd#reviews\" itemprop=\"url\" title=\"Review count of Axis Web Art Pvt Ltd\" class=\"list-service-profile-visit review-container review_url\"><span class=\"star-container\"><span class=\"profile-star\"></span><span class=\"fstar\" style=\"width:100%\"></span></span><span class=\"listinv_review_label\">5.0 (20 Reviews)</span></a>\n",
       "</div>\n",
       "<p class=\"profile-tagline\">Premier eCommerce Development</p>\n",
       "</div>\n",
       "<div class=\"profile-flex\">\n",
       "<p class=\"profile-short-info\">\n",
       "Axis Web Art is a top-rated, award-winning web design and development company in India. We specialize in eCommerce, Custom web application development and digital marketing services.\n",
       "Since 2011 we&#39;ve completed more than 350 projects for businesses of all sizes &amp; industries from all around the world. We are a ... <a target=\"_blank\" class=\"c_read_more detail_page list-service-profile-visit\" href=\"/company/axis-web-art-pvt-ltd\">learn more about Axis Web Art Pvt Ltd</a> </p>\n",
       "</div>\n",
       "<div class=\"entity-footer-wrapper\">\n",
       "<div class=\"firm-review full-width\">\n",
       "<div class=\"review-conclusion\">\"Seasoned Ecommerce and Tech Team \"</div>\n",
       "<div class=\"reviewer-info\">\n",
       "<span class=\"reviewer-name\">Fahd Hameed, Co-founder and Managing Director at Modest Forever.</span>\n",
       "<span class=\"verified-icon\" data-toggle=\"tooltip\" data-original-title=\"Verified\">\n",
       "<svg xmlns=\"http://www.w3.org/2000/svg\" width=\"13\" height=\"15\" xmlns:v=\"https://vecta.io/nano\"><path d=\"M13.28 5.354l-1.661 2.035-.003.205c-.014.137-.016.28-.009.429l-.02.628a3.36 3.36 0 0 1-.101.694c-.168.596-.484 1.143-.903 1.647a7.5 7.5 0 0 1-.612.651l-.174.159-.092.081-.084.071-.131.109-.028.022-.248.191-.136.1-.047.033c-.698.492-1.462.888-2.259 1.236a.36.36 0 0 1-.133.029c-.044-.001-.09-.01-.126-.026-.804-.351-1.568-.747-2.266-1.239l-.047-.033-.135-.1-.248-.191-.028-.022-.131-.109-.084-.071-.092-.081-.171-.155c-.218-.206-.422-.422-.615-.655-.419-.504-.735-1.051-.903-1.647a3.36 3.36 0 0 1-.101-.694l-.02-.628c.008-.149.005-.292-.009-.429V4.107c0-.063.099-.171.166-.183 1.076-.199 2.09-.549 3.057-1.013a13.06 13.06 0 0 0 1.38-.753l.156-.096c.062-.039.117-.062.169-.072l.046-.004a.28.28 0 0 1 .036.003c.062.01.117.034.179.073l.156.096c.446.279.906.53 1.38.753l1.177.496 1.338-1.318c-.655-.189-1.277-.429-1.872-.714l-.347-.179C8.074.866 7.491.476 6.9.103L6.856.073C6.78.018 6.71-.003 6.64 0c-.07-.003-.14.018-.216.072l-.044.031-1.788 1.092-.347.179c-.64.306-1.31.562-2.02.757-.575.156-1.171.255-1.784.293-.369.022-.435.084-.435.447l.005 2.273-.009.163L0 8.229v.027c.006 1.82.798 3.268 2.07 4.49l.119.111.045.042.09.083c.626.568 1.312 1.046 2.043 1.456l.051.028.158.086a15.69 15.69 0 0 0 1.854.846c.038.015.081.025.125.03l.007.001.029.003.025.002h.024.025l.025-.002.029-.003.007-.001c.044-.006.087-.016.125-.03a15.68 15.68 0 0 0 1.854-.846l.159-.087.05-.028a11.12 11.12 0 0 0 2.043-1.456l.09-.083.045-.042.119-.111c1.272-1.221 2.064-2.669 2.07-4.476v-.041l-.001-2.875\" fill=\"#757982\" /><path d=\"M10.151 4.282L13.51.828c.34-.348.527-.35.89-.025l.298.266c.278.261.298.493.063.785l-2.305 2.855-5.319 6.583c-.326.397-.713.386-.998-.049L4.152 8.158 2.923 6.219c-.215-.34-.17-.568.156-.811l.32-.24c.361-.271.561-.255.858.075l2.205 2.45.186.195 3.504-3.606z\" fill=\"#20c321\" /></svg>\n",
       "</span>\n",
       "</div>\n",
       "</div>\n",
       "</div>\n",
       "</div>\n",
       "<div class=\"firms-r\">\n",
       "<a target=\"_blank\" class=\"visit-website linkbtn list-service-website-visit old-btn\" rel=\"nofollow\" href=\"https://www.axiswebart.com/\">Visit website</a>\n",
       "<div class=\"firms-services clearfix\">\n",
       "<div class=\"firm-pricing\">\n",
       "$25 - $49/hr </div>\n",
       "<div class=\"firm-employees\">10 - 49</div>\n",
       "<div class=\"firm-founded\">2011</div>\n",
       "<div class=\"firm-location\">\n",
       "India </div>\n",
       "</div>\n",
       "</div>\n",
       "</div>\n",
       "</li><li class=\"service-provider\" id=\"startbit-it-solutions-pvt-ltd\"> <div itemprop=\"itemListElement\" itemscope=\"\" itemtype=\"https://schema.org/ListItem\" class=\"service-entity newentitysection\" entity-name=\"Startbit IT Solutions Pvt. Ltd.\" entity-id=\"105264\">\n",
       "<div class=\"firms-l\">\n",
       "<div class=\"entity-header-wrapper\">\n",
       "<meta itemprop=\"position\" content=\"59\" />\n",
       "<a class=\"company-logo company-image-ling visit-website list-service-website-visit\" rel=\"nofollow\" href=\"http://www.startbitsolutions.com\" target=\"_blank\"><img style=\"height:auto;width:inherit\" content=\"https://goodfirms-prod.s3.amazonaws.com/services/general/startbit-solutionsltd-pvt.jpg\" src=\"/img/goodfirms-loader-logo.svg\" alt=\"Startbit IT Solutions Pvt. Ltd.\" class=\"lazy\" lsrc=\"https://goodfirms-prod.s3.amazonaws.com/services/general/startbit-solutionsltd-pvt.jpg\" width=\"85\" height=\"85\" /></a>\n",
       "<h3><a class=\"c_name_head visit-website list-service-website-visit\" rel=\"nofollow\" href=\"http://www.startbitsolutions.com\" target=\"_blank\"><span itemprop=\"name\">Startbit IT Solutions Pvt. Ltd.</span></a></h3>\n",
       "<div class=\"profile-star-link\">\n",
       "<a target=\"_blank\" href=\"/company/startbit-it-solutions-pvt-ltd#reviews\" itemprop=\"url\" title=\"Review count of Startbit IT Solutions Pvt. Ltd.\" class=\"list-service-profile-visit review-container review_url\"><span class=\"star-container\"><span class=\"profile-star\"></span><span class=\"fstar\" style=\"width:100%\"></span></span><span class=\"listinv_review_label\">5.0 (28 Reviews)</span></a>\n",
       "</div>\n",
       "<p class=\"profile-tagline\">Designing The Future</p>\n",
       "</div>\n",
       "<div class=\"profile-flex\">\n",
       "<p class=\"profile-short-info\">\n",
       "Startbit IT Solutions Pvt. Ltd., an ISO 9001 and 27001 certified company, is a Global IT Services provider company with expertise in outsourced product development and custom software development focusing on web app development, mobile app development, tailor-made solutions, etc. We are consistently delivering offshore ... <a target=\"_blank\" class=\"c_read_more detail_page list-service-profile-visit\" href=\"/company/startbit-it-solutions-pvt-ltd\">learn more about Startbit IT Solutions Pvt. Ltd.</a> </p>\n",
       "</div>\n",
       "<div class=\"entity-footer-wrapper\">\n",
       "<div class=\"firm-review full-width\">\n",
       "<div class=\"review-conclusion\">\"Startbit IT Solutions will be our top application development firm for future projects in (ASP.NET, C#, .NET Core, and ReactJS).\"</div>\n",
       "<div class=\"reviewer-info\">\n",
       "<span class=\"reviewer-name\">Jouni Koukkari, Managing Director at Naikon Ltd.</span>\n",
       "<span class=\"verified-icon\" data-toggle=\"tooltip\" data-original-title=\"Verified\">\n",
       "<svg xmlns=\"http://www.w3.org/2000/svg\" width=\"13\" height=\"15\" xmlns:v=\"https://vecta.io/nano\"><path d=\"M13.28 5.354l-1.661 2.035-.003.205c-.014.137-.016.28-.009.429l-.02.628a3.36 3.36 0 0 1-.101.694c-.168.596-.484 1.143-.903 1.647a7.5 7.5 0 0 1-.612.651l-.174.159-.092.081-.084.071-.131.109-.028.022-.248.191-.136.1-.047.033c-.698.492-1.462.888-2.259 1.236a.36.36 0 0 1-.133.029c-.044-.001-.09-.01-.126-.026-.804-.351-1.568-.747-2.266-1.239l-.047-.033-.135-.1-.248-.191-.028-.022-.131-.109-.084-.071-.092-.081-.171-.155c-.218-.206-.422-.422-.615-.655-.419-.504-.735-1.051-.903-1.647a3.36 3.36 0 0 1-.101-.694l-.02-.628c.008-.149.005-.292-.009-.429V4.107c0-.063.099-.171.166-.183 1.076-.199 2.09-.549 3.057-1.013a13.06 13.06 0 0 0 1.38-.753l.156-.096c.062-.039.117-.062.169-.072l.046-.004a.28.28 0 0 1 .036.003c.062.01.117.034.179.073l.156.096c.446.279.906.53 1.38.753l1.177.496 1.338-1.318c-.655-.189-1.277-.429-1.872-.714l-.347-.179C8.074.866 7.491.476 6.9.103L6.856.073C6.78.018 6.71-.003 6.64 0c-.07-.003-.14.018-.216.072l-.044.031-1.788 1.092-.347.179c-.64.306-1.31.562-2.02.757-.575.156-1.171.255-1.784.293-.369.022-.435.084-.435.447l.005 2.273-.009.163L0 8.229v.027c.006 1.82.798 3.268 2.07 4.49l.119.111.045.042.09.083c.626.568 1.312 1.046 2.043 1.456l.051.028.158.086a15.69 15.69 0 0 0 1.854.846c.038.015.081.025.125.03l.007.001.029.003.025.002h.024.025l.025-.002.029-.003.007-.001c.044-.006.087-.016.125-.03a15.68 15.68 0 0 0 1.854-.846l.159-.087.05-.028a11.12 11.12 0 0 0 2.043-1.456l.09-.083.045-.042.119-.111c1.272-1.221 2.064-2.669 2.07-4.476v-.041l-.001-2.875\" fill=\"#757982\" /><path d=\"M10.151 4.282L13.51.828c.34-.348.527-.35.89-.025l.298.266c.278.261.298.493.063.785l-2.305 2.855-5.319 6.583c-.326.397-.713.386-.998-.049L4.152 8.158 2.923 6.219c-.215-.34-.17-.568.156-.811l.32-.24c.361-.271.561-.255.858.075l2.205 2.45.186.195 3.504-3.606z\" fill=\"#20c321\" /></svg>\n",
       "</span>\n",
       "</div>\n",
       "</div>\n",
       "</div>\n",
       "</div>\n",
       "<div class=\"firms-r\">\n",
       "<a target=\"_blank\" class=\"visit-website linkbtn list-service-website-visit old-btn\" rel=\"nofollow\" href=\"http://www.startbitsolutions.com\">Visit website</a>\n",
       "<div class=\"firms-services clearfix\">\n",
       "<div class=\"firm-pricing\">\n",
       "< $25/hr </div>\n",
       "<div class=\"firm-employees\">50 - 249</div>\n",
       "<div class=\"firm-founded\">2008</div>\n",
       "<div class=\"firm-location\">\n",
       "India, United States </div>\n",
       "</div>\n",
       "</div>\n",
       "</div>\n",
       "</li><li class=\"service-provider\" id=\"attract-group\"> <div itemprop=\"itemListElement\" itemscope=\"\" itemtype=\"https://schema.org/ListItem\" class=\"service-entity newentitysection\" entity-name=\"Attract Group\" entity-id=\"4408\">\n",
       "<div class=\"firms-l\">\n",
       "<div class=\"entity-header-wrapper\">\n",
       "<meta itemprop=\"position\" content=\"60\" />\n",
       "<a class=\"company-logo company-image-ling detail_page list-service-profile-visit\" href=\"/company/attract-group\" target=\"_blank\"><img style=\"height:auto;width:inherit\" content=\"https://goodfirms-prod.s3.amazonaws.com/services/general/attract-group.png\" src=\"/img/goodfirms-loader-logo.svg\" alt=\"Attract Group\" class=\"lazy\" lsrc=\"https://goodfirms-prod.s3.amazonaws.com/services/general/attract-group.png\" width=\"85\" height=\"85\" /></a>\n",
       "<h3><a class=\"c_name_head detail_page list-service-profile-visit\" href=\"/company/attract-group\" target=\"_blank\"><span itemprop=\"name\">Attract Group</span></a></h3>\n",
       "<div class=\"profile-star-link\">\n",
       "<a target=\"_blank\" href=\"/company/attract-group#reviews\" itemprop=\"url\" title=\"Review count of Attract Group\" class=\"list-service-profile-visit review-container review_url\"><span class=\"star-container\"><span class=\"profile-star\"></span><span class=\"fstar\" style=\"width:100%\"></span></span><span class=\"listinv_review_label\">5.0 (20 Reviews)</span></a>\n",
       "</div>\n",
       "<p class=\"profile-tagline\">Software development & IT consultancy group</p>\n",
       "</div>\n",
       "<div class=\"profile-flex\">\n",
       "<p class=\"profile-short-info\">\n",
       "Attract Group is a great team of driven IT Professionals. We provide&nbsp;excellent web, mobile &amp; custom solutions for your business&nbsp;along with IT Consulting. You get superb service and user experience since our team cares about Attract Group&rsquo;s reputation and brand.&nbsp;\n",
       "Our office is located in Ukra ... <a target=\"_blank\" class=\"c_read_more detail_page list-service-profile-visit\" href=\"/company/attract-group\">learn more about Attract Group</a> </p>\n",
       "</div>\n",
       "<div class=\"entity-footer-wrapper\">\n",
       "<div class=\"firm-review full-width\">\n",
       "<div class=\"review-conclusion\">\"Best web development firm for a web application.\"</div>\n",
       "<div class=\"reviewer-info\">\n",
       "<span class=\"reviewer-name\">Sebastiaan Scholten, Co-Founder at at Workwize</span>\n",
       "<span class=\"verified-icon\" data-toggle=\"tooltip\" data-original-title=\"Verified\">\n",
       "<svg xmlns=\"http://www.w3.org/2000/svg\" width=\"13\" height=\"15\" xmlns:v=\"https://vecta.io/nano\"><path d=\"M13.28 5.354l-1.661 2.035-.003.205c-.014.137-.016.28-.009.429l-.02.628a3.36 3.36 0 0 1-.101.694c-.168.596-.484 1.143-.903 1.647a7.5 7.5 0 0 1-.612.651l-.174.159-.092.081-.084.071-.131.109-.028.022-.248.191-.136.1-.047.033c-.698.492-1.462.888-2.259 1.236a.36.36 0 0 1-.133.029c-.044-.001-.09-.01-.126-.026-.804-.351-1.568-.747-2.266-1.239l-.047-.033-.135-.1-.248-.191-.028-.022-.131-.109-.084-.071-.092-.081-.171-.155c-.218-.206-.422-.422-.615-.655-.419-.504-.735-1.051-.903-1.647a3.36 3.36 0 0 1-.101-.694l-.02-.628c.008-.149.005-.292-.009-.429V4.107c0-.063.099-.171.166-.183 1.076-.199 2.09-.549 3.057-1.013a13.06 13.06 0 0 0 1.38-.753l.156-.096c.062-.039.117-.062.169-.072l.046-.004a.28.28 0 0 1 .036.003c.062.01.117.034.179.073l.156.096c.446.279.906.53 1.38.753l1.177.496 1.338-1.318c-.655-.189-1.277-.429-1.872-.714l-.347-.179C8.074.866 7.491.476 6.9.103L6.856.073C6.78.018 6.71-.003 6.64 0c-.07-.003-.14.018-.216.072l-.044.031-1.788 1.092-.347.179c-.64.306-1.31.562-2.02.757-.575.156-1.171.255-1.784.293-.369.022-.435.084-.435.447l.005 2.273-.009.163L0 8.229v.027c.006 1.82.798 3.268 2.07 4.49l.119.111.045.042.09.083c.626.568 1.312 1.046 2.043 1.456l.051.028.158.086a15.69 15.69 0 0 0 1.854.846c.038.015.081.025.125.03l.007.001.029.003.025.002h.024.025l.025-.002.029-.003.007-.001c.044-.006.087-.016.125-.03a15.68 15.68 0 0 0 1.854-.846l.159-.087.05-.028a11.12 11.12 0 0 0 2.043-1.456l.09-.083.045-.042.119-.111c1.272-1.221 2.064-2.669 2.07-4.476v-.041l-.001-2.875\" fill=\"#757982\" /><path d=\"M10.151 4.282L13.51.828c.34-.348.527-.35.89-.025l.298.266c.278.261.298.493.063.785l-2.305 2.855-5.319 6.583c-.326.397-.713.386-.998-.049L4.152 8.158 2.923 6.219c-.215-.34-.17-.568.156-.811l.32-.24c.361-.271.561-.255.858.075l2.205 2.45.186.195 3.504-3.606z\" fill=\"#20c321\" /></svg>\n",
       "</span>\n",
       "</div>\n",
       "</div>\n",
       "</div>\n",
       "</div>\n",
       "<div class=\"firms-r\">\n",
       "<a target=\"_blank\" class=\"visit-website linkbtn list-service-website-visit old-btn\" rel=\"nofollow\" href=\"https://attractgroup.com/\">Visit website</a>\n",
       "<div class=\"firms-services clearfix\">\n",
       "<div class=\"firm-pricing\">\n",
       "$25 - $49/hr </div>\n",
       "<div class=\"firm-employees\">50 - 249</div>\n",
       "<div class=\"firm-founded\">2011</div>\n",
       "<div class=\"firm-location\">\n",
       "Ukraine, United States </div>\n",
       "</div>\n",
       "</div>\n",
       "</div>\n",
       "</li><li class=\"service-provider\" id=\"mobulous\"> <div itemprop=\"itemListElement\" itemscope=\"\" itemtype=\"https://schema.org/ListItem\" class=\"service-entity newentitysection\" entity-name=\"Mobulous\" entity-id=\"679\">\n",
       "<div class=\"firms-l\">\n",
       "<div class=\"entity-header-wrapper\">\n",
       "<meta itemprop=\"position\" content=\"61\" />\n",
       "<a class=\"company-logo company-image-ling detail_page list-service-profile-visit\" href=\"/company/mobulous\" target=\"_blank\"><img style=\"height:auto;width:inherit\" content=\"https://goodfirms-prod.s3.amazonaws.com/services/general/679_5ad04e32de917.png\" src=\"/img/goodfirms-loader-logo.svg\" alt=\"Mobulous\" class=\"lazy\" lsrc=\"https://goodfirms-prod.s3.amazonaws.com/services/general/679_5ad04e32de917.png\" width=\"85\" height=\"85\" /></a>\n",
       "<h3><a class=\"c_name_head detail_page list-service-profile-visit\" href=\"/company/mobulous\" target=\"_blank\"><span itemprop=\"name\">Mobulous</span></a></h3>\n",
       "<div class=\"profile-star-link\">\n",
       "<a target=\"_blank\" href=\"/company/mobulous#reviews\" itemprop=\"url\" title=\"Review count of Mobulous\" class=\"list-service-profile-visit review-container review_url\"><span class=\"star-container\"><span class=\"profile-star\"></span><span class=\"fstar\" style=\"width:96%\"></span></span><span class=\"listinv_review_label\">4.8 (44 Reviews)</span></a>\n",
       "</div>\n",
       "<p class=\"profile-tagline\">Advanced | Robust | Secured Mobile and Web Apps</p>\n",
       "</div>\n",
       "<div class=\"profile-flex\">\n",
       "<p class=\"profile-short-info\">\n",
       "Over 500+ Solutions Delivered Globally\n",
       "Mobulous is a fast-growing company in designing &amp; developing mobile applications and websites. With just 8+ years of we have earned ISO 9001:2015, ISO 27001:2015, and various startup appreciations serving our business solutions across the globe.\n",
       "In these wonderful years, ... <a target=\"_blank\" class=\"c_read_more detail_page list-service-profile-visit\" href=\"/company/mobulous\">learn more about Mobulous</a> </p>\n",
       "</div>\n",
       "<div class=\"entity-footer-wrapper\">\n",
       "<div class=\"firm-review full-width\">\n",
       "<div class=\"review-conclusion\">\"They are friendly, professional and prompt!\"</div>\n",
       "<div class=\"reviewer-info\">\n",
       "<span class=\"reviewer-name\">Wasfa, Owner at E-Rx The Prescriptions Hub</span>\n",
       "<span class=\"verified-icon\" data-toggle=\"tooltip\" data-original-title=\"Verified\">\n",
       "<svg xmlns=\"http://www.w3.org/2000/svg\" width=\"13\" height=\"15\" xmlns:v=\"https://vecta.io/nano\"><path d=\"M13.28 5.354l-1.661 2.035-.003.205c-.014.137-.016.28-.009.429l-.02.628a3.36 3.36 0 0 1-.101.694c-.168.596-.484 1.143-.903 1.647a7.5 7.5 0 0 1-.612.651l-.174.159-.092.081-.084.071-.131.109-.028.022-.248.191-.136.1-.047.033c-.698.492-1.462.888-2.259 1.236a.36.36 0 0 1-.133.029c-.044-.001-.09-.01-.126-.026-.804-.351-1.568-.747-2.266-1.239l-.047-.033-.135-.1-.248-.191-.028-.022-.131-.109-.084-.071-.092-.081-.171-.155c-.218-.206-.422-.422-.615-.655-.419-.504-.735-1.051-.903-1.647a3.36 3.36 0 0 1-.101-.694l-.02-.628c.008-.149.005-.292-.009-.429V4.107c0-.063.099-.171.166-.183 1.076-.199 2.09-.549 3.057-1.013a13.06 13.06 0 0 0 1.38-.753l.156-.096c.062-.039.117-.062.169-.072l.046-.004a.28.28 0 0 1 .036.003c.062.01.117.034.179.073l.156.096c.446.279.906.53 1.38.753l1.177.496 1.338-1.318c-.655-.189-1.277-.429-1.872-.714l-.347-.179C8.074.866 7.491.476 6.9.103L6.856.073C6.78.018 6.71-.003 6.64 0c-.07-.003-.14.018-.216.072l-.044.031-1.788 1.092-.347.179c-.64.306-1.31.562-2.02.757-.575.156-1.171.255-1.784.293-.369.022-.435.084-.435.447l.005 2.273-.009.163L0 8.229v.027c.006 1.82.798 3.268 2.07 4.49l.119.111.045.042.09.083c.626.568 1.312 1.046 2.043 1.456l.051.028.158.086a15.69 15.69 0 0 0 1.854.846c.038.015.081.025.125.03l.007.001.029.003.025.002h.024.025l.025-.002.029-.003.007-.001c.044-.006.087-.016.125-.03a15.68 15.68 0 0 0 1.854-.846l.159-.087.05-.028a11.12 11.12 0 0 0 2.043-1.456l.09-.083.045-.042.119-.111c1.272-1.221 2.064-2.669 2.07-4.476v-.041l-.001-2.875\" fill=\"#757982\" /><path d=\"M10.151 4.282L13.51.828c.34-.348.527-.35.89-.025l.298.266c.278.261.298.493.063.785l-2.305 2.855-5.319 6.583c-.326.397-.713.386-.998-.049L4.152 8.158 2.923 6.219c-.215-.34-.17-.568.156-.811l.32-.24c.361-.271.561-.255.858.075l2.205 2.45.186.195 3.504-3.606z\" fill=\"#20c321\" /></svg>\n",
       "</span>\n",
       "</div>\n",
       "</div>\n",
       "</div>\n",
       "</div>\n",
       "<div class=\"firms-r\">\n",
       "<a target=\"_blank\" class=\"visit-website linkbtn list-service-website-visit old-btn\" rel=\"nofollow\" href=\"http://www.mobulous.com/\">Visit website</a>\n",
       "<div class=\"firms-services clearfix\">\n",
       "<div class=\"firm-pricing\">\n",
       "< $25/hr </div>\n",
       "<div class=\"firm-employees\">50 - 249</div>\n",
       "<div class=\"firm-founded\">2013</div>\n",
       "<div class=\"firm-location\">\n",
       "India, United States </div>\n",
       "</div>\n",
       "</div>\n",
       "</div>\n",
       "</li><li class=\"service-provider\" id=\"brain-technosys-pvt-ltd\"> <div itemprop=\"itemListElement\" itemscope=\"\" itemtype=\"https://schema.org/ListItem\" class=\"service-entity newentitysection\" entity-name=\"Brain Technosys Pvt. Ltd.\" entity-id=\"8231\">\n",
       "<div class=\"firms-l\">\n",
       "<div class=\"entity-header-wrapper\">\n",
       "<meta itemprop=\"position\" content=\"62\" />\n",
       "<a class=\"company-logo company-image-ling detail_page list-service-profile-visit\" href=\"/company/brain-technosys-pvt-ltd\" target=\"_blank\"><img style=\"height:auto;width:inherit\" content=\"https://goodfirms-prod.s3.amazonaws.com/services/general/8212_5b153536cb150.jpg\" src=\"/img/goodfirms-loader-logo.svg\" alt=\"Brain Technosys Pvt. Ltd.\" class=\"lazy\" lsrc=\"https://goodfirms-prod.s3.amazonaws.com/services/general/8212_5b153536cb150.jpg\" width=\"85\" height=\"85\" /></a>\n",
       " <h3><a class=\"c_name_head detail_page list-service-profile-visit\" href=\"/company/brain-technosys-pvt-ltd\" target=\"_blank\"><span itemprop=\"name\">Brain Technosys Pvt. Ltd.</span></a></h3>\n",
       "<div class=\"profile-star-link\">\n",
       "<a target=\"_blank\" href=\"/company/brain-technosys-pvt-ltd#reviews\" itemprop=\"url\" title=\"Review count of Brain Technosys Pvt. Ltd.\" class=\"list-service-profile-visit review-container review_url\"><span class=\"star-container\"><span class=\"profile-star\"></span><span class=\"fstar\" style=\"width:98%\"></span></span><span class=\"listinv_review_label\">4.9 (26 Reviews)</span></a>\n",
       "</div>\n",
       "<p class=\"profile-tagline\">Web & Mobile Apps Development Company</p>\n",
       "</div>\n",
       "<div class=\"profile-flex\">\n",
       "<p class=\"profile-short-info\">\n",
       "Brain Technosys is a LEADING PROVIDER of Custom Software Development in Web, Mobile, Cloud, Startups, and Enterprises. We are a Microsoft Gold Partner, ISO 9001:2008 Certified &amp; NASSCOM Member.&nbsp;\n",
       "Our Strengths:&nbsp;\n",
       "# With 15+ years of successful operations\n",
       "# High-quality custom development services\n",
       "... <a target=\"_blank\" class=\"c_read_more detail_page list-service-profile-visit\" href=\"/company/brain-technosys-pvt-ltd\">learn more about Brain Technosys Pvt. Ltd.</a> </p>\n",
       "</div>\n",
       "<div class=\"entity-footer-wrapper\">\n",
       "<div class=\"firm-review full-width\">\n",
       "<div class=\"review-conclusion\">\"Brain Technosys Pvt. Ltd. is very Reliable, Trustworthy, Honest and Dependable company.\"</div>\n",
       "<div class=\"reviewer-info\">\n",
       "<span class=\"reviewer-name\">Kethron Webbe, Manager at Norhtek Networking</span>\n",
       "<span class=\"verified-icon\" data-toggle=\"tooltip\" data-original-title=\"Verified\">\n",
       "<svg xmlns=\"http://www.w3.org/2000/svg\" width=\"13\" height=\"15\" xmlns:v=\"https://vecta.io/nano\"><path d=\"M13.28 5.354l-1.661 2.035-.003.205c-.014.137-.016.28-.009.429l-.02.628a3.36 3.36 0 0 1-.101.694c-.168.596-.484 1.143-.903 1.647a7.5 7.5 0 0 1-.612.651l-.174.159-.092.081-.084.071-.131.109-.028.022-.248.191-.136.1-.047.033c-.698.492-1.462.888-2.259 1.236a.36.36 0 0 1-.133.029c-.044-.001-.09-.01-.126-.026-.804-.351-1.568-.747-2.266-1.239l-.047-.033-.135-.1-.248-.191-.028-.022-.131-.109-.084-.071-.092-.081-.171-.155c-.218-.206-.422-.422-.615-.655-.419-.504-.735-1.051-.903-1.647a3.36 3.36 0 0 1-.101-.694l-.02-.628c.008-.149.005-.292-.009-.429V4.107c0-.063.099-.171.166-.183 1.076-.199 2.09-.549 3.057-1.013a13.06 13.06 0 0 0 1.38-.753l.156-.096c.062-.039.117-.062.169-.072l.046-.004a.28.28 0 0 1 .036.003c.062.01.117.034.179.073l.156.096c.446.279.906.53 1.38.753l1.177.496 1.338-1.318c-.655-.189-1.277-.429-1.872-.714l-.347-.179C8.074.866 7.491.476 6.9.103L6.856.073C6.78.018 6.71-.003 6.64 0c-.07-.003-.14.018-.216.072l-.044.031-1.788 1.092-.347.179c-.64.306-1.31.562-2.02.757-.575.156-1.171.255-1.784.293-.369.022-.435.084-.435.447l.005 2.273-.009.163L0 8.229v.027c.006 1.82.798 3.268 2.07 4.49l.119.111.045.042.09.083c.626.568 1.312 1.046 2.043 1.456l.051.028.158.086a15.69 15.69 0 0 0 1.854.846c.038.015.081.025.125.03l.007.001.029.003.025.002h.024.025l.025-.002.029-.003.007-.001c.044-.006.087-.016.125-.03a15.68 15.68 0 0 0 1.854-.846l.159-.087.05-.028a11.12 11.12 0 0 0 2.043-1.456l.09-.083.045-.042.119-.111c1.272-1.221 2.064-2.669 2.07-4.476v-.041l-.001-2.875\" fill=\"#757982\" /><path d=\"M10.151 4.282L13.51.828c.34-.348.527-.35.89-.025l.298.266c.278.261.298.493.063.785l-2.305 2.855-5.319 6.583c-.326.397-.713.386-.998-.049L4.152 8.158 2.923 6.219c-.215-.34-.17-.568.156-.811l.32-.24c.361-.271.561-.255.858.075l2.205 2.45.186.195 3.504-3.606z\" fill=\"#20c321\" /></svg>\n",
       "</span>\n",
       "</div>\n",
       "</div>\n",
       "</div>\n",
       "</div>\n",
       "<div class=\"firms-r\">\n",
       "<a target=\"_blank\" class=\"visit-website linkbtn list-service-website-visit old-btn\" rel=\"nofollow\" href=\"http://www.braintechnosys.com\">Visit website</a>\n",
       "<div class=\"firms-services clearfix\">\n",
       "<div class=\"firm-pricing\">\n",
       "< $25/hr </div>\n",
       "<div class=\"firm-employees\">50 - 249</div>\n",
       "<div class=\"firm-founded\">2004</div>\n",
       "<div class=\"firm-location\">\n",
       "India, United States </div>\n",
       "</div>\n",
       "</div>\n",
       "</div>\n",
       "</li><li class=\"service-provider\" id=\"om-software\"> <div itemprop=\"itemListElement\" itemscope=\"\" itemtype=\"https://schema.org/ListItem\" class=\"service-entity newentitysection\" entity-name=\"OM SOFTWARE PVT LTD\" entity-id=\"929\">\n",
       "<div class=\"firms-l\">\n",
       "<div class=\"entity-header-wrapper\">\n",
       "<meta itemprop=\"position\" content=\"63\" />\n",
       "<a class=\"company-logo company-image-ling detail_page list-service-profile-visit\" href=\"/company/om-software\" target=\"_blank\"><img style=\"height:auto;width:inherit\" content=\"https://goodfirms-prod.s3.amazonaws.com/services/general/om-software.png\" src=\"/img/goodfirms-loader-logo.svg\" alt=\"OM SOFTWARE PVT LTD\" class=\"lazy\" lsrc=\"https://goodfirms-prod.s3.amazonaws.com/services/general/om-software.png\" width=\"85\" height=\"85\" /></a>\n",
       "<h3><a class=\"c_name_head detail_page list-service-profile-visit\" href=\"/company/om-software\" target=\"_blank\"><span itemprop=\"name\">OM SOFTWARE PVT LTD</span></a></h3>\n",
       " <div class=\"profile-star-link\">\n",
       "<a target=\"_blank\" href=\"/company/om-software#reviews\" itemprop=\"url\" title=\"Review count of OM SOFTWARE PVT LTD\" class=\"list-service-profile-visit review-container review_url\"><span class=\"star-container\"><span class=\"profile-star\"></span><span class=\"fstar\" style=\"width:98%\"></span></span><span class=\"listinv_review_label\">4.9 (30 Reviews)</span></a>\n",
       "</div>\n",
       "<p class=\"profile-tagline\">WE BUILD WEB & APPS , THAT BUILD YOUR BUSINESS</p>\n",
       "</div>\n",
       "<div class=\"profile-flex\">\n",
       "<p class=\"profile-short-info\">\n",
       "Established in 2004, OM Software is a web development firm specializing in eBusiness optimization solutions for companies across the globe. OM Software offers a complete range of web-based application services including strategic consulting, prototype development, site architecture planning, creative graphic design and ... <a target=\"_blank\" class=\"c_read_more detail_page list-service-profile-visit\" href=\"/company/om-software\">learn more about OM SOFTWARE PVT LTD</a> </p>\n",
       "</div>\n",
       "<div class=\"entity-footer-wrapper\">\n",
       "<div class=\"firm-review full-width\">\n",
       "<div class=\"review-conclusion\">\"Responsive and communicative team!\"</div>\n",
       "<div class=\"reviewer-info\">\n",
       "<span class=\"reviewer-name\">Rex Ishibashi, Co-Founder & CEO at Originator</span>\n",
       "<span class=\"verified-icon\" data-toggle=\"tooltip\" data-original-title=\"Verified\">\n",
       "<svg xmlns=\"http://www.w3.org/2000/svg\" width=\"13\" height=\"15\" xmlns:v=\"https://vecta.io/nano\"><path d=\"M13.28 5.354l-1.661 2.035-.003.205c-.014.137-.016.28-.009.429l-.02.628a3.36 3.36 0 0 1-.101.694c-.168.596-.484 1.143-.903 1.647a7.5 7.5 0 0 1-.612.651l-.174.159-.092.081-.084.071-.131.109-.028.022-.248.191-.136.1-.047.033c-.698.492-1.462.888-2.259 1.236a.36.36 0 0 1-.133.029c-.044-.001-.09-.01-.126-.026-.804-.351-1.568-.747-2.266-1.239l-.047-.033-.135-.1-.248-.191-.028-.022-.131-.109-.084-.071-.092-.081-.171-.155c-.218-.206-.422-.422-.615-.655-.419-.504-.735-1.051-.903-1.647a3.36 3.36 0 0 1-.101-.694l-.02-.628c.008-.149.005-.292-.009-.429V4.107c0-.063.099-.171.166-.183 1.076-.199 2.09-.549 3.057-1.013a13.06 13.06 0 0 0 1.38-.753l.156-.096c.062-.039.117-.062.169-.072l.046-.004a.28.28 0 0 1 .036.003c.062.01.117.034.179.073l.156.096c.446.279.906.53 1.38.753l1.177.496 1.338-1.318c-.655-.189-1.277-.429-1.872-.714l-.347-.179C8.074.866 7.491.476 6.9.103L6.856.073C6.78.018 6.71-.003 6.64 0c-.07-.003-.14.018-.216.072l-.044.031-1.788 1.092-.347.179c-.64.306-1.31.562-2.02.757-.575.156-1.171.255-1.784.293-.369.022-.435.084-.435.447l.005 2.273-.009.163L0 8.229v.027c.006 1.82.798 3.268 2.07 4.49l.119.111.045.042.09.083c.626.568 1.312 1.046 2.043 1.456l.051.028.158.086a15.69 15.69 0 0 0 1.854.846c.038.015.081.025.125.03l.007.001.029.003.025.002h.024.025l.025-.002.029-.003.007-.001c.044-.006.087-.016.125-.03a15.68 15.68 0 0 0 1.854-.846l.159-.087.05-.028a11.12 11.12 0 0 0 2.043-1.456l.09-.083.045-.042.119-.111c1.272-1.221 2.064-2.669 2.07-4.476v-.041l-.001-2.875\" fill=\"#757982\" /><path d=\"M10.151 4.282L13.51.828c.34-.348.527-.35.89-.025l.298.266c.278.261.298.493.063.785l-2.305 2.855-5.319 6.583c-.326.397-.713.386-.998-.049L4.152 8.158 2.923 6.219c-.215-.34-.17-.568.156-.811l.32-.24c.361-.271.561-.255.858.075l2.205 2.45.186.195 3.504-3.606z\" fill=\"#20c321\" /></svg>\n",
       "</span>\n",
       "</div>\n",
       "</div>\n",
       "</div>\n",
       "</div>\n",
       "<div class=\"firms-r\">\n",
       "<a target=\"_blank\" class=\"visit-website linkbtn list-service-website-visit old-btn\" rel=\"nofollow\" href=\"http://www.omsoftware.net/\">Visit website</a>\n",
       "<div class=\"firms-services clearfix\">\n",
       "<div class=\"firm-pricing\">\n",
       "< $25/hr </div>\n",
       "<div class=\"firm-employees\">50 - 249</div>\n",
       "<div class=\"firm-founded\">2008</div>\n",
       "<div class=\"firm-location\">\n",
       "India, United States </div>\n",
       "</div>\n",
       "</div>\n",
       "</div>\n",
       "</li><li class=\"service-provider\" id=\"consagous-technologies\"> <div itemprop=\"itemListElement\" itemscope=\"\" itemtype=\"https://schema.org/ListItem\" class=\"service-entity newentitysection\" entity-name=\"Consagous Technologies\" entity-id=\"911\">\n",
       "<div class=\"firms-l\">\n",
       "<div class=\"entity-header-wrapper\">\n",
       "<meta itemprop=\"position\" content=\"64\" />\n",
       "<a class=\"company-logo company-image-ling detail_page list-service-profile-visit\" href=\"/company/consagous-technologies\" target=\"_blank\"><img style=\"height:auto;width:inherit\" content=\"https://goodfirms-prod.s3.amazonaws.com/services/general/consagous-technologies.png\" src=\"/img/goodfirms-loader-logo.svg\" alt=\"Consagous Technologies\" class=\"lazy\" lsrc=\"https://goodfirms-prod.s3.amazonaws.com/services/general/consagous-technologies.png\" width=\"85\" height=\"85\" /></a>\n",
       "<h3><a class=\"c_name_head detail_page list-service-profile-visit\" href=\"/company/consagous-technologies\" target=\"_blank\"><span itemprop=\"name\">Consagous Technologies</span></a></h3>\n",
       "<div class=\"profile-star-link\">\n",
       "<a target=\"_blank\" href=\"/company/consagous-technologies#reviews\" itemprop=\"url\" title=\"Review count of Consagous Technologies\" class=\"list-service-profile-visit review-container review_url\"><span class=\"star-container\"><span class=\"profile-star\"></span><span class=\"fstar\" style=\"width:96%\"></span></span><span class=\"listinv_review_label\">4.8 (32 Reviews)</span></a>\n",
       "</div>\n",
       "<p class=\"profile-tagline\">Helping brands by being their Technology Partner</p>\n",
       "</div>\n",
       "<div class=\"profile-flex\">\n",
       "<p class=\"profile-short-info\">\n",
       "We&rsquo;re passionate to code your success &amp; embark on our resolution &#39;Grow IT Together&#39;&nbsp;&nbsp;\n",
       "Consagous Technologies is specialized in IT consulting &amp; crafting top-notch custom web and mobile solutions across the globe. We have established our benchmark in the app market &amp; have been ran ... <a target=\"_blank\" class=\"c_read_more detail_page list-service-profile-visit\" href=\"/company/consagous-technologies\">learn more about Consagous Technologies</a> </p>\n",
       "</div>\n",
       "<div class=\"entity-footer-wrapper\">\n",
       "<div class=\"firm-review full-width\">\n",
       "<div class=\"review-conclusion\">\"Complex App, A++ Build by Consagous\"</div>\n",
       "<div class=\"reviewer-info\">\n",
       "<span class=\"reviewer-name\">Byron Gasaway LSSBB, Co-Founder at CheapEatz LLC </span>\n",
       "<span class=\"verified-icon\" data-toggle=\"tooltip\" data-original-title=\"Verified\">\n",
       "<svg xmlns=\"http://www.w3.org/2000/svg\" width=\"13\" height=\"15\" xmlns:v=\"https://vecta.io/nano\"><path d=\"M13.28 5.354l-1.661 2.035-.003.205c-.014.137-.016.28-.009.429l-.02.628a3.36 3.36 0 0 1-.101.694c-.168.596-.484 1.143-.903 1.647a7.5 7.5 0 0 1-.612.651l-.174.159-.092.081-.084.071-.131.109-.028.022-.248.191-.136.1-.047.033c-.698.492-1.462.888-2.259 1.236a.36.36 0 0 1-.133.029c-.044-.001-.09-.01-.126-.026-.804-.351-1.568-.747-2.266-1.239l-.047-.033-.135-.1-.248-.191-.028-.022-.131-.109-.084-.071-.092-.081-.171-.155c-.218-.206-.422-.422-.615-.655-.419-.504-.735-1.051-.903-1.647a3.36 3.36 0 0 1-.101-.694l-.02-.628c.008-.149.005-.292-.009-.429V4.107c0-.063.099-.171.166-.183 1.076-.199 2.09-.549 3.057-1.013a13.06 13.06 0 0 0 1.38-.753l.156-.096c.062-.039.117-.062.169-.072l.046-.004a.28.28 0 0 1 .036.003c.062.01.117.034.179.073l.156.096c.446.279.906.53 1.38.753l1.177.496 1.338-1.318c-.655-.189-1.277-.429-1.872-.714l-.347-.179C8.074.866 7.491.476 6.9.103L6.856.073C6.78.018 6.71-.003 6.64 0c-.07-.003-.14.018-.216.072l-.044.031-1.788 1.092-.347.179c-.64.306-1.31.562-2.02.757-.575.156-1.171.255-1.784.293-.369.022-.435.084-.435.447l.005 2.273-.009.163L0 8.229v.027c.006 1.82.798 3.268 2.07 4.49l.119.111.045.042.09.083c.626.568 1.312 1.046 2.043 1.456l.051.028.158.086a15.69 15.69 0 0 0 1.854.846c.038.015.081.025.125.03l.007.001.029.003.025.002h.024.025l.025-.002.029-.003.007-.001c.044-.006.087-.016.125-.03a15.68 15.68 0 0 0 1.854-.846l.159-.087.05-.028a11.12 11.12 0 0 0 2.043-1.456l.09-.083.045-.042.119-.111c1.272-1.221 2.064-2.669 2.07-4.476v-.041l-.001-2.875\" fill=\"#757982\" /><path d=\"M10.151 4.282L13.51.828c.34-.348.527-.35.89-.025l.298.266c.278.261.298.493.063.785l-2.305 2.855-5.319 6.583c-.326.397-.713.386-.998-.049L4.152 8.158 2.923 6.219c-.215-.34-.17-.568.156-.811l.32-.24c.361-.271.561-.255.858.075l2.205 2.45.186.195 3.504-3.606z\" fill=\"#20c321\" /></svg>\n",
       "</span>\n",
       "</div>\n",
       "</div>\n",
       "</div>\n",
       "</div>\n",
       "<div class=\"firms-r\">\n",
       "<a target=\"_blank\" class=\"visit-website linkbtn list-service-website-visit old-btn\" rel=\"nofollow\" href=\"https://www.consagous.co/\">Visit website</a>\n",
       "<div class=\"firms-services clearfix\">\n",
       "<div class=\"firm-pricing\">\n",
       "$25 - $49/hr </div>\n",
       "<div class=\"firm-employees\">50 - 249</div>\n",
       "<div class=\"firm-founded\">2008</div>\n",
       "<div class=\"firm-location\">\n",
       "India, United States </div>\n",
       "</div>\n",
       "</div>\n",
       "</div>\n",
       "</li><li class=\"service-provider\" id=\"vrinsoft-technology\"> <div itemprop=\"itemListElement\" itemscope=\"\" itemtype=\"https://schema.org/ListItem\" class=\"service-entity newentitysection\" entity-name=\"Vrinsoft Technology\" entity-id=\"3176\">\n",
       "<div class=\"firms-l\">\n",
       "<div class=\"entity-header-wrapper\">\n",
       "<meta itemprop=\"position\" content=\"65\" />\n",
       "<a class=\"company-logo company-image-ling detail_page list-service-profile-visit\" href=\"/company/vrinsoft-technology\" target=\"_blank\"><img style=\"height:auto;width:inherit\" content=\"https://goodfirms-prod.s3.amazonaws.com/services/general/3176_59674c7a74693.jpg\" src=\"/img/goodfirms-loader-logo.svg\" alt=\"Vrinsoft Technology\" class=\"lazy\" lsrc=\"https://goodfirms-prod.s3.amazonaws.com/services/general/3176_59674c7a74693.jpg\" width=\"85\" height=\"85\" /></a>\n",
       "<h3><a class=\"c_name_head detail_page list-service-profile-visit\" href=\"/company/vrinsoft-technology\" target=\"_blank\"><span itemprop=\"name\">Vrinsoft Technology</span></a></h3>\n",
       "<div class=\"profile-star-link\">\n",
       "<a target=\"_blank\" href=\"/company/vrinsoft-technology#reviews\" itemprop=\"url\" title=\"Review count of Vrinsoft Technology\" class=\"list-service-profile-visit review-container review_url\"><span class=\"star-container\"><span class=\"profile-star\"></span><span class=\"fstar\" style=\"width:98%\"></span></span><span class=\"listinv_review_label\">4.9 (38 Reviews)</span></a>\n",
       "</div>\n",
       "<p class=\"profile-tagline\">Software & Mobile App Development Company </p>\n",
       "</div>\n",
       "<div class=\"profile-flex\">\n",
       "<p class=\"profile-short-info\">\n",
       "Vrinsoft Technology is a software development company with expertise in .NET, PHP, Iphone&nbsp;App&nbsp;Development, SEO, Web Designing, Graphic Designing, Android Development, IPad, Applewatch, Ibeacon and Phonegap app development. Our Aim to provide best services to our clients, for that we have an expert team of dev ... <a target=\"_blank\" class=\"c_read_more detail_page list-service-profile-visit\" href=\"/company/vrinsoft-technology\">learn more about Vrinsoft Technology</a> </p>\n",
       "</div>\n",
       "<div class=\"entity-footer-wrapper\">\n",
       "<div class=\"firm-review full-width\">\n",
       "<div class=\"review-conclusion\">\"Vrinsoft helped me in increasing my business.\"</div>\n",
       "<div class=\"reviewer-info\">\n",
       "<span class=\"reviewer-name\">Tarnow Chelsey, Regional Office Manager at at Valvoline Inc.</span>\n",
       "<span class=\"verified-icon\" data-toggle=\"tooltip\" data-original-title=\"Verified\">\n",
       "<svg xmlns=\"http://www.w3.org/2000/svg\" width=\"13\" height=\"15\" xmlns:v=\"https://vecta.io/nano\"><path d=\"M13.28 5.354l-1.661 2.035-.003.205c-.014.137-.016.28-.009.429l-.02.628a3.36 3.36 0 0 1-.101.694c-.168.596-.484 1.143-.903 1.647a7.5 7.5 0 0 1-.612.651l-.174.159-.092.081-.084.071-.131.109-.028.022-.248.191-.136.1-.047.033c-.698.492-1.462.888-2.259 1.236a.36.36 0 0 1-.133.029c-.044-.001-.09-.01-.126-.026-.804-.351-1.568-.747-2.266-1.239l-.047-.033-.135-.1-.248-.191-.028-.022-.131-.109-.084-.071-.092-.081-.171-.155c-.218-.206-.422-.422-.615-.655-.419-.504-.735-1.051-.903-1.647a3.36 3.36 0 0 1-.101-.694l-.02-.628c.008-.149.005-.292-.009-.429V4.107c0-.063.099-.171.166-.183 1.076-.199 2.09-.549 3.057-1.013a13.06 13.06 0 0 0 1.38-.753l.156-.096c.062-.039.117-.062.169-.072l.046-.004a.28.28 0 0 1 .036.003c.062.01.117.034.179.073l.156.096c.446.279.906.53 1.38.753l1.177.496 1.338-1.318c-.655-.189-1.277-.429-1.872-.714l-.347-.179C8.074.866 7.491.476 6.9.103L6.856.073C6.78.018 6.71-.003 6.64 0c-.07-.003-.14.018-.216.072l-.044.031-1.788 1.092-.347.179c-.64.306-1.31.562-2.02.757-.575.156-1.171.255-1.784.293-.369.022-.435.084-.435.447l.005 2.273-.009.163L0 8.229v.027c.006 1.82.798 3.268 2.07 4.49l.119.111.045.042.09.083c.626.568 1.312 1.046 2.043 1.456l.051.028.158.086a15.69 15.69 0 0 0 1.854.846c.038.015.081.025.125.03l.007.001.029.003.025.002h.024.025l.025-.002.029-.003.007-.001c.044-.006.087-.016.125-.03a15.68 15.68 0 0 0 1.854-.846l.159-.087.05-.028a11.12 11.12 0 0 0 2.043-1.456l.09-.083.045-.042.119-.111c1.272-1.221 2.064-2.669 2.07-4.476v-.041l-.001-2.875\" fill=\"#757982\" /><path d=\"M10.151 4.282L13.51.828c.34-.348.527-.35.89-.025l.298.266c.278.261.298.493.063.785l-2.305 2.855-5.319 6.583c-.326.397-.713.386-.998-.049L4.152 8.158 2.923 6.219c-.215-.34-.17-.568.156-.811l.32-.24c.361-.271.561-.255.858.075l2.205 2.45.186.195 3.504-3.606z\" fill=\"#20c321\" /></svg>\n",
       "</span>\n",
       "</div>\n",
       "</div>\n",
       "</div>\n",
       "</div>\n",
       "<div class=\"firms-r\">\n",
       "<a target=\"_blank\" class=\"visit-website linkbtn list-service-website-visit old-btn\" rel=\"nofollow\" href=\"http://www.vrinsofts.com\">Visit website</a>\n",
       "<div class=\"firms-services clearfix\">\n",
       "<div class=\"firm-pricing\">\n",
       "< $25/hr </div>\n",
       "<div class=\"firm-employees\">50 - 249</div>\n",
       "<div class=\"firm-founded\">2007</div>\n",
       "<div class=\"firm-location\">\n",
       "India, United States </div>\n",
       "</div>\n",
       "</div>\n",
       "</div>\n",
       "</li><li class=\"service-provider\" id=\"dev-technosys-pvt-ltd\"> <div itemprop=\"itemListElement\" itemscope=\"\" itemtype=\"https://schema.org/ListItem\" class=\"service-entity newentitysection\" entity-name=\"Dev Technosys LLC\" entity-id=\"1242\">\n",
       "<div class=\"firms-l\">\n",
       " <div class=\"entity-header-wrapper\">\n",
       "<meta itemprop=\"position\" content=\"66\" />\n",
       "<a class=\"company-logo company-image-ling detail_page list-service-profile-visit\" href=\"/company/dev-technosys-pvt-ltd\" target=\"_blank\"><img style=\"height:auto;width:inherit\" content=\"https://goodfirms-prod.s3.amazonaws.com/services/general/1242_5a424a06c6350.jpg\" src=\"/img/goodfirms-loader-logo.svg\" alt=\"Dev Technosys LLC\" class=\"lazy\" lsrc=\"https://goodfirms-prod.s3.amazonaws.com/services/general/1242_5a424a06c6350.jpg\" width=\"85\" height=\"85\" /></a>\n",
       "<h3><a class=\"c_name_head detail_page list-service-profile-visit\" href=\"/company/dev-technosys-pvt-ltd\" target=\"_blank\"><span itemprop=\"name\">Dev Technosys LLC</span></a></h3>\n",
       "<div class=\"profile-star-link\">\n",
       "<a target=\"_blank\" href=\"/company/dev-technosys-pvt-ltd#reviews\" itemprop=\"url\" title=\"Review count of Dev Technosys LLC\" class=\"list-service-profile-visit review-container review_url\"><span class=\"star-container\"><span class=\"profile-star\"></span><span class=\"fstar\" style=\"width:96%\"></span></span><span class=\"listinv_review_label\">4.8 (25 Reviews)</span></a>\n",
       "</div>\n",
       "<p class=\"profile-tagline\">Inspired By Thoughts</p>\n",
       "</div>\n",
       "<div class=\"profile-flex\">\n",
       "<p class=\"profile-short-info\">\n",
       "DevTechnosys is an ISO 9001:2008 certified Website &amp; Mobile App Development Company. Over a period of 8 years ever since our inception, we have consistently raised the bar for our competitors delivering them unbeatable Tech-solutions. With a notion of &ldquo;bringing IT to life,&rdquo; we rendered to our clients wi ... <a target=\"_blank\" class=\"c_read_more detail_page list-service-profile-visit\" href=\"/company/dev-technosys-pvt-ltd\">learn more about Dev Technosys LLC</a> </p>\n",
       "</div>\n",
       "<div class=\"entity-footer-wrapper\">\n",
       "<div class=\"firm-review full-width\">\n",
       "<div class=\"review-conclusion\">\"Quick & communicative. \"</div>\n",
       "<div class=\"reviewer-info\">\n",
       "<span class=\"reviewer-name\">Ned Murphy, Office Manager at Utah Headstone Design</span>\n",
       "<span class=\"verified-icon\" data-toggle=\"tooltip\" data-original-title=\"Verified\">\n",
       "<svg xmlns=\"http://www.w3.org/2000/svg\" width=\"13\" height=\"15\" xmlns:v=\"https://vecta.io/nano\"><path d=\"M13.28 5.354l-1.661 2.035-.003.205c-.014.137-.016.28-.009.429l-.02.628a3.36 3.36 0 0 1-.101.694c-.168.596-.484 1.143-.903 1.647a7.5 7.5 0 0 1-.612.651l-.174.159-.092.081-.084.071-.131.109-.028.022-.248.191-.136.1-.047.033c-.698.492-1.462.888-2.259 1.236a.36.36 0 0 1-.133.029c-.044-.001-.09-.01-.126-.026-.804-.351-1.568-.747-2.266-1.239l-.047-.033-.135-.1-.248-.191-.028-.022-.131-.109-.084-.071-.092-.081-.171-.155c-.218-.206-.422-.422-.615-.655-.419-.504-.735-1.051-.903-1.647a3.36 3.36 0 0 1-.101-.694l-.02-.628c.008-.149.005-.292-.009-.429V4.107c0-.063.099-.171.166-.183 1.076-.199 2.09-.549 3.057-1.013a13.06 13.06 0 0 0 1.38-.753l.156-.096c.062-.039.117-.062.169-.072l.046-.004a.28.28 0 0 1 .036.003c.062.01.117.034.179.073l.156.096c.446.279.906.53 1.38.753l1.177.496 1.338-1.318c-.655-.189-1.277-.429-1.872-.714l-.347-.179C8.074.866 7.491.476 6.9.103L6.856.073C6.78.018 6.71-.003 6.64 0c-.07-.003-.14.018-.216.072l-.044.031-1.788 1.092-.347.179c-.64.306-1.31.562-2.02.757-.575.156-1.171.255-1.784.293-.369.022-.435.084-.435.447l.005 2.273-.009.163L0 8.229v.027c.006 1.82.798 3.268 2.07 4.49l.119.111.045.042.09.083c.626.568 1.312 1.046 2.043 1.456l.051.028.158.086a15.69 15.69 0 0 0 1.854.846c.038.015.081.025.125.03l.007.001.029.003.025.002h.024.025l.025-.002.029-.003.007-.001c.044-.006.087-.016.125-.03a15.68 15.68 0 0 0 1.854-.846l.159-.087.05-.028a11.12 11.12 0 0 0 2.043-1.456l.09-.083.045-.042.119-.111c1.272-1.221 2.064-2.669 2.07-4.476v-.041l-.001-2.875\" fill=\"#757982\" /><path d=\"M10.151 4.282L13.51.828c.34-.348.527-.35.89-.025l.298.266c.278.261.298.493.063.785l-2.305 2.855-5.319 6.583c-.326.397-.713.386-.998-.049L4.152 8.158 2.923 6.219c-.215-.34-.17-.568.156-.811l.32-.24c.361-.271.561-.255.858.075l2.205 2.45.186.195 3.504-3.606z\" fill=\"#20c321\" /></svg>\n",
       "</span>\n",
       "</div>\n",
       "</div>\n",
       "</div>\n",
       "</div>\n",
       "<div class=\"firms-r\">\n",
       "<a target=\"_blank\" class=\"visit-website linkbtn list-service-website-visit old-btn\" rel=\"nofollow\" href=\"http://www.devtechnosys.com/\">Visit website</a>\n",
       "<div class=\"firms-services clearfix\">\n",
       "<div class=\"firm-pricing\">\n",
       "< $25/hr </div>\n",
       "<div class=\"firm-employees\">50 - 249</div>\n",
       "<div class=\"firm-founded\">2010</div>\n",
       "<div class=\"firm-location\">\n",
       "United Arab Emirates, Ireland </div>\n",
       "</div>\n",
       "</div>\n",
       "</div>\n",
       "</li><li class=\"service-provider\" id=\"tvisha-technologies-inc\"> <div itemprop=\"itemListElement\" itemscope=\"\" itemtype=\"https://schema.org/ListItem\" class=\"service-entity newentitysection\" entity-name=\"Tvisha Technologies Inc\" entity-id=\"3411\">\n",
       "<div class=\"firms-l\">\n",
       "<div class=\"entity-header-wrapper\">\n",
       "<meta itemprop=\"position\" content=\"67\" />\n",
       "<a class=\"company-logo company-image-ling detail_page list-service-profile-visit\" href=\"/company/tvisha-technologies-inc\" target=\"_blank\"><img style=\"height:auto;width:inherit\" content=\"https://goodfirms-prod.s3.amazonaws.com/services/general/3411_596deef2e75c3.jpg\" src=\"/img/goodfirms-loader-logo.svg\" alt=\"Tvisha Technologies Inc\" class=\"lazy\" lsrc=\"https://goodfirms-prod.s3.amazonaws.com/services/general/3411_596deef2e75c3.jpg\" width=\"85\" height=\"85\" /></a>\n",
       "<h3><a class=\"c_name_head detail_page list-service-profile-visit\" href=\"/company/tvisha-technologies-inc\" target=\"_blank\"><span itemprop=\"name\">Tvisha Technologies Inc</span></a></h3>\n",
       "<div class=\"profile-star-link\">\n",
       "<a target=\"_blank\" href=\"/company/tvisha-technologies-inc#reviews\" itemprop=\"url\" title=\"Review count of Tvisha Technologies Inc\" class=\"list-service-profile-visit review-container review_url\"><span class=\"star-container\"><span class=\"profile-star\"></span><span class=\"fstar\" style=\"width:98%\"></span></span><span class=\"listinv_review_label\">4.9 (41 Reviews)</span></a>\n",
       "</div>\n",
       "<p class=\"profile-tagline\">Mobile App Development Company</p>\n",
       "</div>\n",
       "<div class=\"profile-flex\">\n",
       "<p class=\"profile-short-info\">\n",
       "The fast-gliding technology arena has spurred Tvisha Technologies&nbsp;creative juices to come up with immaculate products &amp; services. Our bouquet of services encompasses a wide spectrum of needs of enterprises in the tech world. Tvisha has created a niche space for itself in mobile app development, software develo ... <a target=\"_blank\" class=\"c_read_more detail_page list-service-profile-visit\" href=\"/company/tvisha-technologies-inc\">learn more about Tvisha Technologies Inc</a> </p>\n",
       "</div>\n",
       "<div class=\"entity-footer-wrapper\">\n",
       "<div class=\"firm-review full-width\">\n",
       "<div class=\"review-conclusion\">\"Mobile App Development for our Fitness and The Health Industry \"</div>\n",
       "<div class=\"reviewer-info\">\n",
       "<span class=\"reviewer-name\">manoj shankar, sales and marketing associate at concentrix</span>\n",
       "<span class=\"verified-icon\" data-toggle=\"tooltip\" data-original-title=\"Verified\">\n",
       "<svg xmlns=\"http://www.w3.org/2000/svg\" width=\"13\" height=\"15\" xmlns:v=\"https://vecta.io/nano\"><path d=\"M13.28 5.354l-1.661 2.035-.003.205c-.014.137-.016.28-.009.429l-.02.628a3.36 3.36 0 0 1-.101.694c-.168.596-.484 1.143-.903 1.647a7.5 7.5 0 0 1-.612.651l-.174.159-.092.081-.084.071-.131.109-.028.022-.248.191-.136.1-.047.033c-.698.492-1.462.888-2.259 1.236a.36.36 0 0 1-.133.029c-.044-.001-.09-.01-.126-.026-.804-.351-1.568-.747-2.266-1.239l-.047-.033-.135-.1-.248-.191-.028-.022-.131-.109-.084-.071-.092-.081-.171-.155c-.218-.206-.422-.422-.615-.655-.419-.504-.735-1.051-.903-1.647a3.36 3.36 0 0 1-.101-.694l-.02-.628c.008-.149.005-.292-.009-.429V4.107c0-.063.099-.171.166-.183 1.076-.199 2.09-.549 3.057-1.013a13.06 13.06 0 0 0 1.38-.753l.156-.096c.062-.039.117-.062.169-.072l.046-.004a.28.28 0 0 1 .036.003c.062.01.117.034.179.073l.156.096c.446.279.906.53 1.38.753l1.177.496 1.338-1.318c-.655-.189-1.277-.429-1.872-.714l-.347-.179C8.074.866 7.491.476 6.9.103L6.856.073C6.78.018 6.71-.003 6.64 0c-.07-.003-.14.018-.216.072l-.044.031-1.788 1.092-.347.179c-.64.306-1.31.562-2.02.757-.575.156-1.171.255-1.784.293-.369.022-.435.084-.435.447l.005 2.273-.009.163L0 8.229v.027c.006 1.82.798 3.268 2.07 4.49l.119.111.045.042.09.083c.626.568 1.312 1.046 2.043 1.456l.051.028.158.086a15.69 15.69 0 0 0 1.854.846c.038.015.081.025.125.03l.007.001.029.003.025.002h.024.025l.025-.002.029-.003.007-.001c.044-.006.087-.016.125-.03a15.68 15.68 0 0 0 1.854-.846l.159-.087.05-.028a11.12 11.12 0 0 0 2.043-1.456l.09-.083.045-.042.119-.111c1.272-1.221 2.064-2.669 2.07-4.476v-.041l-.001-2.875\" fill=\"#757982\" /><path d=\"M10.151 4.282L13.51.828c.34-.348.527-.35.89-.025l.298.266c.278.261.298.493.063.785l-2.305 2.855-5.319 6.583c-.326.397-.713.386-.998-.049L4.152 8.158 2.923 6.219c-.215-.34-.17-.568.156-.811l.32-.24c.361-.271.561-.255.858.075l2.205 2.45.186.195 3.504-3.606z\" fill=\"#20c321\" /></svg>\n",
       "</span>\n",
       "</div>\n",
       "</div>\n",
       "</div>\n",
       "</div>\n",
       "<div class=\"firms-r\">\n",
       "<a target=\"_blank\" class=\"visit-website linkbtn list-service-website-visit old-btn\" rel=\"nofollow\" href=\"http://www.tvisha.com\">Visit website</a>\n",
       "<div class=\"firms-services clearfix\">\n",
       "<div class=\"firm-pricing\">\n",
       "< $25/hr </div>\n",
       "<div class=\"firm-employees\">50 - 249</div>\n",
       "<div class=\"firm-founded\">2002</div>\n",
       "<div class=\"firm-location\">\n",
       "United States, India </div>\n",
       "</div>\n",
       "</div>\n",
       "</div>\n",
       "</li><li class=\"service-provider\" id=\"websailors\"> <div itemprop=\"itemListElement\" itemscope=\"\" itemtype=\"https://schema.org/ListItem\" class=\"service-entity newentitysection\" entity-name=\"WebSailors\" entity-id=\"29061\">\n",
       "<div class=\"firms-l\">\n",
       "<div class=\"entity-header-wrapper\">\n",
       "<meta itemprop=\"position\" content=\"68\" />\n",
       "<a class=\"company-logo company-image-ling detail_page list-service-profile-visit\" href=\"/company/websailors\" target=\"_blank\"><img style=\"height:auto;width:inherit\" content=\"https://goodfirms-prod.s3.amazonaws.com/services/general/websailors.png\" src=\"/img/goodfirms-loader-logo.svg\" alt=\"WebSailors\" class=\"lazy\" lsrc=\"https://goodfirms-prod.s3.amazonaws.com/services/general/websailors.png\" width=\"85\" height=\"85\" /></a>\n",
       "<h3><a class=\"c_name_head detail_page list-service-profile-visit\" href=\"/company/websailors\" target=\"_blank\"><span itemprop=\"name\">WebSailors</span></a></h3>\n",
       "<div class=\"profile-star-link\">\n",
       "<a target=\"_blank\" href=\"/company/websailors#reviews\" itemprop=\"url\" title=\"Review count of WebSailors\" class=\"list-service-profile-visit review-container review_url\"><span class=\"star-container\"><span class=\"profile-star\"></span><span class=\"fstar\" style=\"width:100%\"></span></span><span class=\"listinv_review_label\">5.0 (16 Reviews)</span></a>\n",
       "</div>\n",
       "<p class=\"profile-tagline\">✔️ Web | ✔️ SaaS | ✔️ Mobile | ✔️ Design | ✔️ QA</p>\n",
       "</div>\n",
       "<div class=\"profile-flex\">\n",
       "<p class=\"profile-short-info\">\n",
       "WebSailors.pro is a highly professional company, focused on developing complex Web and Mobile Solutions and Systems, with more than 7 years on market and has branches in Europe, Asia and North America.\n",
       "Our wealth experience includes a lot of successfully implemented projects for customers from all over the world in ... <a target=\"_blank\" class=\"c_read_more detail_page list-service-profile-visit\" href=\"/company/websailors\">learn more about WebSailors</a> </p>\n",
       "</div>\n",
       "<div class=\"entity-footer-wrapper\">\n",
       "<div class=\"firm-review full-width\">\n",
       "<div class=\"review-conclusion\">\"We were pleased with the results and plan to work with them again\"</div>\n",
       "<div class=\"reviewer-info\">\n",
       "<span class=\"reviewer-name\">Igor Tsymbalist</span>\n",
       "<span class=\"verified-icon\" data-toggle=\"tooltip\" data-original-title=\"Verified\">\n",
       "<svg xmlns=\"http://www.w3.org/2000/svg\" width=\"13\" height=\"15\" xmlns:v=\"https://vecta.io/nano\"><path d=\"M13.28 5.354l-1.661 2.035-.003.205c-.014.137-.016.28-.009.429l-.02.628a3.36 3.36 0 0 1-.101.694c-.168.596-.484 1.143-.903 1.647a7.5 7.5 0 0 1-.612.651l-.174.159-.092.081-.084.071-.131.109-.028.022-.248.191-.136.1-.047.033c-.698.492-1.462.888-2.259 1.236a.36.36 0 0 1-.133.029c-.044-.001-.09-.01-.126-.026-.804-.351-1.568-.747-2.266-1.239l-.047-.033-.135-.1-.248-.191-.028-.022-.131-.109-.084-.071-.092-.081-.171-.155c-.218-.206-.422-.422-.615-.655-.419-.504-.735-1.051-.903-1.647a3.36 3.36 0 0 1-.101-.694l-.02-.628c.008-.149.005-.292-.009-.429V4.107c0-.063.099-.171.166-.183 1.076-.199 2.09-.549 3.057-1.013a13.06 13.06 0 0 0 1.38-.753l.156-.096c.062-.039.117-.062.169-.072l.046-.004a.28.28 0 0 1 .036.003c.062.01.117.034.179.073l.156.096c.446.279.906.53 1.38.753l1.177.496 1.338-1.318c-.655-.189-1.277-.429-1.872-.714l-.347-.179C8.074.866 7.491.476 6.9.103L6.856.073C6.78.018 6.71-.003 6.64 0c-.07-.003-.14.018-.216.072l-.044.031-1.788 1.092-.347.179c-.64.306-1.31.562-2.02.757-.575.156-1.171.255-1.784.293-.369.022-.435.084-.435.447l.005 2.273-.009.163L0 8.229v.027c.006 1.82.798 3.268 2.07 4.49l.119.111.045.042.09.083c.626.568 1.312 1.046 2.043 1.456l.051.028.158.086a15.69 15.69 0 0 0 1.854.846c.038.015.081.025.125.03l.007.001.029.003.025.002h.024.025l.025-.002.029-.003.007-.001c.044-.006.087-.016.125-.03a15.68 15.68 0 0 0 1.854-.846l.159-.087.05-.028a11.12 11.12 0 0 0 2.043-1.456l.09-.083.045-.042.119-.111c1.272-1.221 2.064-2.669 2.07-4.476v-.041l-.001-2.875\" fill=\"#757982\" /><path d=\"M10.151 4.282L13.51.828c.34-.348.527-.35.89-.025l.298.266c.278.261.298.493.063.785l-2.305 2.855-5.319 6.583c-.326.397-.713.386-.998-.049L4.152 8.158 2.923 6.219c-.215-.34-.17-.568.156-.811l.32-.24c.361-.271.561-.255.858.075l2.205 2.45.186.195 3.504-3.606z\" fill=\"#20c321\" /></svg>\n",
       "</span>\n",
       "</div>\n",
       "</div>\n",
       "</div>\n",
       "</div>\n",
       "<div class=\"firms-r\">\n",
       "<a target=\"_blank\" class=\"visit-website linkbtn list-service-website-visit old-btn\" rel=\"nofollow\" href=\"https://websailors.pro/\">Visit website</a>\n",
       "<div class=\"firms-services clearfix\">\n",
       "<div class=\"firm-pricing\">\n",
       "$25 - $49/hr </div>\n",
       "<div class=\"firm-employees\">10 - 49</div>\n",
       "<div class=\"firm-founded\">2013</div>\n",
       "<div class=\"firm-location\">\n",
       "United Arab Emirates, Singapore </div>\n",
       "</div>\n",
       "</div>\n",
       "</div>\n",
       "</li><li class=\"service-provider\" id=\"it-path-solutions\"> <div itemprop=\"itemListElement\" itemscope=\"\" itemtype=\"https://schema.org/ListItem\" class=\"service-entity newentitysection\" entity-name=\"IT Path Solutions\" entity-id=\"17346\">\n",
       "<div class=\"firms-l\">\n",
       "<div class=\"entity-header-wrapper\">\n",
       "<meta itemprop=\"position\" content=\"69\" />\n",
       "<a class=\"company-logo company-image-ling detail_page list-service-profile-visit\" href=\"/company/it-path-solutions\" target=\"_blank\"><img style=\"height:auto;width:inherit\" content=\"https://goodfirms-prod.s3.amazonaws.com/services/general/it-path-solutions.jpg\" src=\"/img/goodfirms-loader-logo.svg\" alt=\"IT Path Solutions\" class=\"lazy\" lsrc=\"https://goodfirms-prod.s3.amazonaws.com/services/general/it-path-solutions.jpg\" width=\"85\" height=\"85\" /></a>\n",
       "<h3><a class=\"c_name_head detail_page list-service-profile-visit\" href=\"/company/it-path-solutions\" target=\"_blank\"><span itemprop=\"name\">IT Path Solutions</span></a></h3>\n",
       "\n",
       "<div class=\"profile-star-link\">\n",
       "<a target=\"_blank\" href=\"/company/it-path-solutions#reviews\" itemprop=\"url\" title=\"Review count of IT Path Solutions\" class=\"list-service-profile-visit review-container review_url\"><span class=\"star-container\"><span class=\"profile-star\"></span><span class=\"fstar\" style=\"width:96%\"></span></span><span class=\"listinv_review_label\">4.8 (23 Reviews)</span></a>\n",
       "</div>\n",
       "<p class=\"profile-tagline\">Path to Deliver Solutions</p>\n",
       "</div>\n",
       "<div class=\"profile-flex\">\n",
       "<p class=\"profile-short-info\">\n",
       "IT Path Solutions&nbsp;is one of the&nbsp;leading tech consulting &amp; solution development company&nbsp;based in the US, UK and headquartered in India with 2 development centers.\n",
       "We are global innovation partners and have pioneered the services over the last 10 years having successfully worked with 29+ countries, ... <a target=\"_blank\" class=\"c_read_more detail_page list-service-profile-visit\" href=\"/company/it-path-solutions\">learn more about IT Path Solutions</a> </p>\n",
       "</div>\n",
       "<div class=\"entity-footer-wrapper\">\n",
       "<div class=\"firm-review full-width\">\n",
       "<div class=\"review-conclusion\">\"How come they are such experts? Wouldn't imagine that previously.\"</div>\n",
       "<div class=\"reviewer-info\">\n",
       "<span class=\"reviewer-name\">Bar Goldinfeld, Owner at L&A Technologies LTD</span>\n",
       "<span class=\"verified-icon\" data-toggle=\"tooltip\" data-original-title=\"Verified\">\n",
       "<svg xmlns=\"http://www.w3.org/2000/svg\" width=\"13\" height=\"15\" xmlns:v=\"https://vecta.io/nano\"><path d=\"M13.28 5.354l-1.661 2.035-.003.205c-.014.137-.016.28-.009.429l-.02.628a3.36 3.36 0 0 1-.101.694c-.168.596-.484 1.143-.903 1.647a7.5 7.5 0 0 1-.612.651l-.174.159-.092.081-.084.071-.131.109-.028.022-.248.191-.136.1-.047.033c-.698.492-1.462.888-2.259 1.236a.36.36 0 0 1-.133.029c-.044-.001-.09-.01-.126-.026-.804-.351-1.568-.747-2.266-1.239l-.047-.033-.135-.1-.248-.191-.028-.022-.131-.109-.084-.071-.092-.081-.171-.155c-.218-.206-.422-.422-.615-.655-.419-.504-.735-1.051-.903-1.647a3.36 3.36 0 0 1-.101-.694l-.02-.628c.008-.149.005-.292-.009-.429V4.107c0-.063.099-.171.166-.183 1.076-.199 2.09-.549 3.057-1.013a13.06 13.06 0 0 0 1.38-.753l.156-.096c.062-.039.117-.062.169-.072l.046-.004a.28.28 0 0 1 .036.003c.062.01.117.034.179.073l.156.096c.446.279.906.53 1.38.753l1.177.496 1.338-1.318c-.655-.189-1.277-.429-1.872-.714l-.347-.179C8.074.866 7.491.476 6.9.103L6.856.073C6.78.018 6.71-.003 6.64 0c-.07-.003-.14.018-.216.072l-.044.031-1.788 1.092-.347.179c-.64.306-1.31.562-2.02.757-.575.156-1.171.255-1.784.293-.369.022-.435.084-.435.447l.005 2.273-.009.163L0 8.229v.027c.006 1.82.798 3.268 2.07 4.49l.119.111.045.042.09.083c.626.568 1.312 1.046 2.043 1.456l.051.028.158.086a15.69 15.69 0 0 0 1.854.846c.038.015.081.025.125.03l.007.001.029.003.025.002h.024.025l.025-.002.029-.003.007-.001c.044-.006.087-.016.125-.03a15.68 15.68 0 0 0 1.854-.846l.159-.087.05-.028a11.12 11.12 0 0 0 2.043-1.456l.09-.083.045-.042.119-.111c1.272-1.221 2.064-2.669 2.07-4.476v-.041l-.001-2.875\" fill=\"#757982\" /><path d=\"M10.151 4.282L13.51.828c.34-.348.527-.35.89-.025l.298.266c.278.261.298.493.063.785l-2.305 2.855-5.319 6.583c-.326.397-.713.386-.998-.049L4.152 8.158 2.923 6.219c-.215-.34-.17-.568.156-.811l.32-.24c.361-.271.561-.255.858.075l2.205 2.45.186.195 3.504-3.606z\" fill=\"#20c321\" /></svg>\n",
       "</span>\n",
       "</div>\n",
       "</div>\n",
       "</div>\n",
       "</div>\n",
       "<div class=\"firms-r\">\n",
       "<a target=\"_blank\" class=\"visit-website linkbtn list-service-website-visit old-btn\" rel=\"nofollow\" href=\"http://www.itpathsolutions.com\">Visit website</a>\n",
       "<div class=\"firms-services clearfix\">\n",
       "<div class=\"firm-pricing\">\n",
       "< $25/hr </div>\n",
       "<div class=\"firm-employees\">50 - 249</div>\n",
       "<div class=\"firm-founded\">2012</div>\n",
       "<div class=\"firm-location\">\n",
       "United States, India </div>\n",
       "</div>\n",
       "</div>\n",
       "</div>\n",
       "</li><li class=\"service-provider\" id=\"sam-web-studio\"> <div itemprop=\"itemListElement\" itemscope=\"\" itemtype=\"https://schema.org/ListItem\" class=\"service-entity newentitysection\" entity-name=\"Sam Web Studio\" entity-id=\"4901\">\n",
       "<div class=\"firms-l\">\n",
       "<div class=\"entity-header-wrapper\">\n",
       "<meta itemprop=\"position\" content=\"70\" />\n",
       "<a class=\"company-logo company-image-ling detail_page list-service-profile-visit\" href=\"/company/sam-web-studio\" target=\"_blank\"><img style=\"height:auto;width:inherit\" content=\"https://goodfirms-prod.s3.amazonaws.com/services/general/4901_5b645bc40b3c2.jpg\" src=\"/img/goodfirms-loader-logo.svg\" alt=\"Sam Web Studio\" class=\"lazy\" lsrc=\"https://goodfirms-prod.s3.amazonaws.com/services/general/4901_5b645bc40b3c2.jpg\" width=\"85\" height=\"85\" /></a>\n",
       "<h3><a class=\"c_name_head detail_page list-service-profile-visit\" href=\"/company/sam-web-studio\" target=\"_blank\"><span itemprop=\"name\">Sam Web Studio</span></a></h3>\n",
       "<div class=\"profile-star-link\">\n",
       "<a target=\"_blank\" href=\"/company/sam-web-studio#reviews\" itemprop=\"url\" title=\"Review count of Sam Web Studio\" class=\"list-service-profile-visit review-container review_url\"><span class=\"star-container\"><span class=\"profile-star\"></span><span class=\"fstar\" style=\"width:100%\"></span></span><span class=\"listinv_review_label\">5.0 (17 Reviews)</span></a>\n",
       "</div>\n",
       "<p class=\"profile-tagline\">WEB| MOBILE| BRANDING</p>\n",
       "</div>\n",
       "<div class=\"profile-flex\">\n",
       "<p class=\"profile-short-info\">\n",
       "SAM Web Studio is an approachable and high performing web development, software development, mobile application development &amp; digital marketing company in India, with a passion for making websites work for businesses and organizations. We are committed to providing (search engine optimization) SEO services, as well ... <a target=\"_blank\" class=\"c_read_more detail_page list-service-profile-visit\" href=\"/company/sam-web-studio\">learn more about Sam Web Studio</a> </p>\n",
       "</div>\n",
       "<div class=\"entity-footer-wrapper\">\n",
       "<div class=\"firm-review full-width\">\n",
       "<div class=\"review-conclusion\">\"Great Team\"</div>\n",
       "<div class=\"reviewer-info\">\n",
       "<span class=\"reviewer-name\">Sudhir Singh Rathore, Co-Founder & Managing Director at Surjen</span>\n",
       "<span class=\"verified-icon\" data-toggle=\"tooltip\" data-original-title=\"Verified\">\n",
       "<svg xmlns=\"http://www.w3.org/2000/svg\" width=\"13\" height=\"15\" xmlns:v=\"https://vecta.io/nano\"><path d=\"M13.28 5.354l-1.661 2.035-.003.205c-.014.137-.016.28-.009.429l-.02.628a3.36 3.36 0 0 1-.101.694c-.168.596-.484 1.143-.903 1.647a7.5 7.5 0 0 1-.612.651l-.174.159-.092.081-.084.071-.131.109-.028.022-.248.191-.136.1-.047.033c-.698.492-1.462.888-2.259 1.236a.36.36 0 0 1-.133.029c-.044-.001-.09-.01-.126-.026-.804-.351-1.568-.747-2.266-1.239l-.047-.033-.135-.1-.248-.191-.028-.022-.131-.109-.084-.071-.092-.081-.171-.155c-.218-.206-.422-.422-.615-.655-.419-.504-.735-1.051-.903-1.647a3.36 3.36 0 0 1-.101-.694l-.02-.628c.008-.149.005-.292-.009-.429V4.107c0-.063.099-.171.166-.183 1.076-.199 2.09-.549 3.057-1.013a13.06 13.06 0 0 0 1.38-.753l.156-.096c.062-.039.117-.062.169-.072l.046-.004a.28.28 0 0 1 .036.003c.062.01.117.034.179.073l.156.096c.446.279.906.53 1.38.753l1.177.496 1.338-1.318c-.655-.189-1.277-.429-1.872-.714l-.347-.179C8.074.866 7.491.476 6.9.103L6.856.073C6.78.018 6.71-.003 6.64 0c-.07-.003-.14.018-.216.072l-.044.031-1.788 1.092-.347.179c-.64.306-1.31.562-2.02.757-.575.156-1.171.255-1.784.293-.369.022-.435.084-.435.447l.005 2.273-.009.163L0 8.229v.027c.006 1.82.798 3.268 2.07 4.49l.119.111.045.042.09.083c.626.568 1.312 1.046 2.043 1.456l.051.028.158.086a15.69 15.69 0 0 0 1.854.846c.038.015.081.025.125.03l.007.001.029.003.025.002h.024.025l.025-.002.029-.003.007-.001c.044-.006.087-.016.125-.03a15.68 15.68 0 0 0 1.854-.846l.159-.087.05-.028a11.12 11.12 0 0 0 2.043-1.456l.09-.083.045-.042.119-.111c1.272-1.221 2.064-2.669 2.07-4.476v-.041l-.001-2.875\" fill=\"#757982\" /><path d=\"M10.151 4.282L13.51.828c.34-.348.527-.35.89-.025l.298.266c.278.261.298.493.063.785l-2.305 2.855-5.319 6.583c-.326.397-.713.386-.998-.049L4.152 8.158 2.923 6.219c-.215-.34-.17-.568.156-.811l.32-.24c.361-.271.561-.255.858.075l2.205 2.45.186.195 3.504-3.606z\" fill=\"#20c321\" /></svg>\n",
       "</span>\n",
       "</div>\n",
       "</div>\n",
       "</div>\n",
       "</div>\n",
       "<div class=\"firms-r\">\n",
       "<a target=\"_blank\" class=\"visit-website linkbtn list-service-website-visit old-btn\" rel=\"nofollow\" href=\"https://www.samwebstudio.com/\">Visit website</a>\n",
       "<div class=\"firms-services clearfix\">\n",
       "<div class=\"firm-pricing\">\n",
       "$25 - $49/hr </div>\n",
       "<div class=\"firm-employees\">10 - 49</div>\n",
       "<div class=\"firm-founded\">2012</div>\n",
       "<div class=\"firm-location\">\n",
       "India </div>\n",
       "</div>\n",
       "</div>\n",
       "</div>\n",
       "</li><li class=\"service-provider\" id=\"ateam-soft-solutions\"> <div itemprop=\"itemListElement\" itemscope=\"\" itemtype=\"https://schema.org/ListItem\" class=\"service-entity newentitysection\" entity-name=\"Ateam Soft Solutions\" entity-id=\"40782\">\n",
       "<div class=\"firms-l\">\n",
       "<div class=\"entity-header-wrapper\">\n",
       "<meta itemprop=\"position\" content=\"71\" />\n",
       "<a class=\"company-logo company-image-ling detail_page list-service-profile-visit\" href=\"/company/ateam-soft-solutions\" target=\"_blank\"><img style=\"height:auto;width:inherit\" content=\"https://goodfirms-prod.s3.amazonaws.com/services/general/ateamindia.png\" src=\"/img/goodfirms-loader-logo.svg\" alt=\"Ateam Soft Solutions\" class=\"lazy\" lsrc=\"https://goodfirms-prod.s3.amazonaws.com/services/general/ateamindia.png\" width=\"85\" height=\"85\" /></a>\n",
       "<h3><a class=\"c_name_head detail_page list-service-profile-visit\" href=\"/company/ateam-soft-solutions\" target=\"_blank\"><span itemprop=\"name\">Ateam Soft Solutions</span></a></h3>\n",
       "<div class=\"profile-star-link\">\n",
       "<a target=\"_blank\" href=\"/company/ateam-soft-solutions#reviews\" itemprop=\"url\" title=\"Review count of Ateam Soft Solutions\" class=\"list-service-profile-visit review-container review_url\"><span class=\"star-container\"><span class=\"profile-star\"></span><span class=\"fstar\" style=\"width:100%\"></span></span><span class=\"listinv_review_label\">5.0 (26 Reviews)</span></a>\n",
       "</div>\n",
       "<p class=\"profile-tagline\">Top Rated Goodfirms Agency</p>\n",
       "</div>\n",
       "<div class=\"profile-flex\">\n",
       "<p class=\"profile-short-info\">\n",
       "At&nbsp;aTeam&nbsp;we build&nbsp;digitalproducts&nbsp;which are ranked at the top of the AppStore and Google Play listings.\n",
       "Want to create a web or mobile application but not sure where to start? aTeam transforms ideas into successful products.\n",
       "1. We organize and iron your ideas to create a clear, detailed pictur ... <a target=\"_blank\" class=\"c_read_more detail_page list-service-profile-visit\" href=\"/company/ateam-soft-solutions\">learn more about Ateam Soft Solutions</a> </p>\n",
       "</div>\n",
       "<div class=\"entity-footer-wrapper\">\n",
       "<div class=\"firm-review full-width\">\n",
       "<div class=\"review-conclusion\">\"Awesome experience ATeam are extremely knowledgeable and will work above and beyond to deliver an outstanding product. \"</div>\n",
       "<div class=\"reviewer-info\">\n",
       "<span class=\"reviewer-name\">Ashley Jeffs, CTO at Fifth Logic</span>\n",
       "<span class=\"verified-icon\" data-toggle=\"tooltip\" data-original-title=\"Verified\">\n",
       "<svg xmlns=\"http://www.w3.org/2000/svg\" width=\"13\" height=\"15\" xmlns:v=\"https://vecta.io/nano\"><path d=\"M13.28 5.354l-1.661 2.035-.003.205c-.014.137-.016.28-.009.429l-.02.628a3.36 3.36 0 0 1-.101.694c-.168.596-.484 1.143-.903 1.647a7.5 7.5 0 0 1-.612.651l-.174.159-.092.081-.084.071-.131.109-.028.022-.248.191-.136.1-.047.033c-.698.492-1.462.888-2.259 1.236a.36.36 0 0 1-.133.029c-.044-.001-.09-.01-.126-.026-.804-.351-1.568-.747-2.266-1.239l-.047-.033-.135-.1-.248-.191-.028-.022-.131-.109-.084-.071-.092-.081-.171-.155c-.218-.206-.422-.422-.615-.655-.419-.504-.735-1.051-.903-1.647a3.36 3.36 0 0 1-.101-.694l-.02-.628c.008-.149.005-.292-.009-.429V4.107c0-.063.099-.171.166-.183 1.076-.199 2.09-.549 3.057-1.013a13.06 13.06 0 0 0 1.38-.753l.156-.096c.062-.039.117-.062.169-.072l.046-.004a.28.28 0 0 1 .036.003c.062.01.117.034.179.073l.156.096c.446.279.906.53 1.38.753l1.177.496 1.338-1.318c-.655-.189-1.277-.429-1.872-.714l-.347-.179C8.074.866 7.491.476 6.9.103L6.856.073C6.78.018 6.71-.003 6.64 0c-.07-.003-.14.018-.216.072l-.044.031-1.788 1.092-.347.179c-.64.306-1.31.562-2.02.757-.575.156-1.171.255-1.784.293-.369.022-.435.084-.435.447l.005 2.273-.009.163L0 8.229v.027c.006 1.82.798 3.268 2.07 4.49l.119.111.045.042.09.083c.626.568 1.312 1.046 2.043 1.456l.051.028.158.086a15.69 15.69 0 0 0 1.854.846c.038.015.081.025.125.03l.007.001.029.003.025.002h.024.025l.025-.002.029-.003.007-.001c.044-.006.087-.016.125-.03a15.68 15.68 0 0 0 1.854-.846l.159-.087.05-.028a11.12 11.12 0 0 0 2.043-1.456l.09-.083.045-.042.119-.111c1.272-1.221 2.064-2.669 2.07-4.476v-.041l-.001-2.875\" fill=\"#757982\" /><path d=\"M10.151 4.282L13.51.828c.34-.348.527-.35.89-.025l.298.266c.278.261.298.493.063.785l-2.305 2.855-5.319 6.583c-.326.397-.713.386-.998-.049L4.152 8.158 2.923 6.219c-.215-.34-.17-.568.156-.811l.32-.24c.361-.271.561-.255.858.075l2.205 2.45.186.195 3.504-3.606z\" fill=\"#20c321\" /></svg>\n",
       "</span>\n",
       " </div>\n",
       "</div>\n",
       "</div>\n",
       "</div>\n",
       "<div class=\"firms-r\">\n",
       "<a target=\"_blank\" class=\"visit-website linkbtn list-service-website-visit old-btn\" rel=\"nofollow\" href=\"https://www.ateamindia.com/\">Visit website</a>\n",
       "<div class=\"firms-services clearfix\">\n",
       "<div class=\"firm-pricing\">\n",
       "< $25/hr </div>\n",
       "<div class=\"firm-employees\">50 - 249</div>\n",
       "<div class=\"firm-founded\">2013</div>\n",
       "<div class=\"firm-location\">\n",
       "Australia, United States </div>\n",
       "</div>\n",
       "</div>\n",
       "</div>\n",
       "</li><li class=\"service-provider\" id=\"siddhi-infosoft\"> <div itemprop=\"itemListElement\" itemscope=\"\" itemtype=\"https://schema.org/ListItem\" class=\"service-entity newentitysection\" entity-name=\"Siddhi Infosoft\" entity-id=\"20858\">\n",
       "<div class=\"firms-l\">\n",
       "<div class=\"entity-header-wrapper\">\n",
       "<meta itemprop=\"position\" content=\"72\" />\n",
       "<a class=\"company-logo company-image-ling detail_page list-service-profile-visit\" href=\"/company/siddhi-infosoft\" target=\"_blank\"><img style=\"height:auto;width:inherit\" content=\"https://goodfirms-prod.s3.amazonaws.com/services/general/siddhi-infosoft.png\" src=\"/img/goodfirms-loader-logo.svg\" alt=\"Siddhi Infosoft\" class=\"lazy\" lsrc=\"https://goodfirms-prod.s3.amazonaws.com/services/general/siddhi-infosoft.png\" width=\"85\" height=\"85\" /></a>\n",
       "<h3><a class=\"c_name_head detail_page list-service-profile-visit\" href=\"/company/siddhi-infosoft\" target=\"_blank\"><span itemprop=\"name\">Siddhi Infosoft</span></a></h3>\n",
       "<div class=\"profile-star-link\">\n",
       "<a target=\"_blank\" href=\"/company/siddhi-infosoft#reviews\" itemprop=\"url\" title=\"Review count of Siddhi Infosoft\" class=\"list-service-profile-visit review-container review_url\"><span class=\"star-container\"><span class=\"profile-star\"></span><span class=\"fstar\" style=\"width:100%\"></span></span><span class=\"listinv_review_label\">5.0 (30 Reviews)</span></a>\n",
       "</div>\n",
       "<p class=\"profile-tagline\">Think Big and Do Creative</p>\n",
       "</div>\n",
       "<div class=\"profile-flex\">\n",
       " <p class=\"profile-short-info\">\n",
       "Siddhi Infosoft&nbsp;has been a leading Web and&nbsp;Mobile app development company&nbsp;in the USA, UK, India, and, Canada for providing digital solutions to every industry sector out there. Founded in 2011, we&rsquo;ve grown with the digital ecosystem to support every stage of the product life cycle. Our web and mobi ... <a target=\"_blank\" class=\"c_read_more detail_page list-service-profile-visit\" href=\"/company/siddhi-infosoft\">learn more about Siddhi Infosoft</a> </p>\n",
       "</div>\n",
       "<div class=\"entity-footer-wrapper\">\n",
       "<div class=\"firm-review full-width\">\n",
       "<div class=\"review-conclusion\">\"Good and very quick implementation of the projects\"</div>\n",
       "<div class=\"reviewer-info\">\n",
       "<span class=\"reviewer-name\">Andreas Ziegert, Freelancer at vorsprung-online.de</span>\n",
       "<span class=\"verified-icon\" data-toggle=\"tooltip\" data-original-title=\"Verified\">\n",
       "<svg xmlns=\"http://www.w3.org/2000/svg\" width=\"13\" height=\"15\" xmlns:v=\"https://vecta.io/nano\"><path d=\"M13.28 5.354l-1.661 2.035-.003.205c-.014.137-.016.28-.009.429l-.02.628a3.36 3.36 0 0 1-.101.694c-.168.596-.484 1.143-.903 1.647a7.5 7.5 0 0 1-.612.651l-.174.159-.092.081-.084.071-.131.109-.028.022-.248.191-.136.1-.047.033c-.698.492-1.462.888-2.259 1.236a.36.36 0 0 1-.133.029c-.044-.001-.09-.01-.126-.026-.804-.351-1.568-.747-2.266-1.239l-.047-.033-.135-.1-.248-.191-.028-.022-.131-.109-.084-.071-.092-.081-.171-.155c-.218-.206-.422-.422-.615-.655-.419-.504-.735-1.051-.903-1.647a3.36 3.36 0 0 1-.101-.694l-.02-.628c.008-.149.005-.292-.009-.429V4.107c0-.063.099-.171.166-.183 1.076-.199 2.09-.549 3.057-1.013a13.06 13.06 0 0 0 1.38-.753l.156-.096c.062-.039.117-.062.169-.072l.046-.004a.28.28 0 0 1 .036.003c.062.01.117.034.179.073l.156.096c.446.279.906.53 1.38.753l1.177.496 1.338-1.318c-.655-.189-1.277-.429-1.872-.714l-.347-.179C8.074.866 7.491.476 6.9.103L6.856.073C6.78.018 6.71-.003 6.64 0c-.07-.003-.14.018-.216.072l-.044.031-1.788 1.092-.347.179c-.64.306-1.31.562-2.02.757-.575.156-1.171.255-1.784.293-.369.022-.435.084-.435.447l.005 2.273-.009.163L0 8.229v.027c.006 1.82.798 3.268 2.07 4.49l.119.111.045.042.09.083c.626.568 1.312 1.046 2.043 1.456l.051.028.158.086a15.69 15.69 0 0 0 1.854.846c.038.015.081.025.125.03l.007.001.029.003.025.002h.024.025l.025-.002.029-.003.007-.001c.044-.006.087-.016.125-.03a15.68 15.68 0 0 0 1.854-.846l.159-.087.05-.028a11.12 11.12 0 0 0 2.043-1.456l.09-.083.045-.042.119-.111c1.272-1.221 2.064-2.669 2.07-4.476v-.041l-.001-2.875\" fill=\"#757982\" /><path d=\"M10.151 4.282L13.51.828c.34-.348.527-.35.89-.025l.298.266c.278.261.298.493.063.785l-2.305 2.855-5.319 6.583c-.326.397-.713.386-.998-.049L4.152 8.158 2.923 6.219c-.215-.34-.17-.568.156-.811l.32-.24c.361-.271.561-.255.858.075l2.205 2.45.186.195 3.504-3.606z\" fill=\"#20c321\" /></svg>\n",
       "</span>\n",
       "</div>\n",
       "</div>\n",
       "</div>\n",
       "</div>\n",
       " <div class=\"firms-r\">\n",
       "<a target=\"_blank\" class=\"visit-website linkbtn list-service-website-visit old-btn\" rel=\"nofollow\" href=\"https://www.siddhiinfosoft.com/\">Visit website</a>\n",
       "<div class=\"firms-services clearfix\">\n",
       "<div class=\"firm-pricing\">\n",
       "< $25/hr </div>\n",
       "<div class=\"firm-employees\">10 - 49</div>\n",
       "<div class=\"firm-founded\">2011</div>\n",
       "<div class=\"firm-location\">\n",
       "United States, India </div>\n",
       "</div>\n",
       "</div>\n",
       "</div>\n",
       "</li><li class=\"service-provider\" id=\"white-orange-software\"> <div itemprop=\"itemListElement\" itemscope=\"\" itemtype=\"https://schema.org/ListItem\" class=\"service-entity newentitysection\" entity-name=\"White Orange Software\" entity-id=\"4479\">\n",
       "<div class=\"firms-l\">\n",
       "<div class=\"entity-header-wrapper\">\n",
       "<meta itemprop=\"position\" content=\"73\" />\n",
       "<a class=\"company-logo company-image-ling detail_page list-service-profile-visit\" href=\"/company/white-orange-software\" target=\"_blank\"><img style=\"height:auto;width:inherit\" content=\"https://goodfirms-prod.s3.amazonaws.com/services/general/white-orange-software.png\" src=\"/img/goodfirms-loader-logo.svg\" alt=\"White Orange Software\" class=\"lazy\" lsrc=\"https://goodfirms-prod.s3.amazonaws.com/services/general/white-orange-software.png\" width=\"85\" height=\"85\" /></a>\n",
       "<h3><a class=\"c_name_head detail_page list-service-profile-visit\" href=\"/company/white-orange-software\" target=\"_blank\"><span itemprop=\"name\">White Orange Software</span></a></h3>\n",
       "<div class=\"profile-star-link\">\n",
       "<a target=\"_blank\" href=\"/company/white-orange-software#reviews\" itemprop=\"url\" title=\"Review count of White Orange Software\" class=\"list-service-profile-visit review-container review_url\"><span class=\"star-container\"><span class=\"profile-star\"></span><span class=\"fstar\" style=\"width:100%\"></span></span><span class=\"listinv_review_label\">5.0 (57 Reviews)</span></a>\n",
       "</div>\n",
       "<p class=\"profile-tagline\">We Deal in Technology, that Builds Business</p>\n",
       "</div>\n",
       "<div class=\"profile-flex\">\n",
       "<p class=\"profile-short-info\">\n",
       "White Orange Software was founded in 2014 and since then our company has grown dramatically. We are a team of 20+ developers, with different specialities in the development industry.&nbsp;\n",
       "We believe in our clients and our strength lies in developing close working relationships to help them succeed. This enables us ... <a target=\"_blank\" class=\"c_read_more detail_page list-service-profile-visit\" href=\"/company/white-orange-software\">learn more about White Orange Software</a> </p>\n",
       "</div>\n",
       "<div class=\"entity-footer-wrapper\">\n",
       "<div class=\"firm-review full-width\">\n",
       "<div class=\"review-conclusion\">\"From an idea on paper they turn it into a perfect design\"</div>\n",
       "<div class=\"reviewer-info\">\n",
       "<span class=\"reviewer-name\">Jens Wouters, Founder at Coach Me app</span>\n",
       "<span class=\"verified-icon\" data-toggle=\"tooltip\" data-original-title=\"Verified\">\n",
       "<svg xmlns=\"http://www.w3.org/2000/svg\" width=\"13\" height=\"15\" xmlns:v=\"https://vecta.io/nano\"><path d=\"M13.28 5.354l-1.661 2.035-.003.205c-.014.137-.016.28-.009.429l-.02.628a3.36 3.36 0 0 1-.101.694c-.168.596-.484 1.143-.903 1.647a7.5 7.5 0 0 1-.612.651l-.174.159-.092.081-.084.071-.131.109-.028.022-.248.191-.136.1-.047.033c-.698.492-1.462.888-2.259 1.236a.36.36 0 0 1-.133.029c-.044-.001-.09-.01-.126-.026-.804-.351-1.568-.747-2.266-1.239l-.047-.033-.135-.1-.248-.191-.028-.022-.131-.109-.084-.071-.092-.081-.171-.155c-.218-.206-.422-.422-.615-.655-.419-.504-.735-1.051-.903-1.647a3.36 3.36 0 0 1-.101-.694l-.02-.628c.008-.149.005-.292-.009-.429V4.107c0-.063.099-.171.166-.183 1.076-.199 2.09-.549 3.057-1.013a13.06 13.06 0 0 0 1.38-.753l.156-.096c.062-.039.117-.062.169-.072l.046-.004a.28.28 0 0 1 .036.003c.062.01.117.034.179.073l.156.096c.446.279.906.53 1.38.753l1.177.496 1.338-1.318c-.655-.189-1.277-.429-1.872-.714l-.347-.179C8.074.866 7.491.476 6.9.103L6.856.073C6.78.018 6.71-.003 6.64 0c-.07-.003-.14.018-.216.072l-.044.031-1.788 1.092-.347.179c-.64.306-1.31.562-2.02.757-.575.156-1.171.255-1.784.293-.369.022-.435.084-.435.447l.005 2.273-.009.163L0 8.229v.027c.006 1.82.798 3.268 2.07 4.49l.119.111.045.042.09.083c.626.568 1.312 1.046 2.043 1.456l.051.028.158.086a15.69 15.69 0 0 0 1.854.846c.038.015.081.025.125.03l.007.001.029.003.025.002h.024.025l.025-.002.029-.003.007-.001c.044-.006.087-.016.125-.03a15.68 15.68 0 0 0 1.854-.846l.159-.087.05-.028a11.12 11.12 0 0 0 2.043-1.456l.09-.083.045-.042.119-.111c1.272-1.221 2.064-2.669 2.07-4.476v-.041l-.001-2.875\" fill=\"#757982\" /><path d=\"M10.151 4.282L13.51.828c.34-.348.527-.35.89-.025l.298.266c.278.261.298.493.063.785l-2.305 2.855-5.319 6.583c-.326.397-.713.386-.998-.049L4.152 8.158 2.923 6.219c-.215-.34-.17-.568.156-.811l.32-.24c.361-.271.561-.255.858.075l2.205 2.45.186.195 3.504-3.606z\" fill=\"#20c321\" /></svg>\n",
       "</span>\n",
       "</div>\n",
       "</div>\n",
       "</div>\n",
       "</div>\n",
       "<div class=\"firms-r\">\n",
       "<a target=\"_blank\" class=\"visit-website linkbtn list-service-website-visit old-btn\" rel=\"nofollow\" href=\"http://whiteorangesoftware.com/\">Visit website</a>\n",
       " <div class=\"firms-services clearfix\">\n",
       "<div class=\"firm-pricing\">\n",
       "< $25/hr </div>\n",
       "<div class=\"firm-employees\">10 - 49</div>\n",
       "<div class=\"firm-founded\">2014</div>\n",
       "<div class=\"firm-location\">\n",
       "India </div>\n",
       "</div>\n",
       "</div>\n",
       "</div>\n",
       "</li><li class=\"service-provider\" id=\"enkonix\"> <div itemprop=\"itemListElement\" itemscope=\"\" itemtype=\"https://schema.org/ListItem\" class=\"service-entity newentitysection\" entity-name=\"Enkonix\" entity-id=\"55685\">\n",
       "<div class=\"firms-l\">\n",
       "<div class=\"entity-header-wrapper\">\n",
       "<meta itemprop=\"position\" content=\"74\" />\n",
       "<a class=\"company-logo company-image-ling detail_page list-service-profile-visit\" href=\"/company/enkonix\" target=\"_blank\"><img style=\"height:auto;width:inherit\" content=\"https://goodfirms-prod.s3.amazonaws.com/services/general/enkonix.jpg\" src=\"/img/goodfirms-loader-logo.svg\" alt=\"Enkonix\" class=\"lazy\" lsrc=\"https://goodfirms-prod.s3.amazonaws.com/services/general/enkonix.jpg\" width=\"85\" height=\"85\" /></a>\n",
       "<h3><a class=\"c_name_head detail_page list-service-profile-visit\" href=\"/company/enkonix\" target=\"_blank\"><span itemprop=\"name\">Enkonix</span></a></h3>\n",
       "<div class=\"profile-star-link\">\n",
       "<a target=\"_blank\" href=\"/company/enkonix#reviews\" itemprop=\"url\" title=\"Review count of Enkonix\" class=\"list-service-profile-visit review-container review_url\"><span class=\"star-container\"><span class=\"profile-star\"></span><span class=\"fstar\" style=\"width:100%\"></span></span><span class=\"listinv_review_label\">5.0 (18 Reviews)</span></a>\n",
       "</div>\n",
       "<p class=\"profile-tagline\">Full-cycle software development company</p>\n",
       "</div>\n",
       "<div class=\"profile-flex\">\n",
       "<p class=\"profile-short-info\">\n",
       "Enkonix is a full-cycle software development company&nbsp;specialized&nbsp;in custom web and mobile development. We provide a wide range of services and work with projects of different scales, from MVP to enterprise.&nbsp;\n",
       "</p>\n",
       "</div>\n",
       "<div class=\"entity-footer-wrapper\">\n",
       "<div class=\"firm-review full-width\">\n",
       " <div class=\"review-conclusion\">\"A very professional team who transformed an idea into reality\"</div>\n",
       "<div class=\"reviewer-info\">\n",
       "<span class=\"reviewer-name\">Alexis Hirschhorn</span>\n",
       "<span class=\"verified-icon\" data-toggle=\"tooltip\" data-original-title=\"Verified\">\n",
       "<svg xmlns=\"http://www.w3.org/2000/svg\" width=\"13\" height=\"15\" xmlns:v=\"https://vecta.io/nano\"><path d=\"M13.28 5.354l-1.661 2.035-.003.205c-.014.137-.016.28-.009.429l-.02.628a3.36 3.36 0 0 1-.101.694c-.168.596-.484 1.143-.903 1.647a7.5 7.5 0 0 1-.612.651l-.174.159-.092.081-.084.071-.131.109-.028.022-.248.191-.136.1-.047.033c-.698.492-1.462.888-2.259 1.236a.36.36 0 0 1-.133.029c-.044-.001-.09-.01-.126-.026-.804-.351-1.568-.747-2.266-1.239l-.047-.033-.135-.1-.248-.191-.028-.022-.131-.109-.084-.071-.092-.081-.171-.155c-.218-.206-.422-.422-.615-.655-.419-.504-.735-1.051-.903-1.647a3.36 3.36 0 0 1-.101-.694l-.02-.628c.008-.149.005-.292-.009-.429V4.107c0-.063.099-.171.166-.183 1.076-.199 2.09-.549 3.057-1.013a13.06 13.06 0 0 0 1.38-.753l.156-.096c.062-.039.117-.062.169-.072l.046-.004a.28.28 0 0 1 .036.003c.062.01.117.034.179.073l.156.096c.446.279.906.53 1.38.753l1.177.496 1.338-1.318c-.655-.189-1.277-.429-1.872-.714l-.347-.179C8.074.866 7.491.476 6.9.103L6.856.073C6.78.018 6.71-.003 6.64 0c-.07-.003-.14.018-.216.072l-.044.031-1.788 1.092-.347.179c-.64.306-1.31.562-2.02.757-.575.156-1.171.255-1.784.293-.369.022-.435.084-.435.447l.005 2.273-.009.163L0 8.229v.027c.006 1.82.798 3.268 2.07 4.49l.119.111.045.042.09.083c.626.568 1.312 1.046 2.043 1.456l.051.028.158.086a15.69 15.69 0 0 0 1.854.846c.038.015.081.025.125.03l.007.001.029.003.025.002h.024.025l.025-.002.029-.003.007-.001c.044-.006.087-.016.125-.03a15.68 15.68 0 0 0 1.854-.846l.159-.087.05-.028a11.12 11.12 0 0 0 2.043-1.456l.09-.083.045-.042.119-.111c1.272-1.221 2.064-2.669 2.07-4.476v-.041l-.001-2.875\" fill=\"#757982\" /><path d=\"M10.151 4.282L13.51.828c.34-.348.527-.35.89-.025l.298.266c.278.261.298.493.063.785l-2.305 2.855-5.319 6.583c-.326.397-.713.386-.998-.049L4.152 8.158 2.923 6.219c-.215-.34-.17-.568.156-.811l.32-.24c.361-.271.561-.255.858.075l2.205 2.45.186.195 3.504-3.606z\" fill=\"#20c321\" /></svg>\n",
       "</span>\n",
       "</div>\n",
       "</div>\n",
       "</div>\n",
       "</div>\n",
       "<div class=\"firms-r\">\n",
       "<a target=\"_blank\" class=\"visit-website linkbtn list-service-website-visit old-btn\" rel=\"nofollow\" href=\"https://enkonix.com/?utm_source=goodfirm&utm_medium=referral&utm_campaign=company_page\">Visit website</a>\n",
       "<div class=\"firms-services clearfix\">\n",
       "<div class=\"firm-pricing\">\n",
       "$100 - $149/hr </div>\n",
       "<div class=\"firm-employees\">50 - 249</div>\n",
       "<div class=\"firm-founded\">2016</div>\n",
       "<div class=\"firm-location\">\n",
       "Ukraine, Netherlands  </div>\n",
       "</div>\n",
       "</div>\n",
       "</div>\n",
       "</li><li class=\"service-provider\" id=\"prerna-trimurty-infotech-pvt-ltd\"> <div itemprop=\"itemListElement\" itemscope=\"\" itemtype=\"https://schema.org/ListItem\" class=\"service-entity newentitysection\" entity-name=\"Prerna Trimurty Infotech Pvt. Ltd.\" entity-id=\"1526\">\n",
       "<div class=\"firms-l\">\n",
       "<div class=\"entity-header-wrapper\">\n",
       "<meta itemprop=\"position\" content=\"75\" />\n",
       "<a class=\"company-logo company-image-ling detail_page list-service-profile-visit\" href=\"/company/prerna-trimurty-infotech-pvt-ltd\" target=\"_blank\"><img style=\"height:auto;width:inherit\" content=\"https://goodfirms-prod.s3.amazonaws.com/services/general/1526_57fc84b9e4ac7.png\" src=\"/img/goodfirms-loader-logo.svg\" alt=\"Prerna Trimurty Infotech Pvt. Ltd.\" class=\"lazy\" lsrc=\"https://goodfirms-prod.s3.amazonaws.com/services/general/1526_57fc84b9e4ac7.png\" width=\"85\" height=\"85\" /></a>\n",
       "<h3><a class=\"c_name_head detail_page list-service-profile-visit\" href=\"/company/prerna-trimurty-infotech-pvt-ltd\" target=\"_blank\"><span itemprop=\"name\">Prerna Trimurty Infotech Pvt. Ltd.</span></a></h3>\n",
       "<div class=\"profile-star-link\">\n",
       "<a target=\"_blank\" href=\"/company/prerna-trimurty-infotech-pvt-ltd#reviews\" itemprop=\"url\" title=\"Review count of Prerna Trimurty Infotech Pvt. Ltd.\" class=\"list-service-profile-visit review-container review_url\"><span class=\"star-container\"><span class=\"profile-star\"></span><span class=\"fstar\" style=\"width:100%\"></span></span><span class=\"listinv_review_label\">5.0 (17 Reviews)</span></a>\n",
       "</div>\n",
       "<p class=\"profile-tagline\">You Think We Develop...</p>\n",
       "</div>\n",
       "<div class=\"profile-flex\">\n",
       "<p class=\"profile-short-info\">\n",
       "Prerna Trimurty Infotech Pvt. Ltd. is the web and mobile app development company offering advanced software solutions to the world.&nbsp;We are based&nbsp;in Jaipur, India. We started the company in early 2009 with 2 people and now we have 40+ strong team consistently performing par excellence and delivering solutions. ... <a target=\"_blank\" class=\"c_read_more detail_page list-service-profile-visit\" href=\"/company/prerna-trimurty-infotech-pvt-ltd\">learn more about Prerna Trimurty Infotech Pvt. Ltd.</a> </p>\n",
       "</div>\n",
       "<div class=\"entity-footer-wrapper\">\n",
       "<div class=\"firm-review full-width\">\n",
       "<div class=\"review-conclusion\">\"Great service- top programmers and expertise\"</div>\n",
       "<div class=\"reviewer-info\">\n",
       "<span class=\"reviewer-name\">Edward McLean, Company Owner at LIQUORexam.com</span>\n",
       "<span class=\"verified-icon\" data-toggle=\"tooltip\" data-original-title=\"Verified\">\n",
       "<svg xmlns=\"http://www.w3.org/2000/svg\" width=\"13\" height=\"15\" xmlns:v=\"https://vecta.io/nano\"><path d=\"M13.28 5.354l-1.661 2.035-.003.205c-.014.137-.016.28-.009.429l-.02.628a3.36 3.36 0 0 1-.101.694c-.168.596-.484 1.143-.903 1.647a7.5 7.5 0 0 1-.612.651l-.174.159-.092.081-.084.071-.131.109-.028.022-.248.191-.136.1-.047.033c-.698.492-1.462.888-2.259 1.236a.36.36 0 0 1-.133.029c-.044-.001-.09-.01-.126-.026-.804-.351-1.568-.747-2.266-1.239l-.047-.033-.135-.1-.248-.191-.028-.022-.131-.109-.084-.071-.092-.081-.171-.155c-.218-.206-.422-.422-.615-.655-.419-.504-.735-1.051-.903-1.647a3.36 3.36 0 0 1-.101-.694l-.02-.628c.008-.149.005-.292-.009-.429V4.107c0-.063.099-.171.166-.183 1.076-.199 2.09-.549 3.057-1.013a13.06 13.06 0 0 0 1.38-.753l.156-.096c.062-.039.117-.062.169-.072l.046-.004a.28.28 0 0 1 .036.003c.062.01.117.034.179.073l.156.096c.446.279.906.53 1.38.753l1.177.496 1.338-1.318c-.655-.189-1.277-.429-1.872-.714l-.347-.179C8.074.866 7.491.476 6.9.103L6.856.073C6.78.018 6.71-.003 6.64 0c-.07-.003-.14.018-.216.072l-.044.031-1.788 1.092-.347.179c-.64.306-1.31.562-2.02.757-.575.156-1.171.255-1.784.293-.369.022-.435.084-.435.447l.005 2.273-.009.163L0 8.229v.027c.006 1.82.798 3.268 2.07 4.49l.119.111.045.042.09.083c.626.568 1.312 1.046 2.043 1.456l.051.028.158.086a15.69 15.69 0 0 0 1.854.846c.038.015.081.025.125.03l.007.001.029.003.025.002h.024.025l.025-.002.029-.003.007-.001c.044-.006.087-.016.125-.03a15.68 15.68 0 0 0 1.854-.846l.159-.087.05-.028a11.12 11.12 0 0 0 2.043-1.456l.09-.083.045-.042.119-.111c1.272-1.221 2.064-2.669 2.07-4.476v-.041l-.001-2.875\" fill=\"#757982\" /><path d=\"M10.151 4.282L13.51.828c.34-.348.527-.35.89-.025l.298.266c.278.261.298.493.063.785l-2.305 2.855-5.319 6.583c-.326.397-.713.386-.998-.049L4.152 8.158 2.923 6.219c-.215-.34-.17-.568.156-.811l.32-.24c.361-.271.561-.255.858.075l2.205 2.45.186.195 3.504-3.606z\" fill=\"#20c321\" /></svg>\n",
       "</span>\n",
       "</div>\n",
       " </div>\n",
       "</div>\n",
       "</div>\n",
       "<div class=\"firms-r\">\n",
       "<a target=\"_blank\" class=\"visit-website linkbtn list-service-website-visit old-btn\" rel=\"nofollow\" href=\"https://www.ptiwebtech.com\">Visit website</a>\n",
       "<div class=\"firms-services clearfix\">\n",
       "<div class=\"firm-pricing\">\n",
       "< $25/hr </div>\n",
       "<div class=\"firm-employees\">10 - 49</div>\n",
       "<div class=\"firm-founded\">2009</div>\n",
       "<div class=\"firm-location\">\n",
       "India </div>\n",
       "</div>\n",
       "</div>\n",
       "</div>\n",
       "</li><li class=\"service-provider\" id=\"fluper-ltd\"> <div itemprop=\"itemListElement\" itemscope=\"\" itemtype=\"https://schema.org/ListItem\" class=\"service-entity newentitysection\" entity-name=\"Fluper Ltd.\" entity-id=\"1748\">\n",
       "<div class=\"firms-l\">\n",
       "<div class=\"entity-header-wrapper\">\n",
       "<meta itemprop=\"position\" content=\"76\" />\n",
       "<a class=\"company-logo company-image-ling detail_page list-service-profile-visit\" href=\"/company/fluper-ltd\" target=\"_blank\"><img style=\"height:auto;width:inherit\" content=\"https://goodfirms-prod.s3.amazonaws.com/services/general/1748_584e72513ff1f.png\" src=\"/img/goodfirms-loader-logo.svg\" alt=\"Fluper Ltd.\" class=\"lazy\" lsrc=\"https://goodfirms-prod.s3.amazonaws.com/services/general/1748_584e72513ff1f.png\" width=\"85\" height=\"85\" /></a>\n",
       "<h3><a class=\"c_name_head detail_page list-service-profile-visit\" href=\"/company/fluper-ltd\" target=\"_blank\"><span itemprop=\"name\">Fluper Ltd.</span></a></h3>\n",
       "<div class=\"profile-star-link\">\n",
       "<a target=\"_blank\" href=\"/company/fluper-ltd#reviews\" itemprop=\"url\" title=\"Review count of Fluper Ltd.\" class=\"list-service-profile-visit review-container review_url\"><span class=\"star-container\"><span class=\"profile-star\"></span><span class=\"fstar\" style=\"width:96%\"></span></span><span class=\"listinv_review_label\">4.8 (48 Reviews)</span></a>\n",
       "</div>\n",
       "<p class=\"profile-tagline\">Top Mobile App Design and Development Company USA</p>\n",
       "</div>\n",
       "<div class=\"profile-flex\">\n",
       "<p class=\"profile-short-info\">\n",
       " We Build Fluid Apps: Affordable &amp; Rapid Web &amp; Mobile App Design &amp; Development Agency (5&nbsp;Million App User Engagement). Engaging &amp; Disrupting IT Industry by provisioning &ldquo;most affordable&rdquo; IT Service Solutions energizing Individuals, Startups, SMEs and Enterprises to transform all into Mil ... <a target=\"_blank\" class=\"c_read_more detail_page list-service-profile-visit\" href=\"/company/fluper-ltd\">learn more about Fluper Ltd.</a> </p>\n",
       "</div>\n",
       "<div class=\"entity-footer-wrapper\">\n",
       "<div class=\"firm-review full-width\">\n",
       "<div class=\"review-conclusion\">\"Fluper is a master of innovative app development solutions. Doing such a great work.\"</div>\n",
       "<div class=\"reviewer-info\">\n",
       "<span class=\"reviewer-name\">Dorothy Jackson, Head Of Marketing at Droppath</span>\n",
       "<span class=\"verified-icon\" data-toggle=\"tooltip\" data-original-title=\"Verified\">\n",
       "<svg xmlns=\"http://www.w3.org/2000/svg\" width=\"13\" height=\"15\" xmlns:v=\"https://vecta.io/nano\"><path d=\"M13.28 5.354l-1.661 2.035-.003.205c-.014.137-.016.28-.009.429l-.02.628a3.36 3.36 0 0 1-.101.694c-.168.596-.484 1.143-.903 1.647a7.5 7.5 0 0 1-.612.651l-.174.159-.092.081-.084.071-.131.109-.028.022-.248.191-.136.1-.047.033c-.698.492-1.462.888-2.259 1.236a.36.36 0 0 1-.133.029c-.044-.001-.09-.01-.126-.026-.804-.351-1.568-.747-2.266-1.239l-.047-.033-.135-.1-.248-.191-.028-.022-.131-.109-.084-.071-.092-.081-.171-.155c-.218-.206-.422-.422-.615-.655-.419-.504-.735-1.051-.903-1.647a3.36 3.36 0 0 1-.101-.694l-.02-.628c.008-.149.005-.292-.009-.429V4.107c0-.063.099-.171.166-.183 1.076-.199 2.09-.549 3.057-1.013a13.06 13.06 0 0 0 1.38-.753l.156-.096c.062-.039.117-.062.169-.072l.046-.004a.28.28 0 0 1 .036.003c.062.01.117.034.179.073l.156.096c.446.279.906.53 1.38.753l1.177.496 1.338-1.318c-.655-.189-1.277-.429-1.872-.714l-.347-.179C8.074.866 7.491.476 6.9.103L6.856.073C6.78.018 6.71-.003 6.64 0c-.07-.003-.14.018-.216.072l-.044.031-1.788 1.092-.347.179c-.64.306-1.31.562-2.02.757-.575.156-1.171.255-1.784.293-.369.022-.435.084-.435.447l.005 2.273-.009.163L0 8.229v.027c.006 1.82.798 3.268 2.07 4.49l.119.111.045.042.09.083c.626.568 1.312 1.046 2.043 1.456l.051.028.158.086a15.69 15.69 0 0 0 1.854.846c.038.015.081.025.125.03l.007.001.029.003.025.002h.024.025l.025-.002.029-.003.007-.001c.044-.006.087-.016.125-.03a15.68 15.68 0 0 0 1.854-.846l.159-.087.05-.028a11.12 11.12 0 0 0 2.043-1.456l.09-.083.045-.042.119-.111c1.272-1.221 2.064-2.669 2.07-4.476v-.041l-.001-2.875\" fill=\"#757982\" /><path d=\"M10.151 4.282L13.51.828c.34-.348.527-.35.89-.025l.298.266c.278.261.298.493.063.785l-2.305 2.855-5.319 6.583c-.326.397-.713.386-.998-.049L4.152 8.158 2.923 6.219c-.215-.34-.17-.568.156-.811l.32-.24c.361-.271.561-.255.858.075l2.205 2.45.186.195 3.504-3.606z\" fill=\"#20c321\" /></svg>\n",
       "</span>\n",
       "</div>\n",
       "</div>\n",
       "</div>\n",
       "</div>\n",
       "<div class=\"firms-r\">\n",
       " <a target=\"_blank\" class=\"visit-website linkbtn list-service-website-visit old-btn\" rel=\"nofollow\" href=\"https://www.fluper.com\">Visit website</a>\n",
       "<div class=\"firms-services clearfix\">\n",
       "<div class=\"firm-pricing\">\n",
       "< $25/hr </div>\n",
       "<div class=\"firm-employees\">50 - 249</div>\n",
       "<div class=\"firm-founded\">2013</div>\n",
       "<div class=\"firm-location\">\n",
       "United Arab Emirates, United States </div>\n",
       "</div>\n",
       "</div>\n",
       "</div>\n",
       "</li><li class=\"service-provider\" id=\"unified-infotech\"> <div itemprop=\"itemListElement\" itemscope=\"\" itemtype=\"https://schema.org/ListItem\" class=\"service-entity newentitysection\" entity-name=\"Unified Infotech\" entity-id=\"8820\">\n",
       "<div class=\"firms-l\">\n",
       "<div class=\"entity-header-wrapper\">\n",
       "<meta itemprop=\"position\" content=\"77\" />\n",
       "<a class=\"company-logo company-image-ling detail_page list-service-profile-visit\" href=\"/company/unified-infotech\" target=\"_blank\"><img style=\"height:auto;width:inherit\" content=\"https://goodfirms-prod.s3.amazonaws.com/services/general/unified-infotech.jpeg\" src=\"/img/goodfirms-loader-logo.svg\" alt=\"Unified Infotech\" class=\"lazy\" lsrc=\"https://goodfirms-prod.s3.amazonaws.com/services/general/unified-infotech.jpeg\" width=\"85\" height=\"85\" /></a>\n",
       "<h3><a class=\"c_name_head detail_page list-service-profile-visit\" href=\"/company/unified-infotech\" target=\"_blank\"><span itemprop=\"name\">Unified Infotech</span></a></h3>\n",
       "<div class=\"profile-star-link\">\n",
       "<a target=\"_blank\" href=\"/company/unified-infotech#reviews\" itemprop=\"url\" title=\"Review count of Unified Infotech\" class=\"list-service-profile-visit review-container review_url\"><span class=\"star-container\"><span class=\"profile-star\"></span><span class=\"fstar\" style=\"width:100%\"></span></span><span class=\"listinv_review_label\">5.0 (16 Reviews)</span></a>\n",
       "</div>\n",
       "<p class=\"profile-tagline\">Your Partners For Impactful Web & Mobile Solutions</p>\n",
       "</div>\n",
       "<div class=\"profile-flex\">\n",
       "<p class=\"profile-short-info\">\n",
       "Unified Infotech is a 12+ yrs&nbsp;Award Winning&nbsp;technology company working with Fortune 500&rsquo;s, MNCs, SME&rsquo;s &amp; Start-ups as their end-to-end technology partners for custom-tailored web, mobile, and custom software solutions.&nbsp;We position ourselves as a&nbsp;consulting-led &quot;Boutique Digital ... <a target=\"_blank\" class=\"c_read_more detail_page list-service-profile-visit\" href=\"/company/unified-infotech\">learn more about Unified Infotech</a> </p>\n",
       "</div>\n",
       "<div class=\"entity-footer-wrapper\">\n",
       "<div class=\"firm-review full-width\">\n",
       "<div class=\"review-conclusion\">\"Unified Infotech is an Outstanding long term Web/Mobile partner\"</div>\n",
       "<div class=\"reviewer-info\">\n",
       "<span class=\"reviewer-name\">Gustavo Lima, Head Of Commercial Finance at British American Tobacco</span>\n",
       "<span class=\"verified-icon\" data-toggle=\"tooltip\" data-original-title=\"Verified\">\n",
       "<svg xmlns=\"http://www.w3.org/2000/svg\" width=\"13\" height=\"15\" xmlns:v=\"https://vecta.io/nano\"><path d=\"M13.28 5.354l-1.661 2.035-.003.205c-.014.137-.016.28-.009.429l-.02.628a3.36 3.36 0 0 1-.101.694c-.168.596-.484 1.143-.903 1.647a7.5 7.5 0 0 1-.612.651l-.174.159-.092.081-.084.071-.131.109-.028.022-.248.191-.136.1-.047.033c-.698.492-1.462.888-2.259 1.236a.36.36 0 0 1-.133.029c-.044-.001-.09-.01-.126-.026-.804-.351-1.568-.747-2.266-1.239l-.047-.033-.135-.1-.248-.191-.028-.022-.131-.109-.084-.071-.092-.081-.171-.155c-.218-.206-.422-.422-.615-.655-.419-.504-.735-1.051-.903-1.647a3.36 3.36 0 0 1-.101-.694l-.02-.628c.008-.149.005-.292-.009-.429V4.107c0-.063.099-.171.166-.183 1.076-.199 2.09-.549 3.057-1.013a13.06 13.06 0 0 0 1.38-.753l.156-.096c.062-.039.117-.062.169-.072l.046-.004a.28.28 0 0 1 .036.003c.062.01.117.034.179.073l.156.096c.446.279.906.53 1.38.753l1.177.496 1.338-1.318c-.655-.189-1.277-.429-1.872-.714l-.347-.179C8.074.866 7.491.476 6.9.103L6.856.073C6.78.018 6.71-.003 6.64 0c-.07-.003-.14.018-.216.072l-.044.031-1.788 1.092-.347.179c-.64.306-1.31.562-2.02.757-.575.156-1.171.255-1.784.293-.369.022-.435.084-.435.447l.005 2.273-.009.163L0 8.229v.027c.006 1.82.798 3.268 2.07 4.49l.119.111.045.042.09.083c.626.568 1.312 1.046 2.043 1.456l.051.028.158.086a15.69 15.69 0 0 0 1.854.846c.038.015.081.025.125.03l.007.001.029.003.025.002h.024.025l.025-.002.029-.003.007-.001c.044-.006.087-.016.125-.03a15.68 15.68 0 0 0 1.854-.846l.159-.087.05-.028a11.12 11.12 0 0 0 2.043-1.456l.09-.083.045-.042.119-.111c1.272-1.221 2.064-2.669 2.07-4.476v-.041l-.001-2.875\" fill=\"#757982\" /><path d=\"M10.151 4.282L13.51.828c.34-.348.527-.35.89-.025l.298.266c.278.261.298.493.063.785l-2.305 2.855-5.319 6.583c-.326.397-.713.386-.998-.049L4.152 8.158 2.923 6.219c-.215-.34-.17-.568.156-.811l.32-.24c.361-.271.561-.255.858.075l2.205 2.45.186.195 3.504-3.606z\" fill=\"#20c321\" /></svg>\n",
       "</span>\n",
       "</div>\n",
       "</div>\n",
       "</div>\n",
       "</div>\n",
       "<div class=\"firms-r\">\n",
       "<a target=\"_blank\" class=\"visit-website linkbtn list-service-website-visit old-btn\" rel=\"nofollow\" href=\"https://www.unifiedinfotech.net/web-development-company-nyc/\">Visit website</a>\n",
       "<div class=\"firms-services clearfix\">\n",
       " <div class=\"firm-pricing\">\n",
       "$25 - $49/hr </div>\n",
       "<div class=\"firm-employees\">50 - 249</div>\n",
       "<div class=\"firm-founded\">2010</div>\n",
       "<div class=\"firm-location\">\n",
       "United States, India </div>\n",
       "</div>\n",
       "</div>\n",
       "</div>\n",
       "</li><li class=\"service-provider\" id=\"netmaxims-technologies-private-limited\"> <div itemprop=\"itemListElement\" itemscope=\"\" itemtype=\"https://schema.org/ListItem\" class=\"service-entity newentitysection\" entity-name=\"Netmaxims Technologies Private Limited\" entity-id=\"5178\">\n",
       "<div class=\"firms-l\">\n",
       "<div class=\"entity-header-wrapper\">\n",
       "<meta itemprop=\"position\" content=\"78\" />\n",
       "<a class=\"company-logo company-image-ling detail_page list-service-profile-visit\" href=\"/company/netmaxims-technologies-private-limited\" target=\"_blank\"><img style=\"height:auto;width:inherit\" content=\"https://goodfirms-prod.s3.amazonaws.com/services/general/netmaxims-technologies-private-limited.jpg\" src=\"/img/goodfirms-loader-logo.svg\" alt=\"Netmaxims Technologies Private Limited\" class=\"lazy\" lsrc=\"https://goodfirms-prod.s3.amazonaws.com/services/general/netmaxims-technologies-private-limited.jpg\" width=\"85\" height=\"85\" /></a>\n",
       "<h3><a class=\"c_name_head detail_page list-service-profile-visit\" href=\"/company/netmaxims-technologies-private-limited\" target=\"_blank\"><span itemprop=\"name\">Netmaxims Technologies Private Limited</span></a></h3>\n",
       "<div class=\"profile-star-link\">\n",
       "<a target=\"_blank\" href=\"/company/netmaxims-technologies-private-limited#reviews\" itemprop=\"url\" title=\"Review count of Netmaxims Technologies Private Limited\" class=\"list-service-profile-visit review-container review_url\"><span class=\"star-container\"><span class=\"profile-star\"></span><span class=\"fstar\" style=\"width:98%\"></span></span><span class=\"listinv_review_label\">4.9 (20 Reviews)</span></a>\n",
       "</div>\n",
       "<p class=\"profile-tagline\">A Web & Mobile App Development Company</p>\n",
       "</div>\n",
       "<div class=\"profile-flex\">\n",
       "<p class=\"profile-short-info\">\n",
       "NetMaxims - Trusted and preferred Technology Partner for building web and mobile applications. Committed to developing robust tech infrastructure for delivering slick performance to your millions of users that yield business, and Integrating emerging technologies Like IoT, ML, and Metaverse making you the first choice ... <a target=\"_blank\" class=\"c_read_more detail_page list-service-profile-visit\" href=\"/company/netmaxims-technologies-private-limited\">learn more about Netmaxims Technologies Private Limited</a> </p>\n",
       "</div>\n",
       "<div class=\"entity-footer-wrapper\">\n",
       "<div class=\"firm-review full-width\">\n",
       "<div class=\"review-conclusion\">\"Marcus Hammar\"</div>\n",
       "<div class=\"reviewer-info\">\n",
       "<span class=\"reviewer-name\">Marcus Hammar</span>\n",
       "<span class=\"verified-icon\" data-toggle=\"tooltip\" data-original-title=\"Verified\">\n",
       "<svg xmlns=\"http://www.w3.org/2000/svg\" width=\"13\" height=\"15\" xmlns:v=\"https://vecta.io/nano\"><path d=\"M13.28 5.354l-1.661 2.035-.003.205c-.014.137-.016.28-.009.429l-.02.628a3.36 3.36 0 0 1-.101.694c-.168.596-.484 1.143-.903 1.647a7.5 7.5 0 0 1-.612.651l-.174.159-.092.081-.084.071-.131.109-.028.022-.248.191-.136.1-.047.033c-.698.492-1.462.888-2.259 1.236a.36.36 0 0 1-.133.029c-.044-.001-.09-.01-.126-.026-.804-.351-1.568-.747-2.266-1.239l-.047-.033-.135-.1-.248-.191-.028-.022-.131-.109-.084-.071-.092-.081-.171-.155c-.218-.206-.422-.422-.615-.655-.419-.504-.735-1.051-.903-1.647a3.36 3.36 0 0 1-.101-.694l-.02-.628c.008-.149.005-.292-.009-.429V4.107c0-.063.099-.171.166-.183 1.076-.199 2.09-.549 3.057-1.013a13.06 13.06 0 0 0 1.38-.753l.156-.096c.062-.039.117-.062.169-.072l.046-.004a.28.28 0 0 1 .036.003c.062.01.117.034.179.073l.156.096c.446.279.906.53 1.38.753l1.177.496 1.338-1.318c-.655-.189-1.277-.429-1.872-.714l-.347-.179C8.074.866 7.491.476 6.9.103L6.856.073C6.78.018 6.71-.003 6.64 0c-.07-.003-.14.018-.216.072l-.044.031-1.788 1.092-.347.179c-.64.306-1.31.562-2.02.757-.575.156-1.171.255-1.784.293-.369.022-.435.084-.435.447l.005 2.273-.009.163L0 8.229v.027c.006 1.82.798 3.268 2.07 4.49l.119.111.045.042.09.083c.626.568 1.312 1.046 2.043 1.456l.051.028.158.086a15.69 15.69 0 0 0 1.854.846c.038.015.081.025.125.03l.007.001.029.003.025.002h.024.025l.025-.002.029-.003.007-.001c.044-.006.087-.016.125-.03a15.68 15.68 0 0 0 1.854-.846l.159-.087.05-.028a11.12 11.12 0 0 0 2.043-1.456l.09-.083.045-.042.119-.111c1.272-1.221 2.064-2.669 2.07-4.476v-.041l-.001-2.875\" fill=\"#757982\" /><path d=\"M10.151 4.282L13.51.828c.34-.348.527-.35.89-.025l.298.266c.278.261.298.493.063.785l-2.305 2.855-5.319 6.583c-.326.397-.713.386-.998-.049L4.152 8.158 2.923 6.219c-.215-.34-.17-.568.156-.811l.32-.24c.361-.271.561-.255.858.075l2.205 2.45.186.195 3.504-3.606z\" fill=\"#20c321\" /></svg>\n",
       "</span>\n",
       "</div>\n",
       "</div>\n",
       "</div>\n",
       "</div>\n",
       "<div class=\"firms-r\">\n",
       "<a target=\"_blank\" class=\"visit-website linkbtn list-service-website-visit old-btn\" rel=\"nofollow\" href=\"https://www.netmaxims.com/\">Visit website</a>\n",
       "<div class=\"firms-services clearfix\">\n",
       "<div class=\"firm-pricing\">\n",
       "< $25/hr  </div>\n",
       "<div class=\"firm-employees\">10 - 49</div>\n",
       "<div class=\"firm-founded\">2003</div>\n",
       "<div class=\"firm-location\">\n",
       "India </div>\n",
       "</div>\n",
       "</div>\n",
       "</div>\n",
       "</li><li class=\"service-provider\" id=\"tkxel\"> <div itemprop=\"itemListElement\" itemscope=\"\" itemtype=\"https://schema.org/ListItem\" class=\"service-entity newentitysection\" entity-name=\"Tkxel\" entity-id=\"10906\">\n",
       "<div class=\"firms-l\">\n",
       "<div class=\"entity-header-wrapper\">\n",
       "<meta itemprop=\"position\" content=\"79\" />\n",
       "<a class=\"company-logo company-image-ling detail_page list-service-profile-visit\" href=\"/company/tkxel\" target=\"_blank\"><img style=\"height:auto;width:inherit\" content=\"https://goodfirms-prod.s3.amazonaws.com/services/general/tkxel.png\" src=\"/img/goodfirms-loader-logo.svg\" alt=\"Tkxel\" class=\"lazy\" lsrc=\"https://goodfirms-prod.s3.amazonaws.com/services/general/tkxel.png\" width=\"85\" height=\"85\" /></a>\n",
       "<h3><a class=\"c_name_head detail_page list-service-profile-visit\" href=\"/company/tkxel\" target=\"_blank\"><span itemprop=\"name\">Tkxel</span></a></h3>\n",
       "<div class=\"profile-star-link\">\n",
       "<a target=\"_blank\" href=\"/company/tkxel#reviews\" itemprop=\"url\" title=\"Review count of Tkxel\" class=\"list-service-profile-visit review-container review_url\"><span class=\"star-container\"><span class=\"profile-star\"></span><span class=\"fstar\" style=\"width:100%\"></span></span><span class=\"listinv_review_label\">5.0 (30 Reviews)</span></a>\n",
       "</div>\n",
       "<p class=\"profile-tagline\">We Engineer Software Solutions </p>\n",
       "</div>\n",
       "<div class=\"profile-flex\">\n",
       "<p class=\"profile-short-info\">\n",
       "Founded in 2008 TkXel is one of the best custom software development companies headquartered in the USA with a clientele of 500+ customers from 30+ industries.&nbsp;\n",
       "TkXel&#39;s customers from around the world consist of promising startups, growing SMBs, and prominent enterprises including ABB, Groupon, Honeywell, F ... <a target=\"_blank\" class=\"c_read_more detail_page list-service-profile-visit\" href=\"/company/tkxel\">learn more about Tkxel</a> </p>\n",
       "</div>\n",
       "<div class=\"entity-footer-wrapper\">\n",
       "<div class=\"firm-review full-width\">\n",
       "<div class=\"review-conclusion\">\"Nitro League secured significant seed funding and tkxel has a vital role in making this happen through their agile and pro-active service.\"</div>\n",
       "<div class=\"reviewer-info\">\n",
       "<span class=\"reviewer-name\">Zainab Tucker, Chief Executive at Nitro League</span>\n",
       "<span class=\"verified-icon\" data-toggle=\"tooltip\" data-original-title=\"Verified\">\n",
       "<svg xmlns=\"http://www.w3.org/2000/svg\" width=\"13\" height=\"15\" xmlns:v=\"https://vecta.io/nano\"><path d=\"M13.28 5.354l-1.661 2.035-.003.205c-.014.137-.016.28-.009.429l-.02.628a3.36 3.36 0 0 1-.101.694c-.168.596-.484 1.143-.903 1.647a7.5 7.5 0 0 1-.612.651l-.174.159-.092.081-.084.071-.131.109-.028.022-.248.191-.136.1-.047.033c-.698.492-1.462.888-2.259 1.236a.36.36 0 0 1-.133.029c-.044-.001-.09-.01-.126-.026-.804-.351-1.568-.747-2.266-1.239l-.047-.033-.135-.1-.248-.191-.028-.022-.131-.109-.084-.071-.092-.081-.171-.155c-.218-.206-.422-.422-.615-.655-.419-.504-.735-1.051-.903-1.647a3.36 3.36 0 0 1-.101-.694l-.02-.628c.008-.149.005-.292-.009-.429V4.107c0-.063.099-.171.166-.183 1.076-.199 2.09-.549 3.057-1.013a13.06 13.06 0 0 0 1.38-.753l.156-.096c.062-.039.117-.062.169-.072l.046-.004a.28.28 0 0 1 .036.003c.062.01.117.034.179.073l.156.096c.446.279.906.53 1.38.753l1.177.496 1.338-1.318c-.655-.189-1.277-.429-1.872-.714l-.347-.179C8.074.866 7.491.476 6.9.103L6.856.073C6.78.018 6.71-.003 6.64 0c-.07-.003-.14.018-.216.072l-.044.031-1.788 1.092-.347.179c-.64.306-1.31.562-2.02.757-.575.156-1.171.255-1.784.293-.369.022-.435.084-.435.447l.005 2.273-.009.163L0 8.229v.027c.006 1.82.798 3.268 2.07 4.49l.119.111.045.042.09.083c.626.568 1.312 1.046 2.043 1.456l.051.028.158.086a15.69 15.69 0 0 0 1.854.846c.038.015.081.025.125.03l.007.001.029.003.025.002h.024.025l.025-.002.029-.003.007-.001c.044-.006.087-.016.125-.03a15.68 15.68 0 0 0 1.854-.846l.159-.087.05-.028a11.12 11.12 0 0 0 2.043-1.456l.09-.083.045-.042.119-.111c1.272-1.221 2.064-2.669 2.07-4.476v-.041l-.001-2.875\" fill=\"#757982\" /><path d=\"M10.151 4.282L13.51.828c.34-.348.527-.35.89-.025l.298.266c.278.261.298.493.063.785l-2.305 2.855-5.319 6.583c-.326.397-.713.386-.998-.049L4.152 8.158 2.923 6.219c-.215-.34-.17-.568.156-.811l.32-.24c.361-.271.561-.255.858.075l2.205 2.45.186.195 3.504-3.606z\" fill=\"#20c321\" /></svg>\n",
       "</span>\n",
       "</div>\n",
       "</div>\n",
       "</div>\n",
       "</div>\n",
       "<div class=\"firms-r\">\n",
       "<a target=\"_blank\" class=\"visit-website linkbtn list-service-website-visit old-btn\" rel=\"nofollow\" href=\"https://www.tkxel.com\">Visit website</a>\n",
       "<div class=\"firms-services clearfix\">\n",
       "<div class=\"firm-pricing\">\n",
       "$25 - $49/hr </div>\n",
       "<div class=\"firm-employees\">250 - 999</div>\n",
       "<div class=\"firm-founded\">2008</div>\n",
       "<div class=\"firm-location\">\n",
       "United States  </div>\n",
       "</div>\n",
       "</div>\n",
       "</div>\n",
       "</li><li class=\"service-provider\" id=\"diceus\"> <div itemprop=\"itemListElement\" itemscope=\"\" itemtype=\"https://schema.org/ListItem\" class=\"service-entity newentitysection\" entity-name=\"DICEUS\" entity-id=\"6090\">\n",
       "<div class=\"firms-l\">\n",
       "<div class=\"entity-header-wrapper\">\n",
       "<meta itemprop=\"position\" content=\"80\" />\n",
       "<a class=\"company-logo company-image-ling detail_page list-service-profile-visit\" href=\"/company/diceus\" target=\"_blank\"><img style=\"height:auto;width:inherit\" content=\"https://goodfirms-prod.s3.amazonaws.com/services/general/diceus.png\" src=\"/img/goodfirms-loader-logo.svg\" alt=\"DICEUS\" class=\"lazy\" lsrc=\"https://goodfirms-prod.s3.amazonaws.com/services/general/diceus.png\" width=\"85\" height=\"85\" /></a>\n",
       "<h3><a class=\"c_name_head detail_page list-service-profile-visit\" href=\"/company/diceus\" target=\"_blank\"><span itemprop=\"name\">DICEUS</span></a></h3>\n",
       "<div class=\"profile-star-link\">\n",
       "<a target=\"_blank\" href=\"/company/diceus#reviews\" itemprop=\"url\" title=\"Review count of DICEUS\" class=\"list-service-profile-visit review-container review_url\"><span class=\"star-container\"><span class=\"profile-star\"></span><span class=\"fstar\" style=\"width:100%\"></span></span><span class=\"listinv_review_label\">5.0 (26 Reviews)</span></a>\n",
       "</div>\n",
       "<p class=\"profile-tagline\">Custom software development company & IT staffing</p>\n",
       "</div>\n",
       "<div class=\"profile-flex\">\n",
       "<p class=\"profile-short-info\">\n",
       "Since 2011, DICEUS has cooperated with enterprises and technology businesses to deliver high-quality software solutions. For over a decade, we managed to accomplish more than 100 projects and help our customers achieve their goals. The services we provide are as follows:&nbsp;\n",
       "Custom software development&nbsp;\n",
       "... <a target=\"_blank\" class=\"c_read_more detail_page list-service-profile-visit\" href=\"/company/diceus\">learn more about DICEUS</a> </p>\n",
       "</div>\n",
       "<div class=\"entity-footer-wrapper\">\n",
       "<div class=\"firm-review full-width\">\n",
       "<div class=\"review-conclusion\">\"The Diceus team did a great job. My employees are satisfied with the result.\"</div>\n",
       "<div class=\"reviewer-info\">\n",
       "<span class=\"reviewer-name\">Ihor Kryshchuk, Head of installation service at Lanet</span>\n",
       "<span class=\"verified-icon\" data-toggle=\"tooltip\" data-original-title=\"Verified\">\n",
       "<svg xmlns=\"http://www.w3.org/2000/svg\" width=\"13\" height=\"15\" xmlns:v=\"https://vecta.io/nano\"><path d=\"M13.28 5.354l-1.661 2.035-.003.205c-.014.137-.016.28-.009.429l-.02.628a3.36 3.36 0 0 1-.101.694c-.168.596-.484 1.143-.903 1.647a7.5 7.5 0 0 1-.612.651l-.174.159-.092.081-.084.071-.131.109-.028.022-.248.191-.136.1-.047.033c-.698.492-1.462.888-2.259 1.236a.36.36 0 0 1-.133.029c-.044-.001-.09-.01-.126-.026-.804-.351-1.568-.747-2.266-1.239l-.047-.033-.135-.1-.248-.191-.028-.022-.131-.109-.084-.071-.092-.081-.171-.155c-.218-.206-.422-.422-.615-.655-.419-.504-.735-1.051-.903-1.647a3.36 3.36 0 0 1-.101-.694l-.02-.628c.008-.149.005-.292-.009-.429V4.107c0-.063.099-.171.166-.183 1.076-.199 2.09-.549 3.057-1.013a13.06 13.06 0 0 0 1.38-.753l.156-.096c.062-.039.117-.062.169-.072l.046-.004a.28.28 0 0 1 .036.003c.062.01.117.034.179.073l.156.096c.446.279.906.53 1.38.753l1.177.496 1.338-1.318c-.655-.189-1.277-.429-1.872-.714l-.347-.179C8.074.866 7.491.476 6.9.103L6.856.073C6.78.018 6.71-.003 6.64 0c-.07-.003-.14.018-.216.072l-.044.031-1.788 1.092-.347.179c-.64.306-1.31.562-2.02.757-.575.156-1.171.255-1.784.293-.369.022-.435.084-.435.447l.005 2.273-.009.163L0 8.229v.027c.006 1.82.798 3.268 2.07 4.49l.119.111.045.042.09.083c.626.568 1.312 1.046 2.043 1.456l.051.028.158.086a15.69 15.69 0 0 0 1.854.846c.038.015.081.025.125.03l.007.001.029.003.025.002h.024.025l.025-.002.029-.003.007-.001c.044-.006.087-.016.125-.03a15.68 15.68 0 0 0 1.854-.846l.159-.087.05-.028a11.12 11.12 0 0 0 2.043-1.456l.09-.083.045-.042.119-.111c1.272-1.221 2.064-2.669 2.07-4.476v-.041l-.001-2.875\" fill=\"#757982\" /><path d=\"M10.151 4.282L13.51.828c.34-.348.527-.35.89-.025l.298.266c.278.261.298.493.063.785l-2.305 2.855-5.319 6.583c-.326.397-.713.386-.998-.049L4.152 8.158 2.923 6.219c-.215-.34-.17-.568.156-.811l.32-.24c.361-.271.561-.255.858.075l2.205 2.45.186.195 3.504-3.606z\" fill=\"#20c321\" /></svg>\n",
       "</span>\n",
       "</div>\n",
       "</div>\n",
       "</div>\n",
       "</div>\n",
       "<div class=\"firms-r\">\n",
       "<a target=\"_blank\" class=\"visit-website linkbtn list-service-website-visit old-btn\" rel=\"nofollow\" href=\"https://diceus.com/\">Visit website</a>\n",
       "<div class=\"firms-services clearfix\">\n",
       "<div class=\"firm-pricing\">\n",
       "$25 - $49/hr </div>\n",
       "<div class=\"firm-employees\">250 - 999</div>\n",
       "<div class=\"firm-founded\">2011</div>\n",
       "<div class=\"firm-location\">\n",
       "Poland, United States </div>\n",
       "</div>\n",
       "</div>\n",
       "</div>\n",
       "</li><li class=\"service-provider\" id=\"trooinbound-pvt-ltd\"> <div itemprop=\"itemListElement\" itemscope=\"\" itemtype=\"https://schema.org/ListItem\" class=\"service-entity newentitysection\" entity-name=\"TRooInbound Pvt. Ltd.\" entity-id=\"5173\">\n",
       "<div class=\"firms-l\">\n",
       "<div class=\"entity-header-wrapper\">\n",
       "<meta itemprop=\"position\" content=\"81\" />\n",
       "<a class=\"company-logo company-image-ling detail_page list-service-profile-visit\" href=\"/company/trooinbound-pvt-ltd\" target=\"_blank\"><img style=\"height:auto;width:inherit\" content=\"https://goodfirms-prod.s3.amazonaws.com/services/general/trooinbound-pvt-ltd.png\" src=\"/img/goodfirms-loader-logo.svg\" alt=\"TRooInbound Pvt. Ltd.\" class=\"lazy\" lsrc=\"https://goodfirms-prod.s3.amazonaws.com/services/general/trooinbound-pvt-ltd.png\" width=\"85\" height=\"85\" /></a>\n",
       "<h3><a class=\"c_name_head detail_page list-service-profile-visit\" href=\"/company/trooinbound-pvt-ltd\" target=\"_blank\"><span itemprop=\"name\">TRooInbound Pvt. Ltd.</span></a></h3>\n",
       "<div class=\"profile-star-link\">\n",
       "<a target=\"_blank\" href=\"/company/trooinbound-pvt-ltd#reviews\" itemprop=\"url\" title=\"Review count of TRooInbound Pvt. Ltd.\" class=\"list-service-profile-visit review-container review_url\"><span class=\"star-container\"><span class=\"profile-star\"></span><span class=\"fstar\" style=\"width:100%\"></span></span><span class=\"listinv_review_label\">5.0 (21 Reviews)</span></a>\n",
       "</div>\n",
       "<p class=\"profile-tagline\">Innovating Inbound Marketing</p>\n",
       "</div>\n",
       "<div class=\"profile-flex\">\n",
       "<p class=\"profile-short-info\">\n",
       "We are a team of technical geniuses who specialize in crafting intuitive websites, eCommerce stores, and marketing materials. Being a versatile web design and development company we specialize in various CMSs including; HubSpot, WordPress, Wix, Webflow, and many others. Equally, we delight active shoppers by creating e ... <a target=\"_blank\" class=\"c_read_more detail_page list-service-profile-visit\" href=\"/company/trooinbound-pvt-ltd\">learn more about TRooInbound Pvt. Ltd.</a> </p>\n",
       "</div>\n",
       "<div class=\"entity-footer-wrapper\">\n",
       "<div class=\"firm-review full-width\">\n",
       "<div class=\"review-conclusion\">\"VERY helpful in customizing/fixing landing pages\"</div>\n",
       "<div class=\"reviewer-info\">\n",
       "<span class=\"reviewer-name\">Jake Wandro, Busser at at Anchos Southwest</span>\n",
       "<span class=\"verified-icon\" data-toggle=\"tooltip\" data-original-title=\"Verified\">\n",
       "<svg xmlns=\"http://www.w3.org/2000/svg\" width=\"13\" height=\"15\" xmlns:v=\"https://vecta.io/nano\"><path d=\"M13.28 5.354l-1.661 2.035-.003.205c-.014.137-.016.28-.009.429l-.02.628a3.36 3.36 0 0 1-.101.694c-.168.596-.484 1.143-.903 1.647a7.5 7.5 0 0 1-.612.651l-.174.159-.092.081-.084.071-.131.109-.028.022-.248.191-.136.1-.047.033c-.698.492-1.462.888-2.259 1.236a.36.36 0 0 1-.133.029c-.044-.001-.09-.01-.126-.026-.804-.351-1.568-.747-2.266-1.239l-.047-.033-.135-.1-.248-.191-.028-.022-.131-.109-.084-.071-.092-.081-.171-.155c-.218-.206-.422-.422-.615-.655-.419-.504-.735-1.051-.903-1.647a3.36 3.36 0 0 1-.101-.694l-.02-.628c.008-.149.005-.292-.009-.429V4.107c0-.063.099-.171.166-.183 1.076-.199 2.09-.549 3.057-1.013a13.06 13.06 0 0 0 1.38-.753l.156-.096c.062-.039.117-.062.169-.072l.046-.004a.28.28 0 0 1 .036.003c.062.01.117.034.179.073l.156.096c.446.279.906.53 1.38.753l1.177.496 1.338-1.318c-.655-.189-1.277-.429-1.872-.714l-.347-.179C8.074.866 7.491.476 6.9.103L6.856.073C6.78.018 6.71-.003 6.64 0c-.07-.003-.14.018-.216.072l-.044.031-1.788 1.092-.347.179c-.64.306-1.31.562-2.02.757-.575.156-1.171.255-1.784.293-.369.022-.435.084-.435.447l.005 2.273-.009.163L0 8.229v.027c.006 1.82.798 3.268 2.07 4.49l.119.111.045.042.09.083c.626.568 1.312 1.046 2.043 1.456l.051.028.158.086a15.69 15.69 0 0 0 1.854.846c.038.015.081.025.125.03l.007.001.029.003.025.002h.024.025l.025-.002.029-.003.007-.001c.044-.006.087-.016.125-.03a15.68 15.68 0 0 0 1.854-.846l.159-.087.05-.028a11.12 11.12 0 0 0 2.043-1.456l.09-.083.045-.042.119-.111c1.272-1.221 2.064-2.669 2.07-4.476v-.041l-.001-2.875\" fill=\"#757982\" /><path d=\"M10.151 4.282L13.51.828c.34-.348.527-.35.89-.025l.298.266c.278.261.298.493.063.785l-2.305 2.855-5.319 6.583c-.326.397-.713.386-.998-.049L4.152 8.158 2.923 6.219c-.215-.34-.17-.568.156-.811l.32-.24c.361-.271.561-.255.858.075l2.205 2.45.186.195 3.504-3.606z\" fill=\"#20c321\" /></svg>\n",
       "</span>\n",
       "</div>\n",
       "</div>\n",
       "</div>\n",
       "</div>\n",
       "<div class=\"firms-r\">\n",
       "<a target=\"_blank\" class=\"visit-website linkbtn list-service-website-visit old-btn\" rel=\"nofollow\" href=\"https://www.trooinbound.com\">Visit website</a>\n",
       "<div class=\"firms-services clearfix\">\n",
       "<div class=\"firm-pricing\">\n",
       "$25 - $49/hr </div>\n",
       "<div class=\"firm-employees\">50 - 249</div>\n",
       "<div class=\"firm-founded\">2017</div>\n",
       "<div class=\"firm-location\">\n",
       "India </div>\n",
       "</div>\n",
       "</div>\n",
       "</div>\n",
       "</li><li class=\"service-provider\" id=\"psd-webdesigns\"> <div itemprop=\"itemListElement\" itemscope=\"\" itemtype=\"https://schema.org/ListItem\" class=\"service-entity newentitysection\" entity-name=\"PSD Webdesigns\" entity-id=\"29206\">\n",
       "<div class=\"firms-l\">\n",
       "<div class=\"entity-header-wrapper\">\n",
       "<meta itemprop=\"position\" content=\"82\" />\n",
       "<a class=\"company-logo company-image-ling detail_page list-service-profile-visit\" href=\"/company/psd-webdesigns\" target=\"_blank\"><img style=\"height:auto;width:inherit\" content=\"https://goodfirms-prod.s3.amazonaws.com/services/general/psd-webdesigns.png\" src=\"/img/goodfirms-loader-logo.svg\" alt=\"PSD Webdesigns\" class=\"lazy\" lsrc=\"https://goodfirms-prod.s3.amazonaws.com/services/general/psd-webdesigns.png\" width=\"85\" height=\"85\" /></a>\n",
       "<h3><a class=\"c_name_head detail_page list-service-profile-visit\" href=\"/company/psd-webdesigns\" target=\"_blank\"><span itemprop=\"name\">PSD Webdesigns</span></a></h3>\n",
       "<div class=\"profile-star-link\">\n",
       "<a target=\"_blank\" href=\"/company/psd-webdesigns#reviews\" itemprop=\"url\" title=\"Review count of PSD Webdesigns\" class=\"list-service-profile-visit review-container review_url\"><span class=\"star-container\"><span class=\"profile-star\"></span><span class=\"fstar\" style=\"width:100%\"></span></span><span class=\"listinv_review_label\">5.0 (17 Reviews)</span></a>\n",
       "</div>\n",
       "<p class=\"profile-tagline\">eCommerce Website Design and Development</p>\n",
       "</div>\n",
       "<div class=\"profile-flex\">\n",
       "<p class=\"profile-short-info\">\n",
       "At PSD WebDesigns, we offer professional solutions like website designing,&nbsp;development and ecommerce development like bigcommerce, shopify and wordpress.\n",
       "</p>\n",
       "</div>\n",
       "<div class=\"entity-footer-wrapper\">\n",
       " <div class=\"firm-review full-width\">\n",
       "<div class=\"review-conclusion\">\"They were Responsive, Communicative, Friendly, Professional!\"</div>\n",
       "<div class=\"reviewer-info\">\n",
       "<span class=\"reviewer-name\">Shay O'Connell, Data and Digital Marketing Assistant at NameLiveDo USA, Inc. </span>\n",
       "<span class=\"verified-icon\" data-toggle=\"tooltip\" data-original-title=\"Verified\">\n",
       "<svg xmlns=\"http://www.w3.org/2000/svg\" width=\"13\" height=\"15\" xmlns:v=\"https://vecta.io/nano\"><path d=\"M13.28 5.354l-1.661 2.035-.003.205c-.014.137-.016.28-.009.429l-.02.628a3.36 3.36 0 0 1-.101.694c-.168.596-.484 1.143-.903 1.647a7.5 7.5 0 0 1-.612.651l-.174.159-.092.081-.084.071-.131.109-.028.022-.248.191-.136.1-.047.033c-.698.492-1.462.888-2.259 1.236a.36.36 0 0 1-.133.029c-.044-.001-.09-.01-.126-.026-.804-.351-1.568-.747-2.266-1.239l-.047-.033-.135-.1-.248-.191-.028-.022-.131-.109-.084-.071-.092-.081-.171-.155c-.218-.206-.422-.422-.615-.655-.419-.504-.735-1.051-.903-1.647a3.36 3.36 0 0 1-.101-.694l-.02-.628c.008-.149.005-.292-.009-.429V4.107c0-.063.099-.171.166-.183 1.076-.199 2.09-.549 3.057-1.013a13.06 13.06 0 0 0 1.38-.753l.156-.096c.062-.039.117-.062.169-.072l.046-.004a.28.28 0 0 1 .036.003c.062.01.117.034.179.073l.156.096c.446.279.906.53 1.38.753l1.177.496 1.338-1.318c-.655-.189-1.277-.429-1.872-.714l-.347-.179C8.074.866 7.491.476 6.9.103L6.856.073C6.78.018 6.71-.003 6.64 0c-.07-.003-.14.018-.216.072l-.044.031-1.788 1.092-.347.179c-.64.306-1.31.562-2.02.757-.575.156-1.171.255-1.784.293-.369.022-.435.084-.435.447l.005 2.273-.009.163L0 8.229v.027c.006 1.82.798 3.268 2.07 4.49l.119.111.045.042.09.083c.626.568 1.312 1.046 2.043 1.456l.051.028.158.086a15.69 15.69 0 0 0 1.854.846c.038.015.081.025.125.03l.007.001.029.003.025.002h.024.025l.025-.002.029-.003.007-.001c.044-.006.087-.016.125-.03a15.68 15.68 0 0 0 1.854-.846l.159-.087.05-.028a11.12 11.12 0 0 0 2.043-1.456l.09-.083.045-.042.119-.111c1.272-1.221 2.064-2.669 2.07-4.476v-.041l-.001-2.875\" fill=\"#757982\" /><path d=\"M10.151 4.282L13.51.828c.34-.348.527-.35.89-.025l.298.266c.278.261.298.493.063.785l-2.305 2.855-5.319 6.583c-.326.397-.713.386-.998-.049L4.152 8.158 2.923 6.219c-.215-.34-.17-.568.156-.811l.32-.24c.361-.271.561-.255.858.075l2.205 2.45.186.195 3.504-3.606z\" fill=\"#20c321\" /></svg>\n",
       "</span>\n",
       "</div>\n",
       "</div>\n",
       "</div>\n",
       "</div>\n",
       "<div class=\"firms-r\">\n",
       "<a target=\"_blank\" class=\"visit-website linkbtn list-service-website-visit old-btn\" rel=\"nofollow\" href=\"https://www.psdwebdesigns.com/\">Visit website</a>\n",
       "<div class=\"firms-services clearfix\">\n",
       "<div class=\"firm-pricing\">\n",
       "$25 - $49/hr </div>\n",
       "<div class=\"firm-employees\">2 - 9</div>\n",
       "<div class=\"firm-founded\">2018</div>\n",
       "<div class=\"firm-location\">\n",
       "India </div>\n",
       "</div>\n",
       "</div>\n",
       "</div>\n",
       "</li><li class=\"service-provider\" id=\"endive-software\"> <div itemprop=\"itemListElement\" itemscope=\"\" itemtype=\"https://schema.org/ListItem\" class=\"service-entity newentitysection\" entity-name=\"Endive Software\" entity-id=\"612\">\n",
       "<div class=\"firms-l\">\n",
       "<div class=\"entity-header-wrapper\">\n",
       "<meta itemprop=\"position\" content=\"83\" />\n",
       "<a class=\"company-logo company-image-ling detail_page list-service-profile-visit\" href=\"/company/endive-software\" target=\"_blank\"><img style=\"height:auto;width:inherit\" content=\"https://goodfirms-prod.s3.amazonaws.com/services/general/2_5710d700a5714.jpg\" src=\"/img/goodfirms-loader-logo.svg\" alt=\"Endive Software\" class=\"lazy\" lsrc=\"https://goodfirms-prod.s3.amazonaws.com/services/general/2_5710d700a5714.jpg\" width=\"85\" height=\"85\" /></a>\n",
       "<h3><a class=\"c_name_head detail_page list-service-profile-visit\" href=\"/company/endive-software\" target=\"_blank\"><span itemprop=\"name\">Endive Software</span></a></h3>\n",
       "<div class=\"profile-star-link\">\n",
       "<a target=\"_blank\" href=\"/company/endive-software#reviews\" itemprop=\"url\" title=\"Review count of Endive Software\" class=\"list-service-profile-visit review-container review_url\"><span class=\"star-container\"><span class=\"profile-star\"></span><span class=\"fstar\" style=\"width:98%\"></span></span><span class=\"listinv_review_label\">4.9 (19 Reviews)</span></a>\n",
       "</div>\n",
       "<p class=\"profile-tagline\">A powerful vision is the inception of success</p>\n",
       "</div>\n",
       "<div class=\"profile-flex\">\n",
       "<p class=\"profile-short-info\">\n",
       "Endive Software\n",
       "Passion, Expertise and Professionalism. These three together have built the timeless foundation of Endive Software. Endive Software is a potential business solution provider which provides the best in class services oriented for the increase in profit for businesses and improved value for customers. ... <a target=\"_blank\" class=\"c_read_more detail_page list-service-profile-visit\" href=\"/company/endive-software\">learn more about Endive Software</a> </p>\n",
       "</div>\n",
       "<div class=\"entity-footer-wrapper\">\n",
       "<div class=\"firm-review full-width\">\n",
       "<div class=\"review-conclusion\">\"Impressed with the well-co-ordinated software development approach\"</div>\n",
       " <div class=\"reviewer-info\">\n",
       "<span class=\"reviewer-name\">Suraj, Founder at Highlights</span>\n",
       "<span class=\"verified-icon\" data-toggle=\"tooltip\" data-original-title=\"Verified\">\n",
       "<svg xmlns=\"http://www.w3.org/2000/svg\" width=\"13\" height=\"15\" xmlns:v=\"https://vecta.io/nano\"><path d=\"M13.28 5.354l-1.661 2.035-.003.205c-.014.137-.016.28-.009.429l-.02.628a3.36 3.36 0 0 1-.101.694c-.168.596-.484 1.143-.903 1.647a7.5 7.5 0 0 1-.612.651l-.174.159-.092.081-.084.071-.131.109-.028.022-.248.191-.136.1-.047.033c-.698.492-1.462.888-2.259 1.236a.36.36 0 0 1-.133.029c-.044-.001-.09-.01-.126-.026-.804-.351-1.568-.747-2.266-1.239l-.047-.033-.135-.1-.248-.191-.028-.022-.131-.109-.084-.071-.092-.081-.171-.155c-.218-.206-.422-.422-.615-.655-.419-.504-.735-1.051-.903-1.647a3.36 3.36 0 0 1-.101-.694l-.02-.628c.008-.149.005-.292-.009-.429V4.107c0-.063.099-.171.166-.183 1.076-.199 2.09-.549 3.057-1.013a13.06 13.06 0 0 0 1.38-.753l.156-.096c.062-.039.117-.062.169-.072l.046-.004a.28.28 0 0 1 .036.003c.062.01.117.034.179.073l.156.096c.446.279.906.53 1.38.753l1.177.496 1.338-1.318c-.655-.189-1.277-.429-1.872-.714l-.347-.179C8.074.866 7.491.476 6.9.103L6.856.073C6.78.018 6.71-.003 6.64 0c-.07-.003-.14.018-.216.072l-.044.031-1.788 1.092-.347.179c-.64.306-1.31.562-2.02.757-.575.156-1.171.255-1.784.293-.369.022-.435.084-.435.447l.005 2.273-.009.163L0 8.229v.027c.006 1.82.798 3.268 2.07 4.49l.119.111.045.042.09.083c.626.568 1.312 1.046 2.043 1.456l.051.028.158.086a15.69 15.69 0 0 0 1.854.846c.038.015.081.025.125.03l.007.001.029.003.025.002h.024.025l.025-.002.029-.003.007-.001c.044-.006.087-.016.125-.03a15.68 15.68 0 0 0 1.854-.846l.159-.087.05-.028a11.12 11.12 0 0 0 2.043-1.456l.09-.083.045-.042.119-.111c1.272-1.221 2.064-2.669 2.07-4.476v-.041l-.001-2.875\" fill=\"#757982\" /><path d=\"M10.151 4.282L13.51.828c.34-.348.527-.35.89-.025l.298.266c.278.261.298.493.063.785l-2.305 2.855-5.319 6.583c-.326.397-.713.386-.998-.049L4.152 8.158 2.923 6.219c-.215-.34-.17-.568.156-.811l.32-.24c.361-.271.561-.255.858.075l2.205 2.45.186.195 3.504-3.606z\" fill=\"#20c321\" /></svg>\n",
       "</span>\n",
       "</div>\n",
       "</div>\n",
       "</div>\n",
       "</div>\n",
       "<div class=\"firms-r\">\n",
       "<a target=\"_blank\" class=\"visit-website linkbtn list-service-website-visit old-btn\" rel=\"nofollow\" href=\"http://www.endivesoftware.com/\">Visit website</a>\n",
       "<div class=\"firms-services clearfix\">\n",
       "<div class=\"firm-pricing\">\n",
       "< $25/hr </div>\n",
       "<div class=\"firm-employees\">50 - 249</div>\n",
       "<div class=\"firm-founded\">2008</div>\n",
       "<div class=\"firm-location\">\n",
       "India, United States </div>\n",
       "</div>\n",
       "</div>\n",
       "</div>\n",
       "</li><li class=\"service-provider\" id=\"techugo\"> <div itemprop=\"itemListElement\" itemscope=\"\" itemtype=\"https://schema.org/ListItem\" class=\"service-entity newentitysection\" entity-name=\"Techugo\" entity-id=\"729\">\n",
       "<div class=\"firms-l\">\n",
       "<div class=\"entity-header-wrapper\">\n",
       "<meta itemprop=\"position\" content=\"84\" />\n",
       "<a class=\"company-logo company-image-ling detail_page list-service-profile-visit\" href=\"/company/techugo\" target=\"_blank\"><img style=\"height:auto;width:inherit\" content=\"https://goodfirms-prod.s3.amazonaws.com/services/general/729_57726d0a06a38.jpg\" src=\"/img/goodfirms-loader-logo.svg\" alt=\"Techugo\" class=\"lazy\" lsrc=\"https://goodfirms-prod.s3.amazonaws.com/services/general/729_57726d0a06a38.jpg\" width=\"85\" height=\"85\" /></a>\n",
       "<h3><a class=\"c_name_head detail_page list-service-profile-visit\" href=\"/company/techugo\" target=\"_blank\"><span itemprop=\"name\">Techugo</span></a></h3>\n",
       "<div class=\"profile-star-link\">\n",
       "<a target=\"_blank\" href=\"/company/techugo#reviews\" itemprop=\"url\" title=\"Review count of Techugo\" class=\"list-service-profile-visit review-container review_url\"><span class=\"star-container\"><span class=\"profile-star\"></span><span class=\"fstar\" style=\"width:100%\"></span></span><span class=\"listinv_review_label\">5.0 (34 Reviews)</span></a>\n",
       "</div>\n",
       "<p class=\"profile-tagline\">Think Innovation, Think Us!</p>\n",
       "</div>\n",
       "<div class=\"profile-flex\">\n",
       "<p class=\"profile-short-info\">\n",
       "Transforming The World Digitally- One App At A Time!&nbsp;\n",
       "&nbsp;\n",
       "Techugo welcomes all the tech-enthusiasts! We feel great that you&rsquo;re here and reading!\n",
       "&nbsp;\n",
       "Learning and getting better with time go hand-in-hand. If someone says otherwise, they are bluffing! When one decides to keep learning continu ... <a target=\"_blank\" class=\"c_read_more detail_page list-service-profile-visit\" href=\"/company/techugo\">learn more about Techugo</a> </p>\n",
       "</div>\n",
       "<div class=\"entity-footer-wrapper\">\n",
       "<div class=\"firm-review full-width\">\n",
       "<div class=\"review-conclusion\">\" Best IT partner - Proposes solutions adapted to the situation of the company while keeping a very good quality of deliverable\"</div>\n",
       "<div class=\"reviewer-info\">\n",
       "<span class=\"reviewer-name\">Shamseddine REDISSI, CEO at RECRUTIUM</span>\n",
       "<span class=\"verified-icon\" data-toggle=\"tooltip\" data-original-title=\"Verified\">\n",
       "<svg xmlns=\"http://www.w3.org/2000/svg\" width=\"13\" height=\"15\" xmlns:v=\"https://vecta.io/nano\"><path d=\"M13.28 5.354l-1.661 2.035-.003.205c-.014.137-.016.28-.009.429l-.02.628a3.36 3.36 0 0 1-.101.694c-.168.596-.484 1.143-.903 1.647a7.5 7.5 0 0 1-.612.651l-.174.159-.092.081-.084.071-.131.109-.028.022-.248.191-.136.1-.047.033c-.698.492-1.462.888-2.259 1.236a.36.36 0 0 1-.133.029c-.044-.001-.09-.01-.126-.026-.804-.351-1.568-.747-2.266-1.239l-.047-.033-.135-.1-.248-.191-.028-.022-.131-.109-.084-.071-.092-.081-.171-.155c-.218-.206-.422-.422-.615-.655-.419-.504-.735-1.051-.903-1.647a3.36 3.36 0 0 1-.101-.694l-.02-.628c.008-.149.005-.292-.009-.429V4.107c0-.063.099-.171.166-.183 1.076-.199 2.09-.549 3.057-1.013a13.06 13.06 0 0 0 1.38-.753l.156-.096c.062-.039.117-.062.169-.072l.046-.004a.28.28 0 0 1 .036.003c.062.01.117.034.179.073l.156.096c.446.279.906.53 1.38.753l1.177.496 1.338-1.318c-.655-.189-1.277-.429-1.872-.714l-.347-.179C8.074.866 7.491.476 6.9.103L6.856.073C6.78.018 6.71-.003 6.64 0c-.07-.003-.14.018-.216.072l-.044.031-1.788 1.092-.347.179c-.64.306-1.31.562-2.02.757-.575.156-1.171.255-1.784.293-.369.022-.435.084-.435.447l.005 2.273-.009.163L0 8.229v.027c.006 1.82.798 3.268 2.07 4.49l.119.111.045.042.09.083c.626.568 1.312 1.046 2.043 1.456l.051.028.158.086a15.69 15.69 0 0 0 1.854.846c.038.015.081.025.125.03l.007.001.029.003.025.002h.024.025l.025-.002.029-.003.007-.001c.044-.006.087-.016.125-.03a15.68 15.68 0 0 0 1.854-.846l.159-.087.05-.028a11.12 11.12 0 0 0 2.043-1.456l.09-.083.045-.042.119-.111c1.272-1.221 2.064-2.669 2.07-4.476v-.041l-.001-2.875\" fill=\"#757982\" /><path d=\"M10.151 4.282L13.51.828c.34-.348.527-.35.89-.025l.298.266c.278.261.298.493.063.785l-2.305 2.855-5.319 6.583c-.326.397-.713.386-.998-.049L4.152 8.158 2.923 6.219c-.215-.34-.17-.568.156-.811l.32-.24c.361-.271.561-.255.858.075l2.205 2.45.186.195 3.504-3.606z\" fill=\"#20c321\" /></svg>\n",
       "</span>\n",
       "</div>\n",
       "</div>\n",
       "</div>\n",
       "</div>\n",
       "<div class=\"firms-r\">\n",
       "<a target=\"_blank\" class=\"visit-website linkbtn list-service-website-visit old-btn\" rel=\"nofollow\" href=\"http://www.techugo.com/\">Visit website</a>\n",
       "<div class=\"firms-services clearfix\">\n",
       "<div class=\"firm-pricing\">\n",
       "< $25/hr </div>\n",
       "<div class=\"firm-employees\">50 - 249</div>\n",
       "<div class=\"firm-founded\">2015</div>\n",
       "<div class=\"firm-location\">\n",
       "Canada, United States </div>\n",
       "</div>\n",
       "</div>\n",
       "</div>\n",
       "</li><li class=\"service-provider\" id=\"terasol-technologies\"> <div itemprop=\"itemListElement\" itemscope=\"\" itemtype=\"https://schema.org/ListItem\" class=\"service-entity newentitysection\" entity-name=\"Terasol Technologies\" entity-id=\"7222\">\n",
       "<div class=\"firms-l\">\n",
       "<div class=\"entity-header-wrapper\">\n",
       "<meta itemprop=\"position\" content=\"85\" />\n",
       "<a class=\"company-logo company-image-ling detail_page list-service-profile-visit\" href=\"/company/terasol-technologies\" target=\"_blank\"><img style=\"height:auto;width:inherit\" content=\"https://goodfirms-prod.s3.amazonaws.com/services/general/terasol-technologies.png\" src=\"/img/goodfirms-loader-logo.svg\" alt=\"Terasol Technologies\" class=\"lazy\" lsrc=\"https://goodfirms-prod.s3.amazonaws.com/services/general/terasol-technologies.png\" width=\"85\" height=\"85\" /></a>\n",
       "<h3><a class=\"c_name_head detail_page list-service-profile-visit\" href=\"/company/terasol-technologies\" target=\"_blank\"><span itemprop=\"name\">Terasol Technologies</span></a></h3>\n",
       "<div class=\"profile-star-link\">\n",
       "<a target=\"_blank\" href=\"/company/terasol-technologies#reviews\" itemprop=\"url\" title=\"Review count of Terasol Technologies\" class=\"list-service-profile-visit review-container review_url\"><span class=\"star-container\"><span class=\"profile-star\"></span><span class=\"fstar\" style=\"width:96%\"></span></span><span class=\"listinv_review_label\">4.8 (33 Reviews)</span></a>\n",
       "</div>\n",
       "<p class=\"profile-tagline\">We just don't build apps We build businesses!</p>\n",
       "</div>\n",
       "<div class=\"profile-flex\">\n",
       "<p class=\"profile-short-info\">\n",
       "Terasol technologies offers end to end IT development services to help businesses thrive in the competitive online market. We are headquartered in India and provide digital transformation services across 10+ countries with a global customer base of 200+ brands with 215+ successful and conversion-centric tech solutions. ... <a target=\"_blank\" class=\"c_read_more detail_page list-service-profile-visit\" href=\"/company/terasol-technologies\">learn more about Terasol Technologies</a> </p>\n",
       "</div>\n",
       "<div class=\"entity-footer-wrapper\">\n",
       "<div class=\"firm-review full-width\">\n",
       "<div class=\"review-conclusion\">\"My Experience with Terasol was great!\"</div>\n",
       "<div class=\"reviewer-info\">\n",
       "<span class=\"reviewer-name\">Manish Gupta, Director at Aboutme360</span>\n",
       "<span class=\"verified-icon\" data-toggle=\"tooltip\" data-original-title=\"Verified\">\n",
       "<svg xmlns=\"http://www.w3.org/2000/svg\" width=\"13\" height=\"15\" xmlns:v=\"https://vecta.io/nano\"><path d=\"M13.28 5.354l-1.661 2.035-.003.205c-.014.137-.016.28-.009.429l-.02.628a3.36 3.36 0 0 1-.101.694c-.168.596-.484 1.143-.903 1.647a7.5 7.5 0 0 1-.612.651l-.174.159-.092.081-.084.071-.131.109-.028.022-.248.191-.136.1-.047.033c-.698.492-1.462.888-2.259 1.236a.36.36 0 0 1-.133.029c-.044-.001-.09-.01-.126-.026-.804-.351-1.568-.747-2.266-1.239l-.047-.033-.135-.1-.248-.191-.028-.022-.131-.109-.084-.071-.092-.081-.171-.155c-.218-.206-.422-.422-.615-.655-.419-.504-.735-1.051-.903-1.647a3.36 3.36 0 0 1-.101-.694l-.02-.628c.008-.149.005-.292-.009-.429V4.107c0-.063.099-.171.166-.183 1.076-.199 2.09-.549 3.057-1.013a13.06 13.06 0 0 0 1.38-.753l.156-.096c.062-.039.117-.062.169-.072l.046-.004a.28.28 0 0 1 .036.003c.062.01.117.034.179.073l.156.096c.446.279.906.53 1.38.753l1.177.496 1.338-1.318c-.655-.189-1.277-.429-1.872-.714l-.347-.179C8.074.866 7.491.476 6.9.103L6.856.073C6.78.018 6.71-.003 6.64 0c-.07-.003-.14.018-.216.072l-.044.031-1.788 1.092-.347.179c-.64.306-1.31.562-2.02.757-.575.156-1.171.255-1.784.293-.369.022-.435.084-.435.447l.005 2.273-.009.163L0 8.229v.027c.006 1.82.798 3.268 2.07 4.49l.119.111.045.042.09.083c.626.568 1.312 1.046 2.043 1.456l.051.028.158.086a15.69 15.69 0 0 0 1.854.846c.038.015.081.025.125.03l.007.001.029.003.025.002h.024.025l.025-.002.029-.003.007-.001c.044-.006.087-.016.125-.03a15.68 15.68 0 0 0 1.854-.846l.159-.087.05-.028a11.12 11.12 0 0 0 2.043-1.456l.09-.083.045-.042.119-.111c1.272-1.221 2.064-2.669 2.07-4.476v-.041l-.001-2.875\" fill=\"#757982\" /><path d=\"M10.151 4.282L13.51.828c.34-.348.527-.35.89-.025l.298.266c.278.261.298.493.063.785l-2.305 2.855-5.319 6.583c-.326.397-.713.386-.998-.049L4.152 8.158 2.923 6.219c-.215-.34-.17-.568.156-.811l.32-.24c.361-.271.561-.255.858.075l2.205 2.45.186.195 3.504-3.606z\" fill=\"#20c321\" /></svg>\n",
       "</span>\n",
       "</div>\n",
       "</div>\n",
       "</div>\n",
       "</div>\n",
       "<div class=\"firms-r\">\n",
       "<a target=\"_blank\" class=\"visit-website linkbtn list-service-website-visit old-btn\" rel=\"nofollow\" href=\"https://www.terasoltechnologies.com/\">Visit website</a>\n",
       "<div class=\"firms-services clearfix\">\n",
       "<div class=\"firm-pricing\">\n",
       "$25 - $49/hr </div>\n",
       "<div class=\"firm-employees\">50 - 249</div>\n",
       "<div class=\"firm-founded\">2014</div>\n",
       "<div class=\"firm-location\">\n",
       "India, United States </div>\n",
       "</div>\n",
       "</div>\n",
       "</div>\n",
       "</li><li class=\"service-provider\" id=\"digiants\"> <div itemprop=\"itemListElement\" itemscope=\"\" itemtype=\"https://schema.org/ListItem\" class=\"service-entity newentitysection\" entity-name=\"Digiants\" entity-id=\"18476\">\n",
       "<div class=\"firms-l\">\n",
       "<div class=\"entity-header-wrapper\">\n",
       "<meta itemprop=\"position\" content=\"86\" />\n",
       "<a class=\"company-logo company-image-ling detail_page list-service-profile-visit\" href=\"/company/digiants\" target=\"_blank\"><img style=\"height:auto;width:inherit\" content=\"https://goodfirms-prod.s3.amazonaws.com/services/general/digiants.png\" src=\"/img/goodfirms-loader-logo.svg\" alt=\"Digiants\" class=\"lazy\" lsrc=\"https://goodfirms-prod.s3.amazonaws.com/services/general/digiants.png\" width=\"85\" height=\"85\" /></a>\n",
       "<h3><a class=\"c_name_head detail_page list-service-profile-visit\" href=\"/company/digiants\" target=\"_blank\"><span itemprop=\"name\">Digiants</span></a></h3>\n",
       "<div class=\"profile-star-link\">\n",
       "<a target=\"_blank\" href=\"/company/digiants#reviews\" itemprop=\"url\" title=\"Review count of Digiants\" class=\"list-service-profile-visit review-container review_url\"><span class=\"star-container\"><span class=\"profile-star\"></span><span class=\"fstar\" style=\"width:100%\"></span></span><span class=\"listinv_review_label\">5.0 (15 Reviews)</span></a>\n",
       "</div>\n",
       "<p class=\"profile-tagline\">Web design and development</p>\n",
       "</div>\n",
       "<div class=\"profile-flex\">\n",
       "<p class=\"profile-short-info\">\n",
       "We began our journey in 2016. During this time we managed to overcome the path from a startup, to a well-coordinated team with branches and representatives in 5 countries all over the world. We provide services in 4 languages ​​and every day we help to solve problems of clients around the world. Our company creates ... <a target=\"_blank\" class=\"c_read_more detail_page list-service-profile-visit\" href=\"/company/digiants\">learn more about Digiants</a> </p>\n",
       "</div>\n",
       "<div class=\"entity-footer-wrapper\">\n",
       "<div class=\"firm-review full-width\">\n",
       "<div class=\"review-conclusion\">\"Highly professional in services.\"</div>\n",
       "<div class=\"reviewer-info\">\n",
       "<span class=\"reviewer-name\">Anton Kokoshko</span>\n",
       "<span class=\"verified-icon\" data-toggle=\"tooltip\" data-original-title=\"Verified\">\n",
       "<svg xmlns=\"http://www.w3.org/2000/svg\" width=\"13\" height=\"15\" xmlns:v=\"https://vecta.io/nano\"><path d=\"M13.28 5.354l-1.661 2.035-.003.205c-.014.137-.016.28-.009.429l-.02.628a3.36 3.36 0 0 1-.101.694c-.168.596-.484 1.143-.903 1.647a7.5 7.5 0 0 1-.612.651l-.174.159-.092.081-.084.071-.131.109-.028.022-.248.191-.136.1-.047.033c-.698.492-1.462.888-2.259 1.236a.36.36 0 0 1-.133.029c-.044-.001-.09-.01-.126-.026-.804-.351-1.568-.747-2.266-1.239l-.047-.033-.135-.1-.248-.191-.028-.022-.131-.109-.084-.071-.092-.081-.171-.155c-.218-.206-.422-.422-.615-.655-.419-.504-.735-1.051-.903-1.647a3.36 3.36 0 0 1-.101-.694l-.02-.628c.008-.149.005-.292-.009-.429V4.107c0-.063.099-.171.166-.183 1.076-.199 2.09-.549 3.057-1.013a13.06 13.06 0 0 0 1.38-.753l.156-.096c.062-.039.117-.062.169-.072l.046-.004a.28.28 0 0 1 .036.003c.062.01.117.034.179.073l.156.096c.446.279.906.53 1.38.753l1.177.496 1.338-1.318c-.655-.189-1.277-.429-1.872-.714l-.347-.179C8.074.866 7.491.476 6.9.103L6.856.073C6.78.018 6.71-.003 6.64 0c-.07-.003-.14.018-.216.072l-.044.031-1.788 1.092-.347.179c-.64.306-1.31.562-2.02.757-.575.156-1.171.255-1.784.293-.369.022-.435.084-.435.447l.005 2.273-.009.163L0 8.229v.027c.006 1.82.798 3.268 2.07 4.49l.119.111.045.042.09.083c.626.568 1.312 1.046 2.043 1.456l.051.028.158.086a15.69 15.69 0 0 0 1.854.846c.038.015.081.025.125.03l.007.001.029.003.025.002h.024.025l.025-.002.029-.003.007-.001c.044-.006.087-.016.125-.03a15.68 15.68 0 0 0 1.854-.846l.159-.087.05-.028a11.12 11.12 0 0 0 2.043-1.456l.09-.083.045-.042.119-.111c1.272-1.221 2.064-2.669 2.07-4.476v-.041l-.001-2.875\" fill=\"#757982\" /><path d=\"M10.151 4.282L13.51.828c.34-.348.527-.35.89-.025l.298.266c.278.261.298.493.063.785l-2.305 2.855-5.319 6.583c-.326.397-.713.386-.998-.049L4.152 8.158 2.923 6.219c-.215-.34-.17-.568.156-.811l.32-.24c.361-.271.561-.255.858.075l2.205 2.45.186.195 3.504-3.606z\" fill=\"#20c321\" /></svg>\n",
       "</span>\n",
       "</div>\n",
       "</div>\n",
       "</div>\n",
       "</div>\n",
       "<div class=\"firms-r\">\n",
       "<a target=\"_blank\" class=\"visit-website linkbtn list-service-website-visit old-btn\" rel=\"nofollow\" href=\"https://digiants.company\">Visit website</a>\n",
       "<div class=\"firms-services clearfix\">\n",
       "<div class=\"firm-pricing\">\n",
       "$25 - $49/hr </div>\n",
       "<div class=\"firm-employees\">10 - 49</div>\n",
       "<div class=\"firm-founded\">2016</div>\n",
       "<div class=\"firm-location\">\n",
       "Ukraine, Spain </div>\n",
       "</div>\n",
       "</div>\n",
       "</div>\n",
       "</li><li class=\"service-provider\" id=\"digital-web-avenue-i-pvt-ltd\"> <div itemprop=\"itemListElement\" itemscope=\"\" itemtype=\"https://schema.org/ListItem\" class=\"service-entity newentitysection\" entity-name=\"Digital Web Avenue (I) Pvt. Ltd.\" entity-id=\"3309\">\n",
       "<div class=\"firms-l\">\n",
       "<div class=\"entity-header-wrapper\">\n",
       "<meta itemprop=\"position\" content=\"87\" />\n",
       "<a class=\"company-logo company-image-ling detail_page list-service-profile-visit\" href=\"/company/digital-web-avenue-i-pvt-ltd\" target=\"_blank\"><img style=\"height:auto;width:inherit\" content=\"https://goodfirms-prod.s3.amazonaws.com/services/general/3309_5964d7fab7fa5.png\" src=\"/img/goodfirms-loader-logo.svg\" alt=\"Digital Web Avenue (I) Pvt. Ltd.\" class=\"lazy\" lsrc=\"https://goodfirms-prod.s3.amazonaws.com/services/general/3309_5964d7fab7fa5.png\" width=\"85\" height=\"85\" /></a>\n",
       " <h3><a class=\"c_name_head detail_page list-service-profile-visit\" href=\"/company/digital-web-avenue-i-pvt-ltd\" target=\"_blank\"><span itemprop=\"name\">Digital Web Avenue (I) Pvt. Ltd.</span></a></h3>\n",
       "<div class=\"profile-star-link\">\n",
       "<a target=\"_blank\" href=\"/company/digital-web-avenue-i-pvt-ltd#reviews\" itemprop=\"url\" title=\"Review count of Digital Web Avenue (I) Pvt. Ltd.\" class=\"list-service-profile-visit review-container review_url\"><span class=\"star-container\"><span class=\"profile-star\"></span><span class=\"fstar\" style=\"width:100%\"></span></span><span class=\"listinv_review_label\">5.0 (15 Reviews)</span></a>\n",
       "</div>\n",
       "<p class=\"profile-tagline\">Web Development & Digital Marketing Agency</p>\n",
       "</div>\n",
       "<div class=\"profile-flex\">\n",
       "<p class=\"profile-short-info\">\n",
       "We Digital Web Avenue one of the leading&nbsp;and most trusted Web Design &amp; Digital Marketing Company&nbsp;in Kolkata specialized in Responsive Web Design and development, Graphic Design, Theming and Integration, E-Commerce Website design and development, Digital Marketing service, SEO Service, Mobile Application D ... <a target=\"_blank\" class=\"c_read_more detail_page list-service-profile-visit\" href=\"/company/digital-web-avenue-i-pvt-ltd\">learn more about Digital Web Avenue (I) Pvt. Ltd.</a> </p>\n",
       "</div>\n",
       "<div class=\"entity-footer-wrapper\">\n",
       "<div class=\"firm-review full-width\">\n",
       "<div class=\"review-conclusion\">\"Knowledgeable, fast, talented team\"</div>\n",
       "<div class=\"reviewer-info\">\n",
       "<span class=\"reviewer-name\">Chris Beaman, Owner at ChrisBeamanDesign.com</span>\n",
       "<span class=\"verified-icon\" data-toggle=\"tooltip\" data-original-title=\"Verified\">\n",
       "<svg xmlns=\"http://www.w3.org/2000/svg\" width=\"13\" height=\"15\" xmlns:v=\"https://vecta.io/nano\"><path d=\"M13.28 5.354l-1.661 2.035-.003.205c-.014.137-.016.28-.009.429l-.02.628a3.36 3.36 0 0 1-.101.694c-.168.596-.484 1.143-.903 1.647a7.5 7.5 0 0 1-.612.651l-.174.159-.092.081-.084.071-.131.109-.028.022-.248.191-.136.1-.047.033c-.698.492-1.462.888-2.259 1.236a.36.36 0 0 1-.133.029c-.044-.001-.09-.01-.126-.026-.804-.351-1.568-.747-2.266-1.239l-.047-.033-.135-.1-.248-.191-.028-.022-.131-.109-.084-.071-.092-.081-.171-.155c-.218-.206-.422-.422-.615-.655-.419-.504-.735-1.051-.903-1.647a3.36 3.36 0 0 1-.101-.694l-.02-.628c.008-.149.005-.292-.009-.429V4.107c0-.063.099-.171.166-.183 1.076-.199 2.09-.549 3.057-1.013a13.06 13.06 0 0 0 1.38-.753l.156-.096c.062-.039.117-.062.169-.072l.046-.004a.28.28 0 0 1 .036.003c.062.01.117.034.179.073l.156.096c.446.279.906.53 1.38.753l1.177.496 1.338-1.318c-.655-.189-1.277-.429-1.872-.714l-.347-.179C8.074.866 7.491.476 6.9.103L6.856.073C6.78.018 6.71-.003 6.64 0c-.07-.003-.14.018-.216.072l-.044.031-1.788 1.092-.347.179c-.64.306-1.31.562-2.02.757-.575.156-1.171.255-1.784.293-.369.022-.435.084-.435.447l.005 2.273-.009.163L0 8.229v.027c.006 1.82.798 3.268 2.07 4.49l.119.111.045.042.09.083c.626.568 1.312 1.046 2.043 1.456l.051.028.158.086a15.69 15.69 0 0 0 1.854.846c.038.015.081.025.125.03l.007.001.029.003.025.002h.024.025l.025-.002.029-.003.007-.001c.044-.006.087-.016.125-.03a15.68 15.68 0 0 0 1.854-.846l.159-.087.05-.028a11.12 11.12 0 0 0 2.043-1.456l.09-.083.045-.042.119-.111c1.272-1.221 2.064-2.669 2.07-4.476v-.041l-.001-2.875\" fill=\"#757982\" /><path d=\"M10.151 4.282L13.51.828c.34-.348.527-.35.89-.025l.298.266c.278.261.298.493.063.785l-2.305 2.855-5.319 6.583c-.326.397-.713.386-.998-.049L4.152 8.158 2.923 6.219c-.215-.34-.17-.568.156-.811l.32-.24c.361-.271.561-.255.858.075l2.205 2.45.186.195 3.504-3.606z\" fill=\"#20c321\" /></svg>\n",
       "</span>\n",
       "</div>\n",
       "</div>\n",
       "</div>\n",
       "</div>\n",
       "<div class=\"firms-r\">\n",
       "<a target=\"_blank\" class=\"visit-website linkbtn list-service-website-visit old-btn\" rel=\"nofollow\" href=\"http://www.digitalwebavenue.com/\">Visit website</a>\n",
       "<div class=\"firms-services clearfix\">\n",
       "<div class=\"firm-pricing\">\n",
       "< $25/hr </div>\n",
       "<div class=\"firm-employees\">10 - 49</div>\n",
       "<div class=\"firm-founded\">2011</div>\n",
       "<div class=\"firm-location\">\n",
       "India </div>\n",
       "</div>\n",
       "</div>\n",
       "</div>\n",
       "</li><li class=\"service-provider\" id=\"nettechnocrats-it-services-pvt-ltd\"> <div itemprop=\"itemListElement\" itemscope=\"\" itemtype=\"https://schema.org/ListItem\" class=\"service-entity newentitysection\" entity-name=\"Nettechnocrats IT Services Pvt. ltd\" entity-id=\"769\">\n",
       "<div class=\"firms-l\">\n",
       "<div class=\"entity-header-wrapper\">\n",
       "<meta itemprop=\"position\" content=\"88\" />\n",
       "<a class=\"company-logo company-image-ling detail_page list-service-profile-visit\" href=\"/company/nettechnocrats-it-services-pvt-ltd\" target=\"_blank\"><img style=\"height:auto;width:inherit\" content=\"https://goodfirms-prod.s3.amazonaws.com/services/general/769_5bc44174ecbec.png\" src=\"/img/goodfirms-loader-logo.svg\" alt=\"Nettechnocrats IT Services Pvt. ltd\" class=\"lazy\" lsrc=\"https://goodfirms-prod.s3.amazonaws.com/services/general/769_5bc44174ecbec.png\" width=\"85\" height=\"85\" /></a>\n",
       "<h3><a class=\"c_name_head detail_page list-service-profile-visit\" href=\"/company/nettechnocrats-it-services-pvt-ltd\" target=\"_blank\"><span itemprop=\"name\">Nettechnocrats IT Services Pvt. ltd</span></a></h3>\n",
       "<div class=\"profile-star-link\">\n",
       "<a target=\"_blank\" href=\"/company/nettechnocrats-it-services-pvt-ltd#reviews\" itemprop=\"url\" title=\"Review count of Nettechnocrats IT Services Pvt. ltd\" class=\"list-service-profile-visit review-container review_url\"><span class=\"star-container\"><span class=\"profile-star\"></span><span class=\"fstar\" style=\"width:96%\"></span></span><span class=\"listinv_review_label\">4.8 (22 Reviews)</span></a>\n",
       "</div>\n",
       "<p class=\"profile-tagline\">Work with World Best Digital Marketers</p>\n",
       "</div>\n",
       "<div class=\"profile-flex\">\n",
       "<p class=\"profile-short-info\">\n",
       "Nettechnocrats is one of the fastest-growing digital marketing agencies listed in&nbsp;Top Leading Marketing and Advertising Agencies in India 2019&nbsp;by Reputed Review and Rating portals.&nbsp;Nettechnocrats offers best-in-class Search Engine Optimization(SEO), Social Media Optimization (SMO), Search Engine Marketin ... <a target=\"_blank\" class=\"c_read_more detail_page list-service-profile-visit\" href=\"/company/nettechnocrats-it-services-pvt-ltd\">learn more about Nettechnocrats IT Services Pvt. ltd</a> </p>\n",
       "</div>\n",
       "<div class=\"entity-footer-wrapper\">\n",
       "<div class=\"firm-review full-width\">\n",
       "<div class=\"review-conclusion\">\"Great experience to working with talented SEO and Marketing team of Nettechnocrats\"</div>\n",
       "<div class=\"reviewer-info\">\n",
       "<span class=\"reviewer-name\">Digital Technie, Owner at Digital Technie</span>\n",
       "<span class=\"verified-icon\" data-toggle=\"tooltip\" data-original-title=\"Verified\">\n",
       "<svg xmlns=\"http://www.w3.org/2000/svg\" width=\"13\" height=\"15\" xmlns:v=\"https://vecta.io/nano\"><path d=\"M13.28 5.354l-1.661 2.035-.003.205c-.014.137-.016.28-.009.429l-.02.628a3.36 3.36 0 0 1-.101.694c-.168.596-.484 1.143-.903 1.647a7.5 7.5 0 0 1-.612.651l-.174.159-.092.081-.084.071-.131.109-.028.022-.248.191-.136.1-.047.033c-.698.492-1.462.888-2.259 1.236a.36.36 0 0 1-.133.029c-.044-.001-.09-.01-.126-.026-.804-.351-1.568-.747-2.266-1.239l-.047-.033-.135-.1-.248-.191-.028-.022-.131-.109-.084-.071-.092-.081-.171-.155c-.218-.206-.422-.422-.615-.655-.419-.504-.735-1.051-.903-1.647a3.36 3.36 0 0 1-.101-.694l-.02-.628c.008-.149.005-.292-.009-.429V4.107c0-.063.099-.171.166-.183 1.076-.199 2.09-.549 3.057-1.013a13.06 13.06 0 0 0 1.38-.753l.156-.096c.062-.039.117-.062.169-.072l.046-.004a.28.28 0 0 1 .036.003c.062.01.117.034.179.073l.156.096c.446.279.906.53 1.38.753l1.177.496 1.338-1.318c-.655-.189-1.277-.429-1.872-.714l-.347-.179C8.074.866 7.491.476 6.9.103L6.856.073C6.78.018 6.71-.003 6.64 0c-.07-.003-.14.018-.216.072l-.044.031-1.788 1.092-.347.179c-.64.306-1.31.562-2.02.757-.575.156-1.171.255-1.784.293-.369.022-.435.084-.435.447l.005 2.273-.009.163L0 8.229v.027c.006 1.82.798 3.268 2.07 4.49l.119.111.045.042.09.083c.626.568 1.312 1.046 2.043 1.456l.051.028.158.086a15.69 15.69 0 0 0 1.854.846c.038.015.081.025.125.03l.007.001.029.003.025.002h.024.025l.025-.002.029-.003.007-.001c.044-.006.087-.016.125-.03a15.68 15.68 0 0 0 1.854-.846l.159-.087.05-.028a11.12 11.12 0 0 0 2.043-1.456l.09-.083.045-.042.119-.111c1.272-1.221 2.064-2.669 2.07-4.476v-.041l-.001-2.875\" fill=\"#757982\" /><path d=\"M10.151 4.282L13.51.828c.34-.348.527-.35.89-.025l.298.266c.278.261.298.493.063.785l-2.305 2.855-5.319 6.583c-.326.397-.713.386-.998-.049L4.152 8.158 2.923 6.219c-.215-.34-.17-.568.156-.811l.32-.24c.361-.271.561-.255.858.075l2.205 2.45.186.195 3.504-3.606z\" fill=\"#20c321\" /></svg>\n",
       "</span>\n",
       "</div>\n",
       "</div>\n",
       "</div>\n",
       "</div>\n",
       "<div class=\"firms-r\">\n",
       "<a target=\"_blank\" class=\"visit-website linkbtn list-service-website-visit old-btn\" rel=\"nofollow\" href=\"http://www.nettechnocrats.com\">Visit website</a>\n",
       "<div class=\"firms-services clearfix\">\n",
       "<div class=\"firm-pricing\">\n",
       "< $25/hr </div>\n",
       "<div class=\"firm-employees\">50 - 249</div>\n",
       "<div class=\"firm-founded\">2012</div>\n",
       "<div class=\"firm-location\">\n",
       "India, Australia </div>\n",
       "</div>\n",
       "</div>\n",
       "</div>\n",
       "</li><li class=\"service-provider\" id=\"webpinn\"> <div itemprop=\"itemListElement\" itemscope=\"\" itemtype=\"https://schema.org/ListItem\" class=\"service-entity newentitysection\" entity-name=\"Webpinn\" entity-id=\"42532\">\n",
       "<div class=\"firms-l\">\n",
       "<div class=\"entity-header-wrapper\">\n",
       "<meta itemprop=\"position\" content=\"89\" />\n",
       "<a class=\"company-logo company-image-ling detail_page list-service-profile-visit\" href=\"/company/webpinn\" target=\"_blank\"><img style=\"height:auto;width:inherit\" content=\"https://goodfirms-prod.s3.amazonaws.com/services/general/webpinn.png\" src=\"/img/goodfirms-loader-logo.svg\" alt=\"Webpinn\" class=\"lazy\" lsrc=\"https://goodfirms-prod.s3.amazonaws.com/services/general/webpinn.png\" width=\"85\" height=\"85\" /></a>\n",
       "<h3><a class=\"c_name_head detail_page list-service-profile-visit\" href=\"/company/webpinn\" target=\"_blank\"><span itemprop=\"name\">Webpinn</span></a></h3>\n",
       "<div class=\"profile-star-link\">\n",
       "<a target=\"_blank\" href=\"/company/webpinn#reviews\" itemprop=\"url\" title=\"Review count of Webpinn\" class=\"list-service-profile-visit review-container review_url\"><span class=\"star-container\"><span class=\"profile-star\"></span><span class=\"fstar\" style=\"width:100%\"></span></span><span class=\"listinv_review_label\">5.0 (13 Reviews)</span></a>\n",
       "</div>\n",
       "<p class=\"profile-tagline\">market, sell and stand out from the competition.</p>\n",
       "</div>\n",
       "<div class=\"profile-flex\">\n",
       "<p class=\"profile-short-info\">\n",
       "We are developers of effective and affordable websites, mobile applications and artwork in Nairobi, Kenya.\n",
       "Partner with us and we&rsquo;ll work tirelessly on your behalf to implement creative solutions that attract, engage and convert more customers than you ever thought possible.\n",
       "What makes us different\n",
       "Va ... <a target=\"_blank\" class=\"c_read_more detail_page list-service-profile-visit\" href=\"/company/webpinn\">learn more about Webpinn</a> </p>\n",
       "</div>\n",
       "<div class=\"entity-footer-wrapper\">\n",
       "<div class=\"firm-review full-width\">\n",
       "<div class=\"review-conclusion\">\"Live remote workouts\"</div>\n",
       "<div class=\"reviewer-info\">\n",
       "<span class=\"reviewer-name\">Luther</span>\n",
       "<span class=\"verified-icon\" data-toggle=\"tooltip\" data-original-title=\"Verified\">\n",
       "<svg xmlns=\"http://www.w3.org/2000/svg\" width=\"13\" height=\"15\" xmlns:v=\"https://vecta.io/nano\"><path d=\"M13.28 5.354l-1.661 2.035-.003.205c-.014.137-.016.28-.009.429l-.02.628a3.36 3.36 0 0 1-.101.694c-.168.596-.484 1.143-.903 1.647a7.5 7.5 0 0 1-.612.651l-.174.159-.092.081-.084.071-.131.109-.028.022-.248.191-.136.1-.047.033c-.698.492-1.462.888-2.259 1.236a.36.36 0 0 1-.133.029c-.044-.001-.09-.01-.126-.026-.804-.351-1.568-.747-2.266-1.239l-.047-.033-.135-.1-.248-.191-.028-.022-.131-.109-.084-.071-.092-.081-.171-.155c-.218-.206-.422-.422-.615-.655-.419-.504-.735-1.051-.903-1.647a3.36 3.36 0 0 1-.101-.694l-.02-.628c.008-.149.005-.292-.009-.429V4.107c0-.063.099-.171.166-.183 1.076-.199 2.09-.549 3.057-1.013a13.06 13.06 0 0 0 1.38-.753l.156-.096c.062-.039.117-.062.169-.072l.046-.004a.28.28 0 0 1 .036.003c.062.01.117.034.179.073l.156.096c.446.279.906.53 1.38.753l1.177.496 1.338-1.318c-.655-.189-1.277-.429-1.872-.714l-.347-.179C8.074.866 7.491.476 6.9.103L6.856.073C6.78.018 6.71-.003 6.64 0c-.07-.003-.14.018-.216.072l-.044.031-1.788 1.092-.347.179c-.64.306-1.31.562-2.02.757-.575.156-1.171.255-1.784.293-.369.022-.435.084-.435.447l.005 2.273-.009.163L0 8.229v.027c.006 1.82.798 3.268 2.07 4.49l.119.111.045.042.09.083c.626.568 1.312 1.046 2.043 1.456l.051.028.158.086a15.69 15.69 0 0 0 1.854.846c.038.015.081.025.125.03l.007.001.029.003.025.002h.024.025l.025-.002.029-.003.007-.001c.044-.006.087-.016.125-.03a15.68 15.68 0 0 0 1.854-.846l.159-.087.05-.028a11.12 11.12 0 0 0 2.043-1.456l.09-.083.045-.042.119-.111c1.272-1.221 2.064-2.669 2.07-4.476v-.041l-.001-2.875\" fill=\"#757982\" /><path d=\"M10.151 4.282L13.51.828c.34-.348.527-.35.89-.025l.298.266c.278.261.298.493.063.785l-2.305 2.855-5.319 6.583c-.326.397-.713.386-.998-.049L4.152 8.158 2.923 6.219c-.215-.34-.17-.568.156-.811l.32-.24c.361-.271.561-.255.858.075l2.205 2.45.186.195 3.504-3.606z\" fill=\"#20c321\" /></svg>\n",
       "</span>\n",
       "</div>\n",
       "</div>\n",
       "</div>\n",
       "</div>\n",
       "<div class=\"firms-r\">\n",
       "<a target=\"_blank\" class=\"visit-website linkbtn list-service-website-visit old-btn\" rel=\"nofollow\" href=\"https://webpinn.com\">Visit website</a>\n",
       "<div class=\"firms-services clearfix\">\n",
       "<div class=\"firm-pricing\">\n",
       "$25 - $49/hr </div>\n",
       "<div class=\"firm-employees\">2 - 9</div>\n",
       "<div class=\"firm-founded\"></div>\n",
       "<div class=\"firm-location\">\n",
       "Kenya </div>\n",
       "</div>\n",
       "</div>\n",
       "</div>\n",
       "</li><li class=\"service-provider\" id=\"osiz-technologies-p-ltd\"> <div itemprop=\"itemListElement\" itemscope=\"\" itemtype=\"https://schema.org/ListItem\" class=\"service-entity newentitysection\" entity-name=\"Osiz Technologies P LTD\" entity-id=\"6654\">\n",
       "<div class=\"firms-l\">\n",
       "<div class=\"entity-header-wrapper\">\n",
       "<meta itemprop=\"position\" content=\"90\" />\n",
       "<a class=\"company-logo company-image-ling detail_page list-service-profile-visit\" href=\"/company/osiz-technologies-p-ltd\" target=\"_blank\"><img style=\"height:auto;width:inherit\" content=\"https://goodfirms-prod.s3.amazonaws.com/services/general/osiz-technologies-p-ltd.jpg\" src=\"/img/goodfirms-loader-logo.svg\" alt=\"Osiz Technologies P LTD\" class=\"lazy\" lsrc=\"https://goodfirms-prod.s3.amazonaws.com/services/general/osiz-technologies-p-ltd.jpg\" width=\"85\" height=\"85\" /></a>\n",
       "<h3><a class=\"c_name_head detail_page list-service-profile-visit\" href=\"/company/osiz-technologies-p-ltd\" target=\"_blank\"><span itemprop=\"name\">Osiz Technologies P LTD</span></a></h3>\n",
       "<div class=\"profile-star-link\">\n",
       "<a target=\"_blank\" href=\"/company/osiz-technologies-p-ltd#reviews\" itemprop=\"url\" title=\"Review count of Osiz Technologies P LTD\" class=\"list-service-profile-visit review-container review_url\"><span class=\"star-container\"><span class=\"profile-star\"></span><span class=\"fstar\" style=\"width:98%\"></span></span><span class=\"listinv_review_label\">4.9 (20 Reviews)</span></a>\n",
       "</div>\n",
       " <p class=\"profile-tagline\">Crypto Exchange & Blockchain Development Company</p>\n",
       "</div>\n",
       "<div class=\"profile-flex\">\n",
       "<p class=\"profile-short-info\">\n",
       "Osiz Technologies Pvt Ltd,&nbsp;An CMMI - Level 3&nbsp;Software Development Company determined to deliver an absolute software based IT solutions for Start-ups, Entrepreneurs, Businesses and Industries. Osiz undergoes continuous research and be in constant update with the latest cutting-edge technologies to leverage th ... <a target=\"_blank\" class=\"c_read_more detail_page list-service-profile-visit\" href=\"/company/osiz-technologies-p-ltd\">learn more about Osiz Technologies P LTD</a> </p>\n",
       "</div>\n",
       "<div class=\"entity-footer-wrapper\">\n",
       "<div class=\"firm-review full-width\">\n",
       "<div class=\"review-conclusion\">\"Best customer service from Osiz Technologies Pvt.Ltd.\"</div>\n",
       "<div class=\"reviewer-info\">\n",
       "<span class=\"reviewer-name\">Martin Naka, Prsidente at AmarillasInternet Corporation</span>\n",
       "<span class=\"verified-icon\" data-toggle=\"tooltip\" data-original-title=\"Verified\">\n",
       "<svg xmlns=\"http://www.w3.org/2000/svg\" width=\"13\" height=\"15\" xmlns:v=\"https://vecta.io/nano\"><path d=\"M13.28 5.354l-1.661 2.035-.003.205c-.014.137-.016.28-.009.429l-.02.628a3.36 3.36 0 0 1-.101.694c-.168.596-.484 1.143-.903 1.647a7.5 7.5 0 0 1-.612.651l-.174.159-.092.081-.084.071-.131.109-.028.022-.248.191-.136.1-.047.033c-.698.492-1.462.888-2.259 1.236a.36.36 0 0 1-.133.029c-.044-.001-.09-.01-.126-.026-.804-.351-1.568-.747-2.266-1.239l-.047-.033-.135-.1-.248-.191-.028-.022-.131-.109-.084-.071-.092-.081-.171-.155c-.218-.206-.422-.422-.615-.655-.419-.504-.735-1.051-.903-1.647a3.36 3.36 0 0 1-.101-.694l-.02-.628c.008-.149.005-.292-.009-.429V4.107c0-.063.099-.171.166-.183 1.076-.199 2.09-.549 3.057-1.013a13.06 13.06 0 0 0 1.38-.753l.156-.096c.062-.039.117-.062.169-.072l.046-.004a.28.28 0 0 1 .036.003c.062.01.117.034.179.073l.156.096c.446.279.906.53 1.38.753l1.177.496 1.338-1.318c-.655-.189-1.277-.429-1.872-.714l-.347-.179C8.074.866 7.491.476 6.9.103L6.856.073C6.78.018 6.71-.003 6.64 0c-.07-.003-.14.018-.216.072l-.044.031-1.788 1.092-.347.179c-.64.306-1.31.562-2.02.757-.575.156-1.171.255-1.784.293-.369.022-.435.084-.435.447l.005 2.273-.009.163L0 8.229v.027c.006 1.82.798 3.268 2.07 4.49l.119.111.045.042.09.083c.626.568 1.312 1.046 2.043 1.456l.051.028.158.086a15.69 15.69 0 0 0 1.854.846c.038.015.081.025.125.03l.007.001.029.003.025.002h.024.025l.025-.002.029-.003.007-.001c.044-.006.087-.016.125-.03a15.68 15.68 0 0 0 1.854-.846l.159-.087.05-.028a11.12 11.12 0 0 0 2.043-1.456l.09-.083.045-.042.119-.111c1.272-1.221 2.064-2.669 2.07-4.476v-.041l-.001-2.875\" fill=\"#757982\" /><path d=\"M10.151 4.282L13.51.828c.34-.348.527-.35.89-.025l.298.266c.278.261.298.493.063.785l-2.305 2.855-5.319 6.583c-.326.397-.713.386-.998-.049L4.152 8.158 2.923 6.219c-.215-.34-.17-.568.156-.811l.32-.24c.361-.271.561-.255.858.075l2.205 2.45.186.195 3.504-3.606z\" fill=\"#20c321\" /></svg>\n",
       "</span>\n",
       "</div>\n",
       "</div>\n",
       "</div>\n",
       "</div>\n",
       "<div class=\"firms-r\">\n",
       "<a target=\"_blank\" class=\"visit-website linkbtn list-service-website-visit old-btn\" rel=\"nofollow\" href=\"https://www.osiztechnologies.com/\">Visit website</a>\n",
       "<div class=\"firms-services clearfix\">\n",
       "<div class=\"firm-pricing\">\n",
       "$50 - $99/hr </div>\n",
       "<div class=\"firm-employees\">250 - 999</div>\n",
       "<div class=\"firm-founded\">2009</div>\n",
       "<div class=\"firm-location\">\n",
       "India </div>\n",
       "</div>\n",
       "</div>\n",
       "</div>\n",
       "</li><li class=\"service-provider\" id=\"technoloader-pvt-ltd\"> <div itemprop=\"itemListElement\" itemscope=\"\" itemtype=\"https://schema.org/ListItem\" class=\"service-entity newentitysection\" entity-name=\"Technoloader Pvt Ltd\" entity-id=\"8921\">\n",
       "<div class=\"firms-l\">\n",
       "<div class=\"entity-header-wrapper\">\n",
       "<meta itemprop=\"position\" content=\"91\" />\n",
       "<a class=\"company-logo company-image-ling detail_page list-service-profile-visit\" href=\"/company/technoloader-pvt-ltd\" target=\"_blank\"><img style=\"height:auto;width:inherit\" content=\"https://goodfirms-prod.s3.amazonaws.com/services/general/9568_5b4db014a9178.png\" src=\"/img/goodfirms-loader-logo.svg\" alt=\"Technoloader Pvt Ltd\" class=\"lazy\" lsrc=\"https://goodfirms-prod.s3.amazonaws.com/services/general/9568_5b4db014a9178.png\" width=\"85\" height=\"85\" /></a>\n",
       "<h3><a class=\"c_name_head detail_page list-service-profile-visit\" href=\"/company/technoloader-pvt-ltd\" target=\"_blank\"><span itemprop=\"name\">Technoloader Pvt Ltd</span></a></h3>\n",
       "<div class=\"profile-star-link\">\n",
       "<a target=\"_blank\" href=\"/company/technoloader-pvt-ltd#reviews\" itemprop=\"url\" title=\"Review count of Technoloader Pvt Ltd\" class=\"list-service-profile-visit review-container review_url\"><span class=\"star-container\"><span class=\"profile-star\"></span><span class=\"fstar\" style=\"width:98%\"></span></span><span class=\"listinv_review_label\">4.9 (20 Reviews)</span></a>\n",
       "</div>\n",
       "<p class=\"profile-tagline\">Blockchain Development Company in India</p>\n",
       "</div>\n",
       " <div class=\"profile-flex\">\n",
       "<p class=\"profile-short-info\">\n",
       "Technoloader (P) LTD. is a blockchain development company that provides a wide array of services based on blockchains such as blockchain development, supply chain development, cryptocurrency exchange development, cryptocurrency MLM development, IDO Development, Smart Contract Development, Dapp development, crypto tradi ... <a target=\"_blank\" class=\"c_read_more detail_page list-service-profile-visit\" href=\"/company/technoloader-pvt-ltd\">learn more about Technoloader Pvt Ltd</a> </p>\n",
       "</div>\n",
       "<div class=\"entity-footer-wrapper\">\n",
       "<div class=\"firm-review full-width\">\n",
       "<div class=\"review-conclusion\">\"Great job on website development\"</div>\n",
       "<div class=\"reviewer-info\">\n",
       "<span class=\"reviewer-name\">Parth Handa, Co-Founder at BITCOINBING Exchange</span>\n",
       "<span class=\"verified-icon\" data-toggle=\"tooltip\" data-original-title=\"Verified\">\n",
       "<svg xmlns=\"http://www.w3.org/2000/svg\" width=\"13\" height=\"15\" xmlns:v=\"https://vecta.io/nano\"><path d=\"M13.28 5.354l-1.661 2.035-.003.205c-.014.137-.016.28-.009.429l-.02.628a3.36 3.36 0 0 1-.101.694c-.168.596-.484 1.143-.903 1.647a7.5 7.5 0 0 1-.612.651l-.174.159-.092.081-.084.071-.131.109-.028.022-.248.191-.136.1-.047.033c-.698.492-1.462.888-2.259 1.236a.36.36 0 0 1-.133.029c-.044-.001-.09-.01-.126-.026-.804-.351-1.568-.747-2.266-1.239l-.047-.033-.135-.1-.248-.191-.028-.022-.131-.109-.084-.071-.092-.081-.171-.155c-.218-.206-.422-.422-.615-.655-.419-.504-.735-1.051-.903-1.647a3.36 3.36 0 0 1-.101-.694l-.02-.628c.008-.149.005-.292-.009-.429V4.107c0-.063.099-.171.166-.183 1.076-.199 2.09-.549 3.057-1.013a13.06 13.06 0 0 0 1.38-.753l.156-.096c.062-.039.117-.062.169-.072l.046-.004a.28.28 0 0 1 .036.003c.062.01.117.034.179.073l.156.096c.446.279.906.53 1.38.753l1.177.496 1.338-1.318c-.655-.189-1.277-.429-1.872-.714l-.347-.179C8.074.866 7.491.476 6.9.103L6.856.073C6.78.018 6.71-.003 6.64 0c-.07-.003-.14.018-.216.072l-.044.031-1.788 1.092-.347.179c-.64.306-1.31.562-2.02.757-.575.156-1.171.255-1.784.293-.369.022-.435.084-.435.447l.005 2.273-.009.163L0 8.229v.027c.006 1.82.798 3.268 2.07 4.49l.119.111.045.042.09.083c.626.568 1.312 1.046 2.043 1.456l.051.028.158.086a15.69 15.69 0 0 0 1.854.846c.038.015.081.025.125.03l.007.001.029.003.025.002h.024.025l.025-.002.029-.003.007-.001c.044-.006.087-.016.125-.03a15.68 15.68 0 0 0 1.854-.846l.159-.087.05-.028a11.12 11.12 0 0 0 2.043-1.456l.09-.083.045-.042.119-.111c1.272-1.221 2.064-2.669 2.07-4.476v-.041l-.001-2.875\" fill=\"#757982\" /><path d=\"M10.151 4.282L13.51.828c.34-.348.527-.35.89-.025l.298.266c.278.261.298.493.063.785l-2.305 2.855-5.319 6.583c-.326.397-.713.386-.998-.049L4.152 8.158 2.923 6.219c-.215-.34-.17-.568.156-.811l.32-.24c.361-.271.561-.255.858.075l2.205 2.45.186.195 3.504-3.606z\" fill=\"#20c321\" /></svg>\n",
       "</span>\n",
       "</div>\n",
       "</div>\n",
       "</div>\n",
       "</div>\n",
       "<div class=\"firms-r\">\n",
       "<a target=\"_blank\" class=\"visit-website linkbtn list-service-website-visit old-btn\" rel=\"nofollow\" href=\"https://www.technoloader.com/\">Visit website</a>\n",
       "<div class=\"firms-services clearfix\">\n",
       "<div class=\"firm-pricing\">\n",
       "$25 - $49/hr  </div>\n",
       "<div class=\"firm-employees\">10 - 49</div>\n",
       "<div class=\"firm-founded\">2017</div>\n",
       "<div class=\"firm-location\">\n",
       "India </div>\n",
       "</div>\n",
       "</div>\n",
       "</div>\n",
       "</li><li class=\"service-provider\" id=\"xb-software\"> <div itemprop=\"itemListElement\" itemscope=\"\" itemtype=\"https://schema.org/ListItem\" class=\"service-entity newentitysection\" entity-name=\"XB Software\" entity-id=\"519\">\n",
       "<div class=\"firms-l\">\n",
       "<div class=\"entity-header-wrapper\">\n",
       "<meta itemprop=\"position\" content=\"92\" />\n",
       "<a class=\"company-logo company-image-ling detail_page list-service-profile-visit\" href=\"/company/xb-software\" target=\"_blank\"><img style=\"height:auto;width:inherit\" content=\"https://goodfirms-prod.s3.amazonaws.com/services/general/xb-software.jpg\" src=\"/img/goodfirms-loader-logo.svg\" alt=\"XB Software\" class=\"lazy\" lsrc=\"https://goodfirms-prod.s3.amazonaws.com/services/general/xb-software.jpg\" width=\"85\" height=\"85\" /></a>\n",
       "<h3><a class=\"c_name_head detail_page list-service-profile-visit\" href=\"/company/xb-software\" target=\"_blank\"><span itemprop=\"name\">XB Software</span></a></h3>\n",
       "<div class=\"profile-star-link\">\n",
       "<a target=\"_blank\" href=\"/company/xb-software#reviews\" itemprop=\"url\" title=\"Review count of XB Software\" class=\"list-service-profile-visit review-container review_url\"><span class=\"star-container\"><span class=\"profile-star\"></span><span class=\"fstar\" style=\"width:100%\"></span></span><span class=\"listinv_review_label\">5.0 (20 Reviews)</span></a>\n",
       "</div>\n",
       "<p class=\"profile-tagline\">Custom Software Development Company</p>\n",
       "</div>\n",
       "<div class=\"profile-flex\">\n",
       "<p class=\"profile-short-info\">\n",
       "XB Software is a full-cycle development company that has&nbsp;many years of expertise in building custom web and mobile solutions. We have a strong and dedicated team of IT professionals engaged in IT Consulting, Web &amp; Mobile App Development, Business Analysis, UX/UI Design, as well as QA and Software Testing. We o ... <a target=\"_blank\" class=\"c_read_more detail_page list-service-profile-visit\" href=\"/company/xb-software\">learn more about XB Software</a> </p>\n",
       "</div>\n",
       "<div class=\"entity-footer-wrapper\">\n",
       "<div class=\"firm-review full-width\">\n",
       " <div class=\"review-conclusion\">\"High-level cooperation with 100% connection. Reliable development partner. The assigned tasks have been solved.\"</div>\n",
       "<div class=\"reviewer-info\">\n",
       "<span class=\"reviewer-name\">Ivan Berg</span>\n",
       "<span class=\"verified-icon\" data-toggle=\"tooltip\" data-original-title=\"Verified\">\n",
       "<svg xmlns=\"http://www.w3.org/2000/svg\" width=\"13\" height=\"15\" xmlns:v=\"https://vecta.io/nano\"><path d=\"M13.28 5.354l-1.661 2.035-.003.205c-.014.137-.016.28-.009.429l-.02.628a3.36 3.36 0 0 1-.101.694c-.168.596-.484 1.143-.903 1.647a7.5 7.5 0 0 1-.612.651l-.174.159-.092.081-.084.071-.131.109-.028.022-.248.191-.136.1-.047.033c-.698.492-1.462.888-2.259 1.236a.36.36 0 0 1-.133.029c-.044-.001-.09-.01-.126-.026-.804-.351-1.568-.747-2.266-1.239l-.047-.033-.135-.1-.248-.191-.028-.022-.131-.109-.084-.071-.092-.081-.171-.155c-.218-.206-.422-.422-.615-.655-.419-.504-.735-1.051-.903-1.647a3.36 3.36 0 0 1-.101-.694l-.02-.628c.008-.149.005-.292-.009-.429V4.107c0-.063.099-.171.166-.183 1.076-.199 2.09-.549 3.057-1.013a13.06 13.06 0 0 0 1.38-.753l.156-.096c.062-.039.117-.062.169-.072l.046-.004a.28.28 0 0 1 .036.003c.062.01.117.034.179.073l.156.096c.446.279.906.53 1.38.753l1.177.496 1.338-1.318c-.655-.189-1.277-.429-1.872-.714l-.347-.179C8.074.866 7.491.476 6.9.103L6.856.073C6.78.018 6.71-.003 6.64 0c-.07-.003-.14.018-.216.072l-.044.031-1.788 1.092-.347.179c-.64.306-1.31.562-2.02.757-.575.156-1.171.255-1.784.293-.369.022-.435.084-.435.447l.005 2.273-.009.163L0 8.229v.027c.006 1.82.798 3.268 2.07 4.49l.119.111.045.042.09.083c.626.568 1.312 1.046 2.043 1.456l.051.028.158.086a15.69 15.69 0 0 0 1.854.846c.038.015.081.025.125.03l.007.001.029.003.025.002h.024.025l.025-.002.029-.003.007-.001c.044-.006.087-.016.125-.03a15.68 15.68 0 0 0 1.854-.846l.159-.087.05-.028a11.12 11.12 0 0 0 2.043-1.456l.09-.083.045-.042.119-.111c1.272-1.221 2.064-2.669 2.07-4.476v-.041l-.001-2.875\" fill=\"#757982\" /><path d=\"M10.151 4.282L13.51.828c.34-.348.527-.35.89-.025l.298.266c.278.261.298.493.063.785l-2.305 2.855-5.319 6.583c-.326.397-.713.386-.998-.049L4.152 8.158 2.923 6.219c-.215-.34-.17-.568.156-.811l.32-.24c.361-.271.561-.255.858.075l2.205 2.45.186.195 3.504-3.606z\" fill=\"#20c321\" /></svg>\n",
       "</span>\n",
       "</div>\n",
       "</div>\n",
       "</div>\n",
       "</div>\n",
       "<div class=\"firms-r\">\n",
       "<a target=\"_blank\" class=\"visit-website linkbtn list-service-website-visit old-btn\" rel=\"nofollow\" href=\"https://xbsoftware.com/\">Visit website</a>\n",
       "<div class=\"firms-services clearfix\">\n",
       "<div class=\"firm-pricing\">\n",
       "$25 - $49/hr </div>\n",
       "<div class=\"firm-employees\">50 - 249</div>\n",
       "<div class=\"firm-founded\">2008</div>\n",
       "<div class=\"firm-location\">\n",
       "United States, Poland  </div>\n",
       "</div>\n",
       "</div>\n",
       "</div>\n",
       "</li><li class=\"service-provider\" id=\"five-jars\"> <div itemprop=\"itemListElement\" itemscope=\"\" itemtype=\"https://schema.org/ListItem\" class=\"service-entity newentitysection\" entity-name=\"Five Jars\" entity-id=\"73816\">\n",
       "<div class=\"firms-l\">\n",
       "<div class=\"entity-header-wrapper\">\n",
       "<meta itemprop=\"position\" content=\"93\" />\n",
       "<a class=\"company-logo company-image-ling detail_page list-service-profile-visit\" href=\"/company/five-jars\" target=\"_blank\"><img style=\"height:auto;width:inherit\" content=\"https://goodfirms-prod.s3.amazonaws.com/services/general/five-jars.jpg\" src=\"/img/goodfirms-loader-logo.svg\" alt=\"Five Jars\" class=\"lazy\" lsrc=\"https://goodfirms-prod.s3.amazonaws.com/services/general/five-jars.jpg\" width=\"85\" height=\"85\" /></a>\n",
       "<h3><a class=\"c_name_head detail_page list-service-profile-visit\" href=\"/company/five-jars\" target=\"_blank\"><span itemprop=\"name\">Five Jars</span></a></h3>\n",
       "<div class=\"profile-star-link\">\n",
       "<a target=\"_blank\" href=\"/company/five-jars#reviews\" itemprop=\"url\" title=\"Review count of Five Jars\" class=\"list-service-profile-visit review-container review_url\"><span class=\"star-container\"><span class=\"profile-star\"></span><span class=\"fstar\" style=\"width:98%\"></span></span><span class=\"listinv_review_label\">4.9 (14 Reviews)</span></a>\n",
       "</div>\n",
       "<p class=\"profile-tagline\">DIGITAL. CREATIVITY. EXPERIENCE.</p>\n",
       "</div>\n",
       "<div class=\"profile-flex\">\n",
       "<p class=\"profile-short-info\">\n",
       "Five Jars is an international Drupal, Web Development, Web Design, and Strategy company led by leaders with 10+ years of experience in web development. In the last 4 years, we&rsquo;ve delivered 75+ projects for clients in health &amp; fitness, media, art &amp; culture and NGO markets, including 10+ mid to enterprise c ... <a target=\"_blank\" class=\"c_read_more detail_page list-service-profile-visit\" href=\"/company/five-jars\">learn more about Five Jars</a> </p>\n",
       "</div>\n",
       "<div class=\"entity-footer-wrapper\">\n",
       "<div class=\"firm-review full-width\">\n",
       "<div class=\"review-conclusion\">\"Five Jars is a professional team whose experience is impressive! \"</div>\n",
       "<div class=\"reviewer-info\">\n",
       "<span class=\"reviewer-name\">Jason Hart, Senior Finance Specialist at EnerMech</span>\n",
       "<span class=\"verified-icon\" data-toggle=\"tooltip\" data-original-title=\"Verified\">\n",
       "<svg xmlns=\"http://www.w3.org/2000/svg\" width=\"13\" height=\"15\" xmlns:v=\"https://vecta.io/nano\"><path d=\"M13.28 5.354l-1.661 2.035-.003.205c-.014.137-.016.28-.009.429l-.02.628a3.36 3.36 0 0 1-.101.694c-.168.596-.484 1.143-.903 1.647a7.5 7.5 0 0 1-.612.651l-.174.159-.092.081-.084.071-.131.109-.028.022-.248.191-.136.1-.047.033c-.698.492-1.462.888-2.259 1.236a.36.36 0 0 1-.133.029c-.044-.001-.09-.01-.126-.026-.804-.351-1.568-.747-2.266-1.239l-.047-.033-.135-.1-.248-.191-.028-.022-.131-.109-.084-.071-.092-.081-.171-.155c-.218-.206-.422-.422-.615-.655-.419-.504-.735-1.051-.903-1.647a3.36 3.36 0 0 1-.101-.694l-.02-.628c.008-.149.005-.292-.009-.429V4.107c0-.063.099-.171.166-.183 1.076-.199 2.09-.549 3.057-1.013a13.06 13.06 0 0 0 1.38-.753l.156-.096c.062-.039.117-.062.169-.072l.046-.004a.28.28 0 0 1 .036.003c.062.01.117.034.179.073l.156.096c.446.279.906.53 1.38.753l1.177.496 1.338-1.318c-.655-.189-1.277-.429-1.872-.714l-.347-.179C8.074.866 7.491.476 6.9.103L6.856.073C6.78.018 6.71-.003 6.64 0c-.07-.003-.14.018-.216.072l-.044.031-1.788 1.092-.347.179c-.64.306-1.31.562-2.02.757-.575.156-1.171.255-1.784.293-.369.022-.435.084-.435.447l.005 2.273-.009.163L0 8.229v.027c.006 1.82.798 3.268 2.07 4.49l.119.111.045.042.09.083c.626.568 1.312 1.046 2.043 1.456l.051.028.158.086a15.69 15.69 0 0 0 1.854.846c.038.015.081.025.125.03l.007.001.029.003.025.002h.024.025l.025-.002.029-.003.007-.001c.044-.006.087-.016.125-.03a15.68 15.68 0 0 0 1.854-.846l.159-.087.05-.028a11.12 11.12 0 0 0 2.043-1.456l.09-.083.045-.042.119-.111c1.272-1.221 2.064-2.669 2.07-4.476v-.041l-.001-2.875\" fill=\"#757982\" /><path d=\"M10.151 4.282L13.51.828c.34-.348.527-.35.89-.025l.298.266c.278.261.298.493.063.785l-2.305 2.855-5.319 6.583c-.326.397-.713.386-.998-.049L4.152 8.158 2.923 6.219c-.215-.34-.17-.568.156-.811l.32-.24c.361-.271.561-.255.858.075l2.205 2.45.186.195 3.504-3.606z\" fill=\"#20c321\" /></svg>\n",
       "</span>\n",
       "</div>\n",
       "</div>\n",
       "</div>\n",
       "</div>\n",
       "<div class=\"firms-r\">\n",
       "<a target=\"_blank\" class=\"visit-website linkbtn list-service-website-visit old-btn\" rel=\"nofollow\" href=\"https://fivejars.com\">Visit website</a>\n",
       "<div class=\"firms-services clearfix\">\n",
       "<div class=\"firm-pricing\">\n",
       "$100 - $149/hr </div>\n",
       "<div class=\"firm-employees\">50 - 249</div>\n",
       "<div class=\"firm-founded\">2017</div>\n",
       "<div class=\"firm-location\">\n",
       "United States </div>\n",
       "</div>\n",
       "</div>\n",
       "</div>\n",
       "</li><li class=\"service-provider\" id=\"mobilecoderz-technologies\"> <div itemprop=\"itemListElement\" itemscope=\"\" itemtype=\"https://schema.org/ListItem\" class=\"service-entity newentitysection\" entity-name=\"MobileCoderz Technologies\" entity-id=\"2199\">\n",
       "<div class=\"firms-l\">\n",
       "<div class=\"entity-header-wrapper\">\n",
       "<meta itemprop=\"position\" content=\"94\" />\n",
       "<a class=\"company-logo company-image-ling visit-website list-service-website-visit\" rel=\"nofollow\" href=\"https://mobilecoderz.com/?utm_source=goodfirms\" target=\"_blank\"><img style=\"height:auto;width:inherit\" content=\"https://goodfirms-prod.s3.amazonaws.com/services/general/2199_58c1748358350.png\" src=\"/img/goodfirms-loader-logo.svg\" alt=\"MobileCoderz Technologies\" class=\"lazy\" lsrc=\"https://goodfirms-prod.s3.amazonaws.com/services/general/2199_58c1748358350.png\" width=\"85\" height=\"85\" /></a>\n",
       "<h3><a class=\"c_name_head visit-website list-service-website-visit\" rel=\"nofollow\" href=\"https://mobilecoderz.com/?utm_source=goodfirms\" target=\"_blank\"><span itemprop=\"name\">MobileCoderz Technologies</span></a></h3>\n",
       "<div class=\"profile-star-link\">\n",
       "<a target=\"_blank\" href=\"/company/mobilecoderz-technologies#reviews\" itemprop=\"url\" title=\"Review count of MobileCoderz Technologies\" class=\"list-service-profile-visit review-container review_url\"><span class=\"star-container\"><span class=\"profile-star\"></span><span class=\"fstar\" style=\"width:100%\"></span></span><span class=\"listinv_review_label\">5.0 (47 Reviews)</span></a>\n",
       "</div>\n",
       "<p class=\"profile-tagline\">Android | iOS | React Native | Web Apps</p>\n",
       "</div>\n",
       "<div class=\"profile-flex\">\n",
       "<p class=\"profile-short-info\">\n",
       "MobileCoderz is a leading Digital Transformation Company with years of expertise in mobile app development, website development, UI/UX design, eCommerce development, etc. We have specialization in developing fully-customized IT solutions for the unique needs and preferences of businesses. Over the years, we have succes ... <a target=\"_blank\" class=\"c_read_more detail_page list-service-profile-visit\" href=\"/company/mobilecoderz-technologies\">learn more about MobileCoderz Technologies</a> </p>\n",
       "</div>\n",
       "<div class=\"entity-footer-wrapper\">\n",
       "<div class=\"firm-review full-width\">\n",
       "<div class=\"review-conclusion\">\"No regrets – We hired the best team!!\"</div>\n",
       "<div class=\"reviewer-info\">\n",
       "<span class=\"reviewer-name\">Paul Badawi, Commercial Pricing at at Zellis</span>\n",
       "<span class=\"verified-icon\" data-toggle=\"tooltip\" data-original-title=\"Verified\">\n",
       " <svg xmlns=\"http://www.w3.org/2000/svg\" width=\"13\" height=\"15\" xmlns:v=\"https://vecta.io/nano\"><path d=\"M13.28 5.354l-1.661 2.035-.003.205c-.014.137-.016.28-.009.429l-.02.628a3.36 3.36 0 0 1-.101.694c-.168.596-.484 1.143-.903 1.647a7.5 7.5 0 0 1-.612.651l-.174.159-.092.081-.084.071-.131.109-.028.022-.248.191-.136.1-.047.033c-.698.492-1.462.888-2.259 1.236a.36.36 0 0 1-.133.029c-.044-.001-.09-.01-.126-.026-.804-.351-1.568-.747-2.266-1.239l-.047-.033-.135-.1-.248-.191-.028-.022-.131-.109-.084-.071-.092-.081-.171-.155c-.218-.206-.422-.422-.615-.655-.419-.504-.735-1.051-.903-1.647a3.36 3.36 0 0 1-.101-.694l-.02-.628c.008-.149.005-.292-.009-.429V4.107c0-.063.099-.171.166-.183 1.076-.199 2.09-.549 3.057-1.013a13.06 13.06 0 0 0 1.38-.753l.156-.096c.062-.039.117-.062.169-.072l.046-.004a.28.28 0 0 1 .036.003c.062.01.117.034.179.073l.156.096c.446.279.906.53 1.38.753l1.177.496 1.338-1.318c-.655-.189-1.277-.429-1.872-.714l-.347-.179C8.074.866 7.491.476 6.9.103L6.856.073C6.78.018 6.71-.003 6.64 0c-.07-.003-.14.018-.216.072l-.044.031-1.788 1.092-.347.179c-.64.306-1.31.562-2.02.757-.575.156-1.171.255-1.784.293-.369.022-.435.084-.435.447l.005 2.273-.009.163L0 8.229v.027c.006 1.82.798 3.268 2.07 4.49l.119.111.045.042.09.083c.626.568 1.312 1.046 2.043 1.456l.051.028.158.086a15.69 15.69 0 0 0 1.854.846c.038.015.081.025.125.03l.007.001.029.003.025.002h.024.025l.025-.002.029-.003.007-.001c.044-.006.087-.016.125-.03a15.68 15.68 0 0 0 1.854-.846l.159-.087.05-.028a11.12 11.12 0 0 0 2.043-1.456l.09-.083.045-.042.119-.111c1.272-1.221 2.064-2.669 2.07-4.476v-.041l-.001-2.875\" fill=\"#757982\" /><path d=\"M10.151 4.282L13.51.828c.34-.348.527-.35.89-.025l.298.266c.278.261.298.493.063.785l-2.305 2.855-5.319 6.583c-.326.397-.713.386-.998-.049L4.152 8.158 2.923 6.219c-.215-.34-.17-.568.156-.811l.32-.24c.361-.271.561-.255.858.075l2.205 2.45.186.195 3.504-3.606z\" fill=\"#20c321\" /></svg>\n",
       "</span>\n",
       "</div>\n",
       "</div>\n",
       "</div>\n",
       "</div>\n",
       "<div class=\"firms-r\">\n",
       "<a target=\"_blank\" class=\"visit-website linkbtn list-service-website-visit old-btn\" rel=\"nofollow\" href=\"https://mobilecoderz.com/?utm_source=goodfirms\">Visit website</a>\n",
       "<div class=\"firms-services clearfix\">\n",
       "<div class=\"firm-pricing\">\n",
       "< $25/hr </div>\n",
       "<div class=\"firm-employees\">50 - 249</div>\n",
       "<div class=\"firm-founded\">2015</div>\n",
       "<div class=\"firm-location\">\n",
       "India, United States </div>\n",
       "</div>\n",
       "</div>\n",
       "</div>\n",
       "</li><li class=\"service-provider\" id=\"power-gate\"> <div itemprop=\"itemListElement\" itemscope=\"\" itemtype=\"https://schema.org/ListItem\" class=\"service-entity newentitysection\" entity-name=\"PowerGate Software\" entity-id=\"86599\">\n",
       "<div class=\"firms-l\">\n",
       "<div class=\"entity-header-wrapper\">\n",
       " <meta itemprop=\"position\" content=\"95\" />\n",
       "<a class=\"company-logo company-image-ling detail_page list-service-profile-visit\" href=\"/company/power-gate\" target=\"_blank\"><img style=\"height:auto;width:inherit\" content=\"https://goodfirms-prod.s3.amazonaws.com/services/general/power-gate.png\" src=\"/img/goodfirms-loader-logo.svg\" alt=\"PowerGate Software\" class=\"lazy\" lsrc=\"https://goodfirms-prod.s3.amazonaws.com/services/general/power-gate.png\" width=\"85\" height=\"85\" /></a>\n",
       "<h3><a class=\"c_name_head detail_page list-service-profile-visit\" href=\"/company/power-gate\" target=\"_blank\"><span itemprop=\"name\">PowerGate Software</span></a></h3>\n",
       "<div class=\"profile-star-link\">\n",
       "<a target=\"_blank\" href=\"/company/power-gate#reviews\" itemprop=\"url\" title=\"Review count of PowerGate Software\" class=\"list-service-profile-visit review-container review_url\"><span class=\"star-container\"><span class=\"profile-star\"></span><span class=\"fstar\" style=\"width:100%\"></span></span><span class=\"listinv_review_label\">5.0 (14 Reviews)</span></a>\n",
       "</div>\n",
       "<p class=\"profile-tagline\">Bring Innovative Ideas To Life!</p>\n",
       "</div>\n",
       "<div class=\"profile-flex\">\n",
       "<p class=\"profile-short-info\">\n",
       "We are a Global Software Product Studio with over 10 years of experience, across different industries with offices in Australia, Canada, The United Kingdom, The United States, and VietNam, from healthcare to fintech... We are highly concerned with nurturing and bringing to life the innovative ideas of our clients and p ... <a target=\"_blank\" class=\"c_read_more detail_page list-service-profile-visit\" href=\"/company/power-gate\">learn more about PowerGate Software</a> </p>\n",
       "</div>\n",
       "<div class=\"entity-footer-wrapper\">\n",
       "<div class=\"firm-review full-width\">\n",
       "<div class=\"review-conclusion\">\"Pitago app was launched successfully, resulting in increased customer satisfaction\"</div>\n",
       "<div class=\"reviewer-info\">\n",
       "<span class=\"reviewer-name\">Kathy</span>\n",
       "<span class=\"verified-icon\" data-toggle=\"tooltip\" data-original-title=\"Verified\">\n",
       "<svg xmlns=\"http://www.w3.org/2000/svg\" width=\"13\" height=\"15\" xmlns:v=\"https://vecta.io/nano\"><path d=\"M13.28 5.354l-1.661 2.035-.003.205c-.014.137-.016.28-.009.429l-.02.628a3.36 3.36 0 0 1-.101.694c-.168.596-.484 1.143-.903 1.647a7.5 7.5 0 0 1-.612.651l-.174.159-.092.081-.084.071-.131.109-.028.022-.248.191-.136.1-.047.033c-.698.492-1.462.888-2.259 1.236a.36.36 0 0 1-.133.029c-.044-.001-.09-.01-.126-.026-.804-.351-1.568-.747-2.266-1.239l-.047-.033-.135-.1-.248-.191-.028-.022-.131-.109-.084-.071-.092-.081-.171-.155c-.218-.206-.422-.422-.615-.655-.419-.504-.735-1.051-.903-1.647a3.36 3.36 0 0 1-.101-.694l-.02-.628c.008-.149.005-.292-.009-.429V4.107c0-.063.099-.171.166-.183 1.076-.199 2.09-.549 3.057-1.013a13.06 13.06 0 0 0 1.38-.753l.156-.096c.062-.039.117-.062.169-.072l.046-.004a.28.28 0 0 1 .036.003c.062.01.117.034.179.073l.156.096c.446.279.906.53 1.38.753l1.177.496 1.338-1.318c-.655-.189-1.277-.429-1.872-.714l-.347-.179C8.074.866 7.491.476 6.9.103L6.856.073C6.78.018 6.71-.003 6.64 0c-.07-.003-.14.018-.216.072l-.044.031-1.788 1.092-.347.179c-.64.306-1.31.562-2.02.757-.575.156-1.171.255-1.784.293-.369.022-.435.084-.435.447l.005 2.273-.009.163L0 8.229v.027c.006 1.82.798 3.268 2.07 4.49l.119.111.045.042.09.083c.626.568 1.312 1.046 2.043 1.456l.051.028.158.086a15.69 15.69 0 0 0 1.854.846c.038.015.081.025.125.03l.007.001.029.003.025.002h.024.025l.025-.002.029-.003.007-.001c.044-.006.087-.016.125-.03a15.68 15.68 0 0 0 1.854-.846l.159-.087.05-.028a11.12 11.12 0 0 0 2.043-1.456l.09-.083.045-.042.119-.111c1.272-1.221 2.064-2.669 2.07-4.476v-.041l-.001-2.875\" fill=\"#757982\" /><path d=\"M10.151 4.282L13.51.828c.34-.348.527-.35.89-.025l.298.266c.278.261.298.493.063.785l-2.305 2.855-5.319 6.583c-.326.397-.713.386-.998-.049L4.152 8.158 2.923 6.219c-.215-.34-.17-.568.156-.811l.32-.24c.361-.271.561-.255.858.075l2.205 2.45.186.195 3.504-3.606z\" fill=\"#20c321\" /></svg>\n",
       "</span>\n",
       "</div>\n",
       "</div>\n",
       "</div>\n",
       "</div>\n",
       "<div class=\"firms-r\">\n",
       "<a target=\"_blank\" class=\"visit-website linkbtn list-service-website-visit old-btn\" rel=\"nofollow\" href=\"https://powergatesoftware.com/?utm_source=goodfirms.co&utm_medium=referral&utm_campaign=directory\">Visit website</a>\n",
       "<div class=\"firms-services clearfix\">\n",
       "<div class=\"firm-pricing\">\n",
       "NA </div>\n",
       "<div class=\"firm-employees\">50 - 249</div>\n",
       "<div class=\"firm-founded\">2011</div>\n",
       "<div class=\"firm-location\">\n",
       "Vietnam </div>\n",
       "</div>\n",
       "</div>\n",
       "</div>\n",
       "</li><li class=\"service-provider\" id=\"s-pro\"> <div itemprop=\"itemListElement\" itemscope=\"\" itemtype=\"https://schema.org/ListItem\" class=\"service-entity newentitysection\" entity-name=\"S-PRO\" entity-id=\"2724\">\n",
       "<div class=\"firms-l\">\n",
       "<div class=\"entity-header-wrapper\">\n",
       "<meta itemprop=\"position\" content=\"96\" />\n",
       "<a class=\"company-logo company-image-ling detail_page list-service-profile-visit\" href=\"/company/s-pro\" target=\"_blank\"><img style=\"height:auto;width:inherit\" content=\"https://goodfirms-prod.s3.amazonaws.com/services/general/s-pro.jpg\" src=\"/img/goodfirms-loader-logo.svg\" alt=\"S-PRO\" class=\"lazy\" lsrc=\"https://goodfirms-prod.s3.amazonaws.com/services/general/s-pro.jpg\" width=\"85\" height=\"85\" /></a>\n",
       "<h3><a class=\"c_name_head detail_page list-service-profile-visit\" href=\"/company/s-pro\" target=\"_blank\"><span itemprop=\"name\">S-PRO</span></a></h3>\n",
       "<div class=\"profile-star-link\">\n",
       "<a target=\"_blank\" href=\"/company/s-pro#reviews\" itemprop=\"url\" title=\"Review count of S-PRO\" class=\"list-service-profile-visit review-container review_url\"><span class=\"star-container\"><span class=\"profile-star\"></span><span class=\"fstar\" style=\"width:100%\"></span></span><span class=\"listinv_review_label\">5.0 (30 Reviews)</span></a>\n",
       "</div>\n",
       "<p class=\"profile-tagline\">Strategic partner.</p>\n",
       "</div>\n",
       "<div class=\"profile-flex\">\n",
       "<p class=\"profile-short-info\">\n",
       "S-PRO is an innovation technology partner. We help startups to create innovative products and empower existing businesses with the digitalization of their core processes to much customer-centric economy needs. By partnering with accelerators Founder Institute, Sente.Link, BCCS Cluster and others we help our clients to ... <a target=\"_blank\" class=\"c_read_more detail_page list-service-profile-visit\" href=\"/company/s-pro\">learn more about S-PRO</a> </p>\n",
       "</div>\n",
       "<div class=\"entity-footer-wrapper\">\n",
       "<div class=\"firm-review full-width\">\n",
       "<div class=\"review-conclusion\">\"The quality of the work provided, the commitment and responsiveness. \"</div>\n",
       "<div class=\"reviewer-info\">\n",
       "<span class=\"reviewer-name\">Marie Ponsardin, Product Owner at chez Groupe Associatif Siel Bleu</span>\n",
       "<span class=\"verified-icon\" data-toggle=\"tooltip\" data-original-title=\"Verified\">\n",
       "<svg xmlns=\"http://www.w3.org/2000/svg\" width=\"13\" height=\"15\" xmlns:v=\"https://vecta.io/nano\"><path d=\"M13.28 5.354l-1.661 2.035-.003.205c-.014.137-.016.28-.009.429l-.02.628a3.36 3.36 0 0 1-.101.694c-.168.596-.484 1.143-.903 1.647a7.5 7.5 0 0 1-.612.651l-.174.159-.092.081-.084.071-.131.109-.028.022-.248.191-.136.1-.047.033c-.698.492-1.462.888-2.259 1.236a.36.36 0 0 1-.133.029c-.044-.001-.09-.01-.126-.026-.804-.351-1.568-.747-2.266-1.239l-.047-.033-.135-.1-.248-.191-.028-.022-.131-.109-.084-.071-.092-.081-.171-.155c-.218-.206-.422-.422-.615-.655-.419-.504-.735-1.051-.903-1.647a3.36 3.36 0 0 1-.101-.694l-.02-.628c.008-.149.005-.292-.009-.429V4.107c0-.063.099-.171.166-.183 1.076-.199 2.09-.549 3.057-1.013a13.06 13.06 0 0 0 1.38-.753l.156-.096c.062-.039.117-.062.169-.072l.046-.004a.28.28 0 0 1 .036.003c.062.01.117.034.179.073l.156.096c.446.279.906.53 1.38.753l1.177.496 1.338-1.318c-.655-.189-1.277-.429-1.872-.714l-.347-.179C8.074.866 7.491.476 6.9.103L6.856.073C6.78.018 6.71-.003 6.64 0c-.07-.003-.14.018-.216.072l-.044.031-1.788 1.092-.347.179c-.64.306-1.31.562-2.02.757-.575.156-1.171.255-1.784.293-.369.022-.435.084-.435.447l.005 2.273-.009.163L0 8.229v.027c.006 1.82.798 3.268 2.07 4.49l.119.111.045.042.09.083c.626.568 1.312 1.046 2.043 1.456l.051.028.158.086a15.69 15.69 0 0 0 1.854.846c.038.015.081.025.125.03l.007.001.029.003.025.002h.024.025l.025-.002.029-.003.007-.001c.044-.006.087-.016.125-.03a15.68 15.68 0 0 0 1.854-.846l.159-.087.05-.028a11.12 11.12 0 0 0 2.043-1.456l.09-.083.045-.042.119-.111c1.272-1.221 2.064-2.669 2.07-4.476v-.041l-.001-2.875\" fill=\"#757982\" /><path d=\"M10.151 4.282L13.51.828c.34-.348.527-.35.89-.025l.298.266c.278.261.298.493.063.785l-2.305 2.855-5.319 6.583c-.326.397-.713.386-.998-.049L4.152 8.158 2.923 6.219c-.215-.34-.17-.568.156-.811l.32-.24c.361-.271.561-.255.858.075l2.205 2.45.186.195 3.504-3.606z\" fill=\"#20c321\" /></svg>\n",
       "</span>\n",
       "</div>\n",
       "</div>\n",
       "</div>\n",
       "</div>\n",
       "<div class=\"firms-r\">\n",
       "<a target=\"_blank\" class=\"visit-website linkbtn list-service-website-visit old-btn\" rel=\"nofollow\" href=\"https://s-pro.io/?utm_source=referral&utm_medium=goodfirms&utm_campaign=web-developers\">Visit website</a>\n",
       "<div class=\"firms-services clearfix\">\n",
       "<div class=\"firm-pricing\">\n",
       "$50 - $99/hr </div>\n",
       "<div class=\"firm-employees\">50 - 249</div>\n",
       "<div class=\"firm-founded\">2014</div>\n",
       "<div class=\"firm-location\">\n",
       "Poland </div>\n",
       "</div>\n",
       "</div>\n",
       "</div>\n",
       "</li><li class=\"service-provider\" id=\"web-design-sun\"> <div itemprop=\"itemListElement\" itemscope=\"\" itemtype=\"https://schema.org/ListItem\" class=\"service-entity newentitysection\" entity-name=\"Web Design Sun®\" entity-id=\"15951\">\n",
       "<div class=\"firms-l\">\n",
       "<div class=\"entity-header-wrapper\">\n",
       "<meta itemprop=\"position\" content=\"97\" />\n",
       "<a class=\"company-logo company-image-ling detail_page list-service-profile-visit\" href=\"/company/web-design-sun\" target=\"_blank\"><img style=\"height:auto;width:inherit\" content=\"https://goodfirms-prod.s3.amazonaws.com/services/general/web-design-sun.jpg\" src=\"/img/goodfirms-loader-logo.svg\" alt=\"Web Design Sun®\" class=\"lazy\" lsrc=\"https://goodfirms-prod.s3.amazonaws.com/services/general/web-design-sun.jpg\" width=\"85\" height=\"85\" /></a>\n",
       " <h3><a class=\"c_name_head detail_page list-service-profile-visit\" href=\"/company/web-design-sun\" target=\"_blank\"><span itemprop=\"name\">Web Design Sun®</span></a></h3>\n",
       "<div class=\"profile-star-link\">\n",
       "<a target=\"_blank\" href=\"/company/web-design-sun#reviews\" itemprop=\"url\" title=\"Review count of Web Design Sun®\" class=\"list-service-profile-visit review-container review_url\"><span class=\"star-container\"><span class=\"profile-star\"></span><span class=\"fstar\" style=\"width:100%\"></span></span><span class=\"listinv_review_label\">5.0 (15 Reviews)</span></a>\n",
       "</div>\n",
       "<p class=\"profile-tagline\">Bring Your Ideas To Life!</p>\n",
       "</div>\n",
       "<div class=\"profile-flex\">\n",
       "<p class=\"profile-short-info\">\n",
       "We are Web Design and Development Fully Remote Company focused on Client&rsquo;s Results and Revenue.\n",
       "Let&rsquo;s be honest &ndash; your revenue is very important to us, your success is our reputation. Our income depends on the effectiveness of the business solutions we provide. These are not empty words. Your resul ... <a target=\"_blank\" class=\"c_read_more detail_page list-service-profile-visit\" href=\"/company/web-design-sun\">learn more about Web Design Sun®</a> </p>\n",
       "</div>\n",
       "<div class=\"entity-footer-wrapper\">\n",
       "<div class=\"firm-review full-width\">\n",
       "<div class=\"review-conclusion\">\"Great team to work with. Great support, communication and delivery. Totally recommended \"</div>\n",
       "<div class=\"reviewer-info\">\n",
       "<span class=\"reviewer-name\">Nuria Aguado Roig, Marketing VP at Whisbi</span>\n",
       "<span class=\"verified-icon\" data-toggle=\"tooltip\" data-original-title=\"Verified\">\n",
       "<svg xmlns=\"http://www.w3.org/2000/svg\" width=\"13\" height=\"15\" xmlns:v=\"https://vecta.io/nano\"><path d=\"M13.28 5.354l-1.661 2.035-.003.205c-.014.137-.016.28-.009.429l-.02.628a3.36 3.36 0 0 1-.101.694c-.168.596-.484 1.143-.903 1.647a7.5 7.5 0 0 1-.612.651l-.174.159-.092.081-.084.071-.131.109-.028.022-.248.191-.136.1-.047.033c-.698.492-1.462.888-2.259 1.236a.36.36 0 0 1-.133.029c-.044-.001-.09-.01-.126-.026-.804-.351-1.568-.747-2.266-1.239l-.047-.033-.135-.1-.248-.191-.028-.022-.131-.109-.084-.071-.092-.081-.171-.155c-.218-.206-.422-.422-.615-.655-.419-.504-.735-1.051-.903-1.647a3.36 3.36 0 0 1-.101-.694l-.02-.628c.008-.149.005-.292-.009-.429V4.107c0-.063.099-.171.166-.183 1.076-.199 2.09-.549 3.057-1.013a13.06 13.06 0 0 0 1.38-.753l.156-.096c.062-.039.117-.062.169-.072l.046-.004a.28.28 0 0 1 .036.003c.062.01.117.034.179.073l.156.096c.446.279.906.53 1.38.753l1.177.496 1.338-1.318c-.655-.189-1.277-.429-1.872-.714l-.347-.179C8.074.866 7.491.476 6.9.103L6.856.073C6.78.018 6.71-.003 6.64 0c-.07-.003-.14.018-.216.072l-.044.031-1.788 1.092-.347.179c-.64.306-1.31.562-2.02.757-.575.156-1.171.255-1.784.293-.369.022-.435.084-.435.447l.005 2.273-.009.163L0 8.229v.027c.006 1.82.798 3.268 2.07 4.49l.119.111.045.042.09.083c.626.568 1.312 1.046 2.043 1.456l.051.028.158.086a15.69 15.69 0 0 0 1.854.846c.038.015.081.025.125.03l.007.001.029.003.025.002h.024.025l.025-.002.029-.003.007-.001c.044-.006.087-.016.125-.03a15.68 15.68 0 0 0 1.854-.846l.159-.087.05-.028a11.12 11.12 0 0 0 2.043-1.456l.09-.083.045-.042.119-.111c1.272-1.221 2.064-2.669 2.07-4.476v-.041l-.001-2.875\" fill=\"#757982\" /><path d=\"M10.151 4.282L13.51.828c.34-.348.527-.35.89-.025l.298.266c.278.261.298.493.063.785l-2.305 2.855-5.319 6.583c-.326.397-.713.386-.998-.049L4.152 8.158 2.923 6.219c-.215-.34-.17-.568.156-.811l.32-.24c.361-.271.561-.255.858.075l2.205 2.45.186.195 3.504-3.606z\" fill=\"#20c321\" /></svg>\n",
       "</span>\n",
       "</div>\n",
       "</div>\n",
       "</div>\n",
       "</div>\n",
       "<div class=\"firms-r\">\n",
       "<a target=\"_blank\" class=\"visit-website linkbtn list-service-website-visit old-btn\" rel=\"nofollow\" href=\"https://www.webdesignsun.com\">Visit website</a>\n",
       "<div class=\"firms-services clearfix\">\n",
       "<div class=\"firm-pricing\">\n",
       "$25 - $49/hr </div>\n",
       "<div class=\"firm-employees\">10 - 49</div>\n",
       "<div class=\"firm-founded\">2012</div>\n",
       "<div class=\"firm-location\">\n",
       "Spain, United Kingdom </div>\n",
       "</div>\n",
       "</div>\n",
       "</div>\n",
       "</li><li class=\"service-provider\" id=\"sag-ipl\"> <div itemprop=\"itemListElement\" itemscope=\"\" itemtype=\"https://schema.org/ListItem\" class=\"service-entity newentitysection\" entity-name=\"SAG IPL\" entity-id=\"1665\">\n",
       "<div class=\"firms-l\">\n",
       "<div class=\"entity-header-wrapper\">\n",
       "<meta itemprop=\"position\" content=\"98\" />\n",
       "<a class=\"company-logo company-image-ling detail_page list-service-profile-visit\" href=\"/company/sag-ipl\" target=\"_blank\"><img style=\"height:auto;width:inherit\" content=\"https://goodfirms-prod.s3.amazonaws.com/services/general/sag-ipl.jpg\" src=\"/img/goodfirms-loader-logo.svg\" alt=\"SAG IPL\" class=\"lazy\" lsrc=\"https://goodfirms-prod.s3.amazonaws.com/services/general/sag-ipl.jpg\" width=\"85\" height=\"85\" /></a>\n",
       "<h3><a class=\"c_name_head detail_page list-service-profile-visit\" href=\"/company/sag-ipl\" target=\"_blank\"><span itemprop=\"name\">SAG IPL</span></a></h3>\n",
       "<div class=\"profile-star-link\">\n",
       " <a target=\"_blank\" href=\"/company/sag-ipl#reviews\" itemprop=\"url\" title=\"Review count of SAG IPL\" class=\"list-service-profile-visit review-container review_url\"><span class=\"star-container\"><span class=\"profile-star\"></span><span class=\"fstar\" style=\"width:96%\"></span></span><span class=\"listinv_review_label\">4.8 (18 Reviews)</span></a>\n",
       "</div>\n",
       "<p class=\"profile-tagline\">Blockchain Marketing, Development & SEO Company</p>\n",
       "</div>\n",
       "<div class=\"profile-flex\">\n",
       "<p class=\"profile-short-info\">\n",
       "SAG IPL is an ISO 27001: 2003 certified full-service IT company based in India, particularly known for app and website development. Since its inception in 2010, the company has been engaged in offering comprehensive mobile app development, web development, digital marketing, ICO and cryptocurrency development services& ... <a target=\"_blank\" class=\"c_read_more detail_page list-service-profile-visit\" href=\"/company/sag-ipl\">learn more about SAG IPL</a> </p>\n",
       "</div>\n",
       "<div class=\"entity-footer-wrapper\">\n",
       "<div class=\"firm-review full-width\">\n",
       "<div class=\"review-conclusion\">\"A wonderful experience working with them for a year\"</div>\n",
       "<div class=\"reviewer-info\">\n",
       "<span class=\"reviewer-name\">Tony Bennett, Managing Partner at Tony Bennett Law</span>\n",
       "<span class=\"verified-icon\" data-toggle=\"tooltip\" data-original-title=\"Verified\">\n",
       "<svg xmlns=\"http://www.w3.org/2000/svg\" width=\"13\" height=\"15\" xmlns:v=\"https://vecta.io/nano\"><path d=\"M13.28 5.354l-1.661 2.035-.003.205c-.014.137-.016.28-.009.429l-.02.628a3.36 3.36 0 0 1-.101.694c-.168.596-.484 1.143-.903 1.647a7.5 7.5 0 0 1-.612.651l-.174.159-.092.081-.084.071-.131.109-.028.022-.248.191-.136.1-.047.033c-.698.492-1.462.888-2.259 1.236a.36.36 0 0 1-.133.029c-.044-.001-.09-.01-.126-.026-.804-.351-1.568-.747-2.266-1.239l-.047-.033-.135-.1-.248-.191-.028-.022-.131-.109-.084-.071-.092-.081-.171-.155c-.218-.206-.422-.422-.615-.655-.419-.504-.735-1.051-.903-1.647a3.36 3.36 0 0 1-.101-.694l-.02-.628c.008-.149.005-.292-.009-.429V4.107c0-.063.099-.171.166-.183 1.076-.199 2.09-.549 3.057-1.013a13.06 13.06 0 0 0 1.38-.753l.156-.096c.062-.039.117-.062.169-.072l.046-.004a.28.28 0 0 1 .036.003c.062.01.117.034.179.073l.156.096c.446.279.906.53 1.38.753l1.177.496 1.338-1.318c-.655-.189-1.277-.429-1.872-.714l-.347-.179C8.074.866 7.491.476 6.9.103L6.856.073C6.78.018 6.71-.003 6.64 0c-.07-.003-.14.018-.216.072l-.044.031-1.788 1.092-.347.179c-.64.306-1.31.562-2.02.757-.575.156-1.171.255-1.784.293-.369.022-.435.084-.435.447l.005 2.273-.009.163L0 8.229v.027c.006 1.82.798 3.268 2.07 4.49l.119.111.045.042.09.083c.626.568 1.312 1.046 2.043 1.456l.051.028.158.086a15.69 15.69 0 0 0 1.854.846c.038.015.081.025.125.03l.007.001.029.003.025.002h.024.025l.025-.002.029-.003.007-.001c.044-.006.087-.016.125-.03a15.68 15.68 0 0 0 1.854-.846l.159-.087.05-.028a11.12 11.12 0 0 0 2.043-1.456l.09-.083.045-.042.119-.111c1.272-1.221 2.064-2.669 2.07-4.476v-.041l-.001-2.875\" fill=\"#757982\" /><path d=\"M10.151 4.282L13.51.828c.34-.348.527-.35.89-.025l.298.266c.278.261.298.493.063.785l-2.305 2.855-5.319 6.583c-.326.397-.713.386-.998-.049L4.152 8.158 2.923 6.219c-.215-.34-.17-.568.156-.811l.32-.24c.361-.271.561-.255.858.075l2.205 2.45.186.195 3.504-3.606z\" fill=\"#20c321\" /></svg>\n",
       "</span>\n",
       "</div>\n",
       "</div>\n",
       "</div>\n",
       "</div>\n",
       "<div class=\"firms-r\">\n",
       "<a target=\"_blank\" class=\"visit-website linkbtn list-service-website-visit old-btn\" rel=\"nofollow\" href=\"https://www.sagipl.com/\">Visit website</a>\n",
       "<div class=\"firms-services clearfix\">\n",
       "<div class=\"firm-pricing\">\n",
       "$25 - $49/hr </div>\n",
       "<div class=\"firm-employees\">250 - 999</div>\n",
       "<div class=\"firm-founded\">2010</div>\n",
       "<div class=\"firm-location\">\n",
       "India, Australia </div>\n",
       "</div>\n",
       "</div>\n",
       "</div>\n",
       "</li><li class=\"service-provider\" id=\"makewebbetter\"> <div itemprop=\"itemListElement\" itemscope=\"\" itemtype=\"https://schema.org/ListItem\" class=\"service-entity newentitysection\" entity-name=\"MakeWebBetter\" entity-id=\"14198\">\n",
       "<div class=\"firms-l\">\n",
       "<div class=\"entity-header-wrapper\">\n",
       "<meta itemprop=\"position\" content=\"99\" />\n",
       "<a class=\"company-logo company-image-ling detail_page list-service-profile-visit\" href=\"/company/makewebbetter\" target=\"_blank\"><img style=\"height:auto;width:inherit\" content=\"https://goodfirms-prod.s3.amazonaws.com/services/general/makewebbetter.png\" src=\"/img/goodfirms-loader-logo.svg\" alt=\"MakeWebBetter\" class=\"lazy\" lsrc=\"https://goodfirms-prod.s3.amazonaws.com/services/general/makewebbetter.png\" width=\"85\" height=\"85\" /></a>\n",
       "<h3><a class=\"c_name_head detail_page list-service-profile-visit\" href=\"/company/makewebbetter\" target=\"_blank\"><span itemprop=\"name\">MakeWebBetter</span></a></h3>\n",
       "<div class=\"profile-star-link\">\n",
       "<a target=\"_blank\" href=\"/company/makewebbetter#reviews\" itemprop=\"url\" title=\"Review count of MakeWebBetter\" class=\"list-service-profile-visit review-container review_url\"><span class=\"star-container\"><span class=\"profile-star\"></span><span class=\"fstar\" style=\"width:100%\"></span></span><span class=\"listinv_review_label\">5.0 (24 Reviews)</span></a>\n",
       " </div>\n",
       "<p class=\"profile-tagline\">If it's HubSpot for eCommerce, It's MakeWebBetter.</p>\n",
       "</div>\n",
       "<div class=\"profile-flex\">\n",
       "<p class=\"profile-short-info\">\n",
       "MakeWebBetter is one central hub of expertise your organization needs to win in the digital world. The only eCommerce Marketing Agency and HubSpot Diamond&nbsp;Solutions Partner with a holistic approach to marketing, integrating every aspect of eCommerce and modern brand-building.\n",
       "At MakeWebBetter, you&rsquo;re alwa ... <a target=\"_blank\" class=\"c_read_more detail_page list-service-profile-visit\" href=\"/company/makewebbetter\">learn more about MakeWebBetter</a> </p>\n",
       "</div>\n",
       "<div class=\"entity-footer-wrapper\">\n",
       "<div class=\"firm-review full-width\">\n",
       "<div class=\"review-conclusion\">\"Amazing! 5 star no, 10\"</div>\n",
       "<div class=\"reviewer-info\">\n",
       "<span class=\"reviewer-name\">Iñigo Fernandez De Ortega, Manager at NÜO PLANET</span>\n",
       "<span class=\"verified-icon\" data-toggle=\"tooltip\" data-original-title=\"Verified\">\n",
       "<svg xmlns=\"http://www.w3.org/2000/svg\" width=\"13\" height=\"15\" xmlns:v=\"https://vecta.io/nano\"><path d=\"M13.28 5.354l-1.661 2.035-.003.205c-.014.137-.016.28-.009.429l-.02.628a3.36 3.36 0 0 1-.101.694c-.168.596-.484 1.143-.903 1.647a7.5 7.5 0 0 1-.612.651l-.174.159-.092.081-.084.071-.131.109-.028.022-.248.191-.136.1-.047.033c-.698.492-1.462.888-2.259 1.236a.36.36 0 0 1-.133.029c-.044-.001-.09-.01-.126-.026-.804-.351-1.568-.747-2.266-1.239l-.047-.033-.135-.1-.248-.191-.028-.022-.131-.109-.084-.071-.092-.081-.171-.155c-.218-.206-.422-.422-.615-.655-.419-.504-.735-1.051-.903-1.647a3.36 3.36 0 0 1-.101-.694l-.02-.628c.008-.149.005-.292-.009-.429V4.107c0-.063.099-.171.166-.183 1.076-.199 2.09-.549 3.057-1.013a13.06 13.06 0 0 0 1.38-.753l.156-.096c.062-.039.117-.062.169-.072l.046-.004a.28.28 0 0 1 .036.003c.062.01.117.034.179.073l.156.096c.446.279.906.53 1.38.753l1.177.496 1.338-1.318c-.655-.189-1.277-.429-1.872-.714l-.347-.179C8.074.866 7.491.476 6.9.103L6.856.073C6.78.018 6.71-.003 6.64 0c-.07-.003-.14.018-.216.072l-.044.031-1.788 1.092-.347.179c-.64.306-1.31.562-2.02.757-.575.156-1.171.255-1.784.293-.369.022-.435.084-.435.447l.005 2.273-.009.163L0 8.229v.027c.006 1.82.798 3.268 2.07 4.49l.119.111.045.042.09.083c.626.568 1.312 1.046 2.043 1.456l.051.028.158.086a15.69 15.69 0 0 0 1.854.846c.038.015.081.025.125.03l.007.001.029.003.025.002h.024.025l.025-.002.029-.003.007-.001c.044-.006.087-.016.125-.03a15.68 15.68 0 0 0 1.854-.846l.159-.087.05-.028a11.12 11.12 0 0 0 2.043-1.456l.09-.083.045-.042.119-.111c1.272-1.221 2.064-2.669 2.07-4.476v-.041l-.001-2.875\" fill=\"#757982\" /><path d=\"M10.151 4.282L13.51.828c.34-.348.527-.35.89-.025l.298.266c.278.261.298.493.063.785l-2.305 2.855-5.319 6.583c-.326.397-.713.386-.998-.049L4.152 8.158 2.923 6.219c-.215-.34-.17-.568.156-.811l.32-.24c.361-.271.561-.255.858.075l2.205 2.45.186.195 3.504-3.606z\" fill=\"#20c321\" /></svg>\n",
       " </span>\n",
       "</div>\n",
       "</div>\n",
       "</div>\n",
       "</div>\n",
       "<div class=\"firms-r\">\n",
       "<a target=\"_blank\" class=\"visit-website linkbtn list-service-website-visit old-btn\" rel=\"nofollow\" href=\"https://makewebbetter.com/\">Visit website</a>\n",
       "<div class=\"firms-services clearfix\">\n",
       "<div class=\"firm-pricing\">\n",
       "$100 - $149/hr </div>\n",
       "<div class=\"firm-employees\">1,000 - 9,999</div>\n",
       "<div class=\"firm-founded\">2016</div>\n",
       "<div class=\"firm-location\">\n",
       "United States, India </div>\n",
       "</div>\n",
       "</div>\n",
       "</div>\n",
       "</li><li class=\"service-provider\" id=\"agile-infoways-pvt-ltd\"> <div itemprop=\"itemListElement\" itemscope=\"\" itemtype=\"https://schema.org/ListItem\" class=\"service-entity newentitysection\" entity-name=\"Agile Infoways Pvt Ltd\" entity-id=\"174\">\n",
       "<div class=\"firms-l\">\n",
       "<div class=\"entity-header-wrapper\">\n",
       "<meta itemprop=\"position\" content=\"100\" />\n",
       "<a class=\"company-logo company-image-ling detail_page list-service-profile-visit\" href=\"/company/agile-infoways-pvt-ltd\" target=\"_blank\"><img style=\"height:auto;width:inherit\" content=\"https://goodfirms-prod.s3.amazonaws.com/services/general/174_563dda0e013fb.jpg\" src=\"/img/goodfirms-loader-logo.svg\" alt=\"Agile Infoways Pvt Ltd\" class=\"lazy\" lsrc=\"https://goodfirms-prod.s3.amazonaws.com/services/general/174_563dda0e013fb.jpg\" width=\"85\" height=\"85\" /></a>\n",
       "<h3><a class=\"c_name_head detail_page list-service-profile-visit\" href=\"/company/agile-infoways-pvt-ltd\" target=\"_blank\"><span itemprop=\"name\">Agile Infoways Pvt Ltd</span></a></h3>\n",
       "<div class=\"profile-star-link\">\n",
       "<a target=\"_blank\" href=\"/company/agile-infoways-pvt-ltd#reviews\" itemprop=\"url\" title=\"Review count of Agile Infoways Pvt Ltd\" class=\"list-service-profile-visit review-container review_url\"><span class=\"star-container\"><span class=\"profile-star\"></span><span class=\"fstar\" style=\"width:100%\"></span></span><span class=\"listinv_review_label\">5.0 (23 Reviews)</span></a>\n",
       "</div>\n",
       "<p class=\"profile-tagline\">Experience with Excellence</p>\n",
       " </div>\n",
       "<div class=\"profile-flex\">\n",
       "<p class=\"profile-short-info\">\n",
       "Agile Infoways is one of the leading IT solutions &amp; services provider company. We have strong competencies in Mobile App Development, Web App Development, Blockchain, AI, ML, AR/VR, UI/UX&nbsp; and more.\n",
       "We have 13+ years of global presence in the USA, Canada, Australia, UK, European countries &amp; India for de ... <a target=\"_blank\" class=\"c_read_more detail_page list-service-profile-visit\" href=\"/company/agile-infoways-pvt-ltd\">learn more about Agile Infoways Pvt Ltd</a> </p>\n",
       "</div>\n",
       "<div class=\"entity-footer-wrapper\">\n",
       "<div class=\"firm-review full-width\">\n",
       "<div class=\"review-conclusion\">\"They are very professional with good team of experts who are able to upscale different projects. Highly recommended...\"</div>\n",
       "<div class=\"reviewer-info\">\n",
       "<span class=\"reviewer-name\">Brenton Moore</span>\n",
       "<span class=\"verified-icon\" data-toggle=\"tooltip\" data-original-title=\"Verified\">\n",
       "<svg xmlns=\"http://www.w3.org/2000/svg\" width=\"13\" height=\"15\" xmlns:v=\"https://vecta.io/nano\"><path d=\"M13.28 5.354l-1.661 2.035-.003.205c-.014.137-.016.28-.009.429l-.02.628a3.36 3.36 0 0 1-.101.694c-.168.596-.484 1.143-.903 1.647a7.5 7.5 0 0 1-.612.651l-.174.159-.092.081-.084.071-.131.109-.028.022-.248.191-.136.1-.047.033c-.698.492-1.462.888-2.259 1.236a.36.36 0 0 1-.133.029c-.044-.001-.09-.01-.126-.026-.804-.351-1.568-.747-2.266-1.239l-.047-.033-.135-.1-.248-.191-.028-.022-.131-.109-.084-.071-.092-.081-.171-.155c-.218-.206-.422-.422-.615-.655-.419-.504-.735-1.051-.903-1.647a3.36 3.36 0 0 1-.101-.694l-.02-.628c.008-.149.005-.292-.009-.429V4.107c0-.063.099-.171.166-.183 1.076-.199 2.09-.549 3.057-1.013a13.06 13.06 0 0 0 1.38-.753l.156-.096c.062-.039.117-.062.169-.072l.046-.004a.28.28 0 0 1 .036.003c.062.01.117.034.179.073l.156.096c.446.279.906.53 1.38.753l1.177.496 1.338-1.318c-.655-.189-1.277-.429-1.872-.714l-.347-.179C8.074.866 7.491.476 6.9.103L6.856.073C6.78.018 6.71-.003 6.64 0c-.07-.003-.14.018-.216.072l-.044.031-1.788 1.092-.347.179c-.64.306-1.31.562-2.02.757-.575.156-1.171.255-1.784.293-.369.022-.435.084-.435.447l.005 2.273-.009.163L0 8.229v.027c.006 1.82.798 3.268 2.07 4.49l.119.111.045.042.09.083c.626.568 1.312 1.046 2.043 1.456l.051.028.158.086a15.69 15.69 0 0 0 1.854.846c.038.015.081.025.125.03l.007.001.029.003.025.002h.024.025l.025-.002.029-.003.007-.001c.044-.006.087-.016.125-.03a15.68 15.68 0 0 0 1.854-.846l.159-.087.05-.028a11.12 11.12 0 0 0 2.043-1.456l.09-.083.045-.042.119-.111c1.272-1.221 2.064-2.669 2.07-4.476v-.041l-.001-2.875\" fill=\"#757982\" /><path d=\"M10.151 4.282L13.51.828c.34-.348.527-.35.89-.025l.298.266c.278.261.298.493.063.785l-2.305 2.855-5.319 6.583c-.326.397-.713.386-.998-.049L4.152 8.158 2.923 6.219c-.215-.34-.17-.568.156-.811l.32-.24c.361-.271.561-.255.858.075l2.205 2.45.186.195 3.504-3.606z\" fill=\"#20c321\" /></svg>\n",
       "</span>\n",
       "</div>\n",
       "</div>\n",
       " </div>\n",
       "</div>\n",
       "<div class=\"firms-r\">\n",
       "<a target=\"_blank\" class=\"visit-website linkbtn list-service-website-visit old-btn\" rel=\"nofollow\" href=\"http://www.agileinfoways.com\">Visit website</a>\n",
       "<div class=\"firms-services clearfix\">\n",
       "<div class=\"firm-pricing\">\n",
       "< $25/hr </div>\n",
       "<div class=\"firm-employees\">250 - 999</div>\n",
       "<div class=\"firm-founded\">2006</div>\n",
       "<div class=\"firm-location\">\n",
       "United States, India </div>\n",
       "</div>\n",
       "</div>\n",
       "</div>\n",
       "</li><li class=\"service-provider\" id=\"voizac-technologies\"> <div itemprop=\"itemListElement\" itemscope=\"\" itemtype=\"https://schema.org/ListItem\" class=\"service-entity newentitysection\" entity-name=\"Voizac Technologies\" entity-id=\"28136\">\n",
       "<div class=\"firms-l\">\n",
       "<div class=\"entity-header-wrapper\">\n",
       "<meta itemprop=\"position\" content=\"101\" />\n",
       "<a class=\"company-logo company-image-ling detail_page list-service-profile-visit\" href=\"/company/voizac-technologies\" target=\"_blank\"><img style=\"height:auto;width:inherit\" content=\"https://goodfirms-prod.s3.amazonaws.com/services/general/voizac-technologies.png\" src=\"/img/goodfirms-loader-logo.svg\" alt=\"Voizac Technologies\" class=\"lazy\" lsrc=\"https://goodfirms-prod.s3.amazonaws.com/services/general/voizac-technologies.png\" width=\"85\" height=\"85\" /></a>\n",
       "<h3><a class=\"c_name_head detail_page list-service-profile-visit\" href=\"/company/voizac-technologies\" target=\"_blank\"><span itemprop=\"name\">Voizac Technologies</span></a></h3>\n",
       "<div class=\"profile-star-link\">\n",
       "<a target=\"_blank\" href=\"/company/voizac-technologies#reviews\" itemprop=\"url\" title=\"Review count of Voizac Technologies\" class=\"list-service-profile-visit review-container review_url\"><span class=\"star-container\"><span class=\"profile-star\"></span><span class=\"fstar\" style=\"width:100%\"></span></span><span class=\"listinv_review_label\">5.0 (16 Reviews)</span></a>\n",
       "</div>\n",
       "<p class=\"profile-tagline\">Put you first. Keep you ahead.</p>\n",
       "</div>\n",
       "<div class=\"profile-flex\">\n",
       "<p class=\"profile-short-info\">\n",
       "Voizac stands with enthusiasm to deliver a number of impeccable web solutions, which involves innovative minds and team efforts. We strongly believe to take bold initiatives, considering valuable clients experience.\n",
       "We design &amp; develop customized web applications, mobile applications for our clients by top-notch ... <a target=\"_blank\" class=\"c_read_more detail_page list-service-profile-visit\" href=\"/company/voizac-technologies\">learn more about Voizac Technologies</a> </p>\n",
       "</div>\n",
       "<div class=\"entity-footer-wrapper\">\n",
       "<div class=\"firm-review full-width\">\n",
       "<div class=\"review-conclusion\">\"Voizac Technologies successfully translated my idea into a professional mobile app\"</div>\n",
       "<div class=\"reviewer-info\">\n",
       "<span class=\"reviewer-name\">Marianne Aguilar, CEO & Founder at Coworks</span>\n",
       "<span class=\"verified-icon\" data-toggle=\"tooltip\" data-original-title=\"Verified\">\n",
       "<svg xmlns=\"http://www.w3.org/2000/svg\" width=\"13\" height=\"15\" xmlns:v=\"https://vecta.io/nano\"><path d=\"M13.28 5.354l-1.661 2.035-.003.205c-.014.137-.016.28-.009.429l-.02.628a3.36 3.36 0 0 1-.101.694c-.168.596-.484 1.143-.903 1.647a7.5 7.5 0 0 1-.612.651l-.174.159-.092.081-.084.071-.131.109-.028.022-.248.191-.136.1-.047.033c-.698.492-1.462.888-2.259 1.236a.36.36 0 0 1-.133.029c-.044-.001-.09-.01-.126-.026-.804-.351-1.568-.747-2.266-1.239l-.047-.033-.135-.1-.248-.191-.028-.022-.131-.109-.084-.071-.092-.081-.171-.155c-.218-.206-.422-.422-.615-.655-.419-.504-.735-1.051-.903-1.647a3.36 3.36 0 0 1-.101-.694l-.02-.628c.008-.149.005-.292-.009-.429V4.107c0-.063.099-.171.166-.183 1.076-.199 2.09-.549 3.057-1.013a13.06 13.06 0 0 0 1.38-.753l.156-.096c.062-.039.117-.062.169-.072l.046-.004a.28.28 0 0 1 .036.003c.062.01.117.034.179.073l.156.096c.446.279.906.53 1.38.753l1.177.496 1.338-1.318c-.655-.189-1.277-.429-1.872-.714l-.347-.179C8.074.866 7.491.476 6.9.103L6.856.073C6.78.018 6.71-.003 6.64 0c-.07-.003-.14.018-.216.072l-.044.031-1.788 1.092-.347.179c-.64.306-1.31.562-2.02.757-.575.156-1.171.255-1.784.293-.369.022-.435.084-.435.447l.005 2.273-.009.163L0 8.229v.027c.006 1.82.798 3.268 2.07 4.49l.119.111.045.042.09.083c.626.568 1.312 1.046 2.043 1.456l.051.028.158.086a15.69 15.69 0 0 0 1.854.846c.038.015.081.025.125.03l.007.001.029.003.025.002h.024.025l.025-.002.029-.003.007-.001c.044-.006.087-.016.125-.03a15.68 15.68 0 0 0 1.854-.846l.159-.087.05-.028a11.12 11.12 0 0 0 2.043-1.456l.09-.083.045-.042.119-.111c1.272-1.221 2.064-2.669 2.07-4.476v-.041l-.001-2.875\" fill=\"#757982\" /><path d=\"M10.151 4.282L13.51.828c.34-.348.527-.35.89-.025l.298.266c.278.261.298.493.063.785l-2.305 2.855-5.319 6.583c-.326.397-.713.386-.998-.049L4.152 8.158 2.923 6.219c-.215-.34-.17-.568.156-.811l.32-.24c.361-.271.561-.255.858.075l2.205 2.45.186.195 3.504-3.606z\" fill=\"#20c321\" /></svg>\n",
       "</span>\n",
       "</div>\n",
       "</div>\n",
       "</div>\n",
       "</div>\n",
       "<div class=\"firms-r\">\n",
       "<a target=\"_blank\" class=\"visit-website linkbtn list-service-website-visit old-btn\" rel=\"nofollow\" href=\"https://www.voizacinc.com\">Visit website</a>\n",
       "<div class=\"firms-services clearfix\">\n",
       "<div class=\"firm-pricing\">\n",
       "< $25/hr </div>\n",
       "<div class=\"firm-employees\">2 - 9</div>\n",
       "<div class=\"firm-founded\">2018</div>\n",
       "<div class=\"firm-location\">\n",
       "India </div>\n",
       "</div>\n",
       "</div>\n",
       "</div>\n",
       "</li><li class=\"service-provider\" id=\"saeculum-solutions-pvt-ltd\"> <div itemprop=\"itemListElement\" itemscope=\"\" itemtype=\"https://schema.org/ListItem\" class=\"service-entity newentitysection\" entity-name=\"Saeculum Solutions Pvt Ltd\" entity-id=\"7262\">\n",
       "<div class=\"firms-l\">\n",
       "<div class=\"entity-header-wrapper\">\n",
       "<meta itemprop=\"position\" content=\"102\" />\n",
       "<a class=\"company-logo company-image-ling detail_page list-service-profile-visit\" href=\"/company/saeculum-solutions-pvt-ltd\" target=\"_blank\"><img style=\"height:auto;width:inherit\" content=\"https://goodfirms-prod.s3.amazonaws.com/services/general/7262_5bf28cd4d3a5b.jpg\" src=\"/img/goodfirms-loader-logo.svg\" alt=\"Saeculum Solutions Pvt Ltd\" class=\"lazy\" lsrc=\"https://goodfirms-prod.s3.amazonaws.com/services/general/7262_5bf28cd4d3a5b.jpg\" width=\"85\" height=\"85\" /></a>\n",
       "<h3><a class=\"c_name_head detail_page list-service-profile-visit\" href=\"/company/saeculum-solutions-pvt-ltd\" target=\"_blank\"><span itemprop=\"name\">Saeculum Solutions Pvt Ltd</span></a></h3>\n",
       "<div class=\"profile-star-link\">\n",
       "<a target=\"_blank\" href=\"/company/saeculum-solutions-pvt-ltd#reviews\" itemprop=\"url\" title=\"Review count of Saeculum Solutions Pvt Ltd\" class=\"list-service-profile-visit review-container review_url\"><span class=\"star-container\"><span class=\"profile-star\"></span><span class=\"fstar\" style=\"width:100%\"></span></span><span class=\"listinv_review_label\">5.0 (16 Reviews)</span></a>\n",
       "</div>\n",
       "<p class=\"profile-tagline\">Graphics, Web & Mobile Development</p>\n",
       "</div>\n",
       "<div class=\"profile-flex\">\n",
       "<p class=\"profile-short-info\">\n",
       "Saeculum Solutions Pvt Ltd has been helping companies across various industries optimize their business processes through custom software solutions. What distinguishes us from the rest is our ability to look beyond technologies and deliver innovative and progressive solutions. Craving to find out more? Reach out to us ... <a target=\"_blank\" class=\"c_read_more detail_page list-service-profile-visit\" href=\"/company/saeculum-solutions-pvt-ltd\">learn more about Saeculum Solutions Pvt Ltd</a> </p>\n",
       "</div>\n",
       "<div class=\"entity-footer-wrapper\">\n",
       "<div class=\"firm-review full-width\">\n",
       "<div class=\"review-conclusion\">\"Fantastic Service!!\"</div>\n",
       "<div class=\"reviewer-info\">\n",
       "<span class=\"reviewer-name\">Darren Michaels</span>\n",
       "<span class=\"verified-icon\" data-toggle=\"tooltip\" data-original-title=\"Verified\">\n",
       "<svg xmlns=\"http://www.w3.org/2000/svg\" width=\"13\" height=\"15\" xmlns:v=\"https://vecta.io/nano\"><path d=\"M13.28 5.354l-1.661 2.035-.003.205c-.014.137-.016.28-.009.429l-.02.628a3.36 3.36 0 0 1-.101.694c-.168.596-.484 1.143-.903 1.647a7.5 7.5 0 0 1-.612.651l-.174.159-.092.081-.084.071-.131.109-.028.022-.248.191-.136.1-.047.033c-.698.492-1.462.888-2.259 1.236a.36.36 0 0 1-.133.029c-.044-.001-.09-.01-.126-.026-.804-.351-1.568-.747-2.266-1.239l-.047-.033-.135-.1-.248-.191-.028-.022-.131-.109-.084-.071-.092-.081-.171-.155c-.218-.206-.422-.422-.615-.655-.419-.504-.735-1.051-.903-1.647a3.36 3.36 0 0 1-.101-.694l-.02-.628c.008-.149.005-.292-.009-.429V4.107c0-.063.099-.171.166-.183 1.076-.199 2.09-.549 3.057-1.013a13.06 13.06 0 0 0 1.38-.753l.156-.096c.062-.039.117-.062.169-.072l.046-.004a.28.28 0 0 1 .036.003c.062.01.117.034.179.073l.156.096c.446.279.906.53 1.38.753l1.177.496 1.338-1.318c-.655-.189-1.277-.429-1.872-.714l-.347-.179C8.074.866 7.491.476 6.9.103L6.856.073C6.78.018 6.71-.003 6.64 0c-.07-.003-.14.018-.216.072l-.044.031-1.788 1.092-.347.179c-.64.306-1.31.562-2.02.757-.575.156-1.171.255-1.784.293-.369.022-.435.084-.435.447l.005 2.273-.009.163L0 8.229v.027c.006 1.82.798 3.268 2.07 4.49l.119.111.045.042.09.083c.626.568 1.312 1.046 2.043 1.456l.051.028.158.086a15.69 15.69 0 0 0 1.854.846c.038.015.081.025.125.03l.007.001.029.003.025.002h.024.025l.025-.002.029-.003.007-.001c.044-.006.087-.016.125-.03a15.68 15.68 0 0 0 1.854-.846l.159-.087.05-.028a11.12 11.12 0 0 0 2.043-1.456l.09-.083.045-.042.119-.111c1.272-1.221 2.064-2.669 2.07-4.476v-.041l-.001-2.875\" fill=\"#757982\" /><path d=\"M10.151 4.282L13.51.828c.34-.348.527-.35.89-.025l.298.266c.278.261.298.493.063.785l-2.305 2.855-5.319 6.583c-.326.397-.713.386-.998-.049L4.152 8.158 2.923 6.219c-.215-.34-.17-.568.156-.811l.32-.24c.361-.271.561-.255.858.075l2.205 2.45.186.195 3.504-3.606z\" fill=\"#20c321\" /></svg>\n",
       "</span>\n",
       "</div>\n",
       "</div>\n",
       "</div>\n",
       "</div>\n",
       "<div class=\"firms-r\">\n",
       "<a target=\"_blank\" class=\"visit-website linkbtn list-service-website-visit old-btn\" rel=\"nofollow\" href=\"https://saeculumsolutions.com/\">Visit website</a>\n",
       "<div class=\"firms-services clearfix\">\n",
       "<div class=\"firm-pricing\">\n",
       "< $25/hr  </div>\n",
       "<div class=\"firm-employees\">10 - 49</div>\n",
       "<div class=\"firm-founded\">2017</div>\n",
       "<div class=\"firm-location\">\n",
       "India </div>\n",
       "</div>\n",
       "</div>\n",
       "</div>\n",
       "</li><li class=\"service-provider\" id=\"chapter247-infotech\"> <div itemprop=\"itemListElement\" itemscope=\"\" itemtype=\"https://schema.org/ListItem\" class=\"service-entity newentitysection\" entity-name=\"Chapter247 Infotech\" entity-id=\"353\">\n",
       "<div class=\"firms-l\">\n",
       "<div class=\"entity-header-wrapper\">\n",
       "<meta itemprop=\"position\" content=\"103\" />\n",
       "<a class=\"company-logo company-image-ling detail_page list-service-profile-visit\" href=\"/company/chapter247-infotech\" target=\"_blank\"><img style=\"height:auto;width:inherit\" content=\"https://goodfirms-prod.s3.amazonaws.com/services/general/chapter247.jpg\" src=\"/img/goodfirms-loader-logo.svg\" alt=\"Chapter247 Infotech\" class=\"lazy\" lsrc=\"https://goodfirms-prod.s3.amazonaws.com/services/general/chapter247.jpg\" width=\"85\" height=\"85\" /></a>\n",
       "<h3><a class=\"c_name_head detail_page list-service-profile-visit\" href=\"/company/chapter247-infotech\" target=\"_blank\"><span itemprop=\"name\">Chapter247 Infotech</span></a></h3>\n",
       "<div class=\"profile-star-link\">\n",
       "<a target=\"_blank\" href=\"/company/chapter247-infotech#reviews\" itemprop=\"url\" title=\"Review count of Chapter247 Infotech\" class=\"list-service-profile-visit review-container review_url\"><span class=\"star-container\"><span class=\"profile-star\"></span><span class=\"fstar\" style=\"width:100%\"></span></span><span class=\"listinv_review_label\">5.0 (13 Reviews)</span></a>\n",
       "</div>\n",
       "<p class=\"profile-tagline\">Software Dev | Cloud Consulting | Web | AI | IOT</p>\n",
       "</div>\n",
       "<div class=\"profile-flex\">\n",
       "<p class=\"profile-short-info\">\n",
       "Chapter247 is a leading digital transformation company providing cutting-edge engineering solutions to organizations. By influencing the lives of 100+ million users our presence in the US, UK, Australia, and many countries has spearheaded the need for a technology revolution.&nbsp;\n",
       "As a collaborative partner, we aid ... <a target=\"_blank\" class=\"c_read_more detail_page list-service-profile-visit\" href=\"/company/chapter247-infotech\">learn more about Chapter247 Infotech</a> </p>\n",
       "</div>\n",
       "<div class=\"entity-footer-wrapper\">\n",
       "<div class=\"firm-review full-width\">\n",
       "<div class=\"review-conclusion\">\"They demonstrated commitment, conviction and perseverance.\"</div>\n",
       "<div class=\"reviewer-info\">\n",
       "<span class=\"reviewer-name\">Hank Warner, Founder at at Flowhaus</span>\n",
       "<span class=\"verified-icon\" data-toggle=\"tooltip\" data-original-title=\"Verified\">\n",
       "<svg xmlns=\"http://www.w3.org/2000/svg\" width=\"13\" height=\"15\" xmlns:v=\"https://vecta.io/nano\"><path d=\"M13.28 5.354l-1.661 2.035-.003.205c-.014.137-.016.28-.009.429l-.02.628a3.36 3.36 0 0 1-.101.694c-.168.596-.484 1.143-.903 1.647a7.5 7.5 0 0 1-.612.651l-.174.159-.092.081-.084.071-.131.109-.028.022-.248.191-.136.1-.047.033c-.698.492-1.462.888-2.259 1.236a.36.36 0 0 1-.133.029c-.044-.001-.09-.01-.126-.026-.804-.351-1.568-.747-2.266-1.239l-.047-.033-.135-.1-.248-.191-.028-.022-.131-.109-.084-.071-.092-.081-.171-.155c-.218-.206-.422-.422-.615-.655-.419-.504-.735-1.051-.903-1.647a3.36 3.36 0 0 1-.101-.694l-.02-.628c.008-.149.005-.292-.009-.429V4.107c0-.063.099-.171.166-.183 1.076-.199 2.09-.549 3.057-1.013a13.06 13.06 0 0 0 1.38-.753l.156-.096c.062-.039.117-.062.169-.072l.046-.004a.28.28 0 0 1 .036.003c.062.01.117.034.179.073l.156.096c.446.279.906.53 1.38.753l1.177.496 1.338-1.318c-.655-.189-1.277-.429-1.872-.714l-.347-.179C8.074.866 7.491.476 6.9.103L6.856.073C6.78.018 6.71-.003 6.64 0c-.07-.003-.14.018-.216.072l-.044.031-1.788 1.092-.347.179c-.64.306-1.31.562-2.02.757-.575.156-1.171.255-1.784.293-.369.022-.435.084-.435.447l.005 2.273-.009.163L0 8.229v.027c.006 1.82.798 3.268 2.07 4.49l.119.111.045.042.09.083c.626.568 1.312 1.046 2.043 1.456l.051.028.158.086a15.69 15.69 0 0 0 1.854.846c.038.015.081.025.125.03l.007.001.029.003.025.002h.024.025l.025-.002.029-.003.007-.001c.044-.006.087-.016.125-.03a15.68 15.68 0 0 0 1.854-.846l.159-.087.05-.028a11.12 11.12 0 0 0 2.043-1.456l.09-.083.045-.042.119-.111c1.272-1.221 2.064-2.669 2.07-4.476v-.041l-.001-2.875\" fill=\"#757982\" /><path d=\"M10.151 4.282L13.51.828c.34-.348.527-.35.89-.025l.298.266c.278.261.298.493.063.785l-2.305 2.855-5.319 6.583c-.326.397-.713.386-.998-.049L4.152 8.158 2.923 6.219c-.215-.34-.17-.568.156-.811l.32-.24c.361-.271.561-.255.858.075l2.205 2.45.186.195 3.504-3.606z\" fill=\"#20c321\" /></svg>\n",
       "</span>\n",
       "</div>\n",
       "</div>\n",
       "</div>\n",
       "</div>\n",
       "<div class=\"firms-r\">\n",
       "<a target=\"_blank\" class=\"visit-website linkbtn list-service-website-visit old-btn\" rel=\"nofollow\" href=\"http://www.chapter247.com\">Visit website</a>\n",
       "<div class=\"firms-services clearfix\">\n",
       "<div class=\"firm-pricing\">\n",
       "< $25/hr </div>\n",
       "<div class=\"firm-employees\">50 - 249</div>\n",
       "<div class=\"firm-founded\">2012</div>\n",
       "<div class=\"firm-location\">\n",
       "India, United States </div>\n",
       "</div>\n",
       "</div>\n",
       "</div>\n",
       "</li><li class=\"service-provider\" id=\"capermint-technologies-pvt-ltd\"> <div itemprop=\"itemListElement\" itemscope=\"\" itemtype=\"https://schema.org/ListItem\" class=\"service-entity newentitysection\" entity-name=\"Capermint Technologies Pvt Ltd\" entity-id=\"1418\">\n",
       "<div class=\"firms-l\">\n",
       "<div class=\"entity-header-wrapper\">\n",
       "<meta itemprop=\"position\" content=\"104\" />\n",
       "<a class=\"company-logo company-image-ling detail_page list-service-profile-visit\" href=\"/company/capermint-technologies-pvt-ltd\" target=\"_blank\"><img style=\"height:auto;width:inherit\" content=\"https://goodfirms-prod.s3.amazonaws.com/services/general/capermint-technologies-pvt-ltd.png\" src=\"/img/goodfirms-loader-logo.svg\" alt=\"Capermint Technologies Pvt Ltd\" class=\"lazy\" lsrc=\"https://goodfirms-prod.s3.amazonaws.com/services/general/capermint-technologies-pvt-ltd.png\" width=\"85\" height=\"85\" /></a>\n",
       "<h3><a class=\"c_name_head detail_page list-service-profile-visit\" href=\"/company/capermint-technologies-pvt-ltd\" target=\"_blank\"><span itemprop=\"name\">Capermint Technologies Pvt Ltd</span></a></h3>\n",
       "<div class=\"profile-star-link\">\n",
       "<a target=\"_blank\" href=\"/company/capermint-technologies-pvt-ltd#reviews\" itemprop=\"url\" title=\"Review count of Capermint Technologies Pvt Ltd\" class=\"list-service-profile-visit review-container review_url\"><span class=\"star-container\"><span class=\"profile-star\"></span><span class=\"fstar\" style=\"width:94%\"></span></span><span class=\"listinv_review_label\">4.7 (28 Reviews)</span></a>\n",
       "</div>\n",
       "<p class=\"profile-tagline\">Canada's Top Award-Winning Game Development Agency</p>\n",
       "</div>\n",
       "<div class=\"profile-flex\">\n",
       "<p class=\"profile-short-info\">\n",
       "Capermint Technologies is #1 leading mobile game development and mobile app development company. We consider our valued clientele&rsquo;s requirement as the top-most priority. Our head office is located in the rapidly expanding Canadian Quebec province&#39;s city Montreal. We have one more associate office based in Ind ... <a target=\"_blank\" class=\"c_read_more detail_page list-service-profile-visit\" href=\"/company/capermint-technologies-pvt-ltd\">learn more about Capermint Technologies Pvt Ltd</a> </p>\n",
       "</div>\n",
       "<div class=\"entity-footer-wrapper\">\n",
       "<div class=\"firm-review full-width\">\n",
       "<div class=\"review-conclusion\">\"It all started off good, but now it couldn't get any worse \"</div>\n",
       "<div class=\"reviewer-info\">\n",
       "<span class=\"reviewer-name\">Otis Nelson , Founder at Blue Mountain Games Ltd</span>\n",
       "<span class=\"verified-icon\" data-toggle=\"tooltip\" data-original-title=\"Verified\">\n",
       "<svg xmlns=\"http://www.w3.org/2000/svg\" width=\"13\" height=\"15\" xmlns:v=\"https://vecta.io/nano\"><path d=\"M13.28 5.354l-1.661 2.035-.003.205c-.014.137-.016.28-.009.429l-.02.628a3.36 3.36 0 0 1-.101.694c-.168.596-.484 1.143-.903 1.647a7.5 7.5 0 0 1-.612.651l-.174.159-.092.081-.084.071-.131.109-.028.022-.248.191-.136.1-.047.033c-.698.492-1.462.888-2.259 1.236a.36.36 0 0 1-.133.029c-.044-.001-.09-.01-.126-.026-.804-.351-1.568-.747-2.266-1.239l-.047-.033-.135-.1-.248-.191-.028-.022-.131-.109-.084-.071-.092-.081-.171-.155c-.218-.206-.422-.422-.615-.655-.419-.504-.735-1.051-.903-1.647a3.36 3.36 0 0 1-.101-.694l-.02-.628c.008-.149.005-.292-.009-.429V4.107c0-.063.099-.171.166-.183 1.076-.199 2.09-.549 3.057-1.013a13.06 13.06 0 0 0 1.38-.753l.156-.096c.062-.039.117-.062.169-.072l.046-.004a.28.28 0 0 1 .036.003c.062.01.117.034.179.073l.156.096c.446.279.906.53 1.38.753l1.177.496 1.338-1.318c-.655-.189-1.277-.429-1.872-.714l-.347-.179C8.074.866 7.491.476 6.9.103L6.856.073C6.78.018 6.71-.003 6.64 0c-.07-.003-.14.018-.216.072l-.044.031-1.788 1.092-.347.179c-.64.306-1.31.562-2.02.757-.575.156-1.171.255-1.784.293-.369.022-.435.084-.435.447l.005 2.273-.009.163L0 8.229v.027c.006 1.82.798 3.268 2.07 4.49l.119.111.045.042.09.083c.626.568 1.312 1.046 2.043 1.456l.051.028.158.086a15.69 15.69 0 0 0 1.854.846c.038.015.081.025.125.03l.007.001.029.003.025.002h.024.025l.025-.002.029-.003.007-.001c.044-.006.087-.016.125-.03a15.68 15.68 0 0 0 1.854-.846l.159-.087.05-.028a11.12 11.12 0 0 0 2.043-1.456l.09-.083.045-.042.119-.111c1.272-1.221 2.064-2.669 2.07-4.476v-.041l-.001-2.875\" fill=\"#757982\" /><path d=\"M10.151 4.282L13.51.828c.34-.348.527-.35.89-.025l.298.266c.278.261.298.493.063.785l-2.305 2.855-5.319 6.583c-.326.397-.713.386-.998-.049L4.152 8.158 2.923 6.219c-.215-.34-.17-.568.156-.811l.32-.24c.361-.271.561-.255.858.075l2.205 2.45.186.195 3.504-3.606z\" fill=\"#20c321\" /></svg>\n",
       "</span>\n",
       "</div>\n",
       "</div>\n",
       "</div>\n",
       "</div>\n",
       "<div class=\"firms-r\">\n",
       "<a target=\"_blank\" class=\"visit-website linkbtn list-service-website-visit old-btn\" rel=\"nofollow\" href=\"https://www.capermint.com\">Visit website</a>\n",
       "<div class=\"firms-services clearfix\">\n",
       "<div class=\"firm-pricing\">\n",
       "$25 - $49/hr </div>\n",
       "<div class=\"firm-employees\">50 - 249</div>\n",
       "<div class=\"firm-founded\">2014</div>\n",
       "<div class=\"firm-location\">\n",
       "India, Canada </div>\n",
       "</div>\n",
       " </div>\n",
       "</div>\n",
       "</li><li class=\"service-provider\" id=\"helpful-insight-pvt-ltd\"> <div itemprop=\"itemListElement\" itemscope=\"\" itemtype=\"https://schema.org/ListItem\" class=\"service-entity newentitysection\" entity-name=\"Helpful Insight Pvt. Ltd.\" entity-id=\"90681\">\n",
       "<div class=\"firms-l\">\n",
       "<div class=\"entity-header-wrapper\">\n",
       "<meta itemprop=\"position\" content=\"105\" />\n",
       "<a class=\"company-logo company-image-ling detail_page list-service-profile-visit\" href=\"/company/helpful-insight-pvt-ltd\" target=\"_blank\"><img style=\"height:auto;width:inherit\" content=\"https://goodfirms-prod.s3.amazonaws.com/services/general/helpful-insight-pvt-ltd.png\" src=\"/img/goodfirms-loader-logo.svg\" alt=\"Helpful Insight Pvt. Ltd.\" class=\"lazy\" lsrc=\"https://goodfirms-prod.s3.amazonaws.com/services/general/helpful-insight-pvt-ltd.png\" width=\"85\" height=\"85\" /></a>\n",
       "<h3><a class=\"c_name_head detail_page list-service-profile-visit\" href=\"/company/helpful-insight-pvt-ltd\" target=\"_blank\"><span itemprop=\"name\">Helpful Insight Pvt. Ltd.</span></a></h3>\n",
       "<div class=\"profile-star-link\">\n",
       "<a target=\"_blank\" href=\"/company/helpful-insight-pvt-ltd#reviews\" itemprop=\"url\" title=\"Review count of Helpful Insight Pvt. Ltd.\" class=\"list-service-profile-visit review-container review_url\"><span class=\"star-container\"><span class=\"profile-star\"></span><span class=\"fstar\" style=\"width:100%\"></span></span><span class=\"listinv_review_label\">5.0 (20 Reviews)</span></a>\n",
       "</div>\n",
       "<p class=\"profile-tagline\">\"ISO 9001-2015 Certified\"</p>\n",
       "</div>\n",
       "<div class=\"profile-flex\">\n",
       "<p class=\"profile-short-info\">\n",
       "Helpful Insight Pvt Ltd.&nbsp;is a&nbsp;world-renowned web &amp; mobile application Development Company based in India. We cater to the needs of multiple international clients for building a mobile application or creating a stunning website from scratch. We also take up projects to completely revamp your existing mobil ... <a target=\"_blank\" class=\"c_read_more detail_page list-service-profile-visit\" href=\"/company/helpful-insight-pvt-ltd\">learn more about Helpful Insight Pvt. Ltd.</a> </p>\n",
       "</div>\n",
       "<div class=\"entity-footer-wrapper\">\n",
       "<div class=\"firm-review full-width\">\n",
       "<div class=\"review-conclusion\">\"Designed and development of the ecommerce proejct with awesome designing skills\"</div>\n",
       "<div class=\"reviewer-info\">\n",
       " <span class=\"reviewer-name\">Gaurav Garg, Sr. Project Manager at Konstant Solutions</span>\n",
       "<span class=\"verified-icon\" data-toggle=\"tooltip\" data-original-title=\"Verified\">\n",
       "<svg xmlns=\"http://www.w3.org/2000/svg\" width=\"13\" height=\"15\" xmlns:v=\"https://vecta.io/nano\"><path d=\"M13.28 5.354l-1.661 2.035-.003.205c-.014.137-.016.28-.009.429l-.02.628a3.36 3.36 0 0 1-.101.694c-.168.596-.484 1.143-.903 1.647a7.5 7.5 0 0 1-.612.651l-.174.159-.092.081-.084.071-.131.109-.028.022-.248.191-.136.1-.047.033c-.698.492-1.462.888-2.259 1.236a.36.36 0 0 1-.133.029c-.044-.001-.09-.01-.126-.026-.804-.351-1.568-.747-2.266-1.239l-.047-.033-.135-.1-.248-.191-.028-.022-.131-.109-.084-.071-.092-.081-.171-.155c-.218-.206-.422-.422-.615-.655-.419-.504-.735-1.051-.903-1.647a3.36 3.36 0 0 1-.101-.694l-.02-.628c.008-.149.005-.292-.009-.429V4.107c0-.063.099-.171.166-.183 1.076-.199 2.09-.549 3.057-1.013a13.06 13.06 0 0 0 1.38-.753l.156-.096c.062-.039.117-.062.169-.072l.046-.004a.28.28 0 0 1 .036.003c.062.01.117.034.179.073l.156.096c.446.279.906.53 1.38.753l1.177.496 1.338-1.318c-.655-.189-1.277-.429-1.872-.714l-.347-.179C8.074.866 7.491.476 6.9.103L6.856.073C6.78.018 6.71-.003 6.64 0c-.07-.003-.14.018-.216.072l-.044.031-1.788 1.092-.347.179c-.64.306-1.31.562-2.02.757-.575.156-1.171.255-1.784.293-.369.022-.435.084-.435.447l.005 2.273-.009.163L0 8.229v.027c.006 1.82.798 3.268 2.07 4.49l.119.111.045.042.09.083c.626.568 1.312 1.046 2.043 1.456l.051.028.158.086a15.69 15.69 0 0 0 1.854.846c.038.015.081.025.125.03l.007.001.029.003.025.002h.024.025l.025-.002.029-.003.007-.001c.044-.006.087-.016.125-.03a15.68 15.68 0 0 0 1.854-.846l.159-.087.05-.028a11.12 11.12 0 0 0 2.043-1.456l.09-.083.045-.042.119-.111c1.272-1.221 2.064-2.669 2.07-4.476v-.041l-.001-2.875\" fill=\"#757982\" /><path d=\"M10.151 4.282L13.51.828c.34-.348.527-.35.89-.025l.298.266c.278.261.298.493.063.785l-2.305 2.855-5.319 6.583c-.326.397-.713.386-.998-.049L4.152 8.158 2.923 6.219c-.215-.34-.17-.568.156-.811l.32-.24c.361-.271.561-.255.858.075l2.205 2.45.186.195 3.504-3.606z\" fill=\"#20c321\" /></svg>\n",
       "</span>\n",
       "</div>\n",
       "</div>\n",
       "</div>\n",
       "</div>\n",
       "<div class=\"firms-r\">\n",
       "<a target=\"_blank\" class=\"visit-website linkbtn list-service-website-visit old-btn\" rel=\"nofollow\" href=\"https://www.helpfulinsightsolution.com/\">Visit website</a>\n",
       "<div class=\"firms-services clearfix\">\n",
       "<div class=\"firm-pricing\">\n",
       "$25 - $49/hr </div>\n",
       "<div class=\"firm-employees\">10 - 49</div>\n",
       "<div class=\"firm-founded\">2015</div>\n",
       "<div class=\"firm-location\">\n",
       "India </div>\n",
       "</div>\n",
       "</div>\n",
       "</div>\n",
       "</li><li class=\"service-provider\" id=\"raindrops-infotech\"> <div itemprop=\"itemListElement\" itemscope=\"\" itemtype=\"https://schema.org/ListItem\" class=\"service-entity newentitysection\" entity-name=\"Raindrops InfoTech\" entity-id=\"39116\">\n",
       "<div class=\"firms-l\">\n",
       "<div class=\"entity-header-wrapper\">\n",
       "<meta itemprop=\"position\" content=\"106\" />\n",
       "<a class=\"company-logo company-image-ling detail_page list-service-profile-visit\" href=\"/company/raindrops-infotech\" target=\"_blank\"><img style=\"height:auto;width:inherit\" content=\"https://goodfirms-prod.s3.amazonaws.com/services/general/raindrops-infotech.png\" src=\"/img/goodfirms-loader-logo.svg\" alt=\"Raindrops InfoTech\" class=\"lazy\" lsrc=\"https://goodfirms-prod.s3.amazonaws.com/services/general/raindrops-infotech.png\" width=\"85\" height=\"85\" /></a>\n",
       "<h3><a class=\"c_name_head detail_page list-service-profile-visit\" href=\"/company/raindrops-infotech\" target=\"_blank\"><span itemprop=\"name\">Raindrops InfoTech</span></a></h3>\n",
       "<div class=\"profile-star-link\">\n",
       "<a target=\"_blank\" href=\"/company/raindrops-infotech#reviews\" itemprop=\"url\" title=\"Review count of Raindrops InfoTech\" class=\"list-service-profile-visit review-container review_url\"><span class=\"star-container\"><span class=\"profile-star\"></span><span class=\"fstar\" style=\"width:100%\"></span></span><span class=\"listinv_review_label\">5.0 (14 Reviews)</span></a>\n",
       "</div>\n",
       "<p class=\"profile-tagline\">Web & Mobile Apps Development Company</p>\n",
       "</div>\n",
       "<div class=\"profile-flex\">\n",
       "<p class=\"profile-short-info\">\n",
       "Raindrops Infotech&nbsp;bring a simple, direct and cost-effective approach to design &amp; develop your app and web, up to the standard of your online business. We set goals in accordance to the timeline set by the client, and provide high quality work efficiently and effectively.\n",
       "Let&rsquo;s together chase your onl ... <a target=\"_blank\" class=\"c_read_more detail_page list-service-profile-visit\" href=\"/company/raindrops-infotech\">learn more about Raindrops InfoTech</a> </p>\n",
       "</div>\n",
       "<div class=\"entity-footer-wrapper\">\n",
       "<div class=\"firm-review full-width\">\n",
       "<div class=\"review-conclusion\">\"Custom application PHP-AJAX-JQUERY in Wordpress\"</div>\n",
       "<div class=\"reviewer-info\">\n",
       "<span class=\"reviewer-name\">Leone Magliocchetti Lombi</span>\n",
       "<span class=\"verified-icon\" data-toggle=\"tooltip\" data-original-title=\"Verified\">\n",
       " <svg xmlns=\"http://www.w3.org/2000/svg\" width=\"13\" height=\"15\" xmlns:v=\"https://vecta.io/nano\"><path d=\"M13.28 5.354l-1.661 2.035-.003.205c-.014.137-.016.28-.009.429l-.02.628a3.36 3.36 0 0 1-.101.694c-.168.596-.484 1.143-.903 1.647a7.5 7.5 0 0 1-.612.651l-.174.159-.092.081-.084.071-.131.109-.028.022-.248.191-.136.1-.047.033c-.698.492-1.462.888-2.259 1.236a.36.36 0 0 1-.133.029c-.044-.001-.09-.01-.126-.026-.804-.351-1.568-.747-2.266-1.239l-.047-.033-.135-.1-.248-.191-.028-.022-.131-.109-.084-.071-.092-.081-.171-.155c-.218-.206-.422-.422-.615-.655-.419-.504-.735-1.051-.903-1.647a3.36 3.36 0 0 1-.101-.694l-.02-.628c.008-.149.005-.292-.009-.429V4.107c0-.063.099-.171.166-.183 1.076-.199 2.09-.549 3.057-1.013a13.06 13.06 0 0 0 1.38-.753l.156-.096c.062-.039.117-.062.169-.072l.046-.004a.28.28 0 0 1 .036.003c.062.01.117.034.179.073l.156.096c.446.279.906.53 1.38.753l1.177.496 1.338-1.318c-.655-.189-1.277-.429-1.872-.714l-.347-.179C8.074.866 7.491.476 6.9.103L6.856.073C6.78.018 6.71-.003 6.64 0c-.07-.003-.14.018-.216.072l-.044.031-1.788 1.092-.347.179c-.64.306-1.31.562-2.02.757-.575.156-1.171.255-1.784.293-.369.022-.435.084-.435.447l.005 2.273-.009.163L0 8.229v.027c.006 1.82.798 3.268 2.07 4.49l.119.111.045.042.09.083c.626.568 1.312 1.046 2.043 1.456l.051.028.158.086a15.69 15.69 0 0 0 1.854.846c.038.015.081.025.125.03l.007.001.029.003.025.002h.024.025l.025-.002.029-.003.007-.001c.044-.006.087-.016.125-.03a15.68 15.68 0 0 0 1.854-.846l.159-.087.05-.028a11.12 11.12 0 0 0 2.043-1.456l.09-.083.045-.042.119-.111c1.272-1.221 2.064-2.669 2.07-4.476v-.041l-.001-2.875\" fill=\"#757982\" /><path d=\"M10.151 4.282L13.51.828c.34-.348.527-.35.89-.025l.298.266c.278.261.298.493.063.785l-2.305 2.855-5.319 6.583c-.326.397-.713.386-.998-.049L4.152 8.158 2.923 6.219c-.215-.34-.17-.568.156-.811l.32-.24c.361-.271.561-.255.858.075l2.205 2.45.186.195 3.504-3.606z\" fill=\"#20c321\" /></svg>\n",
       "</span>\n",
       "</div>\n",
       "</div>\n",
       "</div>\n",
       "</div>\n",
       "<div class=\"firms-r\">\n",
       "<a target=\"_blank\" class=\"visit-website linkbtn list-service-website-visit old-btn\" rel=\"nofollow\" href=\"https://www.raindropsinfotech.com\">Visit website</a>\n",
       "<div class=\"firms-services clearfix\">\n",
       "<div class=\"firm-pricing\">\n",
       "< $25/hr </div>\n",
       "<div class=\"firm-employees\">10 - 49</div>\n",
       "<div class=\"firm-founded\">2012</div>\n",
       "<div class=\"firm-location\">\n",
       "India </div>\n",
       "</div>\n",
       "</div>\n",
       "</div>\n",
       "</li><li class=\"service-provider\" id=\"lanternsol\"> <div itemprop=\"itemListElement\" itemscope=\"\" itemtype=\"https://schema.org/ListItem\" class=\"service-entity newentitysection\" entity-name=\"LanternSol\" entity-id=\"68191\">\n",
       "<div class=\"firms-l\">\n",
       "<div class=\"entity-header-wrapper\">\n",
       " <meta itemprop=\"position\" content=\"107\" />\n",
       "<a class=\"company-logo company-image-ling detail_page list-service-profile-visit\" href=\"/company/lanternsol\" target=\"_blank\"><img style=\"height:auto;width:inherit\" content=\"https://goodfirms-prod.s3.amazonaws.com/services/general/lanternsol.png\" src=\"/img/goodfirms-loader-logo.svg\" alt=\"LanternSol\" class=\"lazy\" lsrc=\"https://goodfirms-prod.s3.amazonaws.com/services/general/lanternsol.png\" width=\"85\" height=\"85\" /></a>\n",
       "<h3><a class=\"c_name_head detail_page list-service-profile-visit\" href=\"/company/lanternsol\" target=\"_blank\"><span itemprop=\"name\">LanternSol</span></a></h3>\n",
       "<div class=\"profile-star-link\">\n",
       "<a target=\"_blank\" href=\"/company/lanternsol#reviews\" itemprop=\"url\" title=\"Review count of LanternSol\" class=\"list-service-profile-visit review-container review_url\"><span class=\"star-container\"><span class=\"profile-star\"></span><span class=\"fstar\" style=\"width:100%\"></span></span><span class=\"listinv_review_label\">5.0 (12 Reviews)</span></a>\n",
       "</div>\n",
       "<p class=\"profile-tagline\">We Design, Develop and Optimize Websites</p>\n",
       "</div>\n",
       "<div class=\"profile-flex\">\n",
       "<p class=\"profile-short-info\">\n",
       "We&#39;ve helped 1000&#39;s of clients process over $50,000,000 in e-commerce sales.&nbsp; Get in touch to find out how we can help!\n",
       "</p>\n",
       "</div>\n",
       "<div class=\"entity-footer-wrapper\">\n",
       "<div class=\"firm-review full-width\">\n",
       "<div class=\"review-conclusion\">\"Wordpress and Shopify development without the headaches and with a quick turnaround\"</div>\n",
       "<div class=\"reviewer-info\">\n",
       "<span class=\"reviewer-name\">Oliver Brushfield-Smith, Director of Growth & Strategy at Dr. Buzby's ToeGrips for Dogs</span>\n",
       "<span class=\"verified-icon\" data-toggle=\"tooltip\" data-original-title=\"Verified\">\n",
       "<svg xmlns=\"http://www.w3.org/2000/svg\" width=\"13\" height=\"15\" xmlns:v=\"https://vecta.io/nano\"><path d=\"M13.28 5.354l-1.661 2.035-.003.205c-.014.137-.016.28-.009.429l-.02.628a3.36 3.36 0 0 1-.101.694c-.168.596-.484 1.143-.903 1.647a7.5 7.5 0 0 1-.612.651l-.174.159-.092.081-.084.071-.131.109-.028.022-.248.191-.136.1-.047.033c-.698.492-1.462.888-2.259 1.236a.36.36 0 0 1-.133.029c-.044-.001-.09-.01-.126-.026-.804-.351-1.568-.747-2.266-1.239l-.047-.033-.135-.1-.248-.191-.028-.022-.131-.109-.084-.071-.092-.081-.171-.155c-.218-.206-.422-.422-.615-.655-.419-.504-.735-1.051-.903-1.647a3.36 3.36 0 0 1-.101-.694l-.02-.628c.008-.149.005-.292-.009-.429V4.107c0-.063.099-.171.166-.183 1.076-.199 2.09-.549 3.057-1.013a13.06 13.06 0 0 0 1.38-.753l.156-.096c.062-.039.117-.062.169-.072l.046-.004a.28.28 0 0 1 .036.003c.062.01.117.034.179.073l.156.096c.446.279.906.53 1.38.753l1.177.496 1.338-1.318c-.655-.189-1.277-.429-1.872-.714l-.347-.179C8.074.866 7.491.476 6.9.103L6.856.073C6.78.018 6.71-.003 6.64 0c-.07-.003-.14.018-.216.072l-.044.031-1.788 1.092-.347.179c-.64.306-1.31.562-2.02.757-.575.156-1.171.255-1.784.293-.369.022-.435.084-.435.447l.005 2.273-.009.163L0 8.229v.027c.006 1.82.798 3.268 2.07 4.49l.119.111.045.042.09.083c.626.568 1.312 1.046 2.043 1.456l.051.028.158.086a15.69 15.69 0 0 0 1.854.846c.038.015.081.025.125.03l.007.001.029.003.025.002h.024.025l.025-.002.029-.003.007-.001c.044-.006.087-.016.125-.03a15.68 15.68 0 0 0 1.854-.846l.159-.087.05-.028a11.12 11.12 0 0 0 2.043-1.456l.09-.083.045-.042.119-.111c1.272-1.221 2.064-2.669 2.07-4.476v-.041l-.001-2.875\" fill=\"#757982\" /><path d=\"M10.151 4.282L13.51.828c.34-.348.527-.35.89-.025l.298.266c.278.261.298.493.063.785l-2.305 2.855-5.319 6.583c-.326.397-.713.386-.998-.049L4.152 8.158 2.923 6.219c-.215-.34-.17-.568.156-.811l.32-.24c.361-.271.561-.255.858.075l2.205 2.45.186.195 3.504-3.606z\" fill=\"#20c321\" /></svg>\n",
       "</span>\n",
       "</div>\n",
       "</div>\n",
       "</div>\n",
       "</div>\n",
       "<div class=\"firms-r\">\n",
       "<a target=\"_blank\" class=\"visit-website linkbtn list-service-website-visit old-btn\" rel=\"nofollow\" href=\"https://lanternsol.com/\">Visit website</a>\n",
       "<div class=\"firms-services clearfix\">\n",
       "<div class=\"firm-pricing\">\n",
       "$100 - $149/hr </div>\n",
       "<div class=\"firm-employees\">2 - 9</div>\n",
       "<div class=\"firm-founded\">2015</div>\n",
       "<div class=\"firm-location\">\n",
       "United States </div>\n",
       "</div>\n",
       "</div>\n",
       "</div>\n",
       "</li><li class=\"service-provider\" id=\"ripenapps\"> <div itemprop=\"itemListElement\" itemscope=\"\" itemtype=\"https://schema.org/ListItem\" class=\"service-entity newentitysection\" entity-name=\"RipenApps\" entity-id=\"3636\">\n",
       "<div class=\"firms-l\">\n",
       "<div class=\"entity-header-wrapper\">\n",
       "<meta itemprop=\"position\" content=\"108\" />\n",
       "<a class=\"company-logo company-image-ling detail_page list-service-profile-visit\" href=\"/company/ripenapps\" target=\"_blank\"><img style=\"height:auto;width:inherit\" content=\"https://goodfirms-prod.s3.amazonaws.com/services/general/ripenapps.png\" src=\"/img/goodfirms-loader-logo.svg\" alt=\"RipenApps\" class=\"lazy\" lsrc=\"https://goodfirms-prod.s3.amazonaws.com/services/general/ripenapps.png\" width=\"85\" height=\"85\" /></a>\n",
       "<h3><a class=\"c_name_head detail_page list-service-profile-visit\" href=\"/company/ripenapps\" target=\"_blank\"><span itemprop=\"name\">RipenApps</span></a></h3>\n",
       "<div class=\"profile-star-link\">\n",
       "<a target=\"_blank\" href=\"/company/ripenapps#reviews\" itemprop=\"url\" title=\"Review count of RipenApps\" class=\"list-service-profile-visit review-container review_url\"><span class=\"star-container\"><span class=\"profile-star\"></span><span class=\"fstar\" style=\"width:98%\"></span></span><span class=\"listinv_review_label\">4.9 (34 Reviews)</span></a>\n",
       "</div>\n",
       "<p class=\"profile-tagline\">Developing Above Excellence</p>\n",
       "</div>\n",
       "<div class=\"profile-flex\">\n",
       "<p class=\"profile-short-info\">\n",
       "RipenApps is a top-reviewed &amp; globally renowned mobile app development company that provides consultancy, web &amp; app development services to multi-level businesses, right from Entrepreneurs/Startups to Enterprise Businesses.&nbsp;\n",
       "We are expert-led digital solution providers that empower startups, businesses, ... <a target=\"_blank\" class=\"c_read_more detail_page list-service-profile-visit\" href=\"/company/ripenapps\">learn more about RipenApps</a> </p>\n",
       "</div>\n",
       "<div class=\"entity-footer-wrapper\">\n",
       "<div class=\"firm-review full-width\">\n",
       "<div class=\"review-conclusion\">\"They were able to implement and work on a really complex project requirement.\"</div>\n",
       "<div class=\"reviewer-info\">\n",
       "<span class=\"reviewer-name\">Sushant Shukla, Chief Product Officer at Examarly</span>\n",
       "<span class=\"verified-icon\" data-toggle=\"tooltip\" data-original-title=\"Verified\">\n",
       "<svg xmlns=\"http://www.w3.org/2000/svg\" width=\"13\" height=\"15\" xmlns:v=\"https://vecta.io/nano\"><path d=\"M13.28 5.354l-1.661 2.035-.003.205c-.014.137-.016.28-.009.429l-.02.628a3.36 3.36 0 0 1-.101.694c-.168.596-.484 1.143-.903 1.647a7.5 7.5 0 0 1-.612.651l-.174.159-.092.081-.084.071-.131.109-.028.022-.248.191-.136.1-.047.033c-.698.492-1.462.888-2.259 1.236a.36.36 0 0 1-.133.029c-.044-.001-.09-.01-.126-.026-.804-.351-1.568-.747-2.266-1.239l-.047-.033-.135-.1-.248-.191-.028-.022-.131-.109-.084-.071-.092-.081-.171-.155c-.218-.206-.422-.422-.615-.655-.419-.504-.735-1.051-.903-1.647a3.36 3.36 0 0 1-.101-.694l-.02-.628c.008-.149.005-.292-.009-.429V4.107c0-.063.099-.171.166-.183 1.076-.199 2.09-.549 3.057-1.013a13.06 13.06 0 0 0 1.38-.753l.156-.096c.062-.039.117-.062.169-.072l.046-.004a.28.28 0 0 1 .036.003c.062.01.117.034.179.073l.156.096c.446.279.906.53 1.38.753l1.177.496 1.338-1.318c-.655-.189-1.277-.429-1.872-.714l-.347-.179C8.074.866 7.491.476 6.9.103L6.856.073C6.78.018 6.71-.003 6.64 0c-.07-.003-.14.018-.216.072l-.044.031-1.788 1.092-.347.179c-.64.306-1.31.562-2.02.757-.575.156-1.171.255-1.784.293-.369.022-.435.084-.435.447l.005 2.273-.009.163L0 8.229v.027c.006 1.82.798 3.268 2.07 4.49l.119.111.045.042.09.083c.626.568 1.312 1.046 2.043 1.456l.051.028.158.086a15.69 15.69 0 0 0 1.854.846c.038.015.081.025.125.03l.007.001.029.003.025.002h.024.025l.025-.002.029-.003.007-.001c.044-.006.087-.016.125-.03a15.68 15.68 0 0 0 1.854-.846l.159-.087.05-.028a11.12 11.12 0 0 0 2.043-1.456l.09-.083.045-.042.119-.111c1.272-1.221 2.064-2.669 2.07-4.476v-.041l-.001-2.875\" fill=\"#757982\" /><path d=\"M10.151 4.282L13.51.828c.34-.348.527-.35.89-.025l.298.266c.278.261.298.493.063.785l-2.305 2.855-5.319 6.583c-.326.397-.713.386-.998-.049L4.152 8.158 2.923 6.219c-.215-.34-.17-.568.156-.811l.32-.24c.361-.271.561-.255.858.075l2.205 2.45.186.195 3.504-3.606z\" fill=\"#20c321\" /></svg>\n",
       "</span>\n",
       "</div>\n",
       "</div>\n",
       "</div>\n",
       "</div>\n",
       "<div class=\"firms-r\">\n",
       "<a target=\"_blank\" class=\"visit-website linkbtn list-service-website-visit old-btn\" rel=\"nofollow\" href=\"https://ripenapps.com/?utm_source=goodfirms.co\">Visit website</a>\n",
       "<div class=\"firms-services clearfix\">\n",
       "<div class=\"firm-pricing\">\n",
       "< $25/hr </div>\n",
       "<div class=\"firm-employees\">50 - 249</div>\n",
       "<div class=\"firm-founded\">2017</div>\n",
       "<div class=\"firm-location\">\n",
       "India, United Arab Emirates </div>\n",
       "</div>\n",
       "</div>\n",
       "</div>\n",
       "</li></ul> <div class=\"clear\">\n",
       "<div class=\"pagination-block clear text-center\">\n",
       "<div class=\"dataTables_paginate paging_bs_normal\">\n",
       "<ul class=\"pagination\">\n",
       "<li><a href=\"/directory/cms/top-website-development-companies\" title=\"First page\" rel=\"first\">&laquo;</a></li><li class=\"prev\"><a href=\"/directory/cms/top-website-development-companies\" title=\"Previous page\" rel=\"prev\">&lsaquo;</a></li><li><a href=\"/directory/cms/top-website-development-companies\">1</a></li><li class=\"active\"><span>2</span></li><li><a href=\"/directory/cms/top-website-development-companies?page=3\">3</a></li><li><a href=\"/directory/cms/top-website-development-companies?page=4\">4</a></li><li><a href=\"/directory/cms/top-website-development-companies?page=5\">5</a></li><li class=\"next\"><a href=\"/directory/cms/top-website-development-companies?page=3\" title=\"Next page\" rel=\"next\">&rsaquo;</a></li><li><a href=\"/directory/cms/top-website-development-companies?page=410\" title=\"Last page\" rel=\"last\">&raquo;</a></li> </ul>\n",
       "</div>\n",
       "</div>\n",
       "</div>\n",
       "</div>\n",
       "</div>\n",
       "</div>\n",
       "</div>\n",
       "</div>\n",
       "<div class=\"clear buyers-guide-section whitebg\" datatab=\"buyers-guide\">\n",
       "<div class=\"container\">\n",
       "<div class=\"buyers-guide\">\n",
       " <div class=\"buyers-guide-answer-part\">\n",
       "<div class=\"buyers-guide-answer ans_0\" id=\"ans_0\">\n",
       "<h2 class=\"guide-question\">Introduction</h2>\n",
       "<div class=\"guide-answer\"><p>The Internet revolution has probed countless consumers to research and compare service providers and products online prior to making a purchase decision. This has created urgency in businesses to develop a robust online presence. The best way to achieve this is to have a professionally designed website that is aesthetically pleasing, easy-to-navigate, and secured.</p></div>\n",
       "</div>\n",
       "<div class=\"buyers-guide-answer ans_1\" id=\"ans_1\">\n",
       "<h2 class=\"guide-question\">What are the Benefits of Having a Website for a Business?</h2>\n",
       "<div class=\"guide-answer\"><ul><li><strong>Greater Exposure: </strong>A well-outlined site can help the brand attract and retain a higher number of customers. Since the site is available 24x7, 365 days, it acts as a business advocate for the prospects even outside of office hours. It also allows customers from across the world to connect with the brand, overcoming any geographical limitations.</li><li><strong>Brand Credibility: </strong>First impressions count! A website that is quick, responsive and answers to the queries of the clients instantly boosts the credibility of the company. The professional image built over the site also separates the brand from its competitors. Additionally, customers tend to trust businesses that have a website more than labels without one!</li><li><strong>Creates Measurable Results: </strong>A site enables you to track the number of visitors and their exact location, which equips you with the knowledge of the target demographics. It also helps you determine the conversion rate by registering the ratio of the number of inquiries generated and the total number of visitors. With this information, businesses can implement various strategies to boost sales.</li></ul><p>Apart from the above benefits, different types of websites serve different purposes based on the product and the intended audience. To accurately achieve these benefits, a brand must have a commanding web presence. The top web development companies can help simplify this task!&nbsp;</p></div>\n",
       "</div>\n",
       "<div class=\"buyers-guide-answer ans_2\" id=\"ans_2\">\n",
       "<h2 class=\"guide-question\">Web Design vs. Web Development: How Different Are They?</h2>\n",
       "<div class=\"guide-answer\"><p>In this technological day and age, the terms &quot;web development&quot; and &quot;web designing&quot; are virtually interchangeable. However, the services offered by web design and development service providers form two radically different components of the website building technique. Web designers and web developers must possess unique skill-sets to upgrade the appearance and functionality of the site.&nbsp;</p><ul><li><strong>Web Design: </strong>To build the layout and usability of the website, the top web designers employ various design applications such as Adobe Photoshop, Coreldraw, Dreamweaver, Frontpage, etc. Their primary responsibility is to develop an aesthetically pleasing site by focusing on the placement of the buttons, finding ideal font style and color palette, maintaining visual and navigational consistency, etc.&nbsp;</li><li><strong>Web Development: </strong>The web app developers build the two principal structural components of a site &ndash; client and server sides using programming languages such as HTML, CSS, JavaScript, PHP, Java, Ruby, .NET, etc. to create a fully operational website. They are also accountable for coding the UI/UX components of the site, such as dashboards, activity logs, notifications, payment gateways, and many others.</li></ul><p>Web developers adopt a logical approach, whereas web designers embrace the creative concept of site creation. Certain web development service providers offer decent designing solutions to boost the appeal of the site at an added cost. Still, to create a remarkable site, brands must give equal significance to hiring <a href=\"https://www.goodfirms.co/directory/platforms/top-web-design-companies\">top web design companies</a>.</p></div>\n",
       "</div>\n",
       "<div class=\"buyers-guide-answer ans_3\" id=\"ans_3\">\n",
       "<h2 class=\"guide-question\">Why Should You Outsource to Web Development Company?</h2>\n",
       "<div class=\"guide-answer\"><div><ul><li><strong>Saves Time and Money: </strong>The services that the top web development companies offer, save crucial time. The expert web application development companies are thorough in the structure of CSS, HTML, and other web development languages and, thus, can implement the concept in a better manner. Moreover, it is more cost-effective to hire web developers than building an in-house team as it eliminates additional infrastructure and staffing expenses.</li><li><strong>Search Engine Optimization: </strong>The success of a website depends on its visibility amongst prospects. A website that ranks higher on search engine result pages is more likely to generate traffic than its competitors in the industry. This feat is determined by search engine optimization. The professional web developers for hire employ the right set of web development tools to ensure the site is SEO friendly.</li><li><strong>Website Compatibility: </strong>Prospects prefer visiting sites that are responsive across different browsers. The best web application development companies ensure the user-friendliness of the website by making it compatible among multiple browsers as well as various devices. The web development framework specialists can effectively use different testing tools to ensure cross-browser compatibility in sites.</li><li><strong>Competitiveness: </strong>A professional web development team is up-to-date with the changing trends and technologies in the market. They can easily build a platform that gives a constant fight to competing businesses. The top web development services providers further ensure that the website is appealing to the viewers and offers easy to use functionality.</li><li><strong>Support: </strong>At times, the website might suffer inevitable setbacks after the website is live. To tackle this, most web development companies offer additional support during and after the formation of the site. Whether there is a need to change the designing of the web pages or its structure, hiring web developers simplifies the task.&nbsp;</li></ul></div></div>\n",
       "</div>\n",
       "<div class=\"buyers-guide-answer ans_4\" id=\"ans_4\">\n",
       "<h2 class=\"guide-question\">What Are the Different Kinds of Web Developers We Can Find in the Industry?</h2>\n",
       "<div class=\"guide-answer\"><div><p>There are three fundamental types of web app developers: Front end web developers, Back end web developers, and Full-stack developers.&nbsp;</p><ul><li><strong>Front End:&nbsp;</strong>The front end developers are accountable for everything that the visitor sees while navigating the site, such as the fonts, colors, dropdown menus, sliders, etc. The chief focus of the Front end developer is to enhance the look and feel of the website while discerning its behavior in different contexts.</li></ul><p style=\"margin-left:40px\">They must possess knowledge of client-side technologies such as HTML, CSS, JavaScript, Ajax, JQuery, JavaScript, UI (User interface), UX (user experience), along with Frameworks such as ReactJS, Angular-s, Angular.js, vue.js, Ember.js, etc.</p><ul><li><strong>Back End: </strong>Back end development typically refers to the workings of the site on the server, which is also known as &ldquo;server-side.&rdquo; The back end includes a server, an application, and a database. It is a crucial part while developing a dynamic web application as it constantly communicates with the front end, transmitting data that is displayed on the web page.</li></ul><p style=\"margin-left:40px\">The back end developers need to have extensive web development skills and dedicated training in JavaScript, HTML, CSS, SQL, .Net, JQuery, Java, Linux, Ruby, Python, PHP, etc.</p><ul><li><strong>Full Stack: </strong>Full Stack web development is the unification of both the front end development and back end web development. Full-stack developers can responsibly handle the front end, back end, databases, servers, systems engineering, as well as debugging of the web application.&nbsp;</li></ul><p style=\"margin-left:40px\">A Full-stack developer must be adept in front end and back end languages and web development frameworks along with the knowledge of basic algorithms, database and server technologies, and fundamental designing ability. The most Popular Stacks are:</p><ul style=\"margin-left:40px\"><li><p><strong>MEAN Stack: </strong>MongoDB, Express, AngularJS, and Node.js.</p></li><li><p><strong>MERN Stack: </strong>MongoDB, Express, ReactJS, and Node.js</p></li><li><p><strong>Django Stack: </strong>Django, Python, and MySQL as Database.</p></li><li><p><strong>Rails or Ruby on Rails: </strong>Uses Ruby, PHP, and MySQL.</p></li><li><p><strong>LAMP Stack: </strong>Linux, Apache, MySQL, and PHP.</p></li></ul></div></div>\n",
       "</div>\n",
       "<div class=\"buyers-guide-answer ans_5\" id=\"ans_5\">\n",
       "<h2 class=\"guide-question\">How to Choose the Ideal Web Development Language?</h2>\n",
       "<div class=\"guide-answer\"><p>There is a wide range of web development languages available in the industry. This can make it challenging to select the ideal language platform for the site.&nbsp;</p><p>However, there are certain factors based on which the best language for web app development can be selected.</p><ul><li><div><strong>Targeted Platform &ndash; </strong>Since not all web development languages are competent in working on every type of platform, it is vital to consider the platform where the program is intended to run. To illustrate, for a program to run on Windows and Linux based systems, the codes must be written in C language.</div></li><li><div><strong>Flexibility and Performance &ndash; </strong>The language selected must be flexible enough to permit the computing of additional features or programs. Moreover, it must be efficient to make the language function fast.</div></li><li><div><strong>Project Size &ndash; </strong>Based on the requirement of the project, clients must opt for the language that can assist the cause. Most web developers opt for languages that offer vast libraries to tackle coding obstacles.</div></li><li><div><strong>Tool support &ndash; </strong>Finally, opt for a tool-oriented language for web development, that incorporates many elements and offers a straightforward approach to editing and controlling the work.</div></li></ul></div>\n",
       "</div>\n",
       "<div class=\"buyers-guide-answer ans_6\" id=\"ans_6\">\n",
       "<h2 class=\"guide-question\">How Much Does It Cost to Build a Website?</h2>\n",
       "<div class=\"guide-answer\"><p>The total cost of developing a website depends on numerous factors, such as Page Volume, Custom Images and Graphics, Site Layout, Additional Services, and several others.</p><h4><strong>Size of the Project</strong></h4><ul><li><div>A <strong>simple website </strong>either includes straightforward functions or is a static one-page site. Such websites only require a domain name and web hosting services. A domain name costs typically around $15 per year while web hosting about $96 annually ($8 per month.) Collectively, starting a site will cost somewhere between <strong>$120-$300.</strong></div></li><li><div>A <strong>medium website </strong>includes basic features such as catalogs of the products offered by the company, contact and quotation forms, search function, social media integrations, responsive design, etc. According to GoodFirms&rsquo; <a href=\"https://www.goodfirms.co/resources/web-design-research-small-business\">web design research</a>, websites created with core functionalities generally costs between <strong>$1000-$6000</strong>. This depends on the number of pages, additional plugins, and other such highlights offered.</div></li><li><div><strong>Corporate Websites </strong>are rich in features and are usually custom-built depending on the requirements of the clients. These projects can go as high as <strong>$25000 to $30000 </strong>as they mainly rely on the coding of the site to function properly. These sites also offer a large database to accumulate extensive data relayed by the visitors.</div></li></ul><h4><strong>Experience &amp; Location</strong></h4><p>The years of experience and the location of the web developer plays a significant role in determining the cost of the web development process.&nbsp;</p><ul><li><div>An <strong>experienced website designer </strong>from <strong>developed countries </strong>such as the USA, Canada, the UK, etc. will charge around<strong> $80 - $200/hour</strong>, whereas, a developer based in <strong>developing countries</strong>, such as the Philippines, India, Ukraine, etc. will deliver the project in <strong>$35 - $75/hour.</strong></div></li><li><div>Contrarily, a <strong>lower-end developer </strong>located in developed countries will work at<strong> $30 - $80/hour, </strong>while the developer from <strong>developing countries </strong>will charge somewhere between <strong>$20 - $25/hour </strong>for the same project.</div></li></ul><h4><strong>Revisions</strong></h4><p>Most web app development companies customarily allow a set number of design revisions included in the package. However, if more changes are required, the client might need to pay a surplus amount over the previously agreed price. If a company is solely looking for updates in the design of an existing site, the charges can be as follows:</p><ul><li><div>In case a page owner is looking to <strong>resolve minor PHP, jQuery, JavaScript, and other code conflicts</strong>, it could cost between<strong> $40 - $500</strong> depending on the type of query.</div></li><li><div>For <strong>repairing of existing plugins or code issues,</strong> the developer charges around <strong>$30 - $550.</strong></div></li><li><div>Meanwhile,<strong> creating custom sliders, small widgets, accordions, etc.,</strong> it could cost an average of<strong> $500.</strong></div></li></ul><p>Most freelance web developers and web development agencies can be hired either on an hourly basis or a fixed price per-project basis. The decision about which payment model to opt for depends on the project length. It is imperative that companies analyze and compare different web development services providers and their quotations to find out the ideal partner.</p></div>\n",
       "</div>\n",
       "<div class=\"buyers-guide-answer ans_7\" id=\"ans_7\">\n",
       "<h2 class=\"guide-question\">What Are the Skills Required in a Web Developer?</h2>\n",
       "<div class=\"guide-answer\"><p>While exploring different web development companies, it can be laborious to discern the qualified candidate from the numerous web developers in the market. To save you this hassle lookout for the following web development skills while hiring the ideal service provider:</p><ul><li><div><strong>Language: </strong>Programming languages such as HTML, CSS, etc. are the fundamental coding requirement. These languages plan the functioning of the site. Look out for developers with advanced knowledge of coding languages, like JavaScript, Python, Ruby, etc. which allows the addition of features such as audio and video, page animations, scrolling abilities, and so on. This will make the website more interactive and functional.</div></li><li><div><strong>Frameworks: </strong>Frameworks simplify the task of coding by providing lists of standard functionality. The website developer should not only have experience with different frameworks but also must be capable of choosing the right framework while building a specific type of website. For instance, to design complex user interfaces, JS frameworks are excellent.</div></li><li><div><strong>Testing: </strong>An expert web developer must be adept in testing for bugs during and after the deployment of the site. Inquire whether the developer is thorough in multiple testing methods such as Functional Testing, Unit Testing, etc. to ensure a glitch-free web development framework.</div></li><li><div><strong>Analytics:</strong> Apart from developing a highly functional website, a developer possessing sound analytical skills boosts the chances of the site generating massive profits. The developer must possess an in-depth understanding of the industry, competitors, and target audience to curate a site that fulfills its objective.</div></li><li><div><strong>SEO: </strong>Search Engine Optimization is the driving factor behind modern-day marketing. Hire web developers having in-depth fundamental SEO skills such as page upload speed, domain credibility, and keyword content. This will help improve the ranking of the website on SERPs, allowing prospects to find the brand.</div></li></ul></div>\n",
       "</div>\n",
       "<div class=\"buyers-guide-answer ans_8\" id=\"ans_8\">\n",
       "<h2 class=\"guide-question\">What Questions to Ask the Web Development Agency Before Striking a Deal?</h2>\n",
       "<div class=\"guide-answer\"><p>Before collaborating with a web development company, it is vital to address specific queries to ensure a smooth and straightforward web development process.</p><h4><strong>1. How Much Time Does It Take to Create a Website?</strong></h4><p>The timeframe for completing a web development project depends on the complexity and characteristics of the website.&nbsp; A single page site can take a few hours or days to complete. Whereas, a complex website, comprising of multiple webpages, elaborate features, plugins, and such, could take somewhere between a couple of weeks to several months to complete.&nbsp;</p><h4><strong>2. Which Web Development Methodology is Utilized?</strong></h4><p>The web development process adopted by the company determines the success or failure of the project. The two most prevalent strategies are the Waterfall method and the Agile method.</p><p><strong>Waterfall </strong>is a traditional approach that follows a linear development pattern where each segment is coded in a sequential format. The transition from one plane to another occurs only once the previous stage is completed. For its successful implementation, formalized documentation is requisite. This makes the waterfall technique a better option for short-term projects.</p><p>Contrarily, <strong>Agile </strong>follows an incremental and iterative approach. This process accommodates frequent changes throughout the development phase. Agile methodology mostly ignores documentation and considers a working prototype as a foundation for the user&#39;s assessment and feedback.</p><h4><strong>3. Which Technologies and Frameworks Are Used?</strong></h4><p>In the ever-growing tech realm, the top web developers for hire stay up-to-date with the latest technologies to ensure the final product developed is future-ready. Web development firms must utilize techniques that collaborate with each element of the designing and development phase. This includes incorporating web development languages that can support the front end development, back end development as well as offer efficient the framework for the website. An exceptional team of web developers will further ensure that the backend is user-friendly and practical for the in-house team.</p><h4><strong>4. How Many Years of Experience Do They Have in This Industry?</strong></h4><p>It is imperative to analyze the web development firm&#39;s contribution to the market. Request them to provide their portfolio, which should outline their past work, the type of websites they have worked on, along with the number of projects they have accomplished and the years they have worked in this field. Businesses can additionally refer to third party research and review platforms, such as GoodFirms, to further ascertain the quality of the web development service provided by examining the genuine feedback and ratings of previous clients.</p><h4><strong>5. Will the Site Be Responsive?</strong></h4><p>Responsive design ensures that the layout of the website is consistent across every device, whether it is computers, phones, or tablets, irrespective of screen size, platform, and orientation. Since responsive web design improves the user experience, user engagement is expected to increase simultaneously. Moreover, website features such as responsive web design and mobile-first indexing are indispensable factors in boosting the ranking on SERPs and decreasing the bounce rate.&nbsp;</p><p>The developer must understand the principles of responsive design and be capable of implementing them on the coding front. Request the web developer to demonstrate examples of previously developed websites incorporating responsive designing to judge their caliber accurately.&nbsp;</p><h4><strong>6. Which Additional Services Are Included in the Package?</strong></h4><ul><li><div><strong>Web hosting:</strong> Most web development companies include web hosting plans as a part of their services. However, consider inquiring whether the package consists of a unique IP address. Moreover, be clear about how much bandwidth will be allowed, methods of tech support, and guaranteed uptime.</div></li><li><div><strong>CMS:</strong> An efficient web development firm empowers its clients with a quality content management system as a part of their strategy. While shortlisting potential partners, ask about the CMS they prefer. Discuss customization options and the system&#39;s scope for scalability. Finally, ask about the compatibility of the site with other systems.</div></li><li><div><strong>SEO:</strong> Web development agencies must take into account search engine optimization and other inbound marketing techniques. Ask for the implementation strategies of SEO technical best practices such as page speed optimization, 301 redirects, Canonical URLs, etc.that can boost the ranking of the site on search engine result pages.</div></li></ul></div>\n",
       "</div>\n",
       "<div class=\"buyers-guide-answer ans_9\" id=\"ans_9\">\n",
       "<h2 class=\"guide-question\">Do They Offer Post-Launch Security and Support?</h2>\n",
       "<div class=\"guide-answer\"><p>Security is one of the most crucial segments of website creation. To ensure optimal performance, the website developer must equip the site with security plugins. Moreover, verify if they test Use Cases to identify and rectify vulnerabilities. Finally, investigate whether they have previously encountered security threats and what steps they have taken to counter them. It is also vital that the web development agency offers support post-deployment. In the event the website crashes due to certain technical/non-technical failure, the web developer should be available to cater to the issue. Moreover, communicate with the developers regarding any training sessions offered by them to coach the in-house team regarding the workings of the site.</p><p>It is recommended that the client confirms the maintenance and security charges of the site with web development firms as certain agencies provide these functionalities at an additional cost. Clear communication will protect both parties from future hassles and conflicts.</p></div>\n",
       "</div>\n",
       "<div class=\"buyers-guide-answer ans_10\" id=\"ans_10\">\n",
       "<h2 class=\"guide-question\">GoodFirms Research Process</h2>\n",
       "<div class=\"guide-answer\"><p>To develop an optimal website, business owners need to find the best web development company. GoodFirms help prospective web development clients in this search process by listing down the best web development companies worldwide.</p><p>The iconic companies that made it to the list of top web developers in GoodFirms research are ranked based on GoodFirms proprietary research methodology that considers various qualitative and quantitative factors. These featured web development agencies have been distinguished based on their website design skills, web development expertise, industry recognition, and experience in designing and developing a website. The other valuable parameter considered by the research team is the ability of the firm to deliver web solutions to clients, which are proven by client reviews and recommendations.</p><p>After a thorough analysis, our analyst found that the above-listed web development companies provide robust, engaging, and reliable corporate web solutions to clients all across the globe. The featured companies have a strong squad of top web developers that use cutting-edge technology and best practices to create custom websites and eCommerce websites that boost user engagement.</p><p>Potential web development clients must visit our &#39;Directory&#39; section to pick the ideal web development partner. If you think your web development company deserves a spot in our &#39;<a href=\"https://www.goodfirms.co/research/cms/top-web-developers\">Research</a>&#39; section, register on our platform to participate in the research process.</p></div>\n",
       "</div>\n",
       "</div>\n",
       "</div>\n",
       "</div>\n",
       "</div>\n",
       "<div class=\"contact-us-section\">\n",
       "<div class=\"container\">\n",
       "<div class=\"contact-us-wrapper\">\n",
       "<div>Got A Question? Ask Away!</div>\n",
       "<a href=\"/contact-us\" class=\"btn-arrow\">Contact Us</a>\n",
       "</div>\n",
       "</div>\n",
       "</div>\n",
       "</div>\n",
       "\n",
       "\n",
       "<script type=\"text/javascript\">\n",
       "        $('.filter-show').on('click', function () {\n",
       "            if ($(\".service-filter\")[0])\n",
       "            {\n",
       "                $('.service-filter').removeClass('hide');\n",
       "\n",
       "                if($(window).width()<1280){\n",
       "                    $('.advance-filter-overlay').show();\n",
       "                    $('.service-filter').removeClass('hide').addClass('active');\n",
       "                }\n",
       "                \n",
       "                $('.filter-show').addClass('hide');\n",
       "                $('.filter-close').removeClass('hide');\n",
       "            }\n",
       "            else\n",
       "            {\n",
       "                var id = \"109\";\n",
       "                $.ajax({\n",
       "                    url : '/'+'searches/getFilter',\n",
       "                    data: { id: id,slug_exist:'',category_id:'2',type:'cms'},\n",
       "                    type: 'POST',\n",
       "                    error: function () {\n",
       "                        return true;\n",
       "                    },\n",
       "                    success: function (data) {\n",
       "                        $(\".filter-wrapper\").append(data);\n",
       "                        $('.service-filter').removeClass('hide');\n",
       "\n",
       "                        if($(window).width()<1280){\n",
       "                            $('.advance-filter-overlay').show();\n",
       "                            $('.service-filter').removeClass('hide').addClass('active');\n",
       "                        }\n",
       "                        \n",
       "\n",
       "                        $('.filter-show').addClass('hide');\n",
       "                        $('.filter-close').removeClass('hide');\n",
       "                            \n",
       "                    }\n",
       "                });\n",
       "            }\n",
       "        });\n",
       "    </script>\n",
       "<script type=\"text/javascript\">\n",
       "\n",
       "    function makeurl()\n",
       "    {\n",
       "        var url=window.location.href.split('?')[0];\n",
       "        if($(\"#sort_by\").is(\":visible\")){\n",
       "            var sortval = $('#sort_by').val();\n",
       "        }\n",
       "        else\n",
       "        {\n",
       "            var sortval = $('.sheetItem a.active').attr('data-sort');\n",
       "        }\n",
       "        var flag=false;\n",
       "        $('.s-f-r').addClass('hide');\n",
       "        if(sortval != 'any')\n",
       "        {\n",
       "            url = url+\"?sort_by=\"+sortval;\n",
       "            flag=true;\n",
       "        }\n",
       "        $(\".service-features-filter input:checkbox:checked\").each(function(){\n",
       "            if(!flag)\n",
       "            {\n",
       "                url=url+\"?\"+$(this).attr('name')+\"=\"+$(this).val();\n",
       "                flag=true;// To trace if first query string added\n",
       "            }\n",
       "            else\n",
       "            {\n",
       "                url=url+\"&\"+$(this).attr('name')+\"=\"+$(this).val();\n",
       "            }    \n",
       "            $('.s-f-r').removeClass('hide');     \n",
       "        });\n",
       "        $(\".service-features-filter input:radio:checked\").each(function(){\n",
       "            if(!flag)\n",
       "            {\n",
       "                if($(this).val() != 'all')\n",
       "                {\n",
       "                    url=url+\"?\"+$(this).attr('name')+\"=\"+$(this).val();\n",
       "                    flag=true;// To trace if first query string added\n",
       "                }\n",
       "            }\n",
       "            else\n",
       "            {\n",
       "                if($(this).val() != 'all')\n",
       "                {\n",
       "                    url=url+\"&\"+$(this).attr('name')+\"=\"+$(this).val();\n",
       "                }\n",
       "            }    \n",
       "            $('.s-f-r').removeClass('hide');     \n",
       "        });\n",
       "        window.location = url;\n",
       "    }\n",
       "\n",
       "    function  infilter(input) {\n",
       "        var filter, ul, li, a, i, txtValue;\n",
       "        //input = document.getElementById(\"location-filter\");\n",
       "        filter = input.value.toUpperCase();\n",
       "        ul = $(input).parents('ul');\n",
       "        li = ul.find('li');\n",
       "        for (i = 0; i < li.length; i++) {\n",
       "            if( li[i].getElementsByTagName(\"label\").length ) {\n",
       "                a = li[i].getElementsByTagName(\"label\")[0];\n",
       "                txtValue = a.textContent || a.innerText;\n",
       "                if (txtValue.toUpperCase().indexOf(filter) > -1) {\n",
       "                    li[i].style.display = \"\";\n",
       "                } else {\n",
       "                    li[i].style.display = \"none\";\n",
       "                }\n",
       "            }\n",
       "        }\n",
       "    }\n",
       "\n",
       "\n",
       "    var mxheight = $(window).height() - 300;\n",
       "    if ($(window).width() > 991)\n",
       "        $('.question-list').css(\"max-height\", mxheight);\n",
       "\n",
       "    $(window).bind('scroll', function () {\n",
       "        mxheight = $(window).height() - 300;\n",
       "        $('question-list').css(\"max-height\", mxheight);\n",
       "        if ($(window).width() < 992)\n",
       "            $('question-list').removeAttr('style');\n",
       "    });\n",
       "\n",
       "    $('.container-LO1 .staticnav a[href^=\"#\"]').on('click', function (e) {\n",
       "        e.preventDefault();\n",
       "        \n",
       "        var target = this.hash.substring(1);\n",
       "        $target = $('div[datatab=' + target + ']');\n",
       "        \n",
       "        if( $target.length ) {\n",
       "            \n",
       "            $('.container-LO1 .staticnav li').removeClass('active');\n",
       "            $(this).parents('li').addClass('active');\n",
       "            $(document).off(\"scroll\");\n",
       "            \n",
       "            var scrollUpTo = $target.offset().top - 80;\n",
       "\n",
       "            $('html, body').stop().animate({\n",
       "                'scrollTop': scrollUpTo,\n",
       "            }, 500, 'swing', function () {\n",
       "                $('html,body').scrollTop(scrollUpTo);\n",
       "            });\n",
       "        }\n",
       "    });\n",
       "\n",
       "    var $window = $(window);\n",
       "     \n",
       "\n",
       "    $(document).on('click', '.show_full_desc', function () {\n",
       "        $('.page_description').removeClass('minicontent');\n",
       "        $(this).html('Show Less <svg width=\"10px\" height=\"6px\" viewBox=\"0 0 10 6\" version=\"1.1\" xmlns=\"http://www.w3.org/2000/svg\" xmlns:xlink=\"http://www.w3.org/1999/xlink\"><g id=\"Page-1\" stroke=\"none\" stroke-width=\"1\" fill=\"none\" fill-rule=\"evenodd\" stroke-linecap=\"round\" stroke-linejoin=\"round\"><polyline id=\"up-arrow\" stroke=\"#3A7AF3\" stroke-width=\"2\" transform=\"translate(5.000000, 3.000000) scale(1, -1) translate(-5.000000, -3.000000) \" points=\"9 1 5 5 1 1\"></polyline></g></svg>');\n",
       "        $(this).addClass('show_less_desc').removeClass('show_full_desc');\n",
       "    });\n",
       "\n",
       "    $(document).on('click', '.show_less_desc', function () {\n",
       "        $('.page_description').addClass('minicontent');\n",
       "        $(this).html('Show More <svg width=\"10px\" height=\"6px\" viewBox=\"0 0 10 6\" version=\"1.1\" xmlns=\"http://www.w3.org/2000/svg\" xmlns:xlink=\"http://www.w3.org/1999/xlink\"><g id=\"Page-1\" stroke=\"none\" stroke-width=\"1\" fill=\"none\" fill-rule=\"evenodd\" stroke-linecap=\"round\" stroke-linejoin=\"round\"><polyline id=\"down-arrow\" stroke=\"#3A7AF3\" stroke-width=\"2\" points=\"9 1 5 5 1 1\"/></g></svg>');\n",
       "        $(this).addClass('show_full_desc').removeClass('show_less_desc');\n",
       "    });\n",
       "\n",
       "    $(\".nofollow a\").attr(\"rel\", \"nofollow\");\n",
       "    $(\"a.nofollow\").attr(\"rel\", \"nofollow\");\n",
       "    $(\".listing_faqs a,.buyers-guide-answer-part a\").each(function() {\n",
       "        var href = $(this).attr('href');\n",
       "        if(href)\n",
       "        {\n",
       "            if (href.indexOf(\"goodfirms.co\") < 0)\n",
       "                $(this).attr(\"rel\",\"nofollow\");\n",
       "        }\n",
       "    });\n",
       "    // if ($(window).width() > 480)\n",
       "    //     $('select').select2({minimumResultsForSearch: -1});\n",
       "\n",
       "    $(document).ready(function () {\n",
       "        \n",
       "        //$('[data-toggle=\"tooltip\"]').tooltip();\n",
       "        \n",
       "        $(document).on('click', '.c_read_more.detail_page', function () {\n",
       "            gtag('event', 'Detail View - Read More', {\n",
       "                'event_category': 'List - Detail',\n",
       "                'event_label': $(this).parents('.service-entity').attr('entity-name')\n",
       "            });\n",
       "        });\n",
       "        $(document).on('click', '.c_name_head.visit-website', function () {\n",
       "            gtag('event', 'Visit Website - Company title', {\n",
       "                'event_category': 'List - Visit Website',\n",
       "                'event_label': $(this).parents('.service-entity').attr('entity-name')\n",
       "            });\n",
       "        });\n",
       "        $(document).on('click', '.c_name_head.detail_page', function () {\n",
       "            gtag('event', 'Detail View - Company title', {\n",
       "                'event_category': 'List - Detail',\n",
       "                'event_label': $(this).parents('.service-entity').attr('entity-name')\n",
       "            });\n",
       "        });\n",
       "        $(document).on('click', '.visit-website.linkbtn', function () {\n",
       "            gtag('event', 'Visit Website - Go To Website', {\n",
       "                'event_category': 'List - Visit Website',\n",
       "                'event_label': $(this).parents('.service-entity').attr('entity-name')\n",
       "            });\n",
       "        });\n",
       "        $(document).on('click', '.visit-profile.linkbtn', function () {\n",
       "            gtag('event', 'Detail View - Visit Profile', {\n",
       "                'event_category': 'List - Detail',\n",
       "                'event_label': $(this).parents('.service-entity').attr('entity-name')\n",
       "            });\n",
       "        });\n",
       "        $(document).on('click', '.review_url', function () {\n",
       "            gtag('event', 'Detail View - Company Total Review', {\n",
       "                'event_category': 'List - Detail',\n",
       "                'event_label': $(this).parents('.service-entity').attr('entity-name')\n",
       "            });\n",
       "        });\n",
       "        $(document).on('click', '.top_review_url', function () {\n",
       "            gtag('event', 'Detail View - Company Top Review', {\n",
       "                'event_category': 'List - Detail',\n",
       "                'event_label': $(this).parents('.service-entity').attr('entity-name')\n",
       "            });\n",
       "        });\n",
       "        $(document).on('click', '.portfolio-url', function () {\n",
       "            gtag('event', 'Portfolio Detail View - Portfolio Count', {\n",
       "                'event_category': 'List - Detail',\n",
       "                'event_label': $(this).parents('.service-entity').attr('entity-name')\n",
       "            });\n",
       "        });\n",
       "        $(document).on('click', '.qa-url', function () {\n",
       "            gtag('event', 'Q&A Detail View - Q&A Count', {\n",
       "                'event_category': 'List - Detail',\n",
       "                'event_label': $(this).parents('.service-entity').attr('entity-name')\n",
       "            });\n",
       "        });\n",
       "        $(document).on('click', '.c_d_review_title', function () {\n",
       "            gtag('event', 'Detail View - Company Total Review', {\n",
       "                'event_category': 'List - Detail',\n",
       "                'event_label': $(this).parents('.service-entity').attr('entity-name')\n",
       "            });\n",
       "        });\n",
       "\n",
       "        setTimeout(function () {\n",
       "            $('.filter-slide').addClass('hide');\n",
       "            $('.filter-top-form').removeClass('hide');\n",
       "            $('.filter-right-block').removeClass('hide');\n",
       "        }, 1000);\n",
       "        localStorage.bodymargin = \".articlesbody\";\n",
       "        $('.s_filter').on('click', function () {\n",
       "            $('.all_filter_div').toggleClass('hide');\n",
       "            localStorage.bodymargin = \".articlesbody\";\n",
       "            $('.articlesbody').css('margin-top', '0px');\n",
       "            if ($(\".all_filter_div\").hasClass(\"hide\")) {\n",
       "                localStorage.bodymargin = \".articlesbody\";\n",
       "                $('.s_filter').removeClass('filter_active');\n",
       "            } else\n",
       "            {\n",
       "                $('.s_filter').addClass('filter_active');\n",
       "            }\n",
       "        });\n",
       "\n",
       "        $(document).on('click', '.apply_filter', function () {\n",
       "            var url = makeurl();\n",
       "        });\n",
       "\n",
       "        \n",
       "        $('.filter-close').on('click', function () {\n",
       "            $('.service-filter').addClass('hide').removeClass('active');\n",
       "            $(this).addClass('hide');\n",
       "            $('.filter-show').removeClass('hide');\n",
       "        });\n",
       "\n",
       "        $('#sort_by').on('change', function () {\n",
       "            var url = makeurl();\n",
       "        });\n",
       "        $('.show-all-location').on('click', function () {\n",
       "            if ($('.location-form-group div.searched').length)\n",
       "                $(\".location-form-group .checkbox.searched\").show();\n",
       "            else\n",
       "                $(\".location-form-group .checkbox\").show();\n",
       "\n",
       "            $(this).hide();\n",
       "        });\n",
       "        var loci = 0;\n",
       "        $(\".location-form-group .checkbox\").each(function () {\n",
       "            if (loci > 5)\n",
       "            {\n",
       "                if ($(this).find('input:checkbox').prop(\"checked\") == false)\n",
       "                {\n",
       "                    $(this).hide();\n",
       "                }\n",
       "            }\n",
       "            loci++;\n",
       "        });\n",
       "\n",
       "        $('.show_list_filter_div').on('click', function () {\n",
       "            $(this).css('display', 'none');\n",
       "            $('.list_filter_div').css('display', 'block');\n",
       "        });\n",
       "        $('.hide_list_filter_div').on('click', function () {\n",
       "            $('.show_list_filter_div').css('display', 'block');\n",
       "            $('.list_filter_div').css('display', 'none');\n",
       "        });\n",
       "\n",
       "        $('#review_info select').on('change', function () {\n",
       "            $('#review_info').submit();\n",
       "        });\n",
       "\n",
       "        $('#review_info input[type=radio]').on('click', function () {\n",
       "            $('#review_info').submit();\n",
       "        });\n",
       "        $('#review_info input[type=checkbox]').on('click', function () {\n",
       "            $('#review_info').submit();\n",
       "        });\n",
       "        $('#review_info #location').on('change', function () {\n",
       "            $('#review_info').submit();\n",
       "        });\n",
       "        $('#review_info input[type=text]').bind('keypress', function (e) {\n",
       "            if (e.keyCode == 13)\n",
       "            {\n",
       "                e.preventDefault();\n",
       "                return false;\n",
       "            }\n",
       "        });\n",
       "\n",
       "        $(\".nofollow a, a.nofollow\").attr(\"rel\", \"nofollow\");\n",
       "        $(\".nofollow a.c_read_more\").removeAttr(\"rel\");\n",
       "\n",
       "        $(document).on('click', '.visit-website', function (e) {\n",
       "            // e.preventDefault();\n",
       "            //gtag_report_conversion($(this).attr('href'));\n",
       "            var id = $(this).parents('.service-entity').attr('entity-id');\n",
       "            var url = \"/reports/visitWebsite\";\n",
       "            $.ajax({\n",
       "                url: url,\n",
       "                data: {website: $(this).attr('href'), id: id, type: 'service-listing'},\n",
       "                type: 'POST',\n",
       "                error: function () {\n",
       "                    return true;\n",
       "                },\n",
       "                success: function (msg) {\n",
       "                    return true;\n",
       "                }\n",
       "            });\n",
       "        });\n",
       "        \n",
       "        if( document.location.hash ) {\n",
       "\n",
       "            var target = document.location.hash.substring(1);\n",
       "            $target = $('div[datatab=' + target + ']');\n",
       "\n",
       "            if( $target.length ) {\n",
       "\n",
       "                $( '.container-LO1 .staticnav li' ).removeClass( 'active' );\n",
       "                $('.container-LO1 .staticnav a[href=\"#' + target + '\"]').parents( 'li' ).addClass( 'active' );\n",
       "                $(document).off( 'scroll' );\n",
       "\n",
       "                var scrollUpTo = $target.offset().top - 80;\n",
       "\n",
       "                $( 'html, body' ).stop().animate({\n",
       "                    scrollTop: scrollUpTo\n",
       "                }, 500, 'swing', function() {\n",
       "                    $( 'html,body' ).scrollTop( scrollUpTo );\n",
       "                });\n",
       "            }\n",
       "        }\n",
       "\n",
       "        $(document).on('click','.filter-selection',function(){\n",
       "            $div = $(this).parents(\".filter-section\");\n",
       "\n",
       "            if($(window).width()<481)\n",
       "            {\n",
       "                $('.service-features-filter').find('.sheetContainer').remove();\n",
       "                var allli = $(this).parents('.filter-section').find('ul').html();\n",
       "                var sheet = '<div class=\"sheetContainer global\"><div class=\"backgroundSheetContainer\"><div class=\"bottomSheetList clsh\"><div class=\"sheetHeader\">'+$(this).parents('.filter-section').find('.filter-section-title').text()+'<img class=\"filtersheetClose\" src=\"https://assets.goodfirms.co/images/svclose.svg\"></div><ul class=\"bottomSheetListUL\">'+allli+'</ul></div></div>';\n",
       "                $(this).parents('.service-features-filter').append(sheet);\n",
       "                $(this).parents('.service-features-filter').find('ul.bottomSheetListUL input[type=\"checkbox\"]').removeAttr('id');\n",
       "                $(this).parents('.service-features-filter').find('ul.bottomSheetListUL label').removeAttr('for');\n",
       "                showsheet('global');\n",
       "                $(this).parents('.service-features-filter').removeClass('ohidden');\n",
       "            }\n",
       "            else\n",
       "            {\n",
       "                $div.toggleClass('open');\n",
       "                $(\".filter-section\").not($div).removeClass('open');\n",
       "                $(this).parents('.service-features-filter').removeClass('ohidden');\n",
       "                if($('.f-country-s.open').length ==1)\n",
       "                {\n",
       "                    $('.location-filter').val('');\n",
       "                    $('.f-country-s ul li').css('display', '');\n",
       "                    $('.location-filter').focus();\n",
       "                }\n",
       "            }\n",
       "        });\n",
       "    \n",
       "        $(document).mouseup(function(e) \n",
       "        {\n",
       "            var container = $(\".filter-selection\");\n",
       "            // if the target of the click isn't the container nor a descendant of the container\n",
       "            if (!container.is(e.target) && container.has(e.target).length === 0) \n",
       "            {\n",
       "                if( $(e.target).attr('class') != 'location-filter'  && $(e.target).attr('class') != 'cate-filter' )\n",
       "                    $(\".filter-section\").removeClass('open');\n",
       "            }\n",
       "\n",
       "            if($(window).width()<1280)\n",
       "            {\n",
       "                var container = $(\".service-filter\");\n",
       "                // if the target of the click isn't the container nor a descendant of the container\n",
       "                if (!container.is(e.target) && container.has(e.target).length === 0) \n",
       "                {\n",
       "                    $(\".advance-filter-overlay\").hide();\n",
       "                    $(\".service-filter\").addClass('hide');\n",
       "\n",
       "                }\n",
       "            }\n",
       "        });\n",
       "\n",
       "        $(window).on(\"resize\", function () {\n",
       "            mxheight = $(window).height()-250;\n",
       "            $('.service-features-filter').css(\"max-height\",mxheight);\n",
       "            if($(window).width()<1280)\n",
       "            {\n",
       "                $('.service-features-filter').removeAttr( 'style' );\n",
       "                // if(!$('.service-filter').hasClass('hide'))\n",
       "                // {\n",
       "                //     $('.service-filter').addClass('hide');\n",
       "                //     $('.filter-close').addClass('hide');\n",
       "                //     $('.filter-show').removeClass('hide');\n",
       "                // }\n",
       "                // $('.overlay-filter,.advance-filter-overlay').hide();\n",
       "            }\n",
       "            \n",
       "            if($(window).width()>1279)\n",
       "            {\n",
       "                $('.overlay-filter,.advance-filter-overlay').hide();\n",
       "                $('body').removeClass('ohidden');\n",
       "                $('body').removeAttr('style');\n",
       "                $('.service-filter').removeClass('active');\n",
       "            }\n",
       "\n",
       "            if($(window).width()<670)\n",
       "            {\n",
       "                function hidemobilesort()\n",
       "                {\n",
       "                    removefilterSheet();\n",
       "                    $('.sheetContainer').css({visibility: \"hidden\"});\n",
       "                    $('.service-features-filter .mobile-sort').removeClass('open');\n",
       "                }\n",
       "\n",
       "                $(document).on('click','.mobile-lo1-features',function(){\n",
       "                    $('.service-entity').find('.sheetContainer').remove();\n",
       "                    var allli = $(this).parents('.mobile-lo1-options').find('ul').html();\n",
       "                    if($(this).parents('.free-tag').find('.follow-option').length > 0)\n",
       "                    {\n",
       "                        //software is following\n",
       "                        var newfollowli = $(this).parents('.free-tag').find('.follow-option li').html();\n",
       "                    }\n",
       "                    else\n",
       "                    {\n",
       "                        var newfollowli = $(this).parents('.free-tag').find('.follow-organisation-list').html();\n",
       "                    }\n",
       "                    allli = allli+'<li>'+newfollowli+'</li>';\n",
       "                    var sheet = '<div class=\"sheetContainer global\"><div class=\"backgroundSheetContainer\"><div class=\"bottomSheetList clsh\"><div class=\"sheetHeader\">'+$(this).parents('.service-entity').attr('entity-name')+'<img class=\"sheetClose\" src=\"https://assets.goodfirms.co/images/svclose.svg\"></div><ul class=\"bottomSheetListUL\">'+allli+'</ul></div></div>';\n",
       "                    $(this).parents('.mobile-lo1-options').append(sheet);\n",
       "                    showsheet('global');\n",
       "                });\n",
       "\n",
       "                $(document).mouseup(function(e) \n",
       "                {\n",
       "                    var container = $(\".bottomSheetList\");\n",
       "                    // if the target of the click isn't the container nor a descendant of the container\n",
       "                    if (!container.is(e.target) && container.has(e.target).length === 0) \n",
       "                    {\n",
       "                        var parentcontainer = $(\".backgroundSheetContainer\");\n",
       "                        if (parentcontainer.is(e.target))\n",
       "                        {\n",
       "                            hidemobilesort();\n",
       "                        }\n",
       "                    }\n",
       "                });\n",
       "            }\n",
       "            \n",
       "            if($(window).width()<481)\n",
       "            {\n",
       "                //$('body').addClass('ohidden');\n",
       "                $(document).on('click','.service-filter-section .sheetClose',function(){\n",
       "                    hidemobilesort();\n",
       "                });\n",
       "            }\n",
       "            $(document).on('click','.sheetItem a.mob_sort',function(){\n",
       "                if($(this).hasClass('active'))\n",
       "                {\n",
       "                    return false\n",
       "                }\n",
       "                else\n",
       "                {\n",
       "                    $(this).parents('.sort-by-so').find('.filter-selection').text($(this).text());\n",
       "                    $('.sheetItem a.mob_sort').removeClass('active');\n",
       "                    $(this).addClass('active');\n",
       "                    makeurl();\n",
       "                }\n",
       "            });\n",
       "        }).resize();\n",
       "\n",
       "    });\n",
       "    function unsetoption(targetid)\n",
       "    {\n",
       "        $('#' + targetid).prop('checked', false);\n",
       "        $('#review_info').submit();\n",
       "    }\n",
       "</script> </div>\n",
       "</div>\n",
       "</main>\n",
       "</div>\n",
       "<div id=\"footer\"><div class=\"container\">\n",
       "<div class=\"col-md-12 section-footer overflow\">\n",
       "<div class=\"col-md-12 section-footer-container no-padding\">\n",
       "<div class=\"goodfirms_address\">\n",
       "<div class=\"goodfirms_logo\">\n",
       "<svg width=\"201px\" height=\"30px\" viewBox=\"0 0 201 30\" version=\"1.1\" xmlns=\"http://www.w3.org/2000/svg\" xmlns:xlink=\"http://www.w3.org/1999/xlink\"><g id=\"Page-1\" stroke=\"none\" stroke-width=\"1\" fill=\"none\" fill-rule=\"evenodd\"><g id=\"Main-Home-Page\" transform=\"translate(-250.000000, -4155.000000)\" fill=\"#3A7AF3\" fill-rule=\"nonzero\"><g id=\"Group-47\" transform=\"translate(-1.002490, 4092.000000)\"><path d=\"M263.319589,73.55 C263.319589,73.55 261.656003,73.3842857 261.656003,74.8685714 L261.656003,81.4614286 L272.641949,81.4614286 L272.641949,83.44 C272.641949,83.44 272.674764,84.4285714 271.643226,84.4285714 L261.656003,84.4285714 L261.656003,93 L273.640671,93 C273.640671,93 280.897102,91.8785714 280.964159,84.4285714 L280.964159,73.55 L263.319589,73.55 Z M280.6303,63 L258.992268,63 C251.167992,64.8457143 251.00249,71.2742857 251.00249,71.2742857 L251.00249,93 L259.326127,93 L259.326127,73.22 C259.326127,71.5385714 260.989713,71.2428571 260.989713,71.2428571 L280.631727,71.2428571 L280.631727,63 L280.6303,63 Z M309.196612,86.7828571 C308.625914,87.1642857 308.203597,87.4442857 307.905407,87.6228571 C306.838201,88.2842857 305.820931,88.7942857 304.877852,89.2014286 C303.512456,89.7614286 302.295441,90.0414286 301.20398,90.0414286 C297.455918,90.0414286 294.352745,88.8957143 291.844525,86.5785714 C289.336306,84.2614286 288.09789,81.36 288.09789,77.8471429 C288.09789,74.4614286 289.215032,71.5328571 291.473571,69.0371429 C293.732111,66.5428571 296.462903,65.32 299.690203,65.32 C301.031344,65.32 302.469504,65.5485714 303.959027,66.0342857 C305.895122,66.6442857 307.458835,67.5614286 308.700105,68.7571429 L306.540011,71.15 C305.622613,70.26 304.43128,69.5971429 303.040203,69.19 C301.998678,68.8842857 300.857281,68.7328571 299.59033,68.7328571 C297.331791,68.7328571 295.419951,69.6471429 293.906174,71.4557143 C292.392396,73.2885714 291.62338,75.4528571 291.62338,77.9985714 C291.62338,80.52 292.490841,82.5814286 294.228618,84.2371429 C295.966395,85.8914286 298.174998,86.7314286 300.855854,86.7314286 C301.972996,86.7314286 303.11582,86.3742857 304.281472,85.6885714 C305.250232,84.95 305.74674,84.5928571 305.770995,84.5671429 L305.770995,79.3485714 L298.523124,79.3485714 L299.564649,76.09 L309.196612,76.09 L309.196612,86.7828571 Z M331.090032,80.4171429 C331.090032,82.9371429 330.196889,85.1271429 328.409176,86.96 C326.621463,88.7928571 324.41286,89.7357143 321.78194,89.7357143 C319.349338,89.7357143 317.214926,88.8185714 315.377277,87.0114286 C313.539628,85.2042857 312.646484,83.0142857 312.646484,80.4428571 C312.646484,77.8971429 313.5168,75.7071429 315.25315,73.8228571 C316.9895,71.9385714 319.125339,71.0228571 321.632132,71.0228571 C324.41286,71.0228571 326.671399,71.9142857 328.433431,73.7214286 C330.196889,75.4785714 331.090032,77.7185714 331.090032,80.4171429 Z M327.688669,80.4685714 C327.688669,78.7628571 327.117971,77.3114286 325.976574,76.14 C324.835177,74.9428571 323.419845,74.3571429 321.732004,74.3571429 C320.144036,74.3571429 318.802894,74.9685714 317.685752,76.1914286 C316.56861,77.4128571 316.022166,78.8128571 316.022166,80.3914286 C316.022166,82.0471429 316.592864,83.4471429 317.710007,84.6185714 C318.827149,85.79 320.218226,86.4 321.90464,86.4 C323.469781,86.4 324.809496,85.8142857 325.952319,84.6428571 C327.117971,83.4714286 327.690096,82.0714286 327.690096,80.4685714 L327.688669,80.4685714 Z M352.685262,80.4171429 C352.685262,82.9371429 351.792119,85.1271429 350.004406,86.96 C348.216693,88.7928571 346.00809,89.7357143 343.37717,89.7357143 C340.944568,89.7357143 338.810156,88.8185714 336.972507,87.0114286 C335.136284,85.2042857 334.241714,83.0142857 334.241714,80.4428571 C334.241714,77.8971429 335.11203,75.7071429 336.84838,73.8228571 C338.586157,71.9385714 340.720569,71.0228571 343.227362,71.0228571 C346.00809,71.0228571 348.266629,71.9142857 350.028661,73.7214286 C351.792119,75.4785714 352.685262,77.7185714 352.685262,80.4171429 Z M349.283899,80.4685714 C349.283899,78.7628571 348.713201,77.3114286 347.571804,76.14 C346.430407,74.9428571 345.015075,74.3571429 343.327234,74.3571429 C341.739266,74.3571429 340.398124,74.9685714 339.280982,76.1914286 C338.16384,77.4128571 337.617396,78.8128571 337.617396,80.3914286 C337.617396,82.0471429 338.188094,83.4471429 339.306663,84.6185714 C340.422379,85.79 341.813456,86.4 343.501297,86.4 C345.065011,86.4 346.404726,85.8142857 347.547549,84.6428571 C348.713201,83.4714286 349.285326,82.0714286 349.285326,80.4685714 L349.283899,80.4685714 Z M372.668269,89.2257143 L369.540841,89.71 L369.540841,86.68 L368.870271,87.4428571 C368.279584,87.9969171 367.61034,88.4604999 366.88424,88.8185714 C365.818511,89.310763 364.657922,89.5628787 363.484304,89.5571429 C361.051702,89.5571429 358.965799,88.6657143 357.277958,86.8571429 C355.590117,85.0485714 354.74691,82.9114286 354.74691,80.4171429 C354.74691,77.8457143 355.590117,75.6314286 357.253703,73.7971429 C358.917289,71.9628571 360.951829,71.0471429 363.384432,71.0471429 C364.775509,71.0471429 365.991097,71.2757143 367.008367,71.7342857 C367.728874,72.0657143 368.349508,72.4985714 368.870271,73.0342857 C369.044334,73.2628571 369.218397,73.5171429 369.39246,73.7457143 L369.39246,65.8028571 L372.716778,65.3185714 L372.668269,89.2257143 Z M369.739159,80.6457143 C369.739159,78.8642857 369.142779,77.3614286 367.927191,76.14 C366.711604,74.8914286 365.344781,74.2814286 363.782494,74.2814286 C362.044717,74.2814286 360.655066,74.8671429 359.58786,76.0385714 C358.593418,77.1571429 358.072656,78.5328571 358.072656,80.1371429 C358.072656,81.9442857 358.593418,83.4457143 359.636369,84.6171429 C360.677894,85.7885714 361.994781,86.3742857 363.608431,86.3742857 C365.196399,86.3742857 366.587477,85.84 367.828746,84.7457143 C369.09427,83.6242857 369.740586,82.25 369.740586,80.6457143 L369.739159,80.6457143 Z M390.217247,69.1142857 L380.909155,69.1142857 L380.909155,75.4528571 L388.131344,75.4528571 L388.131344,78.7114286 L380.909155,78.7114286 L380.909155,89.2014286 L377.28522,89.7357143 L377.28522,65.8285714 L389.49674,65.8285714 L390.217247,69.1142857 Z M397.689116,67.2542857 L395.454832,70.08 L393.32042,67.2542857 L395.578959,64.4542857 L397.689116,67.2542857 Z M397.018546,89.2257143 L393.6928,89.6842857 L393.6928,71.99 L397.018546,71.4814286 L397.018546,89.2271429 L397.018546,89.2257143 Z M412.036476,71.3028571 L410.472762,74.9171429 C410.267328,74.8857798 410.059927,74.869071 409.852128,74.8671429 C409.529683,74.8671429 409.207238,74.8928571 408.883367,74.9428571 C408.559496,74.9928571 408.212796,75.1214286 407.841842,75.3 C407.147017,75.6057143 406.550637,76.2671429 406.029875,77.26 C405.453582,78.38683 405.155156,79.6354547 405.159559,80.9014286 L405.159559,89.2014286 L401.835241,89.7357143 L401.835241,71.99 L404.912732,71.43 L404.912732,75.1214286 C405.309368,74.4842857 405.731685,73.8485714 406.12832,73.1871429 C406.699019,72.5242857 407.369589,72.0414286 408.114351,71.76 C408.510986,71.6085714 409.231493,71.48 410.322954,71.3785714 C411.365905,71.3028571 411.962285,71.2514286 412.036476,71.3028571 Z M436.807643,89.2257143 L433.481898,89.71 L433.481898,77.5657143 C433.481898,76.4442857 433.233644,75.63 432.737136,75.1214286 C432.240628,74.6114286 431.495867,74.3571429 430.527106,74.3571429 C429.361455,74.3571429 428.466885,74.8414286 427.871932,75.8085714 C427.473869,76.47 427.251297,77.1828571 427.251297,77.8957143 L427.251297,89.2 L423.925552,89.8114286 L423.925552,77.6414286 C423.925552,76.5728571 423.677298,75.7571429 423.205045,75.1985714 C422.708537,74.6371429 422.063648,74.3571429 421.219014,74.3571429 L420.89657,74.3571429 C419.729491,74.3571429 418.884858,74.8414286 418.364095,75.8342857 C417.96746,76.5728571 417.769142,77.5142857 417.769142,78.66 L417.769142,89.2 L414.31927,89.8114286 L414.31927,71.99 L417.421016,71.4557143 L417.421016,73.7214286 C417.769142,73.1857143 418.115841,72.7528571 418.439713,72.4485714 C419.332856,71.6085714 420.375807,71.2 421.541459,71.2 C422.856919,71.2 423.824253,71.4042857 424.494823,71.8371429 C425.065522,72.1942857 425.611966,72.9057143 426.15841,73.9242857 C427.299806,72.1171429 428.913456,71.2 431.049295,71.2 C433.083835,71.2 434.59904,71.8371429 435.590628,73.1357143 C436.411007,74.2042857 436.807643,75.7828571 436.807643,77.8457143 L436.807643,89.2257143 Z M452.00249,83.8542857 C452.00249,85.4828571 451.431791,86.8328571 450.290394,87.8771429 C449.148997,88.9457143 447.707984,89.4557143 445.970207,89.4557143 C444.654747,89.4557143 443.487668,89.15 442.420462,88.5385714 C441.353256,87.9285714 440.559985,87.24 440.037796,86.4257143 L442.371953,84.3385714 C442.544589,84.5928571 442.694398,84.7957143 442.842779,84.9485714 C443.713094,85.84 444.754619,86.2985714 445.970207,86.2985714 C446.814841,86.2985714 447.485411,86.07 447.956237,85.6371429 C448.452745,85.2042857 448.676744,84.5928571 448.676744,83.8028571 C448.676744,82.9128571 448.106046,82.3014286 446.964649,81.97 C444.704683,81.2828571 443.487668,80.9014286 443.315032,80.8242857 C442.272081,80.29 441.527319,79.73 441.055066,79.0928571 C440.534304,78.3542857 440.261795,77.3871429 440.261795,76.14 C440.261795,74.6114286 440.832494,73.34 441.949636,72.3214286 C443.066778,71.3028571 444.406493,70.8185714 445.944525,70.8185714 C447.11303,70.8185714 448.204491,71.0728571 449.197507,71.6085714 C450.190522,72.1428571 450.909602,72.7028571 451.331919,73.3657143 L449.345888,75.5285714 C449.0476,75.2296091 448.723938,74.9571564 448.378554,74.7142857 C447.583857,74.1542857 446.814841,73.8742857 446.09576,73.8742857 C445.399508,73.8742857 444.82881,74.0271429 444.382238,74.3314286 C443.860049,74.7142857 443.587541,75.2742857 443.587541,76.0128571 C443.587541,76.7257143 443.835795,77.26 444.357984,77.5914286 C444.804555,77.8714286 445.747634,78.1771429 447.237157,78.5071429 C448.725254,78.8642857 449.868077,79.4757143 450.68703,80.3414286 C451.605854,81.2571429 452.00249,82.4028571 452.00249,83.8542857 Z\" id=\"footer-logo\"></path></g></g></g></svg>\n",
       "</div>\n",
       "<div class=\"company_address\">\n",
       "<div class=\"goodfirms_country\">\n",
       "<svg width=\"15px\" height=\"20px\" viewBox=\"0 0 15 20\" version=\"1.1\" xmlns=\"http://www.w3.org/2000/svg\" xmlns:xlink=\"http://www.w3.org/1999/xlink\"><g id=\"Page-1\" stroke=\"none\" stroke-width=\"1\" fill=\"none\" fill-rule=\"evenodd\"><g id=\"Main-Home-Page\" transform=\"translate(-250.000000, -4227.000000)\" fill=\"#FFC600\"><g id=\"Group-47\" transform=\"translate(-1.002490, 4092.000000)\"><g id=\"Group-103\" transform=\"translate(251.002490, 135.000000)\"><g id=\"Group-3\"><path d=\"M7.48146674,9.99521702 C6.11154838,9.99202626 4.99207899,8.86039361 5.000319,7.48716912 C5.00875246,6.09604667 6.12454838,4.99176096 7.51769123,4.99575013 C8.88301776,4.99969973 9.99738511,6.125863 9.99368008,7.49790382 C9.98987491,8.8866181 8.87140552,9.99845484 7.48146674,9.99521702 M14.846732,6.00592422 C14.4751402,4.2293528 13.5879565,2.76218953 12.1694872,1.63449565 C10.5915688,0.380026265 8.78387491,-0.144075776 6.77471164,0.0337201422 C5.9498545,0.106699734 5.16042593,0.317944632 4.40793613,0.66141402 C1.70787491,1.89374055 0.00693613062,4.53257729 0,7.49339361 C-0.00275774693,8.34329157 0.148119804,9.16539361 0.426181029,9.96818953 C0.682997355,10.7097201 1.08652797,11.371863 1.51442593,12.0200059 C2.40150756,13.3635773 3.29848715,14.7005977 4.19150756,16.0402508 C4.93944633,17.1622916 5.68767082,18.2841283 6.43552797,19.4062303 C6.69207899,19.7911487 7.05118103,19.9978018 7.51356878,19.9923794 C7.96320144,19.9869038 8.31040552,19.7791283 8.55997695,19.404312 C9.52540552,17.9543324 10.4935484,16.5061487 11.4578953,15.0554344 C12.2207525,13.907863 12.9788137,12.7570671 13.7403239,11.6085977 C14.476079,10.4989242 14.8967729,9.280863 14.981732,7.95243443 C15.0234872,7.29939361 14.9812218,6.64892422 14.846732,6.00592422\" id=\"footer-location\"></path></g></g></g></g></g></svg> US Office\n",
       "</div>\n",
       "<div class=\"goodfirms_office_address\">\n",
       "205 E Harmon Ave, apt 904,<br />Las Vegas, NV - 89169<br />United States\n",
       "</div>\n",
       "<div class=\"footer-social\"><ul class=\"no-padding\"><li>\n",
       "<a title=\"Linkedin\" target='_blank' rel=\"nofollow noopener\" href=\"https://www.linkedin.com/company/goodfirms\"><svg width=\"20px\" height=\"20px\" viewBox=\"0 0 20 20\" version=\"1.1\" xmlns=\"http://www.w3.org/2000/svg\" xmlns:xlink=\"http://www.w3.org/1999/xlink\"><g id=\"Page-1\" stroke=\"none\" stroke-width=\"1\" fill=\"none\" fill-rule=\"evenodd\"><g id=\"Main-Home-Page\" transform=\"translate(-250.000000, -4350.000000)\" fill=\"#757982\"><g id=\"Group-47\" transform=\"translate(-1.002490, 4092.000000)\"><g id=\"Group-3-Copy-2\" transform=\"translate(251.002490, 258.000000)\"><path d=\"M7.18098958,5.45549479 C7.18708333,4.51523437 6.43541667,3.74867187 5.50052083,3.74195312 C4.57239583,3.73518229 3.79739583,4.49872396 3.78651042,5.43059896 C3.77578125,6.35075521 4.53895833,7.13127604 5.45567708,7.13763021 C6.41739583,7.14429687 7.17484375,6.40580729 7.18098958,5.45549479 M6.79859375,12.0516927 C6.79859375,10.8242448 6.79947917,9.59674479 6.79802083,8.36924479 C6.79760417,8.00148437 6.66026042,7.86674479 6.29052083,7.86570312 C5.75135417,7.86429687 5.2121875,7.86393229 4.67302083,7.86585937 C4.3240625,7.86716146 4.17192708,8.01763021 4.17182292,8.36205729 C4.17104167,10.8104948 4.17109375,13.2589844 4.17171875,15.707474 C4.17182292,16.0564844 4.33354167,16.217474 4.6846875,16.2185677 C5.204375,16.2202344 5.7240625,16.2192969 6.24375,16.2189323 C6.664375,16.2186198 6.79828125,16.0833073 6.79848958,15.656224 C6.79895833,14.4547135 6.79864583,13.2532031 6.79859375,12.0516927 M10.6574479,8.85507812 C10.6406771,8.81476562 10.631875,8.80325521 10.6316667,8.79164062 C10.629375,8.62934896 10.6308854,8.46684896 10.6263021,8.30466146 C10.6176562,7.99815104 10.4865625,7.86903646 10.1807813,7.86815104 C9.6090625,7.86658854 9.03734375,7.86705729 8.465625,7.86799479 C8.13072917,7.86856771 7.99401042,8.00403646 7.99390625,8.34028646 C7.993125,10.8085156 7.99302083,13.2767969 7.99401042,15.7450781 C7.99416667,16.0715365 8.14375,16.2175781 8.47421875,16.2185677 C9.0134375,16.2201823 9.55270833,16.2192448 10.0919271,16.2189323 C10.4958854,16.218724 10.6176042,16.0996094 10.6177604,15.7008594 C10.6182812,14.4408073 10.6133333,13.180599 10.6203125,11.9205469 C10.6229688,11.4399219 10.7278646,10.9789844 11.0010938,10.5733594 C11.3020313,10.1265885 11.7335938,9.95664062 12.2622396,10.0050781 C12.8078646,10.055026 13.1869271,10.343724 13.3223958,10.8623698 C13.4274479,11.2645573 13.4733333,11.6914323 13.4799479,12.1084635 C13.499375,13.3227865 13.4851563,14.5376302 13.4857813,15.7522656 C13.4859375,16.0744531 13.6242188,16.2120573 13.9501042,16.2134115 C14.5347917,16.2157552 15.1194792,16.215599 15.7042188,16.2134635 C16.0348958,16.2122135 16.181875,16.0663802 16.1816669,15.7370573 C16.1805729,14.3730469 16.1835938,13.0089323 16.1717708,11.645026 C16.1664062,11.021901 16.1196354,10.4001823 15.9475521,9.79580729 C15.6503646,8.75190104 15.0256771,8.03455729 13.925625,7.81643229 C13.3011979,7.69268229 12.6743229,7.70518229 12.0539063,7.86549479 C11.5253125,8.00216146 11.0984896,8.29033854 10.7654167,8.72059896 C10.7347396,8.76023437 10.7027083,8.79877604 10.6574479,8.85507812 M0,17.621849 L0,2.33877604 C0.0120833333,2.31710937 0.0308333333,2.29679687 0.0354166667,2.27361979 C0.306822917,0.889192708 1.37989583,0.000494791667 2.78348958,0.000390625 C7.605625,-2.30973558e-05 12.4277083,-0.000598958333 17.2497917,0.000859375 C18.7542708,0.00127604167 19.9639583,1.20763021 19.9644792,2.70924479 C19.9661458,7.55627604 19.9656134,12.4033073 19.9646354,17.2503385 C19.964375,18.4147135 19.2320833,19.4357031 18.1279688,19.8129427 C17.9514063,19.8732552 17.7676042,19.9122135 17.5871354,19.9611198 L2.37875,19.9611198 C2.34260417,19.9484635 2.30734375,19.9311719 2.27015625,19.923776 C1.15776042,19.7038281 0.440208333,19.0444531 0.0957291667,17.9707552 C0.05890625,17.8560156 0.0316666667,17.7382031 0,17.621849\" id=\"social-linkedin\"></path></g></g></g></g></svg></a>\n",
       "<a title=\"Facebook\" rel=\"nofollow noopener\" href=\"https://www.facebook.com/goodfirms\" target='_blank'><svg width=\"20px\" height=\"20px\" viewBox=\"0 0 20 20\" version=\"1.1\" xmlns=\"http://www.w3.org/2000/svg\" xmlns:xlink=\"http://www.w3.org/1999/xlink\"><g id=\"Page-1\" stroke=\"none\" stroke-width=\"1\" fill=\"none\" fill-rule=\"evenodd\"><g id=\"Main-Home-Page\" transform=\"translate(-320.000000, -4350.000000)\" fill=\"#757982\"><g id=\"Group-47\" transform=\"translate(-1.002490, 4092.000000)\"><g id=\"Group-3\" transform=\"translate(321.002490, 258.000000)\"><path d=\"M0,17.4168385 L0,2.57789863 C0.0121776572,2.54831035 0.0305175024,2.51970019 0.035652659,2.48888925 C0.277689709,1.03622679 1.46699199,0.00366905336 2.92112163,0.00269092828 C7.64067294,-0.000683603234 12.3602242,-0.00117266577 17.0797266,0.00288655329 C18.6947579,0.0042559284 19.994197,1.30364619 19.9955664,2.91857959 C19.9996256,7.63705496 20.0045652,12.3556281 19.9918006,17.0741035 C19.9885239,18.2824792 19.3968071,19.1654816 18.321701,19.7051622 C18.0429842,19.845034 17.7216701,19.9001025 17.4199675,19.9941492 L12.3424224,19.9941492 L12.3424224,12.9242122 L15.3072173,12.9242122 C15.5026467,11.7517337 15.6963154,10.5896233 15.8940434,9.40359775 L12.3535241,9.40359775 L12.3535241,7.02621585 L15.8826483,7.02621585 L15.8826483,3.52325652 C14.6382775,3.52325652 13.4060845,3.47166042 12.1797602,3.53504292 C10.2185705,3.63642559 8.83344756,5.15569836 8.82679631,7.12011586 C8.82449772,7.80988966 8.82645397,8.49966347 8.82645397,9.18938836 L8.82645397,9.41812291 L6.49240301,9.41812291 L6.49240301,12.9289562 L8.82713866,12.9289562 L8.82713866,19.9941492 L2.57784864,19.9941492 C2.54840707,19.9819715 2.51999254,19.9636806 2.48937723,19.9585455 C1.45887355,19.7849772 0.715058337,19.2235823 0.273043615,18.2823325 C0.145642824,18.0109028 0.0890582882,17.7062657 0,17.4168385\" id=\"social-facebook\"></path></g></g></g></g></svg></a>\n",
       "<a title=\"Twitter\" rel=\"nofollow noopener\" href=\"https://twitter.com/GoodFirms\" target='_blank'><svg width=\"20px\" height=\"20px\" viewBox=\"0 0 20 20\" version=\"1.1\" xmlns=\"http://www.w3.org/2000/svg\" xmlns:xlink=\"http://www.w3.org/1999/xlink\"><g id=\"Page-1\" stroke=\"none\" stroke-width=\"1\" fill=\"none\" fill-rule=\"evenodd\"><g id=\"Main-Home-Page\" transform=\"translate(-285.000000, -4350.000000)\" fill=\"#757982\"><g id=\"Group-47\" transform=\"translate(-1.002490, 4092.000000)\"><g id=\"Group-3-Copy\" transform=\"translate(286.002490, 258.000000)\"><path d=\"M17,0 C18.6568542,-3.04359188e-16 20,1.34314575 20,3 L20,17 C20,18.6568542 18.6568542,20 17,20 L3,20 C1.34314575,20 2.02906125e-16,18.6568542 0,17 L0,3 C-2.02906125e-16,1.34314575 1.34314575,3.04359188e-16 3,0 L17,0 Z M13.9876679,5.72645885 C13.1115718,4.8922177 11.8735153,4.75991778 10.8578729,5.41567432 C10.1602314,5.86606532 9.77599038,6.523205 9.72075517,7.35627349 C9.7045785,7.59994587 9.73133916,7.8465048 9.73867579,8.10142268 C7.64972032,7.95989184 5.93102419,7.07297127 4.56947768,5.46853415 C4.25093558,6.0520369 4.14744096,6.65123523 4.29035494,7.28804883 C4.43254727,7.92179548 4.77866188,8.42206955 5.32701495,8.82672688 C4.90867662,8.81277525 4.55681899,8.69965882 4.2166278,8.5281801 C4.16890963,9.38930218 4.73776918,10.6548711 6.18795663,11.0300316 C5.81610367,11.1218898 5.46153991,11.1274524 5.07720866,11.0688796 C5.50709317,12.1439668 6.2698623,12.7292135 7.42463006,12.8360156 C6.32121872,13.6620782 5.10580349,13.9920763 3.75,13.8699394 C3.76786049,13.8911074 3.77330283,13.9018116 3.78202259,13.9073442 C4.62528419,14.4376564 5.54101006,14.7759232 6.52517106,14.9206112 C7.33818409,15.0401622 8.1514076,15.0241659 8.96081245,14.8761704 C10.6673009,14.564093 12.0711232,13.7348431 13.1435343,12.3735071 C14.2456828,10.9744055 14.7881124,9.37604212 14.7575932,7.58867031 C14.7567513,7.53911798 14.787932,7.47116394 14.8268101,7.4415468 C15.1563572,7.19050771 15.4516867,6.90501052 15.7153243,6.58622786 C15.7636739,6.52774529 15.8080846,6.46595522 15.8530064,6.40470637 C15.8976276,6.34387848 15.940595,6.28181779 15.984284,6.2203284 C15.5374411,6.38098259 15.095379,6.5125308 14.6285106,6.55901618 C15.1164267,6.21960677 15.4718023,5.78533231 15.6635469,5.19638722 C15.6065978,5.22543306 15.5710573,5.24200062 15.5369299,5.26112397 C15.10906,5.5009777 14.6533168,5.66590157 14.1764358,5.77781527 C14.0959734,5.79669807 14.0463008,5.78229542 13.9876679,5.72645885 Z\" id=\"social-twitter\"></path></g></g></g></g></svg></a></li></ul>\n",
       "</div>\n",
       "</div>\n",
       "</div>\n",
       "<div class=\"footer-menu\">\n",
       "<div class=\"footer-lists\">\n",
       "<span class=\"list-title\">For Reviewer</span>\n",
       "<ul class=\"no-padding\"><li><a href=\"/research-methodology\">Research Methodology</a></li><li><a href=\"/reviews/add\">Write a Review</a></li><li><a href=\"/directories\">Find Services</a></li><li><a href=\"/directories/software/\">Find Softwares</a></li><li><a href=\"/research\">Research</a></li><li><a href=\"/blog\">Blogs</a></li></ul>\n",
       "</div>\n",
       "<div class=\"footer-lists\">\n",
       "<span class=\"list-title\">For Business</span><ul class=\"no-padding\"><li><a href=\"/vendors\">Why Get Listed?</a></li><li><a href=\"/sponsors/pricing\">Pricing</a></li><li><a href=\"/media-kit/\">Media Kit</a></li><li><a href=\"/users/signup\">Get Listed</a></li><li><a href=\"/users/login\">Vendor Login</a></li></ul>\n",
       "</div>\n",
       "<div class=\"footer-lists\">\n",
       "<span class=\"list-title\">About</span>\n",
       "<ul class=\"no-padding\"><li><a href=\"/why-goodfirms\">Why GoodFirms</a></li><li><a href=\"/contact-us\">Help Center</a></li><li><a href=\"https://www.goodfirms.co/glossary\" target=\"_blank\">Glossary</a></li><li><a href=\"/privacy\">Privacy Policy</a></li><li><a href=\"/faqs/\">FAQs</a></li></ul>\n",
       "</div>\n",
       "</div>\n",
       "</div></div><div class=\"col-sm-12 footer-info\"><div class=\"footer-info-sec\"> <div class=\"text-center\"><ul class=\"no-padding\"><li><a href=\"/\">Copyright © GoodFirms 2023</a></li></ul></div></div></div>\n",
       "</div>\n",
       "</div>\n",
       "</div>\n",
       "<div class=\"backdrop-transparent hide\"></div>\n",
       "<div id=\"myModalLogin\" class=\"modal  myModalLogin\" role=\"dialog\"><div class=\"modal-dialog\"><div class=\"modal-content\"><div class=\"modal-body no-padding\"><div class=\"model-body-content\">\n",
       "<div class=\"signupForm text-center\"><span class=\"font18 weight500\">Sign in to GoodFirms</span><div class=\"imageslayout\"><div class=\"imageContainer\"><a class=\"ln-bg\" href=\"/reviewers/systemauth\"><span class=\"social-bar\"><svg width=\"21px\" height=\"21px\" viewBox=\"0 0 21 21\" version=\"1.1\" xmlns=\"http://www.w3.org/2000/svg\" xmlns:xlink=\"http://www.w3.org/1999/xlink\"><title>linkedin</title><g id=\"Services-Categories\" stroke=\"none\" stroke-width=\"1\" fill=\"none\" fill-rule=\"evenodd\"><g id=\"Sign-In\" transform=\"translate(-1057.000000, -372.000000)\" fill=\"#FFFFFF\" fill-rule=\"nonzero\"><g id=\"Group-4\" transform=\"translate(477.000000, 127.000000)\"><g id=\"Group-9\"><g id=\"Group-5\" transform=\"translate(562.000000, 227.000000)\"><path d=\"M34.2024803,24.5046044 C36.8029044,24.5046044 38.9109013,26.6126664 38.9109013,29.2130255 L38.9109013,29.2130255 L38.9109013,38.345815 C38.9109013,38.5025023 38.783731,38.6294775 38.6270437,38.6294775 L38.6270437,38.6294775 L34.911279,38.6285673 C34.7547217,38.6285023 34.6277465,38.501527 34.6277465,38.3449048 L34.6277465,38.3449048 L34.6277465,30.6855611 C34.6277465,30.0234435 34.3594276,29.4237407 33.9254493,28.9900224 C33.4856846,28.5499976 32.8755143,28.2803134 32.2024741,28.2879202 C30.8840252,28.3028088 29.8323998,29.3976044 29.8323998,30.7161184 L29.8323998,30.7161184 L29.8323998,38.3439295 C29.8323998,38.5006168 29.7053595,38.6276571 29.5486722,38.6275921 L29.5486722,38.6275921 L25.8420747,38.6266818 C25.6854524,38.6266168 25.5585422,38.4996416 25.5585422,38.3430193 L25.5585422,38.3430193 L25.5585422,25.1398707 C25.5585422,24.9831834 25.6855824,24.8562082 25.8422047,24.8562082 L25.8422047,24.8562082 L29.4697434,24.8562082 C29.6264307,24.8562082 29.753406,24.9832484 29.753406,25.1398707 L29.753406,25.1398707 L29.753406,26.6624032 C29.753731,26.6617531 29.7680995,26.6636385 29.7923502,26.6672794 C29.8624369,26.5404992 29.9387651,26.4176849 30.0212047,26.2994218 C30.7772047,25.2144435 32.034084,24.5046044 33.4567527,24.5046044 L33.4567527,24.5046044 Z M22.172471,24.8562732 C22.5498208,24.8562732 22.8557187,25.162171 22.8557187,25.5395209 L22.8557187,37.9433691 C22.8556536,38.320654 22.5498208,38.6265518 22.172471,38.6265518 L19.2649137,38.6265518 C18.8875639,38.6265518 18.581666,38.320654 18.581666,37.9433041 L18.581666,25.5395209 C18.581666,25.162171 18.8875639,24.8562732 19.2649137,24.8562732 L22.172471,24.8562732 Z M20.7306877,18 C22.0877558,18.001106 23.2069973,19.1219729 23.2040773,20.4858026 C23.2008208,21.9138676 22.0157187,22.9901989 20.7139787,22.9591865 C19.3936444,22.9859078 18.2333131,21.8831153 18.2335731,20.4763753 C18.2335731,19.1120255 19.3571707,17.9989605 20.7306877,18 Z\" id=\"linkedin\"></path></g></g></g></g></g></svg></span>Sign in using LinkedIn</a></div></div><div class=\"border-top font16 labelc padding-top-15\">Do you want to join GoodFirms? <a href=\"javascript:;\" class=\"opensignup pointer\">Sign up</a></div></div>\n",
       "</div></div></div></div></div>\n",
       "\n",
       "<div class=\"modal-backdrop-transparent hide\"></div>\n",
       "<script type=\"text/javascript\">\n",
       "            var signuptype = '<div class=\"signupForm text-center\"><span class=\"font18 weight500\">Sign up for GoodFirms</span><div class=\"imageslayout\"><div class=\"imageContainer\"><a class=\"ln-bg\" href=\"/reviewers/systemauth\"><span class=\"social-bar\"><!--?xml version=\"1.0\" encoding=\"UTF-8\"?--><svg width=\"21px\" height=\"21px\" viewBox=\"0 0 21 21\" version=\"1.1\" xmlns=\"http://www.w3.org/2000/svg\" xmlns:xlink=\"http://www.w3.org/1999/xlink\"><title>linkedin</title><g id=\"Services-Categories\" stroke=\"none\" stroke-width=\"1\" fill=\"none\" fill-rule=\"evenodd\"><g id=\"Sign-In\" transform=\"translate(-1057.000000, -372.000000)\" fill=\"#FFFFFF\" fill-rule=\"nonzero\"><g id=\"Group-4\" transform=\"translate(477.000000, 127.000000)\"><g id=\"Group-9\"><g id=\"Group-5\" transform=\"translate(562.000000, 227.000000)\"><path d=\"M34.2024803,24.5046044 C36.8029044,24.5046044 38.9109013,26.6126664 38.9109013,29.2130255 L38.9109013,29.2130255 L38.9109013,38.345815 C38.9109013,38.5025023 38.783731,38.6294775 38.6270437,38.6294775 L38.6270437,38.6294775 L34.911279,38.6285673 C34.7547217,38.6285023 34.6277465,38.501527 34.6277465,38.3449048 L34.6277465,38.3449048 L34.6277465,30.6855611 C34.6277465,30.0234435 34.3594276,29.4237407 33.9254493,28.9900224 C33.4856846,28.5499976 32.8755143,28.2803134 32.2024741,28.2879202 C30.8840252,28.3028088 29.8323998,29.3976044 29.8323998,30.7161184 L29.8323998,30.7161184 L29.8323998,38.3439295 C29.8323998,38.5006168 29.7053595,38.6276571 29.5486722,38.6275921 L29.5486722,38.6275921 L25.8420747,38.6266818 C25.6854524,38.6266168 25.5585422,38.4996416 25.5585422,38.3430193 L25.5585422,38.3430193 L25.5585422,25.1398707 C25.5585422,24.9831834 25.6855824,24.8562082 25.8422047,24.8562082 L25.8422047,24.8562082 L29.4697434,24.8562082 C29.6264307,24.8562082 29.753406,24.9832484 29.753406,25.1398707 L29.753406,25.1398707 L29.753406,26.6624032 C29.753731,26.6617531 29.7680995,26.6636385 29.7923502,26.6672794 C29.8624369,26.5404992 29.9387651,26.4176849 30.0212047,26.2994218 C30.7772047,25.2144435 32.034084,24.5046044 33.4567527,24.5046044 L33.4567527,24.5046044 Z M22.172471,24.8562732 C22.5498208,24.8562732 22.8557187,25.162171 22.8557187,25.5395209 L22.8557187,37.9433691 C22.8556536,38.320654 22.5498208,38.6265518 22.172471,38.6265518 L19.2649137,38.6265518 C18.8875639,38.6265518 18.581666,38.320654 18.581666,37.9433041 L18.581666,25.5395209 C18.581666,25.162171 18.8875639,24.8562732 19.2649137,24.8562732 L22.172471,24.8562732 Z M20.7306877,18 C22.0877558,18.001106 23.2069973,19.1219729 23.2040773,20.4858026 C23.2008208,21.9138676 22.0157187,22.9901989 20.7139787,22.9591865 C19.3936444,22.9859078 18.2333131,21.8831153 18.2335731,20.4763753 C18.2335731,19.1120255 19.3571707,17.9989605 20.7306877,18 Z\" id=\"linkedin\"></path></g></g></g></g></g></svg></span>Sign up using LinkedIn</a></div></div><div class=\"border-top font16 labelc padding-top-15\">Already have an account? <a href=\"javascript:;\" class=\"opensignin pointer\">Sign in</a></div></div>';\n",
       "\n",
       "            var signintype = '<div class=\"signupForm text-center\"><span class=\"font18 weight500\">Sign in to GoodFirms</span><div class=\"imageslayout\"><div class=\"imageContainer\"><a class=\"ln-bg\" href=\"/reviewers/systemauth\"><span class=\"social-bar\"><!--?xml version=\"1.0\" encoding=\"UTF-8\"?--><svg width=\"21px\" height=\"21px\" viewBox=\"0 0 21 21\" version=\"1.1\" xmlns=\"http://www.w3.org/2000/svg\" xmlns:xlink=\"http://www.w3.org/1999/xlink\"><title>linkedin</title><g id=\"Services-Categories\" stroke=\"none\" stroke-width=\"1\" fill=\"none\" fill-rule=\"evenodd\"><g id=\"Sign-In\" transform=\"translate(-1057.000000, -372.000000)\" fill=\"#FFFFFF\" fill-rule=\"nonzero\"><g id=\"Group-4\" transform=\"translate(477.000000, 127.000000)\"><g id=\"Group-9\"><g id=\"Group-5\" transform=\"translate(562.000000, 227.000000)\"><path d=\"M34.2024803,24.5046044 C36.8029044,24.5046044 38.9109013,26.6126664 38.9109013,29.2130255 L38.9109013,29.2130255 L38.9109013,38.345815 C38.9109013,38.5025023 38.783731,38.6294775 38.6270437,38.6294775 L38.6270437,38.6294775 L34.911279,38.6285673 C34.7547217,38.6285023 34.6277465,38.501527 34.6277465,38.3449048 L34.6277465,38.3449048 L34.6277465,30.6855611 C34.6277465,30.0234435 34.3594276,29.4237407 33.9254493,28.9900224 C33.4856846,28.5499976 32.8755143,28.2803134 32.2024741,28.2879202 C30.8840252,28.3028088 29.8323998,29.3976044 29.8323998,30.7161184 L29.8323998,30.7161184 L29.8323998,38.3439295 C29.8323998,38.5006168 29.7053595,38.6276571 29.5486722,38.6275921 L29.5486722,38.6275921 L25.8420747,38.6266818 C25.6854524,38.6266168 25.5585422,38.4996416 25.5585422,38.3430193 L25.5585422,38.3430193 L25.5585422,25.1398707 C25.5585422,24.9831834 25.6855824,24.8562082 25.8422047,24.8562082 L25.8422047,24.8562082 L29.4697434,24.8562082 C29.6264307,24.8562082 29.753406,24.9832484 29.753406,25.1398707 L29.753406,25.1398707 L29.753406,26.6624032 C29.753731,26.6617531 29.7680995,26.6636385 29.7923502,26.6672794 C29.8624369,26.5404992 29.9387651,26.4176849 30.0212047,26.2994218 C30.7772047,25.2144435 32.034084,24.5046044 33.4567527,24.5046044 L33.4567527,24.5046044 Z M22.172471,24.8562732 C22.5498208,24.8562732 22.8557187,25.162171 22.8557187,25.5395209 L22.8557187,37.9433691 C22.8556536,38.320654 22.5498208,38.6265518 22.172471,38.6265518 L19.2649137,38.6265518 C18.8875639,38.6265518 18.581666,38.320654 18.581666,37.9433041 L18.581666,25.5395209 C18.581666,25.162171 18.8875639,24.8562732 19.2649137,24.8562732 L22.172471,24.8562732 Z M20.7306877,18 C22.0877558,18.001106 23.2069973,19.1219729 23.2040773,20.4858026 C23.2008208,21.9138676 22.0157187,22.9901989 20.7139787,22.9591865 C19.3936444,22.9859078 18.2333131,21.8831153 18.2335731,20.4763753 C18.2335731,19.1120255 19.3571707,17.9989605 20.7306877,18 Z\" id=\"linkedin\"></path></g></g></g></g></g></svg></span>Sign in using LinkedIn</a></div></div><div class=\"border-top font16 labelc padding-top-15\">Do you want to join GoodFirms? <a href=\"javascript:;\" class=\"opensignup pointer\">Sign up</a></div></div>';\n",
       "\n",
       "                $(document).on('click','.opensignup',function(){$('#myModalLogin .model-body-content').html(signuptype);});\n",
       "                $(document).on('click','.opensignin',function(){$('#myModalLogin .model-body-content').html(signintype);});\n",
       "                $(document).on('click','.openReviewSignup',function(){\n",
       "                    $.ajax({\n",
       "                        url: \"/\" + \"reviewers/getsignup\",\n",
       "                        type: \"GET\",\n",
       "                        enctype: 'multipart/form-data',\n",
       "                        success: function (data, textStatus, jqXHR) {\n",
       "                           $('#myModalLogin .model-body-content').html(data);\n",
       "                        },\n",
       "                        error: function (jqXHR, textStatus, errorThrown) {\n",
       "                            return false;\n",
       "                        }\n",
       "                    });\n",
       "                });\n",
       "                $(document).on('click','.openReviewSignin',function(){\n",
       "                    $.ajax({\n",
       "                        url: \"/\" + \"reviewers/getsignin\",\n",
       "                        type: \"GET\",\n",
       "                        enctype: 'multipart/form-data',\n",
       "                        success: function (data, textStatus, jqXHR) {\n",
       "                           $('#myModalLogin .model-body-content').html(data);\n",
       "                        },\n",
       "                        error: function (jqXHR, textStatus, errorThrown) {\n",
       "                            return false;\n",
       "                        }\n",
       "                    });\n",
       "                });\n",
       "        </script>\n",
       "<script type=\"text/javascript\">window.onscroll = function() {myFunction()};var header = document.getElementById(\"site_header\");var sticky = header.offsetTop;function myFunction() {if (window.pageYOffset > sticky) {header.classList.add(\"sticky\");} else {header.classList.remove(\"sticky\");}}</script>\n",
       "<script type=\"text/javascript\">\n",
       "            document.addEventListener(\"DOMContentLoaded\",function(){var e;if(\"IntersectionObserver\"in window){e=document.querySelectorAll(\".lazy\");var n=new IntersectionObserver(function(e,t){e.forEach(function(e){if(e.isIntersecting){var t=e.target;t.src=t.getAttribute(\"lsrc\"),t.classList.remove(\"lazy\"),n.unobserve(t)}})});e.forEach(function(e){n.observe(e)})}else{var t;function r(){t&&clearTimeout(t),t=setTimeout(function(){var n=window.pageYOffset;e.forEach(function(e){e.offsetTop<window.innerHeight+n&&(e.src=e.getAttribute(\"lsrc\"),e.classList.remove(\"lazy\"))}),0==e.length&&(document.removeEventListener(\"scroll\",r),window.removeEventListener(\"resize\",r),window.removeEventListener(\"orientationChange\",r))},20)}e=document.querySelectorAll(\".lazy\"),document.addEventListener(\"scroll\",r),window.addEventListener(\"resize\",r),window.addEventListener(\"orientationChange\",r)}});\n",
       "\n",
       "            $(document).ready(function () {\n",
       "                $(\"form.global-search-input\").submit(function (e) {e.preventDefault();});\n",
       "                $(window).resize(function () {\n",
       "                    $(\".slide-active #header\").css(\"height\", $(window).height());\n",
       "                    if ($(window).width() > 1279) {\n",
       "                        $('#header ul li,#header ul').removeClass('open');\n",
       "                        $('#header ul li,#header ul').removeAttr(\"style\");\n",
       "                        $('#header ul li,#header ul').removeClass('hovered');\n",
       "                        $('#header a.navbar-nav-li-a').removeClass('open');\n",
       "                        $('#header li.vcategory-menu li.section-entity-li').removeClass('open');\n",
       "                        $(\"#header li.vcategory-menu\").show();\n",
       "                        $(\"#header ul.left-submenu\").removeAttr(\"style\");\n",
       "                        $(\"#header ul.left-submenu .mega-sub-menu\").removeAttr(\"style\");\n",
       "                        $(\"#header ul.left-submenu .mega-sub-sub-menu\").removeAttr(\"style\");\n",
       "                        $(\"#header .allmenu .menu-browse-all\").removeAttr(\"style\");\n",
       "                        // $(\"#header ul.left-submenu .mega-sub-menu li\").removeAttr(\"style\");\n",
       "                        $(\"ul.left-submenu#category-menu li.vcategory-menu:first\").addClass('hovered');\n",
       "                    }\n",
       "                });\n",
       "\n",
       "                $(\"ul.left-submenu li.vcategory-menu\").hover(function () {\n",
       "                    $(\"ul.left-submenu li.vcategory-menu\").removeClass(\"hovered\");\n",
       "                    var childPos = $(this).offset();\n",
       "                    var parentPos = $(this).parent().offset();\n",
       "                    var ctop = childPos.top - parentPos.top;\n",
       "                    var cleft = childPos.left - parentPos.left;\n",
       "\n",
       "                    if($(this).parents('.allmenu').hasClass('onlyresearch'))\n",
       "                    {\n",
       "                        if (($(window).width() > 1340 && $(window).width() < 1367) &&  ($(window).height() > 540 && $(window).height() < 767)) {\n",
       "                            $('.option-bg').css({'top':ctop +10});\n",
       "                        }\n",
       "                        else\n",
       "                        {\n",
       "                            $('.option-bg').css({'top':ctop +15});\n",
       "                        }\n",
       "                    }\n",
       "                    else\n",
       "                    {\n",
       "                        if (($(window).width() > 1340 && $(window).width() < 1367) &&  ($(window).height() > 540 && $(window).height() < 767)) {\n",
       "                            $('.option-bg').css({'top':ctop+2});\n",
       "                        }\n",
       "                        else\n",
       "                        {\n",
       "                            $('.option-bg').css({'top':ctop +7});\n",
       "                        }\n",
       "                    }\n",
       "                    $('.option-bg').css({'left':cleft+17});\n",
       "\n",
       "                    if ($(this).hasClass('browse-li'))\n",
       "                        $(this).parents('.allmenu').addClass('full-radious');\n",
       "                    else\n",
       "                        $(this).parents('.allmenu').removeClass('full-radious');\n",
       "\n",
       "                    $(this).addClass(\"hovered\")\n",
       "                });\n",
       "\n",
       "                $(\"ul.left-submenu.sotwarelinks li.vcategory-menu\").hover(function () {\n",
       "                    $(\"ul.left-submenu#category-menu li.vcategory-menu:first\").addClass('hovered');\n",
       "                });\n",
       "\n",
       "                $(\"ul.extra-sub-menu-ul li\").hover(function () {\n",
       "                    var childPos = $(this).offset();\n",
       "                    var parentPos = $(this).parent().offset();\n",
       "                    var ctop = childPos.top - parentPos.top;\n",
       "                    var cleft = childPos.left - parentPos.left;\n",
       "                    $('.option-bg').css({'top':ctop +7});\n",
       "                    if (($(window).width() > 1340 && $(window).width() < 1367) &&  ($(window).height() > 540 && $(window).height() < 767)) {\n",
       "                        $('.option-bg').css({'top':ctop+6});\n",
       "                    }\n",
       "                    $('.option-bg').css({'left':cleft+17});\n",
       "                });\n",
       "\n",
       "\n",
       "                var h = \".navbar-toggle\";\n",
       "                $(\"#slide-nav\").on(\"click\", h, function (l) {\n",
       "                    var k = $(this).hasClass(\"slide-active\");\n",
       "                    $(\"#header\").height(k ? \"0px\" : $(window).height());\n",
       "                    $(this).toggleClass(\"slide-active\", !k);\n",
       "                    $(\"#header\").toggleClass(\"slide-active\");\n",
       "                    $(\"body\").toggleClass(\"ohidden\");\n",
       "                    $(\"#page-content, .navbar, body, .navbar-header\").toggleClass(\"slide-active\");\n",
       "                    $('#header ul li,#header ul').removeClass('open');\n",
       "                    $('#header ul li,#header ul').removeAttr(\"style\");\n",
       "                    $('#header ul li,#header ul').removeClass('hovered')\n",
       "                    ;$('#header a.navbar-nav-li-a').removeClass('open');\n",
       "                    $('#header li.vcategory-menu li.section-entity-li').removeClass('open');\n",
       "                    $(\"#header ul.left-submenu\").removeAttr(\"style\");\n",
       "                    $(\"#header ul.left-submenu .mega-sub-menu\").removeAttr(\"style\");\n",
       "                    $(\"#header ul.left-submenu .mega-sub-sub-menu\").removeAttr(\"style\");\n",
       "                    $(\"#header .allmenu .menu-browse-all\").removeAttr(\"style\");\n",
       "                    // $(\"#header ul.left-submenu .mega-sub-menu li\").removeAttr(\"style\");\n",
       "                    var search_len = $(\".right-heder-search-input\").val().length;\n",
       "                    if (search_len > 0){\n",
       "                        $(\"input.right-heder-search-input\").val(\"\");\n",
       "                        hideSearch()\n",
       "                    }\n",
       "                });\n",
       "\n",
       "                var e = \"#header, #page-content, body, .navbar, .navbar-header,.navbar-toggle\";\n",
       "                $(window).resize(function () {\n",
       "                    if ($(window).width() > 1279 && $(\".navbar-toggle\").is(\":hidden\")) {\n",
       "                        $(e).removeClass(\"slide-active\");\n",
       "                        $('body').removeClass('ohidden');\n",
       "                        $(\"#header\").css(\"height\", \"auto\")\n",
       "                    } else {\n",
       "                        $(e).removeClass(\"slide-active\");\n",
       "                        if ($(window).width() > 480)\n",
       "                            $('body').removeClass('ohidden');\n",
       "                        $(\"#header\").css(\"height\", \"0px\");\n",
       "                    }\n",
       "                });\n",
       "\n",
       "                $(document).on(\"click\", \".s-m\", function () {$(\".goodfirm_support\").hide();$(\".goodfirm_chat\").show()});\n",
       "\n",
       "                $(document).on(\"click\", function () {$(\"ul.webist-btn-menu\").hide()});\n",
       "\n",
       "                $(document).on(\"click\", \"ul.website-btn li.w-b-t span\", function (b) {\n",
       "                    b.stopPropagation();var a = $(this).parents(\"li\").find(\"ul.webist-btn-menu\").is(\":visible\");if (a === true) {$(\"ul.webist-btn-menu\").hide()} else {$(\"ul.webist-btn-menu\").hide();$(this).parents(\"li\").find(\"ul.webist-btn-menu\").toggle()}\n",
       "                });\n",
       "            });\n",
       "        </script>\n",
       "<script type=\"text/javascript\">\n",
       "                var Tawk_API=Tawk_API||{}, Tawk_LoadStart=new Date();\n",
       "                (function(){\n",
       "                var s1=document.createElement(\"script\"),s0=document.getElementsByTagName(\"script\")[0];\n",
       "                s1.async=true;\n",
       "                s1.src='https://embed.tawk.to/62b931527b967b117996a03f/1g6hmhao0';\n",
       "                s1.charset='UTF-8';\n",
       "                s1.setAttribute('crossorigin','*');\n",
       "                s0.parentNode.insertBefore(s1,s0);\n",
       "                })();\n",
       "                </script>\n",
       "<script>(function(){var js = \"window['__CF$cv$params']={r:'792a0b0ffc59b93f',m:'e3coI1fKRiRbqHDpEgA03J4Vn1YJcPfEondlh5N6DXg-1675247758-0-AQExShpd0SH1QEq9T4LM5eiYdublJy+NAQ3a88btEBAhnbuhsPBHfu9V9+W/KdsKGRWaRSLJ33gr8LpRzP4ojqQhgEbxKaXqIZcB3wph3MtrOtrBECzvBa5IdrtXIskKLp9g1u/L83lKEXyo2mhdU65yoi31UoorDAL58W6HA/mSSfEm7U2aIJbW4t00f0/+4A==',s:[0xe7ecf9daf9,0xa921437b11],u:'/cdn-cgi/challenge-platform/h/g'};var now=Date.now()/1000,offset=14400,ts=''+(Math.floor(now)-Math.floor(now%offset)),_cpo=document.createElement('script');_cpo.nonce='',_cpo.src='/cdn-cgi/challenge-platform/h/g/scripts/alpha/invisible.js?ts='+ts,document.getElementsByTagName('head')[0].appendChild(_cpo);\";var _0xh = document.createElement('iframe');_0xh.height = 1;_0xh.width = 1;_0xh.style.position = 'absolute';_0xh.style.top = 0;_0xh.style.left = 0;_0xh.style.border = 'none';_0xh.style.visibility = 'hidden';document.body.appendChild(_0xh);function handler() {var _0xi = _0xh.contentDocument || _0xh.contentWindow.document;if (_0xi) {var _0xj = _0xi.createElement('script');_0xj.nonce = '';_0xj.innerHTML = js;_0xi.getElementsByTagName('head')[0].appendChild(_0xj);}}if (document.readyState !== 'loading') {handler();} else if (window.addEventListener) {document.addEventListener('DOMContentLoaded', handler);} else {var prev = document.onreadystatechange || function () {};document.onreadystatechange = function (e) {prev(e);if (document.readyState !== 'loading') {document.onreadystatechange = prev;handler();}};}})();</script><script defer src=\"https://static.cloudflareinsights.com/beacon.min.js/vaafb692b2aea4879b33c060e79fe94621666317369993\" integrity=\"sha512-0ahDYl866UMhKuYcW078ScMalXqtFJggm7TmlUtp0UlD4eQk0Ixfnm5ykXKvGJNFjLMoortdseTfsRT8oCfgGA==\" data-cf-beacon='{\"rayId\":\"792a0b0ffc59b93f\",\"token\":\"fcbe3863b2fa4d42be42be31fa8a9013\",\"version\":\"2022.11.3\",\"si\":100}' crossorigin=\"anonymous\"></script>\n",
       "</body>\n",
       "</html>\n"
      ],
      "text/plain": [
       "<IPython.core.display.HTML object>"
      ]
     },
     "execution_count": 41,
     "metadata": {},
     "output_type": "execute_result"
    }
   ],
   "source": [
    "# to view a web page in python\n",
    "from IPython import display\n",
    "display.HTML('page2.html')"
   ]
  },
  {
   "cell_type": "code",
   "execution_count": 10,
   "id": "d9257aa5",
   "metadata": {},
   "outputs": [],
   "source": [
    "# Page 1\n",
    "# read html file\n",
    "with open(\"page1.html\", encoding = 'utf 8', mode = 'r') as file:\n",
    "    bs = BeautifulSoup(file, 'lxml')"
   ]
  },
  {
   "cell_type": "code",
   "execution_count": 13,
   "id": "92143a2d",
   "metadata": {},
   "outputs": [],
   "source": [
    "# extracting information from the page.\n",
    "firm_names = bs.find_all('span', {'itemprop':\"name\"})\n",
    "firm_motors = bs.find_all('p', {'class':\"profile tagline\"})\n",
    "firm_reviews = bs.find_all('span', {'class': \"listinv_review_label\"})\n",
    "progressive_value = bs.find_all('div', {'class': \"circle-progressive-value\"})\n",
    "firm_prices = bs.find_all('div', {'class':\"firm pricing\"})\n",
    "firm_emps = bs.find_all('div',{'class': \"firm-employees\"})\n",
    "firm_years = bs.find_all('div', {'class':\"firm-founded\"})\n",
    "firm_locations = bs.find_all('div',{'class':\"firm location\"})\n"
   ]
  },
  {
   "cell_type": "code",
   "execution_count": 18,
   "id": "34deb394",
   "metadata": {},
   "outputs": [
    {
     "data": {
      "text/plain": [
       "'1991'"
      ]
     },
     "execution_count": 18,
     "metadata": {},
     "output_type": "execute_result"
    }
   ],
   "source": [
    "# extract info withouth the tags\n",
    "firm_years[0].text"
   ]
  },
  {
   "cell_type": "code",
   "execution_count": 24,
   "id": "fa0516f8",
   "metadata": {},
   "outputs": [],
   "source": [
    "# function to extract everything\n",
    "def extract_details(tag_lst):\n",
    "    lst = [tag.text for tag in tag_lst]\n",
    "    return pd.Series(lst)"
   ]
  },
  {
   "cell_type": "code",
   "execution_count": 27,
   "id": "f22b4077",
   "metadata": {},
   "outputs": [
    {
     "name": "stderr",
     "output_type": "stream",
     "text": [
      "C:\\Users\\Vimah\\AppData\\Local\\Temp\\ipykernel_1196\\2040118706.py:4: FutureWarning:\n",
      "\n",
      "The default dtype for empty Series will be 'object' instead of 'float64' in a future version. Specify a dtype explicitly to silence this warning.\n",
      "\n"
     ]
    }
   ],
   "source": [
    "# extracting details\n",
    "names= extract_details(firm_names[3:])\n",
    "motors=extract_details(firm_motors)\n",
    "reviews=extract_details(firm_reviews)\n",
    "prices=extract_details(firm_prices)\n",
    "emps=extract_details(firm_emps)\n",
    "years=extract_details(firm_years)\n",
    "locations=extract_details(firm_locations)"
   ]
  },
  {
   "cell_type": "code",
   "execution_count": 30,
   "id": "fbb065f5",
   "metadata": {},
   "outputs": [
    {
     "data": {
      "text/plain": [
       "0                   Cubix\n",
       "1                Iflexion\n",
       "2    Binmile Technologies\n",
       "3              SPEC INDIA\n",
       "4               OpenXcell\n",
       "dtype: object"
      ]
     },
     "execution_count": 30,
     "metadata": {},
     "output_type": "execute_result"
    }
   ],
   "source": [
    "names[:5]"
   ]
  },
  {
   "cell_type": "code",
   "execution_count": 35,
   "id": "8b32edea",
   "metadata": {},
   "outputs": [
    {
     "data": {
      "text/plain": [
       "0     5.0 (3 Reviews)\n",
       "1    5.0 (31 Reviews)\n",
       "2    4.9 (12 Reviews)\n",
       "3     4.9 (5 Reviews)\n",
       "4    4.8 (26 Reviews)\n",
       "dtype: object"
      ]
     },
     "execution_count": 35,
     "metadata": {},
     "output_type": "execute_result"
    }
   ],
   "source": [
    "reviews[:5]"
   ]
  },
  {
   "cell_type": "code",
   "execution_count": 37,
   "id": "60324197",
   "metadata": {},
   "outputs": [
    {
     "data": {
      "text/html": [
       "<div>\n",
       "<style scoped>\n",
       "    .dataframe tbody tr th:only-of-type {\n",
       "        vertical-align: middle;\n",
       "    }\n",
       "\n",
       "    .dataframe tbody tr th {\n",
       "        vertical-align: top;\n",
       "    }\n",
       "\n",
       "    .dataframe thead th {\n",
       "        text-align: right;\n",
       "    }\n",
       "</style>\n",
       "<table border=\"1\" class=\"dataframe\">\n",
       "  <thead>\n",
       "    <tr style=\"text-align: right;\">\n",
       "      <th></th>\n",
       "      <th>firm_names</th>\n",
       "      <th>firm_motors</th>\n",
       "      <th>firm_reviews</th>\n",
       "      <th>firm_price</th>\n",
       "      <th>firm_employee</th>\n",
       "      <th>year_founded</th>\n",
       "      <th>firm_location</th>\n",
       "    </tr>\n",
       "  </thead>\n",
       "  <tbody>\n",
       "    <tr>\n",
       "      <th>0</th>\n",
       "      <td>Cubix</td>\n",
       "      <td>NaN</td>\n",
       "      <td>5.0 (3 Reviews)</td>\n",
       "      <td>NaN</td>\n",
       "      <td>1,000 - 9,999</td>\n",
       "      <td>1991</td>\n",
       "      <td>NaN</td>\n",
       "    </tr>\n",
       "    <tr>\n",
       "      <th>1</th>\n",
       "      <td>Iflexion</td>\n",
       "      <td>NaN</td>\n",
       "      <td>5.0 (31 Reviews)</td>\n",
       "      <td>NaN</td>\n",
       "      <td>50 - 249</td>\n",
       "      <td>2008</td>\n",
       "      <td>NaN</td>\n",
       "    </tr>\n",
       "    <tr>\n",
       "      <th>2</th>\n",
       "      <td>Binmile Technologies</td>\n",
       "      <td>NaN</td>\n",
       "      <td>4.9 (12 Reviews)</td>\n",
       "      <td>NaN</td>\n",
       "      <td>250 - 999</td>\n",
       "      <td>1999</td>\n",
       "      <td>NaN</td>\n",
       "    </tr>\n",
       "    <tr>\n",
       "      <th>3</th>\n",
       "      <td>SPEC INDIA</td>\n",
       "      <td>NaN</td>\n",
       "      <td>4.9 (5 Reviews)</td>\n",
       "      <td>NaN</td>\n",
       "      <td>250 - 999</td>\n",
       "      <td>2017</td>\n",
       "      <td>NaN</td>\n",
       "    </tr>\n",
       "    <tr>\n",
       "      <th>4</th>\n",
       "      <td>OpenXcell</td>\n",
       "      <td>NaN</td>\n",
       "      <td>4.8 (26 Reviews)</td>\n",
       "      <td>NaN</td>\n",
       "      <td>250 - 999</td>\n",
       "      <td>1987</td>\n",
       "      <td>NaN</td>\n",
       "    </tr>\n",
       "  </tbody>\n",
       "</table>\n",
       "</div>"
      ],
      "text/plain": [
       "             firm_names  firm_motors      firm_reviews  firm_price  \\\n",
       "0                 Cubix          NaN   5.0 (3 Reviews)         NaN   \n",
       "1              Iflexion          NaN  5.0 (31 Reviews)         NaN   \n",
       "2  Binmile Technologies          NaN  4.9 (12 Reviews)         NaN   \n",
       "3            SPEC INDIA          NaN   4.9 (5 Reviews)         NaN   \n",
       "4             OpenXcell          NaN  4.8 (26 Reviews)         NaN   \n",
       "\n",
       "   firm_employee year_founded  firm_location  \n",
       "0  1,000 - 9,999         1991            NaN  \n",
       "1       50 - 249         2008            NaN  \n",
       "2      250 - 999         1999            NaN  \n",
       "3      250 - 999         2017            NaN  \n",
       "4      250 - 999         1987            NaN  "
      ]
     },
     "execution_count": 37,
     "metadata": {},
     "output_type": "execute_result"
    }
   ],
   "source": [
    "# Create empty dataframe to put details exracted\n",
    "df1 = pd.DataFrame()\n",
    "\n",
    "df1 ['firm_names'] =names\n",
    "df1 ['firm_motors'] =motors\n",
    "df1 ['firm_reviews'] =reviews\n",
    "df1 ['firm_price'] =prices\n",
    "df1 ['firm_employee'] =emps\n",
    "df1 ['year_founded'] =years\n",
    "df1 ['firm_location'] =locations\n",
    "\n",
    "df1.head()\n"
   ]
  },
  {
   "cell_type": "code",
   "execution_count": 39,
   "id": "d730f91e",
   "metadata": {},
   "outputs": [
    {
     "name": "stderr",
     "output_type": "stream",
     "text": [
      "C:\\Users\\Vimah\\AppData\\Local\\Temp\\ipykernel_1196\\2040118706.py:4: FutureWarning:\n",
      "\n",
      "The default dtype for empty Series will be 'object' instead of 'float64' in a future version. Specify a dtype explicitly to silence this warning.\n",
      "\n"
     ]
    },
    {
     "data": {
      "text/html": [
       "<div>\n",
       "<style scoped>\n",
       "    .dataframe tbody tr th:only-of-type {\n",
       "        vertical-align: middle;\n",
       "    }\n",
       "\n",
       "    .dataframe tbody tr th {\n",
       "        vertical-align: top;\n",
       "    }\n",
       "\n",
       "    .dataframe thead th {\n",
       "        text-align: right;\n",
       "    }\n",
       "</style>\n",
       "<table border=\"1\" class=\"dataframe\">\n",
       "  <thead>\n",
       "    <tr style=\"text-align: right;\">\n",
       "      <th></th>\n",
       "      <th>firm_names</th>\n",
       "      <th>firm_motors</th>\n",
       "      <th>firm_reviews</th>\n",
       "      <th>firm_price</th>\n",
       "      <th>firm_employee</th>\n",
       "      <th>year_founded</th>\n",
       "      <th>firm_location</th>\n",
       "    </tr>\n",
       "  </thead>\n",
       "  <tbody>\n",
       "    <tr>\n",
       "      <th>0</th>\n",
       "      <td>SimbirSoft</td>\n",
       "      <td>NaN</td>\n",
       "      <td>4.8 (30 Reviews)</td>\n",
       "      <td>NaN</td>\n",
       "      <td>10 - 49</td>\n",
       "      <td>2014</td>\n",
       "      <td>NaN</td>\n",
       "    </tr>\n",
       "    <tr>\n",
       "      <th>1</th>\n",
       "      <td>Alphonic Network Solutions Pvt. Ltd.</td>\n",
       "      <td>NaN</td>\n",
       "      <td>5.0 (33 Reviews)</td>\n",
       "      <td>NaN</td>\n",
       "      <td>1,000 - 9,999</td>\n",
       "      <td>2001</td>\n",
       "      <td>NaN</td>\n",
       "    </tr>\n",
       "    <tr>\n",
       "      <th>2</th>\n",
       "      <td>Axis Web Art Pvt Ltd</td>\n",
       "      <td>NaN</td>\n",
       "      <td>4.9 (21 Reviews)</td>\n",
       "      <td>NaN</td>\n",
       "      <td>50 - 249</td>\n",
       "      <td>2013</td>\n",
       "      <td>NaN</td>\n",
       "    </tr>\n",
       "    <tr>\n",
       "      <th>3</th>\n",
       "      <td>Startbit IT Solutions Pvt. Ltd.</td>\n",
       "      <td>NaN</td>\n",
       "      <td>5.0 (20 Reviews)</td>\n",
       "      <td>NaN</td>\n",
       "      <td>10 - 49</td>\n",
       "      <td>2011</td>\n",
       "      <td>NaN</td>\n",
       "    </tr>\n",
       "    <tr>\n",
       "      <th>4</th>\n",
       "      <td>Attract Group</td>\n",
       "      <td>NaN</td>\n",
       "      <td>5.0 (28 Reviews)</td>\n",
       "      <td>NaN</td>\n",
       "      <td>50 - 249</td>\n",
       "      <td>2008</td>\n",
       "      <td>NaN</td>\n",
       "    </tr>\n",
       "  </tbody>\n",
       "</table>\n",
       "</div>"
      ],
      "text/plain": [
       "                             firm_names  firm_motors      firm_reviews  \\\n",
       "0                            SimbirSoft          NaN  4.8 (30 Reviews)   \n",
       "1  Alphonic Network Solutions Pvt. Ltd.          NaN  5.0 (33 Reviews)   \n",
       "2                  Axis Web Art Pvt Ltd          NaN  4.9 (21 Reviews)   \n",
       "3       Startbit IT Solutions Pvt. Ltd.          NaN  5.0 (20 Reviews)   \n",
       "4                         Attract Group          NaN  5.0 (28 Reviews)   \n",
       "\n",
       "   firm_price  firm_employee year_founded  firm_location  \n",
       "0         NaN        10 - 49         2014            NaN  \n",
       "1         NaN  1,000 - 9,999         2001            NaN  \n",
       "2         NaN       50 - 249         2013            NaN  \n",
       "3         NaN        10 - 49         2011            NaN  \n",
       "4         NaN       50 - 249         2008            NaN  "
      ]
     },
     "execution_count": 39,
     "metadata": {},
     "output_type": "execute_result"
    }
   ],
   "source": [
    "# page 2\n",
    "# read html file\n",
    "with open(\"page2.html\", encoding = 'utf 8', mode = 'r') as file:\n",
    "    bs2 = BeautifulSoup(file, 'lxml')\n",
    "\n",
    "# extracting information from the page.\n",
    "firm_names = bs2.find_all('span', {'itemprop':\"name\"})\n",
    "firm_motors = bs2.find_all('p', {'class':\"profile tagline\"})\n",
    "firm_reviews = bs2.find_all('span', {'class': \"listinv_review_label\"})\n",
    "firm_prices = bs2.find_all('div', {'class':\"firm pricing\"})\n",
    "firm_emps = bs2.find_all('div',{'class': \"firm-employees\"})\n",
    "firm_years = bs2.find_all('div', {'class':\"firm-founded\"})\n",
    "firm_locations = bs2.find_all('div',{'class':\"firm location\"})\n",
    "\n",
    "# extracting details\n",
    "names2= extract_details(firm_names[3:])\n",
    "motors=extract_details(firm_motors)\n",
    "reviews=extract_details(firm_reviews)\n",
    "prices=extract_details(firm_prices)\n",
    "emps=extract_details(firm_emps)\n",
    "years=extract_details(firm_years)\n",
    "locations=extract_details(firm_locations)\n",
    "\n",
    "# Create empty dataframe to put details exracted\n",
    "df2 = pd.DataFrame()\n",
    "\n",
    "df2 ['firm_names'] =names2\n",
    "df2 ['firm_motors'] =motors\n",
    "df2 ['firm_reviews'] =reviews\n",
    "df2 ['firm_price'] =prices\n",
    "df2 ['firm_employee'] =emps\n",
    "df2 ['year_founded'] =years\n",
    "df2 ['firm_location'] =locations\n",
    "\n",
    "df2.head()"
   ]
  },
  {
   "cell_type": "code",
   "execution_count": 40,
   "id": "4d35f46b",
   "metadata": {},
   "outputs": [
    {
     "name": "stderr",
     "output_type": "stream",
     "text": [
      "C:\\Users\\Vimah\\AppData\\Local\\Temp\\ipykernel_1196\\2040118706.py:4: FutureWarning:\n",
      "\n",
      "The default dtype for empty Series will be 'object' instead of 'float64' in a future version. Specify a dtype explicitly to silence this warning.\n",
      "\n"
     ]
    },
    {
     "data": {
      "text/html": [
       "<div>\n",
       "<style scoped>\n",
       "    .dataframe tbody tr th:only-of-type {\n",
       "        vertical-align: middle;\n",
       "    }\n",
       "\n",
       "    .dataframe tbody tr th {\n",
       "        vertical-align: top;\n",
       "    }\n",
       "\n",
       "    .dataframe thead th {\n",
       "        text-align: right;\n",
       "    }\n",
       "</style>\n",
       "<table border=\"1\" class=\"dataframe\">\n",
       "  <thead>\n",
       "    <tr style=\"text-align: right;\">\n",
       "      <th></th>\n",
       "      <th>firm_names</th>\n",
       "      <th>firm_motors</th>\n",
       "      <th>firm_reviews</th>\n",
       "      <th>firm_price</th>\n",
       "      <th>firm_employee</th>\n",
       "      <th>year_founded</th>\n",
       "      <th>firm_location</th>\n",
       "    </tr>\n",
       "  </thead>\n",
       "  <tbody>\n",
       "    <tr>\n",
       "      <th>0</th>\n",
       "      <td>TechUptodate</td>\n",
       "      <td>NaN</td>\n",
       "      <td>4.8 (21 Reviews)</td>\n",
       "      <td>NaN</td>\n",
       "      <td>250 - 999</td>\n",
       "      <td>1999</td>\n",
       "      <td>NaN</td>\n",
       "    </tr>\n",
       "    <tr>\n",
       "      <th>1</th>\n",
       "      <td>Bird Marketing Limited</td>\n",
       "      <td>NaN</td>\n",
       "      <td>5.0 (16 Reviews)</td>\n",
       "      <td>NaN</td>\n",
       "      <td>2 - 9</td>\n",
       "      <td></td>\n",
       "      <td>NaN</td>\n",
       "    </tr>\n",
       "    <tr>\n",
       "      <th>2</th>\n",
       "      <td>OweBest Technologies</td>\n",
       "      <td>NaN</td>\n",
       "      <td>5.0 (17 Reviews)</td>\n",
       "      <td>NaN</td>\n",
       "      <td>10 - 49</td>\n",
       "      <td>2010</td>\n",
       "      <td>NaN</td>\n",
       "    </tr>\n",
       "    <tr>\n",
       "      <th>3</th>\n",
       "      <td>ValueCoders</td>\n",
       "      <td>NaN</td>\n",
       "      <td>5.0 (18 Reviews)</td>\n",
       "      <td>NaN</td>\n",
       "      <td>50 - 249</td>\n",
       "      <td>2016</td>\n",
       "      <td>NaN</td>\n",
       "    </tr>\n",
       "    <tr>\n",
       "      <th>4</th>\n",
       "      <td>Computools</td>\n",
       "      <td>NaN</td>\n",
       "      <td>4.8 (24 Reviews)</td>\n",
       "      <td>NaN</td>\n",
       "      <td>250 - 999</td>\n",
       "      <td>2004</td>\n",
       "      <td>NaN</td>\n",
       "    </tr>\n",
       "  </tbody>\n",
       "</table>\n",
       "</div>"
      ],
      "text/plain": [
       "               firm_names  firm_motors      firm_reviews  firm_price  \\\n",
       "0            TechUptodate          NaN  4.8 (21 Reviews)         NaN   \n",
       "1  Bird Marketing Limited          NaN  5.0 (16 Reviews)         NaN   \n",
       "2    OweBest Technologies          NaN  5.0 (17 Reviews)         NaN   \n",
       "3             ValueCoders          NaN  5.0 (18 Reviews)         NaN   \n",
       "4              Computools          NaN  4.8 (24 Reviews)         NaN   \n",
       "\n",
       "  firm_employee year_founded  firm_location  \n",
       "0     250 - 999         1999            NaN  \n",
       "1         2 - 9                         NaN  \n",
       "2       10 - 49         2010            NaN  \n",
       "3      50 - 249         2016            NaN  \n",
       "4     250 - 999         2004            NaN  "
      ]
     },
     "execution_count": 40,
     "metadata": {},
     "output_type": "execute_result"
    }
   ],
   "source": [
    "# Page 3\n",
    "# read html file\n",
    "with open(\"page3.html\", encoding = 'utf 8', mode = 'r') as file:\n",
    "    bs3 = BeautifulSoup(file, 'lxml')\n",
    "\n",
    "# extracting information from the page.\n",
    "firm_names = bs3.find_all('span', {'itemprop':\"name\"})\n",
    "firm_motors = bs3.find_all('p', {'class':\"profile tagline\"})\n",
    "firm_reviews = bs3.find_all('span', {'class': \"listinv_review_label\"})\n",
    "firm_prices = bs3.find_all('div', {'class':\"firm pricing\"})\n",
    "firm_emps = bs3.find_all('div',{'class': \"firm-employees\"})\n",
    "firm_years = bs3.find_all('div', {'class':\"firm-founded\"})\n",
    "firm_locations = bs3.find_all('div',{'class':\"firm location\"})\n",
    "\n",
    "# extracting details\n",
    "names3= extract_details(firm_names[3:])\n",
    "motors=extract_details(firm_motors)\n",
    "reviews=extract_details(firm_reviews)\n",
    "prices=extract_details(firm_prices)\n",
    "emps=extract_details(firm_emps)\n",
    "years=extract_details(firm_years)\n",
    "locations=extract_details(firm_locations)\n",
    "\n",
    "# Create empty dataframe to put details exracted\n",
    "df3 = pd.DataFrame()\n",
    "\n",
    "df3 ['firm_names'] =names3\n",
    "df3 ['firm_motors'] =motors\n",
    "df3 ['firm_reviews'] =reviews\n",
    "df3 ['firm_price'] =prices\n",
    "df3 ['firm_employee'] =emps\n",
    "df3 ['year_founded'] =years\n",
    "df3 ['firm_location'] =locations\n",
    "\n",
    "df3.head()"
   ]
  },
  {
   "cell_type": "code",
   "execution_count": 43,
   "id": "a4ba6c2c",
   "metadata": {},
   "outputs": [
    {
     "data": {
      "text/html": [
       "<div>\n",
       "<style scoped>\n",
       "    .dataframe tbody tr th:only-of-type {\n",
       "        vertical-align: middle;\n",
       "    }\n",
       "\n",
       "    .dataframe tbody tr th {\n",
       "        vertical-align: top;\n",
       "    }\n",
       "\n",
       "    .dataframe thead th {\n",
       "        text-align: right;\n",
       "    }\n",
       "</style>\n",
       "<table border=\"1\" class=\"dataframe\">\n",
       "  <thead>\n",
       "    <tr style=\"text-align: right;\">\n",
       "      <th></th>\n",
       "      <th>firm_names</th>\n",
       "      <th>firm_motors</th>\n",
       "      <th>firm_reviews</th>\n",
       "      <th>firm_price</th>\n",
       "      <th>firm_employee</th>\n",
       "      <th>year_founded</th>\n",
       "      <th>firm_location</th>\n",
       "    </tr>\n",
       "  </thead>\n",
       "  <tbody>\n",
       "    <tr>\n",
       "      <th>0</th>\n",
       "      <td>Cubix</td>\n",
       "      <td>NaN</td>\n",
       "      <td>5.0 (3 Reviews)</td>\n",
       "      <td>NaN</td>\n",
       "      <td>1,000 - 9,999</td>\n",
       "      <td>1991</td>\n",
       "      <td>NaN</td>\n",
       "    </tr>\n",
       "    <tr>\n",
       "      <th>1</th>\n",
       "      <td>Iflexion</td>\n",
       "      <td>NaN</td>\n",
       "      <td>5.0 (31 Reviews)</td>\n",
       "      <td>NaN</td>\n",
       "      <td>50 - 249</td>\n",
       "      <td>2008</td>\n",
       "      <td>NaN</td>\n",
       "    </tr>\n",
       "    <tr>\n",
       "      <th>2</th>\n",
       "      <td>Binmile Technologies</td>\n",
       "      <td>NaN</td>\n",
       "      <td>4.9 (12 Reviews)</td>\n",
       "      <td>NaN</td>\n",
       "      <td>250 - 999</td>\n",
       "      <td>1999</td>\n",
       "      <td>NaN</td>\n",
       "    </tr>\n",
       "    <tr>\n",
       "      <th>3</th>\n",
       "      <td>SPEC INDIA</td>\n",
       "      <td>NaN</td>\n",
       "      <td>4.9 (5 Reviews)</td>\n",
       "      <td>NaN</td>\n",
       "      <td>250 - 999</td>\n",
       "      <td>2017</td>\n",
       "      <td>NaN</td>\n",
       "    </tr>\n",
       "    <tr>\n",
       "      <th>4</th>\n",
       "      <td>OpenXcell</td>\n",
       "      <td>NaN</td>\n",
       "      <td>4.8 (26 Reviews)</td>\n",
       "      <td>NaN</td>\n",
       "      <td>250 - 999</td>\n",
       "      <td>1987</td>\n",
       "      <td>NaN</td>\n",
       "    </tr>\n",
       "    <tr>\n",
       "      <th>...</th>\n",
       "      <td>...</td>\n",
       "      <td>...</td>\n",
       "      <td>...</td>\n",
       "      <td>...</td>\n",
       "      <td>...</td>\n",
       "      <td>...</td>\n",
       "      <td>...</td>\n",
       "    </tr>\n",
       "    <tr>\n",
       "      <th>154</th>\n",
       "      <td>The Bureau Of Small Projects</td>\n",
       "      <td>NaN</td>\n",
       "      <td>4.9 (15 Reviews)</td>\n",
       "      <td>NaN</td>\n",
       "      <td>50 - 249</td>\n",
       "      <td>2005</td>\n",
       "      <td>NaN</td>\n",
       "    </tr>\n",
       "    <tr>\n",
       "      <th>155</th>\n",
       "      <td>Zignuts Technolab Pvt. Ltd.</td>\n",
       "      <td>NaN</td>\n",
       "      <td>5.0 (11 Reviews)</td>\n",
       "      <td>NaN</td>\n",
       "      <td>10 - 49</td>\n",
       "      <td>2010</td>\n",
       "      <td>NaN</td>\n",
       "    </tr>\n",
       "    <tr>\n",
       "      <th>156</th>\n",
       "      <td>Ficode</td>\n",
       "      <td>NaN</td>\n",
       "      <td>4.6 (18 Reviews)</td>\n",
       "      <td>NaN</td>\n",
       "      <td>50 - 249</td>\n",
       "      <td>2017</td>\n",
       "      <td>NaN</td>\n",
       "    </tr>\n",
       "    <tr>\n",
       "      <th>157</th>\n",
       "      <td>Clavax Technologies LLC</td>\n",
       "      <td>NaN</td>\n",
       "      <td>5.0 (11 Reviews)</td>\n",
       "      <td>NaN</td>\n",
       "      <td>10 - 49</td>\n",
       "      <td>2013</td>\n",
       "      <td>NaN</td>\n",
       "    </tr>\n",
       "    <tr>\n",
       "      <th>158</th>\n",
       "      <td>Prometteur Solutions</td>\n",
       "      <td>NaN</td>\n",
       "      <td>4.4 (15 Reviews)</td>\n",
       "      <td>NaN</td>\n",
       "      <td>50 - 249</td>\n",
       "      <td>2011</td>\n",
       "      <td>NaN</td>\n",
       "    </tr>\n",
       "  </tbody>\n",
       "</table>\n",
       "<p>159 rows × 7 columns</p>\n",
       "</div>"
      ],
      "text/plain": [
       "                       firm_names  firm_motors      firm_reviews  firm_price  \\\n",
       "0                           Cubix          NaN   5.0 (3 Reviews)         NaN   \n",
       "1                        Iflexion          NaN  5.0 (31 Reviews)         NaN   \n",
       "2            Binmile Technologies          NaN  4.9 (12 Reviews)         NaN   \n",
       "3                      SPEC INDIA          NaN   4.9 (5 Reviews)         NaN   \n",
       "4                       OpenXcell          NaN  4.8 (26 Reviews)         NaN   \n",
       "..                            ...          ...               ...         ...   \n",
       "154  The Bureau Of Small Projects          NaN  4.9 (15 Reviews)         NaN   \n",
       "155   Zignuts Technolab Pvt. Ltd.          NaN  5.0 (11 Reviews)         NaN   \n",
       "156                        Ficode          NaN  4.6 (18 Reviews)         NaN   \n",
       "157       Clavax Technologies LLC          NaN  5.0 (11 Reviews)         NaN   \n",
       "158          Prometteur Solutions          NaN  4.4 (15 Reviews)         NaN   \n",
       "\n",
       "     firm_employee year_founded  firm_location  \n",
       "0    1,000 - 9,999         1991            NaN  \n",
       "1         50 - 249         2008            NaN  \n",
       "2        250 - 999         1999            NaN  \n",
       "3        250 - 999         2017            NaN  \n",
       "4        250 - 999         1987            NaN  \n",
       "..             ...          ...            ...  \n",
       "154       50 - 249         2005            NaN  \n",
       "155        10 - 49         2010            NaN  \n",
       "156       50 - 249         2017            NaN  \n",
       "157        10 - 49         2013            NaN  \n",
       "158       50 - 249         2011            NaN  \n",
       "\n",
       "[159 rows x 7 columns]"
      ]
     },
     "execution_count": 43,
     "metadata": {},
     "output_type": "execute_result"
    }
   ],
   "source": [
    "all_df = pd.concat([df1, df2, df3], ignore_index = True)\n",
    "all_df"
   ]
  },
  {
   "cell_type": "code",
   "execution_count": 44,
   "id": "b1467715",
   "metadata": {},
   "outputs": [],
   "source": [
    "all_df.to_csv('extracted.csv')"
   ]
  },
  {
   "cell_type": "code",
   "execution_count": 46,
   "id": "893fec3b",
   "metadata": {},
   "outputs": [
    {
     "data": {
      "text/html": [
       "<div>\n",
       "<style scoped>\n",
       "    .dataframe tbody tr th:only-of-type {\n",
       "        vertical-align: middle;\n",
       "    }\n",
       "\n",
       "    .dataframe tbody tr th {\n",
       "        vertical-align: top;\n",
       "    }\n",
       "\n",
       "    .dataframe thead th {\n",
       "        text-align: right;\n",
       "    }\n",
       "</style>\n",
       "<table border=\"1\" class=\"dataframe\">\n",
       "  <thead>\n",
       "    <tr style=\"text-align: right;\">\n",
       "      <th></th>\n",
       "      <th>firm_names</th>\n",
       "      <th>firm_motors</th>\n",
       "      <th>firm_reviews</th>\n",
       "      <th>firm_price</th>\n",
       "      <th>firm_employee</th>\n",
       "      <th>year_founded</th>\n",
       "      <th>firm_location</th>\n",
       "    </tr>\n",
       "  </thead>\n",
       "  <tbody>\n",
       "    <tr>\n",
       "      <th>0</th>\n",
       "      <td>Cubix</td>\n",
       "      <td>NaN</td>\n",
       "      <td>5.0 (3 Reviews)</td>\n",
       "      <td>NaN</td>\n",
       "      <td>1,000 - 9,999</td>\n",
       "      <td>1991</td>\n",
       "      <td>NaN</td>\n",
       "    </tr>\n",
       "    <tr>\n",
       "      <th>1</th>\n",
       "      <td>Iflexion</td>\n",
       "      <td>NaN</td>\n",
       "      <td>5.0 (31 Reviews)</td>\n",
       "      <td>NaN</td>\n",
       "      <td>50 - 249</td>\n",
       "      <td>2008</td>\n",
       "      <td>NaN</td>\n",
       "    </tr>\n",
       "    <tr>\n",
       "      <th>2</th>\n",
       "      <td>Binmile Technologies</td>\n",
       "      <td>NaN</td>\n",
       "      <td>4.9 (12 Reviews)</td>\n",
       "      <td>NaN</td>\n",
       "      <td>250 - 999</td>\n",
       "      <td>1999</td>\n",
       "      <td>NaN</td>\n",
       "    </tr>\n",
       "    <tr>\n",
       "      <th>3</th>\n",
       "      <td>SPEC INDIA</td>\n",
       "      <td>NaN</td>\n",
       "      <td>4.9 (5 Reviews)</td>\n",
       "      <td>NaN</td>\n",
       "      <td>250 - 999</td>\n",
       "      <td>2017</td>\n",
       "      <td>NaN</td>\n",
       "    </tr>\n",
       "    <tr>\n",
       "      <th>4</th>\n",
       "      <td>OpenXcell</td>\n",
       "      <td>NaN</td>\n",
       "      <td>4.8 (26 Reviews)</td>\n",
       "      <td>NaN</td>\n",
       "      <td>250 - 999</td>\n",
       "      <td>1987</td>\n",
       "      <td>NaN</td>\n",
       "    </tr>\n",
       "  </tbody>\n",
       "</table>\n",
       "</div>"
      ],
      "text/plain": [
       "             firm_names  firm_motors      firm_reviews  firm_price  \\\n",
       "0                 Cubix          NaN   5.0 (3 Reviews)         NaN   \n",
       "1              Iflexion          NaN  5.0 (31 Reviews)         NaN   \n",
       "2  Binmile Technologies          NaN  4.9 (12 Reviews)         NaN   \n",
       "3            SPEC INDIA          NaN   4.9 (5 Reviews)         NaN   \n",
       "4             OpenXcell          NaN  4.8 (26 Reviews)         NaN   \n",
       "\n",
       "   firm_employee year_founded  firm_location  \n",
       "0  1,000 - 9,999         1991            NaN  \n",
       "1       50 - 249         2008            NaN  \n",
       "2      250 - 999         1999            NaN  \n",
       "3      250 - 999         2017            NaN  \n",
       "4      250 - 999         1987            NaN  "
      ]
     },
     "execution_count": 46,
     "metadata": {},
     "output_type": "execute_result"
    }
   ],
   "source": [
    "dff = all_df.copy()\n",
    "dff.head()"
   ]
  },
  {
   "cell_type": "code",
   "execution_count": 50,
   "id": "66d8f843",
   "metadata": {},
   "outputs": [],
   "source": [
    "#  Adding star rating column from firm_reviews column(spliting the column)\n",
    "dff.insert(2, 'star_rating', dff['firm_reviews'].apply(lambda x: x.split()[0]))\n",
    "\n",
    "# Adding review column\n",
    "dff.insert(3, 'review', dff['firm_reviews'].apply(lambda x: x.split()[1].strip('(')))\n",
    "\n",
    "#drop firm_review column\n",
    "dff.drop(columns = 'firm_reviews', inplace = True)\n"
   ]
  },
  {
   "cell_type": "code",
   "execution_count": 51,
   "id": "3ed10cf3",
   "metadata": {},
   "outputs": [
    {
     "data": {
      "text/html": [
       "<div>\n",
       "<style scoped>\n",
       "    .dataframe tbody tr th:only-of-type {\n",
       "        vertical-align: middle;\n",
       "    }\n",
       "\n",
       "    .dataframe tbody tr th {\n",
       "        vertical-align: top;\n",
       "    }\n",
       "\n",
       "    .dataframe thead th {\n",
       "        text-align: right;\n",
       "    }\n",
       "</style>\n",
       "<table border=\"1\" class=\"dataframe\">\n",
       "  <thead>\n",
       "    <tr style=\"text-align: right;\">\n",
       "      <th></th>\n",
       "      <th>firm_names</th>\n",
       "      <th>firm_motors</th>\n",
       "      <th>star_rating</th>\n",
       "      <th>review</th>\n",
       "      <th>firm_price</th>\n",
       "      <th>firm_employee</th>\n",
       "      <th>year_founded</th>\n",
       "      <th>firm_location</th>\n",
       "    </tr>\n",
       "  </thead>\n",
       "  <tbody>\n",
       "    <tr>\n",
       "      <th>0</th>\n",
       "      <td>Cubix</td>\n",
       "      <td>NaN</td>\n",
       "      <td>5.0</td>\n",
       "      <td>3</td>\n",
       "      <td>NaN</td>\n",
       "      <td>1,000 - 9,999</td>\n",
       "      <td>1991</td>\n",
       "      <td>NaN</td>\n",
       "    </tr>\n",
       "    <tr>\n",
       "      <th>1</th>\n",
       "      <td>Iflexion</td>\n",
       "      <td>NaN</td>\n",
       "      <td>5.0</td>\n",
       "      <td>31</td>\n",
       "      <td>NaN</td>\n",
       "      <td>50 - 249</td>\n",
       "      <td>2008</td>\n",
       "      <td>NaN</td>\n",
       "    </tr>\n",
       "    <tr>\n",
       "      <th>2</th>\n",
       "      <td>Binmile Technologies</td>\n",
       "      <td>NaN</td>\n",
       "      <td>4.9</td>\n",
       "      <td>12</td>\n",
       "      <td>NaN</td>\n",
       "      <td>250 - 999</td>\n",
       "      <td>1999</td>\n",
       "      <td>NaN</td>\n",
       "    </tr>\n",
       "    <tr>\n",
       "      <th>3</th>\n",
       "      <td>SPEC INDIA</td>\n",
       "      <td>NaN</td>\n",
       "      <td>4.9</td>\n",
       "      <td>5</td>\n",
       "      <td>NaN</td>\n",
       "      <td>250 - 999</td>\n",
       "      <td>2017</td>\n",
       "      <td>NaN</td>\n",
       "    </tr>\n",
       "    <tr>\n",
       "      <th>4</th>\n",
       "      <td>OpenXcell</td>\n",
       "      <td>NaN</td>\n",
       "      <td>4.8</td>\n",
       "      <td>26</td>\n",
       "      <td>NaN</td>\n",
       "      <td>250 - 999</td>\n",
       "      <td>1987</td>\n",
       "      <td>NaN</td>\n",
       "    </tr>\n",
       "  </tbody>\n",
       "</table>\n",
       "</div>"
      ],
      "text/plain": [
       "             firm_names  firm_motors star_rating review  firm_price  \\\n",
       "0                 Cubix          NaN         5.0      3         NaN   \n",
       "1              Iflexion          NaN         5.0     31         NaN   \n",
       "2  Binmile Technologies          NaN         4.9     12         NaN   \n",
       "3            SPEC INDIA          NaN         4.9      5         NaN   \n",
       "4             OpenXcell          NaN         4.8     26         NaN   \n",
       "\n",
       "   firm_employee year_founded  firm_location  \n",
       "0  1,000 - 9,999         1991            NaN  \n",
       "1       50 - 249         2008            NaN  \n",
       "2      250 - 999         1999            NaN  \n",
       "3      250 - 999         2017            NaN  \n",
       "4      250 - 999         1987            NaN  "
      ]
     },
     "execution_count": 51,
     "metadata": {},
     "output_type": "execute_result"
    }
   ],
   "source": [
    "dff.head()"
   ]
  },
  {
   "cell_type": "code",
   "execution_count": 52,
   "id": "a146ed8e",
   "metadata": {},
   "outputs": [],
   "source": [
    "dff.to_csv('cleaned_extracted.csv')"
   ]
  },
  {
   "cell_type": "code",
   "execution_count": 54,
   "id": "c0481f18",
   "metadata": {},
   "outputs": [
    {
     "name": "stdout",
     "output_type": "stream",
     "text": [
      "<class 'pandas.core.frame.DataFrame'>\n",
      "RangeIndex: 159 entries, 0 to 158\n",
      "Data columns (total 8 columns):\n",
      " #   Column         Non-Null Count  Dtype  \n",
      "---  ------         --------------  -----  \n",
      " 0   firm_names     159 non-null    object \n",
      " 1   firm_motors    0 non-null      float64\n",
      " 2   star_rating    159 non-null    object \n",
      " 3   review         159 non-null    object \n",
      " 4   firm_price     0 non-null      float64\n",
      " 5   firm_employee  159 non-null    object \n",
      " 6   year_founded   159 non-null    object \n",
      " 7   firm_location  0 non-null      float64\n",
      "dtypes: float64(3), object(5)\n",
      "memory usage: 10.1+ KB\n"
     ]
    }
   ],
   "source": [
    "dff.info()"
   ]
  },
  {
   "cell_type": "code",
   "execution_count": 55,
   "id": "dbeae7ee",
   "metadata": {},
   "outputs": [],
   "source": [
    "# Changing data types\n",
    "dff['star_rating']= dff['star_rating'].astype('float')\n",
    "dff['review']= dff['review'].astype('float')"
   ]
  },
  {
   "cell_type": "code",
   "execution_count": 58,
   "id": "6be38439",
   "metadata": {},
   "outputs": [],
   "source": [
    "top_5 = dff.sort_values(by = ['star_rating', 'review'], ascending = False)[:5]"
   ]
  },
  {
   "cell_type": "code",
   "execution_count": 59,
   "id": "b8def76a",
   "metadata": {},
   "outputs": [
    {
     "data": {
      "text/html": [
       "<div>\n",
       "<style scoped>\n",
       "    .dataframe tbody tr th:only-of-type {\n",
       "        vertical-align: middle;\n",
       "    }\n",
       "\n",
       "    .dataframe tbody tr th {\n",
       "        vertical-align: top;\n",
       "    }\n",
       "\n",
       "    .dataframe thead th {\n",
       "        text-align: right;\n",
       "    }\n",
       "</style>\n",
       "<table border=\"1\" class=\"dataframe\">\n",
       "  <thead>\n",
       "    <tr style=\"text-align: right;\">\n",
       "      <th></th>\n",
       "      <th>firm_names</th>\n",
       "      <th>firm_motors</th>\n",
       "      <th>star_rating</th>\n",
       "      <th>review</th>\n",
       "      <th>firm_price</th>\n",
       "      <th>firm_employee</th>\n",
       "      <th>year_founded</th>\n",
       "      <th>firm_location</th>\n",
       "    </tr>\n",
       "  </thead>\n",
       "  <tbody>\n",
       "    <tr>\n",
       "      <th>21</th>\n",
       "      <td>Next Big Technology(NBT)</td>\n",
       "      <td>NaN</td>\n",
       "      <td>5.0</td>\n",
       "      <td>200.0</td>\n",
       "      <td>NaN</td>\n",
       "      <td>50 - 249</td>\n",
       "      <td>2002</td>\n",
       "      <td>NaN</td>\n",
       "    </tr>\n",
       "    <tr>\n",
       "      <th>23</th>\n",
       "      <td>Dynamic Dreamz</td>\n",
       "      <td>NaN</td>\n",
       "      <td>5.0</td>\n",
       "      <td>113.0</td>\n",
       "      <td>NaN</td>\n",
       "      <td>2 - 9</td>\n",
       "      <td>2005</td>\n",
       "      <td>NaN</td>\n",
       "    </tr>\n",
       "    <tr>\n",
       "      <th>22</th>\n",
       "      <td>RBSEO</td>\n",
       "      <td>NaN</td>\n",
       "      <td>5.0</td>\n",
       "      <td>99.0</td>\n",
       "      <td>NaN</td>\n",
       "      <td>50 - 249</td>\n",
       "      <td>2009</td>\n",
       "      <td>NaN</td>\n",
       "    </tr>\n",
       "    <tr>\n",
       "      <th>5</th>\n",
       "      <td>AllianceTek</td>\n",
       "      <td>NaN</td>\n",
       "      <td>5.0</td>\n",
       "      <td>77.0</td>\n",
       "      <td>NaN</td>\n",
       "      <td>250 - 999</td>\n",
       "      <td>2009</td>\n",
       "      <td>NaN</td>\n",
       "    </tr>\n",
       "    <tr>\n",
       "      <th>24</th>\n",
       "      <td>BrancoSoft Private Limited</td>\n",
       "      <td>NaN</td>\n",
       "      <td>5.0</td>\n",
       "      <td>66.0</td>\n",
       "      <td>NaN</td>\n",
       "      <td>50 - 249</td>\n",
       "      <td>2004</td>\n",
       "      <td>NaN</td>\n",
       "    </tr>\n",
       "  </tbody>\n",
       "</table>\n",
       "</div>"
      ],
      "text/plain": [
       "                    firm_names  firm_motors  star_rating  review  firm_price  \\\n",
       "21    Next Big Technology(NBT)          NaN          5.0   200.0         NaN   \n",
       "23              Dynamic Dreamz          NaN          5.0   113.0         NaN   \n",
       "22                       RBSEO          NaN          5.0    99.0         NaN   \n",
       "5                  AllianceTek          NaN          5.0    77.0         NaN   \n",
       "24  BrancoSoft Private Limited          NaN          5.0    66.0         NaN   \n",
       "\n",
       "   firm_employee year_founded  firm_location  \n",
       "21      50 - 249         2002            NaN  \n",
       "23         2 - 9         2005            NaN  \n",
       "22      50 - 249         2009            NaN  \n",
       "5      250 - 999         2009            NaN  \n",
       "24      50 - 249         2004            NaN  "
      ]
     },
     "execution_count": 59,
     "metadata": {},
     "output_type": "execute_result"
    }
   ],
   "source": [
    "top_5.head()"
   ]
  },
  {
   "cell_type": "code",
   "execution_count": 60,
   "id": "07400e54",
   "metadata": {},
   "outputs": [
    {
     "data": {
      "application/vnd.plotly.v1+json": {
       "config": {
        "plotlyServerURL": "https://plot.ly"
       },
       "data": [
        {
         "alignmentgroup": "True",
         "bingroup": "x",
         "hovertemplate": "star_rating=%{x}<br>count=%{y}<extra></extra>",
         "legendgroup": "",
         "marker": {
          "color": "#636efa",
          "pattern": {
           "shape": ""
          }
         },
         "name": "",
         "offsetgroup": "",
         "orientation": "v",
         "showlegend": false,
         "type": "histogram",
         "x": [
          5,
          5,
          4.9,
          4.9,
          4.8,
          5,
          5,
          5,
          4.8,
          5,
          5,
          4.8,
          5,
          5,
          5,
          5,
          5,
          4.9,
          4.9,
          0,
          0,
          5,
          5,
          5,
          5,
          5,
          5,
          5,
          4.9,
          5,
          4.9,
          4.7,
          5,
          4.9,
          4.9,
          5,
          4.9,
          5,
          5,
          5,
          5,
          5,
          5,
          4.6,
          4.9,
          4.9,
          4.9,
          5,
          5,
          4.9,
          5,
          5,
          4.9,
          4.8,
          5,
          4.9,
          5,
          5,
          5,
          4.8,
          4.9,
          4.9,
          4.8,
          4.9,
          4.8,
          4.9,
          5,
          4.8,
          5,
          5,
          5,
          5,
          5,
          5,
          4.8,
          5,
          4.9,
          5,
          5,
          5,
          5,
          4.9,
          5,
          4.8,
          5,
          5,
          4.8,
          5,
          4.9,
          4.9,
          5,
          4.9,
          5,
          5,
          5,
          5,
          4.8,
          5,
          5,
          5,
          5,
          5,
          4.7,
          5,
          5,
          5,
          4.8,
          5,
          5,
          5,
          4.8,
          5,
          5,
          5,
          5,
          5,
          4.7,
          4.9,
          5,
          4.8,
          5,
          4.8,
          4.9,
          4.9,
          5,
          5,
          4.8,
          5,
          5,
          5,
          5,
          5,
          5,
          4.9,
          5,
          5,
          4.4,
          5,
          5,
          5,
          5,
          4.9,
          4.9,
          5,
          5,
          4.6,
          4.8,
          5,
          4.6,
          5,
          5,
          4.9,
          4.9,
          4.9,
          4.9,
          5,
          4.6,
          5,
          4.4
         ],
         "xaxis": "x",
         "yaxis": "y"
        }
       ],
       "layout": {
        "barmode": "relative",
        "legend": {
         "tracegroupgap": 0
        },
        "template": {
         "data": {
          "bar": [
           {
            "error_x": {
             "color": "#2a3f5f"
            },
            "error_y": {
             "color": "#2a3f5f"
            },
            "marker": {
             "line": {
              "color": "#E5ECF6",
              "width": 0.5
             },
             "pattern": {
              "fillmode": "overlay",
              "size": 10,
              "solidity": 0.2
             }
            },
            "type": "bar"
           }
          ],
          "barpolar": [
           {
            "marker": {
             "line": {
              "color": "#E5ECF6",
              "width": 0.5
             },
             "pattern": {
              "fillmode": "overlay",
              "size": 10,
              "solidity": 0.2
             }
            },
            "type": "barpolar"
           }
          ],
          "carpet": [
           {
            "aaxis": {
             "endlinecolor": "#2a3f5f",
             "gridcolor": "white",
             "linecolor": "white",
             "minorgridcolor": "white",
             "startlinecolor": "#2a3f5f"
            },
            "baxis": {
             "endlinecolor": "#2a3f5f",
             "gridcolor": "white",
             "linecolor": "white",
             "minorgridcolor": "white",
             "startlinecolor": "#2a3f5f"
            },
            "type": "carpet"
           }
          ],
          "choropleth": [
           {
            "colorbar": {
             "outlinewidth": 0,
             "ticks": ""
            },
            "type": "choropleth"
           }
          ],
          "contour": [
           {
            "colorbar": {
             "outlinewidth": 0,
             "ticks": ""
            },
            "colorscale": [
             [
              0,
              "#0d0887"
             ],
             [
              0.1111111111111111,
              "#46039f"
             ],
             [
              0.2222222222222222,
              "#7201a8"
             ],
             [
              0.3333333333333333,
              "#9c179e"
             ],
             [
              0.4444444444444444,
              "#bd3786"
             ],
             [
              0.5555555555555556,
              "#d8576b"
             ],
             [
              0.6666666666666666,
              "#ed7953"
             ],
             [
              0.7777777777777778,
              "#fb9f3a"
             ],
             [
              0.8888888888888888,
              "#fdca26"
             ],
             [
              1,
              "#f0f921"
             ]
            ],
            "type": "contour"
           }
          ],
          "contourcarpet": [
           {
            "colorbar": {
             "outlinewidth": 0,
             "ticks": ""
            },
            "type": "contourcarpet"
           }
          ],
          "heatmap": [
           {
            "colorbar": {
             "outlinewidth": 0,
             "ticks": ""
            },
            "colorscale": [
             [
              0,
              "#0d0887"
             ],
             [
              0.1111111111111111,
              "#46039f"
             ],
             [
              0.2222222222222222,
              "#7201a8"
             ],
             [
              0.3333333333333333,
              "#9c179e"
             ],
             [
              0.4444444444444444,
              "#bd3786"
             ],
             [
              0.5555555555555556,
              "#d8576b"
             ],
             [
              0.6666666666666666,
              "#ed7953"
             ],
             [
              0.7777777777777778,
              "#fb9f3a"
             ],
             [
              0.8888888888888888,
              "#fdca26"
             ],
             [
              1,
              "#f0f921"
             ]
            ],
            "type": "heatmap"
           }
          ],
          "heatmapgl": [
           {
            "colorbar": {
             "outlinewidth": 0,
             "ticks": ""
            },
            "colorscale": [
             [
              0,
              "#0d0887"
             ],
             [
              0.1111111111111111,
              "#46039f"
             ],
             [
              0.2222222222222222,
              "#7201a8"
             ],
             [
              0.3333333333333333,
              "#9c179e"
             ],
             [
              0.4444444444444444,
              "#bd3786"
             ],
             [
              0.5555555555555556,
              "#d8576b"
             ],
             [
              0.6666666666666666,
              "#ed7953"
             ],
             [
              0.7777777777777778,
              "#fb9f3a"
             ],
             [
              0.8888888888888888,
              "#fdca26"
             ],
             [
              1,
              "#f0f921"
             ]
            ],
            "type": "heatmapgl"
           }
          ],
          "histogram": [
           {
            "marker": {
             "pattern": {
              "fillmode": "overlay",
              "size": 10,
              "solidity": 0.2
             }
            },
            "type": "histogram"
           }
          ],
          "histogram2d": [
           {
            "colorbar": {
             "outlinewidth": 0,
             "ticks": ""
            },
            "colorscale": [
             [
              0,
              "#0d0887"
             ],
             [
              0.1111111111111111,
              "#46039f"
             ],
             [
              0.2222222222222222,
              "#7201a8"
             ],
             [
              0.3333333333333333,
              "#9c179e"
             ],
             [
              0.4444444444444444,
              "#bd3786"
             ],
             [
              0.5555555555555556,
              "#d8576b"
             ],
             [
              0.6666666666666666,
              "#ed7953"
             ],
             [
              0.7777777777777778,
              "#fb9f3a"
             ],
             [
              0.8888888888888888,
              "#fdca26"
             ],
             [
              1,
              "#f0f921"
             ]
            ],
            "type": "histogram2d"
           }
          ],
          "histogram2dcontour": [
           {
            "colorbar": {
             "outlinewidth": 0,
             "ticks": ""
            },
            "colorscale": [
             [
              0,
              "#0d0887"
             ],
             [
              0.1111111111111111,
              "#46039f"
             ],
             [
              0.2222222222222222,
              "#7201a8"
             ],
             [
              0.3333333333333333,
              "#9c179e"
             ],
             [
              0.4444444444444444,
              "#bd3786"
             ],
             [
              0.5555555555555556,
              "#d8576b"
             ],
             [
              0.6666666666666666,
              "#ed7953"
             ],
             [
              0.7777777777777778,
              "#fb9f3a"
             ],
             [
              0.8888888888888888,
              "#fdca26"
             ],
             [
              1,
              "#f0f921"
             ]
            ],
            "type": "histogram2dcontour"
           }
          ],
          "mesh3d": [
           {
            "colorbar": {
             "outlinewidth": 0,
             "ticks": ""
            },
            "type": "mesh3d"
           }
          ],
          "parcoords": [
           {
            "line": {
             "colorbar": {
              "outlinewidth": 0,
              "ticks": ""
             }
            },
            "type": "parcoords"
           }
          ],
          "pie": [
           {
            "automargin": true,
            "type": "pie"
           }
          ],
          "scatter": [
           {
            "marker": {
             "colorbar": {
              "outlinewidth": 0,
              "ticks": ""
             }
            },
            "type": "scatter"
           }
          ],
          "scatter3d": [
           {
            "line": {
             "colorbar": {
              "outlinewidth": 0,
              "ticks": ""
             }
            },
            "marker": {
             "colorbar": {
              "outlinewidth": 0,
              "ticks": ""
             }
            },
            "type": "scatter3d"
           }
          ],
          "scattercarpet": [
           {
            "marker": {
             "colorbar": {
              "outlinewidth": 0,
              "ticks": ""
             }
            },
            "type": "scattercarpet"
           }
          ],
          "scattergeo": [
           {
            "marker": {
             "colorbar": {
              "outlinewidth": 0,
              "ticks": ""
             }
            },
            "type": "scattergeo"
           }
          ],
          "scattergl": [
           {
            "marker": {
             "colorbar": {
              "outlinewidth": 0,
              "ticks": ""
             }
            },
            "type": "scattergl"
           }
          ],
          "scattermapbox": [
           {
            "marker": {
             "colorbar": {
              "outlinewidth": 0,
              "ticks": ""
             }
            },
            "type": "scattermapbox"
           }
          ],
          "scatterpolar": [
           {
            "marker": {
             "colorbar": {
              "outlinewidth": 0,
              "ticks": ""
             }
            },
            "type": "scatterpolar"
           }
          ],
          "scatterpolargl": [
           {
            "marker": {
             "colorbar": {
              "outlinewidth": 0,
              "ticks": ""
             }
            },
            "type": "scatterpolargl"
           }
          ],
          "scatterternary": [
           {
            "marker": {
             "colorbar": {
              "outlinewidth": 0,
              "ticks": ""
             }
            },
            "type": "scatterternary"
           }
          ],
          "surface": [
           {
            "colorbar": {
             "outlinewidth": 0,
             "ticks": ""
            },
            "colorscale": [
             [
              0,
              "#0d0887"
             ],
             [
              0.1111111111111111,
              "#46039f"
             ],
             [
              0.2222222222222222,
              "#7201a8"
             ],
             [
              0.3333333333333333,
              "#9c179e"
             ],
             [
              0.4444444444444444,
              "#bd3786"
             ],
             [
              0.5555555555555556,
              "#d8576b"
             ],
             [
              0.6666666666666666,
              "#ed7953"
             ],
             [
              0.7777777777777778,
              "#fb9f3a"
             ],
             [
              0.8888888888888888,
              "#fdca26"
             ],
             [
              1,
              "#f0f921"
             ]
            ],
            "type": "surface"
           }
          ],
          "table": [
           {
            "cells": {
             "fill": {
              "color": "#EBF0F8"
             },
             "line": {
              "color": "white"
             }
            },
            "header": {
             "fill": {
              "color": "#C8D4E3"
             },
             "line": {
              "color": "white"
             }
            },
            "type": "table"
           }
          ]
         },
         "layout": {
          "annotationdefaults": {
           "arrowcolor": "#2a3f5f",
           "arrowhead": 0,
           "arrowwidth": 1
          },
          "autotypenumbers": "strict",
          "coloraxis": {
           "colorbar": {
            "outlinewidth": 0,
            "ticks": ""
           }
          },
          "colorscale": {
           "diverging": [
            [
             0,
             "#8e0152"
            ],
            [
             0.1,
             "#c51b7d"
            ],
            [
             0.2,
             "#de77ae"
            ],
            [
             0.3,
             "#f1b6da"
            ],
            [
             0.4,
             "#fde0ef"
            ],
            [
             0.5,
             "#f7f7f7"
            ],
            [
             0.6,
             "#e6f5d0"
            ],
            [
             0.7,
             "#b8e186"
            ],
            [
             0.8,
             "#7fbc41"
            ],
            [
             0.9,
             "#4d9221"
            ],
            [
             1,
             "#276419"
            ]
           ],
           "sequential": [
            [
             0,
             "#0d0887"
            ],
            [
             0.1111111111111111,
             "#46039f"
            ],
            [
             0.2222222222222222,
             "#7201a8"
            ],
            [
             0.3333333333333333,
             "#9c179e"
            ],
            [
             0.4444444444444444,
             "#bd3786"
            ],
            [
             0.5555555555555556,
             "#d8576b"
            ],
            [
             0.6666666666666666,
             "#ed7953"
            ],
            [
             0.7777777777777778,
             "#fb9f3a"
            ],
            [
             0.8888888888888888,
             "#fdca26"
            ],
            [
             1,
             "#f0f921"
            ]
           ],
           "sequentialminus": [
            [
             0,
             "#0d0887"
            ],
            [
             0.1111111111111111,
             "#46039f"
            ],
            [
             0.2222222222222222,
             "#7201a8"
            ],
            [
             0.3333333333333333,
             "#9c179e"
            ],
            [
             0.4444444444444444,
             "#bd3786"
            ],
            [
             0.5555555555555556,
             "#d8576b"
            ],
            [
             0.6666666666666666,
             "#ed7953"
            ],
            [
             0.7777777777777778,
             "#fb9f3a"
            ],
            [
             0.8888888888888888,
             "#fdca26"
            ],
            [
             1,
             "#f0f921"
            ]
           ]
          },
          "colorway": [
           "#636efa",
           "#EF553B",
           "#00cc96",
           "#ab63fa",
           "#FFA15A",
           "#19d3f3",
           "#FF6692",
           "#B6E880",
           "#FF97FF",
           "#FECB52"
          ],
          "font": {
           "color": "#2a3f5f"
          },
          "geo": {
           "bgcolor": "white",
           "lakecolor": "white",
           "landcolor": "#E5ECF6",
           "showlakes": true,
           "showland": true,
           "subunitcolor": "white"
          },
          "hoverlabel": {
           "align": "left"
          },
          "hovermode": "closest",
          "mapbox": {
           "style": "light"
          },
          "paper_bgcolor": "white",
          "plot_bgcolor": "#E5ECF6",
          "polar": {
           "angularaxis": {
            "gridcolor": "white",
            "linecolor": "white",
            "ticks": ""
           },
           "bgcolor": "#E5ECF6",
           "radialaxis": {
            "gridcolor": "white",
            "linecolor": "white",
            "ticks": ""
           }
          },
          "scene": {
           "xaxis": {
            "backgroundcolor": "#E5ECF6",
            "gridcolor": "white",
            "gridwidth": 2,
            "linecolor": "white",
            "showbackground": true,
            "ticks": "",
            "zerolinecolor": "white"
           },
           "yaxis": {
            "backgroundcolor": "#E5ECF6",
            "gridcolor": "white",
            "gridwidth": 2,
            "linecolor": "white",
            "showbackground": true,
            "ticks": "",
            "zerolinecolor": "white"
           },
           "zaxis": {
            "backgroundcolor": "#E5ECF6",
            "gridcolor": "white",
            "gridwidth": 2,
            "linecolor": "white",
            "showbackground": true,
            "ticks": "",
            "zerolinecolor": "white"
           }
          },
          "shapedefaults": {
           "line": {
            "color": "#2a3f5f"
           }
          },
          "ternary": {
           "aaxis": {
            "gridcolor": "white",
            "linecolor": "white",
            "ticks": ""
           },
           "baxis": {
            "gridcolor": "white",
            "linecolor": "white",
            "ticks": ""
           },
           "bgcolor": "#E5ECF6",
           "caxis": {
            "gridcolor": "white",
            "linecolor": "white",
            "ticks": ""
           }
          },
          "title": {
           "x": 0.05
          },
          "xaxis": {
           "automargin": true,
           "gridcolor": "white",
           "linecolor": "white",
           "ticks": "",
           "title": {
            "standoff": 15
           },
           "zerolinecolor": "white",
           "zerolinewidth": 2
          },
          "yaxis": {
           "automargin": true,
           "gridcolor": "white",
           "linecolor": "white",
           "ticks": "",
           "title": {
            "standoff": 15
           },
           "zerolinecolor": "white",
           "zerolinewidth": 2
          }
         }
        },
        "title": {
         "text": "star rating distribution"
        },
        "width": 500,
        "xaxis": {
         "anchor": "y",
         "domain": [
          0,
          1
         ],
         "title": {
          "text": "star_rating"
         }
        },
        "yaxis": {
         "anchor": "x",
         "domain": [
          0,
          1
         ],
         "title": {
          "text": "count"
         }
        }
       }
      },
      "text/html": [
       "<div>                            <div id=\"d94922b7-1eb8-4a00-8ee6-0645edac831d\" class=\"plotly-graph-div\" style=\"height:525px; width:500px;\"></div>            <script type=\"text/javascript\">                require([\"plotly\"], function(Plotly) {                    window.PLOTLYENV=window.PLOTLYENV || {};                                    if (document.getElementById(\"d94922b7-1eb8-4a00-8ee6-0645edac831d\")) {                    Plotly.newPlot(                        \"d94922b7-1eb8-4a00-8ee6-0645edac831d\",                        [{\"alignmentgroup\":\"True\",\"bingroup\":\"x\",\"hovertemplate\":\"star_rating=%{x}<br>count=%{y}<extra></extra>\",\"legendgroup\":\"\",\"marker\":{\"color\":\"#636efa\",\"pattern\":{\"shape\":\"\"}},\"name\":\"\",\"offsetgroup\":\"\",\"orientation\":\"v\",\"showlegend\":false,\"x\":[5.0,5.0,4.9,4.9,4.8,5.0,5.0,5.0,4.8,5.0,5.0,4.8,5.0,5.0,5.0,5.0,5.0,4.9,4.9,0.0,0.0,5.0,5.0,5.0,5.0,5.0,5.0,5.0,4.9,5.0,4.9,4.7,5.0,4.9,4.9,5.0,4.9,5.0,5.0,5.0,5.0,5.0,5.0,4.6,4.9,4.9,4.9,5.0,5.0,4.9,5.0,5.0,4.9,4.8,5.0,4.9,5.0,5.0,5.0,4.8,4.9,4.9,4.8,4.9,4.8,4.9,5.0,4.8,5.0,5.0,5.0,5.0,5.0,5.0,4.8,5.0,4.9,5.0,5.0,5.0,5.0,4.9,5.0,4.8,5.0,5.0,4.8,5.0,4.9,4.9,5.0,4.9,5.0,5.0,5.0,5.0,4.8,5.0,5.0,5.0,5.0,5.0,4.7,5.0,5.0,5.0,4.8,5.0,5.0,5.0,4.8,5.0,5.0,5.0,5.0,5.0,4.7,4.9,5.0,4.8,5.0,4.8,4.9,4.9,5.0,5.0,4.8,5.0,5.0,5.0,5.0,5.0,5.0,4.9,5.0,5.0,4.4,5.0,5.0,5.0,5.0,4.9,4.9,5.0,5.0,4.6,4.8,5.0,4.6,5.0,5.0,4.9,4.9,4.9,4.9,5.0,4.6,5.0,4.4],\"xaxis\":\"x\",\"yaxis\":\"y\",\"type\":\"histogram\"}],                        {\"template\":{\"data\":{\"bar\":[{\"error_x\":{\"color\":\"#2a3f5f\"},\"error_y\":{\"color\":\"#2a3f5f\"},\"marker\":{\"line\":{\"color\":\"#E5ECF6\",\"width\":0.5},\"pattern\":{\"fillmode\":\"overlay\",\"size\":10,\"solidity\":0.2}},\"type\":\"bar\"}],\"barpolar\":[{\"marker\":{\"line\":{\"color\":\"#E5ECF6\",\"width\":0.5},\"pattern\":{\"fillmode\":\"overlay\",\"size\":10,\"solidity\":0.2}},\"type\":\"barpolar\"}],\"carpet\":[{\"aaxis\":{\"endlinecolor\":\"#2a3f5f\",\"gridcolor\":\"white\",\"linecolor\":\"white\",\"minorgridcolor\":\"white\",\"startlinecolor\":\"#2a3f5f\"},\"baxis\":{\"endlinecolor\":\"#2a3f5f\",\"gridcolor\":\"white\",\"linecolor\":\"white\",\"minorgridcolor\":\"white\",\"startlinecolor\":\"#2a3f5f\"},\"type\":\"carpet\"}],\"choropleth\":[{\"colorbar\":{\"outlinewidth\":0,\"ticks\":\"\"},\"type\":\"choropleth\"}],\"contour\":[{\"colorbar\":{\"outlinewidth\":0,\"ticks\":\"\"},\"colorscale\":[[0.0,\"#0d0887\"],[0.1111111111111111,\"#46039f\"],[0.2222222222222222,\"#7201a8\"],[0.3333333333333333,\"#9c179e\"],[0.4444444444444444,\"#bd3786\"],[0.5555555555555556,\"#d8576b\"],[0.6666666666666666,\"#ed7953\"],[0.7777777777777778,\"#fb9f3a\"],[0.8888888888888888,\"#fdca26\"],[1.0,\"#f0f921\"]],\"type\":\"contour\"}],\"contourcarpet\":[{\"colorbar\":{\"outlinewidth\":0,\"ticks\":\"\"},\"type\":\"contourcarpet\"}],\"heatmap\":[{\"colorbar\":{\"outlinewidth\":0,\"ticks\":\"\"},\"colorscale\":[[0.0,\"#0d0887\"],[0.1111111111111111,\"#46039f\"],[0.2222222222222222,\"#7201a8\"],[0.3333333333333333,\"#9c179e\"],[0.4444444444444444,\"#bd3786\"],[0.5555555555555556,\"#d8576b\"],[0.6666666666666666,\"#ed7953\"],[0.7777777777777778,\"#fb9f3a\"],[0.8888888888888888,\"#fdca26\"],[1.0,\"#f0f921\"]],\"type\":\"heatmap\"}],\"heatmapgl\":[{\"colorbar\":{\"outlinewidth\":0,\"ticks\":\"\"},\"colorscale\":[[0.0,\"#0d0887\"],[0.1111111111111111,\"#46039f\"],[0.2222222222222222,\"#7201a8\"],[0.3333333333333333,\"#9c179e\"],[0.4444444444444444,\"#bd3786\"],[0.5555555555555556,\"#d8576b\"],[0.6666666666666666,\"#ed7953\"],[0.7777777777777778,\"#fb9f3a\"],[0.8888888888888888,\"#fdca26\"],[1.0,\"#f0f921\"]],\"type\":\"heatmapgl\"}],\"histogram\":[{\"marker\":{\"pattern\":{\"fillmode\":\"overlay\",\"size\":10,\"solidity\":0.2}},\"type\":\"histogram\"}],\"histogram2d\":[{\"colorbar\":{\"outlinewidth\":0,\"ticks\":\"\"},\"colorscale\":[[0.0,\"#0d0887\"],[0.1111111111111111,\"#46039f\"],[0.2222222222222222,\"#7201a8\"],[0.3333333333333333,\"#9c179e\"],[0.4444444444444444,\"#bd3786\"],[0.5555555555555556,\"#d8576b\"],[0.6666666666666666,\"#ed7953\"],[0.7777777777777778,\"#fb9f3a\"],[0.8888888888888888,\"#fdca26\"],[1.0,\"#f0f921\"]],\"type\":\"histogram2d\"}],\"histogram2dcontour\":[{\"colorbar\":{\"outlinewidth\":0,\"ticks\":\"\"},\"colorscale\":[[0.0,\"#0d0887\"],[0.1111111111111111,\"#46039f\"],[0.2222222222222222,\"#7201a8\"],[0.3333333333333333,\"#9c179e\"],[0.4444444444444444,\"#bd3786\"],[0.5555555555555556,\"#d8576b\"],[0.6666666666666666,\"#ed7953\"],[0.7777777777777778,\"#fb9f3a\"],[0.8888888888888888,\"#fdca26\"],[1.0,\"#f0f921\"]],\"type\":\"histogram2dcontour\"}],\"mesh3d\":[{\"colorbar\":{\"outlinewidth\":0,\"ticks\":\"\"},\"type\":\"mesh3d\"}],\"parcoords\":[{\"line\":{\"colorbar\":{\"outlinewidth\":0,\"ticks\":\"\"}},\"type\":\"parcoords\"}],\"pie\":[{\"automargin\":true,\"type\":\"pie\"}],\"scatter\":[{\"marker\":{\"colorbar\":{\"outlinewidth\":0,\"ticks\":\"\"}},\"type\":\"scatter\"}],\"scatter3d\":[{\"line\":{\"colorbar\":{\"outlinewidth\":0,\"ticks\":\"\"}},\"marker\":{\"colorbar\":{\"outlinewidth\":0,\"ticks\":\"\"}},\"type\":\"scatter3d\"}],\"scattercarpet\":[{\"marker\":{\"colorbar\":{\"outlinewidth\":0,\"ticks\":\"\"}},\"type\":\"scattercarpet\"}],\"scattergeo\":[{\"marker\":{\"colorbar\":{\"outlinewidth\":0,\"ticks\":\"\"}},\"type\":\"scattergeo\"}],\"scattergl\":[{\"marker\":{\"colorbar\":{\"outlinewidth\":0,\"ticks\":\"\"}},\"type\":\"scattergl\"}],\"scattermapbox\":[{\"marker\":{\"colorbar\":{\"outlinewidth\":0,\"ticks\":\"\"}},\"type\":\"scattermapbox\"}],\"scatterpolar\":[{\"marker\":{\"colorbar\":{\"outlinewidth\":0,\"ticks\":\"\"}},\"type\":\"scatterpolar\"}],\"scatterpolargl\":[{\"marker\":{\"colorbar\":{\"outlinewidth\":0,\"ticks\":\"\"}},\"type\":\"scatterpolargl\"}],\"scatterternary\":[{\"marker\":{\"colorbar\":{\"outlinewidth\":0,\"ticks\":\"\"}},\"type\":\"scatterternary\"}],\"surface\":[{\"colorbar\":{\"outlinewidth\":0,\"ticks\":\"\"},\"colorscale\":[[0.0,\"#0d0887\"],[0.1111111111111111,\"#46039f\"],[0.2222222222222222,\"#7201a8\"],[0.3333333333333333,\"#9c179e\"],[0.4444444444444444,\"#bd3786\"],[0.5555555555555556,\"#d8576b\"],[0.6666666666666666,\"#ed7953\"],[0.7777777777777778,\"#fb9f3a\"],[0.8888888888888888,\"#fdca26\"],[1.0,\"#f0f921\"]],\"type\":\"surface\"}],\"table\":[{\"cells\":{\"fill\":{\"color\":\"#EBF0F8\"},\"line\":{\"color\":\"white\"}},\"header\":{\"fill\":{\"color\":\"#C8D4E3\"},\"line\":{\"color\":\"white\"}},\"type\":\"table\"}]},\"layout\":{\"annotationdefaults\":{\"arrowcolor\":\"#2a3f5f\",\"arrowhead\":0,\"arrowwidth\":1},\"autotypenumbers\":\"strict\",\"coloraxis\":{\"colorbar\":{\"outlinewidth\":0,\"ticks\":\"\"}},\"colorscale\":{\"diverging\":[[0,\"#8e0152\"],[0.1,\"#c51b7d\"],[0.2,\"#de77ae\"],[0.3,\"#f1b6da\"],[0.4,\"#fde0ef\"],[0.5,\"#f7f7f7\"],[0.6,\"#e6f5d0\"],[0.7,\"#b8e186\"],[0.8,\"#7fbc41\"],[0.9,\"#4d9221\"],[1,\"#276419\"]],\"sequential\":[[0.0,\"#0d0887\"],[0.1111111111111111,\"#46039f\"],[0.2222222222222222,\"#7201a8\"],[0.3333333333333333,\"#9c179e\"],[0.4444444444444444,\"#bd3786\"],[0.5555555555555556,\"#d8576b\"],[0.6666666666666666,\"#ed7953\"],[0.7777777777777778,\"#fb9f3a\"],[0.8888888888888888,\"#fdca26\"],[1.0,\"#f0f921\"]],\"sequentialminus\":[[0.0,\"#0d0887\"],[0.1111111111111111,\"#46039f\"],[0.2222222222222222,\"#7201a8\"],[0.3333333333333333,\"#9c179e\"],[0.4444444444444444,\"#bd3786\"],[0.5555555555555556,\"#d8576b\"],[0.6666666666666666,\"#ed7953\"],[0.7777777777777778,\"#fb9f3a\"],[0.8888888888888888,\"#fdca26\"],[1.0,\"#f0f921\"]]},\"colorway\":[\"#636efa\",\"#EF553B\",\"#00cc96\",\"#ab63fa\",\"#FFA15A\",\"#19d3f3\",\"#FF6692\",\"#B6E880\",\"#FF97FF\",\"#FECB52\"],\"font\":{\"color\":\"#2a3f5f\"},\"geo\":{\"bgcolor\":\"white\",\"lakecolor\":\"white\",\"landcolor\":\"#E5ECF6\",\"showlakes\":true,\"showland\":true,\"subunitcolor\":\"white\"},\"hoverlabel\":{\"align\":\"left\"},\"hovermode\":\"closest\",\"mapbox\":{\"style\":\"light\"},\"paper_bgcolor\":\"white\",\"plot_bgcolor\":\"#E5ECF6\",\"polar\":{\"angularaxis\":{\"gridcolor\":\"white\",\"linecolor\":\"white\",\"ticks\":\"\"},\"bgcolor\":\"#E5ECF6\",\"radialaxis\":{\"gridcolor\":\"white\",\"linecolor\":\"white\",\"ticks\":\"\"}},\"scene\":{\"xaxis\":{\"backgroundcolor\":\"#E5ECF6\",\"gridcolor\":\"white\",\"gridwidth\":2,\"linecolor\":\"white\",\"showbackground\":true,\"ticks\":\"\",\"zerolinecolor\":\"white\"},\"yaxis\":{\"backgroundcolor\":\"#E5ECF6\",\"gridcolor\":\"white\",\"gridwidth\":2,\"linecolor\":\"white\",\"showbackground\":true,\"ticks\":\"\",\"zerolinecolor\":\"white\"},\"zaxis\":{\"backgroundcolor\":\"#E5ECF6\",\"gridcolor\":\"white\",\"gridwidth\":2,\"linecolor\":\"white\",\"showbackground\":true,\"ticks\":\"\",\"zerolinecolor\":\"white\"}},\"shapedefaults\":{\"line\":{\"color\":\"#2a3f5f\"}},\"ternary\":{\"aaxis\":{\"gridcolor\":\"white\",\"linecolor\":\"white\",\"ticks\":\"\"},\"baxis\":{\"gridcolor\":\"white\",\"linecolor\":\"white\",\"ticks\":\"\"},\"bgcolor\":\"#E5ECF6\",\"caxis\":{\"gridcolor\":\"white\",\"linecolor\":\"white\",\"ticks\":\"\"}},\"title\":{\"x\":0.05},\"xaxis\":{\"automargin\":true,\"gridcolor\":\"white\",\"linecolor\":\"white\",\"ticks\":\"\",\"title\":{\"standoff\":15},\"zerolinecolor\":\"white\",\"zerolinewidth\":2},\"yaxis\":{\"automargin\":true,\"gridcolor\":\"white\",\"linecolor\":\"white\",\"ticks\":\"\",\"title\":{\"standoff\":15},\"zerolinecolor\":\"white\",\"zerolinewidth\":2}}},\"xaxis\":{\"anchor\":\"y\",\"domain\":[0.0,1.0],\"title\":{\"text\":\"star_rating\"}},\"yaxis\":{\"anchor\":\"x\",\"domain\":[0.0,1.0],\"title\":{\"text\":\"count\"}},\"legend\":{\"tracegroupgap\":0},\"title\":{\"text\":\"star rating distribution\"},\"barmode\":\"relative\",\"width\":500},                        {\"responsive\": true}                    ).then(function(){\n",
       "                            \n",
       "var gd = document.getElementById('d94922b7-1eb8-4a00-8ee6-0645edac831d');\n",
       "var x = new MutationObserver(function (mutations, observer) {{\n",
       "        var display = window.getComputedStyle(gd).display;\n",
       "        if (!display || display === 'none') {{\n",
       "            console.log([gd, 'removed!']);\n",
       "            Plotly.purge(gd);\n",
       "            observer.disconnect();\n",
       "        }}\n",
       "}});\n",
       "\n",
       "// Listen for the removal of the full notebook cells\n",
       "var notebookContainer = gd.closest('#notebook-container');\n",
       "if (notebookContainer) {{\n",
       "    x.observe(notebookContainer, {childList: true});\n",
       "}}\n",
       "\n",
       "// Listen for the clearing of the current output cell\n",
       "var outputEl = gd.closest('.output');\n",
       "if (outputEl) {{\n",
       "    x.observe(outputEl, {childList: true});\n",
       "}}\n",
       "\n",
       "                        })                };                });            </script>        </div>"
      ]
     },
     "metadata": {},
     "output_type": "display_data"
    }
   ],
   "source": [
    "px.histogram(dff, 'star_rating', width=500, title='star rating distribution')"
   ]
  },
  {
   "cell_type": "code",
   "execution_count": 61,
   "id": "af2f0f34",
   "metadata": {},
   "outputs": [
    {
     "data": {
      "application/vnd.plotly.v1+json": {
       "config": {
        "plotlyServerURL": "https://plot.ly"
       },
       "data": [
        {
         "alignmentgroup": "True",
         "bingroup": "x",
         "hovertemplate": "review=%{x}<br>count=%{y}<extra></extra>",
         "legendgroup": "",
         "marker": {
          "color": "#636efa",
          "pattern": {
           "shape": ""
          }
         },
         "name": "",
         "offsetgroup": "",
         "orientation": "v",
         "showlegend": false,
         "type": "histogram",
         "x": [
          3,
          31,
          12,
          5,
          26,
          77,
          18,
          10,
          38,
          2,
          46,
          8,
          4,
          25,
          30,
          16,
          2,
          60,
          17,
          0,
          0,
          200,
          99,
          113,
          66,
          65,
          56,
          45,
          44,
          35,
          35,
          27,
          49,
          29,
          59,
          24,
          34,
          30,
          31,
          41,
          45,
          34,
          38,
          41,
          36,
          50,
          29,
          29,
          27,
          30,
          26,
          30,
          25,
          30,
          33,
          21,
          20,
          28,
          20,
          44,
          26,
          30,
          32,
          38,
          25,
          41,
          16,
          23,
          17,
          26,
          30,
          57,
          18,
          17,
          48,
          16,
          20,
          30,
          26,
          21,
          17,
          19,
          34,
          33,
          15,
          15,
          22,
          13,
          20,
          20,
          20,
          14,
          47,
          14,
          30,
          15,
          18,
          24,
          23,
          16,
          16,
          13,
          28,
          20,
          14,
          12,
          21,
          16,
          17,
          18,
          24,
          15,
          14,
          29,
          15,
          24,
          26,
          15,
          14,
          33,
          12,
          21,
          22,
          12,
          19,
          22,
          28,
          16,
          20,
          14,
          15,
          15,
          12,
          20,
          11,
          14,
          23,
          13,
          12,
          12,
          22,
          12,
          20,
          12,
          36,
          29,
          24,
          30,
          12,
          12,
          10,
          28,
          13,
          17,
          15,
          11,
          18,
          11,
          15
         ],
         "xaxis": "x",
         "yaxis": "y"
        }
       ],
       "layout": {
        "barmode": "relative",
        "legend": {
         "tracegroupgap": 0
        },
        "template": {
         "data": {
          "bar": [
           {
            "error_x": {
             "color": "#2a3f5f"
            },
            "error_y": {
             "color": "#2a3f5f"
            },
            "marker": {
             "line": {
              "color": "#E5ECF6",
              "width": 0.5
             },
             "pattern": {
              "fillmode": "overlay",
              "size": 10,
              "solidity": 0.2
             }
            },
            "type": "bar"
           }
          ],
          "barpolar": [
           {
            "marker": {
             "line": {
              "color": "#E5ECF6",
              "width": 0.5
             },
             "pattern": {
              "fillmode": "overlay",
              "size": 10,
              "solidity": 0.2
             }
            },
            "type": "barpolar"
           }
          ],
          "carpet": [
           {
            "aaxis": {
             "endlinecolor": "#2a3f5f",
             "gridcolor": "white",
             "linecolor": "white",
             "minorgridcolor": "white",
             "startlinecolor": "#2a3f5f"
            },
            "baxis": {
             "endlinecolor": "#2a3f5f",
             "gridcolor": "white",
             "linecolor": "white",
             "minorgridcolor": "white",
             "startlinecolor": "#2a3f5f"
            },
            "type": "carpet"
           }
          ],
          "choropleth": [
           {
            "colorbar": {
             "outlinewidth": 0,
             "ticks": ""
            },
            "type": "choropleth"
           }
          ],
          "contour": [
           {
            "colorbar": {
             "outlinewidth": 0,
             "ticks": ""
            },
            "colorscale": [
             [
              0,
              "#0d0887"
             ],
             [
              0.1111111111111111,
              "#46039f"
             ],
             [
              0.2222222222222222,
              "#7201a8"
             ],
             [
              0.3333333333333333,
              "#9c179e"
             ],
             [
              0.4444444444444444,
              "#bd3786"
             ],
             [
              0.5555555555555556,
              "#d8576b"
             ],
             [
              0.6666666666666666,
              "#ed7953"
             ],
             [
              0.7777777777777778,
              "#fb9f3a"
             ],
             [
              0.8888888888888888,
              "#fdca26"
             ],
             [
              1,
              "#f0f921"
             ]
            ],
            "type": "contour"
           }
          ],
          "contourcarpet": [
           {
            "colorbar": {
             "outlinewidth": 0,
             "ticks": ""
            },
            "type": "contourcarpet"
           }
          ],
          "heatmap": [
           {
            "colorbar": {
             "outlinewidth": 0,
             "ticks": ""
            },
            "colorscale": [
             [
              0,
              "#0d0887"
             ],
             [
              0.1111111111111111,
              "#46039f"
             ],
             [
              0.2222222222222222,
              "#7201a8"
             ],
             [
              0.3333333333333333,
              "#9c179e"
             ],
             [
              0.4444444444444444,
              "#bd3786"
             ],
             [
              0.5555555555555556,
              "#d8576b"
             ],
             [
              0.6666666666666666,
              "#ed7953"
             ],
             [
              0.7777777777777778,
              "#fb9f3a"
             ],
             [
              0.8888888888888888,
              "#fdca26"
             ],
             [
              1,
              "#f0f921"
             ]
            ],
            "type": "heatmap"
           }
          ],
          "heatmapgl": [
           {
            "colorbar": {
             "outlinewidth": 0,
             "ticks": ""
            },
            "colorscale": [
             [
              0,
              "#0d0887"
             ],
             [
              0.1111111111111111,
              "#46039f"
             ],
             [
              0.2222222222222222,
              "#7201a8"
             ],
             [
              0.3333333333333333,
              "#9c179e"
             ],
             [
              0.4444444444444444,
              "#bd3786"
             ],
             [
              0.5555555555555556,
              "#d8576b"
             ],
             [
              0.6666666666666666,
              "#ed7953"
             ],
             [
              0.7777777777777778,
              "#fb9f3a"
             ],
             [
              0.8888888888888888,
              "#fdca26"
             ],
             [
              1,
              "#f0f921"
             ]
            ],
            "type": "heatmapgl"
           }
          ],
          "histogram": [
           {
            "marker": {
             "pattern": {
              "fillmode": "overlay",
              "size": 10,
              "solidity": 0.2
             }
            },
            "type": "histogram"
           }
          ],
          "histogram2d": [
           {
            "colorbar": {
             "outlinewidth": 0,
             "ticks": ""
            },
            "colorscale": [
             [
              0,
              "#0d0887"
             ],
             [
              0.1111111111111111,
              "#46039f"
             ],
             [
              0.2222222222222222,
              "#7201a8"
             ],
             [
              0.3333333333333333,
              "#9c179e"
             ],
             [
              0.4444444444444444,
              "#bd3786"
             ],
             [
              0.5555555555555556,
              "#d8576b"
             ],
             [
              0.6666666666666666,
              "#ed7953"
             ],
             [
              0.7777777777777778,
              "#fb9f3a"
             ],
             [
              0.8888888888888888,
              "#fdca26"
             ],
             [
              1,
              "#f0f921"
             ]
            ],
            "type": "histogram2d"
           }
          ],
          "histogram2dcontour": [
           {
            "colorbar": {
             "outlinewidth": 0,
             "ticks": ""
            },
            "colorscale": [
             [
              0,
              "#0d0887"
             ],
             [
              0.1111111111111111,
              "#46039f"
             ],
             [
              0.2222222222222222,
              "#7201a8"
             ],
             [
              0.3333333333333333,
              "#9c179e"
             ],
             [
              0.4444444444444444,
              "#bd3786"
             ],
             [
              0.5555555555555556,
              "#d8576b"
             ],
             [
              0.6666666666666666,
              "#ed7953"
             ],
             [
              0.7777777777777778,
              "#fb9f3a"
             ],
             [
              0.8888888888888888,
              "#fdca26"
             ],
             [
              1,
              "#f0f921"
             ]
            ],
            "type": "histogram2dcontour"
           }
          ],
          "mesh3d": [
           {
            "colorbar": {
             "outlinewidth": 0,
             "ticks": ""
            },
            "type": "mesh3d"
           }
          ],
          "parcoords": [
           {
            "line": {
             "colorbar": {
              "outlinewidth": 0,
              "ticks": ""
             }
            },
            "type": "parcoords"
           }
          ],
          "pie": [
           {
            "automargin": true,
            "type": "pie"
           }
          ],
          "scatter": [
           {
            "marker": {
             "colorbar": {
              "outlinewidth": 0,
              "ticks": ""
             }
            },
            "type": "scatter"
           }
          ],
          "scatter3d": [
           {
            "line": {
             "colorbar": {
              "outlinewidth": 0,
              "ticks": ""
             }
            },
            "marker": {
             "colorbar": {
              "outlinewidth": 0,
              "ticks": ""
             }
            },
            "type": "scatter3d"
           }
          ],
          "scattercarpet": [
           {
            "marker": {
             "colorbar": {
              "outlinewidth": 0,
              "ticks": ""
             }
            },
            "type": "scattercarpet"
           }
          ],
          "scattergeo": [
           {
            "marker": {
             "colorbar": {
              "outlinewidth": 0,
              "ticks": ""
             }
            },
            "type": "scattergeo"
           }
          ],
          "scattergl": [
           {
            "marker": {
             "colorbar": {
              "outlinewidth": 0,
              "ticks": ""
             }
            },
            "type": "scattergl"
           }
          ],
          "scattermapbox": [
           {
            "marker": {
             "colorbar": {
              "outlinewidth": 0,
              "ticks": ""
             }
            },
            "type": "scattermapbox"
           }
          ],
          "scatterpolar": [
           {
            "marker": {
             "colorbar": {
              "outlinewidth": 0,
              "ticks": ""
             }
            },
            "type": "scatterpolar"
           }
          ],
          "scatterpolargl": [
           {
            "marker": {
             "colorbar": {
              "outlinewidth": 0,
              "ticks": ""
             }
            },
            "type": "scatterpolargl"
           }
          ],
          "scatterternary": [
           {
            "marker": {
             "colorbar": {
              "outlinewidth": 0,
              "ticks": ""
             }
            },
            "type": "scatterternary"
           }
          ],
          "surface": [
           {
            "colorbar": {
             "outlinewidth": 0,
             "ticks": ""
            },
            "colorscale": [
             [
              0,
              "#0d0887"
             ],
             [
              0.1111111111111111,
              "#46039f"
             ],
             [
              0.2222222222222222,
              "#7201a8"
             ],
             [
              0.3333333333333333,
              "#9c179e"
             ],
             [
              0.4444444444444444,
              "#bd3786"
             ],
             [
              0.5555555555555556,
              "#d8576b"
             ],
             [
              0.6666666666666666,
              "#ed7953"
             ],
             [
              0.7777777777777778,
              "#fb9f3a"
             ],
             [
              0.8888888888888888,
              "#fdca26"
             ],
             [
              1,
              "#f0f921"
             ]
            ],
            "type": "surface"
           }
          ],
          "table": [
           {
            "cells": {
             "fill": {
              "color": "#EBF0F8"
             },
             "line": {
              "color": "white"
             }
            },
            "header": {
             "fill": {
              "color": "#C8D4E3"
             },
             "line": {
              "color": "white"
             }
            },
            "type": "table"
           }
          ]
         },
         "layout": {
          "annotationdefaults": {
           "arrowcolor": "#2a3f5f",
           "arrowhead": 0,
           "arrowwidth": 1
          },
          "autotypenumbers": "strict",
          "coloraxis": {
           "colorbar": {
            "outlinewidth": 0,
            "ticks": ""
           }
          },
          "colorscale": {
           "diverging": [
            [
             0,
             "#8e0152"
            ],
            [
             0.1,
             "#c51b7d"
            ],
            [
             0.2,
             "#de77ae"
            ],
            [
             0.3,
             "#f1b6da"
            ],
            [
             0.4,
             "#fde0ef"
            ],
            [
             0.5,
             "#f7f7f7"
            ],
            [
             0.6,
             "#e6f5d0"
            ],
            [
             0.7,
             "#b8e186"
            ],
            [
             0.8,
             "#7fbc41"
            ],
            [
             0.9,
             "#4d9221"
            ],
            [
             1,
             "#276419"
            ]
           ],
           "sequential": [
            [
             0,
             "#0d0887"
            ],
            [
             0.1111111111111111,
             "#46039f"
            ],
            [
             0.2222222222222222,
             "#7201a8"
            ],
            [
             0.3333333333333333,
             "#9c179e"
            ],
            [
             0.4444444444444444,
             "#bd3786"
            ],
            [
             0.5555555555555556,
             "#d8576b"
            ],
            [
             0.6666666666666666,
             "#ed7953"
            ],
            [
             0.7777777777777778,
             "#fb9f3a"
            ],
            [
             0.8888888888888888,
             "#fdca26"
            ],
            [
             1,
             "#f0f921"
            ]
           ],
           "sequentialminus": [
            [
             0,
             "#0d0887"
            ],
            [
             0.1111111111111111,
             "#46039f"
            ],
            [
             0.2222222222222222,
             "#7201a8"
            ],
            [
             0.3333333333333333,
             "#9c179e"
            ],
            [
             0.4444444444444444,
             "#bd3786"
            ],
            [
             0.5555555555555556,
             "#d8576b"
            ],
            [
             0.6666666666666666,
             "#ed7953"
            ],
            [
             0.7777777777777778,
             "#fb9f3a"
            ],
            [
             0.8888888888888888,
             "#fdca26"
            ],
            [
             1,
             "#f0f921"
            ]
           ]
          },
          "colorway": [
           "#636efa",
           "#EF553B",
           "#00cc96",
           "#ab63fa",
           "#FFA15A",
           "#19d3f3",
           "#FF6692",
           "#B6E880",
           "#FF97FF",
           "#FECB52"
          ],
          "font": {
           "color": "#2a3f5f"
          },
          "geo": {
           "bgcolor": "white",
           "lakecolor": "white",
           "landcolor": "#E5ECF6",
           "showlakes": true,
           "showland": true,
           "subunitcolor": "white"
          },
          "hoverlabel": {
           "align": "left"
          },
          "hovermode": "closest",
          "mapbox": {
           "style": "light"
          },
          "paper_bgcolor": "white",
          "plot_bgcolor": "#E5ECF6",
          "polar": {
           "angularaxis": {
            "gridcolor": "white",
            "linecolor": "white",
            "ticks": ""
           },
           "bgcolor": "#E5ECF6",
           "radialaxis": {
            "gridcolor": "white",
            "linecolor": "white",
            "ticks": ""
           }
          },
          "scene": {
           "xaxis": {
            "backgroundcolor": "#E5ECF6",
            "gridcolor": "white",
            "gridwidth": 2,
            "linecolor": "white",
            "showbackground": true,
            "ticks": "",
            "zerolinecolor": "white"
           },
           "yaxis": {
            "backgroundcolor": "#E5ECF6",
            "gridcolor": "white",
            "gridwidth": 2,
            "linecolor": "white",
            "showbackground": true,
            "ticks": "",
            "zerolinecolor": "white"
           },
           "zaxis": {
            "backgroundcolor": "#E5ECF6",
            "gridcolor": "white",
            "gridwidth": 2,
            "linecolor": "white",
            "showbackground": true,
            "ticks": "",
            "zerolinecolor": "white"
           }
          },
          "shapedefaults": {
           "line": {
            "color": "#2a3f5f"
           }
          },
          "ternary": {
           "aaxis": {
            "gridcolor": "white",
            "linecolor": "white",
            "ticks": ""
           },
           "baxis": {
            "gridcolor": "white",
            "linecolor": "white",
            "ticks": ""
           },
           "bgcolor": "#E5ECF6",
           "caxis": {
            "gridcolor": "white",
            "linecolor": "white",
            "ticks": ""
           }
          },
          "title": {
           "x": 0.05
          },
          "xaxis": {
           "automargin": true,
           "gridcolor": "white",
           "linecolor": "white",
           "ticks": "",
           "title": {
            "standoff": 15
           },
           "zerolinecolor": "white",
           "zerolinewidth": 2
          },
          "yaxis": {
           "automargin": true,
           "gridcolor": "white",
           "linecolor": "white",
           "ticks": "",
           "title": {
            "standoff": 15
           },
           "zerolinecolor": "white",
           "zerolinewidth": 2
          }
         }
        },
        "title": {
         "text": "review distribution"
        },
        "width": 500,
        "xaxis": {
         "anchor": "y",
         "domain": [
          0,
          1
         ],
         "title": {
          "text": "review"
         }
        },
        "yaxis": {
         "anchor": "x",
         "domain": [
          0,
          1
         ],
         "title": {
          "text": "count"
         }
        }
       }
      },
      "text/html": [
       "<div>                            <div id=\"13b5ed8d-1f6a-4808-adb3-c91144b57379\" class=\"plotly-graph-div\" style=\"height:525px; width:500px;\"></div>            <script type=\"text/javascript\">                require([\"plotly\"], function(Plotly) {                    window.PLOTLYENV=window.PLOTLYENV || {};                                    if (document.getElementById(\"13b5ed8d-1f6a-4808-adb3-c91144b57379\")) {                    Plotly.newPlot(                        \"13b5ed8d-1f6a-4808-adb3-c91144b57379\",                        [{\"alignmentgroup\":\"True\",\"bingroup\":\"x\",\"hovertemplate\":\"review=%{x}<br>count=%{y}<extra></extra>\",\"legendgroup\":\"\",\"marker\":{\"color\":\"#636efa\",\"pattern\":{\"shape\":\"\"}},\"name\":\"\",\"offsetgroup\":\"\",\"orientation\":\"v\",\"showlegend\":false,\"x\":[3.0,31.0,12.0,5.0,26.0,77.0,18.0,10.0,38.0,2.0,46.0,8.0,4.0,25.0,30.0,16.0,2.0,60.0,17.0,0.0,0.0,200.0,99.0,113.0,66.0,65.0,56.0,45.0,44.0,35.0,35.0,27.0,49.0,29.0,59.0,24.0,34.0,30.0,31.0,41.0,45.0,34.0,38.0,41.0,36.0,50.0,29.0,29.0,27.0,30.0,26.0,30.0,25.0,30.0,33.0,21.0,20.0,28.0,20.0,44.0,26.0,30.0,32.0,38.0,25.0,41.0,16.0,23.0,17.0,26.0,30.0,57.0,18.0,17.0,48.0,16.0,20.0,30.0,26.0,21.0,17.0,19.0,34.0,33.0,15.0,15.0,22.0,13.0,20.0,20.0,20.0,14.0,47.0,14.0,30.0,15.0,18.0,24.0,23.0,16.0,16.0,13.0,28.0,20.0,14.0,12.0,21.0,16.0,17.0,18.0,24.0,15.0,14.0,29.0,15.0,24.0,26.0,15.0,14.0,33.0,12.0,21.0,22.0,12.0,19.0,22.0,28.0,16.0,20.0,14.0,15.0,15.0,12.0,20.0,11.0,14.0,23.0,13.0,12.0,12.0,22.0,12.0,20.0,12.0,36.0,29.0,24.0,30.0,12.0,12.0,10.0,28.0,13.0,17.0,15.0,11.0,18.0,11.0,15.0],\"xaxis\":\"x\",\"yaxis\":\"y\",\"type\":\"histogram\"}],                        {\"template\":{\"data\":{\"bar\":[{\"error_x\":{\"color\":\"#2a3f5f\"},\"error_y\":{\"color\":\"#2a3f5f\"},\"marker\":{\"line\":{\"color\":\"#E5ECF6\",\"width\":0.5},\"pattern\":{\"fillmode\":\"overlay\",\"size\":10,\"solidity\":0.2}},\"type\":\"bar\"}],\"barpolar\":[{\"marker\":{\"line\":{\"color\":\"#E5ECF6\",\"width\":0.5},\"pattern\":{\"fillmode\":\"overlay\",\"size\":10,\"solidity\":0.2}},\"type\":\"barpolar\"}],\"carpet\":[{\"aaxis\":{\"endlinecolor\":\"#2a3f5f\",\"gridcolor\":\"white\",\"linecolor\":\"white\",\"minorgridcolor\":\"white\",\"startlinecolor\":\"#2a3f5f\"},\"baxis\":{\"endlinecolor\":\"#2a3f5f\",\"gridcolor\":\"white\",\"linecolor\":\"white\",\"minorgridcolor\":\"white\",\"startlinecolor\":\"#2a3f5f\"},\"type\":\"carpet\"}],\"choropleth\":[{\"colorbar\":{\"outlinewidth\":0,\"ticks\":\"\"},\"type\":\"choropleth\"}],\"contour\":[{\"colorbar\":{\"outlinewidth\":0,\"ticks\":\"\"},\"colorscale\":[[0.0,\"#0d0887\"],[0.1111111111111111,\"#46039f\"],[0.2222222222222222,\"#7201a8\"],[0.3333333333333333,\"#9c179e\"],[0.4444444444444444,\"#bd3786\"],[0.5555555555555556,\"#d8576b\"],[0.6666666666666666,\"#ed7953\"],[0.7777777777777778,\"#fb9f3a\"],[0.8888888888888888,\"#fdca26\"],[1.0,\"#f0f921\"]],\"type\":\"contour\"}],\"contourcarpet\":[{\"colorbar\":{\"outlinewidth\":0,\"ticks\":\"\"},\"type\":\"contourcarpet\"}],\"heatmap\":[{\"colorbar\":{\"outlinewidth\":0,\"ticks\":\"\"},\"colorscale\":[[0.0,\"#0d0887\"],[0.1111111111111111,\"#46039f\"],[0.2222222222222222,\"#7201a8\"],[0.3333333333333333,\"#9c179e\"],[0.4444444444444444,\"#bd3786\"],[0.5555555555555556,\"#d8576b\"],[0.6666666666666666,\"#ed7953\"],[0.7777777777777778,\"#fb9f3a\"],[0.8888888888888888,\"#fdca26\"],[1.0,\"#f0f921\"]],\"type\":\"heatmap\"}],\"heatmapgl\":[{\"colorbar\":{\"outlinewidth\":0,\"ticks\":\"\"},\"colorscale\":[[0.0,\"#0d0887\"],[0.1111111111111111,\"#46039f\"],[0.2222222222222222,\"#7201a8\"],[0.3333333333333333,\"#9c179e\"],[0.4444444444444444,\"#bd3786\"],[0.5555555555555556,\"#d8576b\"],[0.6666666666666666,\"#ed7953\"],[0.7777777777777778,\"#fb9f3a\"],[0.8888888888888888,\"#fdca26\"],[1.0,\"#f0f921\"]],\"type\":\"heatmapgl\"}],\"histogram\":[{\"marker\":{\"pattern\":{\"fillmode\":\"overlay\",\"size\":10,\"solidity\":0.2}},\"type\":\"histogram\"}],\"histogram2d\":[{\"colorbar\":{\"outlinewidth\":0,\"ticks\":\"\"},\"colorscale\":[[0.0,\"#0d0887\"],[0.1111111111111111,\"#46039f\"],[0.2222222222222222,\"#7201a8\"],[0.3333333333333333,\"#9c179e\"],[0.4444444444444444,\"#bd3786\"],[0.5555555555555556,\"#d8576b\"],[0.6666666666666666,\"#ed7953\"],[0.7777777777777778,\"#fb9f3a\"],[0.8888888888888888,\"#fdca26\"],[1.0,\"#f0f921\"]],\"type\":\"histogram2d\"}],\"histogram2dcontour\":[{\"colorbar\":{\"outlinewidth\":0,\"ticks\":\"\"},\"colorscale\":[[0.0,\"#0d0887\"],[0.1111111111111111,\"#46039f\"],[0.2222222222222222,\"#7201a8\"],[0.3333333333333333,\"#9c179e\"],[0.4444444444444444,\"#bd3786\"],[0.5555555555555556,\"#d8576b\"],[0.6666666666666666,\"#ed7953\"],[0.7777777777777778,\"#fb9f3a\"],[0.8888888888888888,\"#fdca26\"],[1.0,\"#f0f921\"]],\"type\":\"histogram2dcontour\"}],\"mesh3d\":[{\"colorbar\":{\"outlinewidth\":0,\"ticks\":\"\"},\"type\":\"mesh3d\"}],\"parcoords\":[{\"line\":{\"colorbar\":{\"outlinewidth\":0,\"ticks\":\"\"}},\"type\":\"parcoords\"}],\"pie\":[{\"automargin\":true,\"type\":\"pie\"}],\"scatter\":[{\"marker\":{\"colorbar\":{\"outlinewidth\":0,\"ticks\":\"\"}},\"type\":\"scatter\"}],\"scatter3d\":[{\"line\":{\"colorbar\":{\"outlinewidth\":0,\"ticks\":\"\"}},\"marker\":{\"colorbar\":{\"outlinewidth\":0,\"ticks\":\"\"}},\"type\":\"scatter3d\"}],\"scattercarpet\":[{\"marker\":{\"colorbar\":{\"outlinewidth\":0,\"ticks\":\"\"}},\"type\":\"scattercarpet\"}],\"scattergeo\":[{\"marker\":{\"colorbar\":{\"outlinewidth\":0,\"ticks\":\"\"}},\"type\":\"scattergeo\"}],\"scattergl\":[{\"marker\":{\"colorbar\":{\"outlinewidth\":0,\"ticks\":\"\"}},\"type\":\"scattergl\"}],\"scattermapbox\":[{\"marker\":{\"colorbar\":{\"outlinewidth\":0,\"ticks\":\"\"}},\"type\":\"scattermapbox\"}],\"scatterpolar\":[{\"marker\":{\"colorbar\":{\"outlinewidth\":0,\"ticks\":\"\"}},\"type\":\"scatterpolar\"}],\"scatterpolargl\":[{\"marker\":{\"colorbar\":{\"outlinewidth\":0,\"ticks\":\"\"}},\"type\":\"scatterpolargl\"}],\"scatterternary\":[{\"marker\":{\"colorbar\":{\"outlinewidth\":0,\"ticks\":\"\"}},\"type\":\"scatterternary\"}],\"surface\":[{\"colorbar\":{\"outlinewidth\":0,\"ticks\":\"\"},\"colorscale\":[[0.0,\"#0d0887\"],[0.1111111111111111,\"#46039f\"],[0.2222222222222222,\"#7201a8\"],[0.3333333333333333,\"#9c179e\"],[0.4444444444444444,\"#bd3786\"],[0.5555555555555556,\"#d8576b\"],[0.6666666666666666,\"#ed7953\"],[0.7777777777777778,\"#fb9f3a\"],[0.8888888888888888,\"#fdca26\"],[1.0,\"#f0f921\"]],\"type\":\"surface\"}],\"table\":[{\"cells\":{\"fill\":{\"color\":\"#EBF0F8\"},\"line\":{\"color\":\"white\"}},\"header\":{\"fill\":{\"color\":\"#C8D4E3\"},\"line\":{\"color\":\"white\"}},\"type\":\"table\"}]},\"layout\":{\"annotationdefaults\":{\"arrowcolor\":\"#2a3f5f\",\"arrowhead\":0,\"arrowwidth\":1},\"autotypenumbers\":\"strict\",\"coloraxis\":{\"colorbar\":{\"outlinewidth\":0,\"ticks\":\"\"}},\"colorscale\":{\"diverging\":[[0,\"#8e0152\"],[0.1,\"#c51b7d\"],[0.2,\"#de77ae\"],[0.3,\"#f1b6da\"],[0.4,\"#fde0ef\"],[0.5,\"#f7f7f7\"],[0.6,\"#e6f5d0\"],[0.7,\"#b8e186\"],[0.8,\"#7fbc41\"],[0.9,\"#4d9221\"],[1,\"#276419\"]],\"sequential\":[[0.0,\"#0d0887\"],[0.1111111111111111,\"#46039f\"],[0.2222222222222222,\"#7201a8\"],[0.3333333333333333,\"#9c179e\"],[0.4444444444444444,\"#bd3786\"],[0.5555555555555556,\"#d8576b\"],[0.6666666666666666,\"#ed7953\"],[0.7777777777777778,\"#fb9f3a\"],[0.8888888888888888,\"#fdca26\"],[1.0,\"#f0f921\"]],\"sequentialminus\":[[0.0,\"#0d0887\"],[0.1111111111111111,\"#46039f\"],[0.2222222222222222,\"#7201a8\"],[0.3333333333333333,\"#9c179e\"],[0.4444444444444444,\"#bd3786\"],[0.5555555555555556,\"#d8576b\"],[0.6666666666666666,\"#ed7953\"],[0.7777777777777778,\"#fb9f3a\"],[0.8888888888888888,\"#fdca26\"],[1.0,\"#f0f921\"]]},\"colorway\":[\"#636efa\",\"#EF553B\",\"#00cc96\",\"#ab63fa\",\"#FFA15A\",\"#19d3f3\",\"#FF6692\",\"#B6E880\",\"#FF97FF\",\"#FECB52\"],\"font\":{\"color\":\"#2a3f5f\"},\"geo\":{\"bgcolor\":\"white\",\"lakecolor\":\"white\",\"landcolor\":\"#E5ECF6\",\"showlakes\":true,\"showland\":true,\"subunitcolor\":\"white\"},\"hoverlabel\":{\"align\":\"left\"},\"hovermode\":\"closest\",\"mapbox\":{\"style\":\"light\"},\"paper_bgcolor\":\"white\",\"plot_bgcolor\":\"#E5ECF6\",\"polar\":{\"angularaxis\":{\"gridcolor\":\"white\",\"linecolor\":\"white\",\"ticks\":\"\"},\"bgcolor\":\"#E5ECF6\",\"radialaxis\":{\"gridcolor\":\"white\",\"linecolor\":\"white\",\"ticks\":\"\"}},\"scene\":{\"xaxis\":{\"backgroundcolor\":\"#E5ECF6\",\"gridcolor\":\"white\",\"gridwidth\":2,\"linecolor\":\"white\",\"showbackground\":true,\"ticks\":\"\",\"zerolinecolor\":\"white\"},\"yaxis\":{\"backgroundcolor\":\"#E5ECF6\",\"gridcolor\":\"white\",\"gridwidth\":2,\"linecolor\":\"white\",\"showbackground\":true,\"ticks\":\"\",\"zerolinecolor\":\"white\"},\"zaxis\":{\"backgroundcolor\":\"#E5ECF6\",\"gridcolor\":\"white\",\"gridwidth\":2,\"linecolor\":\"white\",\"showbackground\":true,\"ticks\":\"\",\"zerolinecolor\":\"white\"}},\"shapedefaults\":{\"line\":{\"color\":\"#2a3f5f\"}},\"ternary\":{\"aaxis\":{\"gridcolor\":\"white\",\"linecolor\":\"white\",\"ticks\":\"\"},\"baxis\":{\"gridcolor\":\"white\",\"linecolor\":\"white\",\"ticks\":\"\"},\"bgcolor\":\"#E5ECF6\",\"caxis\":{\"gridcolor\":\"white\",\"linecolor\":\"white\",\"ticks\":\"\"}},\"title\":{\"x\":0.05},\"xaxis\":{\"automargin\":true,\"gridcolor\":\"white\",\"linecolor\":\"white\",\"ticks\":\"\",\"title\":{\"standoff\":15},\"zerolinecolor\":\"white\",\"zerolinewidth\":2},\"yaxis\":{\"automargin\":true,\"gridcolor\":\"white\",\"linecolor\":\"white\",\"ticks\":\"\",\"title\":{\"standoff\":15},\"zerolinecolor\":\"white\",\"zerolinewidth\":2}}},\"xaxis\":{\"anchor\":\"y\",\"domain\":[0.0,1.0],\"title\":{\"text\":\"review\"}},\"yaxis\":{\"anchor\":\"x\",\"domain\":[0.0,1.0],\"title\":{\"text\":\"count\"}},\"legend\":{\"tracegroupgap\":0},\"title\":{\"text\":\"review distribution\"},\"barmode\":\"relative\",\"width\":500},                        {\"responsive\": true}                    ).then(function(){\n",
       "                            \n",
       "var gd = document.getElementById('13b5ed8d-1f6a-4808-adb3-c91144b57379');\n",
       "var x = new MutationObserver(function (mutations, observer) {{\n",
       "        var display = window.getComputedStyle(gd).display;\n",
       "        if (!display || display === 'none') {{\n",
       "            console.log([gd, 'removed!']);\n",
       "            Plotly.purge(gd);\n",
       "            observer.disconnect();\n",
       "        }}\n",
       "}});\n",
       "\n",
       "// Listen for the removal of the full notebook cells\n",
       "var notebookContainer = gd.closest('#notebook-container');\n",
       "if (notebookContainer) {{\n",
       "    x.observe(notebookContainer, {childList: true});\n",
       "}}\n",
       "\n",
       "// Listen for the clearing of the current output cell\n",
       "var outputEl = gd.closest('.output');\n",
       "if (outputEl) {{\n",
       "    x.observe(outputEl, {childList: true});\n",
       "}}\n",
       "\n",
       "                        })                };                });            </script>        </div>"
      ]
     },
     "metadata": {},
     "output_type": "display_data"
    }
   ],
   "source": [
    "px.histogram(dff, 'review', width=500, title='review distribution')"
   ]
  },
  {
   "cell_type": "code",
   "execution_count": 63,
   "id": "78268553",
   "metadata": {},
   "outputs": [
    {
     "data": {
      "application/vnd.plotly.v1+json": {
       "config": {
        "plotlyServerURL": "https://plot.ly"
       },
       "data": [
        {
         "alignmentgroup": "True",
         "hovertemplate": "variable=star_rating<br>firm_names=%{x}<br>value=%{y}<extra></extra>",
         "legendgroup": "star_rating",
         "marker": {
          "color": "#636efa",
          "pattern": {
           "shape": ""
          }
         },
         "name": "star_rating",
         "offsetgroup": "star_rating",
         "orientation": "v",
         "showlegend": true,
         "textposition": "auto",
         "type": "bar",
         "x": [
          "Next Big Technology(NBT)",
          "Dynamic Dreamz",
          "RBSEO",
          "AllianceTek",
          "BrancoSoft Private Limited"
         ],
         "xaxis": "x",
         "y": [
          5,
          5,
          5,
          5,
          5
         ],
         "yaxis": "y"
        },
        {
         "alignmentgroup": "True",
         "hovertemplate": "variable=review<br>firm_names=%{x}<br>value=%{y}<extra></extra>",
         "legendgroup": "review",
         "marker": {
          "color": "#EF553B",
          "pattern": {
           "shape": ""
          }
         },
         "name": "review",
         "offsetgroup": "review",
         "orientation": "v",
         "showlegend": true,
         "textposition": "auto",
         "type": "bar",
         "x": [
          "Next Big Technology(NBT)",
          "Dynamic Dreamz",
          "RBSEO",
          "AllianceTek",
          "BrancoSoft Private Limited"
         ],
         "xaxis": "x",
         "y": [
          200,
          113,
          99,
          77,
          66
         ],
         "yaxis": "y"
        }
       ],
       "layout": {
        "barmode": "relative",
        "legend": {
         "title": {
          "text": "variable"
         },
         "tracegroupgap": 0
        },
        "template": {
         "data": {
          "bar": [
           {
            "error_x": {
             "color": "#2a3f5f"
            },
            "error_y": {
             "color": "#2a3f5f"
            },
            "marker": {
             "line": {
              "color": "#E5ECF6",
              "width": 0.5
             },
             "pattern": {
              "fillmode": "overlay",
              "size": 10,
              "solidity": 0.2
             }
            },
            "type": "bar"
           }
          ],
          "barpolar": [
           {
            "marker": {
             "line": {
              "color": "#E5ECF6",
              "width": 0.5
             },
             "pattern": {
              "fillmode": "overlay",
              "size": 10,
              "solidity": 0.2
             }
            },
            "type": "barpolar"
           }
          ],
          "carpet": [
           {
            "aaxis": {
             "endlinecolor": "#2a3f5f",
             "gridcolor": "white",
             "linecolor": "white",
             "minorgridcolor": "white",
             "startlinecolor": "#2a3f5f"
            },
            "baxis": {
             "endlinecolor": "#2a3f5f",
             "gridcolor": "white",
             "linecolor": "white",
             "minorgridcolor": "white",
             "startlinecolor": "#2a3f5f"
            },
            "type": "carpet"
           }
          ],
          "choropleth": [
           {
            "colorbar": {
             "outlinewidth": 0,
             "ticks": ""
            },
            "type": "choropleth"
           }
          ],
          "contour": [
           {
            "colorbar": {
             "outlinewidth": 0,
             "ticks": ""
            },
            "colorscale": [
             [
              0,
              "#0d0887"
             ],
             [
              0.1111111111111111,
              "#46039f"
             ],
             [
              0.2222222222222222,
              "#7201a8"
             ],
             [
              0.3333333333333333,
              "#9c179e"
             ],
             [
              0.4444444444444444,
              "#bd3786"
             ],
             [
              0.5555555555555556,
              "#d8576b"
             ],
             [
              0.6666666666666666,
              "#ed7953"
             ],
             [
              0.7777777777777778,
              "#fb9f3a"
             ],
             [
              0.8888888888888888,
              "#fdca26"
             ],
             [
              1,
              "#f0f921"
             ]
            ],
            "type": "contour"
           }
          ],
          "contourcarpet": [
           {
            "colorbar": {
             "outlinewidth": 0,
             "ticks": ""
            },
            "type": "contourcarpet"
           }
          ],
          "heatmap": [
           {
            "colorbar": {
             "outlinewidth": 0,
             "ticks": ""
            },
            "colorscale": [
             [
              0,
              "#0d0887"
             ],
             [
              0.1111111111111111,
              "#46039f"
             ],
             [
              0.2222222222222222,
              "#7201a8"
             ],
             [
              0.3333333333333333,
              "#9c179e"
             ],
             [
              0.4444444444444444,
              "#bd3786"
             ],
             [
              0.5555555555555556,
              "#d8576b"
             ],
             [
              0.6666666666666666,
              "#ed7953"
             ],
             [
              0.7777777777777778,
              "#fb9f3a"
             ],
             [
              0.8888888888888888,
              "#fdca26"
             ],
             [
              1,
              "#f0f921"
             ]
            ],
            "type": "heatmap"
           }
          ],
          "heatmapgl": [
           {
            "colorbar": {
             "outlinewidth": 0,
             "ticks": ""
            },
            "colorscale": [
             [
              0,
              "#0d0887"
             ],
             [
              0.1111111111111111,
              "#46039f"
             ],
             [
              0.2222222222222222,
              "#7201a8"
             ],
             [
              0.3333333333333333,
              "#9c179e"
             ],
             [
              0.4444444444444444,
              "#bd3786"
             ],
             [
              0.5555555555555556,
              "#d8576b"
             ],
             [
              0.6666666666666666,
              "#ed7953"
             ],
             [
              0.7777777777777778,
              "#fb9f3a"
             ],
             [
              0.8888888888888888,
              "#fdca26"
             ],
             [
              1,
              "#f0f921"
             ]
            ],
            "type": "heatmapgl"
           }
          ],
          "histogram": [
           {
            "marker": {
             "pattern": {
              "fillmode": "overlay",
              "size": 10,
              "solidity": 0.2
             }
            },
            "type": "histogram"
           }
          ],
          "histogram2d": [
           {
            "colorbar": {
             "outlinewidth": 0,
             "ticks": ""
            },
            "colorscale": [
             [
              0,
              "#0d0887"
             ],
             [
              0.1111111111111111,
              "#46039f"
             ],
             [
              0.2222222222222222,
              "#7201a8"
             ],
             [
              0.3333333333333333,
              "#9c179e"
             ],
             [
              0.4444444444444444,
              "#bd3786"
             ],
             [
              0.5555555555555556,
              "#d8576b"
             ],
             [
              0.6666666666666666,
              "#ed7953"
             ],
             [
              0.7777777777777778,
              "#fb9f3a"
             ],
             [
              0.8888888888888888,
              "#fdca26"
             ],
             [
              1,
              "#f0f921"
             ]
            ],
            "type": "histogram2d"
           }
          ],
          "histogram2dcontour": [
           {
            "colorbar": {
             "outlinewidth": 0,
             "ticks": ""
            },
            "colorscale": [
             [
              0,
              "#0d0887"
             ],
             [
              0.1111111111111111,
              "#46039f"
             ],
             [
              0.2222222222222222,
              "#7201a8"
             ],
             [
              0.3333333333333333,
              "#9c179e"
             ],
             [
              0.4444444444444444,
              "#bd3786"
             ],
             [
              0.5555555555555556,
              "#d8576b"
             ],
             [
              0.6666666666666666,
              "#ed7953"
             ],
             [
              0.7777777777777778,
              "#fb9f3a"
             ],
             [
              0.8888888888888888,
              "#fdca26"
             ],
             [
              1,
              "#f0f921"
             ]
            ],
            "type": "histogram2dcontour"
           }
          ],
          "mesh3d": [
           {
            "colorbar": {
             "outlinewidth": 0,
             "ticks": ""
            },
            "type": "mesh3d"
           }
          ],
          "parcoords": [
           {
            "line": {
             "colorbar": {
              "outlinewidth": 0,
              "ticks": ""
             }
            },
            "type": "parcoords"
           }
          ],
          "pie": [
           {
            "automargin": true,
            "type": "pie"
           }
          ],
          "scatter": [
           {
            "marker": {
             "colorbar": {
              "outlinewidth": 0,
              "ticks": ""
             }
            },
            "type": "scatter"
           }
          ],
          "scatter3d": [
           {
            "line": {
             "colorbar": {
              "outlinewidth": 0,
              "ticks": ""
             }
            },
            "marker": {
             "colorbar": {
              "outlinewidth": 0,
              "ticks": ""
             }
            },
            "type": "scatter3d"
           }
          ],
          "scattercarpet": [
           {
            "marker": {
             "colorbar": {
              "outlinewidth": 0,
              "ticks": ""
             }
            },
            "type": "scattercarpet"
           }
          ],
          "scattergeo": [
           {
            "marker": {
             "colorbar": {
              "outlinewidth": 0,
              "ticks": ""
             }
            },
            "type": "scattergeo"
           }
          ],
          "scattergl": [
           {
            "marker": {
             "colorbar": {
              "outlinewidth": 0,
              "ticks": ""
             }
            },
            "type": "scattergl"
           }
          ],
          "scattermapbox": [
           {
            "marker": {
             "colorbar": {
              "outlinewidth": 0,
              "ticks": ""
             }
            },
            "type": "scattermapbox"
           }
          ],
          "scatterpolar": [
           {
            "marker": {
             "colorbar": {
              "outlinewidth": 0,
              "ticks": ""
             }
            },
            "type": "scatterpolar"
           }
          ],
          "scatterpolargl": [
           {
            "marker": {
             "colorbar": {
              "outlinewidth": 0,
              "ticks": ""
             }
            },
            "type": "scatterpolargl"
           }
          ],
          "scatterternary": [
           {
            "marker": {
             "colorbar": {
              "outlinewidth": 0,
              "ticks": ""
             }
            },
            "type": "scatterternary"
           }
          ],
          "surface": [
           {
            "colorbar": {
             "outlinewidth": 0,
             "ticks": ""
            },
            "colorscale": [
             [
              0,
              "#0d0887"
             ],
             [
              0.1111111111111111,
              "#46039f"
             ],
             [
              0.2222222222222222,
              "#7201a8"
             ],
             [
              0.3333333333333333,
              "#9c179e"
             ],
             [
              0.4444444444444444,
              "#bd3786"
             ],
             [
              0.5555555555555556,
              "#d8576b"
             ],
             [
              0.6666666666666666,
              "#ed7953"
             ],
             [
              0.7777777777777778,
              "#fb9f3a"
             ],
             [
              0.8888888888888888,
              "#fdca26"
             ],
             [
              1,
              "#f0f921"
             ]
            ],
            "type": "surface"
           }
          ],
          "table": [
           {
            "cells": {
             "fill": {
              "color": "#EBF0F8"
             },
             "line": {
              "color": "white"
             }
            },
            "header": {
             "fill": {
              "color": "#C8D4E3"
             },
             "line": {
              "color": "white"
             }
            },
            "type": "table"
           }
          ]
         },
         "layout": {
          "annotationdefaults": {
           "arrowcolor": "#2a3f5f",
           "arrowhead": 0,
           "arrowwidth": 1
          },
          "autotypenumbers": "strict",
          "coloraxis": {
           "colorbar": {
            "outlinewidth": 0,
            "ticks": ""
           }
          },
          "colorscale": {
           "diverging": [
            [
             0,
             "#8e0152"
            ],
            [
             0.1,
             "#c51b7d"
            ],
            [
             0.2,
             "#de77ae"
            ],
            [
             0.3,
             "#f1b6da"
            ],
            [
             0.4,
             "#fde0ef"
            ],
            [
             0.5,
             "#f7f7f7"
            ],
            [
             0.6,
             "#e6f5d0"
            ],
            [
             0.7,
             "#b8e186"
            ],
            [
             0.8,
             "#7fbc41"
            ],
            [
             0.9,
             "#4d9221"
            ],
            [
             1,
             "#276419"
            ]
           ],
           "sequential": [
            [
             0,
             "#0d0887"
            ],
            [
             0.1111111111111111,
             "#46039f"
            ],
            [
             0.2222222222222222,
             "#7201a8"
            ],
            [
             0.3333333333333333,
             "#9c179e"
            ],
            [
             0.4444444444444444,
             "#bd3786"
            ],
            [
             0.5555555555555556,
             "#d8576b"
            ],
            [
             0.6666666666666666,
             "#ed7953"
            ],
            [
             0.7777777777777778,
             "#fb9f3a"
            ],
            [
             0.8888888888888888,
             "#fdca26"
            ],
            [
             1,
             "#f0f921"
            ]
           ],
           "sequentialminus": [
            [
             0,
             "#0d0887"
            ],
            [
             0.1111111111111111,
             "#46039f"
            ],
            [
             0.2222222222222222,
             "#7201a8"
            ],
            [
             0.3333333333333333,
             "#9c179e"
            ],
            [
             0.4444444444444444,
             "#bd3786"
            ],
            [
             0.5555555555555556,
             "#d8576b"
            ],
            [
             0.6666666666666666,
             "#ed7953"
            ],
            [
             0.7777777777777778,
             "#fb9f3a"
            ],
            [
             0.8888888888888888,
             "#fdca26"
            ],
            [
             1,
             "#f0f921"
            ]
           ]
          },
          "colorway": [
           "#636efa",
           "#EF553B",
           "#00cc96",
           "#ab63fa",
           "#FFA15A",
           "#19d3f3",
           "#FF6692",
           "#B6E880",
           "#FF97FF",
           "#FECB52"
          ],
          "font": {
           "color": "#2a3f5f"
          },
          "geo": {
           "bgcolor": "white",
           "lakecolor": "white",
           "landcolor": "#E5ECF6",
           "showlakes": true,
           "showland": true,
           "subunitcolor": "white"
          },
          "hoverlabel": {
           "align": "left"
          },
          "hovermode": "closest",
          "mapbox": {
           "style": "light"
          },
          "paper_bgcolor": "white",
          "plot_bgcolor": "#E5ECF6",
          "polar": {
           "angularaxis": {
            "gridcolor": "white",
            "linecolor": "white",
            "ticks": ""
           },
           "bgcolor": "#E5ECF6",
           "radialaxis": {
            "gridcolor": "white",
            "linecolor": "white",
            "ticks": ""
           }
          },
          "scene": {
           "xaxis": {
            "backgroundcolor": "#E5ECF6",
            "gridcolor": "white",
            "gridwidth": 2,
            "linecolor": "white",
            "showbackground": true,
            "ticks": "",
            "zerolinecolor": "white"
           },
           "yaxis": {
            "backgroundcolor": "#E5ECF6",
            "gridcolor": "white",
            "gridwidth": 2,
            "linecolor": "white",
            "showbackground": true,
            "ticks": "",
            "zerolinecolor": "white"
           },
           "zaxis": {
            "backgroundcolor": "#E5ECF6",
            "gridcolor": "white",
            "gridwidth": 2,
            "linecolor": "white",
            "showbackground": true,
            "ticks": "",
            "zerolinecolor": "white"
           }
          },
          "shapedefaults": {
           "line": {
            "color": "#2a3f5f"
           }
          },
          "ternary": {
           "aaxis": {
            "gridcolor": "white",
            "linecolor": "white",
            "ticks": ""
           },
           "baxis": {
            "gridcolor": "white",
            "linecolor": "white",
            "ticks": ""
           },
           "bgcolor": "#E5ECF6",
           "caxis": {
            "gridcolor": "white",
            "linecolor": "white",
            "ticks": ""
           }
          },
          "title": {
           "x": 0.05
          },
          "xaxis": {
           "automargin": true,
           "gridcolor": "white",
           "linecolor": "white",
           "ticks": "",
           "title": {
            "standoff": 15
           },
           "zerolinecolor": "white",
           "zerolinewidth": 2
          },
          "yaxis": {
           "automargin": true,
           "gridcolor": "white",
           "linecolor": "white",
           "ticks": "",
           "title": {
            "standoff": 15
           },
           "zerolinecolor": "white",
           "zerolinewidth": 2
          }
         }
        },
        "title": {
         "text": "top 5 firms"
        },
        "width": 700,
        "xaxis": {
         "anchor": "y",
         "domain": [
          0,
          1
         ],
         "title": {
          "text": "firm_names"
         }
        },
        "yaxis": {
         "anchor": "x",
         "domain": [
          0,
          1
         ],
         "title": {
          "text": "value"
         }
        }
       }
      },
      "text/html": [
       "<div>                            <div id=\"cdbfe440-110e-4a6f-9c03-6f314a7765cf\" class=\"plotly-graph-div\" style=\"height:525px; width:700px;\"></div>            <script type=\"text/javascript\">                require([\"plotly\"], function(Plotly) {                    window.PLOTLYENV=window.PLOTLYENV || {};                                    if (document.getElementById(\"cdbfe440-110e-4a6f-9c03-6f314a7765cf\")) {                    Plotly.newPlot(                        \"cdbfe440-110e-4a6f-9c03-6f314a7765cf\",                        [{\"alignmentgroup\":\"True\",\"hovertemplate\":\"variable=star_rating<br>firm_names=%{x}<br>value=%{y}<extra></extra>\",\"legendgroup\":\"star_rating\",\"marker\":{\"color\":\"#636efa\",\"pattern\":{\"shape\":\"\"}},\"name\":\"star_rating\",\"offsetgroup\":\"star_rating\",\"orientation\":\"v\",\"showlegend\":true,\"textposition\":\"auto\",\"x\":[\"Next Big Technology(NBT)\",\"Dynamic Dreamz\",\"RBSEO\",\"AllianceTek\",\"BrancoSoft Private Limited\"],\"xaxis\":\"x\",\"y\":[5.0,5.0,5.0,5.0,5.0],\"yaxis\":\"y\",\"type\":\"bar\"},{\"alignmentgroup\":\"True\",\"hovertemplate\":\"variable=review<br>firm_names=%{x}<br>value=%{y}<extra></extra>\",\"legendgroup\":\"review\",\"marker\":{\"color\":\"#EF553B\",\"pattern\":{\"shape\":\"\"}},\"name\":\"review\",\"offsetgroup\":\"review\",\"orientation\":\"v\",\"showlegend\":true,\"textposition\":\"auto\",\"x\":[\"Next Big Technology(NBT)\",\"Dynamic Dreamz\",\"RBSEO\",\"AllianceTek\",\"BrancoSoft Private Limited\"],\"xaxis\":\"x\",\"y\":[200.0,113.0,99.0,77.0,66.0],\"yaxis\":\"y\",\"type\":\"bar\"}],                        {\"template\":{\"data\":{\"bar\":[{\"error_x\":{\"color\":\"#2a3f5f\"},\"error_y\":{\"color\":\"#2a3f5f\"},\"marker\":{\"line\":{\"color\":\"#E5ECF6\",\"width\":0.5},\"pattern\":{\"fillmode\":\"overlay\",\"size\":10,\"solidity\":0.2}},\"type\":\"bar\"}],\"barpolar\":[{\"marker\":{\"line\":{\"color\":\"#E5ECF6\",\"width\":0.5},\"pattern\":{\"fillmode\":\"overlay\",\"size\":10,\"solidity\":0.2}},\"type\":\"barpolar\"}],\"carpet\":[{\"aaxis\":{\"endlinecolor\":\"#2a3f5f\",\"gridcolor\":\"white\",\"linecolor\":\"white\",\"minorgridcolor\":\"white\",\"startlinecolor\":\"#2a3f5f\"},\"baxis\":{\"endlinecolor\":\"#2a3f5f\",\"gridcolor\":\"white\",\"linecolor\":\"white\",\"minorgridcolor\":\"white\",\"startlinecolor\":\"#2a3f5f\"},\"type\":\"carpet\"}],\"choropleth\":[{\"colorbar\":{\"outlinewidth\":0,\"ticks\":\"\"},\"type\":\"choropleth\"}],\"contour\":[{\"colorbar\":{\"outlinewidth\":0,\"ticks\":\"\"},\"colorscale\":[[0.0,\"#0d0887\"],[0.1111111111111111,\"#46039f\"],[0.2222222222222222,\"#7201a8\"],[0.3333333333333333,\"#9c179e\"],[0.4444444444444444,\"#bd3786\"],[0.5555555555555556,\"#d8576b\"],[0.6666666666666666,\"#ed7953\"],[0.7777777777777778,\"#fb9f3a\"],[0.8888888888888888,\"#fdca26\"],[1.0,\"#f0f921\"]],\"type\":\"contour\"}],\"contourcarpet\":[{\"colorbar\":{\"outlinewidth\":0,\"ticks\":\"\"},\"type\":\"contourcarpet\"}],\"heatmap\":[{\"colorbar\":{\"outlinewidth\":0,\"ticks\":\"\"},\"colorscale\":[[0.0,\"#0d0887\"],[0.1111111111111111,\"#46039f\"],[0.2222222222222222,\"#7201a8\"],[0.3333333333333333,\"#9c179e\"],[0.4444444444444444,\"#bd3786\"],[0.5555555555555556,\"#d8576b\"],[0.6666666666666666,\"#ed7953\"],[0.7777777777777778,\"#fb9f3a\"],[0.8888888888888888,\"#fdca26\"],[1.0,\"#f0f921\"]],\"type\":\"heatmap\"}],\"heatmapgl\":[{\"colorbar\":{\"outlinewidth\":0,\"ticks\":\"\"},\"colorscale\":[[0.0,\"#0d0887\"],[0.1111111111111111,\"#46039f\"],[0.2222222222222222,\"#7201a8\"],[0.3333333333333333,\"#9c179e\"],[0.4444444444444444,\"#bd3786\"],[0.5555555555555556,\"#d8576b\"],[0.6666666666666666,\"#ed7953\"],[0.7777777777777778,\"#fb9f3a\"],[0.8888888888888888,\"#fdca26\"],[1.0,\"#f0f921\"]],\"type\":\"heatmapgl\"}],\"histogram\":[{\"marker\":{\"pattern\":{\"fillmode\":\"overlay\",\"size\":10,\"solidity\":0.2}},\"type\":\"histogram\"}],\"histogram2d\":[{\"colorbar\":{\"outlinewidth\":0,\"ticks\":\"\"},\"colorscale\":[[0.0,\"#0d0887\"],[0.1111111111111111,\"#46039f\"],[0.2222222222222222,\"#7201a8\"],[0.3333333333333333,\"#9c179e\"],[0.4444444444444444,\"#bd3786\"],[0.5555555555555556,\"#d8576b\"],[0.6666666666666666,\"#ed7953\"],[0.7777777777777778,\"#fb9f3a\"],[0.8888888888888888,\"#fdca26\"],[1.0,\"#f0f921\"]],\"type\":\"histogram2d\"}],\"histogram2dcontour\":[{\"colorbar\":{\"outlinewidth\":0,\"ticks\":\"\"},\"colorscale\":[[0.0,\"#0d0887\"],[0.1111111111111111,\"#46039f\"],[0.2222222222222222,\"#7201a8\"],[0.3333333333333333,\"#9c179e\"],[0.4444444444444444,\"#bd3786\"],[0.5555555555555556,\"#d8576b\"],[0.6666666666666666,\"#ed7953\"],[0.7777777777777778,\"#fb9f3a\"],[0.8888888888888888,\"#fdca26\"],[1.0,\"#f0f921\"]],\"type\":\"histogram2dcontour\"}],\"mesh3d\":[{\"colorbar\":{\"outlinewidth\":0,\"ticks\":\"\"},\"type\":\"mesh3d\"}],\"parcoords\":[{\"line\":{\"colorbar\":{\"outlinewidth\":0,\"ticks\":\"\"}},\"type\":\"parcoords\"}],\"pie\":[{\"automargin\":true,\"type\":\"pie\"}],\"scatter\":[{\"marker\":{\"colorbar\":{\"outlinewidth\":0,\"ticks\":\"\"}},\"type\":\"scatter\"}],\"scatter3d\":[{\"line\":{\"colorbar\":{\"outlinewidth\":0,\"ticks\":\"\"}},\"marker\":{\"colorbar\":{\"outlinewidth\":0,\"ticks\":\"\"}},\"type\":\"scatter3d\"}],\"scattercarpet\":[{\"marker\":{\"colorbar\":{\"outlinewidth\":0,\"ticks\":\"\"}},\"type\":\"scattercarpet\"}],\"scattergeo\":[{\"marker\":{\"colorbar\":{\"outlinewidth\":0,\"ticks\":\"\"}},\"type\":\"scattergeo\"}],\"scattergl\":[{\"marker\":{\"colorbar\":{\"outlinewidth\":0,\"ticks\":\"\"}},\"type\":\"scattergl\"}],\"scattermapbox\":[{\"marker\":{\"colorbar\":{\"outlinewidth\":0,\"ticks\":\"\"}},\"type\":\"scattermapbox\"}],\"scatterpolar\":[{\"marker\":{\"colorbar\":{\"outlinewidth\":0,\"ticks\":\"\"}},\"type\":\"scatterpolar\"}],\"scatterpolargl\":[{\"marker\":{\"colorbar\":{\"outlinewidth\":0,\"ticks\":\"\"}},\"type\":\"scatterpolargl\"}],\"scatterternary\":[{\"marker\":{\"colorbar\":{\"outlinewidth\":0,\"ticks\":\"\"}},\"type\":\"scatterternary\"}],\"surface\":[{\"colorbar\":{\"outlinewidth\":0,\"ticks\":\"\"},\"colorscale\":[[0.0,\"#0d0887\"],[0.1111111111111111,\"#46039f\"],[0.2222222222222222,\"#7201a8\"],[0.3333333333333333,\"#9c179e\"],[0.4444444444444444,\"#bd3786\"],[0.5555555555555556,\"#d8576b\"],[0.6666666666666666,\"#ed7953\"],[0.7777777777777778,\"#fb9f3a\"],[0.8888888888888888,\"#fdca26\"],[1.0,\"#f0f921\"]],\"type\":\"surface\"}],\"table\":[{\"cells\":{\"fill\":{\"color\":\"#EBF0F8\"},\"line\":{\"color\":\"white\"}},\"header\":{\"fill\":{\"color\":\"#C8D4E3\"},\"line\":{\"color\":\"white\"}},\"type\":\"table\"}]},\"layout\":{\"annotationdefaults\":{\"arrowcolor\":\"#2a3f5f\",\"arrowhead\":0,\"arrowwidth\":1},\"autotypenumbers\":\"strict\",\"coloraxis\":{\"colorbar\":{\"outlinewidth\":0,\"ticks\":\"\"}},\"colorscale\":{\"diverging\":[[0,\"#8e0152\"],[0.1,\"#c51b7d\"],[0.2,\"#de77ae\"],[0.3,\"#f1b6da\"],[0.4,\"#fde0ef\"],[0.5,\"#f7f7f7\"],[0.6,\"#e6f5d0\"],[0.7,\"#b8e186\"],[0.8,\"#7fbc41\"],[0.9,\"#4d9221\"],[1,\"#276419\"]],\"sequential\":[[0.0,\"#0d0887\"],[0.1111111111111111,\"#46039f\"],[0.2222222222222222,\"#7201a8\"],[0.3333333333333333,\"#9c179e\"],[0.4444444444444444,\"#bd3786\"],[0.5555555555555556,\"#d8576b\"],[0.6666666666666666,\"#ed7953\"],[0.7777777777777778,\"#fb9f3a\"],[0.8888888888888888,\"#fdca26\"],[1.0,\"#f0f921\"]],\"sequentialminus\":[[0.0,\"#0d0887\"],[0.1111111111111111,\"#46039f\"],[0.2222222222222222,\"#7201a8\"],[0.3333333333333333,\"#9c179e\"],[0.4444444444444444,\"#bd3786\"],[0.5555555555555556,\"#d8576b\"],[0.6666666666666666,\"#ed7953\"],[0.7777777777777778,\"#fb9f3a\"],[0.8888888888888888,\"#fdca26\"],[1.0,\"#f0f921\"]]},\"colorway\":[\"#636efa\",\"#EF553B\",\"#00cc96\",\"#ab63fa\",\"#FFA15A\",\"#19d3f3\",\"#FF6692\",\"#B6E880\",\"#FF97FF\",\"#FECB52\"],\"font\":{\"color\":\"#2a3f5f\"},\"geo\":{\"bgcolor\":\"white\",\"lakecolor\":\"white\",\"landcolor\":\"#E5ECF6\",\"showlakes\":true,\"showland\":true,\"subunitcolor\":\"white\"},\"hoverlabel\":{\"align\":\"left\"},\"hovermode\":\"closest\",\"mapbox\":{\"style\":\"light\"},\"paper_bgcolor\":\"white\",\"plot_bgcolor\":\"#E5ECF6\",\"polar\":{\"angularaxis\":{\"gridcolor\":\"white\",\"linecolor\":\"white\",\"ticks\":\"\"},\"bgcolor\":\"#E5ECF6\",\"radialaxis\":{\"gridcolor\":\"white\",\"linecolor\":\"white\",\"ticks\":\"\"}},\"scene\":{\"xaxis\":{\"backgroundcolor\":\"#E5ECF6\",\"gridcolor\":\"white\",\"gridwidth\":2,\"linecolor\":\"white\",\"showbackground\":true,\"ticks\":\"\",\"zerolinecolor\":\"white\"},\"yaxis\":{\"backgroundcolor\":\"#E5ECF6\",\"gridcolor\":\"white\",\"gridwidth\":2,\"linecolor\":\"white\",\"showbackground\":true,\"ticks\":\"\",\"zerolinecolor\":\"white\"},\"zaxis\":{\"backgroundcolor\":\"#E5ECF6\",\"gridcolor\":\"white\",\"gridwidth\":2,\"linecolor\":\"white\",\"showbackground\":true,\"ticks\":\"\",\"zerolinecolor\":\"white\"}},\"shapedefaults\":{\"line\":{\"color\":\"#2a3f5f\"}},\"ternary\":{\"aaxis\":{\"gridcolor\":\"white\",\"linecolor\":\"white\",\"ticks\":\"\"},\"baxis\":{\"gridcolor\":\"white\",\"linecolor\":\"white\",\"ticks\":\"\"},\"bgcolor\":\"#E5ECF6\",\"caxis\":{\"gridcolor\":\"white\",\"linecolor\":\"white\",\"ticks\":\"\"}},\"title\":{\"x\":0.05},\"xaxis\":{\"automargin\":true,\"gridcolor\":\"white\",\"linecolor\":\"white\",\"ticks\":\"\",\"title\":{\"standoff\":15},\"zerolinecolor\":\"white\",\"zerolinewidth\":2},\"yaxis\":{\"automargin\":true,\"gridcolor\":\"white\",\"linecolor\":\"white\",\"ticks\":\"\",\"title\":{\"standoff\":15},\"zerolinecolor\":\"white\",\"zerolinewidth\":2}}},\"xaxis\":{\"anchor\":\"y\",\"domain\":[0.0,1.0],\"title\":{\"text\":\"firm_names\"}},\"yaxis\":{\"anchor\":\"x\",\"domain\":[0.0,1.0],\"title\":{\"text\":\"value\"}},\"legend\":{\"title\":{\"text\":\"variable\"},\"tracegroupgap\":0},\"title\":{\"text\":\"top 5 firms\"},\"barmode\":\"relative\",\"width\":700},                        {\"responsive\": true}                    ).then(function(){\n",
       "                            \n",
       "var gd = document.getElementById('cdbfe440-110e-4a6f-9c03-6f314a7765cf');\n",
       "var x = new MutationObserver(function (mutations, observer) {{\n",
       "        var display = window.getComputedStyle(gd).display;\n",
       "        if (!display || display === 'none') {{\n",
       "            console.log([gd, 'removed!']);\n",
       "            Plotly.purge(gd);\n",
       "            observer.disconnect();\n",
       "        }}\n",
       "}});\n",
       "\n",
       "// Listen for the removal of the full notebook cells\n",
       "var notebookContainer = gd.closest('#notebook-container');\n",
       "if (notebookContainer) {{\n",
       "    x.observe(notebookContainer, {childList: true});\n",
       "}}\n",
       "\n",
       "// Listen for the clearing of the current output cell\n",
       "var outputEl = gd.closest('.output');\n",
       "if (outputEl) {{\n",
       "    x.observe(outputEl, {childList: true});\n",
       "}}\n",
       "\n",
       "                        })                };                });            </script>        </div>"
      ]
     },
     "metadata": {},
     "output_type": "display_data"
    }
   ],
   "source": [
    "px.bar(top_5, 'firm_names', ['star_rating', 'review'],\n",
    "      width = 700, title = 'top 5 firms')"
   ]
  },
  {
   "cell_type": "code",
   "execution_count": null,
   "id": "9e1cdbfa",
   "metadata": {},
   "outputs": [],
   "source": []
  }
 ],
 "metadata": {
  "kernelspec": {
   "display_name": "Python 3 (ipykernel)",
   "language": "python",
   "name": "python3"
  },
  "language_info": {
   "codemirror_mode": {
    "name": "ipython",
    "version": 3
   },
   "file_extension": ".py",
   "mimetype": "text/x-python",
   "name": "python",
   "nbconvert_exporter": "python",
   "pygments_lexer": "ipython3",
   "version": "3.9.12"
  }
 },
 "nbformat": 4,
 "nbformat_minor": 5
}
